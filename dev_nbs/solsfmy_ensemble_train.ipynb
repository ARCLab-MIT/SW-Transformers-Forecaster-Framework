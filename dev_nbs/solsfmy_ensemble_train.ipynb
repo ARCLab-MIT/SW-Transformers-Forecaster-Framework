{
 "cells": [
  {
   "cell_type": "code",
   "execution_count": 1,
   "metadata": {},
   "outputs": [],
   "source": [
    "import sys\n",
    "sys.path.append('..')\n",
    "import sklearn\n",
    "from tsai.basics import *\n",
    "from swdf.losses import *\n",
    "from fastai.callback.wandb import WandbCallback\n",
    "from fastai.callback.progress import ShowGraphCallback\n"
   ]
  },
  {
   "cell_type": "code",
   "execution_count": 2,
   "metadata": {},
   "outputs": [
    {
     "data": {
      "text/markdown": [
       "```json\n",
       "{ 'add_time_channels': False,\n",
       "  'arch': { 'decomposition': True,\n",
       "            'individual': True,\n",
       "            'padding_patch': True,\n",
       "            'revin': True},\n",
       "  'arch_config_file': 'config/patchtst.yaml',\n",
       "  'arch_name': 'PatchTST',\n",
       "  'bs': 32,\n",
       "  'data_columns_fcst': ['F10', 'S10', 'M10', 'Y10'],\n",
       "  'data_path': '../data/SOLFSMY.TXT',\n",
       "  'data_url': 'https://sol.spacenvironment.net/jb2008/indices/SOLFSMY.TXT',\n",
       "  'horizon': 6,\n",
       "  'init_weights': False,\n",
       "  'lookback': 36,\n",
       "  'lr_max': None,\n",
       "  'n_epoch': 30,\n",
       "  'partial_n': 0.1,\n",
       "  'seed': 42,\n",
       "  'test_end_datetime': '2018-12-31 12:00:00',\n",
       "  'test_start_datetime': '2012-10-01 12:00:00',\n",
       "  'wandb': { 'enabled': False,\n",
       "             'group': None,\n",
       "             'log_learner': True,\n",
       "             'mode': 'offline',\n",
       "             'project': 'swdf'}}\n",
       "```"
      ],
      "text/plain": [
       "{'arch_name': 'PatchTST',\n",
       " 'arch_config_file': 'config/patchtst.yaml',\n",
       " 'bs': 32,\n",
       " 'horizon': 6,\n",
       " 'init_weights': False,\n",
       " 'lookback': 36,\n",
       " 'lr_max': None,\n",
       " 'n_epoch': 30,\n",
       " 'partial_n': 0.1,\n",
       " 'seed': 42,\n",
       " 'test_start_datetime': '2012-10-01 12:00:00',\n",
       " 'test_end_datetime': '2018-12-31 12:00:00',\n",
       " 'wandb': {'enabled': False,\n",
       "  'log_learner': True,\n",
       "  'mode': 'offline',\n",
       "  'group': None,\n",
       "  'project': 'swdf'},\n",
       " 'add_time_channels': False,\n",
       " 'data_columns_fcst': ['F10', 'S10', 'M10', 'Y10'],\n",
       " 'data_url': 'https://sol.spacenvironment.net/jb2008/indices/SOLFSMY.TXT',\n",
       " 'data_path': '../data/SOLFSMY.TXT',\n",
       " 'arch': {'decomposition': True,\n",
       "  'individual': True,\n",
       "  'padding_patch': True,\n",
       "  'revin': True}}"
      ]
     },
     "execution_count": 2,
     "metadata": {},
     "output_type": "execute_result"
    }
   ],
   "source": [
    "config_base = yaml2dict('./config/base.yaml', attrdict=True)\n",
    "config_solfsmy = yaml2dict('./config/solfsmy.yaml', attrdict=True)\n",
    "config_solfsmy = config_solfsmy.train\n",
    "# Merge the two configs (the second one overrides the first one for any keys that are present in both)\n",
    "config = AttrDict({**config_base, **config_solfsmy})\n",
    "# Add the architecture config\n",
    "if config.arch_name.lower() == 'patchtst':\n",
    "    config.arch = yaml2dict('./config/patchtst.yaml', attrdict=True)\n",
    "else:\n",
    "    config.arch = AttrDict()\n",
    "config"
   ]
  },
  {
   "cell_type": "code",
   "execution_count": 3,
   "metadata": {},
   "outputs": [],
   "source": [
    "X = load_object(\"tmp/data/X_values.pkl\")\n",
    "y = load_object(\"tmp/data/y_values.pkl\")\n",
    "splits = load_object(\"tmp/data/splits.pkl\")\n",
    "\n",
    "ranges = load_object(\"tmp/loss_param/ranges.pkl\")\n",
    "solact_distribution = load_object(\"tmp/loss_param/solact_distribution.pkl\")\n",
    "\n",
    "preproc_pipe = load_object(\"tmp/pipes/preproc_pipe.pkl\")\n",
    "exp_pipe = load_object(\"tmp/pipes/exp_pipe.pkl\")\n",
    "\n",
    "solact_levels = ['F10', 'S10', 'M10', 'Y10']"
   ]
  },
  {
   "cell_type": "code",
   "execution_count": 4,
   "metadata": {},
   "outputs": [
    {
     "ename": "TypeError",
     "evalue": "HubberLoss.__init__() got multiple values for argument 'delta'",
     "output_type": "error",
     "traceback": [
      "\u001b[0;31m---------------------------------------------------------------------------\u001b[0m",
      "\u001b[0;31mTypeError\u001b[0m                                 Traceback (most recent call last)",
      "Cell \u001b[0;32mIn[4], line 2\u001b[0m\n\u001b[1;32m      1\u001b[0m device \u001b[38;5;241m=\u001b[39m torch\u001b[38;5;241m.\u001b[39mdevice(\u001b[38;5;124m'\u001b[39m\u001b[38;5;124mcuda:0\u001b[39m\u001b[38;5;124m'\u001b[39m \u001b[38;5;28;01mif\u001b[39;00m torch\u001b[38;5;241m.\u001b[39mcuda\u001b[38;5;241m.\u001b[39mis_available() \u001b[38;5;28;01melse\u001b[39;00m \u001b[38;5;124m'\u001b[39m\u001b[38;5;124mcpu\u001b[39m\u001b[38;5;124m'\u001b[39m)\n\u001b[0;32m----> 2\u001b[0m loss \u001b[38;5;241m=\u001b[39m \u001b[43mHubberLoss\u001b[49m\u001b[43m(\u001b[49m\u001b[43mranges\u001b[49m\u001b[43m,\u001b[49m\u001b[43m \u001b[49m\u001b[43msolact_distribution\u001b[49m\u001b[43m,\u001b[49m\u001b[43m \u001b[49m\u001b[43mdelta\u001b[49m\u001b[38;5;241;43m=\u001b[39;49m\u001b[38;5;241;43m10.\u001b[39;49m\u001b[43m)\u001b[49m\u001b[38;5;241m.\u001b[39mto(device)\n\u001b[1;32m      3\u001b[0m metrics \u001b[38;5;241m=\u001b[39m LossMetrics(loss)\u001b[38;5;241m.\u001b[39mmetrics()\n\u001b[1;32m      5\u001b[0m wandb_callback \u001b[38;5;241m=\u001b[39m WandbCallback(log_preds\u001b[38;5;241m=\u001b[39m\u001b[38;5;28;01mFalse\u001b[39;00m)\n",
      "\u001b[0;31mTypeError\u001b[0m: HubberLoss.__init__() got multiple values for argument 'delta'"
     ]
    }
   ],
   "source": [
    "device = torch.device('cuda:0' if torch.cuda.is_available() else 'cpu')\n",
    "loss = HubberLoss(ranges, solact_distribution, delta=10.).to(device)\n",
    "metrics = LossMetrics(loss).metrics()\n",
    "\n",
    "wandb_callback = WandbCallback(log_preds=False)\n",
    "cbs = L(wandb_callback) if config.wandb.enabled else L()\n",
    "learn_wMSE = TSForecaster(X, y, splits=splits, batch_size=config.bs,\n",
    "                     pipelines=[preproc_pipe, exp_pipe], \n",
    "                     arch=config.arch_name, \n",
    "                     metrics=metrics,\n",
    "                     loss_func=loss,\n",
    "                     arch_config=dict(config.arch), \n",
    "                     init=config.init_weights,\n",
    "                     cbs= cbs + ShowGraphCallback(), \n",
    "                     partial_n=config.partial_n)\n",
    "lr_max = learn_wMSE.lr_find().valley if config.lr_max is None else config.lr_max\n",
    "\n",
    "learn_wMSE.fit_one_cycle(n_epoch=config.n_epoch, lr_max=config.lr_max)\n",
    "print(f\"#params: {sum(p.numel() for p in learn_wMSE.model.parameters())}\") "
   ]
  },
  {
   "cell_type": "code",
   "execution_count": null,
   "metadata": {},
   "outputs": [
    {
     "data": {
      "text/html": [
       "\n",
       "<style>\n",
       "    /* Turns off some styling */\n",
       "    progress {\n",
       "        /* gets rid of default border in Firefox and Opera. */\n",
       "        border: none;\n",
       "        /* Needs to be in here for Safari polyfill so background images work as expected. */\n",
       "        background-size: auto;\n",
       "    }\n",
       "    progress:not([value]), progress:not([value])::-webkit-progress-bar {\n",
       "        background: repeating-linear-gradient(45deg, #7e7e7e, #7e7e7e 10px, #5c5c5c 10px, #5c5c5c 20px);\n",
       "    }\n",
       "    .progress-bar-interrupted, .progress-bar-interrupted::-webkit-progress-bar {\n",
       "        background: #F44336;\n",
       "    }\n",
       "</style>\n"
      ],
      "text/plain": [
       "<IPython.core.display.HTML object>"
      ]
     },
     "metadata": {},
     "output_type": "display_data"
    },
    {
     "data": {
      "text/html": [],
      "text/plain": [
       "<IPython.core.display.HTML object>"
      ]
     },
     "metadata": {},
     "output_type": "display_data"
    },
    {
     "data": {
      "text/html": [
       "\n",
       "<style>\n",
       "    /* Turns off some styling */\n",
       "    progress {\n",
       "        /* gets rid of default border in Firefox and Opera. */\n",
       "        border: none;\n",
       "        /* Needs to be in here for Safari polyfill so background images work as expected. */\n",
       "        background-size: auto;\n",
       "    }\n",
       "    progress:not([value]), progress:not([value])::-webkit-progress-bar {\n",
       "        background: repeating-linear-gradient(45deg, #7e7e7e, #7e7e7e 10px, #5c5c5c 10px, #5c5c5c 20px);\n",
       "    }\n",
       "    .progress-bar-interrupted, .progress-bar-interrupted::-webkit-progress-bar {\n",
       "        background: #F44336;\n",
       "    }\n",
       "</style>\n"
      ],
      "text/plain": [
       "<IPython.core.display.HTML object>"
      ]
     },
     "metadata": {},
     "output_type": "display_data"
    },
    {
     "data": {
      "text/html": [
       "<table border=\"1\" class=\"dataframe\">\n",
       "  <thead>\n",
       "    <tr style=\"text-align: left;\">\n",
       "      <th>epoch</th>\n",
       "      <th>train_loss</th>\n",
       "      <th>valid_loss</th>\n",
       "      <th>avg_count_low</th>\n",
       "      <th>avg_count_moderate</th>\n",
       "      <th>avg_count_elevated</th>\n",
       "      <th>avg_count_high</th>\n",
       "      <th>time</th>\n",
       "    </tr>\n",
       "  </thead>\n",
       "  <tbody>\n",
       "    <tr>\n",
       "      <td>0</td>\n",
       "      <td>205.695801</td>\n",
       "      <td>224.925522</td>\n",
       "      <td>28.945970</td>\n",
       "      <td>43.280779</td>\n",
       "      <td>20.662533</td>\n",
       "      <td>0.000000</td>\n",
       "      <td>00:00</td>\n",
       "    </tr>\n",
       "    <tr>\n",
       "      <td>1</td>\n",
       "      <td>172.007706</td>\n",
       "      <td>224.365952</td>\n",
       "      <td>25.012400</td>\n",
       "      <td>35.926484</td>\n",
       "      <td>18.224978</td>\n",
       "      <td>0.000000</td>\n",
       "      <td>00:00</td>\n",
       "    </tr>\n",
       "    <tr>\n",
       "      <td>2</td>\n",
       "      <td>154.520477</td>\n",
       "      <td>308.558624</td>\n",
       "      <td>35.720992</td>\n",
       "      <td>41.843224</td>\n",
       "      <td>18.253322</td>\n",
       "      <td>0.000000</td>\n",
       "      <td>00:00</td>\n",
       "    </tr>\n",
       "    <tr>\n",
       "      <td>3</td>\n",
       "      <td>161.978989</td>\n",
       "      <td>252.091309</td>\n",
       "      <td>27.957484</td>\n",
       "      <td>37.777679</td>\n",
       "      <td>20.407440</td>\n",
       "      <td>0.000000</td>\n",
       "      <td>00:00</td>\n",
       "    </tr>\n",
       "    <tr>\n",
       "      <td>4</td>\n",
       "      <td>163.337418</td>\n",
       "      <td>337.072418</td>\n",
       "      <td>29.320638</td>\n",
       "      <td>39.512843</td>\n",
       "      <td>25.679362</td>\n",
       "      <td>0.000000</td>\n",
       "      <td>00:00</td>\n",
       "    </tr>\n",
       "    <tr>\n",
       "      <td>5</td>\n",
       "      <td>163.476013</td>\n",
       "      <td>244.398392</td>\n",
       "      <td>28.277236</td>\n",
       "      <td>36.659876</td>\n",
       "      <td>17.459699</td>\n",
       "      <td>0.000000</td>\n",
       "      <td>00:00</td>\n",
       "    </tr>\n",
       "    <tr>\n",
       "      <td>6</td>\n",
       "      <td>161.764313</td>\n",
       "      <td>509.675049</td>\n",
       "      <td>30.342781</td>\n",
       "      <td>44.665190</td>\n",
       "      <td>37.186891</td>\n",
       "      <td>0.000000</td>\n",
       "      <td>00:00</td>\n",
       "    </tr>\n",
       "    <tr>\n",
       "      <td>7</td>\n",
       "      <td>157.552032</td>\n",
       "      <td>266.052948</td>\n",
       "      <td>35.649247</td>\n",
       "      <td>38.773251</td>\n",
       "      <td>13.831709</td>\n",
       "      <td>0.000000</td>\n",
       "      <td>00:00</td>\n",
       "    </tr>\n",
       "    <tr>\n",
       "      <td>8</td>\n",
       "      <td>168.583984</td>\n",
       "      <td>252.537064</td>\n",
       "      <td>22.849424</td>\n",
       "      <td>43.911426</td>\n",
       "      <td>29.165633</td>\n",
       "      <td>0.000000</td>\n",
       "      <td>00:00</td>\n",
       "    </tr>\n",
       "    <tr>\n",
       "      <td>9</td>\n",
       "      <td>177.792862</td>\n",
       "      <td>549.360657</td>\n",
       "      <td>44.935341</td>\n",
       "      <td>48.726306</td>\n",
       "      <td>24.205492</td>\n",
       "      <td>0.000000</td>\n",
       "      <td>00:00</td>\n",
       "    </tr>\n",
       "    <tr>\n",
       "      <td>10</td>\n",
       "      <td>188.483795</td>\n",
       "      <td>503.913910</td>\n",
       "      <td>54.767936</td>\n",
       "      <td>49.709477</td>\n",
       "      <td>16.099203</td>\n",
       "      <td>0.000000</td>\n",
       "      <td>00:00</td>\n",
       "    </tr>\n",
       "    <tr>\n",
       "      <td>11</td>\n",
       "      <td>200.567856</td>\n",
       "      <td>1066.706421</td>\n",
       "      <td>40.711249</td>\n",
       "      <td>58.770593</td>\n",
       "      <td>60.970771</td>\n",
       "      <td>0.000000</td>\n",
       "      <td>00:00</td>\n",
       "    </tr>\n",
       "    <tr>\n",
       "      <td>12</td>\n",
       "      <td>199.451843</td>\n",
       "      <td>236.820618</td>\n",
       "      <td>32.241807</td>\n",
       "      <td>40.733392</td>\n",
       "      <td>14.171833</td>\n",
       "      <td>0.000000</td>\n",
       "      <td>00:00</td>\n",
       "    </tr>\n",
       "    <tr>\n",
       "      <td>13</td>\n",
       "      <td>188.494324</td>\n",
       "      <td>272.949585</td>\n",
       "      <td>30.186005</td>\n",
       "      <td>44.016829</td>\n",
       "      <td>21.116032</td>\n",
       "      <td>0.000000</td>\n",
       "      <td>00:00</td>\n",
       "    </tr>\n",
       "    <tr>\n",
       "      <td>14</td>\n",
       "      <td>174.151749</td>\n",
       "      <td>210.836685</td>\n",
       "      <td>22.581045</td>\n",
       "      <td>42.263065</td>\n",
       "      <td>19.982285</td>\n",
       "      <td>0.000000</td>\n",
       "      <td>00:00</td>\n",
       "    </tr>\n",
       "    <tr>\n",
       "      <td>15</td>\n",
       "      <td>157.848907</td>\n",
       "      <td>190.440567</td>\n",
       "      <td>26.108060</td>\n",
       "      <td>35.781222</td>\n",
       "      <td>15.192205</td>\n",
       "      <td>0.000000</td>\n",
       "      <td>00:00</td>\n",
       "    </tr>\n",
       "    <tr>\n",
       "      <td>16</td>\n",
       "      <td>161.257248</td>\n",
       "      <td>224.269073</td>\n",
       "      <td>25.435784</td>\n",
       "      <td>38.676705</td>\n",
       "      <td>20.719221</td>\n",
       "      <td>0.000000</td>\n",
       "      <td>00:00</td>\n",
       "    </tr>\n",
       "    <tr>\n",
       "      <td>17</td>\n",
       "      <td>160.777725</td>\n",
       "      <td>188.018784</td>\n",
       "      <td>23.374668</td>\n",
       "      <td>38.368468</td>\n",
       "      <td>16.297609</td>\n",
       "      <td>0.000000</td>\n",
       "      <td>00:00</td>\n",
       "    </tr>\n",
       "    <tr>\n",
       "      <td>18</td>\n",
       "      <td>149.928619</td>\n",
       "      <td>189.334778</td>\n",
       "      <td>23.341895</td>\n",
       "      <td>35.809566</td>\n",
       "      <td>18.338353</td>\n",
       "      <td>0.000000</td>\n",
       "      <td>00:00</td>\n",
       "    </tr>\n",
       "    <tr>\n",
       "      <td>19</td>\n",
       "      <td>148.296143</td>\n",
       "      <td>196.400879</td>\n",
       "      <td>22.896368</td>\n",
       "      <td>44.649247</td>\n",
       "      <td>17.799823</td>\n",
       "      <td>0.000000</td>\n",
       "      <td>00:00</td>\n",
       "    </tr>\n",
       "    <tr>\n",
       "      <td>20</td>\n",
       "      <td>138.432709</td>\n",
       "      <td>170.552689</td>\n",
       "      <td>23.015943</td>\n",
       "      <td>38.619132</td>\n",
       "      <td>13.803366</td>\n",
       "      <td>0.000000</td>\n",
       "      <td>00:00</td>\n",
       "    </tr>\n",
       "    <tr>\n",
       "      <td>21</td>\n",
       "      <td>138.987137</td>\n",
       "      <td>179.608261</td>\n",
       "      <td>23.577502</td>\n",
       "      <td>39.567759</td>\n",
       "      <td>12.669619</td>\n",
       "      <td>0.000000</td>\n",
       "      <td>00:00</td>\n",
       "    </tr>\n",
       "    <tr>\n",
       "      <td>22</td>\n",
       "      <td>130.509354</td>\n",
       "      <td>213.715256</td>\n",
       "      <td>26.003543</td>\n",
       "      <td>39.114260</td>\n",
       "      <td>13.519929</td>\n",
       "      <td>0.000000</td>\n",
       "      <td>00:00</td>\n",
       "    </tr>\n",
       "    <tr>\n",
       "      <td>23</td>\n",
       "      <td>132.363495</td>\n",
       "      <td>169.576874</td>\n",
       "      <td>19.052259</td>\n",
       "      <td>37.724535</td>\n",
       "      <td>19.472099</td>\n",
       "      <td>0.000000</td>\n",
       "      <td>00:00</td>\n",
       "    </tr>\n",
       "    <tr>\n",
       "      <td>24</td>\n",
       "      <td>124.474365</td>\n",
       "      <td>165.986984</td>\n",
       "      <td>21.427812</td>\n",
       "      <td>36.563330</td>\n",
       "      <td>16.581045</td>\n",
       "      <td>0.000000</td>\n",
       "      <td>00:00</td>\n",
       "    </tr>\n",
       "    <tr>\n",
       "      <td>25</td>\n",
       "      <td>118.101486</td>\n",
       "      <td>158.426895</td>\n",
       "      <td>20.161205</td>\n",
       "      <td>35.720992</td>\n",
       "      <td>16.722764</td>\n",
       "      <td>0.000000</td>\n",
       "      <td>00:00</td>\n",
       "    </tr>\n",
       "    <tr>\n",
       "      <td>26</td>\n",
       "      <td>110.173889</td>\n",
       "      <td>157.408112</td>\n",
       "      <td>20.517272</td>\n",
       "      <td>34.247121</td>\n",
       "      <td>15.645704</td>\n",
       "      <td>0.000000</td>\n",
       "      <td>00:00</td>\n",
       "    </tr>\n",
       "    <tr>\n",
       "      <td>27</td>\n",
       "      <td>115.333977</td>\n",
       "      <td>155.791519</td>\n",
       "      <td>20.808680</td>\n",
       "      <td>34.692648</td>\n",
       "      <td>15.050487</td>\n",
       "      <td>0.000000</td>\n",
       "      <td>00:00</td>\n",
       "    </tr>\n",
       "    <tr>\n",
       "      <td>28</td>\n",
       "      <td>114.967720</td>\n",
       "      <td>156.504471</td>\n",
       "      <td>21.363153</td>\n",
       "      <td>34.919398</td>\n",
       "      <td>14.256864</td>\n",
       "      <td>0.000000</td>\n",
       "      <td>00:00</td>\n",
       "    </tr>\n",
       "    <tr>\n",
       "      <td>29</td>\n",
       "      <td>106.871323</td>\n",
       "      <td>153.667496</td>\n",
       "      <td>19.197520</td>\n",
       "      <td>35.550930</td>\n",
       "      <td>16.382640</td>\n",
       "      <td>0.000000</td>\n",
       "      <td>00:00</td>\n",
       "    </tr>\n",
       "  </tbody>\n",
       "</table>"
      ],
      "text/plain": [
       "<IPython.core.display.HTML object>"
      ]
     },
     "metadata": {},
     "output_type": "display_data"
    },
    {
     "data": {
      "image/png": "[encoded data removed]",
      "text/plain": [
       "<Figure size 600x400 with 1 Axes>"
      ]
     },
     "metadata": {},
     "output_type": "display_data"
    },
    {
     "name": "stdout",
     "output_type": "stream",
     "text": [
      "#params: 12729412\n"
     ]
    },
    {
     "data": {
      "image/png": "[encoded data removed]",
      "text/plain": [
       "<Figure size 640x480 with 1 Axes>"
      ]
     },
     "metadata": {},
     "output_type": "display_data"
    }
   ],
   "source": [
    "loss = wMSLELoss(ranges,).to(device)\n",
    "metrics = LossMetrics(loss).metrics()\n",
    "\n",
    "learn_wMAE = TSForecaster(X, y, splits=splits, batch_size=config.bs,\n",
    "                     pipelines=[preproc_pipe, exp_pipe], \n",
    "                     arch=config.arch_name, \n",
    "                     metrics=metrics,\n",
    "                     loss_func=loss,\n",
    "                     arch_config=dict(config.arch), \n",
    "                     init=config.init_weights,\n",
    "                     cbs= cbs + ShowGraphCallback(), \n",
    "                     partial_n=config.partial_n)\n",
    "lr_max = learn_wMAE.lr_find().valley if config.lr_max is None else config.lr_max\n",
    "\n",
    "learn_wMAE.fit_one_cycle(n_epoch=config.n_epoch, lr_max=config.lr_max)\n",
    "print(f\"#params: {sum(p.numel() for p in learn_wMAE.model.parameters())}\")"
   ]
  },
  {
   "cell_type": "code",
   "execution_count": null,
   "metadata": {},
   "outputs": [
    {
     "data": {
      "text/html": [
       "\n",
       "<style>\n",
       "    /* Turns off some styling */\n",
       "    progress {\n",
       "        /* gets rid of default border in Firefox and Opera. */\n",
       "        border: none;\n",
       "        /* Needs to be in here for Safari polyfill so background images work as expected. */\n",
       "        background-size: auto;\n",
       "    }\n",
       "    progress:not([value]), progress:not([value])::-webkit-progress-bar {\n",
       "        background: repeating-linear-gradient(45deg, #7e7e7e, #7e7e7e 10px, #5c5c5c 10px, #5c5c5c 20px);\n",
       "    }\n",
       "    .progress-bar-interrupted, .progress-bar-interrupted::-webkit-progress-bar {\n",
       "        background: #F44336;\n",
       "    }\n",
       "</style>\n"
      ],
      "text/plain": [
       "<IPython.core.display.HTML object>"
      ]
     },
     "metadata": {},
     "output_type": "display_data"
    },
    {
     "data": {
      "text/html": [],
      "text/plain": [
       "<IPython.core.display.HTML object>"
      ]
     },
     "metadata": {},
     "output_type": "display_data"
    },
    {
     "data": {
      "text/html": [
       "\n",
       "<style>\n",
       "    /* Turns off some styling */\n",
       "    progress {\n",
       "        /* gets rid of default border in Firefox and Opera. */\n",
       "        border: none;\n",
       "        /* Needs to be in here for Safari polyfill so background images work as expected. */\n",
       "        background-size: auto;\n",
       "    }\n",
       "    progress:not([value]), progress:not([value])::-webkit-progress-bar {\n",
       "        background: repeating-linear-gradient(45deg, #7e7e7e, #7e7e7e 10px, #5c5c5c 10px, #5c5c5c 20px);\n",
       "    }\n",
       "    .progress-bar-interrupted, .progress-bar-interrupted::-webkit-progress-bar {\n",
       "        background: #F44336;\n",
       "    }\n",
       "</style>\n"
      ],
      "text/plain": [
       "<IPython.core.display.HTML object>"
      ]
     },
     "metadata": {},
     "output_type": "display_data"
    },
    {
     "data": {
      "text/html": [],
      "text/plain": [
       "<IPython.core.display.HTML object>"
      ]
     },
     "metadata": {},
     "output_type": "display_data"
    },
    {
     "name": "stdout",
     "output_type": "stream",
     "text": [
      "78.25165903568268\n",
      "Stored 'valid_loss' (float)\n"
     ]
    }
   ],
   "source": [
    "# Print the validation loss and save it in case other notebooks (optuna) wants to\n",
    "# use it for hyperparameter optimization\n",
    "valid_loss = (learn_wMSE.validate()[0] + learn_wMAE.validate()[0]) / 2\n",
    "print(valid_loss)\n",
    "%store valid_loss"
   ]
  },
  {
   "cell_type": "code",
   "execution_count": null,
   "metadata": {},
   "outputs": [
    {
     "data": {
      "text/html": [
       "\n",
       "<style>\n",
       "    /* Turns off some styling */\n",
       "    progress {\n",
       "        /* gets rid of default border in Firefox and Opera. */\n",
       "        border: none;\n",
       "        /* Needs to be in here for Safari polyfill so background images work as expected. */\n",
       "        background-size: auto;\n",
       "    }\n",
       "    progress:not([value]), progress:not([value])::-webkit-progress-bar {\n",
       "        background: repeating-linear-gradient(45deg, #7e7e7e, #7e7e7e 10px, #5c5c5c 10px, #5c5c5c 20px);\n",
       "    }\n",
       "    .progress-bar-interrupted, .progress-bar-interrupted::-webkit-progress-bar {\n",
       "        background: #F44336;\n",
       "    }\n",
       "</style>\n"
      ],
      "text/plain": [
       "<IPython.core.display.HTML object>"
      ]
     },
     "metadata": {},
     "output_type": "display_data"
    },
    {
     "data": {
      "text/html": [],
      "text/plain": [
       "<IPython.core.display.HTML object>"
      ]
     },
     "metadata": {},
     "output_type": "display_data"
    },
    {
     "data": {
      "text/html": [
       "\n",
       "<style>\n",
       "    /* Turns off some styling */\n",
       "    progress {\n",
       "        /* gets rid of default border in Firefox and Opera. */\n",
       "        border: none;\n",
       "        /* Needs to be in here for Safari polyfill so background images work as expected. */\n",
       "        background-size: auto;\n",
       "    }\n",
       "    progress:not([value]), progress:not([value])::-webkit-progress-bar {\n",
       "        background: repeating-linear-gradient(45deg, #7e7e7e, #7e7e7e 10px, #5c5c5c 10px, #5c5c5c 20px);\n",
       "    }\n",
       "    .progress-bar-interrupted, .progress-bar-interrupted::-webkit-progress-bar {\n",
       "        background: #F44336;\n",
       "    }\n",
       "</style>\n"
      ],
      "text/plain": [
       "<IPython.core.display.HTML object>"
      ]
     },
     "metadata": {},
     "output_type": "display_data"
    },
    {
     "data": {
      "text/html": [],
      "text/plain": [
       "<IPython.core.display.HTML object>"
      ]
     },
     "metadata": {},
     "output_type": "display_data"
    },
    {
     "name": "stdout",
     "output_type": "stream",
     "text": [
      "47.352757692337036\n"
     ]
    }
   ],
   "source": [
    "# Log the test loss to wandb\n",
    "test_loss = (learn_wMSE.validate(ds_idx=2)[0] + learn_wMAE.validate(ds_idx=2)[0]) / 2\n",
    "print(test_loss)"
   ]
  },
  {
   "cell_type": "code",
   "execution_count": null,
   "metadata": {},
   "outputs": [
    {
     "name": "stdout",
     "output_type": "stream",
     "text": [
      "Learner saved:\n",
      "path          = 'tmp'\n",
      "dls_fname     = '['dls_0.pth', 'dls_1.pth', 'dls_2.pth', 'dls_3.pth']'\n",
      "model_fname   = 'model_wMAE.pth'\n",
      "learner_fname = 'learner_wMAE.pkl'\n",
      "Learner saved:\n",
      "path          = 'tmp'\n",
      "dls_fname     = '['dls_0.pth', 'dls_1.pth', 'dls_2.pth']'\n",
      "model_fname   = 'model_wMSE.pth'\n",
      "learner_fname = 'learner_wMSE.pkl'\n"
     ]
    }
   ],
   "source": [
    "# Save everything\n",
    "learn_wMAE.dls.loaders += [learn_wMAE.dls.valid.new_dl(X[splits[2]], y[splits[2]])] # Add test datalaoder\n",
    "\n",
    "# Remove the wandb callback to avoid errors when downloading the learner\n",
    "if config.wandb.enabled:\n",
    "    learn_wMAE.remove_cb(wandb_callback)\n",
    "\n",
    "# Save locally and in wandb if online and enabled\n",
    "learn_wMAE.save_all(path='tmp', verbose=True, model_fname=\"model_wMAE\", learner_fname=\"learner_wMAE\") \n",
    "learn_wMSE.save_all(path='tmp', verbose=True, model_fname=\"model_wMSE\", learner_fname=\"learner_wMSE\") "
   ]
  }
 ],
 "metadata": {
  "kernelspec": {
   "display_name": "Python 3",
   "language": "python",
   "name": "python3"
  },
  "language_info": {
   "codemirror_mode": {
    "name": "ipython",
    "version": 3
   },
   "file_extension": ".py",
   "mimetype": "text/x-python",
   "name": "python",
   "nbconvert_exporter": "python",
   "pygments_lexer": "ipython3",
   "version": "3.10.12"
  }
 },
 "nbformat": 4,
 "nbformat_minor": 2
}
