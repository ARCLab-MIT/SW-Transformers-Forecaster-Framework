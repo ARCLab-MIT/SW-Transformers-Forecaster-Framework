{
 "cells": [
  {
   "cell_type": "code",
   "execution_count": 2,
   "metadata": {},
   "outputs": [
    {
     "name": "stdout",
     "output_type": "stream",
     "text": [
      "os              : Linux-6.8.0-41-generic-x86_64-with-glibc2.31\n",
      "python          : 3.10.12\n",
      "tsai            : 0.3.10\n",
      "fastai          : 2.7.15\n",
      "fastcore        : 1.5.49\n",
      "sklearn         : 1.5.1\n",
      "torch           : 2.2.2+cu121\n",
      "device          : 1 gpu (['NVIDIA GeForce RTX 3070 Ti Laptop GPU'])\n",
      "cpu cores       : 14\n",
      "threads per cpu : 1\n",
      "RAM             : 15.28 GB\n",
      "GPU memory      : [8.0] GB\n"
     ]
    }
   ],
   "source": [
    "import sys\n",
    "sys.path.append('..')\n",
    "from swdf.utils import *\n",
    "convert_uuids_to_indices()\n",
    "import sklearn\n",
    "from tsai.basics import *\n",
    "my_setup(sklearn)\n",
    "from matplotlib import dates as mdates\n",
    "import wandb\n",
    "from fastai.callback.wandb import WandbCallback\n",
    "from fastai.callback.progress import ShowGraphCallback\n",
    "from swdf.losses import LossFactory\n",
    "from swdf.metrics import ValidationMetricsHandler, LossMetrics"
   ]
  },
  {
   "cell_type": "code",
   "execution_count": 3,
   "metadata": {},
   "outputs": [],
   "source": [
    "# This is only needed for the MIT supercloud, to fix fastai's LRFinder error \n",
    "if torch.cuda.is_available() and torch.cuda.device_count() == 0:\n",
    "    from fastai.callback.schedule import LRFinder\n",
    "\n",
    "    @patch_to(LRFinder)\n",
    "    def after_fit(self):\n",
    "        self.learn.opt.zero_grad() # Needed before detaching the optimizer for future fits\n",
    "        tmp_f = self.path/self.model_dir/self.tmp_p/'_tmp.pth'\n",
    "        if tmp_f.exists():\n",
    "            self.learn.load(f'{self.tmp_p}/_tmp', with_opt=True, device='cpu')\n",
    "            self.tmp_d.cleanup()"
   ]
  },
  {
   "cell_type": "markdown",
   "metadata": {},
   "source": [
    "# Training the Geomagnetic Indices Dst and Ap Forecaster\n",
    "\n",
    "In this notebook, we implement the training process for the forecaster of the Ap and Dst indices together. We use the PatchTST architecture, which has been discussed previously. For further details about the architecture and training process, please refer to the `solfsmy_train` notebook, where a similar approach is followed. Additionally, for more information on these indices, you can consult the `geodst_data` and `geoap_data` notebooks.\n",
    "\n",
    "The reason for merging these two indices is that they are related, as both measure the same phenomenon. This relationship could allow the model to leverage information from one index to benefit the other. With that in mind, let's dive into the training process.\n"
   ]
  },
  {
   "cell_type": "code",
   "execution_count": 4,
   "metadata": {},
   "outputs": [],
   "source": [
    "config_base = yaml2dict('./config/base.yaml', attrdict=True)\n",
    "config_dstap = yaml2dict('./config/geodstap.yaml', attrdict=True)\n",
    "config_train = config_dstap.train\n",
    "config_data = config_dstap.data\n",
    "\n",
    "# Merge the two configs (the second one overrides the first one for any keys that are present in both)\n",
    "config = AttrDict({**config_base,\n",
    "                   **config_train, \n",
    "                   \"data\":AttrDict({**config_data})})\n",
    "\n",
    "# Add the architecture config\n",
    "if config.arch_name.lower() == 'patchtst':\n",
    "    config.arch = yaml2dict('./config/patchtst.yaml', attrdict=True)\n",
    "else:\n",
    "    config.arch = AttrDict()"
   ]
  },
  {
   "cell_type": "code",
   "execution_count": 5,
   "metadata": {},
   "outputs": [],
   "source": [
    "run = wandb.init(project=config.wandb.project, \n",
    "                 config=config,\n",
    "                 group=config.wandb.group,\n",
    "                 mode=config.wandb.mode, \n",
    "                 anonymous='never') if config.wandb.enabled else None\n",
    "config = dict2attrdict(run.config) if config.wandb.enabled else config"
   ]
  },
  {
   "cell_type": "code",
   "execution_count": 6,
   "metadata": {
    "tags": [
     "parameters"
    ]
   },
   "outputs": [
    {
     "data": {
      "text/markdown": [
       "```json\n",
       "{ 'arch': { 'd_model': 1024,\n",
       "            'decomposition': True,\n",
       "            'dropout': 0.4,\n",
       "            'individual': True,\n",
       "            'n_heads': 16,\n",
       "            'padding_patch': True,\n",
       "            'revin': True},\n",
       "  'arch_config_file': 'config/patchtst.yaml',\n",
       "  'arch_name': 'PatchTST',\n",
       "  'bs': 128,\n",
       "  'data': { 'add_time_channels': False,\n",
       "            'ap_config': './config/geoap.yaml',\n",
       "            'data_columns': ['DST', 'AP'],\n",
       "            'data_nb': './geodstap_data.ipynb',\n",
       "            'df_save_path': './preprocessed_data/dataframes/geodstap.pkl',\n",
       "            'dst_config': './config/geodst.yaml',\n",
       "            'exp_pipe_save_path': './preprocessed_data/pipelines/exp_geodstap.pkl',\n",
       "            'preproc_pipe_save_path': './preprocessed_data/pipelines/preproc_geodstap.pkl'},\n",
       "  'horizon': 24,\n",
       "  'init_weights': False,\n",
       "  'is_optuna_study': False,\n",
       "  'lookback': 96,\n",
       "  'loss_config': {},\n",
       "  'loss_func': 'wMSE',\n",
       "  'lr_max': None,\n",
       "  'main_metric': 'default',\n",
       "  'metrics_handler_path': None,\n",
       "  'n_epoch': 30,\n",
       "  'partial_n': 0.1,\n",
       "  'seed': 42,\n",
       "  'test_end_datetime': '2018-12-31 12:00:00',\n",
       "  'test_start_datetime': '2012-10-01 12:00:00',\n",
       "  'valid_start_datetime': '2018-01-01 12:00:00',\n",
       "  'wandb': { 'enabled': False,\n",
       "             'group': None,\n",
       "             'log_learner': True,\n",
       "             'mode': 'offline',\n",
       "             'project': 'swdf'}}\n",
       "```"
      ],
      "text/plain": [
       "{'seed': 42,\n",
       " 'test_start_datetime': '2012-10-01 12:00:00',\n",
       " 'test_end_datetime': '2018-12-31 12:00:00',\n",
       " 'valid_start_datetime': '2018-01-01 12:00:00',\n",
       " 'is_optuna_study': False,\n",
       " 'wandb': {'enabled': False,\n",
       "  'log_learner': True,\n",
       "  'mode': 'offline',\n",
       "  'group': None,\n",
       "  'project': 'swdf'},\n",
       " 'n_epoch': 30,\n",
       " 'partial_n': 0.1,\n",
       " 'arch_name': 'PatchTST',\n",
       " 'arch_config_file': 'config/patchtst.yaml',\n",
       " 'bs': 128,\n",
       " 'horizon': 24,\n",
       " 'init_weights': False,\n",
       " 'lookback': 96,\n",
       " 'lr_max': None,\n",
       " 'metrics_handler_path': None,\n",
       " 'main_metric': 'default',\n",
       " 'loss_func': 'wMSE',\n",
       " 'loss_config': {},\n",
       " 'data': {'dst_config': './config/geodst.yaml',\n",
       "  'ap_config': './config/geoap.yaml',\n",
       "  'data_nb': './geodstap_data.ipynb',\n",
       "  'df_save_path': './preprocessed_data/dataframes/geodstap.pkl',\n",
       "  'preproc_pipe_save_path': './preprocessed_data/pipelines/preproc_geodstap.pkl',\n",
       "  'exp_pipe_save_path': './preprocessed_data/pipelines/exp_geodstap.pkl',\n",
       "  'data_columns': ['DST', 'AP'],\n",
       "  'add_time_channels': False},\n",
       " 'arch': {'d_model': 1024,\n",
       "  'decomposition': True,\n",
       "  'dropout': 0.4,\n",
       "  'individual': True,\n",
       "  'n_heads': 16,\n",
       "  'padding_patch': True,\n",
       "  'revin': True}}"
      ]
     },
     "execution_count": 6,
     "metadata": {},
     "output_type": "execute_result"
    }
   ],
   "source": [
    "config"
   ]
  },
  {
   "cell_type": "code",
   "execution_count": 7,
   "metadata": {},
   "outputs": [
    {
     "data": {
      "text/html": [
       "<div>\n",
       "<style scoped>\n",
       "    .dataframe tbody tr th:only-of-type {\n",
       "        vertical-align: middle;\n",
       "    }\n",
       "\n",
       "    .dataframe tbody tr th {\n",
       "        vertical-align: top;\n",
       "    }\n",
       "\n",
       "    .dataframe thead th {\n",
       "        text-align: right;\n",
       "    }\n",
       "</style>\n",
       "<table border=\"1\" class=\"dataframe\">\n",
       "  <thead>\n",
       "    <tr style=\"text-align: right;\">\n",
       "      <th></th>\n",
       "      <th>Datetime</th>\n",
       "      <th>DST</th>\n",
       "      <th>AP</th>\n",
       "    </tr>\n",
       "  </thead>\n",
       "  <tbody>\n",
       "    <tr>\n",
       "      <th>0</th>\n",
       "      <td>1957-01-01 00:00:00</td>\n",
       "      <td>12.0</td>\n",
       "      <td>2</td>\n",
       "    </tr>\n",
       "    <tr>\n",
       "      <th>1</th>\n",
       "      <td>1957-01-01 03:00:00</td>\n",
       "      <td>9.3</td>\n",
       "      <td>3</td>\n",
       "    </tr>\n",
       "    <tr>\n",
       "      <th>2</th>\n",
       "      <td>1957-01-01 06:00:00</td>\n",
       "      <td>5.0</td>\n",
       "      <td>3</td>\n",
       "    </tr>\n",
       "    <tr>\n",
       "      <th>3</th>\n",
       "      <td>1957-01-01 09:00:00</td>\n",
       "      <td>-5.0</td>\n",
       "      <td>22</td>\n",
       "    </tr>\n",
       "    <tr>\n",
       "      <th>4</th>\n",
       "      <td>1957-01-01 12:00:00</td>\n",
       "      <td>0.0</td>\n",
       "      <td>15</td>\n",
       "    </tr>\n",
       "  </tbody>\n",
       "</table>\n",
       "</div>"
      ],
      "text/plain": [
       "             Datetime   DST  AP\n",
       "0 1957-01-01 00:00:00  12.0   2\n",
       "1 1957-01-01 03:00:00   9.3   3\n",
       "2 1957-01-01 06:00:00   5.0   3\n",
       "3 1957-01-01 09:00:00  -5.0  22\n",
       "4 1957-01-01 12:00:00   0.0  15"
      ]
     },
     "execution_count": 7,
     "metadata": {},
     "output_type": "execute_result"
    }
   ],
   "source": [
    "df, preproc_pipe, exp_pipe = generate_preprocessed_data(config.data)\n",
    "\n",
    "df.head()"
   ]
  },
  {
   "cell_type": "markdown",
   "metadata": {},
   "source": [
    "The data columns configuration is determined by the strategy chosen to address the resolution discrepancy between the indices:\n",
    "\n",
    "- **If Adding Time-Related Data:** When the strategy is to maintain the original distribution of both indices, time-related data (such as Day of Year, DOY) is required.\n",
    "\n",
    "- **If Downgrading Dst Resolution:** If the Dst resolution is downgraded to match the Ap 3-hour distribution, this simplifies computation, and the configuration may not require time-related data.\n"
   ]
  },
  {
   "cell_type": "code",
   "execution_count": 8,
   "metadata": {},
   "outputs": [],
   "source": [
    "data_columns = config.data.data_columns + ['DOY'] if config.data.add_time_channels else config.data.data_columns"
   ]
  },
  {
   "cell_type": "markdown",
   "metadata": {},
   "source": [
    "## Data Splitting\n",
    "\n",
    "In this case, we have significantly more data than when forecasting the FSMY 10.7 solar indices, as we have older data from both indices (dating back to 1957) and a much higher resolution (8 measurements per day). Therefore, we did not need to use more complex data splitting strategies. We simply selected a test period, with the period before it as the training set, and the period after it (the most recent values) as the validation set.\n",
    "\n",
    "We have again used the test period from [Licata et al. (2020)](https://agupubs.onlinelibrary.wiley.com/doi/pdf/10.1029/2020SW002496), as we want to compare our results with theirs. They used data from **October 2012 through the end of 2018** for benchmarking.\n"
   ]
  },
  {
   "cell_type": "code",
   "execution_count": 9,
   "metadata": {},
   "outputs": [],
   "source": [
    "test_start_datetime = config.test_start_datetime\n",
    "test_end_datetime = config.test_end_datetime\n",
    "valid_start_datetime = config.valid_start_datetime"
   ]
  },
  {
   "cell_type": "markdown",
   "metadata": {},
   "source": [
    "In the case of these two geomagnetic indices, the benchmark authors classify them in different ranges of activity levels. Those levels are listed right below:\n",
    "\n",
    "### Ap Index Categories and Thresholds\n",
    "\n",
    "| **Category** | **Threshold** |\n",
    "|--------------|-----------------------|\n",
    "| Low          | Less than 10          |\n",
    "| Moderate     | 10 to 50              |\n",
    "| Active       | 50 to 9999            |\n",
    "\n",
    "### Dst Index Categories and Thresholds\n",
    "\n",
    "| **Category** | **Threshold** |\n",
    "|--------------|-----------------------|\n",
    "| G0           | -30 or More           |\n",
    "| G1           | -50 to -30            |\n",
    "| G2           | -90 to -50            |\n",
    "| G3           | -130 to -90           |\n",
    "| G4           | -350 to -130          |\n",
    "| G5           | Less than -350        |\n"
   ]
  },
  {
   "cell_type": "code",
   "execution_count": 10,
   "metadata": {},
   "outputs": [],
   "source": [
    "thresholds = {\n",
    "    \"AP\": [\n",
    "        (-np.inf, 10),  # Low\n",
    "        (10, 50),    # Moderate\n",
    "        (50, np.inf)   # Active\n",
    "    ],\n",
    "    \"DST\": [\n",
    "        (-30, np.inf),    # G0\n",
    "        (-50, -30),     # G1\n",
    "        (-90, -50),     # G2\n",
    "        (-130, -90),    # G3\n",
    "        (-350, -130),   # G4\n",
    "        (-np.inf, -350)    # G5\n",
    "    ]\n",
    "}\n",
    "\n",
    "activity_levels = {\n",
    "    'AP': [\"Low\", \"Moderate\", \"Active\"],\n",
    "    'DST': [\"G0\", \"G1\", \"G2\", \"G3\", \"G4\", \"G5\"]\n",
    "}"
   ]
  },
  {
   "cell_type": "code",
   "execution_count": 11,
   "metadata": {},
   "outputs": [],
   "source": [
    "dict2yaml(thresholds, 'preprocessed_data/categorization/thresholds_geodstap.yaml')\n",
    "dict2yaml(activity_levels, 'preprocessed_data/categorization/activity_levels_geodstap.yaml')"
   ]
  },
  {
   "cell_type": "markdown",
   "metadata": {},
   "source": [
    "The resulting splits are plotted below:\n"
   ]
  },
  {
   "cell_type": "code",
   "execution_count": 12,
   "metadata": {
    "tags": [
     "skip"
    ]
   },
   "outputs": [
    {
     "data": {
      "image/png": "[encoded data removed]",
      "text/plain": [
       "<Figure size 2000x1000 with 2 Axes>"
      ]
     },
     "metadata": {},
     "output_type": "display_data"
    }
   ],
   "source": [
    "import matplotlib.patches as mpatches\n",
    "import matplotlib.dates as mdates\n",
    "import numpy as np\n",
    "import matplotlib.pyplot as plt\n",
    "\n",
    "# Create the subplots\n",
    "fig, ax = plt.subplots(2, 1, figsize=(20, 10))\n",
    "plt.subplots_adjust(hspace=0.6)\n",
    "\n",
    "# Loop over the data columns to plot the main time series with shaded regions for train, test, validation\n",
    "for i, value in enumerate(config.data.data_columns):\n",
    "    # Scatter plot for train, test, validation with different colors\n",
    "    ax[i].plot(df.Datetime[(df.Datetime < test_start_datetime)], \n",
    "                  df[value][(df.Datetime < test_start_datetime)], label='Train', color='green')\n",
    "    \n",
    "    ax[i].plot(df.Datetime[(df.Datetime >= test_start_datetime) & (df.Datetime <= test_end_datetime)], \n",
    "                  df[value][(df.Datetime >= test_start_datetime) & (df.Datetime <= test_end_datetime)], label='Test', color='red')\n",
    "    \n",
    "    ax[i].plot(df.Datetime[(df.Datetime > test_end_datetime)], \n",
    "                  df[value][(df.Datetime > test_end_datetime)], label='Validation', color='blue')\n",
    "    \n",
    "    # Apply the thresholds for the specific variable\n",
    "    min_val, max_val = df[value].min(), df[value].max()\n",
    "    set_ranges = np.zeros((df.shape[0], int(max_val - min_val)))\n",
    "\n",
    "    for j, (start, end) in enumerate(thresholds[value]):\n",
    "        start = -99999 if np.abs(start) == np.inf else start\n",
    "        end = 99999 if np.abs(end) == np.inf else end\n",
    "\n",
    "        mask = (df[value] >= start) & (df[value] < end)\n",
    "        set_ranges[:, int(start - min_val):int(end - min_val)] = ((j + 1) / len(thresholds[value]))\n",
    "    \n",
    "    # Apply the 'Greys' colormap\n",
    "    ax[i].imshow(set_ranges.T, extent=[df.Datetime.min(), df.Datetime.max(), min_val, max_val],\n",
    "                 aspect='auto', alpha=0.5, origin='lower', cmap='Greys')\n",
    "\n",
    "    # Title and labels\n",
    "    ax[i].set_title(f'{value} - Train (green), Test (red), Validation (blue)')\n",
    "    ax[i].set_xlabel('Time')\n",
    "    ax[i].set_ylabel(value)\n",
    "\n",
    "    # Format x-axis to show only the years\n",
    "    ax[i].xaxis.set_major_locator(mdates.YearLocator(2))\n",
    "    ax[i].xaxis.set_major_formatter(mdates.DateFormatter('%Y'))\n",
    "    plt.setp(ax[i].get_xticklabels(), rotation=45, ha=\"right\")\n",
    "\n",
    "    # Create legend for activity levels\n",
    "    legend_labels = activity_levels[value]\n",
    "    colors = [plt.cm.Greys((j + 1) / len(legend_labels)) for j in range(len(legend_labels))]\n",
    "    patches = [mpatches.Patch(color=colors[j], label=legend_labels[j]) for j in range(len(legend_labels))]\n",
    "    ax[i].legend(handles=patches, loc='upper right', title='Activity Levels')\n",
    "\n",
    "# Show the plot\n",
    "plt.show()\n"
   ]
  },
  {
   "cell_type": "markdown",
   "metadata": {},
   "source": [
    "Now we will generate the split indexes for each of the sets we mentioned earlier. To do this, we will use the `tsai` function `get_forecasting_splits`, which automatically creates the splits. However, since this function determines the size of the splits using percentages of the dataset rather than specific dates, we have implemented a workaround.\n"
   ]
  },
  {
   "cell_type": "code",
   "execution_count": 13,
   "metadata": {},
   "outputs": [
    {
     "data": {
      "text/plain": [
       "((#162782) [0,1,2,3,4,5,6,7,8,9...],\n",
       " (#19160) [178244,178245,178246,178247,178248,178249,178250,178251,178252,178253...],\n",
       " (#15320) [162805,162806,162807,162808,162809,162810,162811,162812,162813,162814...])"
      ]
     },
     "execution_count": 13,
     "metadata": {},
     "output_type": "execute_result"
    }
   ],
   "source": [
    "# Test and Training sets generation\n",
    "splits_ = get_forecasting_splits(\n",
    "    df[df.Datetime < valid_start_datetime], \n",
    "    fcst_history=config.lookback, \n",
    "    fcst_horizon=config.horizon, \n",
    "    use_index=False, \n",
    "    test_cutoff_datetime=test_start_datetime, \n",
    "    show_plot=False, \n",
    "    datetime_col='Datetime'\n",
    ")\n",
    "\n",
    "# Validation set generation\n",
    "validation_data = df[df.Datetime >= valid_start_datetime]\n",
    "\n",
    "validation_splits = get_forecasting_splits(\n",
    "    validation_data, \n",
    "    fcst_history=config.lookback, \n",
    "    fcst_horizon=config.horizon, \n",
    "    valid_size=0.0, \n",
    "    test_size=0.0, \n",
    "    show_plot=False\n",
    ")\n",
    "\n",
    "val_idxs = L(validation_data.index[validation_splits[0]].tolist())\n",
    "\n",
    "# Combination of the different set\n",
    "splits = (splits_[0], val_idxs, splits_[1])\n",
    "splits\n"
   ]
  },
  {
   "cell_type": "code",
   "execution_count": 14,
   "metadata": {},
   "outputs": [
    {
     "data": {
      "text/plain": [
       "((197404, 2, 96), (197404, 2, 24))"
      ]
     },
     "execution_count": 14,
     "metadata": {},
     "output_type": "execute_result"
    }
   ],
   "source": [
    "# We'll approach the time series forecasting task as a supervised learning problem. \n",
    "# Remember that tsai requires that both inputs and outputs have the following shape:\n",
    "# (samples, features, steps)\n",
    "\n",
    "# To get those inputs and outputs we're going to use a function called \n",
    "# `prepare_forecasting_data`` that applies a sliding window along the dataframe\n",
    "X, y = prepare_forecasting_data(df, fcst_history=config.lookback, \n",
    "                                fcst_horizon=config.horizon,\n",
    "                                x_vars=config.data.data_columns, \n",
    "                                y_vars=config.data.data_columns)\n",
    "\n",
    "X.shape, y.shape"
   ]
  },
  {
   "cell_type": "markdown",
   "metadata": {},
   "source": [
    "## Training the Forecaster\n",
    "\n",
    "This section implements the entire training process for the forecasting model.\n",
    "\n",
    "### Generate Weights\n",
    "\n",
    "Although we are not dealing with an imbalanced training set like in the FSMY 10.7 forecaster (see the `solfsmy_train` notebook), the values are still not equally distributed across all solar activity levels. To address this, we assign weights to the training process using the inverse frequency of each level. By doing so, errors in forecasting the less represented values will be more heavily penalized.\n"
   ]
  },
  {
   "cell_type": "code",
   "execution_count": 15,
   "metadata": {},
   "outputs": [
    {
     "data": {
      "text/plain": [
       "{'DST': [8.803351903177007e-05,\n",
       "  0.0006020729557296344,\n",
       "  0.0014018781299297467,\n",
       "  0.007761028027872513,\n",
       "  0.01549121753377997,\n",
       "  0.9746557698336564],\n",
       " 'AP': [0.05027553210414406, 0.08743208708643083, 0.862292380809425]}"
      ]
     },
     "execution_count": 15,
     "metadata": {},
     "output_type": "execute_result"
    }
   ],
   "source": [
    "df_cat = get_classified_columns(df, thresholds, activity_levels)\n",
    "\n",
    "def get_weights(column:pd.Series):\n",
    "    distribution = column.value_counts(normalize=True).to_dict()\n",
    "    inverted_weights = {category: 1 / frequency for category, frequency in distribution.items()}\n",
    "    total_weight = sum(inverted_weights.values())\n",
    "    normalized_weights = [weight / total_weight for weight in inverted_weights.values()]\n",
    "    return normalized_weights\n",
    "\n",
    "weights = {\n",
    "    column: get_weights(df_cat[df.Datetime < test_start_datetime][f'{column}_Cat'])\n",
    "    for column in config.data.data_columns\n",
    "}\n",
    "\n",
    "weights"
   ]
  },
  {
   "cell_type": "code",
   "execution_count": 16,
   "metadata": {},
   "outputs": [
    {
     "name": "stdout",
     "output_type": "stream",
     "text": [
      "preprocessed_data/weights directory created.\n",
      "dict saved as preprocessed_data/weights/weights_geodstap.pkl\n"
     ]
    }
   ],
   "source": [
    "save_object(weights, 'preprocessed_data/weights/weights_geodstap.pkl')"
   ]
  },
  {
   "cell_type": "code",
   "execution_count": 16,
   "metadata": {},
   "outputs": [
    {
     "data": {
      "text/html": [
       "\n",
       "<style>\n",
       "    /* Turns off some styling */\n",
       "    progress {\n",
       "        /* gets rid of default border in Firefox and Opera. */\n",
       "        border: none;\n",
       "        /* Needs to be in here for Safari polyfill so background images work as expected. */\n",
       "        background-size: auto;\n",
       "    }\n",
       "    progress:not([value]), progress:not([value])::-webkit-progress-bar {\n",
       "        background: repeating-linear-gradient(45deg, #7e7e7e, #7e7e7e 10px, #5c5c5c 10px, #5c5c5c 20px);\n",
       "    }\n",
       "    .progress-bar-interrupted, .progress-bar-interrupted::-webkit-progress-bar {\n",
       "        background: #F44336;\n",
       "    }\n",
       "</style>\n"
      ],
      "text/plain": [
       "<IPython.core.display.HTML object>"
      ]
     },
     "metadata": {},
     "output_type": "display_data"
    },
    {
     "data": {
      "text/html": [],
      "text/plain": [
       "<IPython.core.display.HTML object>"
      ]
     },
     "metadata": {},
     "output_type": "display_data"
    },
    {
     "data": {
      "text/html": [
       "\n",
       "<style>\n",
       "    /* Turns off some styling */\n",
       "    progress {\n",
       "        /* gets rid of default border in Firefox and Opera. */\n",
       "        border: none;\n",
       "        /* Needs to be in here for Safari polyfill so background images work as expected. */\n",
       "        background-size: auto;\n",
       "    }\n",
       "    progress:not([value]), progress:not([value])::-webkit-progress-bar {\n",
       "        background: repeating-linear-gradient(45deg, #7e7e7e, #7e7e7e 10px, #5c5c5c 10px, #5c5c5c 20px);\n",
       "    }\n",
       "    .progress-bar-interrupted, .progress-bar-interrupted::-webkit-progress-bar {\n",
       "        background: #F44336;\n",
       "    }\n",
       "</style>\n"
      ],
      "text/plain": [
       "<IPython.core.display.HTML object>"
      ]
     },
     "metadata": {},
     "output_type": "display_data"
    },
    {
     "data": {
      "text/html": [
       "<table border=\"1\" class=\"dataframe\">\n",
       "  <thead>\n",
       "    <tr style=\"text-align: left;\">\n",
       "      <th>epoch</th>\n",
       "      <th>train_loss</th>\n",
       "      <th>valid_loss</th>\n",
       "      <th>Loss_Low</th>\n",
       "      <th>Loss_Medium</th>\n",
       "      <th>Loss_Active</th>\n",
       "      <th>Loss_G0</th>\n",
       "      <th>Loss_G1</th>\n",
       "      <th>Loss_G2</th>\n",
       "      <th>Loss_G3</th>\n",
       "      <th>Loss_G4</th>\n",
       "      <th>Loss_G5</th>\n",
       "      <th>time</th>\n",
       "    </tr>\n",
       "  </thead>\n",
       "  <tbody>\n",
       "    <tr>\n",
       "      <td>0</td>\n",
       "      <td>13.114963</td>\n",
       "      <td>6.246802</td>\n",
       "      <td>5.572682</td>\n",
       "      <td>0.667330</td>\n",
       "      <td>0.000000</td>\n",
       "      <td>0.006791</td>\n",
       "      <td>0.000000</td>\n",
       "      <td>0.000000</td>\n",
       "      <td>0.000000</td>\n",
       "      <td>0.000000</td>\n",
       "      <td>0.000000</td>\n",
       "      <td>00:24</td>\n",
       "    </tr>\n",
       "    <tr>\n",
       "      <td>1</td>\n",
       "      <td>12.784650</td>\n",
       "      <td>6.163347</td>\n",
       "      <td>5.500598</td>\n",
       "      <td>0.656166</td>\n",
       "      <td>0.000000</td>\n",
       "      <td>0.006583</td>\n",
       "      <td>0.000000</td>\n",
       "      <td>0.000000</td>\n",
       "      <td>0.000000</td>\n",
       "      <td>0.000000</td>\n",
       "      <td>0.000000</td>\n",
       "      <td>00:25</td>\n",
       "    </tr>\n",
       "    <tr>\n",
       "      <td>2</td>\n",
       "      <td>12.335350</td>\n",
       "      <td>6.345724</td>\n",
       "      <td>5.673854</td>\n",
       "      <td>0.665265</td>\n",
       "      <td>0.000000</td>\n",
       "      <td>0.006604</td>\n",
       "      <td>0.000000</td>\n",
       "      <td>0.000000</td>\n",
       "      <td>0.000000</td>\n",
       "      <td>0.000000</td>\n",
       "      <td>0.000000</td>\n",
       "      <td>00:25</td>\n",
       "    </tr>\n",
       "    <tr>\n",
       "      <td>3</td>\n",
       "      <td>12.013974</td>\n",
       "      <td>6.179952</td>\n",
       "      <td>5.588273</td>\n",
       "      <td>0.584958</td>\n",
       "      <td>0.000000</td>\n",
       "      <td>0.006720</td>\n",
       "      <td>0.000000</td>\n",
       "      <td>0.000000</td>\n",
       "      <td>0.000000</td>\n",
       "      <td>0.000000</td>\n",
       "      <td>0.000000</td>\n",
       "      <td>00:25</td>\n",
       "    </tr>\n",
       "    <tr>\n",
       "      <td>4</td>\n",
       "      <td>11.551650</td>\n",
       "      <td>6.130228</td>\n",
       "      <td>5.491984</td>\n",
       "      <td>0.630905</td>\n",
       "      <td>0.000000</td>\n",
       "      <td>0.007338</td>\n",
       "      <td>0.000000</td>\n",
       "      <td>0.000000</td>\n",
       "      <td>0.000000</td>\n",
       "      <td>0.000000</td>\n",
       "      <td>0.000000</td>\n",
       "      <td>00:25</td>\n",
       "    </tr>\n",
       "    <tr>\n",
       "      <td>5</td>\n",
       "      <td>11.417176</td>\n",
       "      <td>6.113671</td>\n",
       "      <td>5.542159</td>\n",
       "      <td>0.563820</td>\n",
       "      <td>0.000000</td>\n",
       "      <td>0.007692</td>\n",
       "      <td>0.000000</td>\n",
       "      <td>0.000000</td>\n",
       "      <td>0.000000</td>\n",
       "      <td>0.000000</td>\n",
       "      <td>0.000000</td>\n",
       "      <td>00:25</td>\n",
       "    </tr>\n",
       "    <tr>\n",
       "      <td>6</td>\n",
       "      <td>11.279366</td>\n",
       "      <td>6.019103</td>\n",
       "      <td>5.358129</td>\n",
       "      <td>0.651614</td>\n",
       "      <td>0.000000</td>\n",
       "      <td>0.009360</td>\n",
       "      <td>0.000000</td>\n",
       "      <td>0.000000</td>\n",
       "      <td>0.000000</td>\n",
       "      <td>0.000000</td>\n",
       "      <td>0.000000</td>\n",
       "      <td>00:26</td>\n",
       "    </tr>\n",
       "    <tr>\n",
       "      <td>7</td>\n",
       "      <td>11.127131</td>\n",
       "      <td>6.132680</td>\n",
       "      <td>5.452404</td>\n",
       "      <td>0.659248</td>\n",
       "      <td>0.000000</td>\n",
       "      <td>0.021029</td>\n",
       "      <td>0.000000</td>\n",
       "      <td>0.000000</td>\n",
       "      <td>0.000000</td>\n",
       "      <td>0.000000</td>\n",
       "      <td>0.000000</td>\n",
       "      <td>00:26</td>\n",
       "    </tr>\n",
       "    <tr>\n",
       "      <td>8</td>\n",
       "      <td>11.104568</td>\n",
       "      <td>6.140027</td>\n",
       "      <td>5.597128</td>\n",
       "      <td>0.532442</td>\n",
       "      <td>0.000000</td>\n",
       "      <td>0.010458</td>\n",
       "      <td>0.000000</td>\n",
       "      <td>0.000000</td>\n",
       "      <td>0.000000</td>\n",
       "      <td>0.000000</td>\n",
       "      <td>0.000000</td>\n",
       "      <td>00:26</td>\n",
       "    </tr>\n",
       "    <tr>\n",
       "      <td>9</td>\n",
       "      <td>11.634913</td>\n",
       "      <td>6.300477</td>\n",
       "      <td>5.739375</td>\n",
       "      <td>0.550802</td>\n",
       "      <td>0.000000</td>\n",
       "      <td>0.010298</td>\n",
       "      <td>0.000000</td>\n",
       "      <td>0.000000</td>\n",
       "      <td>0.000000</td>\n",
       "      <td>0.000000</td>\n",
       "      <td>0.000000</td>\n",
       "      <td>00:26</td>\n",
       "    </tr>\n",
       "    <tr>\n",
       "      <td>10</td>\n",
       "      <td>11.499388</td>\n",
       "      <td>6.051106</td>\n",
       "      <td>5.485805</td>\n",
       "      <td>0.553845</td>\n",
       "      <td>0.000000</td>\n",
       "      <td>0.011456</td>\n",
       "      <td>0.000000</td>\n",
       "      <td>0.000000</td>\n",
       "      <td>0.000000</td>\n",
       "      <td>0.000000</td>\n",
       "      <td>0.000000</td>\n",
       "      <td>00:26</td>\n",
       "    </tr>\n",
       "    <tr>\n",
       "      <td>11</td>\n",
       "      <td>11.568885</td>\n",
       "      <td>6.070852</td>\n",
       "      <td>5.441078</td>\n",
       "      <td>0.620981</td>\n",
       "      <td>0.000000</td>\n",
       "      <td>0.008794</td>\n",
       "      <td>0.000000</td>\n",
       "      <td>0.000000</td>\n",
       "      <td>0.000000</td>\n",
       "      <td>0.000000</td>\n",
       "      <td>0.000000</td>\n",
       "      <td>00:26</td>\n",
       "    </tr>\n",
       "    <tr>\n",
       "      <td>12</td>\n",
       "      <td>11.402754</td>\n",
       "      <td>6.001286</td>\n",
       "      <td>5.388981</td>\n",
       "      <td>0.602566</td>\n",
       "      <td>0.000000</td>\n",
       "      <td>0.009736</td>\n",
       "      <td>0.000000</td>\n",
       "      <td>0.000000</td>\n",
       "      <td>0.000000</td>\n",
       "      <td>0.000000</td>\n",
       "      <td>0.000000</td>\n",
       "      <td>00:26</td>\n",
       "    </tr>\n",
       "    <tr>\n",
       "      <td>13</td>\n",
       "      <td>11.227393</td>\n",
       "      <td>5.978754</td>\n",
       "      <td>5.378820</td>\n",
       "      <td>0.587905</td>\n",
       "      <td>0.000000</td>\n",
       "      <td>0.012029</td>\n",
       "      <td>0.000000</td>\n",
       "      <td>0.000000</td>\n",
       "      <td>0.000000</td>\n",
       "      <td>0.000000</td>\n",
       "      <td>0.000000</td>\n",
       "      <td>00:26</td>\n",
       "    </tr>\n",
       "    <tr>\n",
       "      <td>14</td>\n",
       "      <td>11.089261</td>\n",
       "      <td>5.970077</td>\n",
       "      <td>5.268096</td>\n",
       "      <td>0.666148</td>\n",
       "      <td>0.000000</td>\n",
       "      <td>0.035831</td>\n",
       "      <td>0.000000</td>\n",
       "      <td>0.000000</td>\n",
       "      <td>0.000000</td>\n",
       "      <td>0.000000</td>\n",
       "      <td>0.000000</td>\n",
       "      <td>00:26</td>\n",
       "    </tr>\n",
       "    <tr>\n",
       "      <td>15</td>\n",
       "      <td>11.356215</td>\n",
       "      <td>5.967715</td>\n",
       "      <td>5.262793</td>\n",
       "      <td>0.693220</td>\n",
       "      <td>0.000000</td>\n",
       "      <td>0.011703</td>\n",
       "      <td>0.000000</td>\n",
       "      <td>0.000000</td>\n",
       "      <td>0.000000</td>\n",
       "      <td>0.000000</td>\n",
       "      <td>0.000000</td>\n",
       "      <td>00:26</td>\n",
       "    </tr>\n",
       "    <tr>\n",
       "      <td>16</td>\n",
       "      <td>11.453959</td>\n",
       "      <td>5.976145</td>\n",
       "      <td>5.391600</td>\n",
       "      <td>0.573630</td>\n",
       "      <td>0.000000</td>\n",
       "      <td>0.010917</td>\n",
       "      <td>0.000000</td>\n",
       "      <td>0.000000</td>\n",
       "      <td>0.000000</td>\n",
       "      <td>0.000000</td>\n",
       "      <td>0.000000</td>\n",
       "      <td>00:26</td>\n",
       "    </tr>\n",
       "    <tr>\n",
       "      <td>17</td>\n",
       "      <td>11.370554</td>\n",
       "      <td>5.973635</td>\n",
       "      <td>5.312563</td>\n",
       "      <td>0.652158</td>\n",
       "      <td>0.000000</td>\n",
       "      <td>0.008913</td>\n",
       "      <td>0.000000</td>\n",
       "      <td>0.000000</td>\n",
       "      <td>0.000000</td>\n",
       "      <td>0.000000</td>\n",
       "      <td>0.000000</td>\n",
       "      <td>00:26</td>\n",
       "    </tr>\n",
       "    <tr>\n",
       "      <td>18</td>\n",
       "      <td>11.543487</td>\n",
       "      <td>6.015712</td>\n",
       "      <td>5.469025</td>\n",
       "      <td>0.537912</td>\n",
       "      <td>0.000000</td>\n",
       "      <td>0.008776</td>\n",
       "      <td>0.000000</td>\n",
       "      <td>0.000000</td>\n",
       "      <td>0.000000</td>\n",
       "      <td>0.000000</td>\n",
       "      <td>0.000000</td>\n",
       "      <td>00:26</td>\n",
       "    </tr>\n",
       "    <tr>\n",
       "      <td>19</td>\n",
       "      <td>10.721960</td>\n",
       "      <td>5.936650</td>\n",
       "      <td>5.294049</td>\n",
       "      <td>0.635211</td>\n",
       "      <td>0.000000</td>\n",
       "      <td>0.007389</td>\n",
       "      <td>0.000000</td>\n",
       "      <td>0.000000</td>\n",
       "      <td>0.000000</td>\n",
       "      <td>0.000000</td>\n",
       "      <td>0.000000</td>\n",
       "      <td>00:26</td>\n",
       "    </tr>\n",
       "    <tr>\n",
       "      <td>20</td>\n",
       "      <td>10.933239</td>\n",
       "      <td>5.939643</td>\n",
       "      <td>5.344437</td>\n",
       "      <td>0.587202</td>\n",
       "      <td>0.000000</td>\n",
       "      <td>0.008005</td>\n",
       "      <td>0.000000</td>\n",
       "      <td>0.000000</td>\n",
       "      <td>0.000000</td>\n",
       "      <td>0.000000</td>\n",
       "      <td>0.000000</td>\n",
       "      <td>00:26</td>\n",
       "    </tr>\n",
       "    <tr>\n",
       "      <td>21</td>\n",
       "      <td>10.582870</td>\n",
       "      <td>5.905587</td>\n",
       "      <td>5.282629</td>\n",
       "      <td>0.615977</td>\n",
       "      <td>0.000000</td>\n",
       "      <td>0.006981</td>\n",
       "      <td>0.000000</td>\n",
       "      <td>0.000000</td>\n",
       "      <td>0.000000</td>\n",
       "      <td>0.000000</td>\n",
       "      <td>0.000000</td>\n",
       "      <td>00:26</td>\n",
       "    </tr>\n",
       "    <tr>\n",
       "      <td>22</td>\n",
       "      <td>11.128199</td>\n",
       "      <td>5.957722</td>\n",
       "      <td>5.270847</td>\n",
       "      <td>0.678460</td>\n",
       "      <td>0.000000</td>\n",
       "      <td>0.008417</td>\n",
       "      <td>0.000000</td>\n",
       "      <td>0.000000</td>\n",
       "      <td>0.000000</td>\n",
       "      <td>0.000000</td>\n",
       "      <td>0.000000</td>\n",
       "      <td>00:26</td>\n",
       "    </tr>\n",
       "    <tr>\n",
       "      <td>23</td>\n",
       "      <td>10.744357</td>\n",
       "      <td>5.897170</td>\n",
       "      <td>5.288122</td>\n",
       "      <td>0.601922</td>\n",
       "      <td>0.000000</td>\n",
       "      <td>0.007125</td>\n",
       "      <td>0.000000</td>\n",
       "      <td>0.000000</td>\n",
       "      <td>0.000000</td>\n",
       "      <td>0.000000</td>\n",
       "      <td>0.000000</td>\n",
       "      <td>00:26</td>\n",
       "    </tr>\n",
       "    <tr>\n",
       "      <td>24</td>\n",
       "      <td>10.364288</td>\n",
       "      <td>5.886329</td>\n",
       "      <td>5.268878</td>\n",
       "      <td>0.610379</td>\n",
       "      <td>0.000000</td>\n",
       "      <td>0.007073</td>\n",
       "      <td>0.000000</td>\n",
       "      <td>0.000000</td>\n",
       "      <td>0.000000</td>\n",
       "      <td>0.000000</td>\n",
       "      <td>0.000000</td>\n",
       "      <td>00:26</td>\n",
       "    </tr>\n",
       "    <tr>\n",
       "      <td>25</td>\n",
       "      <td>10.583261</td>\n",
       "      <td>5.886610</td>\n",
       "      <td>5.257905</td>\n",
       "      <td>0.621921</td>\n",
       "      <td>0.000000</td>\n",
       "      <td>0.006785</td>\n",
       "      <td>0.000000</td>\n",
       "      <td>0.000000</td>\n",
       "      <td>0.000000</td>\n",
       "      <td>0.000000</td>\n",
       "      <td>0.000000</td>\n",
       "      <td>00:26</td>\n",
       "    </tr>\n",
       "    <tr>\n",
       "      <td>26</td>\n",
       "      <td>10.898026</td>\n",
       "      <td>5.892581</td>\n",
       "      <td>5.258368</td>\n",
       "      <td>0.627516</td>\n",
       "      <td>0.000000</td>\n",
       "      <td>0.006697</td>\n",
       "      <td>0.000000</td>\n",
       "      <td>0.000000</td>\n",
       "      <td>0.000000</td>\n",
       "      <td>0.000000</td>\n",
       "      <td>0.000000</td>\n",
       "      <td>00:26</td>\n",
       "    </tr>\n",
       "    <tr>\n",
       "      <td>27</td>\n",
       "      <td>10.446710</td>\n",
       "      <td>5.879800</td>\n",
       "      <td>5.263690</td>\n",
       "      <td>0.609516</td>\n",
       "      <td>0.000000</td>\n",
       "      <td>0.006595</td>\n",
       "      <td>0.000000</td>\n",
       "      <td>0.000000</td>\n",
       "      <td>0.000000</td>\n",
       "      <td>0.000000</td>\n",
       "      <td>0.000000</td>\n",
       "      <td>00:26</td>\n",
       "    </tr>\n",
       "    <tr>\n",
       "      <td>28</td>\n",
       "      <td>10.757813</td>\n",
       "      <td>5.896060</td>\n",
       "      <td>5.281127</td>\n",
       "      <td>0.608369</td>\n",
       "      <td>0.000000</td>\n",
       "      <td>0.006564</td>\n",
       "      <td>0.000000</td>\n",
       "      <td>0.000000</td>\n",
       "      <td>0.000000</td>\n",
       "      <td>0.000000</td>\n",
       "      <td>0.000000</td>\n",
       "      <td>00:26</td>\n",
       "    </tr>\n",
       "    <tr>\n",
       "      <td>29</td>\n",
       "      <td>10.904561</td>\n",
       "      <td>5.892128</td>\n",
       "      <td>5.274935</td>\n",
       "      <td>0.610658</td>\n",
       "      <td>0.000000</td>\n",
       "      <td>0.006534</td>\n",
       "      <td>0.000000</td>\n",
       "      <td>0.000000</td>\n",
       "      <td>0.000000</td>\n",
       "      <td>0.000000</td>\n",
       "      <td>0.000000</td>\n",
       "      <td>00:26</td>\n",
       "    </tr>\n",
       "  </tbody>\n",
       "</table>"
      ],
      "text/plain": [
       "<IPython.core.display.HTML object>"
      ]
     },
     "metadata": {},
     "output_type": "display_data"
    },
    {
     "data": {
      "image/png": "[encoded data removed]",
      "text/plain": [
       "<Figure size 600x400 with 1 Axes>"
      ]
     },
     "metadata": {},
     "output_type": "display_data"
    },
    {
     "data": {
      "image/png": "[encoded data removed]",
      "text/plain": [
       "<Figure size 640x480 with 1 Axes>"
      ]
     },
     "metadata": {},
     "output_type": "display_data"
    }
   ],
   "source": [
    "device = torch.device('cuda:0' if torch.cuda.is_available() else 'cpu')\n",
    "\n",
    "# Initialize the loss function with the provided thresholds and weights\n",
    "loss = LossFactory(thresholds=thresholds, weights=weights).create(\n",
    "    config.loss_func, **config.loss_config\n",
    ").to(device)\n",
    "\n",
    "# Set up metrics \n",
    "if config.metrics_handler_path is not None:\n",
    "    metrics_handler = load_object(config.metrics_handler_path)\n",
    "else:\n",
    "    metrics_handler = LossMetrics(loss, 'GeoDSTAP')\n",
    "metrics = metrics_handler.get_metrics()\n",
    "\n",
    "# Initialize the callback list, including WandbCallback if enabled\n",
    "wandb_callback = WandbCallback(log_preds=False)\n",
    "callbacks = L(wandb_callback) if config.wandb.enabled else L()\n",
    "callbacks += ShowGraphCallback()\n",
    "\n",
    "learn = TSForecaster(\n",
    "    X, y, splits=splits, \n",
    "    batch_size=config.bs,\n",
    "    pipelines=[preproc_pipe, exp_pipe], \n",
    "    arch=config.arch_name, \n",
    "    metrics=metrics,\n",
    "    loss_func=loss,\n",
    "    arch_config=dict(config.arch), \n",
    "    init=config.init_weights,\n",
    "    cbs= callbacks, \n",
    "    partial_n=config.partial_n)\n",
    "learn.to(device)\n",
    "\n",
    "try: # In some extreme cases it can fail and return an error\n",
    "    lr_max = learn.lr_find().valley if config.lr_max is None else config.lr_max\n",
    "except:\n",
    "    lr_max = 1e-3\n",
    "\n",
    "learn.fit_one_cycle(n_epoch=config.n_epoch, lr_max=lr_max)"
   ]
  },
  {
   "cell_type": "markdown",
   "metadata": {},
   "source": [
    "## Model Saving"
   ]
  },
  {
   "cell_type": "code",
   "execution_count": 17,
   "metadata": {},
   "outputs": [
    {
     "data": {
      "text/html": [
       "\n",
       "<style>\n",
       "    /* Turns off some styling */\n",
       "    progress {\n",
       "        /* gets rid of default border in Firefox and Opera. */\n",
       "        border: none;\n",
       "        /* Needs to be in here for Safari polyfill so background images work as expected. */\n",
       "        background-size: auto;\n",
       "    }\n",
       "    progress:not([value]), progress:not([value])::-webkit-progress-bar {\n",
       "        background: repeating-linear-gradient(45deg, #7e7e7e, #7e7e7e 10px, #5c5c5c 10px, #5c5c5c 20px);\n",
       "    }\n",
       "    .progress-bar-interrupted, .progress-bar-interrupted::-webkit-progress-bar {\n",
       "        background: #F44336;\n",
       "    }\n",
       "</style>\n"
      ],
      "text/plain": [
       "<IPython.core.display.HTML object>"
      ]
     },
     "metadata": {},
     "output_type": "display_data"
    },
    {
     "data": {
      "text/html": [],
      "text/plain": [
       "<IPython.core.display.HTML object>"
      ]
     },
     "metadata": {},
     "output_type": "display_data"
    },
    {
     "name": "stdout",
     "output_type": "stream",
     "text": [
      "Stored 'valid_metrics' (list)\n",
      "{'wMSE': 5.892127513885498}\n"
     ]
    }
   ],
   "source": [
    "if config.metrics_handler_path is not None:\n",
    "    valid_metrics = learn.recorder.metrics \n",
    "else:\n",
    "    valid_metrics = [AttrDict({\n",
    "        \"name\": config.loss_func,\n",
    "        \"value\": learn.validate()[0]\n",
    "    })]\n",
    "\n",
    "%store valid_metrics\n",
    "\n",
    "print({metric.name: metric.value for metric in valid_metrics})"
   ]
  },
  {
   "cell_type": "code",
   "execution_count": 18,
   "metadata": {},
   "outputs": [
    {
     "data": {
      "text/html": [
       "\n",
       "<style>\n",
       "    /* Turns off some styling */\n",
       "    progress {\n",
       "        /* gets rid of default border in Firefox and Opera. */\n",
       "        border: none;\n",
       "        /* Needs to be in here for Safari polyfill so background images work as expected. */\n",
       "        background-size: auto;\n",
       "    }\n",
       "    progress:not([value]), progress:not([value])::-webkit-progress-bar {\n",
       "        background: repeating-linear-gradient(45deg, #7e7e7e, #7e7e7e 10px, #5c5c5c 10px, #5c5c5c 20px);\n",
       "    }\n",
       "    .progress-bar-interrupted, .progress-bar-interrupted::-webkit-progress-bar {\n",
       "        background: #F44336;\n",
       "    }\n",
       "</style>\n"
      ],
      "text/plain": [
       "<IPython.core.display.HTML object>"
      ]
     },
     "metadata": {},
     "output_type": "display_data"
    },
    {
     "data": {
      "text/html": [
       "\n",
       "    <div>\n",
       "      <progress value='1' class='' max='120' style='width:300px; height:20px; vertical-align: middle;'></progress>\n",
       "      0.83% [1/120 00:00&lt;00:05]\n",
       "    </div>\n",
       "    "
      ],
      "text/plain": [
       "<IPython.core.display.HTML object>"
      ]
     },
     "metadata": {},
     "output_type": "display_data"
    },
    {
     "name": "stdout",
     "output_type": "stream",
     "text": [
      "6.272867202758789\n"
     ]
    }
   ],
   "source": [
    "learn.dls.loaders += [learn.dls.valid.new_dl(X[splits[2]], y[splits[2]])] \n",
    "\n",
    "# Remove the wandb callback to avoid errors when downloading the learner\n",
    "if config.wandb.enabled:\n",
    "    learn.remove_cb(wandb_callback)\n",
    "\n",
    "# Log the test loss to wandb\n",
    "test_loss = learn.validate(ds_idx=2)[0]\n",
    "\n",
    "print(test_loss)\n",
    "if run is not None:\n",
    "    run.log(dict(test_loss=test_loss))"
   ]
  },
  {
   "cell_type": "code",
   "execution_count": 22,
   "metadata": {},
   "outputs": [
    {
     "name": "stdout",
     "output_type": "stream",
     "text": [
      "Stored 'best_valid_metrics' (list)\n",
      "Learner saved:\n",
      "path          = 'tmp'\n",
      "dls_fname     = '['dls_0.pth', 'dls_1.pth', 'dls_2.pth', 'dls_3.pth']'\n",
      "model_fname   = 'model_geodstap.pth'\n",
      "learner_fname = 'learner_geodstap.pkl'\n"
     ]
    }
   ],
   "source": [
    "best_valid_metrics = None\n",
    "%store -r best_valid_metrics\n",
    "\n",
    "save_all_or_best = (\n",
    "    config.is_optuna_study and \n",
    "    metrics_handler.are_best_values(best_valid_metrics, valid_metrics)\n",
    ") or not config.is_optuna_study\n",
    "\n",
    "if save_all_or_best:\n",
    "    best_valid_metrics = valid_metrics\n",
    "    %store best_valid_metrics                                            \n",
    "\n",
    "    # Save locally and in wandb if online and enabled\n",
    "    learn.save_all(path='tmp', verbose=True, model_fname='model_geodstap', learner_fname=\"learner_geodstap\") \n",
    "    if run is not None and config.wandb_mode and config.wandb_log_learner:\n",
    "        # Save the learner (all tmp/dls, tmp/model.pth, and tmp/learner.pkl). \n",
    "        run.log_artifact('tmp', type='learner', name='geodstap')\n",
    "    \n",
    "    # Save the best model\n",
    "    model = {}\n",
    "    model['models'] = [learn.model]\n",
    "    model['lookback'] = config.lookback\n",
    "    model['horizon'] = config.horizon\n",
    "    model['data_columns'] = data_columns\n",
    "    model['thresholds'] = thresholds\n",
    "\n",
    "    torch.save(model, 'models/best/best_model_geodstap.pth')"
   ]
  },
  {
   "cell_type": "code",
   "execution_count": 20,
   "metadata": {},
   "outputs": [
    {
     "data": {
      "text/html": [
       "\n",
       "<style>\n",
       "    /* Turns off some styling */\n",
       "    progress {\n",
       "        /* gets rid of default border in Firefox and Opera. */\n",
       "        border: none;\n",
       "        /* Needs to be in here for Safari polyfill so background images work as expected. */\n",
       "        background-size: auto;\n",
       "    }\n",
       "    progress:not([value]), progress:not([value])::-webkit-progress-bar {\n",
       "        background: repeating-linear-gradient(45deg, #7e7e7e, #7e7e7e 10px, #5c5c5c 10px, #5c5c5c 20px);\n",
       "    }\n",
       "    .progress-bar-interrupted, .progress-bar-interrupted::-webkit-progress-bar {\n",
       "        background: #F44336;\n",
       "    }\n",
       "</style>\n"
      ],
      "text/plain": [
       "<IPython.core.display.HTML object>"
      ]
     },
     "metadata": {},
     "output_type": "display_data"
    },
    {
     "data": {
      "text/html": [],
      "text/plain": [
       "<IPython.core.display.HTML object>"
      ]
     },
     "metadata": {},
     "output_type": "display_data"
    },
    {
     "name": "stdout",
     "output_type": "stream",
     "text": [
      "6.272867202758789\n"
     ]
    }
   ],
   "source": [
    "# Log the test loss to wandb\n",
    "test_loss = learn.validate(ds_idx=2)[0]\n",
    "print(test_loss)\n",
    "if run is not None:\n",
    "    run.log(dict(test_loss=test_loss))"
   ]
  },
  {
   "cell_type": "code",
   "execution_count": 21,
   "metadata": {},
   "outputs": [],
   "source": [
    "if run is not None:\n",
    "    run.finish()"
   ]
  }
 ],
 "metadata": {
  "kernelspec": {
   "display_name": "Python 3",
   "language": "python",
   "name": "python3"
  },
  "language_info": {
   "codemirror_mode": {
    "name": "ipython",
    "version": 3
   },
   "file_extension": ".py",
   "mimetype": "text/x-python",
   "name": "python",
   "nbconvert_exporter": "python",
   "pygments_lexer": "ipython3",
   "version": "3.10.12"
  }
 },
 "nbformat": 4,
 "nbformat_minor": 2
}
