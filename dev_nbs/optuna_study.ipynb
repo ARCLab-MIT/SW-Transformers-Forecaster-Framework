{
 "cells": [
  {
   "cell_type": "markdown",
   "metadata": {},
   "source": [
    "# Optuna study\n",
    "\n",
    "> Combine it with papermill and wandb for seamless hyperparameter tuning"
   ]
  },
  {
   "cell_type": "code",
   "execution_count": 1,
   "metadata": {},
   "outputs": [],
   "source": [
    "import optuna\n",
    "from tsai.optuna import *\n",
    "import papermill as pm\n",
    "from tsai.optuna import run_optuna_study\n",
    "from fastcore.basics import *"
   ]
  },
  {
   "cell_type": "code",
   "execution_count": null,
   "metadata": {},
   "outputs": [],
   "source": [
    "config = AttrDict(\n",
    "    study_name = 'general',\n",
    "    n_trials = 20,\n",
    "    train_nb = '/home/gridsan/vrodriguez/Github/sw-driver-forecaster/dev_nbs/training.ipynb' # absolute path\n",
    ")"
   ]
  },
  {
   "cell_type": "code",
   "execution_count": null,
   "metadata": {},
   "outputs": [],
   "source": [
    "def objective(trial:optuna.Trial, train_nb, wandb_group=None):\n",
    "    # Define search space here\n",
    "    attn_dropout = trial.suggest_float('attn_dropout', 0.0, 0.5, step=.1)\n",
    "    dropout = trial.suggest_float('dropout', 0.0, 0.5, step=.1)\n",
    "    d_model = trial.suggest_int('d_model', 64, 512, 64)\n",
    "    n_layers = trial.suggest_int('n_layers', 2, 5, 1)\n",
    "    d_ff = trial.suggest_int('d_ff', 64, 512, 64)\n",
    "    lr_max = trial.suggest_float(\"lr_max\", 1e-5, 1e-2, log=True)\n",
    "\n",
    "    # Call the training notebook using papermill (don't print the output)\n",
    "    stdout_file = open('tmp/pm_stdout.txt', 'w')\n",
    "    stderr_file = open('tmp/pm_stderr.txt', 'w')\n",
    "    pm.execute_notebook(\n",
    "        train_nb,\n",
    "        './tmp/pm_output.ipynb',\n",
    "        parameters = {\n",
    "            'config.attn_dropout': attn_dropout,\n",
    "            'config.dropout': dropout,\n",
    "            'config.d_model': d_model,\n",
    "            'config.d_ff': d_ff,\n",
    "            'config.n_layers': n_layers,\n",
    "            'config.lr_max': lr_max,\n",
    "            'config.\n",
    "        },\n",
    "        stdout_file = stdout_file,\n",
    "        stderr_file = stderr_file\n",
    "    )\n",
    "\n",
    "    # Close the output files\n",
    "    stdout_file.close()\n",
    "    stderr_file.close()\n",
    "\n",
    "    # Get the output value of interest from the source notebook\n",
    "    %store -r valid_loss\n",
    "    return valid_loss       "
   ]
  },
  {
   "cell_type": "code",
   "execution_count": null,
   "metadata": {},
   "outputs": [],
   "source": [
    "run_optuna_study(objective, study_type='bayesian', direction='minimize', path='./tmp',\n",
    "                 study_name=config.study, n_trials=config.n_trials)"
   ]
  }
 ],
 "metadata": {
  "kernelspec": {
   "display_name": "Python 3 (ipykernel)",
   "language": "python",
   "name": "python3"
  },
  "language_info": {
   "codemirror_mode": {
    "name": "ipython",
    "version": 3
   },
   "file_extension": ".py",
   "mimetype": "text/x-python",
   "name": "python",
   "nbconvert_exporter": "python",
   "pygments_lexer": "ipython3",
   "version": "3.9.15"
  }
 },
 "nbformat": 4,
 "nbformat_minor": 4
}
