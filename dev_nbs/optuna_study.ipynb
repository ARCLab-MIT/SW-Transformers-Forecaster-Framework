{
 "cells": [
  {
   "cell_type": "markdown",
   "metadata": {},
   "source": [
    "# Optuna study\n",
    "\n",
    "> Combine it with papermill and wandb for seamless hyperparameter tuning"
   ]
  },
  {
   "cell_type": "code",
   "execution_count": 1,
   "metadata": {},
   "outputs": [
    {
     "name": "stderr",
     "output_type": "stream",
     "text": [
      "/usr/local/pip-global/tqdm/auto.py:21: TqdmWarning: IProgress not found. Please update jupyter and ipywidgets. See https://ipywidgets.readthedocs.io/en/stable/user_install.html\n",
      "  from .autonotebook import tqdm as notebook_tqdm\n"
     ]
    }
   ],
   "source": [
    "import os\n",
    "import optuna\n",
    "from tsai.optuna import *\n",
    "import papermill as pm\n",
    "from tsai.optuna import run_optuna_study\n",
    "from fastcore.basics import *\n",
    "from optuna.distributions import *\n",
    "from optuna.samplers import TPESampler\n",
    "import wandb"
   ]
  },
  {
   "cell_type": "code",
   "execution_count": 2,
   "metadata": {},
   "outputs": [
    {
     "data": {
      "text/markdown": [
       "```json\n",
       "{ 'extra_params': {'bs': 128, 'n_epoch': 50},\n",
       "  'n_trials': 50,\n",
       "  'search_space': { 'arch.attn_dropout': DiscreteUniformDistribution(high=0.5, low=0.0, q=0.1),\n",
       "                    'arch.d_ff': IntUniformDistribution(high=512, low=32, step=32),\n",
       "                    'arch.d_model': IntUniformDistribution(high=512, low=32, step=32),\n",
       "                    'arch.decomposition': CategoricalDistribution(choices=(True, False)),\n",
       "                    'arch.dropout': DiscreteUniformDistribution(high=0.5, low=0.0, q=0.1),\n",
       "                    'arch.individual': CategoricalDistribution(choices=(True, False)),\n",
       "                    'arch.n_heads': CategoricalDistribution(choices=(2, 4, 8, 16, 32)),\n",
       "                    'arch.n_layers': IntUniformDistribution(high=6, low=1, step=1),\n",
       "                    'init_weights': CategoricalDistribution(choices=(True, False)),\n",
       "                    'lookback': CategoricalDistribution(choices=(18, 24, 36, 128, 192))},\n",
       "  'study_name': 'general_study_extended',\n",
       "  'study_type': 'bayesian',\n",
       "  'train_nb': '/workspaces/sw-driver-forecaster/dev_nbs/solfsmy_train.ipynb',\n",
       "  'use_wandb': True,\n",
       "  'wandb_mode': 'offline'}\n",
       "```"
      ],
      "text/plain": [
       "{'study_name': 'general_study_extended',\n",
       " 'study_type': 'bayesian',\n",
       " 'n_trials': 50,\n",
       " 'train_nb': '/workspaces/sw-driver-forecaster/dev_nbs/solfsmy_train.ipynb',\n",
       " 'search_space': {'arch.attn_dropout': DiscreteUniformDistribution(high=0.5, low=0.0, q=0.1),\n",
       "  'arch.d_model': IntUniformDistribution(high=512, low=32, step=32),\n",
       "  'arch.d_ff': IntUniformDistribution(high=512, low=32, step=32),\n",
       "  'arch.decomposition': CategoricalDistribution(choices=(True, False)),\n",
       "  'arch.dropout': DiscreteUniformDistribution(high=0.5, low=0.0, q=0.1),\n",
       "  'arch.individual': CategoricalDistribution(choices=(True, False)),\n",
       "  'arch.n_layers': IntUniformDistribution(high=6, low=1, step=1),\n",
       "  'arch.n_heads': CategoricalDistribution(choices=(2, 4, 8, 16, 32)),\n",
       "  'init_weights': CategoricalDistribution(choices=(True, False)),\n",
       "  'lookback': CategoricalDistribution(choices=(18, 24, 36, 128, 192))},\n",
       " 'extra_params': {'n_epoch': 50, 'bs': 128},\n",
       " 'use_wandb': True,\n",
       " 'wandb_mode': 'offline'}"
      ]
     },
     "execution_count": 2,
     "metadata": {},
     "output_type": "execute_result"
    }
   ],
   "source": [
    "config = AttrDict(\n",
    "    study_name = 'general_study_extended', # name of the Optuna study\n",
    "    study_type = 'bayesian', # 'bayesian' or 'gridsearch' or 'random'\n",
    "    n_trials = 50, # number of trials\n",
    "    train_nb = f'{os.getcwd()}/solfsmy_train.ipynb', # path to the notebook to be executed\n",
    "    search_space = {\n",
    "        \"arch.attn_dropout\": DiscreteUniformDistribution(0.0, 0.5, 0.1),\n",
    "        \"arch.d_model\": IntUniformDistribution(32, 512, 32),\n",
    "        \"arch.d_ff\": IntUniformDistribution(32, 512, 32),\n",
    "        \"arch.decomposition\": CategoricalDistribution([True, False]),\n",
    "        \"arch.dropout\": DiscreteUniformDistribution(0.0, 0.5, 0.1), \n",
    "        \"arch.individual\": CategoricalDistribution([True, False]),\n",
    "        \"arch.n_layers\": IntUniformDistribution(1, 6, 1),\n",
    "        \"arch.n_heads\": CategoricalDistribution([2, 4, 8, 16, 32]),\n",
    "        \"init_weights\": CategoricalDistribution([True, False]), # true = kaiming\n",
    "        \"lookback\": CategoricalDistribution([18, 24, 36, 128, 192])  # Change here\n",
    "    },\n",
    "    # Add extra parameters that are fixed, but not part of the search space\n",
    "    extra_params = {\n",
    "        \"n_epoch\": 50,\n",
    "        \"bs\": 128\n",
    "    },\n",
    "    use_wandb = True,\n",
    "    wandb_mode = 'offline'\n",
    ")\n",
    "\n",
    "config"
   ]
  },
  {
   "cell_type": "code",
   "execution_count": 3,
   "metadata": {},
   "outputs": [],
   "source": [
    "def create_objective(train_nb, search_space, extra_params=None, use_wandb=False):\n",
    "    \"\"\"\n",
    "        Create objective function to be minimized by Optuna.\n",
    "        Inputs:\n",
    "            trial: Optuna trial object\n",
    "            train_nb: path to the training notebook\n",
    "            search_vars: keys of the search space to be used\n",
    "            wandb_group: name of the wandb group to be used\n",
    "        Output:\n",
    "            valid_loss: validation loss\n",
    "    \"\"\"\n",
    "    def objective(trial:optuna.Trial):\n",
    "        # Define the parameters to be passed to the training notebook through papermill\n",
    "        pm_parameters = {}\n",
    "        for k,v in search_space.items():\n",
    "            pm_parameters['config.' + k] = trial._suggest(k, v)\n",
    "\n",
    "        # Add the extra parameters to the dictionary. The key of every parameter \n",
    "        # must be 'config.<param_name>'\n",
    "        if extra_params is not None:\n",
    "            for k,v in extra_params.items():\n",
    "                pm_parameters['config.' + k] = v\n",
    "                \n",
    "        # If using wandb, enable that in the training runs, all of them gathered\n",
    "        # into a group (NOTE: The train nb must have and use these config arguments)\n",
    "        if use_wandb:\n",
    "            pm_parameters['config.use_wandb'] = True\n",
    "            pm_parameters['config.wandb_group'] = config.study_name + '_runs'\n",
    "\n",
    "        # Call the training notebook using papermill (don't print the output)\n",
    "        stdout_file = open('tmp/pm_stdout.txt', 'w')\n",
    "        stderr_file = open('tmp/pm_stderr.txt', 'w')\n",
    "\n",
    "        pm.execute_notebook(\n",
    "            train_nb,\n",
    "            './tmp/pm_output.ipynb',\n",
    "            parameters = pm_parameters,\n",
    "            stdout_file = stdout_file,\n",
    "            stderr_file = stderr_file\n",
    "        )\n",
    "\n",
    "        # Close the output files\n",
    "        stdout_file.close()\n",
    "        stderr_file.close()\n",
    "\n",
    "        # Get the output value of interest from the source notebook\n",
    "        loss = None\n",
    "        %store -r valid_loss\n",
    "        print(f'Validation loss: {valid_loss}')\n",
    "        return valid_loss\n",
    "\n",
    "    return objective"
   ]
  },
  {
   "cell_type": "code",
   "execution_count": 4,
   "metadata": {},
   "outputs": [
    {
     "name": "stderr",
     "output_type": "stream",
     "text": [
      "[I 2024-07-08 10:26:11,904] A new study created in memory with name: general_study_extended\n",
      "  0%|          | 0/50 [00:00<?, ?it/s]Passed unknown parameter: config.arch.attn_dropout\n",
      "Passed unknown parameter: config.arch.d_model\n",
      "Passed unknown parameter: config.arch.d_ff\n",
      "Passed unknown parameter: config.arch.decomposition\n",
      "Passed unknown parameter: config.arch.dropout\n",
      "Passed unknown parameter: config.arch.individual\n",
      "Passed unknown parameter: config.arch.n_layers\n",
      "Passed unknown parameter: config.arch.n_heads\n",
      "Passed unknown parameter: config.init_weights\n",
      "Passed unknown parameter: config.lookback\n",
      "Passed unknown parameter: config.n_epoch\n",
      "Passed unknown parameter: config.bs\n",
      "Passed unknown parameter: config.use_wandb\n",
      "Passed unknown parameter: config.wandb_group\n",
      "Executing: 100%|██████████| 49/49 [00:28<00:00,  1.72cell/s]\n",
      "Best trial: 0. Best value: 313.616:   2%|▏         | 1/50 [00:28<23:24, 28.67s/it]Passed unknown parameter: config.arch.attn_dropout\n",
      "Passed unknown parameter: config.arch.d_model\n",
      "Passed unknown parameter: config.arch.d_ff\n",
      "Passed unknown parameter: config.arch.decomposition\n",
      "Passed unknown parameter: config.arch.dropout\n",
      "Passed unknown parameter: config.arch.individual\n",
      "Passed unknown parameter: config.arch.n_layers\n",
      "Passed unknown parameter: config.arch.n_heads\n",
      "Passed unknown parameter: config.init_weights\n",
      "Passed unknown parameter: config.lookback\n",
      "Passed unknown parameter: config.n_epoch\n",
      "Passed unknown parameter: config.bs\n",
      "Passed unknown parameter: config.use_wandb\n",
      "Passed unknown parameter: config.wandb_group\n"
     ]
    },
    {
     "name": "stdout",
     "output_type": "stream",
     "text": [
      "Validation loss: 313.6161804199219\n",
      "[I 2024-07-08 10:26:40,574] Trial 0 finished with value: 313.6161804199219 and parameters: {'arch.attn_dropout': 0.4, 'arch.d_model': 320, 'arch.d_ff': 224, 'arch.decomposition': False, 'arch.dropout': 0.0, 'arch.individual': False, 'arch.n_layers': 3, 'arch.n_heads': 2, 'init_weights': True, 'lookback': 128}. Best is trial 0 with value: 313.6161804199219.\n"
     ]
    },
    {
     "name": "stderr",
     "output_type": "stream",
     "text": [
      "Executing: 100%|██████████| 49/49 [00:25<00:00,  1.91cell/s]\n",
      "Best trial: 0. Best value: 313.616:   4%|▍         | 2/50 [00:54<21:31, 26.92s/it]Passed unknown parameter: config.arch.attn_dropout\n",
      "Passed unknown parameter: config.arch.d_model\n",
      "Passed unknown parameter: config.arch.d_ff\n",
      "Passed unknown parameter: config.arch.decomposition\n",
      "Passed unknown parameter: config.arch.dropout\n",
      "Passed unknown parameter: config.arch.individual\n",
      "Passed unknown parameter: config.arch.n_layers\n",
      "Passed unknown parameter: config.arch.n_heads\n",
      "Passed unknown parameter: config.init_weights\n",
      "Passed unknown parameter: config.lookback\n",
      "Passed unknown parameter: config.n_epoch\n",
      "Passed unknown parameter: config.bs\n",
      "Passed unknown parameter: config.use_wandb\n",
      "Passed unknown parameter: config.wandb_group\n"
     ]
    },
    {
     "name": "stdout",
     "output_type": "stream",
     "text": [
      "Validation loss: 357.7586364746094\n",
      "[I 2024-07-08 10:27:06,264] Trial 1 finished with value: 357.7586364746094 and parameters: {'arch.attn_dropout': 0.1, 'arch.d_model': 256, 'arch.d_ff': 64, 'arch.decomposition': False, 'arch.dropout': 0.5, 'arch.individual': True, 'arch.n_layers': 4, 'arch.n_heads': 32, 'init_weights': True, 'lookback': 18}. Best is trial 0 with value: 313.6161804199219.\n"
     ]
    },
    {
     "name": "stderr",
     "output_type": "stream",
     "text": [
      "Executing: 100%|██████████| 49/49 [00:25<00:00,  1.93cell/s]\n",
      "Best trial: 2. Best value: 150.979:   6%|▌         | 3/50 [01:19<20:32, 26.22s/it]Passed unknown parameter: config.arch.attn_dropout\n",
      "Passed unknown parameter: config.arch.d_model\n",
      "Passed unknown parameter: config.arch.d_ff\n",
      "Passed unknown parameter: config.arch.decomposition\n",
      "Passed unknown parameter: config.arch.dropout\n",
      "Passed unknown parameter: config.arch.individual\n",
      "Passed unknown parameter: config.arch.n_layers\n",
      "Passed unknown parameter: config.arch.n_heads\n",
      "Passed unknown parameter: config.init_weights\n",
      "Passed unknown parameter: config.lookback\n",
      "Passed unknown parameter: config.n_epoch\n",
      "Passed unknown parameter: config.bs\n",
      "Passed unknown parameter: config.use_wandb\n",
      "Passed unknown parameter: config.wandb_group\n"
     ]
    },
    {
     "name": "stdout",
     "output_type": "stream",
     "text": [
      "Validation loss: 150.97946166992188\n",
      "[I 2024-07-08 10:27:31,646] Trial 2 finished with value: 150.97946166992188 and parameters: {'arch.attn_dropout': 0.2, 'arch.d_model': 32, 'arch.d_ff': 448, 'arch.decomposition': True, 'arch.dropout': 0.30000000000000004, 'arch.individual': True, 'arch.n_layers': 1, 'arch.n_heads': 16, 'init_weights': False, 'lookback': 36}. Best is trial 2 with value: 150.97946166992188.\n"
     ]
    },
    {
     "name": "stderr",
     "output_type": "stream",
     "text": [
      "Executing: 100%|██████████| 49/49 [00:43<00:00,  1.12cell/s]\n",
      "Best trial: 2. Best value: 150.979:   8%|▊         | 4/50 [02:03<25:28, 33.22s/it]Passed unknown parameter: config.arch.attn_dropout\n",
      "Passed unknown parameter: config.arch.d_model\n",
      "Passed unknown parameter: config.arch.d_ff\n",
      "Passed unknown parameter: config.arch.decomposition\n",
      "Passed unknown parameter: config.arch.dropout\n",
      "Passed unknown parameter: config.arch.individual\n",
      "Passed unknown parameter: config.arch.n_layers\n",
      "Passed unknown parameter: config.arch.n_heads\n",
      "Passed unknown parameter: config.init_weights\n",
      "Passed unknown parameter: config.lookback\n",
      "Passed unknown parameter: config.n_epoch\n",
      "Passed unknown parameter: config.bs\n",
      "Passed unknown parameter: config.use_wandb\n",
      "Passed unknown parameter: config.wandb_group\n"
     ]
    },
    {
     "name": "stdout",
     "output_type": "stream",
     "text": [
      "Validation loss: 193.8299560546875\n",
      "[I 2024-07-08 10:28:15,600] Trial 3 finished with value: 193.8299560546875 and parameters: {'arch.attn_dropout': 0.30000000000000004, 'arch.d_model': 352, 'arch.d_ff': 192, 'arch.decomposition': True, 'arch.dropout': 0.30000000000000004, 'arch.individual': True, 'arch.n_layers': 3, 'arch.n_heads': 2, 'init_weights': False, 'lookback': 128}. Best is trial 2 with value: 150.97946166992188.\n"
     ]
    },
    {
     "name": "stderr",
     "output_type": "stream",
     "text": [
      "Executing: 100%|██████████| 49/49 [00:25<00:00,  1.93cell/s]\n",
      "Best trial: 2. Best value: 150.979:  10%|█         | 5/50 [02:29<22:49, 30.42s/it]Passed unknown parameter: config.arch.attn_dropout\n",
      "Passed unknown parameter: config.arch.d_model\n",
      "Passed unknown parameter: config.arch.d_ff\n",
      "Passed unknown parameter: config.arch.decomposition\n",
      "Passed unknown parameter: config.arch.dropout\n",
      "Passed unknown parameter: config.arch.individual\n",
      "Passed unknown parameter: config.arch.n_layers\n",
      "Passed unknown parameter: config.arch.n_heads\n",
      "Passed unknown parameter: config.init_weights\n",
      "Passed unknown parameter: config.lookback\n",
      "Passed unknown parameter: config.n_epoch\n",
      "Passed unknown parameter: config.bs\n",
      "Passed unknown parameter: config.use_wandb\n",
      "Passed unknown parameter: config.wandb_group\n"
     ]
    },
    {
     "name": "stdout",
     "output_type": "stream",
     "text": [
      "Validation loss: 211.1691436767578\n",
      "[I 2024-07-08 10:28:41,067] Trial 4 finished with value: 211.1691436767578 and parameters: {'arch.attn_dropout': 0.1, 'arch.d_model': 224, 'arch.d_ff': 64, 'arch.decomposition': False, 'arch.dropout': 0.4, 'arch.individual': True, 'arch.n_layers': 5, 'arch.n_heads': 4, 'init_weights': False, 'lookback': 36}. Best is trial 2 with value: 150.97946166992188.\n"
     ]
    },
    {
     "name": "stderr",
     "output_type": "stream",
     "text": [
      "Executing: 100%|██████████| 49/49 [00:47<00:00,  1.03cell/s]\n",
      "Best trial: 2. Best value: 150.979:  12%|█▏        | 6/50 [03:16<26:33, 36.21s/it]Passed unknown parameter: config.arch.attn_dropout\n",
      "Passed unknown parameter: config.arch.d_model\n",
      "Passed unknown parameter: config.arch.d_ff\n",
      "Passed unknown parameter: config.arch.decomposition\n",
      "Passed unknown parameter: config.arch.dropout\n",
      "Passed unknown parameter: config.arch.individual\n",
      "Passed unknown parameter: config.arch.n_layers\n",
      "Passed unknown parameter: config.arch.n_heads\n",
      "Passed unknown parameter: config.init_weights\n",
      "Passed unknown parameter: config.lookback\n",
      "Passed unknown parameter: config.n_epoch\n",
      "Passed unknown parameter: config.bs\n",
      "Passed unknown parameter: config.use_wandb\n",
      "Passed unknown parameter: config.wandb_group\n"
     ]
    },
    {
     "name": "stdout",
     "output_type": "stream",
     "text": [
      "Validation loss: 196.25535583496094\n",
      "[I 2024-07-08 10:29:28,499] Trial 5 finished with value: 196.25535583496094 and parameters: {'arch.attn_dropout': 0.4, 'arch.d_model': 192, 'arch.d_ff': 320, 'arch.decomposition': True, 'arch.dropout': 0.5, 'arch.individual': True, 'arch.n_layers': 5, 'arch.n_heads': 4, 'init_weights': False, 'lookback': 192}. Best is trial 2 with value: 150.97946166992188.\n"
     ]
    },
    {
     "name": "stderr",
     "output_type": "stream",
     "text": [
      "Executing: 100%|██████████| 49/49 [00:51<00:00,  1.04s/cell]\n",
      "Best trial: 2. Best value: 150.979:  14%|█▍        | 7/50 [04:07<29:28, 41.12s/it]Passed unknown parameter: config.arch.attn_dropout\n",
      "Passed unknown parameter: config.arch.d_model\n",
      "Passed unknown parameter: config.arch.d_ff\n",
      "Passed unknown parameter: config.arch.decomposition\n",
      "Passed unknown parameter: config.arch.dropout\n",
      "Passed unknown parameter: config.arch.individual\n",
      "Passed unknown parameter: config.arch.n_layers\n",
      "Passed unknown parameter: config.arch.n_heads\n",
      "Passed unknown parameter: config.init_weights\n",
      "Passed unknown parameter: config.lookback\n",
      "Passed unknown parameter: config.n_epoch\n",
      "Passed unknown parameter: config.bs\n",
      "Passed unknown parameter: config.use_wandb\n",
      "Passed unknown parameter: config.wandb_group\n"
     ]
    },
    {
     "name": "stdout",
     "output_type": "stream",
     "text": [
      "Validation loss: 404.7192687988281\n",
      "[I 2024-07-08 10:30:19,747] Trial 6 finished with value: 404.7192687988281 and parameters: {'arch.attn_dropout': 0.4, 'arch.d_model': 224, 'arch.d_ff': 96, 'arch.decomposition': True, 'arch.dropout': 0.0, 'arch.individual': False, 'arch.n_layers': 5, 'arch.n_heads': 8, 'init_weights': True, 'lookback': 192}. Best is trial 2 with value: 150.97946166992188.\n"
     ]
    },
    {
     "name": "stderr",
     "output_type": "stream",
     "text": [
      "Executing: 100%|██████████| 49/49 [00:24<00:00,  1.99cell/s]\n",
      "Best trial: 2. Best value: 150.979:  16%|█▌        | 8/50 [04:32<25:07, 35.90s/it]Passed unknown parameter: config.arch.attn_dropout\n",
      "Passed unknown parameter: config.arch.d_model\n",
      "Passed unknown parameter: config.arch.d_ff\n",
      "Passed unknown parameter: config.arch.decomposition\n",
      "Passed unknown parameter: config.arch.dropout\n",
      "Passed unknown parameter: config.arch.individual\n",
      "Passed unknown parameter: config.arch.n_layers\n",
      "Passed unknown parameter: config.arch.n_heads\n",
      "Passed unknown parameter: config.init_weights\n",
      "Passed unknown parameter: config.lookback\n",
      "Passed unknown parameter: config.n_epoch\n",
      "Passed unknown parameter: config.bs\n",
      "Passed unknown parameter: config.use_wandb\n",
      "Passed unknown parameter: config.wandb_group\n"
     ]
    },
    {
     "name": "stdout",
     "output_type": "stream",
     "text": [
      "Validation loss: 153.54844665527344\n",
      "[I 2024-07-08 10:30:44,475] Trial 7 finished with value: 153.54844665527344 and parameters: {'arch.attn_dropout': 0.30000000000000004, 'arch.d_model': 224, 'arch.d_ff': 32, 'arch.decomposition': True, 'arch.dropout': 0.4, 'arch.individual': True, 'arch.n_layers': 1, 'arch.n_heads': 32, 'init_weights': True, 'lookback': 24}. Best is trial 2 with value: 150.97946166992188.\n"
     ]
    },
    {
     "name": "stderr",
     "output_type": "stream",
     "text": [
      "Executing: 100%|██████████| 49/49 [00:25<00:00,  1.91cell/s]\n",
      "Best trial: 8. Best value: 144.888:  18%|█▊        | 9/50 [04:58<22:22, 32.73s/it]Passed unknown parameter: config.arch.attn_dropout\n",
      "Passed unknown parameter: config.arch.d_model\n",
      "Passed unknown parameter: config.arch.d_ff\n",
      "Passed unknown parameter: config.arch.decomposition\n",
      "Passed unknown parameter: config.arch.dropout\n",
      "Passed unknown parameter: config.arch.individual\n",
      "Passed unknown parameter: config.arch.n_layers\n",
      "Passed unknown parameter: config.arch.n_heads\n",
      "Passed unknown parameter: config.init_weights\n",
      "Passed unknown parameter: config.lookback\n",
      "Passed unknown parameter: config.n_epoch\n",
      "Passed unknown parameter: config.bs\n",
      "Passed unknown parameter: config.use_wandb\n",
      "Passed unknown parameter: config.wandb_group\n"
     ]
    },
    {
     "name": "stdout",
     "output_type": "stream",
     "text": [
      "Validation loss: 144.8881072998047\n",
      "[I 2024-07-08 10:31:10,241] Trial 8 finished with value: 144.8881072998047 and parameters: {'arch.attn_dropout': 0.4, 'arch.d_model': 96, 'arch.d_ff': 416, 'arch.decomposition': True, 'arch.dropout': 0.5, 'arch.individual': True, 'arch.n_layers': 2, 'arch.n_heads': 16, 'init_weights': False, 'lookback': 36}. Best is trial 8 with value: 144.8881072998047.\n"
     ]
    },
    {
     "name": "stderr",
     "output_type": "stream",
     "text": [
      "Executing: 100%|██████████| 49/49 [00:30<00:00,  1.58cell/s]\n",
      "Best trial: 9. Best value: 139.175:  20%|██        | 10/50 [05:29<21:27, 32.19s/it]Passed unknown parameter: config.arch.attn_dropout\n",
      "Passed unknown parameter: config.arch.d_model\n",
      "Passed unknown parameter: config.arch.d_ff\n",
      "Passed unknown parameter: config.arch.decomposition\n",
      "Passed unknown parameter: config.arch.dropout\n",
      "Passed unknown parameter: config.arch.individual\n",
      "Passed unknown parameter: config.arch.n_layers\n",
      "Passed unknown parameter: config.arch.n_heads\n",
      "Passed unknown parameter: config.init_weights\n",
      "Passed unknown parameter: config.lookback\n",
      "Passed unknown parameter: config.n_epoch\n",
      "Passed unknown parameter: config.bs\n",
      "Passed unknown parameter: config.use_wandb\n",
      "Passed unknown parameter: config.wandb_group\n"
     ]
    },
    {
     "name": "stdout",
     "output_type": "stream",
     "text": [
      "Validation loss: 139.17538452148438\n",
      "[I 2024-07-08 10:31:41,213] Trial 9 finished with value: 139.17538452148438 and parameters: {'arch.attn_dropout': 0.30000000000000004, 'arch.d_model': 352, 'arch.d_ff': 128, 'arch.decomposition': True, 'arch.dropout': 0.5, 'arch.individual': False, 'arch.n_layers': 4, 'arch.n_heads': 8, 'init_weights': False, 'lookback': 24}. Best is trial 9 with value: 139.17538452148438.\n"
     ]
    },
    {
     "name": "stderr",
     "output_type": "stream",
     "text": [
      "Executing: 100%|██████████| 49/49 [00:31<00:00,  1.54cell/s]\n",
      "Best trial: 9. Best value: 139.175:  22%|██▏       | 11/50 [06:01<20:50, 32.07s/it]Passed unknown parameter: config.arch.attn_dropout\n",
      "Passed unknown parameter: config.arch.d_model\n",
      "Passed unknown parameter: config.arch.d_ff\n",
      "Passed unknown parameter: config.arch.decomposition\n",
      "Passed unknown parameter: config.arch.dropout\n",
      "Passed unknown parameter: config.arch.individual\n",
      "Passed unknown parameter: config.arch.n_layers\n",
      "Passed unknown parameter: config.arch.n_heads\n",
      "Passed unknown parameter: config.init_weights\n",
      "Passed unknown parameter: config.lookback\n",
      "Passed unknown parameter: config.n_epoch\n",
      "Passed unknown parameter: config.bs\n",
      "Passed unknown parameter: config.use_wandb\n",
      "Passed unknown parameter: config.wandb_group\n"
     ]
    },
    {
     "name": "stdout",
     "output_type": "stream",
     "text": [
      "Validation loss: 142.8980712890625\n",
      "[I 2024-07-08 10:32:13,005] Trial 10 finished with value: 142.8980712890625 and parameters: {'arch.attn_dropout': 0.5, 'arch.d_model': 384, 'arch.d_ff': 64, 'arch.decomposition': True, 'arch.dropout': 0.30000000000000004, 'arch.individual': False, 'arch.n_layers': 4, 'arch.n_heads': 8, 'init_weights': False, 'lookback': 36}. Best is trial 9 with value: 139.17538452148438.\n"
     ]
    },
    {
     "name": "stderr",
     "output_type": "stream",
     "text": [
      "Executing: 100%|██████████| 49/49 [00:40<00:00,  1.20cell/s]\n",
      "Best trial: 9. Best value: 139.175:  24%|██▍       | 12/50 [06:42<22:01, 34.77s/it]Passed unknown parameter: config.arch.attn_dropout\n",
      "Passed unknown parameter: config.arch.d_model\n",
      "Passed unknown parameter: config.arch.d_ff\n",
      "Passed unknown parameter: config.arch.decomposition\n",
      "Passed unknown parameter: config.arch.dropout\n",
      "Passed unknown parameter: config.arch.individual\n",
      "Passed unknown parameter: config.arch.n_layers\n",
      "Passed unknown parameter: config.arch.n_heads\n",
      "Passed unknown parameter: config.init_weights\n",
      "Passed unknown parameter: config.lookback\n",
      "Passed unknown parameter: config.n_epoch\n",
      "Passed unknown parameter: config.bs\n",
      "Passed unknown parameter: config.use_wandb\n",
      "Passed unknown parameter: config.wandb_group\n"
     ]
    },
    {
     "name": "stdout",
     "output_type": "stream",
     "text": [
      "Validation loss: 149.92324829101562\n",
      "[I 2024-07-08 10:32:53,955] Trial 11 finished with value: 149.92324829101562 and parameters: {'arch.attn_dropout': 0.5, 'arch.d_model': 480, 'arch.d_ff': 96, 'arch.decomposition': True, 'arch.dropout': 0.30000000000000004, 'arch.individual': False, 'arch.n_layers': 5, 'arch.n_heads': 8, 'init_weights': False, 'lookback': 36}. Best is trial 9 with value: 139.17538452148438.\n"
     ]
    },
    {
     "name": "stderr",
     "output_type": "stream",
     "text": [
      "Executing: 100%|██████████| 49/49 [00:29<00:00,  1.67cell/s]\n",
      "Best trial: 9. Best value: 139.175:  26%|██▌       | 13/50 [07:11<20:27, 33.17s/it]Passed unknown parameter: config.arch.attn_dropout\n",
      "Passed unknown parameter: config.arch.d_model\n",
      "Passed unknown parameter: config.arch.d_ff\n",
      "Passed unknown parameter: config.arch.decomposition\n",
      "Passed unknown parameter: config.arch.dropout\n",
      "Passed unknown parameter: config.arch.individual\n",
      "Passed unknown parameter: config.arch.n_layers\n",
      "Passed unknown parameter: config.arch.n_heads\n",
      "Passed unknown parameter: config.init_weights\n",
      "Passed unknown parameter: config.lookback\n",
      "Passed unknown parameter: config.n_epoch\n",
      "Passed unknown parameter: config.bs\n",
      "Passed unknown parameter: config.use_wandb\n",
      "Passed unknown parameter: config.wandb_group\n"
     ]
    },
    {
     "name": "stdout",
     "output_type": "stream",
     "text": [
      "Validation loss: 325.3404235839844\n",
      "[I 2024-07-08 10:33:23,437] Trial 12 finished with value: 325.3404235839844 and parameters: {'arch.attn_dropout': 0.4, 'arch.d_model': 320, 'arch.d_ff': 320, 'arch.decomposition': True, 'arch.dropout': 0.5, 'arch.individual': False, 'arch.n_layers': 3, 'arch.n_heads': 8, 'init_weights': True, 'lookback': 24}. Best is trial 9 with value: 139.17538452148438.\n"
     ]
    },
    {
     "name": "stderr",
     "output_type": "stream",
     "text": [
      "Executing: 100%|██████████| 49/49 [00:26<00:00,  1.83cell/s]\n",
      "Best trial: 9. Best value: 139.175:  28%|██▊       | 14/50 [07:38<18:45, 31.27s/it]Passed unknown parameter: config.arch.attn_dropout\n",
      "Passed unknown parameter: config.arch.d_model\n",
      "Passed unknown parameter: config.arch.d_ff\n",
      "Passed unknown parameter: config.arch.decomposition\n",
      "Passed unknown parameter: config.arch.dropout\n",
      "Passed unknown parameter: config.arch.individual\n",
      "Passed unknown parameter: config.arch.n_layers\n",
      "Passed unknown parameter: config.arch.n_heads\n",
      "Passed unknown parameter: config.init_weights\n",
      "Passed unknown parameter: config.lookback\n",
      "Passed unknown parameter: config.n_epoch\n",
      "Passed unknown parameter: config.bs\n",
      "Passed unknown parameter: config.use_wandb\n",
      "Passed unknown parameter: config.wandb_group\n"
     ]
    },
    {
     "name": "stdout",
     "output_type": "stream",
     "text": [
      "Validation loss: 140.6482696533203\n",
      "[I 2024-07-08 10:33:50,336] Trial 13 finished with value: 140.6482696533203 and parameters: {'arch.attn_dropout': 0.30000000000000004, 'arch.d_model': 416, 'arch.d_ff': 64, 'arch.decomposition': False, 'arch.dropout': 0.5, 'arch.individual': False, 'arch.n_layers': 5, 'arch.n_heads': 8, 'init_weights': False, 'lookback': 24}. Best is trial 9 with value: 139.17538452148438.\n"
     ]
    },
    {
     "name": "stderr",
     "output_type": "stream",
     "text": [
      "Executing: 100%|██████████| 49/49 [00:26<00:00,  1.82cell/s]\n",
      "Best trial: 14. Best value: 139.07:  30%|███       | 15/50 [08:05<17:30, 30.01s/it]Passed unknown parameter: config.arch.attn_dropout\n",
      "Passed unknown parameter: config.arch.d_model\n",
      "Passed unknown parameter: config.arch.d_ff\n",
      "Passed unknown parameter: config.arch.decomposition\n",
      "Passed unknown parameter: config.arch.dropout\n",
      "Passed unknown parameter: config.arch.individual\n",
      "Passed unknown parameter: config.arch.n_layers\n",
      "Passed unknown parameter: config.arch.n_heads\n",
      "Passed unknown parameter: config.init_weights\n",
      "Passed unknown parameter: config.lookback\n",
      "Passed unknown parameter: config.n_epoch\n",
      "Passed unknown parameter: config.bs\n",
      "Passed unknown parameter: config.use_wandb\n",
      "Passed unknown parameter: config.wandb_group\n"
     ]
    },
    {
     "name": "stdout",
     "output_type": "stream",
     "text": [
      "Validation loss: 139.06968688964844\n",
      "[I 2024-07-08 10:34:17,427] Trial 14 finished with value: 139.06968688964844 and parameters: {'arch.attn_dropout': 0.4, 'arch.d_model': 320, 'arch.d_ff': 192, 'arch.decomposition': False, 'arch.dropout': 0.4, 'arch.individual': True, 'arch.n_layers': 6, 'arch.n_heads': 8, 'init_weights': False, 'lookback': 24}. Best is trial 14 with value: 139.06968688964844.\n"
     ]
    },
    {
     "name": "stderr",
     "output_type": "stream",
     "text": [
      "Executing: 100%|██████████| 49/49 [00:27<00:00,  1.76cell/s]\n",
      "Best trial: 15. Best value: 137.443:  32%|███▏      | 16/50 [08:33<16:39, 29.41s/it]Passed unknown parameter: config.arch.attn_dropout\n",
      "Passed unknown parameter: config.arch.d_model\n",
      "Passed unknown parameter: config.arch.d_ff\n",
      "Passed unknown parameter: config.arch.decomposition\n",
      "Passed unknown parameter: config.arch.dropout\n",
      "Passed unknown parameter: config.arch.individual\n",
      "Passed unknown parameter: config.arch.n_layers\n",
      "Passed unknown parameter: config.arch.n_heads\n",
      "Passed unknown parameter: config.init_weights\n",
      "Passed unknown parameter: config.lookback\n",
      "Passed unknown parameter: config.n_epoch\n",
      "Passed unknown parameter: config.bs\n",
      "Passed unknown parameter: config.use_wandb\n",
      "Passed unknown parameter: config.wandb_group\n"
     ]
    },
    {
     "name": "stdout",
     "output_type": "stream",
     "text": [
      "Validation loss: 137.44342041015625\n",
      "[I 2024-07-08 10:34:45,425] Trial 15 finished with value: 137.44342041015625 and parameters: {'arch.attn_dropout': 0.5, 'arch.d_model': 416, 'arch.d_ff': 352, 'arch.decomposition': False, 'arch.dropout': 0.30000000000000004, 'arch.individual': True, 'arch.n_layers': 5, 'arch.n_heads': 2, 'init_weights': False, 'lookback': 24}. Best is trial 15 with value: 137.44342041015625.\n"
     ]
    },
    {
     "name": "stderr",
     "output_type": "stream",
     "text": [
      "Executing: 100%|██████████| 49/49 [00:31<00:00,  1.58cell/s]\n",
      "Best trial: 15. Best value: 137.443:  34%|███▍      | 17/50 [09:04<16:26, 29.91s/it]Passed unknown parameter: config.arch.attn_dropout\n",
      "Passed unknown parameter: config.arch.d_model\n",
      "Passed unknown parameter: config.arch.d_ff\n",
      "Passed unknown parameter: config.arch.decomposition\n",
      "Passed unknown parameter: config.arch.dropout\n",
      "Passed unknown parameter: config.arch.individual\n",
      "Passed unknown parameter: config.arch.n_layers\n",
      "Passed unknown parameter: config.arch.n_heads\n",
      "Passed unknown parameter: config.init_weights\n",
      "Passed unknown parameter: config.lookback\n",
      "Passed unknown parameter: config.n_epoch\n",
      "Passed unknown parameter: config.bs\n",
      "Passed unknown parameter: config.use_wandb\n",
      "Passed unknown parameter: config.wandb_group\n"
     ]
    },
    {
     "name": "stdout",
     "output_type": "stream",
     "text": [
      "Validation loss: 294.3941650390625\n",
      "[I 2024-07-08 10:35:16,493] Trial 16 finished with value: 294.3941650390625 and parameters: {'arch.attn_dropout': 0.4, 'arch.d_model': 416, 'arch.d_ff': 320, 'arch.decomposition': False, 'arch.dropout': 0.5, 'arch.individual': True, 'arch.n_layers': 6, 'arch.n_heads': 2, 'init_weights': False, 'lookback': 36}. Best is trial 15 with value: 137.44342041015625.\n"
     ]
    },
    {
     "name": "stderr",
     "output_type": "stream",
     "text": [
      "Executing: 100%|██████████| 49/49 [00:26<00:00,  1.86cell/s]\n",
      "Best trial: 17. Best value: 135.705:  36%|███▌      | 18/50 [09:31<15:23, 28.86s/it]Passed unknown parameter: config.arch.attn_dropout\n",
      "Passed unknown parameter: config.arch.d_model\n",
      "Passed unknown parameter: config.arch.d_ff\n",
      "Passed unknown parameter: config.arch.decomposition\n",
      "Passed unknown parameter: config.arch.dropout\n",
      "Passed unknown parameter: config.arch.individual\n",
      "Passed unknown parameter: config.arch.n_layers\n",
      "Passed unknown parameter: config.arch.n_heads\n",
      "Passed unknown parameter: config.init_weights\n",
      "Passed unknown parameter: config.lookback\n",
      "Passed unknown parameter: config.n_epoch\n",
      "Passed unknown parameter: config.bs\n",
      "Passed unknown parameter: config.use_wandb\n",
      "Passed unknown parameter: config.wandb_group\n"
     ]
    },
    {
     "name": "stdout",
     "output_type": "stream",
     "text": [
      "Validation loss: 135.70513916015625\n",
      "[I 2024-07-08 10:35:42,912] Trial 17 finished with value: 135.70513916015625 and parameters: {'arch.attn_dropout': 0.30000000000000004, 'arch.d_model': 256, 'arch.d_ff': 352, 'arch.decomposition': False, 'arch.dropout': 0.2, 'arch.individual': True, 'arch.n_layers': 6, 'arch.n_heads': 8, 'init_weights': False, 'lookback': 24}. Best is trial 17 with value: 135.70513916015625.\n"
     ]
    },
    {
     "name": "stderr",
     "output_type": "stream",
     "text": [
      "Executing: 100%|██████████| 49/49 [00:25<00:00,  1.92cell/s]\n",
      "Best trial: 18. Best value: 133.914:  38%|███▊      | 19/50 [09:56<14:23, 27.87s/it]Passed unknown parameter: config.arch.attn_dropout\n",
      "Passed unknown parameter: config.arch.d_model\n",
      "Passed unknown parameter: config.arch.d_ff\n",
      "Passed unknown parameter: config.arch.decomposition\n",
      "Passed unknown parameter: config.arch.dropout\n",
      "Passed unknown parameter: config.arch.individual\n",
      "Passed unknown parameter: config.arch.n_layers\n",
      "Passed unknown parameter: config.arch.n_heads\n",
      "Passed unknown parameter: config.init_weights\n",
      "Passed unknown parameter: config.lookback\n",
      "Passed unknown parameter: config.n_epoch\n",
      "Passed unknown parameter: config.bs\n",
      "Passed unknown parameter: config.use_wandb\n",
      "Passed unknown parameter: config.wandb_group\n"
     ]
    },
    {
     "name": "stdout",
     "output_type": "stream",
     "text": [
      "Validation loss: 133.9144744873047\n",
      "[I 2024-07-08 10:36:08,479] Trial 18 finished with value: 133.9144744873047 and parameters: {'arch.attn_dropout': 0.30000000000000004, 'arch.d_model': 256, 'arch.d_ff': 320, 'arch.decomposition': False, 'arch.dropout': 0.1, 'arch.individual': True, 'arch.n_layers': 5, 'arch.n_heads': 2, 'init_weights': False, 'lookback': 24}. Best is trial 18 with value: 133.9144744873047.\n"
     ]
    },
    {
     "name": "stderr",
     "output_type": "stream",
     "text": [
      "Executing: 100%|██████████| 49/49 [00:25<00:00,  1.96cell/s]\n",
      "Best trial: 19. Best value: 133.136:  40%|████      | 20/50 [10:21<13:31, 27.05s/it]Passed unknown parameter: config.arch.attn_dropout\n",
      "Passed unknown parameter: config.arch.d_model\n",
      "Passed unknown parameter: config.arch.d_ff\n",
      "Passed unknown parameter: config.arch.decomposition\n",
      "Passed unknown parameter: config.arch.dropout\n",
      "Passed unknown parameter: config.arch.individual\n",
      "Passed unknown parameter: config.arch.n_layers\n",
      "Passed unknown parameter: config.arch.n_heads\n",
      "Passed unknown parameter: config.init_weights\n",
      "Passed unknown parameter: config.lookback\n",
      "Passed unknown parameter: config.n_epoch\n",
      "Passed unknown parameter: config.bs\n",
      "Passed unknown parameter: config.use_wandb\n",
      "Passed unknown parameter: config.wandb_group\n"
     ]
    },
    {
     "name": "stdout",
     "output_type": "stream",
     "text": [
      "Validation loss: 133.1361083984375\n",
      "[I 2024-07-08 10:36:33,605] Trial 19 finished with value: 133.1361083984375 and parameters: {'arch.attn_dropout': 0.2, 'arch.d_model': 64, 'arch.d_ff': 256, 'arch.decomposition': False, 'arch.dropout': 0.1, 'arch.individual': True, 'arch.n_layers': 6, 'arch.n_heads': 8, 'init_weights': False, 'lookback': 24}. Best is trial 19 with value: 133.1361083984375.\n"
     ]
    },
    {
     "name": "stderr",
     "output_type": "stream",
     "text": [
      "Executing: 100%|██████████| 49/49 [00:25<00:00,  1.92cell/s]\n",
      "Best trial: 20. Best value: 131.013:  42%|████▏     | 21/50 [10:47<12:51, 26.61s/it]Passed unknown parameter: config.arch.attn_dropout\n",
      "Passed unknown parameter: config.arch.d_model\n",
      "Passed unknown parameter: config.arch.d_ff\n",
      "Passed unknown parameter: config.arch.decomposition\n",
      "Passed unknown parameter: config.arch.dropout\n",
      "Passed unknown parameter: config.arch.individual\n",
      "Passed unknown parameter: config.arch.n_layers\n",
      "Passed unknown parameter: config.arch.n_heads\n",
      "Passed unknown parameter: config.init_weights\n",
      "Passed unknown parameter: config.lookback\n",
      "Passed unknown parameter: config.n_epoch\n",
      "Passed unknown parameter: config.bs\n",
      "Passed unknown parameter: config.use_wandb\n",
      "Passed unknown parameter: config.wandb_group\n"
     ]
    },
    {
     "name": "stdout",
     "output_type": "stream",
     "text": [
      "Validation loss: 131.0125274658203\n",
      "[I 2024-07-08 10:36:59,196] Trial 20 finished with value: 131.0125274658203 and parameters: {'arch.attn_dropout': 0.1, 'arch.d_model': 96, 'arch.d_ff': 192, 'arch.decomposition': False, 'arch.dropout': 0.1, 'arch.individual': True, 'arch.n_layers': 4, 'arch.n_heads': 8, 'init_weights': False, 'lookback': 24}. Best is trial 20 with value: 131.0125274658203.\n"
     ]
    },
    {
     "name": "stderr",
     "output_type": "stream",
     "text": [
      "Executing: 100%|██████████| 49/49 [00:25<00:00,  1.95cell/s]\n",
      "Best trial: 20. Best value: 131.013:  44%|████▍     | 22/50 [11:12<12:13, 26.19s/it]Passed unknown parameter: config.arch.attn_dropout\n",
      "Passed unknown parameter: config.arch.d_model\n",
      "Passed unknown parameter: config.arch.d_ff\n",
      "Passed unknown parameter: config.arch.decomposition\n",
      "Passed unknown parameter: config.arch.dropout\n",
      "Passed unknown parameter: config.arch.individual\n",
      "Passed unknown parameter: config.arch.n_layers\n",
      "Passed unknown parameter: config.arch.n_heads\n",
      "Passed unknown parameter: config.init_weights\n",
      "Passed unknown parameter: config.lookback\n",
      "Passed unknown parameter: config.n_epoch\n",
      "Passed unknown parameter: config.bs\n",
      "Passed unknown parameter: config.use_wandb\n",
      "Passed unknown parameter: config.wandb_group\n"
     ]
    },
    {
     "name": "stdout",
     "output_type": "stream",
     "text": [
      "Validation loss: 136.11184692382812\n",
      "[I 2024-07-08 10:37:24,409] Trial 21 finished with value: 136.11184692382812 and parameters: {'arch.attn_dropout': 0.1, 'arch.d_model': 32, 'arch.d_ff': 192, 'arch.decomposition': False, 'arch.dropout': 0.1, 'arch.individual': True, 'arch.n_layers': 4, 'arch.n_heads': 32, 'init_weights': False, 'lookback': 24}. Best is trial 20 with value: 131.0125274658203.\n"
     ]
    },
    {
     "name": "stderr",
     "output_type": "stream",
     "text": [
      "Executing: 100%|██████████| 49/49 [00:24<00:00,  2.02cell/s]\n",
      "Best trial: 20. Best value: 131.013:  46%|████▌     | 23/50 [11:36<11:31, 25.62s/it]Passed unknown parameter: config.arch.attn_dropout\n",
      "Passed unknown parameter: config.arch.d_model\n",
      "Passed unknown parameter: config.arch.d_ff\n",
      "Passed unknown parameter: config.arch.decomposition\n",
      "Passed unknown parameter: config.arch.dropout\n",
      "Passed unknown parameter: config.arch.individual\n",
      "Passed unknown parameter: config.arch.n_layers\n",
      "Passed unknown parameter: config.arch.n_heads\n",
      "Passed unknown parameter: config.init_weights\n",
      "Passed unknown parameter: config.lookback\n",
      "Passed unknown parameter: config.n_epoch\n",
      "Passed unknown parameter: config.bs\n",
      "Passed unknown parameter: config.use_wandb\n",
      "Passed unknown parameter: config.wandb_group\n"
     ]
    },
    {
     "name": "stdout",
     "output_type": "stream",
     "text": [
      "Validation loss: 137.42379760742188\n",
      "[I 2024-07-08 10:37:48,712] Trial 22 finished with value: 137.42379760742188 and parameters: {'arch.attn_dropout': 0.30000000000000004, 'arch.d_model': 256, 'arch.d_ff': 384, 'arch.decomposition': False, 'arch.dropout': 0.0, 'arch.individual': True, 'arch.n_layers': 3, 'arch.n_heads': 2, 'init_weights': False, 'lookback': 24}. Best is trial 20 with value: 131.0125274658203.\n"
     ]
    },
    {
     "name": "stderr",
     "output_type": "stream",
     "text": [
      "Executing: 100%|██████████| 49/49 [00:30<00:00,  1.62cell/s]\n",
      "Best trial: 20. Best value: 131.013:  48%|████▊     | 24/50 [12:07<11:42, 27.02s/it]Passed unknown parameter: config.arch.attn_dropout\n",
      "Passed unknown parameter: config.arch.d_model\n",
      "Passed unknown parameter: config.arch.d_ff\n",
      "Passed unknown parameter: config.arch.decomposition\n",
      "Passed unknown parameter: config.arch.dropout\n",
      "Passed unknown parameter: config.arch.individual\n",
      "Passed unknown parameter: config.arch.n_layers\n",
      "Passed unknown parameter: config.arch.n_heads\n",
      "Passed unknown parameter: config.init_weights\n",
      "Passed unknown parameter: config.lookback\n",
      "Passed unknown parameter: config.n_epoch\n",
      "Passed unknown parameter: config.bs\n",
      "Passed unknown parameter: config.use_wandb\n",
      "Passed unknown parameter: config.wandb_group\n"
     ]
    },
    {
     "name": "stdout",
     "output_type": "stream",
     "text": [
      "Validation loss: 142.64962768554688\n",
      "[I 2024-07-08 10:38:19,003] Trial 23 finished with value: 142.64962768554688 and parameters: {'arch.attn_dropout': 0.1, 'arch.d_model': 64, 'arch.d_ff': 288, 'arch.decomposition': True, 'arch.dropout': 0.2, 'arch.individual': True, 'arch.n_layers': 6, 'arch.n_heads': 8, 'init_weights': False, 'lookback': 36}. Best is trial 20 with value: 131.0125274658203.\n"
     ]
    },
    {
     "name": "stderr",
     "output_type": "stream",
     "text": [
      "Executing: 100%|██████████| 49/49 [00:24<00:00,  2.04cell/s]\n",
      "Best trial: 20. Best value: 131.013:  50%|█████     | 25/50 [12:31<10:53, 26.14s/it]Passed unknown parameter: config.arch.attn_dropout\n",
      "Passed unknown parameter: config.arch.d_model\n",
      "Passed unknown parameter: config.arch.d_ff\n",
      "Passed unknown parameter: config.arch.decomposition\n",
      "Passed unknown parameter: config.arch.dropout\n",
      "Passed unknown parameter: config.arch.individual\n",
      "Passed unknown parameter: config.arch.n_layers\n",
      "Passed unknown parameter: config.arch.n_heads\n",
      "Passed unknown parameter: config.init_weights\n",
      "Passed unknown parameter: config.lookback\n",
      "Passed unknown parameter: config.n_epoch\n",
      "Passed unknown parameter: config.bs\n",
      "Passed unknown parameter: config.use_wandb\n",
      "Passed unknown parameter: config.wandb_group\n"
     ]
    },
    {
     "name": "stdout",
     "output_type": "stream",
     "text": [
      "Validation loss: 134.70445251464844\n",
      "[I 2024-07-08 10:38:43,092] Trial 24 finished with value: 134.70445251464844 and parameters: {'arch.attn_dropout': 0.1, 'arch.d_model': 96, 'arch.d_ff': 32, 'arch.decomposition': False, 'arch.dropout': 0.1, 'arch.individual': False, 'arch.n_layers': 4, 'arch.n_heads': 8, 'init_weights': False, 'lookback': 24}. Best is trial 20 with value: 131.0125274658203.\n"
     ]
    },
    {
     "name": "stderr",
     "output_type": "stream",
     "text": [
      "Executing: 100%|██████████| 49/49 [00:31<00:00,  1.54cell/s]\n",
      "Best trial: 20. Best value: 131.013:  52%|█████▏    | 26/50 [13:03<11:08, 27.87s/it]Passed unknown parameter: config.arch.attn_dropout\n",
      "Passed unknown parameter: config.arch.d_model\n",
      "Passed unknown parameter: config.arch.d_ff\n",
      "Passed unknown parameter: config.arch.decomposition\n",
      "Passed unknown parameter: config.arch.dropout\n",
      "Passed unknown parameter: config.arch.individual\n",
      "Passed unknown parameter: config.arch.n_layers\n",
      "Passed unknown parameter: config.arch.n_heads\n",
      "Passed unknown parameter: config.init_weights\n",
      "Passed unknown parameter: config.lookback\n",
      "Passed unknown parameter: config.n_epoch\n",
      "Passed unknown parameter: config.bs\n",
      "Passed unknown parameter: config.use_wandb\n",
      "Passed unknown parameter: config.wandb_group\n"
     ]
    },
    {
     "name": "stdout",
     "output_type": "stream",
     "text": [
      "Validation loss: 131.8892822265625\n",
      "[I 2024-07-08 10:39:14,976] Trial 25 finished with value: 131.8892822265625 and parameters: {'arch.attn_dropout': 0.30000000000000004, 'arch.d_model': 96, 'arch.d_ff': 160, 'arch.decomposition': True, 'arch.dropout': 0.0, 'arch.individual': True, 'arch.n_layers': 6, 'arch.n_heads': 16, 'init_weights': False, 'lookback': 24}. Best is trial 20 with value: 131.0125274658203.\n"
     ]
    },
    {
     "name": "stderr",
     "output_type": "stream",
     "text": [
      "Executing: 100%|██████████| 49/49 [00:53<00:00,  1.09s/cell]\n",
      "Best trial: 20. Best value: 131.013:  54%|█████▍    | 27/50 [13:56<13:37, 35.55s/it]Passed unknown parameter: config.arch.attn_dropout\n",
      "Passed unknown parameter: config.arch.d_model\n",
      "Passed unknown parameter: config.arch.d_ff\n",
      "Passed unknown parameter: config.arch.decomposition\n",
      "Passed unknown parameter: config.arch.dropout\n",
      "Passed unknown parameter: config.arch.individual\n",
      "Passed unknown parameter: config.arch.n_layers\n",
      "Passed unknown parameter: config.arch.n_heads\n",
      "Passed unknown parameter: config.init_weights\n",
      "Passed unknown parameter: config.lookback\n",
      "Passed unknown parameter: config.n_epoch\n",
      "Passed unknown parameter: config.bs\n",
      "Passed unknown parameter: config.use_wandb\n",
      "Passed unknown parameter: config.wandb_group\n"
     ]
    },
    {
     "name": "stdout",
     "output_type": "stream",
     "text": [
      "Validation loss: 224.47825622558594\n",
      "[I 2024-07-08 10:40:08,445] Trial 26 finished with value: 224.47825622558594 and parameters: {'arch.attn_dropout': 0.30000000000000004, 'arch.d_model': 96, 'arch.d_ff': 192, 'arch.decomposition': True, 'arch.dropout': 0.0, 'arch.individual': True, 'arch.n_layers': 6, 'arch.n_heads': 16, 'init_weights': False, 'lookback': 192}. Best is trial 20 with value: 131.0125274658203.\n"
     ]
    },
    {
     "name": "stderr",
     "output_type": "stream",
     "text": [
      "Executing: 100%|██████████| 49/49 [00:24<00:00,  2.00cell/s]\n",
      "Best trial: 20. Best value: 131.013:  56%|█████▌    | 28/50 [14:21<11:49, 32.27s/it]Passed unknown parameter: config.arch.attn_dropout\n",
      "Passed unknown parameter: config.arch.d_model\n",
      "Passed unknown parameter: config.arch.d_ff\n",
      "Passed unknown parameter: config.arch.decomposition\n",
      "Passed unknown parameter: config.arch.dropout\n",
      "Passed unknown parameter: config.arch.individual\n",
      "Passed unknown parameter: config.arch.n_layers\n",
      "Passed unknown parameter: config.arch.n_heads\n",
      "Passed unknown parameter: config.init_weights\n",
      "Passed unknown parameter: config.lookback\n",
      "Passed unknown parameter: config.n_epoch\n",
      "Passed unknown parameter: config.bs\n",
      "Passed unknown parameter: config.use_wandb\n",
      "Passed unknown parameter: config.wandb_group\n"
     ]
    },
    {
     "name": "stdout",
     "output_type": "stream",
     "text": [
      "Validation loss: 190.26065063476562\n",
      "[I 2024-07-08 10:40:33,068] Trial 27 finished with value: 190.26065063476562 and parameters: {'arch.attn_dropout': 0.2, 'arch.d_model': 128, 'arch.d_ff': 192, 'arch.decomposition': False, 'arch.dropout': 0.2, 'arch.individual': True, 'arch.n_layers': 3, 'arch.n_heads': 8, 'init_weights': False, 'lookback': 128}. Best is trial 20 with value: 131.0125274658203.\n"
     ]
    },
    {
     "name": "stderr",
     "output_type": "stream",
     "text": [
      "Executing: 100%|██████████| 49/49 [00:28<00:00,  1.74cell/s]\n",
      "Best trial: 28. Best value: 129.62:  58%|█████▊    | 29/50 [14:49<10:52, 31.07s/it] Passed unknown parameter: config.arch.attn_dropout\n",
      "Passed unknown parameter: config.arch.d_model\n",
      "Passed unknown parameter: config.arch.d_ff\n",
      "Passed unknown parameter: config.arch.decomposition\n",
      "Passed unknown parameter: config.arch.dropout\n",
      "Passed unknown parameter: config.arch.individual\n",
      "Passed unknown parameter: config.arch.n_layers\n",
      "Passed unknown parameter: config.arch.n_heads\n",
      "Passed unknown parameter: config.init_weights\n",
      "Passed unknown parameter: config.lookback\n",
      "Passed unknown parameter: config.n_epoch\n",
      "Passed unknown parameter: config.bs\n",
      "Passed unknown parameter: config.use_wandb\n",
      "Passed unknown parameter: config.wandb_group\n"
     ]
    },
    {
     "name": "stdout",
     "output_type": "stream",
     "text": [
      "Validation loss: 129.62025451660156\n",
      "[I 2024-07-08 10:41:01,351] Trial 28 finished with value: 129.62025451660156 and parameters: {'arch.attn_dropout': 0.2, 'arch.d_model': 64, 'arch.d_ff': 192, 'arch.decomposition': True, 'arch.dropout': 0.0, 'arch.individual': True, 'arch.n_layers': 5, 'arch.n_heads': 8, 'init_weights': False, 'lookback': 24}. Best is trial 28 with value: 129.62025451660156.\n"
     ]
    },
    {
     "name": "stderr",
     "output_type": "stream",
     "text": [
      "Executing: 100%|██████████| 49/49 [00:27<00:00,  1.78cell/s]\n",
      "Best trial: 28. Best value: 129.62:  60%|██████    | 30/50 [15:17<10:00, 30.03s/it]Passed unknown parameter: config.arch.attn_dropout\n",
      "Passed unknown parameter: config.arch.d_model\n",
      "Passed unknown parameter: config.arch.d_ff\n",
      "Passed unknown parameter: config.arch.decomposition\n",
      "Passed unknown parameter: config.arch.dropout\n",
      "Passed unknown parameter: config.arch.individual\n",
      "Passed unknown parameter: config.arch.n_layers\n",
      "Passed unknown parameter: config.arch.n_heads\n",
      "Passed unknown parameter: config.init_weights\n",
      "Passed unknown parameter: config.lookback\n",
      "Passed unknown parameter: config.n_epoch\n",
      "Passed unknown parameter: config.bs\n",
      "Passed unknown parameter: config.use_wandb\n",
      "Passed unknown parameter: config.wandb_group\n"
     ]
    },
    {
     "name": "stdout",
     "output_type": "stream",
     "text": [
      "Validation loss: 163.6977081298828\n",
      "[I 2024-07-08 10:41:28,931] Trial 29 finished with value: 163.6977081298828 and parameters: {'arch.attn_dropout': 0.0, 'arch.d_model': 96, 'arch.d_ff': 160, 'arch.decomposition': True, 'arch.dropout': 0.0, 'arch.individual': True, 'arch.n_layers': 4, 'arch.n_heads': 8, 'init_weights': True, 'lookback': 24}. Best is trial 28 with value: 129.62025451660156.\n"
     ]
    },
    {
     "name": "stderr",
     "output_type": "stream",
     "text": [
      "Executing: 100%|██████████| 49/49 [00:30<00:00,  1.59cell/s]\n",
      "Best trial: 28. Best value: 129.62:  62%|██████▏   | 31/50 [15:47<09:35, 30.29s/it]Passed unknown parameter: config.arch.attn_dropout\n",
      "Passed unknown parameter: config.arch.d_model\n",
      "Passed unknown parameter: config.arch.d_ff\n",
      "Passed unknown parameter: config.arch.decomposition\n",
      "Passed unknown parameter: config.arch.dropout\n",
      "Passed unknown parameter: config.arch.individual\n",
      "Passed unknown parameter: config.arch.n_layers\n",
      "Passed unknown parameter: config.arch.n_heads\n",
      "Passed unknown parameter: config.init_weights\n",
      "Passed unknown parameter: config.lookback\n",
      "Passed unknown parameter: config.n_epoch\n",
      "Passed unknown parameter: config.bs\n",
      "Passed unknown parameter: config.use_wandb\n",
      "Passed unknown parameter: config.wandb_group\n"
     ]
    },
    {
     "name": "stdout",
     "output_type": "stream",
     "text": [
      "Validation loss: 132.0821533203125\n",
      "[I 2024-07-08 10:41:59,844] Trial 30 finished with value: 132.0821533203125 and parameters: {'arch.attn_dropout': 0.30000000000000004, 'arch.d_model': 128, 'arch.d_ff': 224, 'arch.decomposition': True, 'arch.dropout': 0.0, 'arch.individual': False, 'arch.n_layers': 5, 'arch.n_heads': 16, 'init_weights': False, 'lookback': 24}. Best is trial 28 with value: 129.62025451660156.\n"
     ]
    },
    {
     "name": "stderr",
     "output_type": "stream",
     "text": [
      "Executing: 100%|██████████| 49/49 [00:30<00:00,  1.62cell/s]\n",
      "Best trial: 28. Best value: 129.62:  64%|██████▍   | 32/50 [16:18<09:05, 30.31s/it]Passed unknown parameter: config.arch.attn_dropout\n",
      "Passed unknown parameter: config.arch.d_model\n",
      "Passed unknown parameter: config.arch.d_ff\n",
      "Passed unknown parameter: config.arch.decomposition\n",
      "Passed unknown parameter: config.arch.dropout\n",
      "Passed unknown parameter: config.arch.individual\n",
      "Passed unknown parameter: config.arch.n_layers\n",
      "Passed unknown parameter: config.arch.n_heads\n",
      "Passed unknown parameter: config.init_weights\n",
      "Passed unknown parameter: config.lookback\n",
      "Passed unknown parameter: config.n_epoch\n",
      "Passed unknown parameter: config.bs\n",
      "Passed unknown parameter: config.use_wandb\n",
      "Passed unknown parameter: config.wandb_group\n"
     ]
    },
    {
     "name": "stdout",
     "output_type": "stream",
     "text": [
      "Validation loss: 136.86105346679688\n",
      "[I 2024-07-08 10:42:30,203] Trial 31 finished with value: 136.86105346679688 and parameters: {'arch.attn_dropout': 0.4, 'arch.d_model': 256, 'arch.d_ff': 256, 'arch.decomposition': True, 'arch.dropout': 0.0, 'arch.individual': False, 'arch.n_layers': 4, 'arch.n_heads': 16, 'init_weights': False, 'lookback': 24}. Best is trial 28 with value: 129.62025451660156.\n"
     ]
    },
    {
     "name": "stderr",
     "output_type": "stream",
     "text": [
      "Executing: 100%|██████████| 49/49 [00:32<00:00,  1.52cell/s]\n",
      "Best trial: 28. Best value: 129.62:  66%|██████▌   | 33/50 [16:50<08:45, 30.93s/it]Passed unknown parameter: config.arch.attn_dropout\n",
      "Passed unknown parameter: config.arch.d_model\n",
      "Passed unknown parameter: config.arch.d_ff\n",
      "Passed unknown parameter: config.arch.decomposition\n",
      "Passed unknown parameter: config.arch.dropout\n",
      "Passed unknown parameter: config.arch.individual\n",
      "Passed unknown parameter: config.arch.n_layers\n",
      "Passed unknown parameter: config.arch.n_heads\n",
      "Passed unknown parameter: config.init_weights\n",
      "Passed unknown parameter: config.lookback\n",
      "Passed unknown parameter: config.n_epoch\n",
      "Passed unknown parameter: config.bs\n",
      "Passed unknown parameter: config.use_wandb\n",
      "Passed unknown parameter: config.wandb_group\n"
     ]
    },
    {
     "name": "stdout",
     "output_type": "stream",
     "text": [
      "Validation loss: 129.79368591308594\n",
      "[I 2024-07-08 10:43:02,587] Trial 32 finished with value: 129.79368591308594 and parameters: {'arch.attn_dropout': 0.4, 'arch.d_model': 96, 'arch.d_ff': 160, 'arch.decomposition': True, 'arch.dropout': 0.0, 'arch.individual': True, 'arch.n_layers': 6, 'arch.n_heads': 2, 'init_weights': False, 'lookback': 24}. Best is trial 28 with value: 129.62025451660156.\n"
     ]
    },
    {
     "name": "stderr",
     "output_type": "stream",
     "text": [
      "Executing: 100%|██████████| 49/49 [00:29<00:00,  1.67cell/s]\n",
      "Best trial: 28. Best value: 129.62:  68%|██████▊   | 34/50 [17:20<08:07, 30.47s/it]Passed unknown parameter: config.arch.attn_dropout\n",
      "Passed unknown parameter: config.arch.d_model\n",
      "Passed unknown parameter: config.arch.d_ff\n",
      "Passed unknown parameter: config.arch.decomposition\n",
      "Passed unknown parameter: config.arch.dropout\n",
      "Passed unknown parameter: config.arch.individual\n",
      "Passed unknown parameter: config.arch.n_layers\n",
      "Passed unknown parameter: config.arch.n_heads\n",
      "Passed unknown parameter: config.init_weights\n",
      "Passed unknown parameter: config.lookback\n",
      "Passed unknown parameter: config.n_epoch\n",
      "Passed unknown parameter: config.bs\n",
      "Passed unknown parameter: config.use_wandb\n",
      "Passed unknown parameter: config.wandb_group\n"
     ]
    },
    {
     "name": "stdout",
     "output_type": "stream",
     "text": [
      "Validation loss: 143.1936798095703\n",
      "[I 2024-07-08 10:43:31,991] Trial 33 finished with value: 143.1936798095703 and parameters: {'arch.attn_dropout': 0.4, 'arch.d_model': 32, 'arch.d_ff': 64, 'arch.decomposition': True, 'arch.dropout': 0.0, 'arch.individual': True, 'arch.n_layers': 6, 'arch.n_heads': 2, 'init_weights': False, 'lookback': 36}. Best is trial 28 with value: 129.62025451660156.\n"
     ]
    },
    {
     "name": "stderr",
     "output_type": "stream",
     "text": [
      "Executing: 100%|██████████| 49/49 [00:33<00:00,  1.47cell/s]\n",
      "Best trial: 28. Best value: 129.62:  70%|███████   | 35/50 [17:53<07:50, 31.38s/it]Passed unknown parameter: config.arch.attn_dropout\n",
      "Passed unknown parameter: config.arch.d_model\n",
      "Passed unknown parameter: config.arch.d_ff\n",
      "Passed unknown parameter: config.arch.decomposition\n",
      "Passed unknown parameter: config.arch.dropout\n",
      "Passed unknown parameter: config.arch.individual\n",
      "Passed unknown parameter: config.arch.n_layers\n",
      "Passed unknown parameter: config.arch.n_heads\n",
      "Passed unknown parameter: config.init_weights\n",
      "Passed unknown parameter: config.lookback\n",
      "Passed unknown parameter: config.n_epoch\n",
      "Passed unknown parameter: config.bs\n",
      "Passed unknown parameter: config.use_wandb\n",
      "Passed unknown parameter: config.wandb_group\n"
     ]
    },
    {
     "name": "stdout",
     "output_type": "stream",
     "text": [
      "Validation loss: 133.4212646484375\n",
      "[I 2024-07-08 10:44:05,469] Trial 34 finished with value: 133.4212646484375 and parameters: {'arch.attn_dropout': 0.4, 'arch.d_model': 288, 'arch.d_ff': 128, 'arch.decomposition': True, 'arch.dropout': 0.1, 'arch.individual': True, 'arch.n_layers': 6, 'arch.n_heads': 2, 'init_weights': False, 'lookback': 24}. Best is trial 28 with value: 129.62025451660156.\n"
     ]
    },
    {
     "name": "stderr",
     "output_type": "stream",
     "text": [
      "Executing: 100%|██████████| 49/49 [00:30<00:00,  1.60cell/s]\n",
      "Best trial: 28. Best value: 129.62:  72%|███████▏  | 36/50 [18:24<07:16, 31.16s/it]Passed unknown parameter: config.arch.attn_dropout\n",
      "Passed unknown parameter: config.arch.d_model\n",
      "Passed unknown parameter: config.arch.d_ff\n",
      "Passed unknown parameter: config.arch.decomposition\n",
      "Passed unknown parameter: config.arch.dropout\n",
      "Passed unknown parameter: config.arch.individual\n",
      "Passed unknown parameter: config.arch.n_layers\n",
      "Passed unknown parameter: config.arch.n_heads\n",
      "Passed unknown parameter: config.init_weights\n",
      "Passed unknown parameter: config.lookback\n",
      "Passed unknown parameter: config.n_epoch\n",
      "Passed unknown parameter: config.bs\n",
      "Passed unknown parameter: config.use_wandb\n",
      "Passed unknown parameter: config.wandb_group\n"
     ]
    },
    {
     "name": "stdout",
     "output_type": "stream",
     "text": [
      "Validation loss: 245.25741577148438\n",
      "[I 2024-07-08 10:44:36,129] Trial 35 finished with value: 245.25741577148438 and parameters: {'arch.attn_dropout': 0.2, 'arch.d_model': 128, 'arch.d_ff': 192, 'arch.decomposition': True, 'arch.dropout': 0.0, 'arch.individual': True, 'arch.n_layers': 3, 'arch.n_heads': 8, 'init_weights': False, 'lookback': 192}. Best is trial 28 with value: 129.62025451660156.\n"
     ]
    },
    {
     "name": "stderr",
     "output_type": "stream",
     "text": [
      "Executing: 100%|██████████| 49/49 [00:30<00:00,  1.62cell/s]\n",
      "Best trial: 28. Best value: 129.62:  74%|███████▍  | 37/50 [18:54<06:41, 30.92s/it]Passed unknown parameter: config.arch.attn_dropout\n",
      "Passed unknown parameter: config.arch.d_model\n",
      "Passed unknown parameter: config.arch.d_ff\n",
      "Passed unknown parameter: config.arch.decomposition\n",
      "Passed unknown parameter: config.arch.dropout\n",
      "Passed unknown parameter: config.arch.individual\n",
      "Passed unknown parameter: config.arch.n_layers\n",
      "Passed unknown parameter: config.arch.n_heads\n",
      "Passed unknown parameter: config.init_weights\n",
      "Passed unknown parameter: config.lookback\n",
      "Passed unknown parameter: config.n_epoch\n",
      "Passed unknown parameter: config.bs\n",
      "Passed unknown parameter: config.use_wandb\n",
      "Passed unknown parameter: config.wandb_group\n"
     ]
    },
    {
     "name": "stdout",
     "output_type": "stream",
     "text": [
      "Validation loss: 134.5896453857422\n",
      "[I 2024-07-08 10:45:06,492] Trial 36 finished with value: 134.5896453857422 and parameters: {'arch.attn_dropout': 0.2, 'arch.d_model': 128, 'arch.d_ff': 96, 'arch.decomposition': True, 'arch.dropout': 0.0, 'arch.individual': True, 'arch.n_layers': 5, 'arch.n_heads': 8, 'init_weights': False, 'lookback': 24}. Best is trial 28 with value: 129.62025451660156.\n"
     ]
    },
    {
     "name": "stderr",
     "output_type": "stream",
     "text": [
      "Executing: 100%|██████████| 49/49 [00:33<00:00,  1.48cell/s]\n",
      "Best trial: 28. Best value: 129.62:  76%|███████▌  | 38/50 [19:27<06:19, 31.60s/it]Passed unknown parameter: config.arch.attn_dropout\n",
      "Passed unknown parameter: config.arch.d_model\n",
      "Passed unknown parameter: config.arch.d_ff\n",
      "Passed unknown parameter: config.arch.decomposition\n",
      "Passed unknown parameter: config.arch.dropout\n",
      "Passed unknown parameter: config.arch.individual\n",
      "Passed unknown parameter: config.arch.n_layers\n",
      "Passed unknown parameter: config.arch.n_heads\n",
      "Passed unknown parameter: config.init_weights\n",
      "Passed unknown parameter: config.lookback\n",
      "Passed unknown parameter: config.n_epoch\n",
      "Passed unknown parameter: config.bs\n",
      "Passed unknown parameter: config.use_wandb\n",
      "Passed unknown parameter: config.wandb_group\n"
     ]
    },
    {
     "name": "stdout",
     "output_type": "stream",
     "text": [
      "Validation loss: 450.78802490234375\n",
      "[I 2024-07-08 10:45:39,690] Trial 37 finished with value: 450.78802490234375 and parameters: {'arch.attn_dropout': 0.30000000000000004, 'arch.d_model': 32, 'arch.d_ff': 320, 'arch.decomposition': True, 'arch.dropout': 0.0, 'arch.individual': True, 'arch.n_layers': 6, 'arch.n_heads': 8, 'init_weights': True, 'lookback': 128}. Best is trial 28 with value: 129.62025451660156.\n"
     ]
    },
    {
     "name": "stderr",
     "output_type": "stream",
     "text": [
      "Executing: 100%|██████████| 49/49 [00:29<00:00,  1.64cell/s]\n",
      "Best trial: 28. Best value: 129.62:  78%|███████▊  | 39/50 [19:57<05:42, 31.10s/it]Passed unknown parameter: config.arch.attn_dropout\n",
      "Passed unknown parameter: config.arch.d_model\n",
      "Passed unknown parameter: config.arch.d_ff\n",
      "Passed unknown parameter: config.arch.decomposition\n",
      "Passed unknown parameter: config.arch.dropout\n",
      "Passed unknown parameter: config.arch.individual\n",
      "Passed unknown parameter: config.arch.n_layers\n",
      "Passed unknown parameter: config.arch.n_heads\n",
      "Passed unknown parameter: config.init_weights\n",
      "Passed unknown parameter: config.lookback\n",
      "Passed unknown parameter: config.n_epoch\n",
      "Passed unknown parameter: config.bs\n",
      "Passed unknown parameter: config.use_wandb\n",
      "Passed unknown parameter: config.wandb_group\n"
     ]
    },
    {
     "name": "stdout",
     "output_type": "stream",
     "text": [
      "Validation loss: 322.5044860839844\n",
      "[I 2024-07-08 10:46:09,608] Trial 38 finished with value: 322.5044860839844 and parameters: {'arch.attn_dropout': 0.4, 'arch.d_model': 64, 'arch.d_ff': 192, 'arch.decomposition': True, 'arch.dropout': 0.1, 'arch.individual': True, 'arch.n_layers': 6, 'arch.n_heads': 4, 'init_weights': True, 'lookback': 24}. Best is trial 28 with value: 129.62025451660156.\n"
     ]
    },
    {
     "name": "stderr",
     "output_type": "stream",
     "text": [
      "Executing: 100%|██████████| 49/49 [00:37<00:00,  1.30cell/s]\n",
      "Best trial: 28. Best value: 129.62:  80%|████████  | 40/50 [20:35<05:30, 33.07s/it]Passed unknown parameter: config.arch.attn_dropout\n",
      "Passed unknown parameter: config.arch.d_model\n",
      "Passed unknown parameter: config.arch.d_ff\n",
      "Passed unknown parameter: config.arch.decomposition\n",
      "Passed unknown parameter: config.arch.dropout\n",
      "Passed unknown parameter: config.arch.individual\n",
      "Passed unknown parameter: config.arch.n_layers\n",
      "Passed unknown parameter: config.arch.n_heads\n",
      "Passed unknown parameter: config.init_weights\n",
      "Passed unknown parameter: config.lookback\n",
      "Passed unknown parameter: config.n_epoch\n",
      "Passed unknown parameter: config.bs\n",
      "Passed unknown parameter: config.use_wandb\n",
      "Passed unknown parameter: config.wandb_group\n"
     ]
    },
    {
     "name": "stdout",
     "output_type": "stream",
     "text": [
      "Validation loss: 131.4828643798828\n",
      "[I 2024-07-08 10:46:47,270] Trial 39 finished with value: 131.4828643798828 and parameters: {'arch.attn_dropout': 0.4, 'arch.d_model': 64, 'arch.d_ff': 192, 'arch.decomposition': True, 'arch.dropout': 0.1, 'arch.individual': True, 'arch.n_layers': 6, 'arch.n_heads': 32, 'init_weights': False, 'lookback': 24}. Best is trial 28 with value: 129.62025451660156.\n"
     ]
    },
    {
     "name": "stderr",
     "output_type": "stream",
     "text": [
      "Executing: 100%|██████████| 49/49 [00:25<00:00,  1.91cell/s]\n",
      "Best trial: 28. Best value: 129.62:  82%|████████▏ | 41/50 [21:01<04:37, 30.88s/it]Passed unknown parameter: config.arch.attn_dropout\n",
      "Passed unknown parameter: config.arch.d_model\n",
      "Passed unknown parameter: config.arch.d_ff\n",
      "Passed unknown parameter: config.arch.decomposition\n",
      "Passed unknown parameter: config.arch.dropout\n",
      "Passed unknown parameter: config.arch.individual\n",
      "Passed unknown parameter: config.arch.n_layers\n",
      "Passed unknown parameter: config.arch.n_heads\n",
      "Passed unknown parameter: config.init_weights\n",
      "Passed unknown parameter: config.lookback\n",
      "Passed unknown parameter: config.n_epoch\n",
      "Passed unknown parameter: config.bs\n",
      "Passed unknown parameter: config.use_wandb\n",
      "Passed unknown parameter: config.wandb_group\n"
     ]
    },
    {
     "name": "stdout",
     "output_type": "stream",
     "text": [
      "Validation loss: 133.47984313964844\n",
      "[I 2024-07-08 10:47:13,056] Trial 40 finished with value: 133.47984313964844 and parameters: {'arch.attn_dropout': 0.5, 'arch.d_model': 96, 'arch.d_ff': 32, 'arch.decomposition': False, 'arch.dropout': 0.1, 'arch.individual': True, 'arch.n_layers': 5, 'arch.n_heads': 32, 'init_weights': False, 'lookback': 24}. Best is trial 28 with value: 129.62025451660156.\n"
     ]
    },
    {
     "name": "stderr",
     "output_type": "stream",
     "text": [
      "Executing: 100%|██████████| 49/49 [00:36<00:00,  1.36cell/s]\n",
      "Best trial: 28. Best value: 129.62:  84%|████████▍ | 42/50 [21:37<04:19, 32.46s/it]Passed unknown parameter: config.arch.attn_dropout\n",
      "Passed unknown parameter: config.arch.d_model\n",
      "Passed unknown parameter: config.arch.d_ff\n",
      "Passed unknown parameter: config.arch.decomposition\n",
      "Passed unknown parameter: config.arch.dropout\n",
      "Passed unknown parameter: config.arch.individual\n",
      "Passed unknown parameter: config.arch.n_layers\n",
      "Passed unknown parameter: config.arch.n_heads\n",
      "Passed unknown parameter: config.init_weights\n",
      "Passed unknown parameter: config.lookback\n",
      "Passed unknown parameter: config.n_epoch\n",
      "Passed unknown parameter: config.bs\n",
      "Passed unknown parameter: config.use_wandb\n",
      "Passed unknown parameter: config.wandb_group\n"
     ]
    },
    {
     "name": "stdout",
     "output_type": "stream",
     "text": [
      "Validation loss: 132.91270446777344\n",
      "[I 2024-07-08 10:47:49,185] Trial 41 finished with value: 132.91270446777344 and parameters: {'arch.attn_dropout': 0.30000000000000004, 'arch.d_model': 96, 'arch.d_ff': 224, 'arch.decomposition': True, 'arch.dropout': 0.1, 'arch.individual': True, 'arch.n_layers': 6, 'arch.n_heads': 32, 'init_weights': False, 'lookback': 24}. Best is trial 28 with value: 129.62025451660156.\n"
     ]
    },
    {
     "name": "stderr",
     "output_type": "stream",
     "text": [
      "Executing: 100%|██████████| 49/49 [00:28<00:00,  1.73cell/s]\n",
      "Best trial: 28. Best value: 129.62:  86%|████████▌ | 43/50 [22:05<03:38, 31.22s/it]Passed unknown parameter: config.arch.attn_dropout\n",
      "Passed unknown parameter: config.arch.d_model\n",
      "Passed unknown parameter: config.arch.d_ff\n",
      "Passed unknown parameter: config.arch.decomposition\n",
      "Passed unknown parameter: config.arch.dropout\n",
      "Passed unknown parameter: config.arch.individual\n",
      "Passed unknown parameter: config.arch.n_layers\n",
      "Passed unknown parameter: config.arch.n_heads\n",
      "Passed unknown parameter: config.init_weights\n",
      "Passed unknown parameter: config.lookback\n",
      "Passed unknown parameter: config.n_epoch\n",
      "Passed unknown parameter: config.bs\n",
      "Passed unknown parameter: config.use_wandb\n",
      "Passed unknown parameter: config.wandb_group\n"
     ]
    },
    {
     "name": "stdout",
     "output_type": "stream",
     "text": [
      "Validation loss: 135.1184539794922\n",
      "[I 2024-07-08 10:48:17,514] Trial 42 finished with value: 135.1184539794922 and parameters: {'arch.attn_dropout': 0.4, 'arch.d_model': 64, 'arch.d_ff': 288, 'arch.decomposition': True, 'arch.dropout': 0.1, 'arch.individual': True, 'arch.n_layers': 4, 'arch.n_heads': 2, 'init_weights': False, 'lookback': 24}. Best is trial 28 with value: 129.62025451660156.\n"
     ]
    },
    {
     "name": "stderr",
     "output_type": "stream",
     "text": [
      "Executing: 100%|██████████| 49/49 [00:25<00:00,  1.92cell/s]\n",
      "Best trial: 28. Best value: 129.62:  88%|████████▊ | 44/50 [22:31<02:57, 29.52s/it]Passed unknown parameter: config.arch.attn_dropout\n",
      "Passed unknown parameter: config.arch.d_model\n",
      "Passed unknown parameter: config.arch.d_ff\n",
      "Passed unknown parameter: config.arch.decomposition\n",
      "Passed unknown parameter: config.arch.dropout\n",
      "Passed unknown parameter: config.arch.individual\n",
      "Passed unknown parameter: config.arch.n_layers\n",
      "Passed unknown parameter: config.arch.n_heads\n",
      "Passed unknown parameter: config.init_weights\n",
      "Passed unknown parameter: config.lookback\n",
      "Passed unknown parameter: config.n_epoch\n",
      "Passed unknown parameter: config.bs\n",
      "Passed unknown parameter: config.use_wandb\n",
      "Passed unknown parameter: config.wandb_group\n"
     ]
    },
    {
     "name": "stdout",
     "output_type": "stream",
     "text": [
      "Validation loss: 160.25096130371094\n",
      "[I 2024-07-08 10:48:43,084] Trial 43 finished with value: 160.25096130371094 and parameters: {'arch.attn_dropout': 0.30000000000000004, 'arch.d_model': 96, 'arch.d_ff': 128, 'arch.decomposition': False, 'arch.dropout': 0.1, 'arch.individual': False, 'arch.n_layers': 6, 'arch.n_heads': 16, 'init_weights': False, 'lookback': 18}. Best is trial 28 with value: 129.62025451660156.\n"
     ]
    },
    {
     "name": "stderr",
     "output_type": "stream",
     "text": [
      "Executing: 100%|██████████| 49/49 [00:29<00:00,  1.65cell/s]\n",
      "Best trial: 28. Best value: 129.62:  90%|█████████ | 45/50 [23:00<02:27, 29.58s/it]Passed unknown parameter: config.arch.attn_dropout\n",
      "Passed unknown parameter: config.arch.d_model\n",
      "Passed unknown parameter: config.arch.d_ff\n",
      "Passed unknown parameter: config.arch.decomposition\n",
      "Passed unknown parameter: config.arch.dropout\n",
      "Passed unknown parameter: config.arch.individual\n",
      "Passed unknown parameter: config.arch.n_layers\n",
      "Passed unknown parameter: config.arch.n_heads\n",
      "Passed unknown parameter: config.init_weights\n",
      "Passed unknown parameter: config.lookback\n",
      "Passed unknown parameter: config.n_epoch\n",
      "Passed unknown parameter: config.bs\n",
      "Passed unknown parameter: config.use_wandb\n",
      "Passed unknown parameter: config.wandb_group\n"
     ]
    },
    {
     "name": "stdout",
     "output_type": "stream",
     "text": [
      "Validation loss: 143.66053771972656\n",
      "[I 2024-07-08 10:49:12,779] Trial 44 finished with value: 143.66053771972656 and parameters: {'arch.attn_dropout': 0.4, 'arch.d_model': 128, 'arch.d_ff': 192, 'arch.decomposition': True, 'arch.dropout': 0.0, 'arch.individual': True, 'arch.n_layers': 5, 'arch.n_heads': 16, 'init_weights': True, 'lookback': 18}. Best is trial 28 with value: 129.62025451660156.\n"
     ]
    },
    {
     "name": "stderr",
     "output_type": "stream",
     "text": [
      "Executing: 100%|██████████| 49/49 [00:31<00:00,  1.55cell/s]\n",
      "Best trial: 28. Best value: 129.62:  92%|█████████▏| 46/50 [23:32<02:00, 30.24s/it]Passed unknown parameter: config.arch.attn_dropout\n",
      "Passed unknown parameter: config.arch.d_model\n",
      "Passed unknown parameter: config.arch.d_ff\n",
      "Passed unknown parameter: config.arch.decomposition\n",
      "Passed unknown parameter: config.arch.dropout\n",
      "Passed unknown parameter: config.arch.individual\n",
      "Passed unknown parameter: config.arch.n_layers\n",
      "Passed unknown parameter: config.arch.n_heads\n",
      "Passed unknown parameter: config.init_weights\n",
      "Passed unknown parameter: config.lookback\n",
      "Passed unknown parameter: config.n_epoch\n",
      "Passed unknown parameter: config.bs\n",
      "Passed unknown parameter: config.use_wandb\n",
      "Passed unknown parameter: config.wandb_group\n"
     ]
    },
    {
     "name": "stdout",
     "output_type": "stream",
     "text": [
      "Validation loss: 133.6382293701172\n",
      "[I 2024-07-08 10:49:44,554] Trial 45 finished with value: 133.6382293701172 and parameters: {'arch.attn_dropout': 0.2, 'arch.d_model': 64, 'arch.d_ff': 160, 'arch.decomposition': True, 'arch.dropout': 0.1, 'arch.individual': True, 'arch.n_layers': 6, 'arch.n_heads': 16, 'init_weights': False, 'lookback': 24}. Best is trial 28 with value: 129.62025451660156.\n"
     ]
    },
    {
     "name": "stderr",
     "output_type": "stream",
     "text": [
      "Executing: 100%|██████████| 49/49 [00:35<00:00,  1.39cell/s]\n",
      "Best trial: 28. Best value: 129.62:  94%|█████████▍| 47/50 [24:07<01:35, 31.77s/it]Passed unknown parameter: config.arch.attn_dropout\n",
      "Passed unknown parameter: config.arch.d_model\n",
      "Passed unknown parameter: config.arch.d_ff\n",
      "Passed unknown parameter: config.arch.decomposition\n",
      "Passed unknown parameter: config.arch.dropout\n",
      "Passed unknown parameter: config.arch.individual\n",
      "Passed unknown parameter: config.arch.n_layers\n",
      "Passed unknown parameter: config.arch.n_heads\n",
      "Passed unknown parameter: config.init_weights\n",
      "Passed unknown parameter: config.lookback\n",
      "Passed unknown parameter: config.n_epoch\n",
      "Passed unknown parameter: config.bs\n",
      "Passed unknown parameter: config.use_wandb\n",
      "Passed unknown parameter: config.wandb_group\n"
     ]
    },
    {
     "name": "stdout",
     "output_type": "stream",
     "text": [
      "Validation loss: 190.42684936523438\n",
      "[I 2024-07-08 10:50:19,895] Trial 46 finished with value: 190.42684936523438 and parameters: {'arch.attn_dropout': 0.30000000000000004, 'arch.d_model': 96, 'arch.d_ff': 224, 'arch.decomposition': True, 'arch.dropout': 0.1, 'arch.individual': True, 'arch.n_layers': 6, 'arch.n_heads': 4, 'init_weights': False, 'lookback': 128}. Best is trial 28 with value: 129.62025451660156.\n"
     ]
    },
    {
     "name": "stderr",
     "output_type": "stream",
     "text": [
      "Executing: 100%|██████████| 49/49 [00:28<00:00,  1.74cell/s]\n",
      "Best trial: 28. Best value: 129.62:  96%|█████████▌| 48/50 [24:36<01:01, 30.72s/it]Passed unknown parameter: config.arch.attn_dropout\n",
      "Passed unknown parameter: config.arch.d_model\n",
      "Passed unknown parameter: config.arch.d_ff\n",
      "Passed unknown parameter: config.arch.decomposition\n",
      "Passed unknown parameter: config.arch.dropout\n",
      "Passed unknown parameter: config.arch.individual\n",
      "Passed unknown parameter: config.arch.n_layers\n",
      "Passed unknown parameter: config.arch.n_heads\n",
      "Passed unknown parameter: config.init_weights\n",
      "Passed unknown parameter: config.lookback\n",
      "Passed unknown parameter: config.n_epoch\n",
      "Passed unknown parameter: config.bs\n",
      "Passed unknown parameter: config.use_wandb\n",
      "Passed unknown parameter: config.wandb_group\n"
     ]
    },
    {
     "name": "stdout",
     "output_type": "stream",
     "text": [
      "Validation loss: 213.92738342285156\n",
      "[I 2024-07-08 10:50:48,156] Trial 47 finished with value: 213.92738342285156 and parameters: {'arch.attn_dropout': 0.1, 'arch.d_model': 96, 'arch.d_ff': 64, 'arch.decomposition': False, 'arch.dropout': 0.2, 'arch.individual': True, 'arch.n_layers': 4, 'arch.n_heads': 16, 'init_weights': False, 'lookback': 192}. Best is trial 28 with value: 129.62025451660156.\n"
     ]
    },
    {
     "name": "stderr",
     "output_type": "stream",
     "text": [
      "Executing: 100%|██████████| 49/49 [00:30<00:00,  1.63cell/s]\n",
      "Best trial: 28. Best value: 129.62:  98%|█████████▊| 49/50 [25:06<00:30, 30.56s/it]Passed unknown parameter: config.arch.attn_dropout\n",
      "Passed unknown parameter: config.arch.d_model\n",
      "Passed unknown parameter: config.arch.d_ff\n",
      "Passed unknown parameter: config.arch.decomposition\n",
      "Passed unknown parameter: config.arch.dropout\n",
      "Passed unknown parameter: config.arch.individual\n",
      "Passed unknown parameter: config.arch.n_layers\n",
      "Passed unknown parameter: config.arch.n_heads\n",
      "Passed unknown parameter: config.init_weights\n",
      "Passed unknown parameter: config.lookback\n",
      "Passed unknown parameter: config.n_epoch\n",
      "Passed unknown parameter: config.bs\n",
      "Passed unknown parameter: config.use_wandb\n",
      "Passed unknown parameter: config.wandb_group\n"
     ]
    },
    {
     "name": "stdout",
     "output_type": "stream",
     "text": [
      "Validation loss: 129.7626495361328\n",
      "[I 2024-07-08 10:51:18,364] Trial 48 finished with value: 129.7626495361328 and parameters: {'arch.attn_dropout': 0.5, 'arch.d_model': 128, 'arch.d_ff': 32, 'arch.decomposition': True, 'arch.dropout': 0.0, 'arch.individual': True, 'arch.n_layers': 5, 'arch.n_heads': 16, 'init_weights': False, 'lookback': 24}. Best is trial 28 with value: 129.62025451660156.\n"
     ]
    },
    {
     "name": "stderr",
     "output_type": "stream",
     "text": [
      "Executing: 100%|██████████| 49/49 [00:28<00:00,  1.72cell/s]\n",
      "Best trial: 28. Best value: 129.62: 100%|██████████| 50/50 [25:35<00:00, 30.70s/it]"
     ]
    },
    {
     "name": "stdout",
     "output_type": "stream",
     "text": [
      "Validation loss: 135.56272888183594\n",
      "[I 2024-07-08 10:51:46,934] Trial 49 finished with value: 135.56272888183594 and parameters: {'arch.attn_dropout': 0.5, 'arch.d_model': 32, 'arch.d_ff': 192, 'arch.decomposition': True, 'arch.dropout': 0.1, 'arch.individual': False, 'arch.n_layers': 6, 'arch.n_heads': 32, 'init_weights': False, 'lookback': 24}. Best is trial 28 with value: 129.62025451660156.\n",
      "\n",
      "Optuna study saved to tmp/general_study_extended.pkl\n",
      "To reload the study run: study = joblib.load('tmp/general_study_extended.pkl')\n",
      "\n",
      "Study statistics    : \n",
      "  Study name        : general_study_extended\n",
      "  # finished trials : 50\n",
      "  # pruned trials   : 0\n",
      "  # complete trials : 50\n",
      "\n",
      "Best trial          :\n",
      "  value             : 129.62025451660156\n",
      "  best_params = {'arch.attn_dropout': 0.2, 'arch.d_model': 64, 'arch.d_ff': 192, 'arch.decomposition': True, 'arch.dropout': 0.0, 'arch.individual': True, 'arch.n_layers': 5, 'arch.n_heads': 8, 'init_weights': False, 'lookback': 24}\n",
      "\n"
     ]
    },
    {
     "name": "stderr",
     "output_type": "stream",
     "text": [
      "\n"
     ]
    }
   ],
   "source": [
    "obj = create_objective(config.train_nb, config.search_space, \n",
    "                       extra_params=config.extra_params, use_wandb=True)\n",
    "study = run_optuna_study(obj, study_type='bayesian', direction='minimize', path='./tmp',\n",
    "                 study_name=config.study_name, n_trials=config.n_trials)"
   ]
  },
  {
   "cell_type": "code",
   "execution_count": 5,
   "metadata": {},
   "outputs": [
    {
     "name": "stderr",
     "output_type": "stream",
     "text": [
      "Failed to detect the name of this notebook, you can set it manually with the WANDB_NOTEBOOK_NAME environment variable to enable code saving.\n"
     ]
    },
    {
     "data": {
      "text/html": [
       "Tracking run with wandb version 0.17.3"
      ],
      "text/plain": [
       "<IPython.core.display.HTML object>"
      ]
     },
     "metadata": {},
     "output_type": "display_data"
    },
    {
     "data": {
      "text/html": [
       "W&B syncing is set to <code>`offline`<code> in this directory.  <br/>Run <code>`wandb online`<code> or set <code>WANDB_MODE=online<code> to enable cloud syncing."
      ],
      "text/plain": [
       "<IPython.core.display.HTML object>"
      ]
     },
     "metadata": {},
     "output_type": "display_data"
    }
   ],
   "source": [
    "run = wandb.init(config=config, mode=config.wandb_mode, \n",
    "                 job_type='optuna-study') if config.use_wandb else None"
   ]
  },
  {
   "cell_type": "code",
   "execution_count": 9,
   "metadata": {},
   "outputs": [
    {
     "name": "stdout",
     "output_type": "stream",
     "text": [
      "Collecting plotly\n",
      "  Downloading plotly-5.22.0-py3-none-any.whl (16.4 MB)\n",
      "\u001b[2K     \u001b[90m━━━━━━━━━━━━━━━━━━━━━━━━━━━━━━━━━━━━━━━━\u001b[0m \u001b[32m16.4/16.4 MB\u001b[0m \u001b[31m5.9 MB/s\u001b[0m eta \u001b[36m0:00:00\u001b[0m00:01\u001b[0m00:01\u001b[0m\n",
      "\u001b[?25hCollecting packaging\n",
      "  Downloading packaging-24.1-py3-none-any.whl (53 kB)\n",
      "\u001b[2K     \u001b[90m━━━━━━━━━━━━━━━━━━━━━━━━━━━━━━━━━━━━━━━━\u001b[0m \u001b[32m54.0/54.0 kB\u001b[0m \u001b[31m4.9 MB/s\u001b[0m eta \u001b[36m0:00:00\u001b[0m\n",
      "\u001b[?25hCollecting tenacity>=6.2.0\n",
      "  Downloading tenacity-8.5.0-py3-none-any.whl (28 kB)\n",
      "Installing collected packages: tenacity, packaging, plotly\n",
      "Successfully installed packaging-24.1 plotly-5.22.0 tenacity-8.5.0\n",
      "\u001b[33mWARNING: Running pip as the 'root' user can result in broken permissions and conflicting behaviour with the system package manager. It is recommended to use a virtual environment instead: https://pip.pypa.io/warnings/venv\u001b[0m\u001b[33m\n",
      "\u001b[0m\u001b[33mWARNING: There was an error checking the latest version of pip.\u001b[0m\u001b[33m\n",
      "\u001b[0m"
     ]
    }
   ],
   "source": [
    "!sudo pip install plotly"
   ]
  },
  {
   "cell_type": "code",
   "execution_count": 10,
   "metadata": {},
   "outputs": [
    {
     "ename": "ImportError",
     "evalue": "Tried to import 'plotly' but failed. Please make sure that the package is installed correctly to use this feature. Actual error: No module named 'plotly'.",
     "output_type": "error",
     "traceback": [
      "\u001b[0;31m---------------------------------------------------------------------------\u001b[0m",
      "\u001b[0;31mModuleNotFoundError\u001b[0m                       Traceback (most recent call last)",
      "File \u001b[0;32m/usr/local/pip-global/optuna/visualization/_plotly_imports.py:7\u001b[0m\n\u001b[1;32m      6\u001b[0m \u001b[38;5;28;01mwith\u001b[39;00m try_import() \u001b[38;5;28;01mas\u001b[39;00m _imports:\n\u001b[0;32m----> 7\u001b[0m     \u001b[38;5;28;01mimport\u001b[39;00m \u001b[38;5;21;01mplotly\u001b[39;00m\n\u001b[1;32m      8\u001b[0m     \u001b[38;5;28;01mfrom\u001b[39;00m \u001b[38;5;21;01mplotly\u001b[39;00m \u001b[38;5;28;01mimport\u001b[39;00m __version__ \u001b[38;5;28;01mas\u001b[39;00m plotly_version\n",
      "\u001b[0;31mModuleNotFoundError\u001b[0m: No module named 'plotly'",
      "\nThe above exception was the direct cause of the following exception:\n",
      "\u001b[0;31mImportError\u001b[0m                               Traceback (most recent call last)",
      "Cell \u001b[0;32mIn[10], line 6\u001b[0m\n\u001b[1;32m      2\u001b[0m run\u001b[38;5;241m.\u001b[39mlog(\u001b[38;5;28mdict\u001b[39m(study\u001b[38;5;241m.\u001b[39mbest_params, \u001b[38;5;241m*\u001b[39m\u001b[38;5;241m*\u001b[39m{\u001b[38;5;124m'\u001b[39m\u001b[38;5;124mbest_value\u001b[39m\u001b[38;5;124m'\u001b[39m: study\u001b[38;5;241m.\u001b[39mbest_value, \n\u001b[1;32m      3\u001b[0m                                    \u001b[38;5;124m'\u001b[39m\u001b[38;5;124mbest_trial_number\u001b[39m\u001b[38;5;124m'\u001b[39m: study\u001b[38;5;241m.\u001b[39mbest_trial\u001b[38;5;241m.\u001b[39mnumber}))\n\u001b[1;32m      4\u001b[0m run\u001b[38;5;241m.\u001b[39mlog_artifact(\u001b[38;5;124mf\u001b[39m\u001b[38;5;124m'\u001b[39m\u001b[38;5;124m./tmp/\u001b[39m\u001b[38;5;132;01m{\u001b[39;00mconfig\u001b[38;5;241m.\u001b[39mstudy_name\u001b[38;5;132;01m}\u001b[39;00m\u001b[38;5;124m.pkl\u001b[39m\u001b[38;5;124m'\u001b[39m, \u001b[38;5;28mtype\u001b[39m\u001b[38;5;241m=\u001b[39m\u001b[38;5;124m'\u001b[39m\u001b[38;5;124moptuna_study\u001b[39m\u001b[38;5;124m'\u001b[39m)\n\u001b[1;32m      5\u001b[0m run\u001b[38;5;241m.\u001b[39mlog({\n\u001b[0;32m----> 6\u001b[0m     \u001b[38;5;124m'\u001b[39m\u001b[38;5;124mcontour\u001b[39m\u001b[38;5;124m'\u001b[39m: \u001b[43moptuna\u001b[49m\u001b[38;5;241;43m.\u001b[39;49m\u001b[43mvisualization\u001b[49m\u001b[38;5;241;43m.\u001b[39;49m\u001b[43mplot_contour\u001b[49m\u001b[43m(\u001b[49m\u001b[43mstudy\u001b[49m\u001b[43m)\u001b[49m,\n\u001b[1;32m      7\u001b[0m     \u001b[38;5;124m'\u001b[39m\u001b[38;5;124medf\u001b[39m\u001b[38;5;124m'\u001b[39m: optuna\u001b[38;5;241m.\u001b[39mvisualization\u001b[38;5;241m.\u001b[39mplot_edf(study),\n\u001b[1;32m      8\u001b[0m     \u001b[38;5;124m'\u001b[39m\u001b[38;5;124mintermediate_values\u001b[39m\u001b[38;5;124m'\u001b[39m: optuna\u001b[38;5;241m.\u001b[39mvisualization\u001b[38;5;241m.\u001b[39mplot_intermediate_values(study),\n\u001b[1;32m      9\u001b[0m     \u001b[38;5;124m'\u001b[39m\u001b[38;5;124moptimization_history\u001b[39m\u001b[38;5;124m'\u001b[39m: optuna\u001b[38;5;241m.\u001b[39mvisualization\u001b[38;5;241m.\u001b[39mplot_optimization_history(study),\n\u001b[1;32m     10\u001b[0m     \u001b[38;5;124m'\u001b[39m\u001b[38;5;124mparallel_coordinate\u001b[39m\u001b[38;5;124m'\u001b[39m : optuna\u001b[38;5;241m.\u001b[39mvisualization\u001b[38;5;241m.\u001b[39mplot_parallel_coordinate(study),\n\u001b[1;32m     11\u001b[0m     \u001b[38;5;124m'\u001b[39m\u001b[38;5;124mparam_importances\u001b[39m\u001b[38;5;124m'\u001b[39m: optuna\u001b[38;5;241m.\u001b[39mvisualization\u001b[38;5;241m.\u001b[39mplot_param_importances(study),\n\u001b[1;32m     12\u001b[0m     \u001b[38;5;124m'\u001b[39m\u001b[38;5;124mslice\u001b[39m\u001b[38;5;124m'\u001b[39m: optuna\u001b[38;5;241m.\u001b[39mvisualization\u001b[38;5;241m.\u001b[39mplot_slice(study)\n\u001b[1;32m     13\u001b[0m })\n",
      "File \u001b[0;32m/usr/local/pip-global/optuna/visualization/_contour.py:118\u001b[0m, in \u001b[0;36mplot_contour\u001b[0;34m(study, params, target, target_name)\u001b[0m\n\u001b[1;32m     63\u001b[0m \u001b[38;5;28;01mdef\u001b[39;00m \u001b[38;5;21mplot_contour\u001b[39m(\n\u001b[1;32m     64\u001b[0m     study: Study,\n\u001b[1;32m     65\u001b[0m     params: \u001b[38;5;28mlist\u001b[39m[\u001b[38;5;28mstr\u001b[39m] \u001b[38;5;241m|\u001b[39m \u001b[38;5;28;01mNone\u001b[39;00m \u001b[38;5;241m=\u001b[39m \u001b[38;5;28;01mNone\u001b[39;00m,\n\u001b[0;32m   (...)\u001b[0m\n\u001b[1;32m     68\u001b[0m     target_name: \u001b[38;5;28mstr\u001b[39m \u001b[38;5;241m=\u001b[39m \u001b[38;5;124m\"\u001b[39m\u001b[38;5;124mObjective Value\u001b[39m\u001b[38;5;124m\"\u001b[39m,\n\u001b[1;32m     69\u001b[0m ) \u001b[38;5;241m-\u001b[39m\u001b[38;5;241m>\u001b[39m \u001b[38;5;124m\"\u001b[39m\u001b[38;5;124mgo.Figure\u001b[39m\u001b[38;5;124m\"\u001b[39m:\n\u001b[1;32m     70\u001b[0m \u001b[38;5;250m    \u001b[39m\u001b[38;5;124;03m\"\"\"Plot the parameter relationship as contour plot in a study.\u001b[39;00m\n\u001b[1;32m     71\u001b[0m \n\u001b[1;32m     72\u001b[0m \u001b[38;5;124;03m    Note that, if a parameter contains missing values, a trial with missing values is not plotted.\u001b[39;00m\n\u001b[0;32m   (...)\u001b[0m\n\u001b[1;32m    115\u001b[0m \u001b[38;5;124;03m        of :class:`~optuna.study.Study` is ``minimize``.\u001b[39;00m\n\u001b[1;32m    116\u001b[0m \u001b[38;5;124;03m    \"\"\"\u001b[39;00m\n\u001b[0;32m--> 118\u001b[0m     \u001b[43m_imports\u001b[49m\u001b[38;5;241;43m.\u001b[39;49m\u001b[43mcheck\u001b[49m\u001b[43m(\u001b[49m\u001b[43m)\u001b[49m\n\u001b[1;32m    119\u001b[0m     info \u001b[38;5;241m=\u001b[39m _get_contour_info(study, params, target, target_name)\n\u001b[1;32m    120\u001b[0m     \u001b[38;5;28;01mreturn\u001b[39;00m _get_contour_plot(info)\n",
      "File \u001b[0;32m/usr/local/pip-global/optuna/_imports.py:89\u001b[0m, in \u001b[0;36m_DeferredImportExceptionContextManager.check\u001b[0;34m(self)\u001b[0m\n\u001b[1;32m     87\u001b[0m \u001b[38;5;28;01mif\u001b[39;00m \u001b[38;5;28mself\u001b[39m\u001b[38;5;241m.\u001b[39m_deferred \u001b[38;5;129;01mis\u001b[39;00m \u001b[38;5;129;01mnot\u001b[39;00m \u001b[38;5;28;01mNone\u001b[39;00m:\n\u001b[1;32m     88\u001b[0m     exc_value, message \u001b[38;5;241m=\u001b[39m \u001b[38;5;28mself\u001b[39m\u001b[38;5;241m.\u001b[39m_deferred\n\u001b[0;32m---> 89\u001b[0m     \u001b[38;5;28;01mraise\u001b[39;00m \u001b[38;5;167;01mImportError\u001b[39;00m(message) \u001b[38;5;28;01mfrom\u001b[39;00m \u001b[38;5;21;01mexc_value\u001b[39;00m\n",
      "\u001b[0;31mImportError\u001b[0m: Tried to import 'plotly' but failed. Please make sure that the package is installed correctly to use this feature. Actual error: No module named 'plotly'."
     ]
    }
   ],
   "source": [
    "if run is not None:\n",
    "    run.log(dict(study.best_params, **{'best_value': study.best_value, \n",
    "                                       'best_trial_number': study.best_trial.number}))\n",
    "    run.log_artifact(f'./tmp/{config.study_name}.pkl', type='optuna_study')\n",
    "    run.log({\n",
    "        'contour': optuna.visualization.plot_contour(study),\n",
    "        'edf': optuna.visualization.plot_edf(study),\n",
    "        'intermediate_values': optuna.visualization.plot_intermediate_values(study),\n",
    "        'optimization_history': optuna.visualization.plot_optimization_history(study),\n",
    "        'parallel_coordinate' : optuna.visualization.plot_parallel_coordinate(study),\n",
    "        'param_importances': optuna.visualization.plot_param_importances(study),\n",
    "        'slice': optuna.visualization.plot_slice(study)\n",
    "    })"
   ]
  },
  {
   "cell_type": "code",
   "execution_count": null,
   "metadata": {},
   "outputs": [],
   "source": [
    "if run is not None:\n",
    "    run.finish()"
   ]
  }
 ],
 "metadata": {
  "kernelspec": {
   "display_name": "Python 3 (ipykernel)",
   "language": "python",
   "name": "python3"
  },
  "language_info": {
   "codemirror_mode": {
    "name": "ipython",
    "version": 3
   },
   "file_extension": ".py",
   "mimetype": "text/x-python",
   "name": "python",
   "nbconvert_exporter": "python",
   "pygments_lexer": "ipython3",
   "version": "3.10.12"
  },
  "vscode": {
   "interpreter": {
    "hash": "949777d72b0d2535278d3dc13498b2535136f6dfe0678499012e853ee9abcab1"
   }
  }
 },
 "nbformat": 4,
 "nbformat_minor": 4
}
