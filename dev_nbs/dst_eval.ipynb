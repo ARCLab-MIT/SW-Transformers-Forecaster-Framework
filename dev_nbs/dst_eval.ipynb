{
 "cells": [
  {
   "cell_type": "markdown",
   "metadata": {},
   "source": [
    "# Evaluate Dst forecasts\n",
    "\n",
    "> The baseline is the benchmark by Licata et. al."
   ]
  },
  {
   "cell_type": "code",
   "execution_count": 1,
   "metadata": {},
   "outputs": [
    {
     "name": "stderr",
     "output_type": "stream",
     "text": [
      "\u001b[34m\u001b[1mwandb\u001b[0m: \u001b[33mWARNING\u001b[0m Path /workspaces/geopol/wandb/ wasn't writable, using system temp directory\n"
     ]
    }
   ],
   "source": [
    "# Imports\n",
    "import sys\n",
    "sys.path.append('..')\n",
    "from swdf.utils import *\n",
    "convert_uuids_to_indices() # fix to make the script work in the MIT supercloud\n",
    "from swdf.benchmark import *\n",
    "from tsai.basics import *\n",
    "import seaborn as sns\n",
    "from sklearn.metrics import mean_squared_error, mean_absolute_error\n",
    "import wandb\n",
    "wandb_api = wandb.Api()"
   ]
  },
  {
   "cell_type": "code",
   "execution_count": 2,
   "metadata": {},
   "outputs": [],
   "source": [
    "# Constants\n",
    "ARTIFACT_DOWNLOAD_PATH = Path(os.environ[\"WANDB_DIR\"])/\"wandb/artifacts/dst_eval_tmp\""
   ]
  },
  {
   "cell_type": "code",
   "execution_count": 3,
   "metadata": {},
   "outputs": [
    {
     "data": {
      "text/markdown": [
       "```json\n",
       "{ 'dst_data_path': '../data/DST_IAGA2002.txt',\n",
       "  'learner_artifact': None,\n",
       "  'round_preds': True,\n",
       "  'solfsmy_data_path': '../data/SOLFSMY.TXT'}\n",
       "```"
      ],
      "text/plain": [
       "{'dst_data_path': '../data/DST_IAGA2002.txt',\n",
       " 'learner_artifact': None,\n",
       " 'round_preds': True,\n",
       " 'solfsmy_data_path': '../data/SOLFSMY.TXT'}"
      ]
     },
     "execution_count": 3,
     "metadata": {},
     "output_type": "execute_result"
    }
   ],
   "source": [
    "# Config\n",
    "config = yaml2dict('config/dst.yaml')\n",
    "config = config.eval\n",
    "config"
   ]
  },
  {
   "cell_type": "code",
   "execution_count": 4,
   "metadata": {},
   "outputs": [
    {
     "name": "stdout",
     "output_type": "stream",
     "text": [
      "Learner loaded:\n",
      "path          = 'tmp'\n",
      "dls_fname     = '['dls_0.pth', 'dls_1.pth', 'dls_2.pth']'\n",
      "model_fname   = 'model.pth'\n",
      "learner_fname = 'learner.pkl'\n"
     ]
    }
   ],
   "source": [
    "# TODO\n",
    "# learn.path = Path(path)\n",
    "# learn.model_dir = Path()\n",
    "if config.learner_artifact is None:\n",
    "    learner_path = 'tmp'\n",
    "else:\n",
    "    learner_path = wandb_api.artifact(config.learner_artifact).download(root=ARTIFACT_DOWNLOAD_PATH)\n",
    "learn = load_learner_all(learner_path, model_fname = 'model', \n",
    "                         verbose=True, \n",
    "                         device=default_device())"
   ]
  },
  {
   "cell_type": "code",
   "execution_count": 5,
   "metadata": {},
   "outputs": [
    {
     "data": {
      "text/html": [
       "\n",
       "<style>\n",
       "    /* Turns off some styling */\n",
       "    progress {\n",
       "        /* gets rid of default border in Firefox and Opera. */\n",
       "        border: none;\n",
       "        /* Needs to be in here for Safari polyfill so background images work as expected. */\n",
       "        background-size: auto;\n",
       "    }\n",
       "    progress:not([value]), progress:not([value])::-webkit-progress-bar {\n",
       "        background: repeating-linear-gradient(45deg, #7e7e7e, #7e7e7e 10px, #5c5c5c 10px, #5c5c5c 20px);\n",
       "    }\n",
       "    .progress-bar-interrupted, .progress-bar-interrupted::-webkit-progress-bar {\n",
       "        background: #F44336;\n",
       "    }\n",
       "</style>\n"
      ],
      "text/plain": [
       "<IPython.core.display.HTML object>"
      ]
     },
     "metadata": {},
     "output_type": "display_data"
    },
    {
     "data": {
      "text/html": [],
      "text/plain": [
       "<IPython.core.display.HTML object>"
      ]
     },
     "metadata": {},
     "output_type": "display_data"
    },
    {
     "name": "stdout",
     "output_type": "stream",
     "text": [
      "y_test_preds.shape: (18216, 1, 48), y_test_losses (mean): TensorBase(387.3701)\n"
     ]
    }
   ],
   "source": [
    "y_test_preds, y_test, y_test_losses = learn.get_preds(ds_idx = 2, with_targs=True, with_loss=True)\n",
    "y_test_preds = to_np(y_test_preds)\n",
    "y_test = to_np(y_test)\n",
    "print(f\"y_test_preds.shape: {y_test_preds.shape}, y_test_losses (mean): {y_test_losses.mean()}\")     "
   ]
  },
  {
   "cell_type": "code",
   "execution_count": 6,
   "metadata": {},
   "outputs": [
    {
     "name": "stdout",
     "output_type": "stream",
     "text": [
      "Loss after rounding predictions: TensorBase(387.4359)\n"
     ]
    }
   ],
   "source": [
    "if config.round_preds:\n",
    "    y_test_preds = y_test_preds.round()\n",
    "    print(f'Loss after rounding predictions: {learn.loss_func(totensor(y_test_preds), totensor(y_test))}')"
   ]
  },
  {
   "cell_type": "code",
   "execution_count": 7,
   "metadata": {},
   "outputs": [
    {
     "data": {
      "text/html": [
       "\n",
       "<style>\n",
       "    /* Turns off some styling */\n",
       "    progress {\n",
       "        /* gets rid of default border in Firefox and Opera. */\n",
       "        border: none;\n",
       "        /* Needs to be in here for Safari polyfill so background images work as expected. */\n",
       "        background-size: auto;\n",
       "    }\n",
       "    progress:not([value]), progress:not([value])::-webkit-progress-bar {\n",
       "        background: repeating-linear-gradient(45deg, #7e7e7e, #7e7e7e 10px, #5c5c5c 10px, #5c5c5c 20px);\n",
       "    }\n",
       "    .progress-bar-interrupted, .progress-bar-interrupted::-webkit-progress-bar {\n",
       "        background: #F44336;\n",
       "    }\n",
       "</style>\n"
      ],
      "text/plain": [
       "<IPython.core.display.HTML object>"
      ]
     },
     "metadata": {},
     "output_type": "display_data"
    },
    {
     "data": {
      "text/html": [],
      "text/plain": [
       "<IPython.core.display.HTML object>"
      ]
     },
     "metadata": {},
     "output_type": "display_data"
    },
    {
     "data": {
      "text/plain": [
       "(#1) [387.3701477050781]"
      ]
     },
     "execution_count": 7,
     "metadata": {},
     "output_type": "execute_result"
    }
   ],
   "source": [
    "learn.validate(ds_idx = 2)"
   ]
  },
  {
   "cell_type": "code",
   "execution_count": 8,
   "metadata": {},
   "outputs": [
    {
     "name": "stdout",
     "output_type": "stream",
     "text": [
      "test_loss: TensorBase(387.3701)\n"
     ]
    }
   ],
   "source": [
    "# Get the average test loss\n",
    "test_loss = y_test_losses.mean()\n",
    "print(f\"test_loss: {test_loss}\")"
   ]
  },
  {
   "cell_type": "code",
   "execution_count": 9,
   "metadata": {},
   "outputs": [
    {
     "data": {
      "text/plain": [
       "(48, 2)"
      ]
     },
     "execution_count": 9,
     "metadata": {},
     "output_type": "execute_result"
    }
   ],
   "source": [
    "horizon = y_test.shape[-1]\n",
    "horizon_days = int(np.ceil(horizon / 24))\n",
    "data_columns_fcst = ['DST']\n",
    "horizon, horizon_days"
   ]
  },
  {
   "cell_type": "markdown",
   "metadata": {},
   "source": [
    "The threshold classify the forecasts of Dst are based on the values of the Dst itself\n",
    "and the solar activity level, as defined by the F10.7 (according to Licata et al.).\n",
    "Therefore, below is the table of all possible combined conditions to evaluate Dst.\n",
    "\n",
    "| Dst Level | Solar Level | Dst Value         | Solar Value       |\n",
    "|-----------|-------------|-------------------|-------------------|\n",
    "| G0        | Low         | Dst ≥ -30         | F 10.7 ≤ 75       |\n",
    "| G0        | Moderate    | Dst ≥ -30         | 75 < F 10.7 ≤ 150 |\n",
    "| G0        | Elevated    | Dst ≥ -30         | 150 < F 10.7 ≤ 190|\n",
    "| G0        | High        | Dst ≥ -30         | F 10.7 > 190      |\n",
    "| G1        | Low         | -30 > Dst ≥ -50   | F 10.7 ≤ 75       |\n",
    "| G1        | Moderate    | -30 > Dst ≥ -50   | 75 < F 10.7 ≤ 150 |\n",
    "| G1        | Elevated    | -30 > Dst ≥ -50   | 150 < F 10.7 ≤ 190|\n",
    "| G1        | High        | -30 > Dst ≥ -50   | F 10.7 > 190      |\n",
    "| G2        | Low         | -50 > Dst ≥ -90   | F 10.7 ≤ 75       |\n",
    "| G2        | Moderate    | -50 > Dst ≥ -90   | 75 < F 10.7 ≤ 150 |\n",
    "| G2        | Elevated    | -50 > Dst ≥ -90   | 150 < F 10.7 ≤ 190|\n",
    "| G2        | High        | -50 > Dst ≥ -90   | F 10.7 > 190      |\n",
    "| G3        | Low         | -90 > Dst ≥ -130  | F 10.7 ≤ 75       |\n",
    "| G3        | Moderate    | -90 > Dst ≥ -130  | 75 < F 10.7 ≤ 150 |\n",
    "| G3        | Elevated    | -90 > Dst ≥ -130  | 150 < F 10.7 ≤ 190|\n",
    "| G3        | High        | -90 > Dst ≥ -130  | F 10.7 > 190      |\n",
    "| G4        | Low         | -130 > Dst ≥ -350 | F 10.7 ≤ 75       |\n",
    "| G4        | Moderate    | -130 > Dst ≥ -350 | 75 < F 10.7 ≤ 150 |\n",
    "| G4        | Elevated    | -130 > Dst ≥ -350 | 150 < F 10.7 ≤ 190|\n",
    "| G4        | High        | -130 > Dst ≥ -350 | F 10.7 > 190      |\n",
    "| G5        | Low         | Dst ≤ -350        | F 10.7 ≤ 75       |\n",
    "| G5        | Moderate    | Dst ≤ -350        | 75 < F 10.7 ≤ 150 |\n",
    "| G5        | Elevated    | Dst ≤ -350        | 150 < F 10.7 ≤ 190|\n",
    "| G5        | High        | Dst ≤ -350        | F 10.7 > 190      |\n",
    "\n",
    "\n",
    "In order to create all those combined conditions, let's merge the data from Dst\n",
    "and F10.7. Since this data is provided with different frequencies (1 day for F10.7 \n",
    "and 1 hour for Dst, we will fill the missing timestamps of F10.7 with forward-filling)\n"
   ]
  },
  {
   "cell_type": "code",
   "execution_count": 10,
   "metadata": {},
   "outputs": [
    {
     "name": "stderr",
     "output_type": "stream",
     "text": [
      "/tmp/ipykernel_27124/272093729.py:27: ParserWarning: Falling back to the 'python' engine because the 'c' engine does not support regex separators (separators > 1 char and different from '\\s+' are interpreted as regex); you can avoid this warning by specifying engine='python'.\n",
      "  df_dst_raw = pd.read_csv(config.dst_data_path, sep='\\s{2,}|\\s',\n"
     ]
    },
    {
     "data": {
      "text/html": [
       "<div>\n",
       "<style scoped>\n",
       "    .dataframe tbody tr th:only-of-type {\n",
       "        vertical-align: middle;\n",
       "    }\n",
       "\n",
       "    .dataframe tbody tr th {\n",
       "        vertical-align: top;\n",
       "    }\n",
       "\n",
       "    .dataframe thead th {\n",
       "        text-align: right;\n",
       "    }\n",
       "</style>\n",
       "<table border=\"1\" class=\"dataframe\">\n",
       "  <thead>\n",
       "    <tr style=\"text-align: right;\">\n",
       "      <th></th>\n",
       "      <th>datetime</th>\n",
       "      <th>DST</th>\n",
       "      <th>F10</th>\n",
       "    </tr>\n",
       "  </thead>\n",
       "  <tbody>\n",
       "    <tr>\n",
       "      <th>0</th>\n",
       "      <td>1997-01-01 00:00:00</td>\n",
       "      <td>-5.0</td>\n",
       "      <td>72.4</td>\n",
       "    </tr>\n",
       "    <tr>\n",
       "      <th>1</th>\n",
       "      <td>1997-01-01 01:00:00</td>\n",
       "      <td>0.0</td>\n",
       "      <td>72.4</td>\n",
       "    </tr>\n",
       "    <tr>\n",
       "      <th>2</th>\n",
       "      <td>1997-01-01 02:00:00</td>\n",
       "      <td>3.0</td>\n",
       "      <td>72.4</td>\n",
       "    </tr>\n",
       "    <tr>\n",
       "      <th>3</th>\n",
       "      <td>1997-01-01 03:00:00</td>\n",
       "      <td>6.0</td>\n",
       "      <td>72.4</td>\n",
       "    </tr>\n",
       "    <tr>\n",
       "      <th>4</th>\n",
       "      <td>1997-01-01 04:00:00</td>\n",
       "      <td>9.0</td>\n",
       "      <td>72.4</td>\n",
       "    </tr>\n",
       "    <tr>\n",
       "      <th>...</th>\n",
       "      <td>...</td>\n",
       "      <td>...</td>\n",
       "      <td>...</td>\n",
       "    </tr>\n",
       "    <tr>\n",
       "      <th>230779</th>\n",
       "      <td>2023-04-30 19:00:00</td>\n",
       "      <td>-7.0</td>\n",
       "      <td>131.9</td>\n",
       "    </tr>\n",
       "    <tr>\n",
       "      <th>230780</th>\n",
       "      <td>2023-04-30 20:00:00</td>\n",
       "      <td>-7.0</td>\n",
       "      <td>131.9</td>\n",
       "    </tr>\n",
       "    <tr>\n",
       "      <th>230781</th>\n",
       "      <td>2023-04-30 21:00:00</td>\n",
       "      <td>-6.0</td>\n",
       "      <td>131.9</td>\n",
       "    </tr>\n",
       "    <tr>\n",
       "      <th>230782</th>\n",
       "      <td>2023-04-30 22:00:00</td>\n",
       "      <td>-7.0</td>\n",
       "      <td>131.9</td>\n",
       "    </tr>\n",
       "    <tr>\n",
       "      <th>230783</th>\n",
       "      <td>2023-04-30 23:00:00</td>\n",
       "      <td>-5.0</td>\n",
       "      <td>131.9</td>\n",
       "    </tr>\n",
       "  </tbody>\n",
       "</table>\n",
       "<p>230784 rows × 3 columns</p>\n",
       "</div>"
      ],
      "text/plain": [
       "                  datetime  DST    F10\n",
       "0      1997-01-01 00:00:00 -5.0   72.4\n",
       "1      1997-01-01 01:00:00  0.0   72.4\n",
       "2      1997-01-01 02:00:00  3.0   72.4\n",
       "3      1997-01-01 03:00:00  6.0   72.4\n",
       "4      1997-01-01 04:00:00  9.0   72.4\n",
       "...                    ...  ...    ...\n",
       "230779 2023-04-30 19:00:00 -7.0  131.9\n",
       "230780 2023-04-30 20:00:00 -7.0  131.9\n",
       "230781 2023-04-30 21:00:00 -6.0  131.9\n",
       "230782 2023-04-30 22:00:00 -7.0  131.9\n",
       "230783 2023-04-30 23:00:00 -5.0  131.9\n",
       "\n",
       "[230784 rows x 3 columns]"
      ]
     },
     "execution_count": 10,
     "metadata": {},
     "output_type": "execute_result"
    }
   ],
   "source": [
    "# # We'll load again the data from Dst with datetimes, and \n",
    "# # merge the DATE and TIME columns into a single datetime column\n",
    "# df_raw = pd.read_csv(config.dst_data_path, sep='\\s{2,}|\\s',\n",
    "#                          names=['DATEandTIME', 'YEAR', 'DDD', 'HOUR', 'MINUTE',\n",
    "#                                 'JulianDay', 'S10', 'S54', 'M10', 'M54', 'Y10', 'Y54',\n",
    "#                                 'F10', 'F54', 'AP', 'DST', 'DTC', 'SRC'])\n",
    "# df_raw['DATE'] = df_raw.DATEandTIME.apply(str).map(lambda x: x[:4] + '-' + x[4:6] + '-' + x[6:8])\n",
    "# df_raw['TIME'] = df_raw.DATEandTIME.apply(str).map(lambda x: x[8:10] + ':' + x[10:12] + '00.000')\n",
    "# df_raw.dropna()\n",
    "\n",
    "\n",
    "# # # Convert the JulianDay column to a datetime column\n",
    "# df_raw['datetime'] = pd.to_datetime(df_raw['JulianDay'], unit='D', origin='julian')\n",
    "# # Shift the datetime from 12:00 to 00:00\n",
    "# df_raw['datetime'] = df_raw['datetime'] - pd.Timedelta(hours=12)\n",
    "# df_raw\n",
    "\n",
    "# df_raw = df_raw[['datetime', 'DST', 'F10']]\n",
    "\n",
    "# # The F10 is given only at 12:00 (00:00 now that we shifted), so we'll forward \n",
    "# # fill the rest of the values\n",
    "# df_raw['F10'] = df_raw['F10'].fillna(method='ffill')\n",
    "# df_raw.head()\n",
    "\n",
    "# We'll load again the data from Dst with datetimes, and \n",
    "# merge the DATE and TIME columns into a single datetime column\n",
    "df_dst_raw = pd.read_csv(config.dst_data_path, sep='\\s{2,}|\\s', \n",
    "                         names=['DATE', 'TIME', 'DOY', 'DST'])\n",
    "df_dst_raw['datetime'] = pd.to_datetime(df_dst_raw.DATE + ' ' + df_dst_raw.TIME)\n",
    "\n",
    "# We need to load the F10.7 data to classify the DST predictions\n",
    "df_solfsmy = pd.read_csv(config.solfsmy_data_path, delim_whitespace=True, comment='#', header=None, \n",
    "                 names=['Year', 'DDD', 'JulianDay', 'F10', 'F81c', 'S10', 'S81c', \n",
    "                        'M10', 'M81c', 'Y10', 'Y81c', 'Ssrc'])\n",
    "\n",
    "# # Convert the JulianDay column to a datetime column\n",
    "df_solfsmy['datetime'] = pd.to_datetime(df_solfsmy['JulianDay'], unit='D', origin='julian')\n",
    "# Shift the datetime from 12:00 to 00:00\n",
    "df_solfsmy['datetime'] = df_solfsmy['datetime'] - pd.Timedelta(hours=12)\n",
    "\n",
    "# Merge the DST and F10.7 dataframes on the datetime column, and keep only the columns we need\n",
    "df_combined = pd.merge(df_dst_raw, df_solfsmy, on='datetime', how='left')\n",
    "df_combined = df_combined[['datetime', 'DST', 'F10']]\n",
    "\n",
    "# The F10 is given only at 12:00 (00:00 now that we shifted), so we'll forward \n",
    "# fill the rest of the values\n",
    "df_combined['F10'] = df_combined['F10'].fillna(method='ffill')\n",
    "df_combined"
   ]
  },
  {
   "cell_type": "code",
   "execution_count": 11,
   "metadata": {},
   "outputs": [],
   "source": [
    "#|export\n",
    "\n",
    "all_possible_dst_conditions = ['G0_Low', 'G0_Moderate', 'G0_Elevated', 'G0_High',\n",
    "                                 'G1_Low', 'G1_Moderate', 'G1_Elevated', 'G1_High',\n",
    "                                 'G2_Low', 'G2_Moderate', 'G2_Elevated', 'G2_High',\n",
    "                                 'G3_Low', 'G3_Moderate', 'G3_Elevated', 'G3_High',\n",
    "                                 'G4_Low', 'G4_Moderate', 'G4_Elevated', 'G4_High',\n",
    "                                 'G5_Low', 'G5_Moderate', 'G5_Elevated', 'G5_High',]\n",
    "\n",
    "def get_dst_condition(dst, f107):\n",
    "    \"\"\"\n",
    "        Function that returns the Dst condition based on the Dst and F10.7 values.\n",
    "        Input:\n",
    "        dst: Dst value (float)\n",
    "        f107: F10.7 value (float)\n",
    "        Output:\n",
    "        dst_condition: Dst condition (string)\n",
    "    \"\"\"\n",
    "    if dst >= -30:\n",
    "        if f107 <= 75:\n",
    "            dst_condition = 'G0_Low'\n",
    "        elif f107 <= 150:\n",
    "            dst_condition = 'G0_Moderate'\n",
    "        elif f107 <= 190:\n",
    "            dst_condition = 'G0_Elevated'\n",
    "        else:\n",
    "            dst_condition = 'G0_High'\n",
    "    elif dst >= -50:\n",
    "        if f107 <= 75:\n",
    "            dst_condition = 'G1_Low'\n",
    "        elif f107 <= 150:\n",
    "            dst_condition = 'G1_Moderate'\n",
    "        elif f107 <= 190:\n",
    "            dst_condition = 'G1_Elevated'\n",
    "        else:\n",
    "            dst_condition = 'G1_High'\n",
    "    elif dst >= -90:\n",
    "        if f107 <= 75:\n",
    "            dst_condition = 'G2_Low'\n",
    "        elif f107 <= 150:\n",
    "            dst_condition = 'G2_Moderate'\n",
    "        elif f107 <= 190:\n",
    "            dst_condition = 'G2_Elevated'\n",
    "        else:\n",
    "            dst_condition = 'G2_High'\n",
    "    elif dst >= -130:\n",
    "        if f107 <= 75:\n",
    "            dst_condition = 'G3_Low'\n",
    "        elif f107 <= 150:\n",
    "            dst_condition = 'G3_Moderate'\n",
    "        elif f107 <= 190:\n",
    "            dst_condition = 'G3_Elevated'\n",
    "        else:\n",
    "            dst_condition = 'G3_High'\n",
    "    elif dst >= -350:\n",
    "        if f107 <= 75:\n",
    "            dst_condition = 'G4_Low'\n",
    "        elif f107 <= 150:\n",
    "            dst_condition = 'G4_Moderate'\n",
    "        elif f107 <= 190:\n",
    "            dst_condition = 'G4_Elevated'\n",
    "        else:\n",
    "            dst_condition = 'G4_High'\n",
    "    else:\n",
    "        if f107 <= 75:\n",
    "            dst_condition = 'G5_Low'\n",
    "        elif f107 <= 150:\n",
    "            dst_condition = 'G5_Moderate'\n",
    "        elif f107 <= 190:\n",
    "            dst_condition = 'G5_Elevated'\n",
    "        else:\n",
    "            dst_condition = 'G5_High'\n",
    "    return dst_condition\n",
    "\n",
    "# Vectorize the get_dst_condition function\n",
    "get_dst_condition_vec = np.vectorize(get_dst_condition)"
   ]
  },
  {
   "cell_type": "code",
   "execution_count": 12,
   "metadata": {},
   "outputs": [],
   "source": [
    "# Add the condition column to the dataframe\n",
    "df_combined[\"condition\"] = get_dst_condition_vec(df_combined[\"DST\"], \n",
    "                                                 df_combined[\"F10\"])"
   ]
  },
  {
   "cell_type": "code",
   "execution_count": 13,
   "metadata": {},
   "outputs": [
    {
     "data": {
      "text/plain": [
       "((230593, 3, 144), (230593, 3, 48))"
      ]
     },
     "execution_count": 13,
     "metadata": {},
     "output_type": "execute_result"
    }
   ],
   "source": [
    "X_combined, y_combined = prepare_forecasting_data(df_combined, fcst_history=learn.dls.len, fcst_horizon=learn.dls.d[-1], \n",
    "                                x_vars=['DST', 'F10', 'datetime'], \n",
    "                                y_vars=['DST', 'F10', 'datetime'])\n",
    "X_combined.shape, y_combined.shape"
   ]
  },
  {
   "cell_type": "code",
   "execution_count": 14,
   "metadata": {},
   "outputs": [],
   "source": [
    "#| export\n",
    "\n",
    "def split_data_by_dst_f107(data):\n",
    "    \"\"\"\n",
    "        function that splits the Dst data into all the possible Dst x F10.7 combinations\n",
    "        according to the thresholds defined above. # The decision is made based on \n",
    "        the timestemp of each sample\n",
    "        The function returns a dictionary with the Dst x F10.7 combinations as keys\n",
    "        and the corresponding samples that match the condition as values.\n",
    "        Input:\n",
    "        data: Dst data and F10 data (numpy array of shape (n_samples, 2, n_timesteps))\n",
    "        Output:\n",
    "        data_split: dictionary with the Dst x F10.7 combinations as keys, and the\n",
    "        corresponding Dst data as values.\n",
    "    \"\"\"\n",
    "    # Select the first timestep for all samples\n",
    "    first_timestep_data = data[:, :, 0]\n",
    "\n",
    "    # Apply the vectorized function to the first timestep data\n",
    "    result = get_dst_condition_vec(first_timestep_data[:, 0], first_timestep_data[:, 1])\n",
    "\n",
    "    # Create a dictionary with the Dst x F10.7 combinations as keys and the corresponding\n",
    "    # samples as values. The keys must be sorted in the same order as the values of \n",
    "    # all_possible_dst_conditions\n",
    "    data_split = {}\n",
    "    for dst_condition in all_possible_dst_conditions:\n",
    "        data_split[dst_condition] = data[result == dst_condition]\n",
    "    return data_split\n",
    "\n",
    "def get_idxs_per_dst_condition(data):\n",
    "    \"\"\"\n",
    "        Function that returns the indices of the samples that match each \n",
    "        Dst x F10.7 condition\n",
    "        Input:\n",
    "        data: Dst data and F10 data (numpy array of shape (n_samples, 2, n_timesteps))\n",
    "        Output:\n",
    "        idxs: dictionary with the Dst x F10.7 combinations as keys, and the\n",
    "        corresponding indices as values.\n",
    "    \"\"\"\n",
    "    # Select the first timestep for all samples\n",
    "    first_timestep_data = data[:, :, 0]\n",
    "\n",
    "    # Apply the vectorized function to the first timestep data\n",
    "    result = get_dst_condition_vec(first_timestep_data[:, 0], first_timestep_data[:, 1])\n",
    "\n",
    "    # Create a dictionary with the Dst x F10.7 combinations as keys and the corresponding\n",
    "    # samples as values. The keys must be sorted in the same order as the values of \n",
    "    # all_possible_dst_conditions\n",
    "    idxs = {}\n",
    "    for dst_condition in all_possible_dst_conditions:\n",
    "        idxs[dst_condition] = np.where(result == dst_condition)[0]\n",
    "    return idxs"
   ]
  },
  {
   "cell_type": "code",
   "execution_count": 15,
   "metadata": {},
   "outputs": [
    {
     "data": {
      "text/plain": [
       "((46042, 3, 48), (12129, 3, 48), (18216, 3, 48))"
      ]
     },
     "execution_count": 15,
     "metadata": {},
     "output_type": "execute_result"
    }
   ],
   "source": [
    "y_combined_train = y_combined[learn.dls[0].splits]\n",
    "y_combined_valid = y_combined[learn.dls[1].splits]\n",
    "y_combined_test = y_combined[learn.dls[2].splits]\n",
    "y_combined_train.shape, y_combined_valid.shape, y_combined_test.shape"
   ]
  },
  {
   "cell_type": "code",
   "execution_count": 16,
   "metadata": {},
   "outputs": [
    {
     "name": "stdout",
     "output_type": "stream",
     "text": [
      "Condition            Train                Valid                Test\n",
      "G0_Low               (3499, 3, 48)        (360, 3, 48)         (0, 3, 48)\n",
      "G0_Moderate          (17535, 3, 48)       (9557, 3, 48)        (9561, 3, 48)\n",
      "G0_Elevated          (9826, 3, 48)        (118, 3, 48)         (2942, 3, 48)\n",
      "G0_High              (7097, 3, 48)        (0, 3, 48)           (941, 3, 48)\n",
      "G1_Low               (334, 3, 48)         (72, 3, 48)          (0, 3, 48)\n",
      "G1_Moderate          (2234, 3, 48)        (1157, 3, 48)        (2014, 3, 48)\n",
      "G1_Elevated          (1309, 3, 48)        (5, 3, 48)           (930, 3, 48)\n",
      "G1_High              (1326, 3, 48)        (0, 3, 48)           (257, 3, 48)\n",
      "G2_Low               (91, 3, 48)          (24, 3, 48)          (0, 3, 48)\n",
      "G2_Moderate          (739, 3, 48)         (599, 3, 48)         (508, 3, 48)\n",
      "G2_Elevated          (688, 3, 48)         (19, 3, 48)          (573, 3, 48)\n",
      "G2_High              (577, 3, 48)         (0, 3, 48)           (161, 3, 48)\n",
      "G3_Low               (12, 3, 48)          (0, 3, 48)           (0, 3, 48)\n",
      "G3_Moderate          (176, 3, 48)         (144, 3, 48)         (58, 3, 48)\n",
      "G3_Elevated          (189, 3, 48)         (2, 3, 48)           (129, 3, 48)\n",
      "G3_High              (123, 3, 48)         (0, 3, 48)           (32, 3, 48)\n",
      "G4_Low               (0, 3, 48)           (0, 3, 48)           (0, 3, 48)\n",
      "G4_Moderate          (52, 3, 48)          (70, 3, 48)          (36, 3, 48)\n",
      "G4_Elevated          (108, 3, 48)         (0, 3, 48)           (29, 3, 48)\n",
      "G4_High              (125, 3, 48)         (0, 3, 48)           (37, 3, 48)\n",
      "G5_Low               (0, 3, 48)           (0, 3, 48)           (0, 3, 48)\n",
      "G5_Moderate          (0, 3, 48)           (2, 3, 48)           (0, 3, 48)\n",
      "G5_Elevated          (0, 3, 48)           (0, 3, 48)           (5, 3, 48)\n",
      "G5_High              (2, 3, 48)           (0, 3, 48)           (3, 3, 48)\n"
     ]
    }
   ],
   "source": [
    "# Splitn y_combined and y_combined_test by Dst x F10.7 combinations\n",
    "y_combined_train_split = split_data_by_dst_f107(y_combined_train)\n",
    "y_combined_valid_split = split_data_by_dst_f107(y_combined_valid)\n",
    "y_combined_test_split = split_data_by_dst_f107(y_combined_test)\n",
    "\n",
    "# Compare the distributions of the Dst x F10.7 combinations in the training, validation and test sets\n",
    "print('{:<20} {:<20} {:<20} {}'.format(\"Condition\", \"Train\", \"Valid\", \"Test\"))\n",
    "for key in all_possible_dst_conditions:\n",
    "    print('{:<20} {:<20} {:<20} {}'.format(\n",
    "        key, \n",
    "        str(ifnone(y_combined_train_split.get(key),np.array([])).shape),\n",
    "        str(ifnone(y_combined_valid_split.get(key), np.array([])).shape), \n",
    "        str(ifnone(y_combined_test_split.get(key), np.array([])).shape)))"
   ]
  },
  {
   "cell_type": "code",
   "execution_count": 17,
   "metadata": {},
   "outputs": [
    {
     "name": "stdout",
     "output_type": "stream",
     "text": [
      "G0_Low (0,)\n",
      "G0_Moderate (9561,)\n",
      "G0_Elevated (2942,)\n",
      "G0_High (941,)\n",
      "G1_Low (0,)\n",
      "G1_Moderate (2014,)\n",
      "G1_Elevated (930,)\n",
      "G1_High (257,)\n",
      "G2_Low (0,)\n",
      "G2_Moderate (508,)\n",
      "G2_Elevated (573,)\n",
      "G2_High (161,)\n",
      "G3_Low (0,)\n",
      "G3_Moderate (58,)\n",
      "G3_Elevated (129,)\n",
      "G3_High (32,)\n",
      "G4_Low (0,)\n",
      "G4_Moderate (36,)\n",
      "G4_Elevated (29,)\n",
      "G4_High (37,)\n",
      "G5_Low (0,)\n",
      "G5_Moderate (0,)\n",
      "G5_Elevated (5,)\n",
      "G5_High (3,)\n"
     ]
    }
   ],
   "source": [
    "# Get the idxs (with respect to the test set) of the samples that match \n",
    "# each Dst x F10.7 condition\n",
    "y_test_split_idxs = get_idxs_per_dst_condition(y_combined_test)\n",
    "for key, value in y_test_split_idxs.items():\n",
    "    print(key, value.shape)"
   ]
  },
  {
   "cell_type": "code",
   "execution_count": 18,
   "metadata": {},
   "outputs": [
    {
     "data": {
      "image/png": "[encoded data removed]",
      "text/plain": [
       "<Figure size 1500x500 with 1 Axes>"
      ]
     },
     "metadata": {},
     "output_type": "display_data"
    }
   ],
   "source": [
    "# Compare the distributions dhown in the previous table with a plot\n",
    "# Plot the distribution of the Dst x F10.7 combinations in the training, validation and test sets\n",
    "fig, ax = plt.subplots(figsize=(15, 5))\n",
    "ax.bar(np.arange(len(all_possible_dst_conditions))-0.2,\n",
    "        [ifnone(y_combined_train_split.get(key),np.array([])).shape[0] for key in all_possible_dst_conditions],\n",
    "        width=0.2, color='b', align='center', label='Train')\n",
    "ax.bar(np.arange(len(all_possible_dst_conditions)),\n",
    "        [ifnone(y_combined_valid_split.get(key),np.array([])).shape[0] for key in all_possible_dst_conditions], \n",
    "        width=0.2, color='g', align='center', label='Valid')\n",
    "ax.bar(np.arange(len(all_possible_dst_conditions))+0.2,\n",
    "        [ifnone(y_combined_test_split.get(key),np.array([])).shape[0] for key in all_possible_dst_conditions],\n",
    "        width=0.2, color='r', align='center', label='Test')\n",
    "ax.set_xticks(np.arange(len(all_possible_dst_conditions)))\n",
    "ax.set_xticklabels(all_possible_dst_conditions, rotation=45)\n",
    "ax.set_ylabel('Number of samples (log scale)')\n",
    "ax.set_yscale('log')\n",
    "ax.set_xlabel('Dst x F10.7 condition')\n",
    "ax.set_title('Distribution of the Dst x F10.7 conditions in the training, validation and test sets')\n",
    "ax.legend()\n",
    "plt.show()"
   ]
  },
  {
   "cell_type": "code",
   "execution_count": 19,
   "metadata": {},
   "outputs": [],
   "source": [
    "# Split y_test and y_test_preds with the idxs from y_test_split_idxs\n",
    "y_test_split = {}\n",
    "y_test_preds_split = {}\n",
    "for key, value in y_test_split_idxs.items():\n",
    "    y_test_split[key] = y_test[value]\n",
    "    y_test_preds_split[key] = y_test_preds[value]"
   ]
  },
  {
   "cell_type": "code",
   "execution_count": 20,
   "metadata": {},
   "outputs": [
    {
     "data": {
      "image/png": "[encoded data removed]",
      "text/plain": [
       "<Figure size 1500x500 with 1 Axes>"
      ]
     },
     "metadata": {},
     "output_type": "display_data"
    }
   ],
   "source": [
    "# Plot the distribution of y_test\n",
    "fig, ax = plt.subplots(figsize=(15, 5))\n",
    "ax.hist(y_test[:, 0, :], bins=100)\n",
    "ax.set_xlabel('Dst')\n",
    "ax.set_ylabel('Number of samples')\n",
    "ax.set_title('Distribution of Dst in the test set')\n",
    "plt.show()\n"
   ]
  },
  {
   "cell_type": "code",
   "execution_count": 21,
   "metadata": {},
   "outputs": [
    {
     "data": {
      "text/html": [
       "<div>\n",
       "<style scoped>\n",
       "    .dataframe tbody tr th:only-of-type {\n",
       "        vertical-align: middle;\n",
       "    }\n",
       "\n",
       "    .dataframe tbody tr th {\n",
       "        vertical-align: top;\n",
       "    }\n",
       "\n",
       "    .dataframe thead th {\n",
       "        text-align: right;\n",
       "    }\n",
       "</style>\n",
       "<table border=\"1\" class=\"dataframe\">\n",
       "  <thead>\n",
       "    <tr style=\"text-align: right;\">\n",
       "      <th></th>\n",
       "      <th>condition</th>\n",
       "      <th>horizon_days</th>\n",
       "      <th>fe_nT_mean</th>\n",
       "      <th>fe_nT_std</th>\n",
       "      <th>n_samples</th>\n",
       "    </tr>\n",
       "  </thead>\n",
       "  <tbody>\n",
       "    <tr>\n",
       "      <th>0</th>\n",
       "      <td>G0_Moderate</td>\n",
       "      <td>1</td>\n",
       "      <td>0.487074</td>\n",
       "      <td>20.896316</td>\n",
       "      <td>9561</td>\n",
       "    </tr>\n",
       "    <tr>\n",
       "      <th>1</th>\n",
       "      <td>G0_Moderate</td>\n",
       "      <td>2</td>\n",
       "      <td>1.644620</td>\n",
       "      <td>20.537079</td>\n",
       "      <td>9561</td>\n",
       "    </tr>\n",
       "    <tr>\n",
       "      <th>2</th>\n",
       "      <td>G0_Elevated</td>\n",
       "      <td>1</td>\n",
       "      <td>0.344168</td>\n",
       "      <td>16.193347</td>\n",
       "      <td>2942</td>\n",
       "    </tr>\n",
       "    <tr>\n",
       "      <th>3</th>\n",
       "      <td>G0_Elevated</td>\n",
       "      <td>2</td>\n",
       "      <td>1.327654</td>\n",
       "      <td>16.118053</td>\n",
       "      <td>2942</td>\n",
       "    </tr>\n",
       "    <tr>\n",
       "      <th>4</th>\n",
       "      <td>G0_High</td>\n",
       "      <td>1</td>\n",
       "      <td>0.023158</td>\n",
       "      <td>17.444976</td>\n",
       "      <td>941</td>\n",
       "    </tr>\n",
       "    <tr>\n",
       "      <th>5</th>\n",
       "      <td>G0_High</td>\n",
       "      <td>2</td>\n",
       "      <td>0.245484</td>\n",
       "      <td>17.995627</td>\n",
       "      <td>941</td>\n",
       "    </tr>\n",
       "    <tr>\n",
       "      <th>6</th>\n",
       "      <td>G1_Moderate</td>\n",
       "      <td>1</td>\n",
       "      <td>0.833561</td>\n",
       "      <td>22.717029</td>\n",
       "      <td>2014</td>\n",
       "    </tr>\n",
       "    <tr>\n",
       "      <th>7</th>\n",
       "      <td>G1_Moderate</td>\n",
       "      <td>2</td>\n",
       "      <td>1.395626</td>\n",
       "      <td>23.246107</td>\n",
       "      <td>2014</td>\n",
       "    </tr>\n",
       "    <tr>\n",
       "      <th>8</th>\n",
       "      <td>G1_Elevated</td>\n",
       "      <td>1</td>\n",
       "      <td>0.261918</td>\n",
       "      <td>14.918916</td>\n",
       "      <td>930</td>\n",
       "    </tr>\n",
       "    <tr>\n",
       "      <th>9</th>\n",
       "      <td>G1_Elevated</td>\n",
       "      <td>2</td>\n",
       "      <td>0.199597</td>\n",
       "      <td>15.838878</td>\n",
       "      <td>930</td>\n",
       "    </tr>\n",
       "  </tbody>\n",
       "</table>\n",
       "</div>"
      ],
      "text/plain": [
       "     condition  horizon_days  fe_nT_mean  fe_nT_std  n_samples\n",
       "0  G0_Moderate             1    0.487074  20.896316       9561\n",
       "1  G0_Moderate             2    1.644620  20.537079       9561\n",
       "2  G0_Elevated             1    0.344168  16.193347       2942\n",
       "3  G0_Elevated             2    1.327654  16.118053       2942\n",
       "4      G0_High             1    0.023158  17.444976        941\n",
       "5      G0_High             2    0.245484  17.995627        941\n",
       "6  G1_Moderate             1    0.833561  22.717029       2014\n",
       "7  G1_Moderate             2    1.395626  23.246107       2014\n",
       "8  G1_Elevated             1    0.261918  14.918916        930\n",
       "9  G1_Elevated             2    0.199597  15.838878        930"
      ]
     },
     "execution_count": 21,
     "metadata": {},
     "output_type": "execute_result"
    }
   ],
   "source": [
    "# Create a dataframe with the mean forecast error for the Dst in each \n",
    "# Dst x F10.7 condition and each horizon. The horizon is given in days in the\n",
    "# dataframe, but the actual horizon in the data is given in hours\n",
    "data = []\n",
    "for condition in all_possible_dst_conditions:\n",
    "    if y_test_split.get(condition) is not None and \\\n",
    "    y_test_split.get(condition).shape[0] > 0:\n",
    "        # Apply forecast_error to every horizon (1..horizon)\n",
    "        fe_sfu = np.array([forecast_error(y_test_split[condition][:, 0, :],\n",
    "                                        y_test_preds_split[condition][:, 0, :], \n",
    "                                        h) for h in range(1, horizon+1)]).astype(np.float64)\n",
    "        fe_percent = np.array([percent_forecast_error(y_test_split[condition][:, 0, :],\n",
    "                                                    y_test_preds_split[condition][:, 0, :], \n",
    "                                                    h) for h in range(1, horizon+1)]).astype(np.float64)\n",
    "        # Aggregate the forecast every 24 hours (get mean and std)\n",
    "        # TODO: This code breaks if the max horizon is not a multiple of 24\n",
    "        fe_nT_mean = np.array([np.mean(fe_sfu[i:i+24]) for i in range(0, horizon, 24)])\n",
    "        fe_nT_std = np.array([np.std(fe_sfu[i:i+24]) for i in range(0, horizon, 24)])\n",
    "        #fe_percent_mean = np.array([np.mean(fe_percent[i:i+24]) for i in range(0, horizon, 24)])\n",
    "        #fe_percent_std = np.array([np.std(fe_percent[i:i+24]) for i in range(0, horizon, 24)])\n",
    "        # additional columns\n",
    "        h_days = np.arange(1, (horizon // 24) + 1)\n",
    "        n_samples = y_test_split[condition].shape[0]\n",
    "        # Append the data to the list\n",
    "        for h_day, mean, std in zip(h_days, fe_nT_mean, fe_nT_std):\n",
    "            data.append((condition, h_day, mean, std, n_samples))\n",
    "# Create the dataframe        \n",
    "df_results = pd.DataFrame(data, columns=['condition', 'horizon_days', \n",
    "                                         'fe_nT_mean', 'fe_nT_std', 'n_samples'])\n",
    "df_results.head(10)"
   ]
  },
  {
   "cell_type": "code",
   "execution_count": 22,
   "metadata": {},
   "outputs": [
    {
     "data": {
      "text/html": [
       "<div>\n",
       "<style scoped>\n",
       "    .dataframe tbody tr th:only-of-type {\n",
       "        vertical-align: middle;\n",
       "    }\n",
       "\n",
       "    .dataframe tbody tr th {\n",
       "        vertical-align: top;\n",
       "    }\n",
       "\n",
       "    .dataframe thead th {\n",
       "        text-align: right;\n",
       "    }\n",
       "</style>\n",
       "<table border=\"1\" class=\"dataframe\">\n",
       "  <thead>\n",
       "    <tr style=\"text-align: right;\">\n",
       "      <th></th>\n",
       "      <th>condition</th>\n",
       "      <th>statistic</th>\n",
       "      <th>1 Days</th>\n",
       "      <th>2 Days</th>\n",
       "      <th>3 Days</th>\n",
       "      <th>4 Days</th>\n",
       "      <th>5 Days</th>\n",
       "      <th>6 Days</th>\n",
       "    </tr>\n",
       "  </thead>\n",
       "  <tbody>\n",
       "    <tr>\n",
       "      <th>0</th>\n",
       "      <td>G0_Low</td>\n",
       "      <td>fe_nT_mean</td>\n",
       "      <td>1.1077</td>\n",
       "      <td>1.1851</td>\n",
       "      <td>1.8191</td>\n",
       "      <td>1.9479</td>\n",
       "      <td>4.7670</td>\n",
       "      <td>4.9067</td>\n",
       "    </tr>\n",
       "    <tr>\n",
       "      <th>1</th>\n",
       "      <td>G0_Low</td>\n",
       "      <td>fe_nT_std</td>\n",
       "      <td>14.6264</td>\n",
       "      <td>15.3676</td>\n",
       "      <td>16.0768</td>\n",
       "      <td>16.6027</td>\n",
       "      <td>15.2969</td>\n",
       "      <td>15.5632</td>\n",
       "    </tr>\n",
       "    <tr>\n",
       "      <th>3</th>\n",
       "      <td>G0_Moderate</td>\n",
       "      <td>fe_nT_mean</td>\n",
       "      <td>8.8130</td>\n",
       "      <td>9.1455</td>\n",
       "      <td>9.5665</td>\n",
       "      <td>9.8593</td>\n",
       "      <td>10.1396</td>\n",
       "      <td>10.2912</td>\n",
       "    </tr>\n",
       "    <tr>\n",
       "      <th>4</th>\n",
       "      <td>G0_Moderate</td>\n",
       "      <td>fe_nT_std</td>\n",
       "      <td>18.2244</td>\n",
       "      <td>18.3000</td>\n",
       "      <td>18.9761</td>\n",
       "      <td>19.0591</td>\n",
       "      <td>19.2045</td>\n",
       "      <td>19.1569</td>\n",
       "    </tr>\n",
       "    <tr>\n",
       "      <th>6</th>\n",
       "      <td>G0_Elevated</td>\n",
       "      <td>fe_nT_mean</td>\n",
       "      <td>9.6871</td>\n",
       "      <td>8.8767</td>\n",
       "      <td>8.0980</td>\n",
       "      <td>8.0500</td>\n",
       "      <td>8.9239</td>\n",
       "      <td>9.4235</td>\n",
       "    </tr>\n",
       "  </tbody>\n",
       "</table>\n",
       "</div>"
      ],
      "text/plain": [
       "     condition   statistic   1 Days   2 Days   3 Days   4 Days   5 Days  \\\n",
       "0       G0_Low  fe_nT_mean   1.1077   1.1851   1.8191   1.9479   4.7670   \n",
       "1       G0_Low   fe_nT_std  14.6264  15.3676  16.0768  16.6027  15.2969   \n",
       "3  G0_Moderate  fe_nT_mean   8.8130   9.1455   9.5665   9.8593  10.1396   \n",
       "4  G0_Moderate   fe_nT_std  18.2244  18.3000  18.9761  19.0591  19.2045   \n",
       "6  G0_Elevated  fe_nT_mean   9.6871   8.8767   8.0980   8.0500   8.9239   \n",
       "\n",
       "    6 Days  \n",
       "0   4.9067  \n",
       "1  15.5632  \n",
       "3  10.2912  \n",
       "4  19.1569  \n",
       "6   9.4235  "
      ]
     },
     "execution_count": 22,
     "metadata": {},
     "output_type": "execute_result"
    }
   ],
   "source": [
    "# compare these results with the results in the paper. The results in the paper\n",
    "# can be found in the data folder as a csv\n",
    "df_results_paper = pd.read_csv('../data/benchmark_results_dst.csv', comment = '#')\n",
    "df_results_paper = df_results_paper[df_results_paper['statistic'] != 'EBM']\n",
    "# Rename mu with fe_nT_mean and sigma with fe_nT_std in the statistics column\n",
    "df_results_paper['statistic'] = df_results_paper['statistic'].replace({\n",
    "    'mu': 'fe_nT_mean', \n",
    "    'sigma': 'fe_nT_std'\n",
    "    })\n",
    "df_results_paper.head()"
   ]
  },
  {
   "cell_type": "code",
   "execution_count": 23,
   "metadata": {},
   "outputs": [
    {
     "data": {
      "text/html": [
       "<div>\n",
       "<style scoped>\n",
       "    .dataframe tbody tr th:only-of-type {\n",
       "        vertical-align: middle;\n",
       "    }\n",
       "\n",
       "    .dataframe tbody tr th {\n",
       "        vertical-align: top;\n",
       "    }\n",
       "\n",
       "    .dataframe thead th {\n",
       "        text-align: right;\n",
       "    }\n",
       "</style>\n",
       "<table border=\"1\" class=\"dataframe\">\n",
       "  <thead>\n",
       "    <tr style=\"text-align: right;\">\n",
       "      <th></th>\n",
       "      <th>condition</th>\n",
       "      <th>horizon_days</th>\n",
       "      <th>statistic</th>\n",
       "      <th>value</th>\n",
       "    </tr>\n",
       "  </thead>\n",
       "  <tbody>\n",
       "    <tr>\n",
       "      <th>0</th>\n",
       "      <td>G0_Moderate</td>\n",
       "      <td>1</td>\n",
       "      <td>fe_nT_mean</td>\n",
       "      <td>0.487074</td>\n",
       "    </tr>\n",
       "    <tr>\n",
       "      <th>1</th>\n",
       "      <td>G0_Moderate</td>\n",
       "      <td>2</td>\n",
       "      <td>fe_nT_mean</td>\n",
       "      <td>1.644620</td>\n",
       "    </tr>\n",
       "    <tr>\n",
       "      <th>2</th>\n",
       "      <td>G0_Elevated</td>\n",
       "      <td>1</td>\n",
       "      <td>fe_nT_mean</td>\n",
       "      <td>0.344168</td>\n",
       "    </tr>\n",
       "    <tr>\n",
       "      <th>3</th>\n",
       "      <td>G0_Elevated</td>\n",
       "      <td>2</td>\n",
       "      <td>fe_nT_mean</td>\n",
       "      <td>1.327654</td>\n",
       "    </tr>\n",
       "    <tr>\n",
       "      <th>4</th>\n",
       "      <td>G0_High</td>\n",
       "      <td>1</td>\n",
       "      <td>fe_nT_mean</td>\n",
       "      <td>0.023158</td>\n",
       "    </tr>\n",
       "  </tbody>\n",
       "</table>\n",
       "</div>"
      ],
      "text/plain": [
       "     condition  horizon_days   statistic     value\n",
       "0  G0_Moderate             1  fe_nT_mean  0.487074\n",
       "1  G0_Moderate             2  fe_nT_mean  1.644620\n",
       "2  G0_Elevated             1  fe_nT_mean  0.344168\n",
       "3  G0_Elevated             2  fe_nT_mean  1.327654\n",
       "4      G0_High             1  fe_nT_mean  0.023158"
      ]
     },
     "execution_count": 23,
     "metadata": {},
     "output_type": "execute_result"
    }
   ],
   "source": [
    "# Convert the dfs with results into long format\n",
    "df_results_long = pd.melt(df_results, id_vars=['condition', 'horizon_days'],\n",
    "                            value_vars=['fe_nT_mean', 'fe_nT_std'],\n",
    "                            var_name='statistic', value_name='value')\n",
    "df_results_long.head()"
   ]
  },
  {
   "cell_type": "code",
   "execution_count": 24,
   "metadata": {},
   "outputs": [
    {
     "data": {
      "text/html": [
       "<div>\n",
       "<style scoped>\n",
       "    .dataframe tbody tr th:only-of-type {\n",
       "        vertical-align: middle;\n",
       "    }\n",
       "\n",
       "    .dataframe tbody tr th {\n",
       "        vertical-align: top;\n",
       "    }\n",
       "\n",
       "    .dataframe thead th {\n",
       "        text-align: right;\n",
       "    }\n",
       "</style>\n",
       "<table border=\"1\" class=\"dataframe\">\n",
       "  <thead>\n",
       "    <tr style=\"text-align: right;\">\n",
       "      <th></th>\n",
       "      <th>condition</th>\n",
       "      <th>statistic</th>\n",
       "      <th>horizon_days</th>\n",
       "      <th>value</th>\n",
       "    </tr>\n",
       "  </thead>\n",
       "  <tbody>\n",
       "    <tr>\n",
       "      <th>0</th>\n",
       "      <td>G0_Low</td>\n",
       "      <td>fe_nT_mean</td>\n",
       "      <td>1</td>\n",
       "      <td>1.1077</td>\n",
       "    </tr>\n",
       "    <tr>\n",
       "      <th>1</th>\n",
       "      <td>G0_Low</td>\n",
       "      <td>fe_nT_std</td>\n",
       "      <td>1</td>\n",
       "      <td>14.6264</td>\n",
       "    </tr>\n",
       "    <tr>\n",
       "      <th>2</th>\n",
       "      <td>G0_Moderate</td>\n",
       "      <td>fe_nT_mean</td>\n",
       "      <td>1</td>\n",
       "      <td>8.8130</td>\n",
       "    </tr>\n",
       "    <tr>\n",
       "      <th>3</th>\n",
       "      <td>G0_Moderate</td>\n",
       "      <td>fe_nT_std</td>\n",
       "      <td>1</td>\n",
       "      <td>18.2244</td>\n",
       "    </tr>\n",
       "    <tr>\n",
       "      <th>4</th>\n",
       "      <td>G0_Elevated</td>\n",
       "      <td>fe_nT_mean</td>\n",
       "      <td>1</td>\n",
       "      <td>9.6871</td>\n",
       "    </tr>\n",
       "  </tbody>\n",
       "</table>\n",
       "</div>"
      ],
      "text/plain": [
       "     condition   statistic  horizon_days    value\n",
       "0       G0_Low  fe_nT_mean             1   1.1077\n",
       "1       G0_Low   fe_nT_std             1  14.6264\n",
       "2  G0_Moderate  fe_nT_mean             1   8.8130\n",
       "3  G0_Moderate   fe_nT_std             1  18.2244\n",
       "4  G0_Elevated  fe_nT_mean             1   9.6871"
      ]
     },
     "execution_count": 24,
     "metadata": {},
     "output_type": "execute_result"
    }
   ],
   "source": [
    "df_results_paper_long = df_results_paper.melt(id_vars=['condition', 'statistic'],\n",
    "                                            value_vars=[f'{i} Days' for i in range(1, horizon_days+1)],\n",
    "                                            var_name='horizon_days', value_name='value')\n",
    "df_results_paper_long['horizon_days'] = df_results_paper_long['horizon_days'].str.replace(\n",
    "    ' Days', '').astype(int)\n",
    "df_results_paper_long.head()"
   ]
  },
  {
   "cell_type": "code",
   "execution_count": 25,
   "metadata": {},
   "outputs": [
    {
     "data": {
      "text/html": [
       "<div>\n",
       "<style scoped>\n",
       "    .dataframe tbody tr th:only-of-type {\n",
       "        vertical-align: middle;\n",
       "    }\n",
       "\n",
       "    .dataframe tbody tr th {\n",
       "        vertical-align: top;\n",
       "    }\n",
       "\n",
       "    .dataframe thead th {\n",
       "        text-align: right;\n",
       "    }\n",
       "</style>\n",
       "<table border=\"1\" class=\"dataframe\">\n",
       "  <thead>\n",
       "    <tr style=\"text-align: right;\">\n",
       "      <th></th>\n",
       "      <th>condition</th>\n",
       "      <th>horizon_days</th>\n",
       "      <th>statistic</th>\n",
       "      <th>value_ours</th>\n",
       "      <th>value_benchmark</th>\n",
       "    </tr>\n",
       "  </thead>\n",
       "  <tbody>\n",
       "    <tr>\n",
       "      <th>0</th>\n",
       "      <td>G0_Low</td>\n",
       "      <td>1</td>\n",
       "      <td>fe_nT_mean</td>\n",
       "      <td>NaN</td>\n",
       "      <td>1.1077</td>\n",
       "    </tr>\n",
       "    <tr>\n",
       "      <th>1</th>\n",
       "      <td>G0_Low</td>\n",
       "      <td>1</td>\n",
       "      <td>fe_nT_std</td>\n",
       "      <td>NaN</td>\n",
       "      <td>14.6264</td>\n",
       "    </tr>\n",
       "    <tr>\n",
       "      <th>2</th>\n",
       "      <td>G0_Moderate</td>\n",
       "      <td>1</td>\n",
       "      <td>fe_nT_mean</td>\n",
       "      <td>0.487074</td>\n",
       "      <td>8.8130</td>\n",
       "    </tr>\n",
       "    <tr>\n",
       "      <th>3</th>\n",
       "      <td>G0_Moderate</td>\n",
       "      <td>1</td>\n",
       "      <td>fe_nT_std</td>\n",
       "      <td>20.896316</td>\n",
       "      <td>18.2244</td>\n",
       "    </tr>\n",
       "    <tr>\n",
       "      <th>4</th>\n",
       "      <td>G0_Elevated</td>\n",
       "      <td>1</td>\n",
       "      <td>fe_nT_mean</td>\n",
       "      <td>0.344168</td>\n",
       "      <td>9.6871</td>\n",
       "    </tr>\n",
       "  </tbody>\n",
       "</table>\n",
       "</div>"
      ],
      "text/plain": [
       "     condition  horizon_days   statistic  value_ours  value_benchmark\n",
       "0       G0_Low             1  fe_nT_mean         NaN           1.1077\n",
       "1       G0_Low             1   fe_nT_std         NaN          14.6264\n",
       "2  G0_Moderate             1  fe_nT_mean    0.487074           8.8130\n",
       "3  G0_Moderate             1   fe_nT_std   20.896316          18.2244\n",
       "4  G0_Elevated             1  fe_nT_mean    0.344168           9.6871"
      ]
     },
     "execution_count": 25,
     "metadata": {},
     "output_type": "execute_result"
    }
   ],
   "source": [
    "# Join the two dataframes (paper and ours) into one, merging on the condition and\n",
    "# statistic. Right merge (paper)\n",
    "df_results_merged = pd.merge(df_results_long, df_results_paper_long,\n",
    "                            on=['condition', 'statistic', 'horizon_days'], how='right',\n",
    "                            suffixes=('_ours', '_benchmark'))\n",
    "\n",
    "df_results_merged.head()"
   ]
  },
  {
   "cell_type": "code",
   "execution_count": 26,
   "metadata": {},
   "outputs": [
    {
     "data": {
      "text/html": [
       "<div>\n",
       "<style scoped>\n",
       "    .dataframe tbody tr th:only-of-type {\n",
       "        vertical-align: middle;\n",
       "    }\n",
       "\n",
       "    .dataframe tbody tr th {\n",
       "        vertical-align: top;\n",
       "    }\n",
       "\n",
       "    .dataframe thead th {\n",
       "        text-align: right;\n",
       "    }\n",
       "</style>\n",
       "<table border=\"1\" class=\"dataframe\">\n",
       "  <thead>\n",
       "    <tr style=\"text-align: right;\">\n",
       "      <th></th>\n",
       "      <th>condition</th>\n",
       "      <th>horizon\\_days</th>\n",
       "      <th>Ours</th>\n",
       "      <th>benchmark</th>\n",
       "    </tr>\n",
       "  </thead>\n",
       "  <tbody>\n",
       "    <tr>\n",
       "      <th>4</th>\n",
       "      <td>G0\\_Low</td>\n",
       "      <td>1</td>\n",
       "      <td>nan ± nan</td>\n",
       "      <td>\\textbf{1.11} ± \\textbf{14.63}</td>\n",
       "    </tr>\n",
       "    <tr>\n",
       "      <th>5</th>\n",
       "      <td>G0\\_Low</td>\n",
       "      <td>2</td>\n",
       "      <td>nan ± nan</td>\n",
       "      <td>\\textbf{1.19} ± \\textbf{15.37}</td>\n",
       "    </tr>\n",
       "    <tr>\n",
       "      <th>6</th>\n",
       "      <td>G0\\_Moderate</td>\n",
       "      <td>1</td>\n",
       "      <td>\\textbf{0.49} ± 20.9</td>\n",
       "      <td>8.81 ± \\textbf{18.22}</td>\n",
       "    </tr>\n",
       "    <tr>\n",
       "      <th>7</th>\n",
       "      <td>G0\\_Moderate</td>\n",
       "      <td>2</td>\n",
       "      <td>\\textbf{1.64} ± 20.54</td>\n",
       "      <td>9.15 ± \\textbf{18.3}</td>\n",
       "    </tr>\n",
       "    <tr>\n",
       "      <th>0</th>\n",
       "      <td>G0\\_Elevated</td>\n",
       "      <td>1</td>\n",
       "      <td>\\textbf{0.34} ± 16.19</td>\n",
       "      <td>9.69 ± \\textbf{14.9}</td>\n",
       "    </tr>\n",
       "  </tbody>\n",
       "</table>\n",
       "</div>"
      ],
      "text/plain": [
       "      condition  horizon\\_days                   Ours  \\\n",
       "4       G0\\_Low              1              nan ± nan   \n",
       "5       G0\\_Low              2              nan ± nan   \n",
       "6  G0\\_Moderate              1   \\textbf{0.49} ± 20.9   \n",
       "7  G0\\_Moderate              2  \\textbf{1.64} ± 20.54   \n",
       "0  G0\\_Elevated              1  \\textbf{0.34} ± 16.19   \n",
       "\n",
       "                        benchmark  \n",
       "4  \\textbf{1.11} ± \\textbf{14.63}  \n",
       "5  \\textbf{1.19} ± \\textbf{15.37}  \n",
       "6           8.81 ± \\textbf{18.22}  \n",
       "7            9.15 ± \\textbf{18.3}  \n",
       "0            9.69 ± \\textbf{14.9}  "
      ]
     },
     "execution_count": 26,
     "metadata": {},
     "output_type": "execute_result"
    }
   ],
   "source": [
    "# Bold the best values between ours and the benchmark\n",
    "bolded_ours, bolded_benchmark = bold_best(\n",
    "    df_results_merged['value_ours'].round(2),\n",
    "    df_results_merged['value_benchmark'].round(2),\n",
    "    higher_better=False, \n",
    "    bold_ref_too=True\n",
    ")\n",
    "df_print = df_results_merged.copy()\n",
    "df_print['value_ours'] = bolded_ours\n",
    "df_print['value_benchmark'] = bolded_benchmark\n",
    "df_print.head()\n",
    "\n",
    "df_print = df_print.pivot_table(index=['condition', 'horizon_days'],\n",
    "                                columns='statistic',\n",
    "                                values=['value_ours', 'value_benchmark'],\n",
    "                                aggfunc=lambda x: x)\n",
    "\n",
    "df_print.loc[:, ('value_ours', 'fe_nT_mean ± fe_nT_std')] = \\\n",
    "    df_print['value_ours']['fe_nT_mean'] + ' ± ' + df_print['value_ours']['fe_nT_std']\n",
    "df_print.loc[:, ('value_benchmark', 'fe_nT_mean ± fe_nT_std')] = \\\n",
    "    df_print['value_benchmark']['fe_nT_mean'] + ' ± ' + df_print['value_benchmark']['fe_nT_std']\n",
    "df_print = df_print.drop(columns=[('value_ours', 'fe_nT_mean'), ('value_ours', 'fe_nT_std'),\n",
    "                                ('value_benchmark', 'fe_nT_mean'), ('value_benchmark', 'fe_nT_std')])\n",
    "\n",
    "\n",
    "# Drop the level 0 of the columns, and rename the columns\n",
    "df_print.columns = df_print.columns.droplevel(0)\n",
    "df_print.columns = ['Ours', 'benchmark']\n",
    "\n",
    "# Sort the values of the column condition so that the order is the same as in the\n",
    "# array all_possible_dst_conditions (not all the conditions are present in the \n",
    "# dataframe)\n",
    "df_print = df_print.reset_index()\n",
    "df_print['condition'] = pd.Categorical(df_print['condition'], \n",
    "                                       all_possible_dst_conditions, ordered=True)\n",
    "df_print = df_print.sort_values('condition')\n",
    "# Escape the underscore in the condition names\n",
    "df_print['condition'] = df_print['condition'].str.replace('_', '\\_')\n",
    "# Escape the column names\n",
    "df_print.columns = df_print.columns.str.replace('_', '\\_')\n",
    "\n",
    "df_print.head()"
   ]
  },
  {
   "cell_type": "code",
   "execution_count": 27,
   "metadata": {},
   "outputs": [
    {
     "name": "stdout",
     "output_type": "stream",
     "text": [
      "\\begin{table}\n",
      "\\caption{Results for the DST task.}\n",
      "\\label{tab:dst_results}\n",
      "\\begin{tabular}{lccc}\n",
      "\\toprule\n",
      "condition & horizon\\_days & Ours & benchmark \\\\\n",
      "\\midrule\n",
      "G0\\_Low & 1 & nan ± nan & \\textbf{1.11} ± \\textbf{14.63} \\\\\n",
      "G0\\_Low & 2 & nan ± nan & \\textbf{1.19} ± \\textbf{15.37} \\\\\n",
      "G0\\_Moderate & 1 & \\textbf{0.49} ± 20.9 & 8.81 ± \\textbf{18.22} \\\\\n",
      "G0\\_Moderate & 2 & \\textbf{1.64} ± 20.54 & 9.15 ± \\textbf{18.3} \\\\\n",
      "G0\\_Elevated & 1 & \\textbf{0.34} ± 16.19 & 9.69 ± \\textbf{14.9} \\\\\n",
      "G0\\_Elevated & 2 & \\textbf{1.33} ± 16.12 & 8.88 ± \\textbf{14.42} \\\\\n",
      "G0\\_High & 1 & \\textbf{0.02} ± 17.44 & 15.97 ± \\textbf{16.92} \\\\\n",
      "G0\\_High & 2 & \\textbf{0.25} ± 18.0 & 15.91 ± \\textbf{17.62} \\\\\n",
      "G1\\_Low & 1 & nan ± nan & \\textbf{-24.61} ± \\textbf{16.62} \\\\\n",
      "G1\\_Low & 2 & nan ± nan & \\textbf{-24.11} ± \\textbf{16.16} \\\\\n",
      "G1\\_Moderate & 2 & 1.4 ± \\textbf{23.25} & \\textbf{-0.52} ± 29.13 \\\\\n",
      "G1\\_Moderate & 1 & 0.83 ± \\textbf{22.72} & \\textbf{-1.24} ± 27.93 \\\\\n",
      "G1\\_Elevated & 1 & \\textbf{0.26} ± \\textbf{14.92} & 5.04 ± 23.19 \\\\\n",
      "G1\\_Elevated & 2 & \\textbf{0.2} ± \\textbf{15.84} & 1.62 ± 21.58 \\\\\n",
      "G2\\_Moderate & 1 & 1.75 ± \\textbf{20.61} & \\textbf{-2.17} ± 29.87 \\\\\n",
      "G2\\_Moderate & 2 & 1.22 ± \\textbf{25.1} & \\textbf{0.08} ± 28.29 \\\\\n",
      "G3\\_Moderate & 1 & -2.21 ± \\textbf{22.66} & \\textbf{-19.37} ± 47.96 \\\\\n",
      "G3\\_Moderate & 2 & 0.71 ± \\textbf{22.33} & \\textbf{-13.36} ± 45.49 \\\\\n",
      "\\bottomrule\n",
      "\\end{tabular}\n",
      "\\end{table}\n",
      "\n"
     ]
    }
   ],
   "source": [
    "# Print as a Latex table\n",
    "print(df_print.to_latex(index=False, escape=False, column_format='lccc', \n",
    "                        label='tab:dst_results', caption='Results for the DST task.'))"
   ]
  },
  {
   "cell_type": "code",
   "execution_count": 28,
   "metadata": {},
   "outputs": [],
   "source": [
    "data = df_results_merged.copy()"
   ]
  },
  {
   "cell_type": "code",
   "execution_count": 29,
   "metadata": {},
   "outputs": [
    {
     "data": {
      "image/png": "[encoded data removed]",
      "text/plain": [
       "<Figure size 1374.88x1200 with 16 Axes>"
      ]
     },
     "metadata": {},
     "output_type": "display_data"
    }
   ],
   "source": [
    "# Preprocess the data\n",
    "data[['Dst level', 'Solar activity level']] = data['condition'].str.split('_', expand=True)\n",
    "\n",
    "# Separate mean and std dataframes\n",
    "mean_df = data[data['statistic'] == 'fe_nT_mean'].copy()\n",
    "std_df = data[data['statistic'] == 'fe_nT_std'].copy()\n",
    "\n",
    "# Rename columns for merging\n",
    "mean_df.rename(columns={'value_ours': 'mean_ours', 'value_benchmark': 'mean_benchmark'}, inplace=True)\n",
    "std_df.rename(columns={'value_ours': 'std_ours', 'value_benchmark': 'std_benchmark'}, inplace=True)\n",
    "\n",
    "# Melt the data to a long format\n",
    "melted_mean_data = pd.melt(mean_df, id_vars=['Dst level', 'Solar activity level', 'horizon_days'], \n",
    "                           value_vars=['mean_ours', 'mean_benchmark'], \n",
    "                           var_name='algorithm', value_name='mean')\n",
    "\n",
    "melted_std_data = pd.melt(std_df, id_vars=['Dst level', 'Solar activity level', 'horizon_days'], \n",
    "                          value_vars=['std_ours', 'std_benchmark'], \n",
    "                          var_name='algorithm', value_name='std')\n",
    "\n",
    "# Correct the 'algorithm' column in the std melted dataframe\n",
    "melted_std_data['algorithm'] = melted_std_data['algorithm'].str.replace('std', 'mean')\n",
    "\n",
    "# Merge the mean and std melted dataframes\n",
    "melted_data = pd.merge(melted_mean_data, melted_std_data, on=['Dst level', \n",
    "                                                              'Solar activity level', 'horizon_days', 'algorithm'])\n",
    "\n",
    "# Create the faceted line charts\n",
    "g = sns.FacetGrid(melted_data, row='Dst level', col='Solar activity level', hue='algorithm', \n",
    "                  margin_titles=True, sharey=False)\n",
    "\n",
    "def plot_func(x, y1, y2, **kwargs):\n",
    "    plt.plot(x, y1, marker='o', **kwargs)\n",
    "    plt.fill_between(x, y1 - y2, y1 + y2, alpha=0.2)\n",
    "\n",
    "g.map(plt.axhline, y=0, ls='--', c='black', alpha=0.4)  # Add this line\n",
    "g.map(plot_func, 'horizon_days', 'mean', 'std')\n",
    "\n",
    "g.set_xlabels(\"Horizon (days)\")\n",
    "g.set_ylabels(\"Forecast error (nT)\")\n",
    "g.add_legend(title='Algorithm')\n",
    "\n",
    "# Change legend labels\n",
    "new_labels = ['Ours', 'Benchmark']\n",
    "for t, l in zip(g._legend.texts, new_labels): t.set_text(l)\n",
    "\n",
    "g.fig.subplots_adjust(wspace=.2, hspace=.2)\n",
    "plt.show()\n"
   ]
  }
 ],
 "metadata": {
  "kernelspec": {
   "display_name": "Python 3 (ipykernel)",
   "language": "python",
   "name": "python3"
  },
  "language_info": {
   "codemirror_mode": {
    "name": "ipython",
    "version": 3
   },
   "file_extension": ".py",
   "mimetype": "text/x-python",
   "name": "python",
   "nbconvert_exporter": "python",
   "pygments_lexer": "ipython3",
   "version": "3.9.17"
  }
 },
 "nbformat": 4,
 "nbformat_minor": 4
}
