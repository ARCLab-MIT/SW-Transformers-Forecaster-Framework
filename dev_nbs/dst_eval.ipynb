{
 "cells": [
  {
   "attachments": {},
   "cell_type": "markdown",
   "metadata": {},
   "source": [
    "# Evaluate Dst forecasts\n",
    "\n",
    "> The baseline is the benchmark by Licata et. al."
   ]
  },
  {
   "cell_type": "code",
   "execution_count": 33,
   "metadata": {},
   "outputs": [],
   "source": [
    "# Imports\n",
    "import sys\n",
    "sys.path.append('..')\n",
    "from tsai.basics import *\n",
    "from sklearn.metrics import mean_squared_error, mean_absolute_error\n",
    "from swdf.utils import *\n",
    "import wandb\n",
    "wandb_api = wandb.Api()"
   ]
  },
  {
   "cell_type": "code",
   "execution_count": 3,
   "metadata": {},
   "outputs": [],
   "source": [
    "# Constants\n",
    "ARTIFACT_DOWNLOAD_PATH = Path(os.environ[\"WANDB_DIR\"])/\"wandb/artifacts/solfsmy_eval_tmp\""
   ]
  },
  {
   "cell_type": "code",
   "execution_count": 63,
   "metadata": {},
   "outputs": [
    {
     "data": {
      "text/markdown": [
       "```json\n",
       "{ 'dst_data_path': '../data/DST_IAGA2002.txt',\n",
       "  'learner_artifact': None,\n",
       "  'solfsmy_data_path': '../data/SOLFSMY.TXT'}\n",
       "```"
      ],
      "text/plain": [
       "{'dst_data_path': '../data/DST_IAGA2002.txt',\n",
       " 'learner_artifact': None,\n",
       " 'solfsmy_data_path': '../data/SOLFSMY.TXT'}"
      ]
     },
     "execution_count": 63,
     "metadata": {},
     "output_type": "execute_result"
    }
   ],
   "source": [
    "# Config\n",
    "config = yaml2dict('config/dst.yaml')\n",
    "config = config.eval\n",
    "config"
   ]
  },
  {
   "cell_type": "code",
   "execution_count": 5,
   "metadata": {},
   "outputs": [
    {
     "name": "stdout",
     "output_type": "stream",
     "text": [
      "Learner loaded:\n",
      "path          = 'tmp'\n",
      "dls_fname     = '['dls_0.pth', 'dls_1.pth', 'dls_2.pth', 'dls_3.pth']'\n",
      "model_fname   = 'model.pth'\n",
      "learner_fname = 'learner.pkl'\n"
     ]
    }
   ],
   "source": [
    "if config.learner_artifact is None:\n",
    "    learner_path = 'tmp'\n",
    "else:\n",
    "    learner_path = wandb_api.artifact(config.learner_artifact).download(root=ARTIFACT_DOWNLOAD_PATH)\n",
    "learn = load_learner_all('tmp', verbose=True, device='cpu')"
   ]
  },
  {
   "cell_type": "code",
   "execution_count": 6,
   "metadata": {},
   "outputs": [
    {
     "name": "stdout",
     "output_type": "stream",
     "text": [
      "y_test_preds.shape: (45888, 1, 144)\n"
     ]
    }
   ],
   "source": [
    "y_test_preds, y_test = learn.get_preds(ds_idx = 2, with_targs=True)\n",
    "y_test_preds = to_np(y_test_preds)\n",
    "y_test = to_np(y_test)\n",
    "print(f\"y_test_preds.shape: {y_test_preds.shape}\")     "
   ]
  },
  {
   "cell_type": "code",
   "execution_count": 7,
   "metadata": {},
   "outputs": [],
   "source": [
    "horizon = y_test.shape[-1]\n",
    "data_columns_fcst = ['DST']"
   ]
  },
  {
   "attachments": {},
   "cell_type": "markdown",
   "metadata": {},
   "source": [
    "The threshold classify the forecasts of Dst are based on the values of the Dst itself\n",
    "and the solar activity level, as defined by the F10.7 (according to Licata et al.).\n",
    "Therefore, below is the table of all possible combined conditions to evaluate Dst.\n",
    "\n",
    "| Dst Level | Solar Level | Dst Value         | Solar Value       |\n",
    "|-----------|-------------|-------------------|-------------------|\n",
    "| G0        | Low         | Dst ≥ -30         | F 10.7 ≤ 75       |\n",
    "| G0        | Moderate    | Dst ≥ -30         | 75 < F 10.7 ≤ 150 |\n",
    "| G0        | Elevated    | Dst ≥ -30         | 150 < F 10.7 ≤ 190|\n",
    "| G0        | High        | Dst ≥ -30         | F 10.7 > 190      |\n",
    "| G1        | Low         | -30 > Dst ≥ -50   | F 10.7 ≤ 75       |\n",
    "| G1        | Moderate    | -30 > Dst ≥ -50   | 75 < F 10.7 ≤ 150 |\n",
    "| G1        | Elevated    | -30 > Dst ≥ -50   | 150 < F 10.7 ≤ 190|\n",
    "| G1        | High        | -30 > Dst ≥ -50   | F 10.7 > 190      |\n",
    "| G2        | Low         | -50 > Dst ≥ -90   | F 10.7 ≤ 75       |\n",
    "| G2        | Moderate    | -50 > Dst ≥ -90   | 75 < F 10.7 ≤ 150 |\n",
    "| G2        | Elevated    | -50 > Dst ≥ -90   | 150 < F 10.7 ≤ 190|\n",
    "| G2        | High        | -50 > Dst ≥ -90   | F 10.7 > 190      |\n",
    "| G3        | Low         | -90 > Dst ≥ -130  | F 10.7 ≤ 75       |\n",
    "| G3        | Moderate    | -90 > Dst ≥ -130  | 75 < F 10.7 ≤ 150 |\n",
    "| G3        | Elevated    | -90 > Dst ≥ -130  | 150 < F 10.7 ≤ 190|\n",
    "| G3        | High        | -90 > Dst ≥ -130  | F 10.7 > 190      |\n",
    "| G4        | Low         | -130 > Dst ≥ -350 | F 10.7 ≤ 75       |\n",
    "| G4        | Moderate    | -130 > Dst ≥ -350 | 75 < F 10.7 ≤ 150 |\n",
    "| G4        | Elevated    | -130 > Dst ≥ -350 | 150 < F 10.7 ≤ 190|\n",
    "| G4        | High        | -130 > Dst ≥ -350 | F 10.7 > 190      |\n",
    "| G5        | Low         | Dst ≤ -350        | F 10.7 ≤ 75       |\n",
    "| G5        | Moderate    | Dst ≤ -350        | 75 < F 10.7 ≤ 150 |\n",
    "| G5        | Elevated    | Dst ≤ -350        | 150 < F 10.7 ≤ 190|\n",
    "| G5        | High        | Dst ≤ -350        | F 10.7 > 190      |\n",
    "\n",
    "\n",
    "In order to create all those combined conditions, let's merge the data from Dst\n",
    "and F10.7. Since this data is provided with different frequencies (1 day for F10.7 \n",
    "and 1 hour for Dst, we will fill the missing timestamps of F10.7 with forward-filling)\n"
   ]
  },
  {
   "cell_type": "code",
   "execution_count": 8,
   "metadata": {},
   "outputs": [
    {
     "name": "stderr",
     "output_type": "stream",
     "text": [
      "/tmp/ipykernel_9696/1854806815.py:3: ParserWarning: Falling back to the 'python' engine because the 'c' engine does not support regex separators (separators > 1 char and different from '\\s+' are interpreted as regex); you can avoid this warning by specifying engine='python'.\n",
      "  df_dst_raw = pd.read_csv(config.dst_data_path, sep='\\s{2,}|\\s',\n"
     ]
    },
    {
     "data": {
      "text/html": [
       "<div>\n",
       "<style scoped>\n",
       "    .dataframe tbody tr th:only-of-type {\n",
       "        vertical-align: middle;\n",
       "    }\n",
       "\n",
       "    .dataframe tbody tr th {\n",
       "        vertical-align: top;\n",
       "    }\n",
       "\n",
       "    .dataframe thead th {\n",
       "        text-align: right;\n",
       "    }\n",
       "</style>\n",
       "<table border=\"1\" class=\"dataframe\">\n",
       "  <thead>\n",
       "    <tr style=\"text-align: right;\">\n",
       "      <th></th>\n",
       "      <th>datetime</th>\n",
       "      <th>DST</th>\n",
       "      <th>F10</th>\n",
       "    </tr>\n",
       "  </thead>\n",
       "  <tbody>\n",
       "    <tr>\n",
       "      <th>0</th>\n",
       "      <td>1997-01-01 00:00:00</td>\n",
       "      <td>-5.0</td>\n",
       "      <td>72.4</td>\n",
       "    </tr>\n",
       "    <tr>\n",
       "      <th>1</th>\n",
       "      <td>1997-01-01 01:00:00</td>\n",
       "      <td>0.0</td>\n",
       "      <td>72.4</td>\n",
       "    </tr>\n",
       "    <tr>\n",
       "      <th>2</th>\n",
       "      <td>1997-01-01 02:00:00</td>\n",
       "      <td>3.0</td>\n",
       "      <td>72.4</td>\n",
       "    </tr>\n",
       "    <tr>\n",
       "      <th>3</th>\n",
       "      <td>1997-01-01 03:00:00</td>\n",
       "      <td>6.0</td>\n",
       "      <td>72.4</td>\n",
       "    </tr>\n",
       "    <tr>\n",
       "      <th>4</th>\n",
       "      <td>1997-01-01 04:00:00</td>\n",
       "      <td>9.0</td>\n",
       "      <td>72.4</td>\n",
       "    </tr>\n",
       "  </tbody>\n",
       "</table>\n",
       "</div>"
      ],
      "text/plain": [
       "             datetime  DST   F10\n",
       "0 1997-01-01 00:00:00 -5.0  72.4\n",
       "1 1997-01-01 01:00:00  0.0  72.4\n",
       "2 1997-01-01 02:00:00  3.0  72.4\n",
       "3 1997-01-01 03:00:00  6.0  72.4\n",
       "4 1997-01-01 04:00:00  9.0  72.4"
      ]
     },
     "execution_count": 8,
     "metadata": {},
     "output_type": "execute_result"
    }
   ],
   "source": [
    "# We'll load again the data from Dst with datetimes, and \n",
    "# merge the DATE and TIME columns into a single datetime column\n",
    "df_dst_raw = pd.read_csv(config.dst_data_path, sep='\\s{2,}|\\s', \n",
    "                         names=['DATE', 'TIME', 'DOY', 'DST'])\n",
    "df_dst_raw['datetime'] = pd.to_datetime(df_dst_raw.DATE + ' ' + df_dst_raw.TIME)\n",
    "\n",
    "# We need to load the F10.7 data to classify the DST predictions\n",
    "df_solfsmy = pd.read_csv(config.solfsmy_data_path, delim_whitespace=True, comment='#', header=None, \n",
    "                 names=['Year', 'DDD', 'JulianDay', 'F10', 'F81c', 'S10', 'S81c', \n",
    "                        'M10', 'M81c', 'Y10', 'Y81c', 'Ssrc'])\n",
    "\n",
    "# # Convert the JulianDay column to a datetime column\n",
    "df_solfsmy['datetime'] = pd.to_datetime(df_solfsmy['JulianDay'], unit='D', origin='julian')\n",
    "# Shift the datetime from 12:00 to 00:00\n",
    "df_solfsmy['datetime'] = df_solfsmy['datetime'] - pd.Timedelta(hours=12)\n",
    "\n",
    "# Merge the DST and F10.7 dataframes on the datetime column, and keep only the columns we need\n",
    "df_combined = pd.merge(df_dst_raw, df_solfsmy, on='datetime', how='left')\n",
    "df_combined = df_combined[['datetime', 'DST', 'F10']]\n",
    "\n",
    "# The F10 is given only at 12:00 (00:00 now that we shifted), so we'll forward \n",
    "# fill the rest of the values\n",
    "df_combined['F10'] = df_combined['F10'].fillna(method='ffill')\n",
    "df_combined.head()"
   ]
  },
  {
   "cell_type": "code",
   "execution_count": 56,
   "metadata": {},
   "outputs": [],
   "source": [
    "#|export\n",
    "\n",
    "all_possible_dst_conditions = ['G0_Low', 'G0_Moderate', 'G0_Elevated', 'G0_High',\n",
    "                                 'G1_Low', 'G1_Moderate', 'G1_Elevated', 'G1_High',\n",
    "                                 'G2_Low', 'G2_Moderate', 'G2_Elevated', 'G2_High',\n",
    "                                 'G3_Low', 'G3_Moderate', 'G3_Elevated', 'G3_High',\n",
    "                                 'G4_Low', 'G4_Moderate', 'G4_Elevated', 'G4_High',\n",
    "                                 'G5_Low', 'G5_Moderate', 'G5_Elevated', 'G5_High',]\n",
    "\n",
    "def get_dst_condition(dst, f107):\n",
    "    \"\"\"\n",
    "        Function that returns the Dst condition based on the Dst and F10.7 values.\n",
    "        Input:\n",
    "        dst: Dst value (float)\n",
    "        f107: F10.7 value (float)\n",
    "        Output:\n",
    "        dst_condition: Dst condition (string)\n",
    "    \"\"\"\n",
    "    if dst >= -30:\n",
    "        if f107 <= 75:\n",
    "            dst_condition = 'G0_Low'\n",
    "        elif f107 <= 150:\n",
    "            dst_condition = 'G0_Moderate'\n",
    "        elif f107 <= 190:\n",
    "            dst_condition = 'G0_Elevated'\n",
    "        else:\n",
    "            dst_condition = 'G0_High'\n",
    "    elif dst >= -50:\n",
    "        if f107 <= 75:\n",
    "            dst_condition = 'G1_Low'\n",
    "        elif f107 <= 150:\n",
    "            dst_condition = 'G1_Moderate'\n",
    "        elif f107 <= 190:\n",
    "            dst_condition = 'G1_Elevated'\n",
    "        else:\n",
    "            dst_condition = 'G1_High'\n",
    "    elif dst >= -90:\n",
    "        if f107 <= 75:\n",
    "            dst_condition = 'G2_Low'\n",
    "        elif f107 <= 150:\n",
    "            dst_condition = 'G2_Moderate'\n",
    "        elif f107 <= 190:\n",
    "            dst_condition = 'G2_Elevated'\n",
    "        else:\n",
    "            dst_condition = 'G2_High'\n",
    "    elif dst >= -130:\n",
    "        if f107 <= 75:\n",
    "            dst_condition = 'G3_Low'\n",
    "        elif f107 <= 150:\n",
    "            dst_condition = 'G3_Moderate'\n",
    "        elif f107 <= 190:\n",
    "            dst_condition = 'G3_Elevated'\n",
    "        else:\n",
    "            dst_condition = 'G3_High'\n",
    "    elif dst >= -350:\n",
    "        if f107 <= 75:\n",
    "            dst_condition = 'G4_Low'\n",
    "        elif f107 <= 150:\n",
    "            dst_condition = 'G4_Moderate'\n",
    "        elif f107 <= 190:\n",
    "            dst_condition = 'G4_Elevated'\n",
    "        else:\n",
    "            dst_condition = 'G4_High'\n",
    "    else:\n",
    "        if f107 <= 75:\n",
    "            dst_condition = 'G5_Low'\n",
    "        elif f107 <= 150:\n",
    "            dst_condition = 'G5_Moderate'\n",
    "        elif f107 <= 190:\n",
    "            dst_condition = 'G5_Elevated'\n",
    "        else:\n",
    "            dst_condition = 'G5_High'\n",
    "    return dst_condition\n",
    "\n",
    "# Vectorize the get_dst_condition function\n",
    "get_dst_condition_vec = np.vectorize(get_dst_condition)"
   ]
  },
  {
   "cell_type": "code",
   "execution_count": 39,
   "metadata": {},
   "outputs": [],
   "source": [
    "# Add the condition column to the dataframe\n",
    "df_combined[\"condition\"] = get_dst_condition_vec(df_combined[\"DST\"], \n",
    "                                                 df_combined[\"F10\"])"
   ]
  },
  {
   "cell_type": "code",
   "execution_count": null,
   "metadata": {},
   "outputs": [
    {
     "data": {
      "text/plain": [
       "((230497, 3, 144), (230497, 3, 144))"
      ]
     },
     "metadata": {},
     "output_type": "display_data"
    }
   ],
   "source": [
    "X_combined, y_combined = prepare_forecasting_data(df_combined, fcst_history=learn.dls.len, fcst_horizon=learn.dls.d[-1], \n",
    "                                x_vars=['DST', 'F10', 'datetime'], \n",
    "                                y_vars=['DST', 'F10', 'datetime'])\n",
    "X_combined.shape, y_combined.shape"
   ]
  },
  {
   "cell_type": "code",
   "execution_count": 42,
   "metadata": {},
   "outputs": [],
   "source": [
    "#| export\n",
    "\n",
    "def split_data_by_dst_f107(data):\n",
    "    # function that splits the Dst data into all the possible Dst x F10.7 combinations\n",
    "    # according to the thresholds defined above. # The decision is made based on \n",
    "    # the timestemp of each sample\n",
    "    # The function returns a dictionary with the Dst x F10.7 combinations as keys\n",
    "    # and the corresponding samples that match the condition as values.\n",
    "    # Input:\n",
    "    # data: Dst data and F10 data (numpy array of shape (n_samples, 2, n_timesteps))\n",
    "    # Output:\n",
    "    # data_split: dictionary with the Dst x F10.7 combinations as keys, and the\n",
    "    # corresponding Dst data as values.\n",
    "\n",
    "    # Select the first timestep for all samples\n",
    "    first_timestep_data = data[:, :, 0]\n",
    "\n",
    "    # Apply the vectorized function to the first timestep data\n",
    "    result = get_dst_condition_vec(first_timestep_data[:, 0], first_timestep_data[:, 1])\n",
    "\n",
    "    # Create a dictionary with the Dst x F10.7 combinations as keys and the corresponding\n",
    "    # samples as values\n",
    "    data_split = {}\n",
    "    for dst_condition in np.unique(result):\n",
    "        data_split[dst_condition] = data[result == dst_condition]\n",
    "    return data_split"
   ]
  },
  {
   "cell_type": "code",
   "execution_count": 54,
   "metadata": {},
   "outputs": [
    {
     "data": {
      "text/plain": [
       "((137762, 3, 144), (46417, 3, 144), (45888, 3, 144))"
      ]
     },
     "execution_count": 54,
     "metadata": {},
     "output_type": "execute_result"
    }
   ],
   "source": [
    "y_combined_train = y_combined[learn.dls[0].splits]\n",
    "y_combined_valid = y_combined[learn.dls[1].splits]\n",
    "y_combined_test = y_combined[learn.dls[2].splits]\n",
    "y_combined_train.shape, y_combined_valid.shape, y_combined_test.shape"
   ]
  },
  {
   "cell_type": "code",
   "execution_count": 73,
   "metadata": {},
   "outputs": [
    {
     "name": "stdout",
     "output_type": "stream",
     "text": [
      "Condition            Train                Valid                Test\n",
      "G0_Low               (30739, 3, 144)      (24703, 3, 144)      (5667, 3, 144)\n",
      "G0_Moderate          (66366, 3, 144)      (18035, 3, 144)      (29957, 3, 144)\n",
      "G0_Elevated          (13836, 3, 144)      (1434, 3, 144)       (4248, 3, 144)\n",
      "G0_High              (8109, 3, 144)       (232, 3, 144)        (478, 3, 144)\n",
      "G1_Low               (1130, 3, 144)       (556, 3, 144)        (190, 3, 144)\n",
      "G1_Moderate          (7515, 3, 144)       (941, 3, 144)        (3240, 3, 144)\n",
      "G1_Elevated          (2325, 3, 144)       (64, 3, 144)         (544, 3, 144)\n",
      "G1_High              (1583, 3, 144)       (30, 3, 144)         (74, 3, 144)\n",
      "G2_Low               (183, 3, 144)        (74, 3, 144)         (24, 3, 144)\n",
      "G2_Moderate          (2499, 3, 144)       (265, 3, 144)        (1064, 3, 144)\n",
      "G2_Elevated          (1316, 3, 144)       (14, 3, 144)         (164, 3, 144)\n",
      "G2_High              (738, 3, 144)        (2, 3, 144)          (0,)\n",
      "G3_Low               (12, 3, 144)         (5, 3, 144)          (0,)\n",
      "G3_Moderate          (436, 3, 144)        (34, 3, 144)         (190, 3, 144)\n",
      "G3_Elevated          (333, 3, 144)        (0,)                 (12, 3, 144)\n",
      "G3_High              (155, 3, 144)        (0,)                 (0,)\n",
      "G4_Low               (0,)                 (6, 3, 144)          (0,)\n",
      "G4_Moderate          (176, 3, 144)        (22, 3, 144)         (36, 3, 144)\n",
      "G4_Elevated          (137, 3, 144)        (0,)                 (0,)\n",
      "G4_High              (162, 3, 144)        (0,)                 (0,)\n",
      "G5_Low               (0,)                 (0,)                 (0,)\n",
      "G5_Moderate          (2, 3, 144)          (0,)                 (0,)\n",
      "G5_Elevated          (5, 3, 144)          (0,)                 (0,)\n",
      "G5_High              (5, 3, 144)          (0,)                 (0,)\n"
     ]
    }
   ],
   "source": [
    "# Splitn y_combined and y_combined_test by Dst x F10.7 combinations\n",
    "y_combined_train_split = split_data_by_dst_f107(y_combined_train)\n",
    "y_combined_valid_split = split_data_by_dst_f107(y_combined_valid)\n",
    "y_combined_test_split = split_data_by_dst_f107(y_combined_test)\n",
    "\n",
    "# Compare the distributions of the Dst x F10.7 combinations in the training, validation and test sets\n",
    "print('{:<20} {:<20} {:<20} {}'.format(\"Condition\", \"Train\", \"Valid\", \"Test\"))\n",
    "for key in all_possible_dst_conditions:\n",
    "    print('{:<20} {:<20} {:<20} {}'.format(\n",
    "        key, \n",
    "        str(ifnone(y_combined_train_split.get(key),np.array([])).shape),\n",
    "        str(ifnone(y_combined_valid_split.get(key), np.array([])).shape), \n",
    "        str(ifnone(y_combined_test_split.get(key), np.array([])).shape)))"
   ]
  },
  {
   "cell_type": "code",
   "execution_count": 76,
   "metadata": {},
   "outputs": [
    {
     "data": {
      "image/png": "[encoded data removed]",
      "text/plain": [
       "<Figure size 1500x500 with 1 Axes>"
      ]
     },
     "metadata": {},
     "output_type": "display_data"
    }
   ],
   "source": [
    "# Compare the distributions dhown in the previous table with a plot\n",
    "# Plot the distribution of the Dst x F10.7 combinations in the training, validation and test sets\n",
    "fig, ax = plt.subplots(figsize=(15, 5))\n",
    "ax.bar(np.arange(len(all_possible_dst_conditions))-0.2,\n",
    "        [ifnone(y_combined_train_split.get(key),np.array([])).shape[0] for key in all_possible_dst_conditions],\n",
    "        width=0.2, color='b', align='center', label='Train')\n",
    "ax.bar(np.arange(len(all_possible_dst_conditions)),\n",
    "        [ifnone(y_combined_valid_split.get(key),np.array([])).shape[0] for key in all_possible_dst_conditions], \n",
    "        width=0.2, color='g', align='center', label='Valid')\n",
    "ax.bar(np.arange(len(all_possible_dst_conditions))+0.2,\n",
    "        [ifnone(y_combined_test_split.get(key),np.array([])).shape[0] for key in all_possible_dst_conditions],\n",
    "        width=0.2, color='r', align='center', label='Test')\n",
    "ax.set_xticks(np.arange(len(all_possible_dst_conditions)))\n",
    "ax.set_xticklabels(all_possible_dst_conditions, rotation=45)\n",
    "ax.set_ylabel('Number of samples')\n",
    "ax.set_xlabel('Dst x F10.7 condition')\n",
    "ax.set_title('Distribution of the Dst x F10.7 conditions in the training, validation and test sets')\n",
    "ax.legend()\n",
    "plt.show()"
   ]
  }
 ],
 "metadata": {
  "kernelspec": {
   "display_name": "Python 3",
   "language": "python",
   "name": "python3"
  },
  "language_info": {
   "codemirror_mode": {
    "name": "ipython",
    "version": 3
   },
   "file_extension": ".py",
   "mimetype": "text/x-python",
   "name": "python",
   "nbconvert_exporter": "python",
   "pygments_lexer": "ipython3",
   "version": "3.9.16"
  },
  "orig_nbformat": 4
 },
 "nbformat": 4,
 "nbformat_minor": 2
}
