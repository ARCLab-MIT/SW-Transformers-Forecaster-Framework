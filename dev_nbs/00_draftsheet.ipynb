{
 "cells": [
  {
   "attachments": {},
   "cell_type": "markdown",
   "metadata": {},
   "source": [
    "# Draftsheet\n",
    "\n",
    "> First experiment and ideas"
   ]
  },
  {
   "cell_type": "code",
   "execution_count": 1,
   "metadata": {},
   "outputs": [
    {
     "name": "stderr",
     "output_type": "stream",
     "text": [
      "/usr/local/pip-global/tqdm/auto.py:22: TqdmWarning: IProgress not found. Please update jupyter and ipywidgets. See https://ipywidgets.readthedocs.io/en/stable/user_install.html\n",
      "  from .autonotebook import tqdm as notebook_tqdm\n"
     ]
    }
   ],
   "source": [
    "from tsai.basics import *"
   ]
  },
  {
   "cell_type": "code",
   "execution_count": 7,
   "metadata": {},
   "outputs": [
    {
     "data": {
      "text/plain": [
       "Path('/home/vscode/.fastai/archive/SOLFSMY.TXT')"
      ]
     },
     "execution_count": 7,
     "metadata": {},
     "output_type": "execute_result"
    }
   ],
   "source": [
    "data_path = download_data('https://sol.spacenvironment.net/jb2008/indices/SOLFSMY.TXT')\n",
    "data_path"
   ]
  },
  {
   "cell_type": "code",
   "execution_count": 20,
   "metadata": {},
   "outputs": [
    {
     "data": {
      "text/html": [
       "<div>\n",
       "<style scoped>\n",
       "    .dataframe tbody tr th:only-of-type {\n",
       "        vertical-align: middle;\n",
       "    }\n",
       "\n",
       "    .dataframe tbody tr th {\n",
       "        vertical-align: top;\n",
       "    }\n",
       "\n",
       "    .dataframe thead th {\n",
       "        text-align: right;\n",
       "    }\n",
       "</style>\n",
       "<table border=\"1\" class=\"dataframe\">\n",
       "  <thead>\n",
       "    <tr style=\"text-align: right;\">\n",
       "      <th></th>\n",
       "      <th>Year</th>\n",
       "      <th>DDD</th>\n",
       "      <th>JulianDay</th>\n",
       "      <th>F10</th>\n",
       "      <th>F81c</th>\n",
       "      <th>S10</th>\n",
       "      <th>S81c</th>\n",
       "      <th>M10</th>\n",
       "      <th>M81c</th>\n",
       "      <th>Y10</th>\n",
       "      <th>Y81c</th>\n",
       "      <th>Ssrc</th>\n",
       "    </tr>\n",
       "  </thead>\n",
       "  <tbody>\n",
       "    <tr>\n",
       "      <th>0</th>\n",
       "      <td>1997</td>\n",
       "      <td>1</td>\n",
       "      <td>2450450.0</td>\n",
       "      <td>72.4</td>\n",
       "      <td>78.0</td>\n",
       "      <td>74.0</td>\n",
       "      <td>79.2</td>\n",
       "      <td>65.4</td>\n",
       "      <td>73.8</td>\n",
       "      <td>61.9</td>\n",
       "      <td>70.7</td>\n",
       "      <td>1B11</td>\n",
       "    </tr>\n",
       "    <tr>\n",
       "      <th>1</th>\n",
       "      <td>1997</td>\n",
       "      <td>2</td>\n",
       "      <td>2450451.0</td>\n",
       "      <td>72.1</td>\n",
       "      <td>77.9</td>\n",
       "      <td>73.8</td>\n",
       "      <td>79.1</td>\n",
       "      <td>66.9</td>\n",
       "      <td>73.7</td>\n",
       "      <td>63.4</td>\n",
       "      <td>70.4</td>\n",
       "      <td>1B11</td>\n",
       "    </tr>\n",
       "    <tr>\n",
       "      <th>2</th>\n",
       "      <td>1997</td>\n",
       "      <td>3</td>\n",
       "      <td>2450452.0</td>\n",
       "      <td>73.3</td>\n",
       "      <td>77.6</td>\n",
       "      <td>75.0</td>\n",
       "      <td>79.1</td>\n",
       "      <td>70.1</td>\n",
       "      <td>73.6</td>\n",
       "      <td>64.9</td>\n",
       "      <td>70.2</td>\n",
       "      <td>1B11</td>\n",
       "    </tr>\n",
       "    <tr>\n",
       "      <th>3</th>\n",
       "      <td>1997</td>\n",
       "      <td>4</td>\n",
       "      <td>2450453.0</td>\n",
       "      <td>73.8</td>\n",
       "      <td>77.3</td>\n",
       "      <td>76.3</td>\n",
       "      <td>79.0</td>\n",
       "      <td>71.6</td>\n",
       "      <td>73.4</td>\n",
       "      <td>65.5</td>\n",
       "      <td>69.8</td>\n",
       "      <td>1B11</td>\n",
       "    </tr>\n",
       "    <tr>\n",
       "      <th>4</th>\n",
       "      <td>1997</td>\n",
       "      <td>5</td>\n",
       "      <td>2450454.0</td>\n",
       "      <td>74.4</td>\n",
       "      <td>76.9</td>\n",
       "      <td>77.6</td>\n",
       "      <td>78.9</td>\n",
       "      <td>72.4</td>\n",
       "      <td>73.3</td>\n",
       "      <td>66.7</td>\n",
       "      <td>69.6</td>\n",
       "      <td>1B11</td>\n",
       "    </tr>\n",
       "  </tbody>\n",
       "</table>\n",
       "</div>"
      ],
      "text/plain": [
       "   Year  DDD  JulianDay   F10  F81c   S10  S81c   M10  M81c   Y10  Y81c  Ssrc\n",
       "0  1997    1  2450450.0  72.4  78.0  74.0  79.2  65.4  73.8  61.9  70.7  1B11\n",
       "1  1997    2  2450451.0  72.1  77.9  73.8  79.1  66.9  73.7  63.4  70.4  1B11\n",
       "2  1997    3  2450452.0  73.3  77.6  75.0  79.1  70.1  73.6  64.9  70.2  1B11\n",
       "3  1997    4  2450453.0  73.8  77.3  76.3  79.0  71.6  73.4  65.5  69.8  1B11\n",
       "4  1997    5  2450454.0  74.4  76.9  77.6  78.9  72.4  73.3  66.7  69.6  1B11"
      ]
     },
     "execution_count": 20,
     "metadata": {},
     "output_type": "execute_result"
    }
   ],
   "source": [
    "# Read the text file into a pandas DataFrame, ignoring the lines starting with '#'\n",
    "# Column names: YYYY DDD   JulianDay  F10   F81c  S10   S81c  M10   M81c  Y10   Y81c  Ssrc\n",
    "df = pd.read_csv(data_path, delim_whitespace=True, comment='#', header=None, \n",
    "                 names=['Year', 'DDD', 'JulianDay', 'F10', 'F81c', 'S10', 'S81c', \n",
    "                        'M10', 'M81c', 'Y10', 'Y81c', 'Ssrc'])\n",
    "df.head()"
   ]
  },
  {
   "attachments": {},
   "cell_type": "markdown",
   "metadata": {},
   "source": [
    "F10, S10, M10, and Y10 (81c) have different observation and report times; to standardize reporting, all values are reported in sfu units at 12UT (Universal Time); observations are 3-times daily for F10 (20 UT used), every 5 minutes for S10 (daily average used), twice daily for M10 (7 and 16 UT), and every 1 minute for Y10 (Xrays are each minute while Lya is daily); \n",
    "\n",
    "For model inputs the values should be used as a daily value between 0-24 UT for a given calendar date; F10 and S10 are 1-day lagged, M10 is 2-day, and Y10 is 5-day lagged in JB2008; the 81-day centered values are used with the same respective lag times. Ssrc has 4 fields (1 for each index): \n",
    "\n",
    "*  0 = (F10, S10, M10, Y10) spline-filled if value or missing if no value; \n",
    "* 1 = (F10, M10, Y10) derived or measured index, (S10) SOHO/SEM; \n",
    "* 2 = (S10) TIMED/SEE v11; \n",
    "* 3 = (S10) SOHO gap (daily); \n",
    "* 4 = (S10) SOHO gap (average); \n",
    "* 5 = (F10) F10 mean (2 surrounding values), (S10) SDO/EVE; \n",
    "* 6 = (S10) GOES/EUVS fill-in, (M10) M10 mean (2 surrounding values); \n",
    "* 7 = (S10) S10 scaled to match M10 change from previous day; \n",
    "* 8 = (S10) SDO/EVE corrections and all S10 tweaked from sat 12388 delta B%, (Y10) UARS/SOLSTICE V18; \n",
    "* 9 = (S10) replace original v4.0h data for versions 4.0 and higher, (Y10) UARS/SOLSTICE v19; \n",
    "* A = (S10) TIMED/SEE solar minimum correction; \n",
    "* B = (S10) replace with original v4.0h S10 data for versions 4.0 and higher, (M10) SORCE/SOLSTICE/SIM v9; \n",
    "* C = (S10) SDO/EVE correction, (Y10) GOES XRS; \n",
    "* D = (S10) validated TIMED/SEE, (Y10) GOES XRS and SET composite LYA; \n",
    "* E = (S10) S10 composite, (Y10) SET composite LYA; \n",
    "* F = (F10, S10, M10, Y10) mean of bordering values\n",
    "\n",
    "Acronyms:\n",
    "* SOHO/SEM: Solar and Heliospheric Observatory/ Spacecraft's Solar Extreme-ultraviolet Monitor (SEM)\n",
    "* SDO/EVE: Solar Dynamics Observatory/Extreme Ultraviolet Variability Experiment.\n",
    "* UARS/SOLSTICE: Upper Atmosphere Research Satellite/Solar Stellar Irradiance Comparison Experiment\n",
    "* SORCE/SOLSTICE/SIM: Solar Radiation and Climate Experiment/SOLSTICE/Spectral Irradiance Monitor\n",
    "* GOES/XRS: Geostationary Operational Environmental Satellite/X-Ray Sensor\n",
    "* \"SET composite LYA\" refers to the solar irradiance in the Lyman-alpha (Lyα) wavelength range, as measured by the Solar EUV Experiment Telescope (SET) onboard the Solar Radiation and Climate Experiment (SORCE) spacecraft."
   ]
  },
  {
   "cell_type": "code",
   "execution_count": null,
   "metadata": {},
   "outputs": [],
   "source": []
  }
 ],
 "metadata": {
  "kernelspec": {
   "display_name": "Python 3 (ipykernel)",
   "language": "python",
   "name": "python3"
  },
  "language_info": {
   "codemirror_mode": {
    "name": "ipython",
    "version": 3
   },
   "file_extension": ".py",
   "mimetype": "text/x-python",
   "name": "python",
   "nbconvert_exporter": "python",
   "pygments_lexer": "ipython3",
   "version": "3.9.2"
  },
  "vscode": {
   "interpreter": {
    "hash": "949777d72b0d2535278d3dc13498b2535136f6dfe0678499012e853ee9abcab1"
   }
  }
 },
 "nbformat": 4,
 "nbformat_minor": 4
}
