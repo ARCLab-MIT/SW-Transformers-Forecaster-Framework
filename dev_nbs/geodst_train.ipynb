{
 "cells": [
  {
   "cell_type": "code",
   "execution_count": 5,
   "metadata": {},
   "outputs": [
    {
     "name": "stdout",
     "output_type": "stream",
     "text": [
      "os              : Linux-6.8.0-39-generic-x86_64-with-glibc2.31\n",
      "python          : 3.10.12\n",
      "tsai            : 0.3.10\n",
      "fastai          : 2.7.15\n",
      "fastcore        : 1.5.49\n",
      "sklearn         : 1.5.1\n",
      "torch           : 2.2.2+cu121\n",
      "device          : 1 gpu (['NVIDIA GeForce RTX 3070 Ti Laptop GPU'])\n",
      "cpu cores       : 14\n",
      "threads per cpu : 1\n",
      "RAM             : 15.28 GB\n",
      "GPU memory      : [8.0] GB\n"
     ]
    }
   ],
   "source": [
    "import sys\n",
    "sys.path.append('..')\n",
    "from swdf.utils import *\n",
    "convert_uuids_to_indices()\n",
    "import sklearn\n",
    "from tsai.basics import *\n",
    "my_setup(sklearn)\n",
    "from matplotlib import dates as mdates\n",
    "import wandb\n",
    "from fastai.callback.wandb import WandbCallback\n",
    "from fastai.callback.progress import ShowGraphCallback\n",
    "from swdf.preprocessing import BackForwardFillMissing\n",
    "import papermill as pm\n"
   ]
  },
  {
   "cell_type": "markdown",
   "metadata": {},
   "source": [
    "# Forecast Dst\n",
    "\n",
    "> 6- day horizon, hourly based"
   ]
  },
  {
   "cell_type": "code",
   "execution_count": 9,
   "metadata": {
    "tags": [
     "parameters"
    ]
   },
   "outputs": [],
   "source": [
    "cwd = os.getcwd()\n",
    "config_base = yaml2dict('./config/base.yaml', attrdict=True)\n",
    "config_geo = yaml2dict('./config/geodst.yaml', attrdict=True)\n",
    "config_train = config_geo.train\n",
    "config_data = config_geo.data\n",
    "\n",
    "# Merge the two configs (the second one overrides the first one for any keys that are present in both)\n",
    "config = AttrDict({**config_base,\n",
    "                   **config_train, \n",
    "                   \"data\":AttrDict({**config_data})})\n",
    "\n",
    "# Add the architecture config\n",
    "if config.arch_config_file is not None:\n",
    "    config.arch_config_file = Path(config.arch_config_file)\n",
    "    if config.arch_config_file.exists():\n",
    "        config.arch = yaml2dict(config.arch_config_file, attrdict=True)\n",
    "    else:\n",
    "        print(f'No custom arch config found in {config.arch_config_file}')\n",
    "        config.arch = AttrDict()\n",
    "else:\n",
    "    config.arch = AttrDict()"
   ]
  },
  {
   "cell_type": "code",
   "execution_count": 10,
   "metadata": {},
   "outputs": [
    {
     "data": {
      "text/markdown": [
       "```json\n",
       "{ 'add_time_channels': False,\n",
       "  'arch': {'attn_dropout': 0.4, 'd_model': 1024, 'dropout': 0.2, 'n_heads': 32},\n",
       "  'arch_config_file': Path('config/patchtst.yaml'),\n",
       "  'arch_name': 'PatchTST',\n",
       "  'bs': 64,\n",
       "  'data': { 'data_nb': './geodst_data.ipynb',\n",
       "            'data_path': '../data/DST_IAGA2002.txt',\n",
       "            'df_save_path': './preprocessed_data/dataframes/geodst.pkl',\n",
       "            'force_download': False,\n",
       "            'preproc_pipe_save_path': './preprocessed_data/pipelines/preproc_geodst.pkl'},\n",
       "  'deltaHL': 4.0,\n",
       "  'horizon': 144,\n",
       "  'init_weights': False,\n",
       "  'is_optuna_study': False,\n",
       "  'lookback': 432,\n",
       "  'lr_max': None,\n",
       "  'n_epoch': 50,\n",
       "  'partial_n': 0.001,\n",
       "  'seed': 42,\n",
       "  'test_end_datetime': '2018-12-31 12:00:00',\n",
       "  'test_start_datetime': '2012-10-01 12:00:00',\n",
       "  'valid_start_datetime': '2018-01-01 12:00:00',\n",
       "  'wandb': { 'enabled': False,\n",
       "             'group': None,\n",
       "             'log_learner': True,\n",
       "             'mode': 'offline',\n",
       "             'project': 'swdf'}}\n",
       "```"
      ],
      "text/plain": [
       "{'arch_name': 'PatchTST',\n",
       " 'arch_config_file': Path('config/patchtst.yaml'),\n",
       " 'bs': 64,\n",
       " 'horizon': 144,\n",
       " 'init_weights': False,\n",
       " 'lookback': 432,\n",
       " 'lr_max': None,\n",
       " 'n_epoch': 50,\n",
       " 'partial_n': 0.001,\n",
       " 'seed': 42,\n",
       " 'test_start_datetime': '2012-10-01 12:00:00',\n",
       " 'test_end_datetime': '2018-12-31 12:00:00',\n",
       " 'valid_start_datetime': '2018-01-01 12:00:00',\n",
       " 'deltaHL': 4.0,\n",
       " 'is_optuna_study': False,\n",
       " 'wandb': {'enabled': False,\n",
       "  'log_learner': True,\n",
       "  'mode': 'offline',\n",
       "  'group': None,\n",
       "  'project': 'swdf'},\n",
       " 'add_time_channels': False,\n",
       " 'data': {'force_download': False,\n",
       "  'data_path': '../data/DST_IAGA2002.txt',\n",
       "  'data_nb': './geodst_data.ipynb',\n",
       "  'df_save_path': './preprocessed_data/dataframes/geodst.pkl',\n",
       "  'preproc_pipe_save_path': './preprocessed_data/pipelines/preproc_geodst.pkl'},\n",
       " 'arch': {'attn_dropout': 0.4, 'd_model': 1024, 'dropout': 0.2, 'n_heads': 32}}"
      ]
     },
     "execution_count": 10,
     "metadata": {},
     "output_type": "execute_result"
    }
   ],
   "source": [
    "run = wandb.init(project=config.wandb.project, \n",
    "                 config=config,\n",
    "                 group=config.wandb.group,\n",
    "                 mode=config.wandb.mode, \n",
    "                 anonymous='never') if config.wandb.enabled else None\n",
    "config = dict2attrdict(run.config) if config.wandb.enabled else config\n",
    "config"
   ]
  },
  {
   "cell_type": "code",
   "execution_count": 11,
   "metadata": {},
   "outputs": [
    {
     "data": {
      "text/html": [
       "<div>\n",
       "<style scoped>\n",
       "    .dataframe tbody tr th:only-of-type {\n",
       "        vertical-align: middle;\n",
       "    }\n",
       "\n",
       "    .dataframe tbody tr th {\n",
       "        vertical-align: top;\n",
       "    }\n",
       "\n",
       "    .dataframe thead th {\n",
       "        text-align: right;\n",
       "    }\n",
       "</style>\n",
       "<table border=\"1\" class=\"dataframe\">\n",
       "  <thead>\n",
       "    <tr style=\"text-align: right;\">\n",
       "      <th></th>\n",
       "      <th>DST</th>\n",
       "      <th>Datetime</th>\n",
       "    </tr>\n",
       "  </thead>\n",
       "  <tbody>\n",
       "    <tr>\n",
       "      <th>0</th>\n",
       "      <td>11.0</td>\n",
       "      <td>1957-01-01 00:00:00</td>\n",
       "    </tr>\n",
       "    <tr>\n",
       "      <th>1</th>\n",
       "      <td>13.0</td>\n",
       "      <td>1957-01-01 01:00:00</td>\n",
       "    </tr>\n",
       "    <tr>\n",
       "      <th>2</th>\n",
       "      <td>12.0</td>\n",
       "      <td>1957-01-01 02:00:00</td>\n",
       "    </tr>\n",
       "    <tr>\n",
       "      <th>3</th>\n",
       "      <td>12.0</td>\n",
       "      <td>1957-01-01 03:00:00</td>\n",
       "    </tr>\n",
       "    <tr>\n",
       "      <th>4</th>\n",
       "      <td>9.0</td>\n",
       "      <td>1957-01-01 04:00:00</td>\n",
       "    </tr>\n",
       "  </tbody>\n",
       "</table>\n",
       "</div>"
      ],
      "text/plain": [
       "    DST            Datetime\n",
       "0  11.0 1957-01-01 00:00:00\n",
       "1  13.0 1957-01-01 01:00:00\n",
       "2  12.0 1957-01-01 02:00:00\n",
       "3  12.0 1957-01-01 03:00:00\n",
       "4   9.0 1957-01-01 04:00:00"
      ]
     },
     "execution_count": 11,
     "metadata": {},
     "output_type": "execute_result"
    }
   ],
   "source": [
    "df, preproc_pipe = generate_preprocessed_data(config.data)\n",
    "\n",
    "df.head()"
   ]
  },
  {
   "cell_type": "markdown",
   "metadata": {},
   "source": [
    "# Train"
   ]
  },
  {
   "cell_type": "code",
   "execution_count": 5,
   "metadata": {},
   "outputs": [],
   "source": [
    "# In the paper by Licata et al. (2020) (https://agupubs.onlinelibrary.wiley.com/doi/pdf/10.1029/2020SW002496),\n",
    "# authors use a period from October 2012 through the end of 2018 for the benchmarking.\n",
    "# Therefore, we will set the test set as the same period for our analysis, \n",
    "# using the column Date as the timestamp, from October 2012 to the end of 2018. \n",
    "# Everything before the test set will be used for training, and everything after the test set\n",
    "# will be used for validation\n",
    "test_start_datetime = config.test_start_datetime\n",
    "test_end_datetime = config.test_end_datetime\n",
    "valid_start_datetime = config.valid_start_datetime"
   ]
  },
  {
   "cell_type": "code",
   "execution_count": 6,
   "metadata": {},
   "outputs": [
    {
     "data": {
      "image/png": "[encoded data removed]",
      "text/plain": [
       "<Figure size 2000x500 with 1 Axes>"
      ]
     },
     "metadata": {},
     "output_type": "display_data"
    }
   ],
   "source": [
    "# hide\n",
    "\n",
    "# Plot the variable DST, covering the different periods (training, test and validation)\n",
    "# with different colors.\n",
    "fig, ax = plt.subplots(figsize=(20, 5))\n",
    "ax.plot(df.Datetime, df.DST)\n",
    "ax.axvspan(df.Datetime.min(), test_start_datetime, alpha=0.5, color='green')\n",
    "ax.axvspan(test_start_datetime, test_end_datetime, alpha=0.5, color='red')\n",
    "ax.axvspan(test_end_datetime, df.Datetime.max(), alpha=0.5, color='blue')\n",
    "ax.set_title('DST values')\n",
    "ax.set_xlabel('Time')\n",
    "\n",
    "ax.xaxis.set_major_locator(mdates.YearLocator(2))\n",
    "ax.xaxis.set_major_formatter(mdates.DateFormatter('%Y'))\n",
    "plt.xticks(rotation=45)\n",
    "plt.show()"
   ]
  },
  {
   "cell_type": "code",
   "execution_count": 7,
   "metadata": {},
   "outputs": [
    {
     "data": {
      "text/plain": [
       "((#489614) [0,1,2,3,4,5,6,7,8,9...],\n",
       " (#57262) [536220,536221,536222,536223,536224,536225,536226,536227,536228,536229...],\n",
       " (#45888) [489757,489758,489759,489760,489761,489762,489763,489764,489765,489766...])"
      ]
     },
     "execution_count": 7,
     "metadata": {},
     "output_type": "execute_result"
    }
   ],
   "source": [
    "# Splits: same as in solar flux (solfsmy) notebook\n",
    "\n",
    "splits_ = get_forecasting_splits(df[df.Datetime < valid_start_datetime], \n",
    "                             fcst_history=config.lookback, \n",
    "                             fcst_horizon=config.horizon, \n",
    "                             use_index=False, \n",
    "                             test_cutoff_datetime=test_start_datetime, \n",
    "                             show_plot=False, \n",
    "                             datetime_col='Datetime')\n",
    "foo = df[df.Datetime >= valid_start_datetime]\n",
    "bar = get_forecasting_splits(foo, config.lookback, config.horizon, valid_size=0.0, \n",
    "                             test_size=0.0, show_plot=False)\n",
    "val_idxs = L(foo.index[bar[0]].tolist())\n",
    "\n",
    "splits = (splits_[0], val_idxs, splits_[1])\n",
    "splits"
   ]
  },
  {
   "cell_type": "code",
   "execution_count": 8,
   "metadata": {},
   "outputs": [
    {
     "data": {
      "text/plain": [
       "['DST']"
      ]
     },
     "execution_count": 8,
     "metadata": {},
     "output_type": "execute_result"
    }
   ],
   "source": [
    "# Add or not add the time features\n",
    "data_columns_fcst = ['DST']\n",
    "data_columns_time = ['DOY']\n",
    "data_columns = data_columns_fcst + data_columns_time if config.add_time_channels else data_columns_fcst\n",
    "data_columns"
   ]
  },
  {
   "cell_type": "code",
   "execution_count": 9,
   "metadata": {},
   "outputs": [
    {
     "name": "stdout",
     "output_type": "stream",
     "text": [
      "tmp directory already exists.\n",
      "Pipeline saved as tmp/exp_pipe.pkl\n",
      "[Pipeline] ............ (step 1 of 1) Processing scaler, total=   0.1s\n"
     ]
    },
    {
     "data": {
      "text/html": [
       "<div>\n",
       "<style scoped>\n",
       "    .dataframe tbody tr th:only-of-type {\n",
       "        vertical-align: middle;\n",
       "    }\n",
       "\n",
       "    .dataframe tbody tr th {\n",
       "        vertical-align: top;\n",
       "    }\n",
       "\n",
       "    .dataframe thead th {\n",
       "        text-align: right;\n",
       "    }\n",
       "</style>\n",
       "<table border=\"1\" class=\"dataframe\">\n",
       "  <thead>\n",
       "    <tr style=\"text-align: right;\">\n",
       "      <th></th>\n",
       "      <th>DST</th>\n",
       "      <th>Datetime</th>\n",
       "    </tr>\n",
       "  </thead>\n",
       "  <tbody>\n",
       "    <tr>\n",
       "      <th>0</th>\n",
       "      <td>1.104087</td>\n",
       "      <td>1957-01-01 00:00:00</td>\n",
       "    </tr>\n",
       "    <tr>\n",
       "      <th>1</th>\n",
       "      <td>1.187048</td>\n",
       "      <td>1957-01-01 01:00:00</td>\n",
       "    </tr>\n",
       "    <tr>\n",
       "      <th>2</th>\n",
       "      <td>1.145567</td>\n",
       "      <td>1957-01-01 02:00:00</td>\n",
       "    </tr>\n",
       "    <tr>\n",
       "      <th>3</th>\n",
       "      <td>1.145567</td>\n",
       "      <td>1957-01-01 03:00:00</td>\n",
       "    </tr>\n",
       "    <tr>\n",
       "      <th>4</th>\n",
       "      <td>1.021125</td>\n",
       "      <td>1957-01-01 04:00:00</td>\n",
       "    </tr>\n",
       "  </tbody>\n",
       "</table>\n",
       "</div>"
      ],
      "text/plain": [
       "        DST            Datetime\n",
       "0  1.104087 1957-01-01 00:00:00\n",
       "1  1.187048 1957-01-01 01:00:00\n",
       "2  1.145567 1957-01-01 02:00:00\n",
       "3  1.145567 1957-01-01 03:00:00\n",
       "4  1.021125 1957-01-01 04:00:00"
      ]
     },
     "execution_count": 9,
     "metadata": {},
     "output_type": "execute_result"
    }
   ],
   "source": [
    "# Now that we have defined the splits for this particular experiment, we'll scale\n",
    "# the data\n",
    "train_split = splits[0]\n",
    "exp_pipe = sklearn.pipeline.Pipeline([\n",
    "    ('scaler', TSStandardScaler(columns=data_columns)),\n",
    "], verbose=True)\n",
    "save_object(exp_pipe, 'tmp/exp_pipe.pkl')\n",
    "exp_pipe = load_object('tmp/exp_pipe.pkl')\n",
    "# TODO: I don't know why but if I don't copy the dataframe df it gets modified\n",
    "df_scaled = exp_pipe.fit_transform(df.copy(), scaler__idxs = train_split)\n",
    "#df_scaled.set_index(datetime_col, inplace=True)\n",
    "df_scaled.head()"
   ]
  },
  {
   "cell_type": "code",
   "execution_count": 10,
   "metadata": {},
   "outputs": [
    {
     "data": {
      "text/plain": [
       "((593482, 1, 432), (593482, 1, 144))"
      ]
     },
     "execution_count": 10,
     "metadata": {},
     "output_type": "execute_result"
    }
   ],
   "source": [
    "# We'll approach the time series forecasting task as a supervised learning problem. \n",
    "# Remember that tsai requires that both inputs and outputs have the following shape:\n",
    "# (samples, features, steps)\n",
    "\n",
    "# To get those inputs and outputs we're going to use a function called \n",
    "# `prepare_forecasting_data`` that applies a sliding window along the dataframe\n",
    "X, y = prepare_forecasting_data(df, fcst_history=config.lookback, fcst_horizon=config.horizon, \n",
    "                                x_vars=data_columns, y_vars=data_columns_fcst)\n",
    "X.shape, y.shape"
   ]
  },
  {
   "cell_type": "markdown",
   "metadata": {},
   "source": [
    "### Train"
   ]
  },
  {
   "cell_type": "code",
   "execution_count": null,
   "metadata": {},
   "outputs": [],
   "source": [
    "from swdf.losses import MSELoss, LossMetrics\n",
    "\n",
    "wandb_callback = WandbCallback(log_preds=False)\n",
    "cbs = L(wandb_callback) if config.wandb.enabled else L()\n",
    "loss = MSELoss(reduction='mean')\n",
    "metrics = LossMetrics(loss)\n",
    "\n",
    "learn = TSForecaster(X, y, splits=splits, batch_size=config.bs, \n",
    "                     pipelines=[preproc_pipe, exp_pipe], arch=config.arch_name, \n",
    "                     arch_config=dict(config.arch), \n",
    "                     init=config.init_weights,\n",
    "                     loss_func=MSELoss(reduction='mean'),\n",
    "                     cbs= cbs + ShowGraphCallback(), \n",
    "                     partial_n=config.partial_n)\n",
    "learn.dls[0].partial_n, learn.dls[1].partial_n, learn.dls[2].partial_n\n",
    "lr_max = learn.lr_find().valley if config.lr_max is None else config.lr_max\n",
    "print(lr_max)\n",
    "print(f\"#params: {sum(p.numel() for p in learn.model.parameters())}\")\n",
    "learn.fit_one_cycle(n_epoch=config.n_epoch, lr_max=config.lr_max)"
   ]
  },
  {
   "cell_type": "code",
   "execution_count": null,
   "metadata": {},
   "outputs": [
    {
     "data": {
      "text/html": [
       "\n",
       "<style>\n",
       "    /* Turns off some styling */\n",
       "    progress {\n",
       "        /* gets rid of default border in Firefox and Opera. */\n",
       "        border: none;\n",
       "        /* Needs to be in here for Safari polyfill so background images work as expected. */\n",
       "        background-size: auto;\n",
       "    }\n",
       "    progress:not([value]), progress:not([value])::-webkit-progress-bar {\n",
       "        background: repeating-linear-gradient(45deg, #7e7e7e, #7e7e7e 10px, #5c5c5c 10px, #5c5c5c 20px);\n",
       "    }\n",
       "    .progress-bar-interrupted, .progress-bar-interrupted::-webkit-progress-bar {\n",
       "        background: #F44336;\n",
       "    }\n",
       "</style>\n"
      ],
      "text/plain": [
       "<IPython.core.display.HTML object>"
      ]
     },
     "metadata": {},
     "output_type": "display_data"
    },
    {
     "data": {
      "text/html": [],
      "text/plain": [
       "<IPython.core.display.HTML object>"
      ]
     },
     "metadata": {},
     "output_type": "display_data"
    },
    {
     "name": "stdout",
     "output_type": "stream",
     "text": [
      "364.1954650878906\n",
      "Stored 'valid_loss' (float)\n"
     ]
    }
   ],
   "source": [
    "# Print the validation loss and save it in case other notebooks (optuna) wants to\n",
    "# use it for hyperparameter optimization\n",
    "valid_loss = learn.validate()[0] \n",
    "print(valid_loss)\n",
    "%store valid_loss"
   ]
  },
  {
   "cell_type": "code",
   "execution_count": null,
   "metadata": {},
   "outputs": [
    {
     "data": {
      "text/html": [
       "\n",
       "<style>\n",
       "    /* Turns off some styling */\n",
       "    progress {\n",
       "        /* gets rid of default border in Firefox and Opera. */\n",
       "        border: none;\n",
       "        /* Needs to be in here for Safari polyfill so background images work as expected. */\n",
       "        background-size: auto;\n",
       "    }\n",
       "    progress:not([value]), progress:not([value])::-webkit-progress-bar {\n",
       "        background: repeating-linear-gradient(45deg, #7e7e7e, #7e7e7e 10px, #5c5c5c 10px, #5c5c5c 20px);\n",
       "    }\n",
       "    .progress-bar-interrupted, .progress-bar-interrupted::-webkit-progress-bar {\n",
       "        background: #F44336;\n",
       "    }\n",
       "</style>\n"
      ],
      "text/plain": [
       "<IPython.core.display.HTML object>"
      ]
     },
     "metadata": {},
     "output_type": "display_data"
    },
    {
     "data": {
      "text/html": [],
      "text/plain": [
       "<IPython.core.display.HTML object>"
      ]
     },
     "metadata": {},
     "output_type": "display_data"
    },
    {
     "name": "stdout",
     "output_type": "stream",
     "text": [
      "421.22894287109375\n"
     ]
    }
   ],
   "source": [
    "# Log the test loss to wandb\n",
    "test_loss = learn.validate(ds_idx=2)[0]\n",
    "print(test_loss)\n",
    "if run is not None:\n",
    "    run.log(dict(test_loss=test_loss))"
   ]
  },
  {
   "cell_type": "code",
   "execution_count": null,
   "metadata": {},
   "outputs": [
    {
     "name": "stdout",
     "output_type": "stream",
     "text": [
      "Learner saved:\n",
      "path          = 'tmp'\n",
      "dls_fname     = '['dls_0.pth', 'dls_1.pth', 'dls_2.pth']'\n",
      "model_fname   = 'model.pth'\n",
      "learner_fname = 'learner.pkl'\n"
     ]
    }
   ],
   "source": [
    "# Save everything\n",
    "# learn.dls.loaders += [learn.dls.valid.new_dl(X[splits[2]], y[splits[2]])] # Add test datalaoder\n",
    "# Remove the wandb callback to avoid errors when downloading the learner\n",
    "if config.wandb.enabled:\n",
    "    learn.remove_cb(wandb_callback)\n",
    "\n",
    "# Save locally and in wandb if online and enabled\n",
    "learn.save_all(path='tmp', verbose=True) \n",
    "if run is not None and config.wandb_mode and config.wandb_log_learner:\n",
    "    # Save the learner (all tmp/dls, tmp/model.pth, and tmp/learner.pkl). \n",
    "    run.log_artifact('tmp', type='learner', name='DST')\n",
    "\n",
    "# Save the best model\n",
    "model = {}\n",
    "model['models'] = [learn.model]\n",
    "model['lookback'] = config.lookback\n",
    "model['horizon'] = config.horizon\n",
    "model['data_columns'] = data_columns\n",
    "\n",
    "torch.save(model, 'models/best/best_model_geodst.pth')\n",
    "    "
   ]
  },
  {
   "cell_type": "code",
   "execution_count": null,
   "metadata": {},
   "outputs": [],
   "source": [
    "if run is not None:\n",
    "    run.finish()"
   ]
  }
 ],
 "metadata": {
  "kernelspec": {
   "display_name": "Python 3 (ipykernel)",
   "language": "python",
   "name": "python3"
  },
  "language_info": {
   "codemirror_mode": {
    "name": "ipython",
    "version": 3
   },
   "file_extension": ".py",
   "mimetype": "text/x-python",
   "name": "python",
   "nbconvert_exporter": "python",
   "pygments_lexer": "ipython3",
   "version": "3.10.12"
  }
 },
 "nbformat": 4,
 "nbformat_minor": 4
}
