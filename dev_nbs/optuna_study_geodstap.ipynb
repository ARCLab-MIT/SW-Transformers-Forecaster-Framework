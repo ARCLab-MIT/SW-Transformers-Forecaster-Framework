{
 "cells": [
  {
   "cell_type": "markdown",
   "metadata": {},
   "source": [
    "# Optuna study\n",
    "\n",
    "> Combine it with papermill and wandb for seamless hyperparameter tuning"
   ]
  },
  {
   "cell_type": "code",
   "execution_count": 6,
   "metadata": {},
   "outputs": [],
   "source": [
    "import sys\n",
    "sys.path.append('..')\n",
    "import os\n",
    "import optuna\n",
    "from tsai.optuna import *\n",
    "from tsai.basics import load_object\n",
    "import papermill as pm\n",
    "from tsai.optuna import run_optuna_study\n",
    "from fastcore.basics import *\n",
    "from optuna.distributions import *\n",
    "from optuna.samplers import TPESampler\n",
    "import wandb"
   ]
  },
  {
   "cell_type": "code",
   "execution_count": 7,
   "metadata": {},
   "outputs": [
    {
     "data": {
      "text/markdown": [
       "```json\n",
       "{ 'extra_params': {'bs': 192, 'is_optuna_study': True, 'n_epoch': 50},\n",
       "  'n_trials': 50,\n",
       "  'search_space': { 'arch.attn_dropout': DiscreteUniformDistribution(high=0.5, low=0.0, q=0.1),\n",
       "                    'arch.d_ff': IntUniformDistribution(high=512, low=32, step=32),\n",
       "                    'arch.d_model': IntUniformDistribution(high=512, low=32, step=32),\n",
       "                    'arch.decomposition': CategoricalDistribution(choices=(True, False)),\n",
       "                    'arch.dropout': DiscreteUniformDistribution(high=0.5, low=0.0, q=0.1),\n",
       "                    'arch.individual': CategoricalDistribution(choices=(True, False)),\n",
       "                    'arch.n_heads': CategoricalDistribution(choices=(2, 4, 8, 16, 32)),\n",
       "                    'arch.n_layers': IntUniformDistribution(high=6, low=1, step=1),\n",
       "                    'init_weights': CategoricalDistribution(choices=(True, False)),\n",
       "                    'lookback': CategoricalDistribution(choices=(144, 192, 240, 288, 336))},\n",
       "  'study_name': 'general_study_extended',\n",
       "  'study_type': 'bayesian',\n",
       "  'train_nb': '/workspaces/sw-driver-forecaster/dev_nbs/geodstap_train.ipynb',\n",
       "  'use_wandb': True,\n",
       "  'wandb_mode': 'offline'}\n",
       "```"
      ],
      "text/plain": [
       "{'study_name': 'general_study_extended',\n",
       " 'study_type': 'bayesian',\n",
       " 'n_trials': 50,\n",
       " 'train_nb': '/workspaces/sw-driver-forecaster/dev_nbs/geodstap_train.ipynb',\n",
       " 'search_space': {'arch.attn_dropout': DiscreteUniformDistribution(high=0.5, low=0.0, q=0.1),\n",
       "  'arch.d_model': IntUniformDistribution(high=512, low=32, step=32),\n",
       "  'arch.d_ff': IntUniformDistribution(high=512, low=32, step=32),\n",
       "  'arch.decomposition': CategoricalDistribution(choices=(True, False)),\n",
       "  'arch.dropout': DiscreteUniformDistribution(high=0.5, low=0.0, q=0.1),\n",
       "  'arch.individual': CategoricalDistribution(choices=(True, False)),\n",
       "  'arch.n_layers': IntUniformDistribution(high=6, low=1, step=1),\n",
       "  'arch.n_heads': CategoricalDistribution(choices=(2, 4, 8, 16, 32)),\n",
       "  'init_weights': CategoricalDistribution(choices=(True, False)),\n",
       "  'lookback': CategoricalDistribution(choices=(144, 192, 240, 288, 336))},\n",
       " 'extra_params': {'n_epoch': 50, 'bs': 192, 'is_optuna_study': True},\n",
       " 'use_wandb': True,\n",
       " 'wandb_mode': 'offline'}"
      ]
     },
     "execution_count": 7,
     "metadata": {},
     "output_type": "execute_result"
    }
   ],
   "source": [
    "config = AttrDict(\n",
    "    study_name = 'general_study_extended', # name of the Optuna study\n",
    "    study_type = 'bayesian', # 'bayesian' or 'gridsearch' or 'random'\n",
    "    n_trials = 50, # number of trials\n",
    "    train_nb = f'{os.getcwd()}/geodstap_train.ipynb', # path to the notebook to be executed\n",
    "    search_space = {\n",
    "        \"arch.attn_dropout\": DiscreteUniformDistribution(0.0, 0.5, 0.1),\n",
    "        \"arch.d_model\": IntUniformDistribution(32, 512, 32),\n",
    "        \"arch.d_ff\": IntUniformDistribution(32, 512, 32),\n",
    "        \"arch.decomposition\": CategoricalDistribution([True, False]),\n",
    "        \"arch.dropout\": DiscreteUniformDistribution(0.0, 0.5, 0.1), \n",
    "        \"arch.individual\": CategoricalDistribution([True, False]),\n",
    "        \"arch.n_layers\": IntUniformDistribution(1, 6, 1),\n",
    "        \"arch.n_heads\": CategoricalDistribution([2, 4, 8, 16, 32]),\n",
    "        \"init_weights\": CategoricalDistribution([True, False]), # true = kaiming\n",
    "        \"lookback\": CategoricalDistribution([144, 192, 240, 288, 336]), # horizon * {3,4,5,6,7,8}\n",
    "        # \"deltaHL\": FloatDistribution(1., 15., step=1.),\n",
    "    },\n",
    "    # Add extra parameters that are fixed, but not part of the search space\n",
    "    extra_params = {\n",
    "        \"n_epoch\": 50,\n",
    "        \"bs\": 192,\n",
    "        \"is_optuna_study\": True\n",
    "    },\n",
    "    use_wandb = True,\n",
    "    wandb_mode = 'offline'\n",
    ")\n",
    "\n",
    "config"
   ]
  },
  {
   "cell_type": "code",
   "execution_count": 8,
   "metadata": {},
   "outputs": [],
   "source": [
    "def create_objective(train_nb, search_space, extra_params=None, use_wandb=False):\n",
    "    \"\"\"\n",
    "        Create objective function to be minimized by Optuna.\n",
    "        Inputs:\n",
    "            trial: Optuna trial object\n",
    "            train_nb: path to the training notebook\n",
    "            search_vars: keys of the search space to be used\n",
    "            wandb_group: name of the wandb group to be used\n",
    "        Output:\n",
    "            valid_loss: validation loss\n",
    "    \"\"\"\n",
    "    def objective(trial:optuna.Trial):\n",
    "        # Define the parameters to be passed to the training notebook through papermill\n",
    "        pm_parameters = {}\n",
    "        for k,v in search_space.items():\n",
    "            pm_parameters['config.' + k] = trial._suggest(k, v)\n",
    "\n",
    "        # Add the extra parameters to the dictionary. The key of every parameter \n",
    "        # must be 'config.<param_name>'\n",
    "        if extra_params is not None:\n",
    "            for k,v in extra_params.items():\n",
    "                pm_parameters['config.' + k] = v\n",
    "                \n",
    "        # If using wandb, enable that in the training runs, all of them gathered\n",
    "        # into a group (NOTE: The train nb must have and use these config arguments)\n",
    "        if use_wandb:\n",
    "            pm_parameters['config.use_wandb'] = True\n",
    "            pm_parameters['config.wandb_group'] = config.study_name + '_runs'\n",
    "\n",
    "        # Call the training notebook using papermill (don't print the output)\n",
    "        stdout_file = open('tmp/pm_stdout.txt', 'w')\n",
    "        stderr_file = open('tmp/pm_stderr.txt', 'w')\n",
    "\n",
    "        pm.execute_notebook(\n",
    "            train_nb,\n",
    "            './tmp/pm_output.ipynb',\n",
    "            parameters = pm_parameters,\n",
    "            stdout_file = stdout_file,\n",
    "            stderr_file = stderr_file,\n",
    "            \n",
    "        )\n",
    "\n",
    "        # Close the output files\n",
    "        stdout_file.close()\n",
    "        stderr_file.close()\n",
    "\n",
    "        # Get the output value of interest from the source notebook\n",
    "        loss = None\n",
    "        %store -r valid_loss\n",
    "        return valid_loss\n",
    "\n",
    "    return objective"
   ]
  },
  {
   "cell_type": "code",
   "execution_count": 9,
   "metadata": {},
   "outputs": [],
   "source": [
    "import nbformat\n",
    "\n",
    "def filter_nb (path:str, skip_tags:str):\n",
    "    # Load the notebook\n",
    "    nb = nbformat.read(path, as_version=4)\n",
    "\n",
    "    # Filter out cells with specific tags\n",
    "    filtered_cells = [cell for cell in nb.cells if not set(skip_tags) & set(cell.metadata.get('tags', []))]\n",
    "    nb.cells = filtered_cells\n",
    "    \n",
    "    return nb"
   ]
  },
  {
   "cell_type": "code",
   "execution_count": 10,
   "metadata": {},
   "outputs": [
    {
     "name": "stderr",
     "output_type": "stream",
     "text": [
      "[I 2024-08-13 11:37:49,125] A new study created in memory with name: general_study_extended\n",
      "  0%|          | 0/50 [00:00<?, ?it/s]Passed unknown parameter: config.arch.attn_dropout\n",
      "Passed unknown parameter: config.arch.d_model\n",
      "Passed unknown parameter: config.arch.d_ff\n",
      "Passed unknown parameter: config.arch.decomposition\n",
      "Passed unknown parameter: config.arch.dropout\n",
      "Passed unknown parameter: config.arch.individual\n",
      "Passed unknown parameter: config.arch.n_layers\n",
      "Passed unknown parameter: config.arch.n_heads\n",
      "Passed unknown parameter: config.init_weights\n",
      "Passed unknown parameter: config.lookback\n",
      "Passed unknown parameter: config.n_epoch\n",
      "Passed unknown parameter: config.bs\n",
      "Passed unknown parameter: config.is_optuna_study\n",
      "Passed unknown parameter: config.use_wandb\n",
      "Passed unknown parameter: config.wandb_group\n"
     ]
    },
    {
     "name": "stderr",
     "output_type": "stream",
     "text": [
      "Executing: 100%|██████████| 28/28 [01:08<00:00,  2.43s/cell]\n",
      "Best trial: 0. Best value: 53.8745:   2%|▏         | 1/50 [01:08<55:40, 68.17s/it]Passed unknown parameter: config.arch.attn_dropout\n",
      "Passed unknown parameter: config.arch.d_model\n",
      "Passed unknown parameter: config.arch.d_ff\n",
      "Passed unknown parameter: config.arch.decomposition\n",
      "Passed unknown parameter: config.arch.dropout\n",
      "Passed unknown parameter: config.arch.individual\n",
      "Passed unknown parameter: config.arch.n_layers\n",
      "Passed unknown parameter: config.arch.n_heads\n",
      "Passed unknown parameter: config.init_weights\n",
      "Passed unknown parameter: config.lookback\n",
      "Passed unknown parameter: config.n_epoch\n",
      "Passed unknown parameter: config.bs\n",
      "Passed unknown parameter: config.is_optuna_study\n",
      "Passed unknown parameter: config.use_wandb\n",
      "Passed unknown parameter: config.wandb_group\n"
     ]
    },
    {
     "name": "stdout",
     "output_type": "stream",
     "text": [
      "[I 2024-08-13 11:38:57,297] Trial 0 finished with value: 53.8745002746582 and parameters: {'arch.attn_dropout': 0.30000000000000004, 'arch.d_model': 288, 'arch.d_ff': 512, 'arch.decomposition': False, 'arch.dropout': 0.30000000000000004, 'arch.individual': True, 'arch.n_layers': 3, 'arch.n_heads': 32, 'init_weights': False, 'lookback': 288}. Best is trial 0 with value: 53.8745002746582.\n"
     ]
    },
    {
     "name": "stderr",
     "output_type": "stream",
     "text": [
      "Executing: 100%|██████████| 28/28 [01:15<00:00,  2.71s/cell]\n",
      "Best trial: 0. Best value: 53.8745:   4%|▍         | 2/50 [02:24<58:09, 72.69s/it]Passed unknown parameter: config.arch.attn_dropout\n",
      "Passed unknown parameter: config.arch.d_model\n",
      "Passed unknown parameter: config.arch.d_ff\n",
      "Passed unknown parameter: config.arch.decomposition\n",
      "Passed unknown parameter: config.arch.dropout\n",
      "Passed unknown parameter: config.arch.individual\n",
      "Passed unknown parameter: config.arch.n_layers\n",
      "Passed unknown parameter: config.arch.n_heads\n",
      "Passed unknown parameter: config.init_weights\n",
      "Passed unknown parameter: config.lookback\n",
      "Passed unknown parameter: config.n_epoch\n",
      "Passed unknown parameter: config.bs\n",
      "Passed unknown parameter: config.is_optuna_study\n",
      "Passed unknown parameter: config.use_wandb\n",
      "Passed unknown parameter: config.wandb_group\n"
     ]
    },
    {
     "name": "stdout",
     "output_type": "stream",
     "text": [
      "[I 2024-08-13 11:40:13,156] Trial 1 finished with value: 56.3623046875 and parameters: {'arch.attn_dropout': 0.30000000000000004, 'arch.d_model': 512, 'arch.d_ff': 256, 'arch.decomposition': True, 'arch.dropout': 0.2, 'arch.individual': False, 'arch.n_layers': 2, 'arch.n_heads': 2, 'init_weights': True, 'lookback': 240}. Best is trial 0 with value: 53.8745002746582.\n"
     ]
    },
    {
     "name": "stderr",
     "output_type": "stream",
     "text": [
      "Executing: 100%|██████████| 28/28 [00:36<00:00,  1.31s/cell]\n",
      "Best trial: 0. Best value: 53.8745:   6%|▌         | 3/50 [03:00<44:05, 56.28s/it]Passed unknown parameter: config.arch.attn_dropout\n",
      "Passed unknown parameter: config.arch.d_model\n",
      "Passed unknown parameter: config.arch.d_ff\n",
      "Passed unknown parameter: config.arch.decomposition\n",
      "Passed unknown parameter: config.arch.dropout\n",
      "Passed unknown parameter: config.arch.individual\n",
      "Passed unknown parameter: config.arch.n_layers\n",
      "Passed unknown parameter: config.arch.n_heads\n",
      "Passed unknown parameter: config.init_weights\n",
      "Passed unknown parameter: config.lookback\n",
      "Passed unknown parameter: config.n_epoch\n",
      "Passed unknown parameter: config.bs\n",
      "Passed unknown parameter: config.is_optuna_study\n",
      "Passed unknown parameter: config.use_wandb\n",
      "Passed unknown parameter: config.wandb_group\n"
     ]
    },
    {
     "name": "stdout",
     "output_type": "stream",
     "text": [
      "[I 2024-08-13 11:40:49,899] Trial 2 finished with value: 66.96858215332031 and parameters: {'arch.attn_dropout': 0.30000000000000004, 'arch.d_model': 256, 'arch.d_ff': 64, 'arch.decomposition': False, 'arch.dropout': 0.2, 'arch.individual': True, 'arch.n_layers': 1, 'arch.n_heads': 16, 'init_weights': True, 'lookback': 288}. Best is trial 0 with value: 53.8745002746582.\n"
     ]
    },
    {
     "name": "stderr",
     "output_type": "stream",
     "text": [
      "Executing: 100%|██████████| 28/28 [00:55<00:00,  2.00s/cell]\n",
      "Best trial: 0. Best value: 53.8745:   8%|▊         | 4/50 [03:56<43:03, 56.17s/it]Passed unknown parameter: config.arch.attn_dropout\n",
      "Passed unknown parameter: config.arch.d_model\n",
      "Passed unknown parameter: config.arch.d_ff\n",
      "Passed unknown parameter: config.arch.decomposition\n",
      "Passed unknown parameter: config.arch.dropout\n",
      "Passed unknown parameter: config.arch.individual\n",
      "Passed unknown parameter: config.arch.n_layers\n",
      "Passed unknown parameter: config.arch.n_heads\n",
      "Passed unknown parameter: config.init_weights\n",
      "Passed unknown parameter: config.lookback\n",
      "Passed unknown parameter: config.n_epoch\n",
      "Passed unknown parameter: config.bs\n",
      "Passed unknown parameter: config.is_optuna_study\n",
      "Passed unknown parameter: config.use_wandb\n",
      "Passed unknown parameter: config.wandb_group\n"
     ]
    },
    {
     "name": "stdout",
     "output_type": "stream",
     "text": [
      "[I 2024-08-13 11:41:45,905] Trial 3 finished with value: 53.96190643310547 and parameters: {'arch.attn_dropout': 0.0, 'arch.d_model': 192, 'arch.d_ff': 128, 'arch.decomposition': True, 'arch.dropout': 0.30000000000000004, 'arch.individual': True, 'arch.n_layers': 3, 'arch.n_heads': 4, 'init_weights': False, 'lookback': 288}. Best is trial 0 with value: 53.8745002746582.\n"
     ]
    },
    {
     "name": "stderr",
     "output_type": "stream",
     "text": [
      "Executing: 100%|██████████| 28/28 [00:39<00:00,  1.42s/cell]\n",
      "Best trial: 0. Best value: 53.8745:  10%|█         | 5/50 [04:36<37:41, 50.26s/it]Passed unknown parameter: config.arch.attn_dropout\n",
      "Passed unknown parameter: config.arch.d_model\n",
      "Passed unknown parameter: config.arch.d_ff\n",
      "Passed unknown parameter: config.arch.decomposition\n",
      "Passed unknown parameter: config.arch.dropout\n",
      "Passed unknown parameter: config.arch.individual\n",
      "Passed unknown parameter: config.arch.n_layers\n",
      "Passed unknown parameter: config.arch.n_heads\n",
      "Passed unknown parameter: config.init_weights\n",
      "Passed unknown parameter: config.lookback\n",
      "Passed unknown parameter: config.n_epoch\n",
      "Passed unknown parameter: config.bs\n",
      "Passed unknown parameter: config.is_optuna_study\n",
      "Passed unknown parameter: config.use_wandb\n",
      "Passed unknown parameter: config.wandb_group\n"
     ]
    },
    {
     "name": "stdout",
     "output_type": "stream",
     "text": [
      "[I 2024-08-13 11:42:25,681] Trial 4 finished with value: 87.54707336425781 and parameters: {'arch.attn_dropout': 0.4, 'arch.d_model': 160, 'arch.d_ff': 416, 'arch.decomposition': False, 'arch.dropout': 0.0, 'arch.individual': True, 'arch.n_layers': 4, 'arch.n_heads': 2, 'init_weights': True, 'lookback': 144}. Best is trial 0 with value: 53.8745002746582.\n"
     ]
    },
    {
     "name": "stderr",
     "output_type": "stream",
     "text": [
      "Executing: 100%|██████████| 28/28 [01:02<00:00,  2.22s/cell]\n",
      "Best trial: 5. Best value: 53.669:  12%|█▏        | 6/50 [05:38<39:49, 54.31s/it] Passed unknown parameter: config.arch.attn_dropout\n",
      "Passed unknown parameter: config.arch.d_model\n",
      "Passed unknown parameter: config.arch.d_ff\n",
      "Passed unknown parameter: config.arch.decomposition\n",
      "Passed unknown parameter: config.arch.dropout\n",
      "Passed unknown parameter: config.arch.individual\n",
      "Passed unknown parameter: config.arch.n_layers\n",
      "Passed unknown parameter: config.arch.n_heads\n",
      "Passed unknown parameter: config.init_weights\n",
      "Passed unknown parameter: config.lookback\n",
      "Passed unknown parameter: config.n_epoch\n",
      "Passed unknown parameter: config.bs\n",
      "Passed unknown parameter: config.is_optuna_study\n",
      "Passed unknown parameter: config.use_wandb\n",
      "Passed unknown parameter: config.wandb_group\n"
     ]
    },
    {
     "name": "stdout",
     "output_type": "stream",
     "text": [
      "[I 2024-08-13 11:43:27,855] Trial 5 finished with value: 53.66898727416992 and parameters: {'arch.attn_dropout': 0.5, 'arch.d_model': 448, 'arch.d_ff': 384, 'arch.decomposition': False, 'arch.dropout': 0.30000000000000004, 'arch.individual': True, 'arch.n_layers': 3, 'arch.n_heads': 2, 'init_weights': True, 'lookback': 240}. Best is trial 5 with value: 53.66898727416992.\n"
     ]
    },
    {
     "name": "stderr",
     "output_type": "stream",
     "text": [
      "Executing: 100%|██████████| 28/28 [02:42<00:00,  5.79s/cell]\n",
      "Best trial: 5. Best value: 53.669:  14%|█▍        | 7/50 [08:20<1:04:12, 89.59s/it]Passed unknown parameter: config.arch.attn_dropout\n",
      "Passed unknown parameter: config.arch.d_model\n",
      "Passed unknown parameter: config.arch.d_ff\n",
      "Passed unknown parameter: config.arch.decomposition\n",
      "Passed unknown parameter: config.arch.dropout\n",
      "Passed unknown parameter: config.arch.individual\n",
      "Passed unknown parameter: config.arch.n_layers\n",
      "Passed unknown parameter: config.arch.n_heads\n",
      "Passed unknown parameter: config.init_weights\n",
      "Passed unknown parameter: config.lookback\n",
      "Passed unknown parameter: config.n_epoch\n",
      "Passed unknown parameter: config.bs\n",
      "Passed unknown parameter: config.is_optuna_study\n",
      "Passed unknown parameter: config.use_wandb\n",
      "Passed unknown parameter: config.wandb_group\n"
     ]
    },
    {
     "name": "stdout",
     "output_type": "stream",
     "text": [
      "[I 2024-08-13 11:46:10,080] Trial 6 finished with value: 966.4979858398438 and parameters: {'arch.attn_dropout': 0.1, 'arch.d_model': 416, 'arch.d_ff': 352, 'arch.decomposition': True, 'arch.dropout': 0.0, 'arch.individual': True, 'arch.n_layers': 6, 'arch.n_heads': 16, 'init_weights': True, 'lookback': 192}. Best is trial 5 with value: 53.66898727416992.\n"
     ]
    },
    {
     "name": "stderr",
     "output_type": "stream",
     "text": [
      "Executing: 100%|██████████| 28/28 [02:57<00:00,  6.32s/cell]\n",
      "Best trial: 5. Best value: 53.669:  16%|█▌        | 8/50 [11:18<1:22:13, 117.46s/it]Passed unknown parameter: config.arch.attn_dropout\n",
      "Passed unknown parameter: config.arch.d_model\n",
      "Passed unknown parameter: config.arch.d_ff\n",
      "Passed unknown parameter: config.arch.decomposition\n",
      "Passed unknown parameter: config.arch.dropout\n",
      "Passed unknown parameter: config.arch.individual\n",
      "Passed unknown parameter: config.arch.n_layers\n",
      "Passed unknown parameter: config.arch.n_heads\n",
      "Passed unknown parameter: config.init_weights\n",
      "Passed unknown parameter: config.lookback\n",
      "Passed unknown parameter: config.n_epoch\n",
      "Passed unknown parameter: config.bs\n",
      "Passed unknown parameter: config.is_optuna_study\n",
      "Passed unknown parameter: config.use_wandb\n",
      "Passed unknown parameter: config.wandb_group\n"
     ]
    },
    {
     "name": "stdout",
     "output_type": "stream",
     "text": [
      "[I 2024-08-13 11:49:07,204] Trial 7 finished with value: 55.357505798339844 and parameters: {'arch.attn_dropout': 0.5, 'arch.d_model': 416, 'arch.d_ff': 192, 'arch.decomposition': True, 'arch.dropout': 0.1, 'arch.individual': False, 'arch.n_layers': 6, 'arch.n_heads': 32, 'init_weights': False, 'lookback': 192}. Best is trial 5 with value: 53.66898727416992.\n"
     ]
    },
    {
     "name": "stderr",
     "output_type": "stream",
     "text": [
      "Executing: 100%|██████████| 28/28 [00:37<00:00,  1.36s/cell]\n",
      "Best trial: 8. Best value: 53.5068:  18%|█▊        | 9/50 [11:56<1:03:18, 92.64s/it] Passed unknown parameter: config.arch.attn_dropout\n",
      "Passed unknown parameter: config.arch.d_model\n",
      "Passed unknown parameter: config.arch.d_ff\n",
      "Passed unknown parameter: config.arch.decomposition\n",
      "Passed unknown parameter: config.arch.dropout\n",
      "Passed unknown parameter: config.arch.individual\n",
      "Passed unknown parameter: config.arch.n_layers\n",
      "Passed unknown parameter: config.arch.n_heads\n",
      "Passed unknown parameter: config.init_weights\n",
      "Passed unknown parameter: config.lookback\n",
      "Passed unknown parameter: config.n_epoch\n",
      "Passed unknown parameter: config.bs\n",
      "Passed unknown parameter: config.is_optuna_study\n",
      "Passed unknown parameter: config.use_wandb\n",
      "Passed unknown parameter: config.wandb_group\n"
     ]
    },
    {
     "name": "stdout",
     "output_type": "stream",
     "text": [
      "[I 2024-08-13 11:49:45,262] Trial 8 finished with value: 53.506797790527344 and parameters: {'arch.attn_dropout': 0.0, 'arch.d_model': 64, 'arch.d_ff': 384, 'arch.decomposition': False, 'arch.dropout': 0.5, 'arch.individual': True, 'arch.n_layers': 5, 'arch.n_heads': 2, 'init_weights': False, 'lookback': 144}. Best is trial 8 with value: 53.506797790527344.\n"
     ]
    },
    {
     "name": "stderr",
     "output_type": "stream",
     "text": [
      "Executing: 100%|██████████| 28/28 [00:57<00:00,  2.06s/cell]\n",
      "Best trial: 8. Best value: 53.5068:  20%|██        | 10/50 [12:53<54:34, 81.87s/it] Passed unknown parameter: config.arch.attn_dropout\n",
      "Passed unknown parameter: config.arch.d_model\n",
      "Passed unknown parameter: config.arch.d_ff\n",
      "Passed unknown parameter: config.arch.decomposition\n",
      "Passed unknown parameter: config.arch.dropout\n",
      "Passed unknown parameter: config.arch.individual\n",
      "Passed unknown parameter: config.arch.n_layers\n",
      "Passed unknown parameter: config.arch.n_heads\n",
      "Passed unknown parameter: config.init_weights\n",
      "Passed unknown parameter: config.lookback\n",
      "Passed unknown parameter: config.n_epoch\n",
      "Passed unknown parameter: config.bs\n",
      "Passed unknown parameter: config.is_optuna_study\n",
      "Passed unknown parameter: config.use_wandb\n",
      "Passed unknown parameter: config.wandb_group\n"
     ]
    },
    {
     "name": "stdout",
     "output_type": "stream",
     "text": [
      "[I 2024-08-13 11:50:43,020] Trial 9 finished with value: 54.60464096069336 and parameters: {'arch.attn_dropout': 0.5, 'arch.d_model': 96, 'arch.d_ff': 512, 'arch.decomposition': True, 'arch.dropout': 0.2, 'arch.individual': False, 'arch.n_layers': 4, 'arch.n_heads': 16, 'init_weights': True, 'lookback': 144}. Best is trial 8 with value: 53.506797790527344.\n"
     ]
    },
    {
     "name": "stderr",
     "output_type": "stream",
     "text": [
      "Executing: 100%|██████████| 28/28 [00:47<00:00,  1.68s/cell]\n",
      "Best trial: 8. Best value: 53.5068:  22%|██▏       | 11/50 [13:41<46:18, 71.24s/it]Passed unknown parameter: config.arch.attn_dropout\n",
      "Passed unknown parameter: config.arch.d_model\n",
      "Passed unknown parameter: config.arch.d_ff\n",
      "Passed unknown parameter: config.arch.decomposition\n",
      "Passed unknown parameter: config.arch.dropout\n",
      "Passed unknown parameter: config.arch.individual\n",
      "Passed unknown parameter: config.arch.n_layers\n",
      "Passed unknown parameter: config.arch.n_heads\n",
      "Passed unknown parameter: config.init_weights\n",
      "Passed unknown parameter: config.lookback\n",
      "Passed unknown parameter: config.n_epoch\n",
      "Passed unknown parameter: config.bs\n",
      "Passed unknown parameter: config.is_optuna_study\n",
      "Passed unknown parameter: config.use_wandb\n",
      "Passed unknown parameter: config.wandb_group\n"
     ]
    },
    {
     "name": "stdout",
     "output_type": "stream",
     "text": [
      "[I 2024-08-13 11:51:30,164] Trial 10 finished with value: 144.81268310546875 and parameters: {'arch.attn_dropout': 0.1, 'arch.d_model': 192, 'arch.d_ff': 320, 'arch.decomposition': False, 'arch.dropout': 0.5, 'arch.individual': True, 'arch.n_layers': 4, 'arch.n_heads': 16, 'init_weights': False, 'lookback': 144}. Best is trial 8 with value: 53.506797790527344.\n"
     ]
    },
    {
     "name": "stderr",
     "output_type": "stream",
     "text": [
      "Executing: 100%|██████████| 28/28 [01:05<00:00,  2.35s/cell]\n",
      "Best trial: 8. Best value: 53.5068:  24%|██▍       | 12/50 [14:46<44:05, 69.61s/it]Passed unknown parameter: config.arch.attn_dropout\n",
      "Passed unknown parameter: config.arch.d_model\n",
      "Passed unknown parameter: config.arch.d_ff\n",
      "Passed unknown parameter: config.arch.decomposition\n",
      "Passed unknown parameter: config.arch.dropout\n",
      "Passed unknown parameter: config.arch.individual\n",
      "Passed unknown parameter: config.arch.n_layers\n",
      "Passed unknown parameter: config.arch.n_heads\n",
      "Passed unknown parameter: config.init_weights\n",
      "Passed unknown parameter: config.lookback\n",
      "Passed unknown parameter: config.n_epoch\n",
      "Passed unknown parameter: config.bs\n",
      "Passed unknown parameter: config.is_optuna_study\n",
      "Passed unknown parameter: config.use_wandb\n",
      "Passed unknown parameter: config.wandb_group\n"
     ]
    },
    {
     "name": "stdout",
     "output_type": "stream",
     "text": [
      "[I 2024-08-13 11:52:36,049] Trial 11 finished with value: 79.5726318359375 and parameters: {'arch.attn_dropout': 0.5, 'arch.d_model': 480, 'arch.d_ff': 448, 'arch.decomposition': False, 'arch.dropout': 0.2, 'arch.individual': True, 'arch.n_layers': 3, 'arch.n_heads': 2, 'init_weights': True, 'lookback': 240}. Best is trial 8 with value: 53.506797790527344.\n"
     ]
    },
    {
     "name": "stderr",
     "output_type": "stream",
     "text": [
      "Executing: 100%|██████████| 28/28 [00:43<00:00,  1.54s/cell]\n",
      "Best trial: 8. Best value: 53.5068:  26%|██▌       | 13/50 [15:30<37:59, 61.60s/it]Passed unknown parameter: config.arch.attn_dropout\n",
      "Passed unknown parameter: config.arch.d_model\n",
      "Passed unknown parameter: config.arch.d_ff\n",
      "Passed unknown parameter: config.arch.decomposition\n",
      "Passed unknown parameter: config.arch.dropout\n",
      "Passed unknown parameter: config.arch.individual\n",
      "Passed unknown parameter: config.arch.n_layers\n",
      "Passed unknown parameter: config.arch.n_heads\n",
      "Passed unknown parameter: config.init_weights\n",
      "Passed unknown parameter: config.lookback\n",
      "Passed unknown parameter: config.n_epoch\n",
      "Passed unknown parameter: config.bs\n",
      "Passed unknown parameter: config.is_optuna_study\n",
      "Passed unknown parameter: config.use_wandb\n",
      "Passed unknown parameter: config.wandb_group\n"
     ]
    },
    {
     "name": "stdout",
     "output_type": "stream",
     "text": [
      "[I 2024-08-13 11:53:19,228] Trial 12 finished with value: 55.16278076171875 and parameters: {'arch.attn_dropout': 0.0, 'arch.d_model': 64, 'arch.d_ff': 352, 'arch.decomposition': False, 'arch.dropout': 0.5, 'arch.individual': False, 'arch.n_layers': 5, 'arch.n_heads': 2, 'init_weights': False, 'lookback': 336}. Best is trial 8 with value: 53.506797790527344.\n"
     ]
    },
    {
     "name": "stderr",
     "output_type": "stream",
     "text": [
      "Executing: 100%|██████████| 28/28 [00:46<00:00,  1.65s/cell]\n",
      "Best trial: 8. Best value: 53.5068:  28%|██▊       | 14/50 [16:16<34:10, 56.95s/it]Passed unknown parameter: config.arch.attn_dropout\n",
      "Passed unknown parameter: config.arch.d_model\n",
      "Passed unknown parameter: config.arch.d_ff\n",
      "Passed unknown parameter: config.arch.decomposition\n",
      "Passed unknown parameter: config.arch.dropout\n",
      "Passed unknown parameter: config.arch.individual\n",
      "Passed unknown parameter: config.arch.n_layers\n",
      "Passed unknown parameter: config.arch.n_heads\n",
      "Passed unknown parameter: config.init_weights\n",
      "Passed unknown parameter: config.lookback\n",
      "Passed unknown parameter: config.n_epoch\n",
      "Passed unknown parameter: config.bs\n",
      "Passed unknown parameter: config.is_optuna_study\n",
      "Passed unknown parameter: config.use_wandb\n",
      "Passed unknown parameter: config.wandb_group\n"
     ]
    },
    {
     "name": "stdout",
     "output_type": "stream",
     "text": [
      "[I 2024-08-13 11:54:05,416] Trial 13 finished with value: 85.3478012084961 and parameters: {'arch.attn_dropout': 0.1, 'arch.d_model': 32, 'arch.d_ff': 480, 'arch.decomposition': True, 'arch.dropout': 0.5, 'arch.individual': True, 'arch.n_layers': 4, 'arch.n_heads': 2, 'init_weights': False, 'lookback': 144}. Best is trial 8 with value: 53.506797790527344.\n"
     ]
    },
    {
     "name": "stderr",
     "output_type": "stream",
     "text": [
      "Executing: 100%|██████████| 28/28 [01:08<00:00,  2.43s/cell]\n",
      "Best trial: 8. Best value: 53.5068:  30%|███       | 15/50 [17:24<35:11, 60.32s/it]Passed unknown parameter: config.arch.attn_dropout\n",
      "Passed unknown parameter: config.arch.d_model\n",
      "Passed unknown parameter: config.arch.d_ff\n",
      "Passed unknown parameter: config.arch.decomposition\n",
      "Passed unknown parameter: config.arch.dropout\n",
      "Passed unknown parameter: config.arch.individual\n",
      "Passed unknown parameter: config.arch.n_layers\n",
      "Passed unknown parameter: config.arch.n_heads\n",
      "Passed unknown parameter: config.init_weights\n",
      "Passed unknown parameter: config.lookback\n",
      "Passed unknown parameter: config.n_epoch\n",
      "Passed unknown parameter: config.bs\n",
      "Passed unknown parameter: config.is_optuna_study\n",
      "Passed unknown parameter: config.use_wandb\n",
      "Passed unknown parameter: config.wandb_group\n"
     ]
    },
    {
     "name": "stdout",
     "output_type": "stream",
     "text": [
      "[I 2024-08-13 11:55:13,545] Trial 14 finished with value: 56.01045227050781 and parameters: {'arch.attn_dropout': 0.30000000000000004, 'arch.d_model': 384, 'arch.d_ff': 256, 'arch.decomposition': False, 'arch.dropout': 0.4, 'arch.individual': True, 'arch.n_layers': 4, 'arch.n_heads': 16, 'init_weights': True, 'lookback': 240}. Best is trial 8 with value: 53.506797790527344.\n"
     ]
    },
    {
     "name": "stderr",
     "output_type": "stream",
     "text": [
      "Executing: 100%|██████████| 28/28 [00:58<00:00,  2.07s/cell]\n",
      "Best trial: 15. Best value: 53.0371:  32%|███▏      | 16/50 [18:22<33:49, 59.68s/it]Passed unknown parameter: config.arch.attn_dropout\n",
      "Passed unknown parameter: config.arch.d_model\n",
      "Passed unknown parameter: config.arch.d_ff\n",
      "Passed unknown parameter: config.arch.decomposition\n",
      "Passed unknown parameter: config.arch.dropout\n",
      "Passed unknown parameter: config.arch.individual\n",
      "Passed unknown parameter: config.arch.n_layers\n",
      "Passed unknown parameter: config.arch.n_heads\n",
      "Passed unknown parameter: config.init_weights\n",
      "Passed unknown parameter: config.lookback\n",
      "Passed unknown parameter: config.n_epoch\n",
      "Passed unknown parameter: config.bs\n",
      "Passed unknown parameter: config.is_optuna_study\n",
      "Passed unknown parameter: config.use_wandb\n",
      "Passed unknown parameter: config.wandb_group\n"
     ]
    },
    {
     "name": "stdout",
     "output_type": "stream",
     "text": [
      "[I 2024-08-13 11:56:11,743] Trial 15 finished with value: 53.037086486816406 and parameters: {'arch.attn_dropout': 0.5, 'arch.d_model': 448, 'arch.d_ff': 160, 'arch.decomposition': False, 'arch.dropout': 0.2, 'arch.individual': True, 'arch.n_layers': 3, 'arch.n_heads': 2, 'init_weights': False, 'lookback': 240}. Best is trial 15 with value: 53.037086486816406.\n"
     ]
    },
    {
     "name": "stderr",
     "output_type": "stream",
     "text": [
      "Executing: 100%|██████████| 28/28 [01:29<00:00,  3.18s/cell]\n",
      "Best trial: 16. Best value: 52.9733:  34%|███▍      | 17/50 [19:51<37:42, 68.56s/it]Passed unknown parameter: config.arch.attn_dropout\n",
      "Passed unknown parameter: config.arch.d_model\n",
      "Passed unknown parameter: config.arch.d_ff\n",
      "Passed unknown parameter: config.arch.decomposition\n",
      "Passed unknown parameter: config.arch.dropout\n",
      "Passed unknown parameter: config.arch.individual\n",
      "Passed unknown parameter: config.arch.n_layers\n",
      "Passed unknown parameter: config.arch.n_heads\n",
      "Passed unknown parameter: config.init_weights\n",
      "Passed unknown parameter: config.lookback\n",
      "Passed unknown parameter: config.n_epoch\n",
      "Passed unknown parameter: config.bs\n",
      "Passed unknown parameter: config.is_optuna_study\n",
      "Passed unknown parameter: config.use_wandb\n",
      "Passed unknown parameter: config.wandb_group\n"
     ]
    },
    {
     "name": "stdout",
     "output_type": "stream",
     "text": [
      "[I 2024-08-13 11:57:40,954] Trial 16 finished with value: 52.9732666015625 and parameters: {'arch.attn_dropout': 0.5, 'arch.d_model': 448, 'arch.d_ff': 128, 'arch.decomposition': True, 'arch.dropout': 0.2, 'arch.individual': True, 'arch.n_layers': 3, 'arch.n_heads': 2, 'init_weights': False, 'lookback': 240}. Best is trial 16 with value: 52.9732666015625.\n"
     ]
    },
    {
     "name": "stderr",
     "output_type": "stream",
     "text": [
      "Executing: 100%|██████████| 28/28 [01:13<00:00,  2.61s/cell]\n",
      "Best trial: 17. Best value: 52.1984:  36%|███▌      | 18/50 [21:05<37:18, 69.95s/it]Passed unknown parameter: config.arch.attn_dropout\n",
      "Passed unknown parameter: config.arch.d_model\n",
      "Passed unknown parameter: config.arch.d_ff\n",
      "Passed unknown parameter: config.arch.decomposition\n",
      "Passed unknown parameter: config.arch.dropout\n",
      "Passed unknown parameter: config.arch.individual\n",
      "Passed unknown parameter: config.arch.n_layers\n",
      "Passed unknown parameter: config.arch.n_heads\n",
      "Passed unknown parameter: config.init_weights\n",
      "Passed unknown parameter: config.lookback\n",
      "Passed unknown parameter: config.n_epoch\n",
      "Passed unknown parameter: config.bs\n",
      "Passed unknown parameter: config.is_optuna_study\n",
      "Passed unknown parameter: config.use_wandb\n",
      "Passed unknown parameter: config.wandb_group\n"
     ]
    },
    {
     "name": "stdout",
     "output_type": "stream",
     "text": [
      "[I 2024-08-13 11:58:54,143] Trial 17 finished with value: 52.198368072509766 and parameters: {'arch.attn_dropout': 0.5, 'arch.d_model': 512, 'arch.d_ff': 128, 'arch.decomposition': False, 'arch.dropout': 0.30000000000000004, 'arch.individual': True, 'arch.n_layers': 4, 'arch.n_heads': 2, 'init_weights': False, 'lookback': 240}. Best is trial 17 with value: 52.198368072509766.\n"
     ]
    },
    {
     "name": "stderr",
     "output_type": "stream",
     "text": [
      "Executing: 100%|██████████| 28/28 [00:50<00:00,  1.80s/cell]\n",
      "Best trial: 18. Best value: 50.8668:  38%|███▊      | 19/50 [21:55<33:07, 64.11s/it]Passed unknown parameter: config.arch.attn_dropout\n",
      "Passed unknown parameter: config.arch.d_model\n",
      "Passed unknown parameter: config.arch.d_ff\n",
      "Passed unknown parameter: config.arch.decomposition\n",
      "Passed unknown parameter: config.arch.dropout\n",
      "Passed unknown parameter: config.arch.individual\n",
      "Passed unknown parameter: config.arch.n_layers\n",
      "Passed unknown parameter: config.arch.n_heads\n",
      "Passed unknown parameter: config.init_weights\n",
      "Passed unknown parameter: config.lookback\n",
      "Passed unknown parameter: config.n_epoch\n",
      "Passed unknown parameter: config.bs\n",
      "Passed unknown parameter: config.is_optuna_study\n",
      "Passed unknown parameter: config.use_wandb\n",
      "Passed unknown parameter: config.wandb_group\n"
     ]
    },
    {
     "name": "stdout",
     "output_type": "stream",
     "text": [
      "[I 2024-08-13 11:59:44,648] Trial 18 finished with value: 50.866783142089844 and parameters: {'arch.attn_dropout': 0.4, 'arch.d_model': 512, 'arch.d_ff': 32, 'arch.decomposition': False, 'arch.dropout': 0.5, 'arch.individual': True, 'arch.n_layers': 2, 'arch.n_heads': 2, 'init_weights': True, 'lookback': 240}. Best is trial 18 with value: 50.866783142089844.\n"
     ]
    },
    {
     "name": "stderr",
     "output_type": "stream",
     "text": [
      "Executing: 100%|██████████| 28/28 [01:03<00:00,  2.25s/cell]\n",
      "Best trial: 18. Best value: 50.8668:  40%|████      | 20/50 [22:58<31:55, 63.84s/it]Passed unknown parameter: config.arch.attn_dropout\n",
      "Passed unknown parameter: config.arch.d_model\n",
      "Passed unknown parameter: config.arch.d_ff\n",
      "Passed unknown parameter: config.arch.decomposition\n",
      "Passed unknown parameter: config.arch.dropout\n",
      "Passed unknown parameter: config.arch.individual\n",
      "Passed unknown parameter: config.arch.n_layers\n",
      "Passed unknown parameter: config.arch.n_heads\n",
      "Passed unknown parameter: config.init_weights\n",
      "Passed unknown parameter: config.lookback\n",
      "Passed unknown parameter: config.n_epoch\n",
      "Passed unknown parameter: config.bs\n",
      "Passed unknown parameter: config.is_optuna_study\n",
      "Passed unknown parameter: config.use_wandb\n",
      "Passed unknown parameter: config.wandb_group\n"
     ]
    },
    {
     "name": "stdout",
     "output_type": "stream",
     "text": [
      "[I 2024-08-13 12:00:47,846] Trial 19 finished with value: 52.162715911865234 and parameters: {'arch.attn_dropout': 0.4, 'arch.d_model': 512, 'arch.d_ff': 128, 'arch.decomposition': False, 'arch.dropout': 0.5, 'arch.individual': True, 'arch.n_layers': 2, 'arch.n_heads': 32, 'init_weights': True, 'lookback': 288}. Best is trial 18 with value: 50.866783142089844.\n"
     ]
    },
    {
     "name": "stderr",
     "output_type": "stream",
     "text": [
      "Executing: 100%|██████████| 28/28 [00:44<00:00,  1.59s/cell]\n",
      "Best trial: 18. Best value: 50.8668:  42%|████▏     | 21/50 [23:43<28:03, 58.06s/it]Passed unknown parameter: config.arch.attn_dropout\n",
      "Passed unknown parameter: config.arch.d_model\n",
      "Passed unknown parameter: config.arch.d_ff\n",
      "Passed unknown parameter: config.arch.decomposition\n",
      "Passed unknown parameter: config.arch.dropout\n",
      "Passed unknown parameter: config.arch.individual\n",
      "Passed unknown parameter: config.arch.n_layers\n",
      "Passed unknown parameter: config.arch.n_heads\n",
      "Passed unknown parameter: config.init_weights\n",
      "Passed unknown parameter: config.lookback\n",
      "Passed unknown parameter: config.n_epoch\n",
      "Passed unknown parameter: config.bs\n",
      "Passed unknown parameter: config.is_optuna_study\n",
      "Passed unknown parameter: config.use_wandb\n",
      "Passed unknown parameter: config.wandb_group\n"
     ]
    },
    {
     "name": "stdout",
     "output_type": "stream",
     "text": [
      "[I 2024-08-13 12:01:32,427] Trial 20 finished with value: 58.79143142700195 and parameters: {'arch.attn_dropout': 0.2, 'arch.d_model': 448, 'arch.d_ff': 192, 'arch.decomposition': False, 'arch.dropout': 0.5, 'arch.individual': False, 'arch.n_layers': 1, 'arch.n_heads': 32, 'init_weights': True, 'lookback': 288}. Best is trial 18 with value: 50.866783142089844.\n"
     ]
    },
    {
     "name": "stderr",
     "output_type": "stream",
     "text": [
      "Executing: 100%|██████████| 28/28 [01:01<00:00,  2.20s/cell]\n",
      "Best trial: 18. Best value: 50.8668:  44%|████▍     | 22/50 [24:45<27:36, 59.18s/it]Passed unknown parameter: config.arch.attn_dropout\n",
      "Passed unknown parameter: config.arch.d_model\n",
      "Passed unknown parameter: config.arch.d_ff\n",
      "Passed unknown parameter: config.arch.decomposition\n",
      "Passed unknown parameter: config.arch.dropout\n",
      "Passed unknown parameter: config.arch.individual\n",
      "Passed unknown parameter: config.arch.n_layers\n",
      "Passed unknown parameter: config.arch.n_heads\n",
      "Passed unknown parameter: config.init_weights\n",
      "Passed unknown parameter: config.lookback\n",
      "Passed unknown parameter: config.n_epoch\n",
      "Passed unknown parameter: config.bs\n",
      "Passed unknown parameter: config.is_optuna_study\n",
      "Passed unknown parameter: config.use_wandb\n",
      "Passed unknown parameter: config.wandb_group\n"
     ]
    },
    {
     "name": "stdout",
     "output_type": "stream",
     "text": [
      "[I 2024-08-13 12:02:34,218] Trial 21 finished with value: 54.68820571899414 and parameters: {'arch.attn_dropout': 0.4, 'arch.d_model': 512, 'arch.d_ff': 64, 'arch.decomposition': False, 'arch.dropout': 0.5, 'arch.individual': False, 'arch.n_layers': 3, 'arch.n_heads': 2, 'init_weights': True, 'lookback': 240}. Best is trial 18 with value: 50.866783142089844.\n"
     ]
    },
    {
     "name": "stderr",
     "output_type": "stream",
     "text": [
      "Executing: 100%|██████████| 28/28 [01:10<00:00,  2.50s/cell]\n",
      "Best trial: 18. Best value: 50.8668:  46%|████▌     | 23/50 [25:55<28:07, 62.49s/it]Passed unknown parameter: config.arch.attn_dropout\n",
      "Passed unknown parameter: config.arch.d_model\n",
      "Passed unknown parameter: config.arch.d_ff\n",
      "Passed unknown parameter: config.arch.decomposition\n",
      "Passed unknown parameter: config.arch.dropout\n",
      "Passed unknown parameter: config.arch.individual\n",
      "Passed unknown parameter: config.arch.n_layers\n",
      "Passed unknown parameter: config.arch.n_heads\n",
      "Passed unknown parameter: config.init_weights\n",
      "Passed unknown parameter: config.lookback\n",
      "Passed unknown parameter: config.n_epoch\n",
      "Passed unknown parameter: config.bs\n",
      "Passed unknown parameter: config.is_optuna_study\n",
      "Passed unknown parameter: config.use_wandb\n",
      "Passed unknown parameter: config.wandb_group\n"
     ]
    },
    {
     "name": "stdout",
     "output_type": "stream",
     "text": [
      "[I 2024-08-13 12:03:44,430] Trial 22 finished with value: 54.7037353515625 and parameters: {'arch.attn_dropout': 0.4, 'arch.d_model': 384, 'arch.d_ff': 32, 'arch.decomposition': False, 'arch.dropout': 0.5, 'arch.individual': True, 'arch.n_layers': 3, 'arch.n_heads': 32, 'init_weights': True, 'lookback': 288}. Best is trial 18 with value: 50.866783142089844.\n"
     ]
    },
    {
     "name": "stderr",
     "output_type": "stream",
     "text": [
      "Executing: 100%|██████████| 28/28 [01:02<00:00,  2.21s/cell]\n",
      "Best trial: 18. Best value: 50.8668:  48%|████▊     | 24/50 [26:57<27:01, 62.38s/it]Passed unknown parameter: config.arch.attn_dropout\n",
      "Passed unknown parameter: config.arch.d_model\n",
      "Passed unknown parameter: config.arch.d_ff\n",
      "Passed unknown parameter: config.arch.decomposition\n",
      "Passed unknown parameter: config.arch.dropout\n",
      "Passed unknown parameter: config.arch.individual\n",
      "Passed unknown parameter: config.arch.n_layers\n",
      "Passed unknown parameter: config.arch.n_heads\n",
      "Passed unknown parameter: config.init_weights\n",
      "Passed unknown parameter: config.lookback\n",
      "Passed unknown parameter: config.n_epoch\n",
      "Passed unknown parameter: config.bs\n",
      "Passed unknown parameter: config.is_optuna_study\n",
      "Passed unknown parameter: config.use_wandb\n",
      "Passed unknown parameter: config.wandb_group\n"
     ]
    },
    {
     "name": "stdout",
     "output_type": "stream",
     "text": [
      "[I 2024-08-13 12:04:46,554] Trial 23 finished with value: 54.24106216430664 and parameters: {'arch.attn_dropout': 0.5, 'arch.d_model': 512, 'arch.d_ff': 128, 'arch.decomposition': True, 'arch.dropout': 0.5, 'arch.individual': True, 'arch.n_layers': 1, 'arch.n_heads': 32, 'init_weights': False, 'lookback': 288}. Best is trial 18 with value: 50.866783142089844.\n"
     ]
    },
    {
     "name": "stderr",
     "output_type": "stream",
     "text": [
      "Executing: 100%|██████████| 28/28 [01:44<00:00,  3.73s/cell]\n",
      "Best trial: 18. Best value: 50.8668:  50%|█████     | 25/50 [28:41<31:15, 75.02s/it]Passed unknown parameter: config.arch.attn_dropout\n",
      "Passed unknown parameter: config.arch.d_model\n",
      "Passed unknown parameter: config.arch.d_ff\n",
      "Passed unknown parameter: config.arch.decomposition\n",
      "Passed unknown parameter: config.arch.dropout\n",
      "Passed unknown parameter: config.arch.individual\n",
      "Passed unknown parameter: config.arch.n_layers\n",
      "Passed unknown parameter: config.arch.n_heads\n",
      "Passed unknown parameter: config.init_weights\n",
      "Passed unknown parameter: config.lookback\n",
      "Passed unknown parameter: config.n_epoch\n",
      "Passed unknown parameter: config.bs\n",
      "Passed unknown parameter: config.is_optuna_study\n",
      "Passed unknown parameter: config.use_wandb\n",
      "Passed unknown parameter: config.wandb_group\n"
     ]
    },
    {
     "name": "stdout",
     "output_type": "stream",
     "text": [
      "[I 2024-08-13 12:06:31,078] Trial 24 finished with value: 52.36500549316406 and parameters: {'arch.attn_dropout': 0.4, 'arch.d_model': 480, 'arch.d_ff': 192, 'arch.decomposition': False, 'arch.dropout': 0.5, 'arch.individual': True, 'arch.n_layers': 5, 'arch.n_heads': 2, 'init_weights': False, 'lookback': 336}. Best is trial 18 with value: 50.866783142089844.\n"
     ]
    },
    {
     "name": "stderr",
     "output_type": "stream",
     "text": [
      "Executing: 100%|██████████| 28/28 [01:11<00:00,  2.57s/cell]\n",
      "Best trial: 18. Best value: 50.8668:  52%|█████▏    | 26/50 [29:54<29:39, 74.13s/it]Passed unknown parameter: config.arch.attn_dropout\n",
      "Passed unknown parameter: config.arch.d_model\n",
      "Passed unknown parameter: config.arch.d_ff\n",
      "Passed unknown parameter: config.arch.decomposition\n",
      "Passed unknown parameter: config.arch.dropout\n",
      "Passed unknown parameter: config.arch.individual\n",
      "Passed unknown parameter: config.arch.n_layers\n",
      "Passed unknown parameter: config.arch.n_heads\n",
      "Passed unknown parameter: config.init_weights\n",
      "Passed unknown parameter: config.lookback\n",
      "Passed unknown parameter: config.n_epoch\n",
      "Passed unknown parameter: config.bs\n",
      "Passed unknown parameter: config.is_optuna_study\n",
      "Passed unknown parameter: config.use_wandb\n",
      "Passed unknown parameter: config.wandb_group\n"
     ]
    },
    {
     "name": "stdout",
     "output_type": "stream",
     "text": [
      "[I 2024-08-13 12:07:43,122] Trial 25 finished with value: 53.41546630859375 and parameters: {'arch.attn_dropout': 0.4, 'arch.d_model': 480, 'arch.d_ff': 96, 'arch.decomposition': True, 'arch.dropout': 0.5, 'arch.individual': True, 'arch.n_layers': 2, 'arch.n_heads': 4, 'init_weights': True, 'lookback': 240}. Best is trial 18 with value: 50.866783142089844.\n"
     ]
    },
    {
     "name": "stderr",
     "output_type": "stream",
     "text": [
      "Executing: 100%|██████████| 28/28 [00:47<00:00,  1.68s/cell]\n",
      "Best trial: 18. Best value: 50.8668:  54%|█████▍    | 27/50 [30:41<25:18, 66.04s/it]Passed unknown parameter: config.arch.attn_dropout\n",
      "Passed unknown parameter: config.arch.d_model\n",
      "Passed unknown parameter: config.arch.d_ff\n",
      "Passed unknown parameter: config.arch.decomposition\n",
      "Passed unknown parameter: config.arch.dropout\n",
      "Passed unknown parameter: config.arch.individual\n",
      "Passed unknown parameter: config.arch.n_layers\n",
      "Passed unknown parameter: config.arch.n_heads\n",
      "Passed unknown parameter: config.init_weights\n",
      "Passed unknown parameter: config.lookback\n",
      "Passed unknown parameter: config.n_epoch\n",
      "Passed unknown parameter: config.bs\n",
      "Passed unknown parameter: config.is_optuna_study\n",
      "Passed unknown parameter: config.use_wandb\n",
      "Passed unknown parameter: config.wandb_group\n"
     ]
    },
    {
     "name": "stdout",
     "output_type": "stream",
     "text": [
      "[I 2024-08-13 12:08:30,279] Trial 26 finished with value: 54.81644058227539 and parameters: {'arch.attn_dropout': 0.30000000000000004, 'arch.d_model': 480, 'arch.d_ff': 64, 'arch.decomposition': False, 'arch.dropout': 0.5, 'arch.individual': True, 'arch.n_layers': 2, 'arch.n_heads': 2, 'init_weights': False, 'lookback': 240}. Best is trial 18 with value: 50.866783142089844.\n"
     ]
    },
    {
     "name": "stderr",
     "output_type": "stream",
     "text": [
      "Executing: 100%|██████████| 28/28 [00:36<00:00,  1.32s/cell]\n",
      "Best trial: 18. Best value: 50.8668:  56%|█████▌    | 28/50 [31:18<21:01, 57.32s/it]Passed unknown parameter: config.arch.attn_dropout\n",
      "Passed unknown parameter: config.arch.d_model\n",
      "Passed unknown parameter: config.arch.d_ff\n",
      "Passed unknown parameter: config.arch.decomposition\n",
      "Passed unknown parameter: config.arch.dropout\n",
      "Passed unknown parameter: config.arch.individual\n",
      "Passed unknown parameter: config.arch.n_layers\n",
      "Passed unknown parameter: config.arch.n_heads\n",
      "Passed unknown parameter: config.init_weights\n",
      "Passed unknown parameter: config.lookback\n",
      "Passed unknown parameter: config.n_epoch\n",
      "Passed unknown parameter: config.bs\n",
      "Passed unknown parameter: config.is_optuna_study\n",
      "Passed unknown parameter: config.use_wandb\n",
      "Passed unknown parameter: config.wandb_group\n"
     ]
    },
    {
     "name": "stdout",
     "output_type": "stream",
     "text": [
      "[I 2024-08-13 12:09:07,266] Trial 27 finished with value: 51.244049072265625 and parameters: {'arch.attn_dropout': 0.4, 'arch.d_model': 352, 'arch.d_ff': 96, 'arch.decomposition': False, 'arch.dropout': 0.5, 'arch.individual': True, 'arch.n_layers': 1, 'arch.n_heads': 2, 'init_weights': True, 'lookback': 336}. Best is trial 18 with value: 50.866783142089844.\n"
     ]
    },
    {
     "name": "stderr",
     "output_type": "stream",
     "text": [
      "Executing: 100%|██████████| 28/28 [00:42<00:00,  1.53s/cell]\n",
      "Best trial: 18. Best value: 50.8668:  58%|█████▊    | 29/50 [32:01<18:33, 53.04s/it]Passed unknown parameter: config.arch.attn_dropout\n",
      "Passed unknown parameter: config.arch.d_model\n",
      "Passed unknown parameter: config.arch.d_ff\n",
      "Passed unknown parameter: config.arch.decomposition\n",
      "Passed unknown parameter: config.arch.dropout\n",
      "Passed unknown parameter: config.arch.individual\n",
      "Passed unknown parameter: config.arch.n_layers\n",
      "Passed unknown parameter: config.arch.n_heads\n",
      "Passed unknown parameter: config.init_weights\n",
      "Passed unknown parameter: config.lookback\n",
      "Passed unknown parameter: config.n_epoch\n",
      "Passed unknown parameter: config.bs\n",
      "Passed unknown parameter: config.is_optuna_study\n",
      "Passed unknown parameter: config.use_wandb\n",
      "Passed unknown parameter: config.wandb_group\n"
     ]
    },
    {
     "name": "stdout",
     "output_type": "stream",
     "text": [
      "[I 2024-08-13 12:09:50,314] Trial 28 finished with value: 67.7056884765625 and parameters: {'arch.attn_dropout': 0.5, 'arch.d_model': 448, 'arch.d_ff': 192, 'arch.decomposition': False, 'arch.dropout': 0.5, 'arch.individual': True, 'arch.n_layers': 1, 'arch.n_heads': 2, 'init_weights': True, 'lookback': 336}. Best is trial 18 with value: 50.866783142089844.\n"
     ]
    },
    {
     "name": "stderr",
     "output_type": "stream",
     "text": [
      "Executing: 100%|██████████| 28/28 [00:35<00:00,  1.28s/cell]\n",
      "Best trial: 18. Best value: 50.8668:  60%|██████    | 30/50 [32:37<15:58, 47.93s/it]Passed unknown parameter: config.arch.attn_dropout\n",
      "Passed unknown parameter: config.arch.d_model\n",
      "Passed unknown parameter: config.arch.d_ff\n",
      "Passed unknown parameter: config.arch.decomposition\n",
      "Passed unknown parameter: config.arch.dropout\n",
      "Passed unknown parameter: config.arch.individual\n",
      "Passed unknown parameter: config.arch.n_layers\n",
      "Passed unknown parameter: config.arch.n_heads\n",
      "Passed unknown parameter: config.init_weights\n",
      "Passed unknown parameter: config.lookback\n",
      "Passed unknown parameter: config.n_epoch\n",
      "Passed unknown parameter: config.bs\n",
      "Passed unknown parameter: config.is_optuna_study\n",
      "Passed unknown parameter: config.use_wandb\n",
      "Passed unknown parameter: config.wandb_group\n"
     ]
    },
    {
     "name": "stdout",
     "output_type": "stream",
     "text": [
      "[I 2024-08-13 12:10:26,316] Trial 29 finished with value: 64.23854064941406 and parameters: {'arch.attn_dropout': 0.4, 'arch.d_model': 352, 'arch.d_ff': 160, 'arch.decomposition': False, 'arch.dropout': 0.4, 'arch.individual': True, 'arch.n_layers': 1, 'arch.n_heads': 32, 'init_weights': True, 'lookback': 144}. Best is trial 18 with value: 50.866783142089844.\n"
     ]
    },
    {
     "name": "stderr",
     "output_type": "stream",
     "text": [
      "Executing: 100%|██████████| 28/28 [03:16<00:00,  7.00s/cell]\n",
      "Best trial: 18. Best value: 50.8668:  62%|██████▏   | 31/50 [35:53<29:15, 92.40s/it]Passed unknown parameter: config.arch.attn_dropout\n",
      "Passed unknown parameter: config.arch.d_model\n",
      "Passed unknown parameter: config.arch.d_ff\n",
      "Passed unknown parameter: config.arch.decomposition\n",
      "Passed unknown parameter: config.arch.dropout\n",
      "Passed unknown parameter: config.arch.individual\n",
      "Passed unknown parameter: config.arch.n_layers\n",
      "Passed unknown parameter: config.arch.n_heads\n",
      "Passed unknown parameter: config.init_weights\n",
      "Passed unknown parameter: config.lookback\n",
      "Passed unknown parameter: config.n_epoch\n",
      "Passed unknown parameter: config.bs\n",
      "Passed unknown parameter: config.is_optuna_study\n",
      "Passed unknown parameter: config.use_wandb\n",
      "Passed unknown parameter: config.wandb_group\n"
     ]
    },
    {
     "name": "stdout",
     "output_type": "stream",
     "text": [
      "[I 2024-08-13 12:13:42,476] Trial 30 finished with value: 54.93380355834961 and parameters: {'arch.attn_dropout': 0.30000000000000004, 'arch.d_model': 512, 'arch.d_ff': 256, 'arch.decomposition': True, 'arch.dropout': 0.5, 'arch.individual': True, 'arch.n_layers': 4, 'arch.n_heads': 32, 'init_weights': True, 'lookback': 288}. Best is trial 18 with value: 50.866783142089844.\n"
     ]
    },
    {
     "name": "stderr",
     "output_type": "stream",
     "text": [
      "Executing: 100%|██████████| 28/28 [00:39<00:00,  1.40s/cell]\n",
      "Best trial: 18. Best value: 50.8668:  64%|██████▍   | 32/50 [36:32<22:55, 76.44s/it]Passed unknown parameter: config.arch.attn_dropout\n",
      "Passed unknown parameter: config.arch.d_model\n",
      "Passed unknown parameter: config.arch.d_ff\n",
      "Passed unknown parameter: config.arch.decomposition\n",
      "Passed unknown parameter: config.arch.dropout\n",
      "Passed unknown parameter: config.arch.individual\n",
      "Passed unknown parameter: config.arch.n_layers\n",
      "Passed unknown parameter: config.arch.n_heads\n",
      "Passed unknown parameter: config.init_weights\n",
      "Passed unknown parameter: config.lookback\n",
      "Passed unknown parameter: config.n_epoch\n",
      "Passed unknown parameter: config.bs\n",
      "Passed unknown parameter: config.is_optuna_study\n",
      "Passed unknown parameter: config.use_wandb\n",
      "Passed unknown parameter: config.wandb_group\n"
     ]
    },
    {
     "name": "stdout",
     "output_type": "stream",
     "text": [
      "[I 2024-08-13 12:14:21,666] Trial 31 finished with value: 64.95043182373047 and parameters: {'arch.attn_dropout': 0.2, 'arch.d_model': 320, 'arch.d_ff': 96, 'arch.decomposition': False, 'arch.dropout': 0.5, 'arch.individual': True, 'arch.n_layers': 1, 'arch.n_heads': 16, 'init_weights': True, 'lookback': 336}. Best is trial 18 with value: 50.866783142089844.\n"
     ]
    },
    {
     "name": "stderr",
     "output_type": "stream",
     "text": [
      "Executing: 100%|██████████| 28/28 [00:36<00:00,  1.29s/cell]\n",
      "Best trial: 18. Best value: 50.8668:  66%|██████▌   | 33/50 [37:08<18:14, 64.37s/it]Passed unknown parameter: config.arch.attn_dropout\n",
      "Passed unknown parameter: config.arch.d_model\n",
      "Passed unknown parameter: config.arch.d_ff\n",
      "Passed unknown parameter: config.arch.decomposition\n",
      "Passed unknown parameter: config.arch.dropout\n",
      "Passed unknown parameter: config.arch.individual\n",
      "Passed unknown parameter: config.arch.n_layers\n",
      "Passed unknown parameter: config.arch.n_heads\n",
      "Passed unknown parameter: config.init_weights\n",
      "Passed unknown parameter: config.lookback\n",
      "Passed unknown parameter: config.n_epoch\n",
      "Passed unknown parameter: config.bs\n",
      "Passed unknown parameter: config.is_optuna_study\n",
      "Passed unknown parameter: config.use_wandb\n",
      "Passed unknown parameter: config.wandb_group\n"
     ]
    },
    {
     "name": "stdout",
     "output_type": "stream",
     "text": [
      "[I 2024-08-13 12:14:57,893] Trial 32 finished with value: 53.2070198059082 and parameters: {'arch.attn_dropout': 0.4, 'arch.d_model': 192, 'arch.d_ff': 32, 'arch.decomposition': False, 'arch.dropout': 0.5, 'arch.individual': True, 'arch.n_layers': 1, 'arch.n_heads': 2, 'init_weights': True, 'lookback': 336}. Best is trial 18 with value: 50.866783142089844.\n"
     ]
    },
    {
     "name": "stderr",
     "output_type": "stream",
     "text": [
      "Executing: 100%|██████████| 28/28 [00:52<00:00,  1.88s/cell]\n",
      "Best trial: 18. Best value: 50.8668:  68%|██████▊   | 34/50 [38:01<16:14, 60.89s/it]Passed unknown parameter: config.arch.attn_dropout\n",
      "Passed unknown parameter: config.arch.d_model\n",
      "Passed unknown parameter: config.arch.d_ff\n",
      "Passed unknown parameter: config.arch.decomposition\n",
      "Passed unknown parameter: config.arch.dropout\n",
      "Passed unknown parameter: config.arch.individual\n",
      "Passed unknown parameter: config.arch.n_layers\n",
      "Passed unknown parameter: config.arch.n_heads\n",
      "Passed unknown parameter: config.init_weights\n",
      "Passed unknown parameter: config.lookback\n",
      "Passed unknown parameter: config.n_epoch\n",
      "Passed unknown parameter: config.bs\n",
      "Passed unknown parameter: config.is_optuna_study\n",
      "Passed unknown parameter: config.use_wandb\n",
      "Passed unknown parameter: config.wandb_group\n"
     ]
    },
    {
     "name": "stdout",
     "output_type": "stream",
     "text": [
      "[I 2024-08-13 12:15:50,662] Trial 33 finished with value: 52.3698844909668 and parameters: {'arch.attn_dropout': 0.5, 'arch.d_model': 416, 'arch.d_ff': 64, 'arch.decomposition': False, 'arch.dropout': 0.4, 'arch.individual': True, 'arch.n_layers': 4, 'arch.n_heads': 2, 'init_weights': True, 'lookback': 144}. Best is trial 18 with value: 50.866783142089844.\n"
     ]
    },
    {
     "name": "stderr",
     "output_type": "stream",
     "text": [
      "Executing: 100%|██████████| 28/28 [00:49<00:00,  1.77s/cell]\n",
      "Best trial: 18. Best value: 50.8668:  70%|███████   | 35/50 [38:51<14:22, 57.53s/it]Passed unknown parameter: config.arch.attn_dropout\n",
      "Passed unknown parameter: config.arch.d_model\n",
      "Passed unknown parameter: config.arch.d_ff\n",
      "Passed unknown parameter: config.arch.decomposition\n",
      "Passed unknown parameter: config.arch.dropout\n",
      "Passed unknown parameter: config.arch.individual\n",
      "Passed unknown parameter: config.arch.n_layers\n",
      "Passed unknown parameter: config.arch.n_heads\n",
      "Passed unknown parameter: config.init_weights\n",
      "Passed unknown parameter: config.lookback\n",
      "Passed unknown parameter: config.n_epoch\n",
      "Passed unknown parameter: config.bs\n",
      "Passed unknown parameter: config.is_optuna_study\n",
      "Passed unknown parameter: config.use_wandb\n",
      "Passed unknown parameter: config.wandb_group\n"
     ]
    },
    {
     "name": "stdout",
     "output_type": "stream",
     "text": [
      "[I 2024-08-13 12:16:40,352] Trial 34 finished with value: 55.15299606323242 and parameters: {'arch.attn_dropout': 0.30000000000000004, 'arch.d_model': 384, 'arch.d_ff': 64, 'arch.decomposition': True, 'arch.dropout': 0.4, 'arch.individual': False, 'arch.n_layers': 1, 'arch.n_heads': 2, 'init_weights': True, 'lookback': 336}. Best is trial 18 with value: 50.866783142089844.\n"
     ]
    },
    {
     "name": "stderr",
     "output_type": "stream",
     "text": [
      "Executing: 100%|██████████| 28/28 [00:40<00:00,  1.43s/cell]\n",
      "Best trial: 18. Best value: 50.8668:  72%|███████▏  | 36/50 [39:31<12:12, 52.33s/it]Passed unknown parameter: config.arch.attn_dropout\n",
      "Passed unknown parameter: config.arch.d_model\n",
      "Passed unknown parameter: config.arch.d_ff\n",
      "Passed unknown parameter: config.arch.decomposition\n",
      "Passed unknown parameter: config.arch.dropout\n",
      "Passed unknown parameter: config.arch.individual\n",
      "Passed unknown parameter: config.arch.n_layers\n",
      "Passed unknown parameter: config.arch.n_heads\n",
      "Passed unknown parameter: config.init_weights\n",
      "Passed unknown parameter: config.lookback\n",
      "Passed unknown parameter: config.n_epoch\n",
      "Passed unknown parameter: config.bs\n",
      "Passed unknown parameter: config.is_optuna_study\n",
      "Passed unknown parameter: config.use_wandb\n",
      "Passed unknown parameter: config.wandb_group\n"
     ]
    },
    {
     "name": "stdout",
     "output_type": "stream",
     "text": [
      "[I 2024-08-13 12:17:20,550] Trial 35 finished with value: 56.462074279785156 and parameters: {'arch.attn_dropout': 0.5, 'arch.d_model': 480, 'arch.d_ff': 64, 'arch.decomposition': False, 'arch.dropout': 0.5, 'arch.individual': True, 'arch.n_layers': 1, 'arch.n_heads': 8, 'init_weights': True, 'lookback': 192}. Best is trial 18 with value: 50.866783142089844.\n"
     ]
    },
    {
     "name": "stderr",
     "output_type": "stream",
     "text": [
      "Executing: 100%|██████████| 28/28 [01:28<00:00,  3.15s/cell]\n",
      "Best trial: 18. Best value: 50.8668:  74%|███████▍  | 37/50 [40:59<13:40, 63.09s/it]Passed unknown parameter: config.arch.attn_dropout\n",
      "Passed unknown parameter: config.arch.d_model\n",
      "Passed unknown parameter: config.arch.d_ff\n",
      "Passed unknown parameter: config.arch.decomposition\n",
      "Passed unknown parameter: config.arch.dropout\n",
      "Passed unknown parameter: config.arch.individual\n",
      "Passed unknown parameter: config.arch.n_layers\n",
      "Passed unknown parameter: config.arch.n_heads\n",
      "Passed unknown parameter: config.init_weights\n",
      "Passed unknown parameter: config.lookback\n",
      "Passed unknown parameter: config.n_epoch\n",
      "Passed unknown parameter: config.bs\n",
      "Passed unknown parameter: config.is_optuna_study\n",
      "Passed unknown parameter: config.use_wandb\n",
      "Passed unknown parameter: config.wandb_group\n"
     ]
    },
    {
     "name": "stdout",
     "output_type": "stream",
     "text": [
      "[I 2024-08-13 12:18:48,743] Trial 36 finished with value: 54.45306396484375 and parameters: {'arch.attn_dropout': 0.5, 'arch.d_model': 512, 'arch.d_ff': 224, 'arch.decomposition': False, 'arch.dropout': 0.30000000000000004, 'arch.individual': False, 'arch.n_layers': 4, 'arch.n_heads': 8, 'init_weights': False, 'lookback': 288}. Best is trial 18 with value: 50.866783142089844.\n"
     ]
    },
    {
     "name": "stderr",
     "output_type": "stream",
     "text": [
      "Executing: 100%|██████████| 28/28 [01:10<00:00,  2.50s/cell]\n",
      "Best trial: 18. Best value: 50.8668:  76%|███████▌  | 38/50 [42:09<13:02, 65.23s/it]Passed unknown parameter: config.arch.attn_dropout\n",
      "Passed unknown parameter: config.arch.d_model\n",
      "Passed unknown parameter: config.arch.d_ff\n",
      "Passed unknown parameter: config.arch.decomposition\n",
      "Passed unknown parameter: config.arch.dropout\n",
      "Passed unknown parameter: config.arch.individual\n",
      "Passed unknown parameter: config.arch.n_layers\n",
      "Passed unknown parameter: config.arch.n_heads\n",
      "Passed unknown parameter: config.init_weights\n",
      "Passed unknown parameter: config.lookback\n",
      "Passed unknown parameter: config.n_epoch\n",
      "Passed unknown parameter: config.bs\n",
      "Passed unknown parameter: config.is_optuna_study\n",
      "Passed unknown parameter: config.use_wandb\n",
      "Passed unknown parameter: config.wandb_group\n"
     ]
    },
    {
     "name": "stdout",
     "output_type": "stream",
     "text": [
      "[I 2024-08-13 12:19:58,957] Trial 37 finished with value: 53.40592956542969 and parameters: {'arch.attn_dropout': 0.5, 'arch.d_model': 384, 'arch.d_ff': 192, 'arch.decomposition': False, 'arch.dropout': 0.4, 'arch.individual': True, 'arch.n_layers': 5, 'arch.n_heads': 4, 'init_weights': False, 'lookback': 240}. Best is trial 18 with value: 50.866783142089844.\n"
     ]
    },
    {
     "name": "stderr",
     "output_type": "stream",
     "text": [
      "Executing: 100%|██████████| 28/28 [00:45<00:00,  1.63s/cell]\n",
      "Best trial: 18. Best value: 50.8668:  78%|███████▊  | 39/50 [42:55<10:53, 59.42s/it]Passed unknown parameter: config.arch.attn_dropout\n",
      "Passed unknown parameter: config.arch.d_model\n",
      "Passed unknown parameter: config.arch.d_ff\n",
      "Passed unknown parameter: config.arch.decomposition\n",
      "Passed unknown parameter: config.arch.dropout\n",
      "Passed unknown parameter: config.arch.individual\n",
      "Passed unknown parameter: config.arch.n_layers\n",
      "Passed unknown parameter: config.arch.n_heads\n",
      "Passed unknown parameter: config.init_weights\n",
      "Passed unknown parameter: config.lookback\n",
      "Passed unknown parameter: config.n_epoch\n",
      "Passed unknown parameter: config.bs\n",
      "Passed unknown parameter: config.is_optuna_study\n",
      "Passed unknown parameter: config.use_wandb\n",
      "Passed unknown parameter: config.wandb_group\n"
     ]
    },
    {
     "name": "stdout",
     "output_type": "stream",
     "text": [
      "[I 2024-08-13 12:20:44,838] Trial 38 finished with value: 66.14729309082031 and parameters: {'arch.attn_dropout': 0.5, 'arch.d_model': 512, 'arch.d_ff': 224, 'arch.decomposition': False, 'arch.dropout': 0.4, 'arch.individual': True, 'arch.n_layers': 1, 'arch.n_heads': 32, 'init_weights': True, 'lookback': 288}. Best is trial 18 with value: 50.866783142089844.\n"
     ]
    },
    {
     "name": "stderr",
     "output_type": "stream",
     "text": [
      "Executing: 100%|██████████| 28/28 [00:39<00:00,  1.41s/cell]\n",
      "Best trial: 18. Best value: 50.8668:  80%|████████  | 40/50 [43:35<08:54, 53.48s/it]Passed unknown parameter: config.arch.attn_dropout\n",
      "Passed unknown parameter: config.arch.d_model\n",
      "Passed unknown parameter: config.arch.d_ff\n",
      "Passed unknown parameter: config.arch.decomposition\n",
      "Passed unknown parameter: config.arch.dropout\n",
      "Passed unknown parameter: config.arch.individual\n",
      "Passed unknown parameter: config.arch.n_layers\n",
      "Passed unknown parameter: config.arch.n_heads\n",
      "Passed unknown parameter: config.init_weights\n",
      "Passed unknown parameter: config.lookback\n",
      "Passed unknown parameter: config.n_epoch\n",
      "Passed unknown parameter: config.bs\n",
      "Passed unknown parameter: config.is_optuna_study\n",
      "Passed unknown parameter: config.use_wandb\n",
      "Passed unknown parameter: config.wandb_group\n"
     ]
    },
    {
     "name": "stdout",
     "output_type": "stream",
     "text": [
      "[I 2024-08-13 12:21:24,451] Trial 39 finished with value: 51.581092834472656 and parameters: {'arch.attn_dropout': 0.4, 'arch.d_model': 512, 'arch.d_ff': 32, 'arch.decomposition': False, 'arch.dropout': 0.4, 'arch.individual': True, 'arch.n_layers': 1, 'arch.n_heads': 2, 'init_weights': True, 'lookback': 240}. Best is trial 18 with value: 50.866783142089844.\n"
     ]
    },
    {
     "name": "stderr",
     "output_type": "stream",
     "text": [
      "Executing: 100%|██████████| 28/28 [00:36<00:00,  1.32s/cell]\n",
      "Best trial: 18. Best value: 50.8668:  82%|████████▏ | 41/50 [44:12<07:16, 48.52s/it]Passed unknown parameter: config.arch.attn_dropout\n",
      "Passed unknown parameter: config.arch.d_model\n",
      "Passed unknown parameter: config.arch.d_ff\n",
      "Passed unknown parameter: config.arch.decomposition\n",
      "Passed unknown parameter: config.arch.dropout\n",
      "Passed unknown parameter: config.arch.individual\n",
      "Passed unknown parameter: config.arch.n_layers\n",
      "Passed unknown parameter: config.arch.n_heads\n",
      "Passed unknown parameter: config.init_weights\n",
      "Passed unknown parameter: config.lookback\n",
      "Passed unknown parameter: config.n_epoch\n",
      "Passed unknown parameter: config.bs\n",
      "Passed unknown parameter: config.is_optuna_study\n",
      "Passed unknown parameter: config.use_wandb\n",
      "Passed unknown parameter: config.wandb_group\n"
     ]
    },
    {
     "name": "stdout",
     "output_type": "stream",
     "text": [
      "[I 2024-08-13 12:22:01,403] Trial 40 finished with value: 52.0120964050293 and parameters: {'arch.attn_dropout': 0.30000000000000004, 'arch.d_model': 384, 'arch.d_ff': 64, 'arch.decomposition': False, 'arch.dropout': 0.5, 'arch.individual': True, 'arch.n_layers': 1, 'arch.n_heads': 2, 'init_weights': True, 'lookback': 240}. Best is trial 18 with value: 50.866783142089844.\n"
     ]
    },
    {
     "name": "stderr",
     "output_type": "stream",
     "text": [
      "Executing: 100%|██████████| 28/28 [00:39<00:00,  1.41s/cell]\n",
      "Best trial: 18. Best value: 50.8668:  84%|████████▍ | 42/50 [44:51<06:06, 45.84s/it]Passed unknown parameter: config.arch.attn_dropout\n",
      "Passed unknown parameter: config.arch.d_model\n",
      "Passed unknown parameter: config.arch.d_ff\n",
      "Passed unknown parameter: config.arch.decomposition\n",
      "Passed unknown parameter: config.arch.dropout\n",
      "Passed unknown parameter: config.arch.individual\n",
      "Passed unknown parameter: config.arch.n_layers\n",
      "Passed unknown parameter: config.arch.n_heads\n",
      "Passed unknown parameter: config.init_weights\n",
      "Passed unknown parameter: config.lookback\n",
      "Passed unknown parameter: config.n_epoch\n",
      "Passed unknown parameter: config.bs\n",
      "Passed unknown parameter: config.is_optuna_study\n",
      "Passed unknown parameter: config.use_wandb\n",
      "Passed unknown parameter: config.wandb_group\n"
     ]
    },
    {
     "name": "stdout",
     "output_type": "stream",
     "text": [
      "[I 2024-08-13 12:22:40,996] Trial 41 finished with value: 54.45484924316406 and parameters: {'arch.attn_dropout': 0.2, 'arch.d_model': 480, 'arch.d_ff': 224, 'arch.decomposition': False, 'arch.dropout': 0.4, 'arch.individual': True, 'arch.n_layers': 1, 'arch.n_heads': 8, 'init_weights': True, 'lookback': 240}. Best is trial 18 with value: 50.866783142089844.\n"
     ]
    },
    {
     "name": "stderr",
     "output_type": "stream",
     "text": [
      "Executing: 100%|██████████| 28/28 [00:49<00:00,  1.75s/cell]\n",
      "Best trial: 18. Best value: 50.8668:  86%|████████▌ | 43/50 [45:41<05:27, 46.85s/it]Passed unknown parameter: config.arch.attn_dropout\n",
      "Passed unknown parameter: config.arch.d_model\n",
      "Passed unknown parameter: config.arch.d_ff\n",
      "Passed unknown parameter: config.arch.decomposition\n",
      "Passed unknown parameter: config.arch.dropout\n",
      "Passed unknown parameter: config.arch.individual\n",
      "Passed unknown parameter: config.arch.n_layers\n",
      "Passed unknown parameter: config.arch.n_heads\n",
      "Passed unknown parameter: config.init_weights\n",
      "Passed unknown parameter: config.lookback\n",
      "Passed unknown parameter: config.n_epoch\n",
      "Passed unknown parameter: config.bs\n",
      "Passed unknown parameter: config.is_optuna_study\n",
      "Passed unknown parameter: config.use_wandb\n",
      "Passed unknown parameter: config.wandb_group\n"
     ]
    },
    {
     "name": "stdout",
     "output_type": "stream",
     "text": [
      "[I 2024-08-13 12:23:30,195] Trial 42 finished with value: 51.988094329833984 and parameters: {'arch.attn_dropout': 0.4, 'arch.d_model': 480, 'arch.d_ff': 32, 'arch.decomposition': False, 'arch.dropout': 0.4, 'arch.individual': True, 'arch.n_layers': 2, 'arch.n_heads': 2, 'init_weights': True, 'lookback': 240}. Best is trial 18 with value: 50.866783142089844.\n"
     ]
    },
    {
     "name": "stderr",
     "output_type": "stream",
     "text": [
      "Executing: 100%|██████████| 28/28 [00:39<00:00,  1.40s/cell]\n",
      "Best trial: 18. Best value: 50.8668:  88%|████████▊ | 44/50 [46:20<04:27, 44.56s/it]Passed unknown parameter: config.arch.attn_dropout\n",
      "Passed unknown parameter: config.arch.d_model\n",
      "Passed unknown parameter: config.arch.d_ff\n",
      "Passed unknown parameter: config.arch.decomposition\n",
      "Passed unknown parameter: config.arch.dropout\n",
      "Passed unknown parameter: config.arch.individual\n",
      "Passed unknown parameter: config.arch.n_layers\n",
      "Passed unknown parameter: config.arch.n_heads\n",
      "Passed unknown parameter: config.init_weights\n",
      "Passed unknown parameter: config.lookback\n",
      "Passed unknown parameter: config.n_epoch\n",
      "Passed unknown parameter: config.bs\n",
      "Passed unknown parameter: config.is_optuna_study\n",
      "Passed unknown parameter: config.use_wandb\n",
      "Passed unknown parameter: config.wandb_group\n"
     ]
    },
    {
     "name": "stdout",
     "output_type": "stream",
     "text": [
      "[I 2024-08-13 12:24:09,397] Trial 43 finished with value: 55.302616119384766 and parameters: {'arch.attn_dropout': 0.4, 'arch.d_model': 448, 'arch.d_ff': 32, 'arch.decomposition': False, 'arch.dropout': 0.2, 'arch.individual': True, 'arch.n_layers': 1, 'arch.n_heads': 2, 'init_weights': True, 'lookback': 240}. Best is trial 18 with value: 50.866783142089844.\n"
     ]
    },
    {
     "name": "stderr",
     "output_type": "stream",
     "text": [
      "Executing: 100%|██████████| 28/28 [00:36<00:00,  1.29s/cell]\n",
      "Best trial: 18. Best value: 50.8668:  90%|█████████ | 45/50 [46:56<03:30, 42.06s/it]Passed unknown parameter: config.arch.attn_dropout\n",
      "Passed unknown parameter: config.arch.d_model\n",
      "Passed unknown parameter: config.arch.d_ff\n",
      "Passed unknown parameter: config.arch.decomposition\n",
      "Passed unknown parameter: config.arch.dropout\n",
      "Passed unknown parameter: config.arch.individual\n",
      "Passed unknown parameter: config.arch.n_layers\n",
      "Passed unknown parameter: config.arch.n_heads\n",
      "Passed unknown parameter: config.init_weights\n",
      "Passed unknown parameter: config.lookback\n",
      "Passed unknown parameter: config.n_epoch\n",
      "Passed unknown parameter: config.bs\n",
      "Passed unknown parameter: config.is_optuna_study\n",
      "Passed unknown parameter: config.use_wandb\n",
      "Passed unknown parameter: config.wandb_group\n"
     ]
    },
    {
     "name": "stdout",
     "output_type": "stream",
     "text": [
      "[I 2024-08-13 12:24:45,634] Trial 44 finished with value: 51.386505126953125 and parameters: {'arch.attn_dropout': 0.2, 'arch.d_model': 320, 'arch.d_ff': 128, 'arch.decomposition': False, 'arch.dropout': 0.5, 'arch.individual': True, 'arch.n_layers': 1, 'arch.n_heads': 2, 'init_weights': True, 'lookback': 192}. Best is trial 18 with value: 50.866783142089844.\n"
     ]
    },
    {
     "name": "stderr",
     "output_type": "stream",
     "text": [
      "Executing: 100%|██████████| 28/28 [00:41<00:00,  1.48s/cell]\n",
      "Best trial: 18. Best value: 50.8668:  92%|█████████▏| 46/50 [47:38<02:47, 41.94s/it]Passed unknown parameter: config.arch.attn_dropout\n",
      "Passed unknown parameter: config.arch.d_model\n",
      "Passed unknown parameter: config.arch.d_ff\n",
      "Passed unknown parameter: config.arch.decomposition\n",
      "Passed unknown parameter: config.arch.dropout\n",
      "Passed unknown parameter: config.arch.individual\n",
      "Passed unknown parameter: config.arch.n_layers\n",
      "Passed unknown parameter: config.arch.n_heads\n",
      "Passed unknown parameter: config.init_weights\n",
      "Passed unknown parameter: config.lookback\n",
      "Passed unknown parameter: config.n_epoch\n",
      "Passed unknown parameter: config.bs\n",
      "Passed unknown parameter: config.is_optuna_study\n",
      "Passed unknown parameter: config.use_wandb\n",
      "Passed unknown parameter: config.wandb_group\n"
     ]
    },
    {
     "name": "stdout",
     "output_type": "stream",
     "text": [
      "[I 2024-08-13 12:25:27,281] Trial 45 finished with value: 57.61300277709961 and parameters: {'arch.attn_dropout': 0.1, 'arch.d_model': 288, 'arch.d_ff': 160, 'arch.decomposition': False, 'arch.dropout': 0.5, 'arch.individual': True, 'arch.n_layers': 2, 'arch.n_heads': 2, 'init_weights': True, 'lookback': 288}. Best is trial 18 with value: 50.866783142089844.\n"
     ]
    },
    {
     "name": "stderr",
     "output_type": "stream",
     "text": [
      "Executing: 100%|██████████| 28/28 [00:40<00:00,  1.44s/cell]\n",
      "Best trial: 18. Best value: 50.8668:  94%|█████████▍| 47/50 [48:18<02:04, 41.53s/it]Passed unknown parameter: config.arch.attn_dropout\n",
      "Passed unknown parameter: config.arch.d_model\n",
      "Passed unknown parameter: config.arch.d_ff\n",
      "Passed unknown parameter: config.arch.decomposition\n",
      "Passed unknown parameter: config.arch.dropout\n",
      "Passed unknown parameter: config.arch.individual\n",
      "Passed unknown parameter: config.arch.n_layers\n",
      "Passed unknown parameter: config.arch.n_heads\n",
      "Passed unknown parameter: config.init_weights\n",
      "Passed unknown parameter: config.lookback\n",
      "Passed unknown parameter: config.n_epoch\n",
      "Passed unknown parameter: config.bs\n",
      "Passed unknown parameter: config.is_optuna_study\n",
      "Passed unknown parameter: config.use_wandb\n",
      "Passed unknown parameter: config.wandb_group\n"
     ]
    },
    {
     "name": "stdout",
     "output_type": "stream",
     "text": [
      "[I 2024-08-13 12:26:07,871] Trial 46 finished with value: 63.31104278564453 and parameters: {'arch.attn_dropout': 0.2, 'arch.d_model': 320, 'arch.d_ff': 64, 'arch.decomposition': False, 'arch.dropout': 0.5, 'arch.individual': True, 'arch.n_layers': 2, 'arch.n_heads': 4, 'init_weights': True, 'lookback': 192}. Best is trial 18 with value: 50.866783142089844.\n"
     ]
    },
    {
     "name": "stderr",
     "output_type": "stream",
     "text": [
      "Executing: 100%|██████████| 28/28 [00:43<00:00,  1.57s/cell]\n",
      "Best trial: 18. Best value: 50.8668:  96%|█████████▌| 48/50 [49:02<01:24, 42.31s/it]Passed unknown parameter: config.arch.attn_dropout\n",
      "Passed unknown parameter: config.arch.d_model\n",
      "Passed unknown parameter: config.arch.d_ff\n",
      "Passed unknown parameter: config.arch.decomposition\n",
      "Passed unknown parameter: config.arch.dropout\n",
      "Passed unknown parameter: config.arch.individual\n",
      "Passed unknown parameter: config.arch.n_layers\n",
      "Passed unknown parameter: config.arch.n_heads\n",
      "Passed unknown parameter: config.init_weights\n",
      "Passed unknown parameter: config.lookback\n",
      "Passed unknown parameter: config.n_epoch\n",
      "Passed unknown parameter: config.bs\n",
      "Passed unknown parameter: config.is_optuna_study\n",
      "Passed unknown parameter: config.use_wandb\n",
      "Passed unknown parameter: config.wandb_group\n"
     ]
    },
    {
     "name": "stdout",
     "output_type": "stream",
     "text": [
      "[I 2024-08-13 12:26:51,991] Trial 47 finished with value: 51.2218132019043 and parameters: {'arch.attn_dropout': 0.1, 'arch.d_model': 192, 'arch.d_ff': 64, 'arch.decomposition': True, 'arch.dropout': 0.5, 'arch.individual': True, 'arch.n_layers': 1, 'arch.n_heads': 32, 'init_weights': True, 'lookback': 192}. Best is trial 18 with value: 50.866783142089844.\n"
     ]
    },
    {
     "name": "stderr",
     "output_type": "stream",
     "text": [
      "Executing: 100%|██████████| 28/28 [00:37<00:00,  1.35s/cell]\n",
      "Best trial: 18. Best value: 50.8668:  98%|█████████▊| 49/50 [49:40<00:40, 40.98s/it]Passed unknown parameter: config.arch.attn_dropout\n",
      "Passed unknown parameter: config.arch.d_model\n",
      "Passed unknown parameter: config.arch.d_ff\n",
      "Passed unknown parameter: config.arch.decomposition\n",
      "Passed unknown parameter: config.arch.dropout\n",
      "Passed unknown parameter: config.arch.individual\n",
      "Passed unknown parameter: config.arch.n_layers\n",
      "Passed unknown parameter: config.arch.n_heads\n",
      "Passed unknown parameter: config.init_weights\n",
      "Passed unknown parameter: config.lookback\n",
      "Passed unknown parameter: config.n_epoch\n",
      "Passed unknown parameter: config.bs\n",
      "Passed unknown parameter: config.is_optuna_study\n",
      "Passed unknown parameter: config.use_wandb\n",
      "Passed unknown parameter: config.wandb_group\n"
     ]
    },
    {
     "name": "stdout",
     "output_type": "stream",
     "text": [
      "[I 2024-08-13 12:27:29,858] Trial 48 finished with value: 52.53421401977539 and parameters: {'arch.attn_dropout': 0.0, 'arch.d_model': 192, 'arch.d_ff': 96, 'arch.decomposition': True, 'arch.dropout': 0.5, 'arch.individual': False, 'arch.n_layers': 1, 'arch.n_heads': 2, 'init_weights': True, 'lookback': 192}. Best is trial 18 with value: 50.866783142089844.\n"
     ]
    },
    {
     "name": "stderr",
     "output_type": "stream",
     "text": [
      "Executing: 100%|██████████| 28/28 [00:42<00:00,  1.52s/cell]\n",
      "Best trial: 18. Best value: 50.8668: 100%|██████████| 50/50 [50:23<00:00, 60.47s/it]"
     ]
    },
    {
     "name": "stdout",
     "output_type": "stream",
     "text": [
      "[I 2024-08-13 12:28:12,501] Trial 49 finished with value: 51.7860107421875 and parameters: {'arch.attn_dropout': 0.1, 'arch.d_model': 224, 'arch.d_ff': 160, 'arch.decomposition': True, 'arch.dropout': 0.5, 'arch.individual': True, 'arch.n_layers': 1, 'arch.n_heads': 8, 'init_weights': True, 'lookback': 288}. Best is trial 18 with value: 50.866783142089844.\n",
      "\n",
      "Optuna study saved to tmp/general_study_extended.pkl\n",
      "To reload the study run: study = joblib.load('tmp/general_study_extended.pkl')\n"
     ]
    },
    {
     "name": "stderr",
     "output_type": "stream",
     "text": [
      "\n"
     ]
    },
    {
     "data": {
      "application/vnd.plotly.v1+json": {
       "config": {
        "plotlyServerURL": "https://plot.ly"
       },
       "data": [
        {
         "mode": "markers",
         "name": "Objective Value",
         "type": "scatter",
         "x": [
          0,
          1,
          2,
          3,
          4,
          5,
          6,
          7,
          8,
          9,
          10,
          11,
          12,
          13,
          14,
          15,
          16,
          17,
          18,
          19,
          20,
          21,
          22,
          23,
          24,
          25,
          26,
          27,
          28,
          29,
          30,
          31,
          32,
          33,
          34,
          35,
          36,
          37,
          38,
          39,
          40,
          41,
          42,
          43,
          44,
          45,
          46,
          47,
          48,
          49
         ],
         "y": [
          53.8745002746582,
          56.3623046875,
          66.96858215332031,
          53.96190643310547,
          87.54707336425781,
          53.66898727416992,
          966.4979858398438,
          55.357505798339844,
          53.506797790527344,
          54.60464096069336,
          144.81268310546875,
          79.5726318359375,
          55.16278076171875,
          85.3478012084961,
          56.01045227050781,
          53.037086486816406,
          52.9732666015625,
          52.198368072509766,
          50.866783142089844,
          52.162715911865234,
          58.79143142700195,
          54.68820571899414,
          54.7037353515625,
          54.24106216430664,
          52.36500549316406,
          53.41546630859375,
          54.81644058227539,
          51.244049072265625,
          67.7056884765625,
          64.23854064941406,
          54.93380355834961,
          64.95043182373047,
          53.2070198059082,
          52.3698844909668,
          55.15299606323242,
          56.462074279785156,
          54.45306396484375,
          53.40592956542969,
          66.14729309082031,
          51.581092834472656,
          52.0120964050293,
          54.45484924316406,
          51.988094329833984,
          55.302616119384766,
          51.386505126953125,
          57.61300277709961,
          63.31104278564453,
          51.2218132019043,
          52.53421401977539,
          51.7860107421875
         ]
        },
        {
         "mode": "lines",
         "name": "Best Value",
         "type": "scatter",
         "x": [
          0,
          1,
          2,
          3,
          4,
          5,
          6,
          7,
          8,
          9,
          10,
          11,
          12,
          13,
          14,
          15,
          16,
          17,
          18,
          19,
          20,
          21,
          22,
          23,
          24,
          25,
          26,
          27,
          28,
          29,
          30,
          31,
          32,
          33,
          34,
          35,
          36,
          37,
          38,
          39,
          40,
          41,
          42,
          43,
          44,
          45,
          46,
          47,
          48,
          49
         ],
         "y": [
          53.8745002746582,
          53.8745002746582,
          53.8745002746582,
          53.8745002746582,
          53.8745002746582,
          53.66898727416992,
          53.66898727416992,
          53.66898727416992,
          53.506797790527344,
          53.506797790527344,
          53.506797790527344,
          53.506797790527344,
          53.506797790527344,
          53.506797790527344,
          53.506797790527344,
          53.037086486816406,
          52.9732666015625,
          52.198368072509766,
          50.866783142089844,
          50.866783142089844,
          50.866783142089844,
          50.866783142089844,
          50.866783142089844,
          50.866783142089844,
          50.866783142089844,
          50.866783142089844,
          50.866783142089844,
          50.866783142089844,
          50.866783142089844,
          50.866783142089844,
          50.866783142089844,
          50.866783142089844,
          50.866783142089844,
          50.866783142089844,
          50.866783142089844,
          50.866783142089844,
          50.866783142089844,
          50.866783142089844,
          50.866783142089844,
          50.866783142089844,
          50.866783142089844,
          50.866783142089844,
          50.866783142089844,
          50.866783142089844,
          50.866783142089844,
          50.866783142089844,
          50.866783142089844,
          50.866783142089844,
          50.866783142089844,
          50.866783142089844
         ]
        },
        {
         "marker": {
          "color": "#cccccc"
         },
         "mode": "markers",
         "name": "Infeasible Trial",
         "showlegend": false,
         "type": "scatter",
         "x": [],
         "y": []
        }
       ],
       "layout": {
        "template": {
         "data": {
          "bar": [
           {
            "error_x": {
             "color": "#2a3f5f"
            },
            "error_y": {
             "color": "#2a3f5f"
            },
            "marker": {
             "line": {
              "color": "#E5ECF6",
              "width": 0.5
             },
             "pattern": {
              "fillmode": "overlay",
              "size": 10,
              "solidity": 0.2
             }
            },
            "type": "bar"
           }
          ],
          "barpolar": [
           {
            "marker": {
             "line": {
              "color": "#E5ECF6",
              "width": 0.5
             },
             "pattern": {
              "fillmode": "overlay",
              "size": 10,
              "solidity": 0.2
             }
            },
            "type": "barpolar"
           }
          ],
          "carpet": [
           {
            "aaxis": {
             "endlinecolor": "#2a3f5f",
             "gridcolor": "white",
             "linecolor": "white",
             "minorgridcolor": "white",
             "startlinecolor": "#2a3f5f"
            },
            "baxis": {
             "endlinecolor": "#2a3f5f",
             "gridcolor": "white",
             "linecolor": "white",
             "minorgridcolor": "white",
             "startlinecolor": "#2a3f5f"
            },
            "type": "carpet"
           }
          ],
          "choropleth": [
           {
            "colorbar": {
             "outlinewidth": 0,
             "ticks": ""
            },
            "type": "choropleth"
           }
          ],
          "contour": [
           {
            "colorbar": {
             "outlinewidth": 0,
             "ticks": ""
            },
            "colorscale": [
             [
              0,
              "#0d0887"
             ],
             [
              0.1111111111111111,
              "#46039f"
             ],
             [
              0.2222222222222222,
              "#7201a8"
             ],
             [
              0.3333333333333333,
              "#9c179e"
             ],
             [
              0.4444444444444444,
              "#bd3786"
             ],
             [
              0.5555555555555556,
              "#d8576b"
             ],
             [
              0.6666666666666666,
              "#ed7953"
             ],
             [
              0.7777777777777778,
              "#fb9f3a"
             ],
             [
              0.8888888888888888,
              "#fdca26"
             ],
             [
              1,
              "#f0f921"
             ]
            ],
            "type": "contour"
           }
          ],
          "contourcarpet": [
           {
            "colorbar": {
             "outlinewidth": 0,
             "ticks": ""
            },
            "type": "contourcarpet"
           }
          ],
          "heatmap": [
           {
            "colorbar": {
             "outlinewidth": 0,
             "ticks": ""
            },
            "colorscale": [
             [
              0,
              "#0d0887"
             ],
             [
              0.1111111111111111,
              "#46039f"
             ],
             [
              0.2222222222222222,
              "#7201a8"
             ],
             [
              0.3333333333333333,
              "#9c179e"
             ],
             [
              0.4444444444444444,
              "#bd3786"
             ],
             [
              0.5555555555555556,
              "#d8576b"
             ],
             [
              0.6666666666666666,
              "#ed7953"
             ],
             [
              0.7777777777777778,
              "#fb9f3a"
             ],
             [
              0.8888888888888888,
              "#fdca26"
             ],
             [
              1,
              "#f0f921"
             ]
            ],
            "type": "heatmap"
           }
          ],
          "heatmapgl": [
           {
            "colorbar": {
             "outlinewidth": 0,
             "ticks": ""
            },
            "colorscale": [
             [
              0,
              "#0d0887"
             ],
             [
              0.1111111111111111,
              "#46039f"
             ],
             [
              0.2222222222222222,
              "#7201a8"
             ],
             [
              0.3333333333333333,
              "#9c179e"
             ],
             [
              0.4444444444444444,
              "#bd3786"
             ],
             [
              0.5555555555555556,
              "#d8576b"
             ],
             [
              0.6666666666666666,
              "#ed7953"
             ],
             [
              0.7777777777777778,
              "#fb9f3a"
             ],
             [
              0.8888888888888888,
              "#fdca26"
             ],
             [
              1,
              "#f0f921"
             ]
            ],
            "type": "heatmapgl"
           }
          ],
          "histogram": [
           {
            "marker": {
             "pattern": {
              "fillmode": "overlay",
              "size": 10,
              "solidity": 0.2
             }
            },
            "type": "histogram"
           }
          ],
          "histogram2d": [
           {
            "colorbar": {
             "outlinewidth": 0,
             "ticks": ""
            },
            "colorscale": [
             [
              0,
              "#0d0887"
             ],
             [
              0.1111111111111111,
              "#46039f"
             ],
             [
              0.2222222222222222,
              "#7201a8"
             ],
             [
              0.3333333333333333,
              "#9c179e"
             ],
             [
              0.4444444444444444,
              "#bd3786"
             ],
             [
              0.5555555555555556,
              "#d8576b"
             ],
             [
              0.6666666666666666,
              "#ed7953"
             ],
             [
              0.7777777777777778,
              "#fb9f3a"
             ],
             [
              0.8888888888888888,
              "#fdca26"
             ],
             [
              1,
              "#f0f921"
             ]
            ],
            "type": "histogram2d"
           }
          ],
          "histogram2dcontour": [
           {
            "colorbar": {
             "outlinewidth": 0,
             "ticks": ""
            },
            "colorscale": [
             [
              0,
              "#0d0887"
             ],
             [
              0.1111111111111111,
              "#46039f"
             ],
             [
              0.2222222222222222,
              "#7201a8"
             ],
             [
              0.3333333333333333,
              "#9c179e"
             ],
             [
              0.4444444444444444,
              "#bd3786"
             ],
             [
              0.5555555555555556,
              "#d8576b"
             ],
             [
              0.6666666666666666,
              "#ed7953"
             ],
             [
              0.7777777777777778,
              "#fb9f3a"
             ],
             [
              0.8888888888888888,
              "#fdca26"
             ],
             [
              1,
              "#f0f921"
             ]
            ],
            "type": "histogram2dcontour"
           }
          ],
          "mesh3d": [
           {
            "colorbar": {
             "outlinewidth": 0,
             "ticks": ""
            },
            "type": "mesh3d"
           }
          ],
          "parcoords": [
           {
            "line": {
             "colorbar": {
              "outlinewidth": 0,
              "ticks": ""
             }
            },
            "type": "parcoords"
           }
          ],
          "pie": [
           {
            "automargin": true,
            "type": "pie"
           }
          ],
          "scatter": [
           {
            "fillpattern": {
             "fillmode": "overlay",
             "size": 10,
             "solidity": 0.2
            },
            "type": "scatter"
           }
          ],
          "scatter3d": [
           {
            "line": {
             "colorbar": {
              "outlinewidth": 0,
              "ticks": ""
             }
            },
            "marker": {
             "colorbar": {
              "outlinewidth": 0,
              "ticks": ""
             }
            },
            "type": "scatter3d"
           }
          ],
          "scattercarpet": [
           {
            "marker": {
             "colorbar": {
              "outlinewidth": 0,
              "ticks": ""
             }
            },
            "type": "scattercarpet"
           }
          ],
          "scattergeo": [
           {
            "marker": {
             "colorbar": {
              "outlinewidth": 0,
              "ticks": ""
             }
            },
            "type": "scattergeo"
           }
          ],
          "scattergl": [
           {
            "marker": {
             "colorbar": {
              "outlinewidth": 0,
              "ticks": ""
             }
            },
            "type": "scattergl"
           }
          ],
          "scattermapbox": [
           {
            "marker": {
             "colorbar": {
              "outlinewidth": 0,
              "ticks": ""
             }
            },
            "type": "scattermapbox"
           }
          ],
          "scatterpolar": [
           {
            "marker": {
             "colorbar": {
              "outlinewidth": 0,
              "ticks": ""
             }
            },
            "type": "scatterpolar"
           }
          ],
          "scatterpolargl": [
           {
            "marker": {
             "colorbar": {
              "outlinewidth": 0,
              "ticks": ""
             }
            },
            "type": "scatterpolargl"
           }
          ],
          "scatterternary": [
           {
            "marker": {
             "colorbar": {
              "outlinewidth": 0,
              "ticks": ""
             }
            },
            "type": "scatterternary"
           }
          ],
          "surface": [
           {
            "colorbar": {
             "outlinewidth": 0,
             "ticks": ""
            },
            "colorscale": [
             [
              0,
              "#0d0887"
             ],
             [
              0.1111111111111111,
              "#46039f"
             ],
             [
              0.2222222222222222,
              "#7201a8"
             ],
             [
              0.3333333333333333,
              "#9c179e"
             ],
             [
              0.4444444444444444,
              "#bd3786"
             ],
             [
              0.5555555555555556,
              "#d8576b"
             ],
             [
              0.6666666666666666,
              "#ed7953"
             ],
             [
              0.7777777777777778,
              "#fb9f3a"
             ],
             [
              0.8888888888888888,
              "#fdca26"
             ],
             [
              1,
              "#f0f921"
             ]
            ],
            "type": "surface"
           }
          ],
          "table": [
           {
            "cells": {
             "fill": {
              "color": "#EBF0F8"
             },
             "line": {
              "color": "white"
             }
            },
            "header": {
             "fill": {
              "color": "#C8D4E3"
             },
             "line": {
              "color": "white"
             }
            },
            "type": "table"
           }
          ]
         },
         "layout": {
          "annotationdefaults": {
           "arrowcolor": "#2a3f5f",
           "arrowhead": 0,
           "arrowwidth": 1
          },
          "autotypenumbers": "strict",
          "coloraxis": {
           "colorbar": {
            "outlinewidth": 0,
            "ticks": ""
           }
          },
          "colorscale": {
           "diverging": [
            [
             0,
             "#8e0152"
            ],
            [
             0.1,
             "#c51b7d"
            ],
            [
             0.2,
             "#de77ae"
            ],
            [
             0.3,
             "#f1b6da"
            ],
            [
             0.4,
             "#fde0ef"
            ],
            [
             0.5,
             "#f7f7f7"
            ],
            [
             0.6,
             "#e6f5d0"
            ],
            [
             0.7,
             "#b8e186"
            ],
            [
             0.8,
             "#7fbc41"
            ],
            [
             0.9,
             "#4d9221"
            ],
            [
             1,
             "#276419"
            ]
           ],
           "sequential": [
            [
             0,
             "#0d0887"
            ],
            [
             0.1111111111111111,
             "#46039f"
            ],
            [
             0.2222222222222222,
             "#7201a8"
            ],
            [
             0.3333333333333333,
             "#9c179e"
            ],
            [
             0.4444444444444444,
             "#bd3786"
            ],
            [
             0.5555555555555556,
             "#d8576b"
            ],
            [
             0.6666666666666666,
             "#ed7953"
            ],
            [
             0.7777777777777778,
             "#fb9f3a"
            ],
            [
             0.8888888888888888,
             "#fdca26"
            ],
            [
             1,
             "#f0f921"
            ]
           ],
           "sequentialminus": [
            [
             0,
             "#0d0887"
            ],
            [
             0.1111111111111111,
             "#46039f"
            ],
            [
             0.2222222222222222,
             "#7201a8"
            ],
            [
             0.3333333333333333,
             "#9c179e"
            ],
            [
             0.4444444444444444,
             "#bd3786"
            ],
            [
             0.5555555555555556,
             "#d8576b"
            ],
            [
             0.6666666666666666,
             "#ed7953"
            ],
            [
             0.7777777777777778,
             "#fb9f3a"
            ],
            [
             0.8888888888888888,
             "#fdca26"
            ],
            [
             1,
             "#f0f921"
            ]
           ]
          },
          "colorway": [
           "#636efa",
           "#EF553B",
           "#00cc96",
           "#ab63fa",
           "#FFA15A",
           "#19d3f3",
           "#FF6692",
           "#B6E880",
           "#FF97FF",
           "#FECB52"
          ],
          "font": {
           "color": "#2a3f5f"
          },
          "geo": {
           "bgcolor": "white",
           "lakecolor": "white",
           "landcolor": "#E5ECF6",
           "showlakes": true,
           "showland": true,
           "subunitcolor": "white"
          },
          "hoverlabel": {
           "align": "left"
          },
          "hovermode": "closest",
          "mapbox": {
           "style": "light"
          },
          "paper_bgcolor": "white",
          "plot_bgcolor": "#E5ECF6",
          "polar": {
           "angularaxis": {
            "gridcolor": "white",
            "linecolor": "white",
            "ticks": ""
           },
           "bgcolor": "#E5ECF6",
           "radialaxis": {
            "gridcolor": "white",
            "linecolor": "white",
            "ticks": ""
           }
          },
          "scene": {
           "xaxis": {
            "backgroundcolor": "#E5ECF6",
            "gridcolor": "white",
            "gridwidth": 2,
            "linecolor": "white",
            "showbackground": true,
            "ticks": "",
            "zerolinecolor": "white"
           },
           "yaxis": {
            "backgroundcolor": "#E5ECF6",
            "gridcolor": "white",
            "gridwidth": 2,
            "linecolor": "white",
            "showbackground": true,
            "ticks": "",
            "zerolinecolor": "white"
           },
           "zaxis": {
            "backgroundcolor": "#E5ECF6",
            "gridcolor": "white",
            "gridwidth": 2,
            "linecolor": "white",
            "showbackground": true,
            "ticks": "",
            "zerolinecolor": "white"
           }
          },
          "shapedefaults": {
           "line": {
            "color": "#2a3f5f"
           }
          },
          "ternary": {
           "aaxis": {
            "gridcolor": "white",
            "linecolor": "white",
            "ticks": ""
           },
           "baxis": {
            "gridcolor": "white",
            "linecolor": "white",
            "ticks": ""
           },
           "bgcolor": "#E5ECF6",
           "caxis": {
            "gridcolor": "white",
            "linecolor": "white",
            "ticks": ""
           }
          },
          "title": {
           "x": 0.05
          },
          "xaxis": {
           "automargin": true,
           "gridcolor": "white",
           "linecolor": "white",
           "ticks": "",
           "title": {
            "standoff": 15
           },
           "zerolinecolor": "white",
           "zerolinewidth": 2
          },
          "yaxis": {
           "automargin": true,
           "gridcolor": "white",
           "linecolor": "white",
           "ticks": "",
           "title": {
            "standoff": 15
           },
           "zerolinecolor": "white",
           "zerolinewidth": 2
          }
         }
        },
        "title": {
         "text": "Optimization History Plot"
        },
        "xaxis": {
         "title": {
          "text": "Trial"
         }
        },
        "yaxis": {
         "title": {
          "text": "Objective Value"
         }
        }
       }
      },
      "text/html": [
       "<div>                            <div id=\"a9c3e050-a91e-4dbf-9620-985715f034a2\" class=\"plotly-graph-div\" style=\"height:525px; width:100%;\"></div>            <script type=\"text/javascript\">                require([\"plotly\"], function(Plotly) {                    window.PLOTLYENV=window.PLOTLYENV || {};                                    if (document.getElementById(\"a9c3e050-a91e-4dbf-9620-985715f034a2\")) {                    Plotly.newPlot(                        \"a9c3e050-a91e-4dbf-9620-985715f034a2\",                        [{\"mode\":\"markers\",\"name\":\"Objective Value\",\"x\":[0,1,2,3,4,5,6,7,8,9,10,11,12,13,14,15,16,17,18,19,20,21,22,23,24,25,26,27,28,29,30,31,32,33,34,35,36,37,38,39,40,41,42,43,44,45,46,47,48,49],\"y\":[53.8745002746582,56.3623046875,66.96858215332031,53.96190643310547,87.54707336425781,53.66898727416992,966.4979858398438,55.357505798339844,53.506797790527344,54.60464096069336,144.81268310546875,79.5726318359375,55.16278076171875,85.3478012084961,56.01045227050781,53.037086486816406,52.9732666015625,52.198368072509766,50.866783142089844,52.162715911865234,58.79143142700195,54.68820571899414,54.7037353515625,54.24106216430664,52.36500549316406,53.41546630859375,54.81644058227539,51.244049072265625,67.7056884765625,64.23854064941406,54.93380355834961,64.95043182373047,53.2070198059082,52.3698844909668,55.15299606323242,56.462074279785156,54.45306396484375,53.40592956542969,66.14729309082031,51.581092834472656,52.0120964050293,54.45484924316406,51.988094329833984,55.302616119384766,51.386505126953125,57.61300277709961,63.31104278564453,51.2218132019043,52.53421401977539,51.7860107421875],\"type\":\"scatter\"},{\"mode\":\"lines\",\"name\":\"Best Value\",\"x\":[0,1,2,3,4,5,6,7,8,9,10,11,12,13,14,15,16,17,18,19,20,21,22,23,24,25,26,27,28,29,30,31,32,33,34,35,36,37,38,39,40,41,42,43,44,45,46,47,48,49],\"y\":[53.8745002746582,53.8745002746582,53.8745002746582,53.8745002746582,53.8745002746582,53.66898727416992,53.66898727416992,53.66898727416992,53.506797790527344,53.506797790527344,53.506797790527344,53.506797790527344,53.506797790527344,53.506797790527344,53.506797790527344,53.037086486816406,52.9732666015625,52.198368072509766,50.866783142089844,50.866783142089844,50.866783142089844,50.866783142089844,50.866783142089844,50.866783142089844,50.866783142089844,50.866783142089844,50.866783142089844,50.866783142089844,50.866783142089844,50.866783142089844,50.866783142089844,50.866783142089844,50.866783142089844,50.866783142089844,50.866783142089844,50.866783142089844,50.866783142089844,50.866783142089844,50.866783142089844,50.866783142089844,50.866783142089844,50.866783142089844,50.866783142089844,50.866783142089844,50.866783142089844,50.866783142089844,50.866783142089844,50.866783142089844,50.866783142089844,50.866783142089844],\"type\":\"scatter\"},{\"marker\":{\"color\":\"#cccccc\"},\"mode\":\"markers\",\"name\":\"Infeasible Trial\",\"showlegend\":false,\"x\":[],\"y\":[],\"type\":\"scatter\"}],                        {\"title\":{\"text\":\"Optimization History Plot\"},\"xaxis\":{\"title\":{\"text\":\"Trial\"}},\"yaxis\":{\"title\":{\"text\":\"Objective Value\"}},\"template\":{\"data\":{\"histogram2dcontour\":[{\"type\":\"histogram2dcontour\",\"colorbar\":{\"outlinewidth\":0,\"ticks\":\"\"},\"colorscale\":[[0.0,\"#0d0887\"],[0.1111111111111111,\"#46039f\"],[0.2222222222222222,\"#7201a8\"],[0.3333333333333333,\"#9c179e\"],[0.4444444444444444,\"#bd3786\"],[0.5555555555555556,\"#d8576b\"],[0.6666666666666666,\"#ed7953\"],[0.7777777777777778,\"#fb9f3a\"],[0.8888888888888888,\"#fdca26\"],[1.0,\"#f0f921\"]]}],\"choropleth\":[{\"type\":\"choropleth\",\"colorbar\":{\"outlinewidth\":0,\"ticks\":\"\"}}],\"histogram2d\":[{\"type\":\"histogram2d\",\"colorbar\":{\"outlinewidth\":0,\"ticks\":\"\"},\"colorscale\":[[0.0,\"#0d0887\"],[0.1111111111111111,\"#46039f\"],[0.2222222222222222,\"#7201a8\"],[0.3333333333333333,\"#9c179e\"],[0.4444444444444444,\"#bd3786\"],[0.5555555555555556,\"#d8576b\"],[0.6666666666666666,\"#ed7953\"],[0.7777777777777778,\"#fb9f3a\"],[0.8888888888888888,\"#fdca26\"],[1.0,\"#f0f921\"]]}],\"heatmap\":[{\"type\":\"heatmap\",\"colorbar\":{\"outlinewidth\":0,\"ticks\":\"\"},\"colorscale\":[[0.0,\"#0d0887\"],[0.1111111111111111,\"#46039f\"],[0.2222222222222222,\"#7201a8\"],[0.3333333333333333,\"#9c179e\"],[0.4444444444444444,\"#bd3786\"],[0.5555555555555556,\"#d8576b\"],[0.6666666666666666,\"#ed7953\"],[0.7777777777777778,\"#fb9f3a\"],[0.8888888888888888,\"#fdca26\"],[1.0,\"#f0f921\"]]}],\"heatmapgl\":[{\"type\":\"heatmapgl\",\"colorbar\":{\"outlinewidth\":0,\"ticks\":\"\"},\"colorscale\":[[0.0,\"#0d0887\"],[0.1111111111111111,\"#46039f\"],[0.2222222222222222,\"#7201a8\"],[0.3333333333333333,\"#9c179e\"],[0.4444444444444444,\"#bd3786\"],[0.5555555555555556,\"#d8576b\"],[0.6666666666666666,\"#ed7953\"],[0.7777777777777778,\"#fb9f3a\"],[0.8888888888888888,\"#fdca26\"],[1.0,\"#f0f921\"]]}],\"contourcarpet\":[{\"type\":\"contourcarpet\",\"colorbar\":{\"outlinewidth\":0,\"ticks\":\"\"}}],\"contour\":[{\"type\":\"contour\",\"colorbar\":{\"outlinewidth\":0,\"ticks\":\"\"},\"colorscale\":[[0.0,\"#0d0887\"],[0.1111111111111111,\"#46039f\"],[0.2222222222222222,\"#7201a8\"],[0.3333333333333333,\"#9c179e\"],[0.4444444444444444,\"#bd3786\"],[0.5555555555555556,\"#d8576b\"],[0.6666666666666666,\"#ed7953\"],[0.7777777777777778,\"#fb9f3a\"],[0.8888888888888888,\"#fdca26\"],[1.0,\"#f0f921\"]]}],\"surface\":[{\"type\":\"surface\",\"colorbar\":{\"outlinewidth\":0,\"ticks\":\"\"},\"colorscale\":[[0.0,\"#0d0887\"],[0.1111111111111111,\"#46039f\"],[0.2222222222222222,\"#7201a8\"],[0.3333333333333333,\"#9c179e\"],[0.4444444444444444,\"#bd3786\"],[0.5555555555555556,\"#d8576b\"],[0.6666666666666666,\"#ed7953\"],[0.7777777777777778,\"#fb9f3a\"],[0.8888888888888888,\"#fdca26\"],[1.0,\"#f0f921\"]]}],\"mesh3d\":[{\"type\":\"mesh3d\",\"colorbar\":{\"outlinewidth\":0,\"ticks\":\"\"}}],\"scatter\":[{\"fillpattern\":{\"fillmode\":\"overlay\",\"size\":10,\"solidity\":0.2},\"type\":\"scatter\"}],\"parcoords\":[{\"type\":\"parcoords\",\"line\":{\"colorbar\":{\"outlinewidth\":0,\"ticks\":\"\"}}}],\"scatterpolargl\":[{\"type\":\"scatterpolargl\",\"marker\":{\"colorbar\":{\"outlinewidth\":0,\"ticks\":\"\"}}}],\"bar\":[{\"error_x\":{\"color\":\"#2a3f5f\"},\"error_y\":{\"color\":\"#2a3f5f\"},\"marker\":{\"line\":{\"color\":\"#E5ECF6\",\"width\":0.5},\"pattern\":{\"fillmode\":\"overlay\",\"size\":10,\"solidity\":0.2}},\"type\":\"bar\"}],\"scattergeo\":[{\"type\":\"scattergeo\",\"marker\":{\"colorbar\":{\"outlinewidth\":0,\"ticks\":\"\"}}}],\"scatterpolar\":[{\"type\":\"scatterpolar\",\"marker\":{\"colorbar\":{\"outlinewidth\":0,\"ticks\":\"\"}}}],\"histogram\":[{\"marker\":{\"pattern\":{\"fillmode\":\"overlay\",\"size\":10,\"solidity\":0.2}},\"type\":\"histogram\"}],\"scattergl\":[{\"type\":\"scattergl\",\"marker\":{\"colorbar\":{\"outlinewidth\":0,\"ticks\":\"\"}}}],\"scatter3d\":[{\"type\":\"scatter3d\",\"line\":{\"colorbar\":{\"outlinewidth\":0,\"ticks\":\"\"}},\"marker\":{\"colorbar\":{\"outlinewidth\":0,\"ticks\":\"\"}}}],\"scattermapbox\":[{\"type\":\"scattermapbox\",\"marker\":{\"colorbar\":{\"outlinewidth\":0,\"ticks\":\"\"}}}],\"scatterternary\":[{\"type\":\"scatterternary\",\"marker\":{\"colorbar\":{\"outlinewidth\":0,\"ticks\":\"\"}}}],\"scattercarpet\":[{\"type\":\"scattercarpet\",\"marker\":{\"colorbar\":{\"outlinewidth\":0,\"ticks\":\"\"}}}],\"carpet\":[{\"aaxis\":{\"endlinecolor\":\"#2a3f5f\",\"gridcolor\":\"white\",\"linecolor\":\"white\",\"minorgridcolor\":\"white\",\"startlinecolor\":\"#2a3f5f\"},\"baxis\":{\"endlinecolor\":\"#2a3f5f\",\"gridcolor\":\"white\",\"linecolor\":\"white\",\"minorgridcolor\":\"white\",\"startlinecolor\":\"#2a3f5f\"},\"type\":\"carpet\"}],\"table\":[{\"cells\":{\"fill\":{\"color\":\"#EBF0F8\"},\"line\":{\"color\":\"white\"}},\"header\":{\"fill\":{\"color\":\"#C8D4E3\"},\"line\":{\"color\":\"white\"}},\"type\":\"table\"}],\"barpolar\":[{\"marker\":{\"line\":{\"color\":\"#E5ECF6\",\"width\":0.5},\"pattern\":{\"fillmode\":\"overlay\",\"size\":10,\"solidity\":0.2}},\"type\":\"barpolar\"}],\"pie\":[{\"automargin\":true,\"type\":\"pie\"}]},\"layout\":{\"autotypenumbers\":\"strict\",\"colorway\":[\"#636efa\",\"#EF553B\",\"#00cc96\",\"#ab63fa\",\"#FFA15A\",\"#19d3f3\",\"#FF6692\",\"#B6E880\",\"#FF97FF\",\"#FECB52\"],\"font\":{\"color\":\"#2a3f5f\"},\"hovermode\":\"closest\",\"hoverlabel\":{\"align\":\"left\"},\"paper_bgcolor\":\"white\",\"plot_bgcolor\":\"#E5ECF6\",\"polar\":{\"bgcolor\":\"#E5ECF6\",\"angularaxis\":{\"gridcolor\":\"white\",\"linecolor\":\"white\",\"ticks\":\"\"},\"radialaxis\":{\"gridcolor\":\"white\",\"linecolor\":\"white\",\"ticks\":\"\"}},\"ternary\":{\"bgcolor\":\"#E5ECF6\",\"aaxis\":{\"gridcolor\":\"white\",\"linecolor\":\"white\",\"ticks\":\"\"},\"baxis\":{\"gridcolor\":\"white\",\"linecolor\":\"white\",\"ticks\":\"\"},\"caxis\":{\"gridcolor\":\"white\",\"linecolor\":\"white\",\"ticks\":\"\"}},\"coloraxis\":{\"colorbar\":{\"outlinewidth\":0,\"ticks\":\"\"}},\"colorscale\":{\"sequential\":[[0.0,\"#0d0887\"],[0.1111111111111111,\"#46039f\"],[0.2222222222222222,\"#7201a8\"],[0.3333333333333333,\"#9c179e\"],[0.4444444444444444,\"#bd3786\"],[0.5555555555555556,\"#d8576b\"],[0.6666666666666666,\"#ed7953\"],[0.7777777777777778,\"#fb9f3a\"],[0.8888888888888888,\"#fdca26\"],[1.0,\"#f0f921\"]],\"sequentialminus\":[[0.0,\"#0d0887\"],[0.1111111111111111,\"#46039f\"],[0.2222222222222222,\"#7201a8\"],[0.3333333333333333,\"#9c179e\"],[0.4444444444444444,\"#bd3786\"],[0.5555555555555556,\"#d8576b\"],[0.6666666666666666,\"#ed7953\"],[0.7777777777777778,\"#fb9f3a\"],[0.8888888888888888,\"#fdca26\"],[1.0,\"#f0f921\"]],\"diverging\":[[0,\"#8e0152\"],[0.1,\"#c51b7d\"],[0.2,\"#de77ae\"],[0.3,\"#f1b6da\"],[0.4,\"#fde0ef\"],[0.5,\"#f7f7f7\"],[0.6,\"#e6f5d0\"],[0.7,\"#b8e186\"],[0.8,\"#7fbc41\"],[0.9,\"#4d9221\"],[1,\"#276419\"]]},\"xaxis\":{\"gridcolor\":\"white\",\"linecolor\":\"white\",\"ticks\":\"\",\"title\":{\"standoff\":15},\"zerolinecolor\":\"white\",\"automargin\":true,\"zerolinewidth\":2},\"yaxis\":{\"gridcolor\":\"white\",\"linecolor\":\"white\",\"ticks\":\"\",\"title\":{\"standoff\":15},\"zerolinecolor\":\"white\",\"automargin\":true,\"zerolinewidth\":2},\"scene\":{\"xaxis\":{\"backgroundcolor\":\"#E5ECF6\",\"gridcolor\":\"white\",\"linecolor\":\"white\",\"showbackground\":true,\"ticks\":\"\",\"zerolinecolor\":\"white\",\"gridwidth\":2},\"yaxis\":{\"backgroundcolor\":\"#E5ECF6\",\"gridcolor\":\"white\",\"linecolor\":\"white\",\"showbackground\":true,\"ticks\":\"\",\"zerolinecolor\":\"white\",\"gridwidth\":2},\"zaxis\":{\"backgroundcolor\":\"#E5ECF6\",\"gridcolor\":\"white\",\"linecolor\":\"white\",\"showbackground\":true,\"ticks\":\"\",\"zerolinecolor\":\"white\",\"gridwidth\":2}},\"shapedefaults\":{\"line\":{\"color\":\"#2a3f5f\"}},\"annotationdefaults\":{\"arrowcolor\":\"#2a3f5f\",\"arrowhead\":0,\"arrowwidth\":1},\"geo\":{\"bgcolor\":\"white\",\"landcolor\":\"#E5ECF6\",\"subunitcolor\":\"white\",\"showland\":true,\"showlakes\":true,\"lakecolor\":\"white\"},\"title\":{\"x\":0.05},\"mapbox\":{\"style\":\"light\"}}}},                        {\"responsive\": true}                    ).then(function(){\n",
       "                            \n",
       "var gd = document.getElementById('a9c3e050-a91e-4dbf-9620-985715f034a2');\n",
       "var x = new MutationObserver(function (mutations, observer) {{\n",
       "        var display = window.getComputedStyle(gd).display;\n",
       "        if (!display || display === 'none') {{\n",
       "            console.log([gd, 'removed!']);\n",
       "            Plotly.purge(gd);\n",
       "            observer.disconnect();\n",
       "        }}\n",
       "}});\n",
       "\n",
       "// Listen for the removal of the full notebook cells\n",
       "var notebookContainer = gd.closest('#notebook-container');\n",
       "if (notebookContainer) {{\n",
       "    x.observe(notebookContainer, {childList: true});\n",
       "}}\n",
       "\n",
       "// Listen for the clearing of the current output cell\n",
       "var outputEl = gd.closest('.output');\n",
       "if (outputEl) {{\n",
       "    x.observe(outputEl, {childList: true});\n",
       "}}\n",
       "\n",
       "                        })                };                });            </script>        </div>"
      ]
     },
     "metadata": {},
     "output_type": "display_data"
    },
    {
     "data": {
      "application/vnd.plotly.v1+json": {
       "config": {
        "plotlyServerURL": "https://plot.ly"
       },
       "data": [
        {
         "cliponaxis": false,
         "hovertemplate": [
          "arch.individual (CategoricalDistribution): 0.0021816289196625203<extra></extra>",
          "arch.attn_dropout (DiscreteUniformDistribution): 0.009253200522606614<extra></extra>",
          "arch.decomposition (CategoricalDistribution): 0.01105497633135348<extra></extra>",
          "init_weights (CategoricalDistribution): 0.02385469878013309<extra></extra>",
          "arch.d_model (IntUniformDistribution): 0.024503805372003373<extra></extra>",
          "arch.d_ff (IntUniformDistribution): 0.03343320910094243<extra></extra>",
          "arch.n_heads (CategoricalDistribution): 0.055331655245103285<extra></extra>",
          "lookback (CategoricalDistribution): 0.060389735739648065<extra></extra>",
          "arch.n_layers (IntUniformDistribution): 0.3170453732221617<extra></extra>",
          "arch.dropout (DiscreteUniformDistribution): 0.4629517167663855<extra></extra>"
         ],
         "name": "Objective Value",
         "orientation": "h",
         "text": [
          "<0.01",
          "<0.01",
          "0.01",
          "0.02",
          "0.02",
          "0.03",
          "0.06",
          "0.06",
          "0.32",
          "0.46"
         ],
         "textposition": "outside",
         "type": "bar",
         "x": [
          0.0021816289196625203,
          0.009253200522606614,
          0.01105497633135348,
          0.02385469878013309,
          0.024503805372003373,
          0.03343320910094243,
          0.055331655245103285,
          0.060389735739648065,
          0.3170453732221617,
          0.4629517167663855
         ],
         "y": [
          "arch.individual",
          "arch.attn_dropout",
          "arch.decomposition",
          "init_weights",
          "arch.d_model",
          "arch.d_ff",
          "arch.n_heads",
          "lookback",
          "arch.n_layers",
          "arch.dropout"
         ]
        }
       ],
       "layout": {
        "template": {
         "data": {
          "bar": [
           {
            "error_x": {
             "color": "#2a3f5f"
            },
            "error_y": {
             "color": "#2a3f5f"
            },
            "marker": {
             "line": {
              "color": "#E5ECF6",
              "width": 0.5
             },
             "pattern": {
              "fillmode": "overlay",
              "size": 10,
              "solidity": 0.2
             }
            },
            "type": "bar"
           }
          ],
          "barpolar": [
           {
            "marker": {
             "line": {
              "color": "#E5ECF6",
              "width": 0.5
             },
             "pattern": {
              "fillmode": "overlay",
              "size": 10,
              "solidity": 0.2
             }
            },
            "type": "barpolar"
           }
          ],
          "carpet": [
           {
            "aaxis": {
             "endlinecolor": "#2a3f5f",
             "gridcolor": "white",
             "linecolor": "white",
             "minorgridcolor": "white",
             "startlinecolor": "#2a3f5f"
            },
            "baxis": {
             "endlinecolor": "#2a3f5f",
             "gridcolor": "white",
             "linecolor": "white",
             "minorgridcolor": "white",
             "startlinecolor": "#2a3f5f"
            },
            "type": "carpet"
           }
          ],
          "choropleth": [
           {
            "colorbar": {
             "outlinewidth": 0,
             "ticks": ""
            },
            "type": "choropleth"
           }
          ],
          "contour": [
           {
            "colorbar": {
             "outlinewidth": 0,
             "ticks": ""
            },
            "colorscale": [
             [
              0,
              "#0d0887"
             ],
             [
              0.1111111111111111,
              "#46039f"
             ],
             [
              0.2222222222222222,
              "#7201a8"
             ],
             [
              0.3333333333333333,
              "#9c179e"
             ],
             [
              0.4444444444444444,
              "#bd3786"
             ],
             [
              0.5555555555555556,
              "#d8576b"
             ],
             [
              0.6666666666666666,
              "#ed7953"
             ],
             [
              0.7777777777777778,
              "#fb9f3a"
             ],
             [
              0.8888888888888888,
              "#fdca26"
             ],
             [
              1,
              "#f0f921"
             ]
            ],
            "type": "contour"
           }
          ],
          "contourcarpet": [
           {
            "colorbar": {
             "outlinewidth": 0,
             "ticks": ""
            },
            "type": "contourcarpet"
           }
          ],
          "heatmap": [
           {
            "colorbar": {
             "outlinewidth": 0,
             "ticks": ""
            },
            "colorscale": [
             [
              0,
              "#0d0887"
             ],
             [
              0.1111111111111111,
              "#46039f"
             ],
             [
              0.2222222222222222,
              "#7201a8"
             ],
             [
              0.3333333333333333,
              "#9c179e"
             ],
             [
              0.4444444444444444,
              "#bd3786"
             ],
             [
              0.5555555555555556,
              "#d8576b"
             ],
             [
              0.6666666666666666,
              "#ed7953"
             ],
             [
              0.7777777777777778,
              "#fb9f3a"
             ],
             [
              0.8888888888888888,
              "#fdca26"
             ],
             [
              1,
              "#f0f921"
             ]
            ],
            "type": "heatmap"
           }
          ],
          "heatmapgl": [
           {
            "colorbar": {
             "outlinewidth": 0,
             "ticks": ""
            },
            "colorscale": [
             [
              0,
              "#0d0887"
             ],
             [
              0.1111111111111111,
              "#46039f"
             ],
             [
              0.2222222222222222,
              "#7201a8"
             ],
             [
              0.3333333333333333,
              "#9c179e"
             ],
             [
              0.4444444444444444,
              "#bd3786"
             ],
             [
              0.5555555555555556,
              "#d8576b"
             ],
             [
              0.6666666666666666,
              "#ed7953"
             ],
             [
              0.7777777777777778,
              "#fb9f3a"
             ],
             [
              0.8888888888888888,
              "#fdca26"
             ],
             [
              1,
              "#f0f921"
             ]
            ],
            "type": "heatmapgl"
           }
          ],
          "histogram": [
           {
            "marker": {
             "pattern": {
              "fillmode": "overlay",
              "size": 10,
              "solidity": 0.2
             }
            },
            "type": "histogram"
           }
          ],
          "histogram2d": [
           {
            "colorbar": {
             "outlinewidth": 0,
             "ticks": ""
            },
            "colorscale": [
             [
              0,
              "#0d0887"
             ],
             [
              0.1111111111111111,
              "#46039f"
             ],
             [
              0.2222222222222222,
              "#7201a8"
             ],
             [
              0.3333333333333333,
              "#9c179e"
             ],
             [
              0.4444444444444444,
              "#bd3786"
             ],
             [
              0.5555555555555556,
              "#d8576b"
             ],
             [
              0.6666666666666666,
              "#ed7953"
             ],
             [
              0.7777777777777778,
              "#fb9f3a"
             ],
             [
              0.8888888888888888,
              "#fdca26"
             ],
             [
              1,
              "#f0f921"
             ]
            ],
            "type": "histogram2d"
           }
          ],
          "histogram2dcontour": [
           {
            "colorbar": {
             "outlinewidth": 0,
             "ticks": ""
            },
            "colorscale": [
             [
              0,
              "#0d0887"
             ],
             [
              0.1111111111111111,
              "#46039f"
             ],
             [
              0.2222222222222222,
              "#7201a8"
             ],
             [
              0.3333333333333333,
              "#9c179e"
             ],
             [
              0.4444444444444444,
              "#bd3786"
             ],
             [
              0.5555555555555556,
              "#d8576b"
             ],
             [
              0.6666666666666666,
              "#ed7953"
             ],
             [
              0.7777777777777778,
              "#fb9f3a"
             ],
             [
              0.8888888888888888,
              "#fdca26"
             ],
             [
              1,
              "#f0f921"
             ]
            ],
            "type": "histogram2dcontour"
           }
          ],
          "mesh3d": [
           {
            "colorbar": {
             "outlinewidth": 0,
             "ticks": ""
            },
            "type": "mesh3d"
           }
          ],
          "parcoords": [
           {
            "line": {
             "colorbar": {
              "outlinewidth": 0,
              "ticks": ""
             }
            },
            "type": "parcoords"
           }
          ],
          "pie": [
           {
            "automargin": true,
            "type": "pie"
           }
          ],
          "scatter": [
           {
            "fillpattern": {
             "fillmode": "overlay",
             "size": 10,
             "solidity": 0.2
            },
            "type": "scatter"
           }
          ],
          "scatter3d": [
           {
            "line": {
             "colorbar": {
              "outlinewidth": 0,
              "ticks": ""
             }
            },
            "marker": {
             "colorbar": {
              "outlinewidth": 0,
              "ticks": ""
             }
            },
            "type": "scatter3d"
           }
          ],
          "scattercarpet": [
           {
            "marker": {
             "colorbar": {
              "outlinewidth": 0,
              "ticks": ""
             }
            },
            "type": "scattercarpet"
           }
          ],
          "scattergeo": [
           {
            "marker": {
             "colorbar": {
              "outlinewidth": 0,
              "ticks": ""
             }
            },
            "type": "scattergeo"
           }
          ],
          "scattergl": [
           {
            "marker": {
             "colorbar": {
              "outlinewidth": 0,
              "ticks": ""
             }
            },
            "type": "scattergl"
           }
          ],
          "scattermapbox": [
           {
            "marker": {
             "colorbar": {
              "outlinewidth": 0,
              "ticks": ""
             }
            },
            "type": "scattermapbox"
           }
          ],
          "scatterpolar": [
           {
            "marker": {
             "colorbar": {
              "outlinewidth": 0,
              "ticks": ""
             }
            },
            "type": "scatterpolar"
           }
          ],
          "scatterpolargl": [
           {
            "marker": {
             "colorbar": {
              "outlinewidth": 0,
              "ticks": ""
             }
            },
            "type": "scatterpolargl"
           }
          ],
          "scatterternary": [
           {
            "marker": {
             "colorbar": {
              "outlinewidth": 0,
              "ticks": ""
             }
            },
            "type": "scatterternary"
           }
          ],
          "surface": [
           {
            "colorbar": {
             "outlinewidth": 0,
             "ticks": ""
            },
            "colorscale": [
             [
              0,
              "#0d0887"
             ],
             [
              0.1111111111111111,
              "#46039f"
             ],
             [
              0.2222222222222222,
              "#7201a8"
             ],
             [
              0.3333333333333333,
              "#9c179e"
             ],
             [
              0.4444444444444444,
              "#bd3786"
             ],
             [
              0.5555555555555556,
              "#d8576b"
             ],
             [
              0.6666666666666666,
              "#ed7953"
             ],
             [
              0.7777777777777778,
              "#fb9f3a"
             ],
             [
              0.8888888888888888,
              "#fdca26"
             ],
             [
              1,
              "#f0f921"
             ]
            ],
            "type": "surface"
           }
          ],
          "table": [
           {
            "cells": {
             "fill": {
              "color": "#EBF0F8"
             },
             "line": {
              "color": "white"
             }
            },
            "header": {
             "fill": {
              "color": "#C8D4E3"
             },
             "line": {
              "color": "white"
             }
            },
            "type": "table"
           }
          ]
         },
         "layout": {
          "annotationdefaults": {
           "arrowcolor": "#2a3f5f",
           "arrowhead": 0,
           "arrowwidth": 1
          },
          "autotypenumbers": "strict",
          "coloraxis": {
           "colorbar": {
            "outlinewidth": 0,
            "ticks": ""
           }
          },
          "colorscale": {
           "diverging": [
            [
             0,
             "#8e0152"
            ],
            [
             0.1,
             "#c51b7d"
            ],
            [
             0.2,
             "#de77ae"
            ],
            [
             0.3,
             "#f1b6da"
            ],
            [
             0.4,
             "#fde0ef"
            ],
            [
             0.5,
             "#f7f7f7"
            ],
            [
             0.6,
             "#e6f5d0"
            ],
            [
             0.7,
             "#b8e186"
            ],
            [
             0.8,
             "#7fbc41"
            ],
            [
             0.9,
             "#4d9221"
            ],
            [
             1,
             "#276419"
            ]
           ],
           "sequential": [
            [
             0,
             "#0d0887"
            ],
            [
             0.1111111111111111,
             "#46039f"
            ],
            [
             0.2222222222222222,
             "#7201a8"
            ],
            [
             0.3333333333333333,
             "#9c179e"
            ],
            [
             0.4444444444444444,
             "#bd3786"
            ],
            [
             0.5555555555555556,
             "#d8576b"
            ],
            [
             0.6666666666666666,
             "#ed7953"
            ],
            [
             0.7777777777777778,
             "#fb9f3a"
            ],
            [
             0.8888888888888888,
             "#fdca26"
            ],
            [
             1,
             "#f0f921"
            ]
           ],
           "sequentialminus": [
            [
             0,
             "#0d0887"
            ],
            [
             0.1111111111111111,
             "#46039f"
            ],
            [
             0.2222222222222222,
             "#7201a8"
            ],
            [
             0.3333333333333333,
             "#9c179e"
            ],
            [
             0.4444444444444444,
             "#bd3786"
            ],
            [
             0.5555555555555556,
             "#d8576b"
            ],
            [
             0.6666666666666666,
             "#ed7953"
            ],
            [
             0.7777777777777778,
             "#fb9f3a"
            ],
            [
             0.8888888888888888,
             "#fdca26"
            ],
            [
             1,
             "#f0f921"
            ]
           ]
          },
          "colorway": [
           "#636efa",
           "#EF553B",
           "#00cc96",
           "#ab63fa",
           "#FFA15A",
           "#19d3f3",
           "#FF6692",
           "#B6E880",
           "#FF97FF",
           "#FECB52"
          ],
          "font": {
           "color": "#2a3f5f"
          },
          "geo": {
           "bgcolor": "white",
           "lakecolor": "white",
           "landcolor": "#E5ECF6",
           "showlakes": true,
           "showland": true,
           "subunitcolor": "white"
          },
          "hoverlabel": {
           "align": "left"
          },
          "hovermode": "closest",
          "mapbox": {
           "style": "light"
          },
          "paper_bgcolor": "white",
          "plot_bgcolor": "#E5ECF6",
          "polar": {
           "angularaxis": {
            "gridcolor": "white",
            "linecolor": "white",
            "ticks": ""
           },
           "bgcolor": "#E5ECF6",
           "radialaxis": {
            "gridcolor": "white",
            "linecolor": "white",
            "ticks": ""
           }
          },
          "scene": {
           "xaxis": {
            "backgroundcolor": "#E5ECF6",
            "gridcolor": "white",
            "gridwidth": 2,
            "linecolor": "white",
            "showbackground": true,
            "ticks": "",
            "zerolinecolor": "white"
           },
           "yaxis": {
            "backgroundcolor": "#E5ECF6",
            "gridcolor": "white",
            "gridwidth": 2,
            "linecolor": "white",
            "showbackground": true,
            "ticks": "",
            "zerolinecolor": "white"
           },
           "zaxis": {
            "backgroundcolor": "#E5ECF6",
            "gridcolor": "white",
            "gridwidth": 2,
            "linecolor": "white",
            "showbackground": true,
            "ticks": "",
            "zerolinecolor": "white"
           }
          },
          "shapedefaults": {
           "line": {
            "color": "#2a3f5f"
           }
          },
          "ternary": {
           "aaxis": {
            "gridcolor": "white",
            "linecolor": "white",
            "ticks": ""
           },
           "baxis": {
            "gridcolor": "white",
            "linecolor": "white",
            "ticks": ""
           },
           "bgcolor": "#E5ECF6",
           "caxis": {
            "gridcolor": "white",
            "linecolor": "white",
            "ticks": ""
           }
          },
          "title": {
           "x": 0.05
          },
          "xaxis": {
           "automargin": true,
           "gridcolor": "white",
           "linecolor": "white",
           "ticks": "",
           "title": {
            "standoff": 15
           },
           "zerolinecolor": "white",
           "zerolinewidth": 2
          },
          "yaxis": {
           "automargin": true,
           "gridcolor": "white",
           "linecolor": "white",
           "ticks": "",
           "title": {
            "standoff": 15
           },
           "zerolinecolor": "white",
           "zerolinewidth": 2
          }
         }
        },
        "title": {
         "text": "Hyperparameter Importances"
        },
        "xaxis": {
         "title": {
          "text": "Hyperparameter Importance"
         }
        },
        "yaxis": {
         "title": {
          "text": "Hyperparameter"
         }
        }
       }
      },
      "text/html": [
       "<div>                            <div id=\"1bbbcb4e-68ed-4019-aac7-eb986bf922b6\" class=\"plotly-graph-div\" style=\"height:525px; width:100%;\"></div>            <script type=\"text/javascript\">                require([\"plotly\"], function(Plotly) {                    window.PLOTLYENV=window.PLOTLYENV || {};                                    if (document.getElementById(\"1bbbcb4e-68ed-4019-aac7-eb986bf922b6\")) {                    Plotly.newPlot(                        \"1bbbcb4e-68ed-4019-aac7-eb986bf922b6\",                        [{\"cliponaxis\":false,\"hovertemplate\":[\"arch.individual (CategoricalDistribution): 0.0021816289196625203\\u003cextra\\u003e\\u003c\\u002fextra\\u003e\",\"arch.attn_dropout (DiscreteUniformDistribution): 0.009253200522606614\\u003cextra\\u003e\\u003c\\u002fextra\\u003e\",\"arch.decomposition (CategoricalDistribution): 0.01105497633135348\\u003cextra\\u003e\\u003c\\u002fextra\\u003e\",\"init_weights (CategoricalDistribution): 0.02385469878013309\\u003cextra\\u003e\\u003c\\u002fextra\\u003e\",\"arch.d_model (IntUniformDistribution): 0.024503805372003373\\u003cextra\\u003e\\u003c\\u002fextra\\u003e\",\"arch.d_ff (IntUniformDistribution): 0.03343320910094243\\u003cextra\\u003e\\u003c\\u002fextra\\u003e\",\"arch.n_heads (CategoricalDistribution): 0.055331655245103285\\u003cextra\\u003e\\u003c\\u002fextra\\u003e\",\"lookback (CategoricalDistribution): 0.060389735739648065\\u003cextra\\u003e\\u003c\\u002fextra\\u003e\",\"arch.n_layers (IntUniformDistribution): 0.3170453732221617\\u003cextra\\u003e\\u003c\\u002fextra\\u003e\",\"arch.dropout (DiscreteUniformDistribution): 0.4629517167663855\\u003cextra\\u003e\\u003c\\u002fextra\\u003e\"],\"name\":\"Objective Value\",\"orientation\":\"h\",\"text\":[\"\\u003c0.01\",\"\\u003c0.01\",\"0.01\",\"0.02\",\"0.02\",\"0.03\",\"0.06\",\"0.06\",\"0.32\",\"0.46\"],\"textposition\":\"outside\",\"x\":[0.0021816289196625203,0.009253200522606614,0.01105497633135348,0.02385469878013309,0.024503805372003373,0.03343320910094243,0.055331655245103285,0.060389735739648065,0.3170453732221617,0.4629517167663855],\"y\":[\"arch.individual\",\"arch.attn_dropout\",\"arch.decomposition\",\"init_weights\",\"arch.d_model\",\"arch.d_ff\",\"arch.n_heads\",\"lookback\",\"arch.n_layers\",\"arch.dropout\"],\"type\":\"bar\"}],                        {\"title\":{\"text\":\"Hyperparameter Importances\"},\"xaxis\":{\"title\":{\"text\":\"Hyperparameter Importance\"}},\"yaxis\":{\"title\":{\"text\":\"Hyperparameter\"}},\"template\":{\"data\":{\"histogram2dcontour\":[{\"type\":\"histogram2dcontour\",\"colorbar\":{\"outlinewidth\":0,\"ticks\":\"\"},\"colorscale\":[[0.0,\"#0d0887\"],[0.1111111111111111,\"#46039f\"],[0.2222222222222222,\"#7201a8\"],[0.3333333333333333,\"#9c179e\"],[0.4444444444444444,\"#bd3786\"],[0.5555555555555556,\"#d8576b\"],[0.6666666666666666,\"#ed7953\"],[0.7777777777777778,\"#fb9f3a\"],[0.8888888888888888,\"#fdca26\"],[1.0,\"#f0f921\"]]}],\"choropleth\":[{\"type\":\"choropleth\",\"colorbar\":{\"outlinewidth\":0,\"ticks\":\"\"}}],\"histogram2d\":[{\"type\":\"histogram2d\",\"colorbar\":{\"outlinewidth\":0,\"ticks\":\"\"},\"colorscale\":[[0.0,\"#0d0887\"],[0.1111111111111111,\"#46039f\"],[0.2222222222222222,\"#7201a8\"],[0.3333333333333333,\"#9c179e\"],[0.4444444444444444,\"#bd3786\"],[0.5555555555555556,\"#d8576b\"],[0.6666666666666666,\"#ed7953\"],[0.7777777777777778,\"#fb9f3a\"],[0.8888888888888888,\"#fdca26\"],[1.0,\"#f0f921\"]]}],\"heatmap\":[{\"type\":\"heatmap\",\"colorbar\":{\"outlinewidth\":0,\"ticks\":\"\"},\"colorscale\":[[0.0,\"#0d0887\"],[0.1111111111111111,\"#46039f\"],[0.2222222222222222,\"#7201a8\"],[0.3333333333333333,\"#9c179e\"],[0.4444444444444444,\"#bd3786\"],[0.5555555555555556,\"#d8576b\"],[0.6666666666666666,\"#ed7953\"],[0.7777777777777778,\"#fb9f3a\"],[0.8888888888888888,\"#fdca26\"],[1.0,\"#f0f921\"]]}],\"heatmapgl\":[{\"type\":\"heatmapgl\",\"colorbar\":{\"outlinewidth\":0,\"ticks\":\"\"},\"colorscale\":[[0.0,\"#0d0887\"],[0.1111111111111111,\"#46039f\"],[0.2222222222222222,\"#7201a8\"],[0.3333333333333333,\"#9c179e\"],[0.4444444444444444,\"#bd3786\"],[0.5555555555555556,\"#d8576b\"],[0.6666666666666666,\"#ed7953\"],[0.7777777777777778,\"#fb9f3a\"],[0.8888888888888888,\"#fdca26\"],[1.0,\"#f0f921\"]]}],\"contourcarpet\":[{\"type\":\"contourcarpet\",\"colorbar\":{\"outlinewidth\":0,\"ticks\":\"\"}}],\"contour\":[{\"type\":\"contour\",\"colorbar\":{\"outlinewidth\":0,\"ticks\":\"\"},\"colorscale\":[[0.0,\"#0d0887\"],[0.1111111111111111,\"#46039f\"],[0.2222222222222222,\"#7201a8\"],[0.3333333333333333,\"#9c179e\"],[0.4444444444444444,\"#bd3786\"],[0.5555555555555556,\"#d8576b\"],[0.6666666666666666,\"#ed7953\"],[0.7777777777777778,\"#fb9f3a\"],[0.8888888888888888,\"#fdca26\"],[1.0,\"#f0f921\"]]}],\"surface\":[{\"type\":\"surface\",\"colorbar\":{\"outlinewidth\":0,\"ticks\":\"\"},\"colorscale\":[[0.0,\"#0d0887\"],[0.1111111111111111,\"#46039f\"],[0.2222222222222222,\"#7201a8\"],[0.3333333333333333,\"#9c179e\"],[0.4444444444444444,\"#bd3786\"],[0.5555555555555556,\"#d8576b\"],[0.6666666666666666,\"#ed7953\"],[0.7777777777777778,\"#fb9f3a\"],[0.8888888888888888,\"#fdca26\"],[1.0,\"#f0f921\"]]}],\"mesh3d\":[{\"type\":\"mesh3d\",\"colorbar\":{\"outlinewidth\":0,\"ticks\":\"\"}}],\"scatter\":[{\"fillpattern\":{\"fillmode\":\"overlay\",\"size\":10,\"solidity\":0.2},\"type\":\"scatter\"}],\"parcoords\":[{\"type\":\"parcoords\",\"line\":{\"colorbar\":{\"outlinewidth\":0,\"ticks\":\"\"}}}],\"scatterpolargl\":[{\"type\":\"scatterpolargl\",\"marker\":{\"colorbar\":{\"outlinewidth\":0,\"ticks\":\"\"}}}],\"bar\":[{\"error_x\":{\"color\":\"#2a3f5f\"},\"error_y\":{\"color\":\"#2a3f5f\"},\"marker\":{\"line\":{\"color\":\"#E5ECF6\",\"width\":0.5},\"pattern\":{\"fillmode\":\"overlay\",\"size\":10,\"solidity\":0.2}},\"type\":\"bar\"}],\"scattergeo\":[{\"type\":\"scattergeo\",\"marker\":{\"colorbar\":{\"outlinewidth\":0,\"ticks\":\"\"}}}],\"scatterpolar\":[{\"type\":\"scatterpolar\",\"marker\":{\"colorbar\":{\"outlinewidth\":0,\"ticks\":\"\"}}}],\"histogram\":[{\"marker\":{\"pattern\":{\"fillmode\":\"overlay\",\"size\":10,\"solidity\":0.2}},\"type\":\"histogram\"}],\"scattergl\":[{\"type\":\"scattergl\",\"marker\":{\"colorbar\":{\"outlinewidth\":0,\"ticks\":\"\"}}}],\"scatter3d\":[{\"type\":\"scatter3d\",\"line\":{\"colorbar\":{\"outlinewidth\":0,\"ticks\":\"\"}},\"marker\":{\"colorbar\":{\"outlinewidth\":0,\"ticks\":\"\"}}}],\"scattermapbox\":[{\"type\":\"scattermapbox\",\"marker\":{\"colorbar\":{\"outlinewidth\":0,\"ticks\":\"\"}}}],\"scatterternary\":[{\"type\":\"scatterternary\",\"marker\":{\"colorbar\":{\"outlinewidth\":0,\"ticks\":\"\"}}}],\"scattercarpet\":[{\"type\":\"scattercarpet\",\"marker\":{\"colorbar\":{\"outlinewidth\":0,\"ticks\":\"\"}}}],\"carpet\":[{\"aaxis\":{\"endlinecolor\":\"#2a3f5f\",\"gridcolor\":\"white\",\"linecolor\":\"white\",\"minorgridcolor\":\"white\",\"startlinecolor\":\"#2a3f5f\"},\"baxis\":{\"endlinecolor\":\"#2a3f5f\",\"gridcolor\":\"white\",\"linecolor\":\"white\",\"minorgridcolor\":\"white\",\"startlinecolor\":\"#2a3f5f\"},\"type\":\"carpet\"}],\"table\":[{\"cells\":{\"fill\":{\"color\":\"#EBF0F8\"},\"line\":{\"color\":\"white\"}},\"header\":{\"fill\":{\"color\":\"#C8D4E3\"},\"line\":{\"color\":\"white\"}},\"type\":\"table\"}],\"barpolar\":[{\"marker\":{\"line\":{\"color\":\"#E5ECF6\",\"width\":0.5},\"pattern\":{\"fillmode\":\"overlay\",\"size\":10,\"solidity\":0.2}},\"type\":\"barpolar\"}],\"pie\":[{\"automargin\":true,\"type\":\"pie\"}]},\"layout\":{\"autotypenumbers\":\"strict\",\"colorway\":[\"#636efa\",\"#EF553B\",\"#00cc96\",\"#ab63fa\",\"#FFA15A\",\"#19d3f3\",\"#FF6692\",\"#B6E880\",\"#FF97FF\",\"#FECB52\"],\"font\":{\"color\":\"#2a3f5f\"},\"hovermode\":\"closest\",\"hoverlabel\":{\"align\":\"left\"},\"paper_bgcolor\":\"white\",\"plot_bgcolor\":\"#E5ECF6\",\"polar\":{\"bgcolor\":\"#E5ECF6\",\"angularaxis\":{\"gridcolor\":\"white\",\"linecolor\":\"white\",\"ticks\":\"\"},\"radialaxis\":{\"gridcolor\":\"white\",\"linecolor\":\"white\",\"ticks\":\"\"}},\"ternary\":{\"bgcolor\":\"#E5ECF6\",\"aaxis\":{\"gridcolor\":\"white\",\"linecolor\":\"white\",\"ticks\":\"\"},\"baxis\":{\"gridcolor\":\"white\",\"linecolor\":\"white\",\"ticks\":\"\"},\"caxis\":{\"gridcolor\":\"white\",\"linecolor\":\"white\",\"ticks\":\"\"}},\"coloraxis\":{\"colorbar\":{\"outlinewidth\":0,\"ticks\":\"\"}},\"colorscale\":{\"sequential\":[[0.0,\"#0d0887\"],[0.1111111111111111,\"#46039f\"],[0.2222222222222222,\"#7201a8\"],[0.3333333333333333,\"#9c179e\"],[0.4444444444444444,\"#bd3786\"],[0.5555555555555556,\"#d8576b\"],[0.6666666666666666,\"#ed7953\"],[0.7777777777777778,\"#fb9f3a\"],[0.8888888888888888,\"#fdca26\"],[1.0,\"#f0f921\"]],\"sequentialminus\":[[0.0,\"#0d0887\"],[0.1111111111111111,\"#46039f\"],[0.2222222222222222,\"#7201a8\"],[0.3333333333333333,\"#9c179e\"],[0.4444444444444444,\"#bd3786\"],[0.5555555555555556,\"#d8576b\"],[0.6666666666666666,\"#ed7953\"],[0.7777777777777778,\"#fb9f3a\"],[0.8888888888888888,\"#fdca26\"],[1.0,\"#f0f921\"]],\"diverging\":[[0,\"#8e0152\"],[0.1,\"#c51b7d\"],[0.2,\"#de77ae\"],[0.3,\"#f1b6da\"],[0.4,\"#fde0ef\"],[0.5,\"#f7f7f7\"],[0.6,\"#e6f5d0\"],[0.7,\"#b8e186\"],[0.8,\"#7fbc41\"],[0.9,\"#4d9221\"],[1,\"#276419\"]]},\"xaxis\":{\"gridcolor\":\"white\",\"linecolor\":\"white\",\"ticks\":\"\",\"title\":{\"standoff\":15},\"zerolinecolor\":\"white\",\"automargin\":true,\"zerolinewidth\":2},\"yaxis\":{\"gridcolor\":\"white\",\"linecolor\":\"white\",\"ticks\":\"\",\"title\":{\"standoff\":15},\"zerolinecolor\":\"white\",\"automargin\":true,\"zerolinewidth\":2},\"scene\":{\"xaxis\":{\"backgroundcolor\":\"#E5ECF6\",\"gridcolor\":\"white\",\"linecolor\":\"white\",\"showbackground\":true,\"ticks\":\"\",\"zerolinecolor\":\"white\",\"gridwidth\":2},\"yaxis\":{\"backgroundcolor\":\"#E5ECF6\",\"gridcolor\":\"white\",\"linecolor\":\"white\",\"showbackground\":true,\"ticks\":\"\",\"zerolinecolor\":\"white\",\"gridwidth\":2},\"zaxis\":{\"backgroundcolor\":\"#E5ECF6\",\"gridcolor\":\"white\",\"linecolor\":\"white\",\"showbackground\":true,\"ticks\":\"\",\"zerolinecolor\":\"white\",\"gridwidth\":2}},\"shapedefaults\":{\"line\":{\"color\":\"#2a3f5f\"}},\"annotationdefaults\":{\"arrowcolor\":\"#2a3f5f\",\"arrowhead\":0,\"arrowwidth\":1},\"geo\":{\"bgcolor\":\"white\",\"landcolor\":\"#E5ECF6\",\"subunitcolor\":\"white\",\"showland\":true,\"showlakes\":true,\"lakecolor\":\"white\"},\"title\":{\"x\":0.05},\"mapbox\":{\"style\":\"light\"}}}},                        {\"responsive\": true}                    ).then(function(){\n",
       "                            \n",
       "var gd = document.getElementById('1bbbcb4e-68ed-4019-aac7-eb986bf922b6');\n",
       "var x = new MutationObserver(function (mutations, observer) {{\n",
       "        var display = window.getComputedStyle(gd).display;\n",
       "        if (!display || display === 'none') {{\n",
       "            console.log([gd, 'removed!']);\n",
       "            Plotly.purge(gd);\n",
       "            observer.disconnect();\n",
       "        }}\n",
       "}});\n",
       "\n",
       "// Listen for the removal of the full notebook cells\n",
       "var notebookContainer = gd.closest('#notebook-container');\n",
       "if (notebookContainer) {{\n",
       "    x.observe(notebookContainer, {childList: true});\n",
       "}}\n",
       "\n",
       "// Listen for the clearing of the current output cell\n",
       "var outputEl = gd.closest('.output');\n",
       "if (outputEl) {{\n",
       "    x.observe(outputEl, {childList: true});\n",
       "}}\n",
       "\n",
       "                        })                };                });            </script>        </div>"
      ]
     },
     "metadata": {},
     "output_type": "display_data"
    },
    {
     "data": {
      "application/vnd.plotly.v1+json": {
       "config": {
        "plotlyServerURL": "https://plot.ly"
       },
       "data": [
        {
         "marker": {
          "color": [
           0,
           1,
           2,
           3,
           4,
           5,
           6,
           7,
           8,
           9,
           10,
           11,
           12,
           13,
           14,
           15,
           16,
           17,
           18,
           19,
           20,
           21,
           22,
           23,
           24,
           25,
           26,
           27,
           28,
           29,
           30,
           31,
           32,
           33,
           34,
           35,
           36,
           37,
           38,
           39,
           40,
           41,
           42,
           43,
           44,
           45,
           46,
           47,
           48,
           49
          ],
          "colorbar": {
           "title": {
            "text": "Trial"
           },
           "x": 1,
           "xpad": 40
          },
          "colorscale": [
           [
            0,
            "rgb(247,251,255)"
           ],
           [
            0.125,
            "rgb(222,235,247)"
           ],
           [
            0.25,
            "rgb(198,219,239)"
           ],
           [
            0.375,
            "rgb(158,202,225)"
           ],
           [
            0.5,
            "rgb(107,174,214)"
           ],
           [
            0.625,
            "rgb(66,146,198)"
           ],
           [
            0.75,
            "rgb(33,113,181)"
           ],
           [
            0.875,
            "rgb(8,81,156)"
           ],
           [
            1,
            "rgb(8,48,107)"
           ]
          ],
          "line": {
           "color": "Grey",
           "width": 0.5
          },
          "showscale": true
         },
         "mode": "markers",
         "name": "Feasible Trial",
         "showlegend": false,
         "type": "scatter",
         "x": [
          0.30000000000000004,
          0.30000000000000004,
          0.30000000000000004,
          0,
          0.4,
          0.5,
          0.1,
          0.5,
          0,
          0.5,
          0.1,
          0.5,
          0,
          0.1,
          0.30000000000000004,
          0.5,
          0.5,
          0.5,
          0.4,
          0.4,
          0.2,
          0.4,
          0.4,
          0.5,
          0.4,
          0.4,
          0.30000000000000004,
          0.4,
          0.5,
          0.4,
          0.30000000000000004,
          0.2,
          0.4,
          0.5,
          0.30000000000000004,
          0.5,
          0.5,
          0.5,
          0.5,
          0.4,
          0.30000000000000004,
          0.2,
          0.4,
          0.4,
          0.2,
          0.1,
          0.2,
          0.1,
          0,
          0.1
         ],
         "xaxis": "x",
         "y": [
          53.8745002746582,
          56.3623046875,
          66.96858215332031,
          53.96190643310547,
          87.54707336425781,
          53.66898727416992,
          966.4979858398438,
          55.357505798339844,
          53.506797790527344,
          54.60464096069336,
          144.81268310546875,
          79.5726318359375,
          55.16278076171875,
          85.3478012084961,
          56.01045227050781,
          53.037086486816406,
          52.9732666015625,
          52.198368072509766,
          50.866783142089844,
          52.162715911865234,
          58.79143142700195,
          54.68820571899414,
          54.7037353515625,
          54.24106216430664,
          52.36500549316406,
          53.41546630859375,
          54.81644058227539,
          51.244049072265625,
          67.7056884765625,
          64.23854064941406,
          54.93380355834961,
          64.95043182373047,
          53.2070198059082,
          52.3698844909668,
          55.15299606323242,
          56.462074279785156,
          54.45306396484375,
          53.40592956542969,
          66.14729309082031,
          51.581092834472656,
          52.0120964050293,
          54.45484924316406,
          51.988094329833984,
          55.302616119384766,
          51.386505126953125,
          57.61300277709961,
          63.31104278564453,
          51.2218132019043,
          52.53421401977539,
          51.7860107421875
         ],
         "yaxis": "y"
        },
        {
         "marker": {
          "color": [
           0,
           1,
           2,
           3,
           4,
           5,
           6,
           7,
           8,
           9,
           10,
           11,
           12,
           13,
           14,
           15,
           16,
           17,
           18,
           19,
           20,
           21,
           22,
           23,
           24,
           25,
           26,
           27,
           28,
           29,
           30,
           31,
           32,
           33,
           34,
           35,
           36,
           37,
           38,
           39,
           40,
           41,
           42,
           43,
           44,
           45,
           46,
           47,
           48,
           49
          ],
          "colorbar": {
           "title": {
            "text": "Trial"
           },
           "x": 1,
           "xpad": 40
          },
          "colorscale": [
           [
            0,
            "rgb(247,251,255)"
           ],
           [
            0.125,
            "rgb(222,235,247)"
           ],
           [
            0.25,
            "rgb(198,219,239)"
           ],
           [
            0.375,
            "rgb(158,202,225)"
           ],
           [
            0.5,
            "rgb(107,174,214)"
           ],
           [
            0.625,
            "rgb(66,146,198)"
           ],
           [
            0.75,
            "rgb(33,113,181)"
           ],
           [
            0.875,
            "rgb(8,81,156)"
           ],
           [
            1,
            "rgb(8,48,107)"
           ]
          ],
          "line": {
           "color": "Grey",
           "width": 0.5
          },
          "showscale": false
         },
         "mode": "markers",
         "name": "Feasible Trial",
         "showlegend": false,
         "type": "scatter",
         "x": [
          512,
          256,
          64,
          128,
          416,
          384,
          352,
          192,
          384,
          512,
          320,
          448,
          352,
          480,
          256,
          160,
          128,
          128,
          32,
          128,
          192,
          64,
          32,
          128,
          192,
          96,
          64,
          96,
          192,
          160,
          256,
          96,
          32,
          64,
          64,
          64,
          224,
          192,
          224,
          32,
          64,
          224,
          32,
          32,
          128,
          160,
          64,
          64,
          96,
          160
         ],
         "xaxis": "x2",
         "y": [
          53.8745002746582,
          56.3623046875,
          66.96858215332031,
          53.96190643310547,
          87.54707336425781,
          53.66898727416992,
          966.4979858398438,
          55.357505798339844,
          53.506797790527344,
          54.60464096069336,
          144.81268310546875,
          79.5726318359375,
          55.16278076171875,
          85.3478012084961,
          56.01045227050781,
          53.037086486816406,
          52.9732666015625,
          52.198368072509766,
          50.866783142089844,
          52.162715911865234,
          58.79143142700195,
          54.68820571899414,
          54.7037353515625,
          54.24106216430664,
          52.36500549316406,
          53.41546630859375,
          54.81644058227539,
          51.244049072265625,
          67.7056884765625,
          64.23854064941406,
          54.93380355834961,
          64.95043182373047,
          53.2070198059082,
          52.3698844909668,
          55.15299606323242,
          56.462074279785156,
          54.45306396484375,
          53.40592956542969,
          66.14729309082031,
          51.581092834472656,
          52.0120964050293,
          54.45484924316406,
          51.988094329833984,
          55.302616119384766,
          51.386505126953125,
          57.61300277709961,
          63.31104278564453,
          51.2218132019043,
          52.53421401977539,
          51.7860107421875
         ],
         "yaxis": "y2"
        },
        {
         "marker": {
          "color": [
           0,
           1,
           2,
           3,
           4,
           5,
           6,
           7,
           8,
           9,
           10,
           11,
           12,
           13,
           14,
           15,
           16,
           17,
           18,
           19,
           20,
           21,
           22,
           23,
           24,
           25,
           26,
           27,
           28,
           29,
           30,
           31,
           32,
           33,
           34,
           35,
           36,
           37,
           38,
           39,
           40,
           41,
           42,
           43,
           44,
           45,
           46,
           47,
           48,
           49
          ],
          "colorbar": {
           "title": {
            "text": "Trial"
           },
           "x": 1,
           "xpad": 40
          },
          "colorscale": [
           [
            0,
            "rgb(247,251,255)"
           ],
           [
            0.125,
            "rgb(222,235,247)"
           ],
           [
            0.25,
            "rgb(198,219,239)"
           ],
           [
            0.375,
            "rgb(158,202,225)"
           ],
           [
            0.5,
            "rgb(107,174,214)"
           ],
           [
            0.625,
            "rgb(66,146,198)"
           ],
           [
            0.75,
            "rgb(33,113,181)"
           ],
           [
            0.875,
            "rgb(8,81,156)"
           ],
           [
            1,
            "rgb(8,48,107)"
           ]
          ],
          "line": {
           "color": "Grey",
           "width": 0.5
          },
          "showscale": false
         },
         "mode": "markers",
         "name": "Feasible Trial",
         "showlegend": false,
         "type": "scatter",
         "x": [
          288,
          512,
          256,
          192,
          160,
          448,
          416,
          416,
          64,
          96,
          192,
          480,
          64,
          32,
          384,
          448,
          448,
          512,
          512,
          512,
          448,
          512,
          384,
          512,
          480,
          480,
          480,
          352,
          448,
          352,
          512,
          320,
          192,
          416,
          384,
          480,
          512,
          384,
          512,
          512,
          384,
          480,
          480,
          448,
          320,
          288,
          320,
          192,
          192,
          224
         ],
         "xaxis": "x3",
         "y": [
          53.8745002746582,
          56.3623046875,
          66.96858215332031,
          53.96190643310547,
          87.54707336425781,
          53.66898727416992,
          966.4979858398438,
          55.357505798339844,
          53.506797790527344,
          54.60464096069336,
          144.81268310546875,
          79.5726318359375,
          55.16278076171875,
          85.3478012084961,
          56.01045227050781,
          53.037086486816406,
          52.9732666015625,
          52.198368072509766,
          50.866783142089844,
          52.162715911865234,
          58.79143142700195,
          54.68820571899414,
          54.7037353515625,
          54.24106216430664,
          52.36500549316406,
          53.41546630859375,
          54.81644058227539,
          51.244049072265625,
          67.7056884765625,
          64.23854064941406,
          54.93380355834961,
          64.95043182373047,
          53.2070198059082,
          52.3698844909668,
          55.15299606323242,
          56.462074279785156,
          54.45306396484375,
          53.40592956542969,
          66.14729309082031,
          51.581092834472656,
          52.0120964050293,
          54.45484924316406,
          51.988094329833984,
          55.302616119384766,
          51.386505126953125,
          57.61300277709961,
          63.31104278564453,
          51.2218132019043,
          52.53421401977539,
          51.7860107421875
         ],
         "yaxis": "y3"
        },
        {
         "marker": {
          "color": [
           0,
           1,
           2,
           3,
           4,
           5,
           6,
           7,
           8,
           9,
           10,
           11,
           12,
           13,
           14,
           15,
           16,
           17,
           18,
           19,
           20,
           21,
           22,
           23,
           24,
           25,
           26,
           27,
           28,
           29,
           30,
           31,
           32,
           33,
           34,
           35,
           36,
           37,
           38,
           39,
           40,
           41,
           42,
           43,
           44,
           45,
           46,
           47,
           48,
           49
          ],
          "colorbar": {
           "title": {
            "text": "Trial"
           },
           "x": 1,
           "xpad": 40
          },
          "colorscale": [
           [
            0,
            "rgb(247,251,255)"
           ],
           [
            0.125,
            "rgb(222,235,247)"
           ],
           [
            0.25,
            "rgb(198,219,239)"
           ],
           [
            0.375,
            "rgb(158,202,225)"
           ],
           [
            0.5,
            "rgb(107,174,214)"
           ],
           [
            0.625,
            "rgb(66,146,198)"
           ],
           [
            0.75,
            "rgb(33,113,181)"
           ],
           [
            0.875,
            "rgb(8,81,156)"
           ],
           [
            1,
            "rgb(8,48,107)"
           ]
          ],
          "line": {
           "color": "Grey",
           "width": 0.5
          },
          "showscale": false
         },
         "mode": "markers",
         "name": "Feasible Trial",
         "showlegend": false,
         "type": "scatter",
         "x": [
          false,
          true,
          false,
          true,
          false,
          false,
          true,
          true,
          false,
          true,
          false,
          false,
          false,
          true,
          false,
          false,
          true,
          false,
          false,
          false,
          false,
          false,
          false,
          true,
          false,
          true,
          false,
          false,
          false,
          false,
          true,
          false,
          false,
          false,
          true,
          false,
          false,
          false,
          false,
          false,
          false,
          false,
          false,
          false,
          false,
          false,
          false,
          true,
          true,
          true
         ],
         "xaxis": "x4",
         "y": [
          53.8745002746582,
          56.3623046875,
          66.96858215332031,
          53.96190643310547,
          87.54707336425781,
          53.66898727416992,
          966.4979858398438,
          55.357505798339844,
          53.506797790527344,
          54.60464096069336,
          144.81268310546875,
          79.5726318359375,
          55.16278076171875,
          85.3478012084961,
          56.01045227050781,
          53.037086486816406,
          52.9732666015625,
          52.198368072509766,
          50.866783142089844,
          52.162715911865234,
          58.79143142700195,
          54.68820571899414,
          54.7037353515625,
          54.24106216430664,
          52.36500549316406,
          53.41546630859375,
          54.81644058227539,
          51.244049072265625,
          67.7056884765625,
          64.23854064941406,
          54.93380355834961,
          64.95043182373047,
          53.2070198059082,
          52.3698844909668,
          55.15299606323242,
          56.462074279785156,
          54.45306396484375,
          53.40592956542969,
          66.14729309082031,
          51.581092834472656,
          52.0120964050293,
          54.45484924316406,
          51.988094329833984,
          55.302616119384766,
          51.386505126953125,
          57.61300277709961,
          63.31104278564453,
          51.2218132019043,
          52.53421401977539,
          51.7860107421875
         ],
         "yaxis": "y4"
        },
        {
         "marker": {
          "color": [
           0,
           1,
           2,
           3,
           4,
           5,
           6,
           7,
           8,
           9,
           10,
           11,
           12,
           13,
           14,
           15,
           16,
           17,
           18,
           19,
           20,
           21,
           22,
           23,
           24,
           25,
           26,
           27,
           28,
           29,
           30,
           31,
           32,
           33,
           34,
           35,
           36,
           37,
           38,
           39,
           40,
           41,
           42,
           43,
           44,
           45,
           46,
           47,
           48,
           49
          ],
          "colorbar": {
           "title": {
            "text": "Trial"
           },
           "x": 1,
           "xpad": 40
          },
          "colorscale": [
           [
            0,
            "rgb(247,251,255)"
           ],
           [
            0.125,
            "rgb(222,235,247)"
           ],
           [
            0.25,
            "rgb(198,219,239)"
           ],
           [
            0.375,
            "rgb(158,202,225)"
           ],
           [
            0.5,
            "rgb(107,174,214)"
           ],
           [
            0.625,
            "rgb(66,146,198)"
           ],
           [
            0.75,
            "rgb(33,113,181)"
           ],
           [
            0.875,
            "rgb(8,81,156)"
           ],
           [
            1,
            "rgb(8,48,107)"
           ]
          ],
          "line": {
           "color": "Grey",
           "width": 0.5
          },
          "showscale": false
         },
         "mode": "markers",
         "name": "Feasible Trial",
         "showlegend": false,
         "type": "scatter",
         "x": [
          0.30000000000000004,
          0.2,
          0.2,
          0.30000000000000004,
          0,
          0.30000000000000004,
          0,
          0.1,
          0.5,
          0.2,
          0.5,
          0.2,
          0.5,
          0.5,
          0.4,
          0.2,
          0.2,
          0.30000000000000004,
          0.5,
          0.5,
          0.5,
          0.5,
          0.5,
          0.5,
          0.5,
          0.5,
          0.5,
          0.5,
          0.5,
          0.4,
          0.5,
          0.5,
          0.5,
          0.4,
          0.4,
          0.5,
          0.30000000000000004,
          0.4,
          0.4,
          0.4,
          0.5,
          0.4,
          0.4,
          0.2,
          0.5,
          0.5,
          0.5,
          0.5,
          0.5,
          0.5
         ],
         "xaxis": "x5",
         "y": [
          53.8745002746582,
          56.3623046875,
          66.96858215332031,
          53.96190643310547,
          87.54707336425781,
          53.66898727416992,
          966.4979858398438,
          55.357505798339844,
          53.506797790527344,
          54.60464096069336,
          144.81268310546875,
          79.5726318359375,
          55.16278076171875,
          85.3478012084961,
          56.01045227050781,
          53.037086486816406,
          52.9732666015625,
          52.198368072509766,
          50.866783142089844,
          52.162715911865234,
          58.79143142700195,
          54.68820571899414,
          54.7037353515625,
          54.24106216430664,
          52.36500549316406,
          53.41546630859375,
          54.81644058227539,
          51.244049072265625,
          67.7056884765625,
          64.23854064941406,
          54.93380355834961,
          64.95043182373047,
          53.2070198059082,
          52.3698844909668,
          55.15299606323242,
          56.462074279785156,
          54.45306396484375,
          53.40592956542969,
          66.14729309082031,
          51.581092834472656,
          52.0120964050293,
          54.45484924316406,
          51.988094329833984,
          55.302616119384766,
          51.386505126953125,
          57.61300277709961,
          63.31104278564453,
          51.2218132019043,
          52.53421401977539,
          51.7860107421875
         ],
         "yaxis": "y5"
        },
        {
         "marker": {
          "color": [
           0,
           1,
           2,
           3,
           4,
           5,
           6,
           7,
           8,
           9,
           10,
           11,
           12,
           13,
           14,
           15,
           16,
           17,
           18,
           19,
           20,
           21,
           22,
           23,
           24,
           25,
           26,
           27,
           28,
           29,
           30,
           31,
           32,
           33,
           34,
           35,
           36,
           37,
           38,
           39,
           40,
           41,
           42,
           43,
           44,
           45,
           46,
           47,
           48,
           49
          ],
          "colorbar": {
           "title": {
            "text": "Trial"
           },
           "x": 1,
           "xpad": 40
          },
          "colorscale": [
           [
            0,
            "rgb(247,251,255)"
           ],
           [
            0.125,
            "rgb(222,235,247)"
           ],
           [
            0.25,
            "rgb(198,219,239)"
           ],
           [
            0.375,
            "rgb(158,202,225)"
           ],
           [
            0.5,
            "rgb(107,174,214)"
           ],
           [
            0.625,
            "rgb(66,146,198)"
           ],
           [
            0.75,
            "rgb(33,113,181)"
           ],
           [
            0.875,
            "rgb(8,81,156)"
           ],
           [
            1,
            "rgb(8,48,107)"
           ]
          ],
          "line": {
           "color": "Grey",
           "width": 0.5
          },
          "showscale": false
         },
         "mode": "markers",
         "name": "Feasible Trial",
         "showlegend": false,
         "type": "scatter",
         "x": [
          true,
          false,
          true,
          true,
          true,
          true,
          true,
          false,
          true,
          false,
          true,
          true,
          false,
          true,
          true,
          true,
          true,
          true,
          true,
          true,
          false,
          false,
          true,
          true,
          true,
          true,
          true,
          true,
          true,
          true,
          true,
          true,
          true,
          true,
          false,
          true,
          false,
          true,
          true,
          true,
          true,
          true,
          true,
          true,
          true,
          true,
          true,
          true,
          false,
          true
         ],
         "xaxis": "x6",
         "y": [
          53.8745002746582,
          56.3623046875,
          66.96858215332031,
          53.96190643310547,
          87.54707336425781,
          53.66898727416992,
          966.4979858398438,
          55.357505798339844,
          53.506797790527344,
          54.60464096069336,
          144.81268310546875,
          79.5726318359375,
          55.16278076171875,
          85.3478012084961,
          56.01045227050781,
          53.037086486816406,
          52.9732666015625,
          52.198368072509766,
          50.866783142089844,
          52.162715911865234,
          58.79143142700195,
          54.68820571899414,
          54.7037353515625,
          54.24106216430664,
          52.36500549316406,
          53.41546630859375,
          54.81644058227539,
          51.244049072265625,
          67.7056884765625,
          64.23854064941406,
          54.93380355834961,
          64.95043182373047,
          53.2070198059082,
          52.3698844909668,
          55.15299606323242,
          56.462074279785156,
          54.45306396484375,
          53.40592956542969,
          66.14729309082031,
          51.581092834472656,
          52.0120964050293,
          54.45484924316406,
          51.988094329833984,
          55.302616119384766,
          51.386505126953125,
          57.61300277709961,
          63.31104278564453,
          51.2218132019043,
          52.53421401977539,
          51.7860107421875
         ],
         "yaxis": "y6"
        },
        {
         "marker": {
          "color": [
           0,
           1,
           2,
           3,
           4,
           5,
           6,
           7,
           8,
           9,
           10,
           11,
           12,
           13,
           14,
           15,
           16,
           17,
           18,
           19,
           20,
           21,
           22,
           23,
           24,
           25,
           26,
           27,
           28,
           29,
           30,
           31,
           32,
           33,
           34,
           35,
           36,
           37,
           38,
           39,
           40,
           41,
           42,
           43,
           44,
           45,
           46,
           47,
           48,
           49
          ],
          "colorbar": {
           "title": {
            "text": "Trial"
           },
           "x": 1,
           "xpad": 40
          },
          "colorscale": [
           [
            0,
            "rgb(247,251,255)"
           ],
           [
            0.125,
            "rgb(222,235,247)"
           ],
           [
            0.25,
            "rgb(198,219,239)"
           ],
           [
            0.375,
            "rgb(158,202,225)"
           ],
           [
            0.5,
            "rgb(107,174,214)"
           ],
           [
            0.625,
            "rgb(66,146,198)"
           ],
           [
            0.75,
            "rgb(33,113,181)"
           ],
           [
            0.875,
            "rgb(8,81,156)"
           ],
           [
            1,
            "rgb(8,48,107)"
           ]
          ],
          "line": {
           "color": "Grey",
           "width": 0.5
          },
          "showscale": false
         },
         "mode": "markers",
         "name": "Feasible Trial",
         "showlegend": false,
         "type": "scatter",
         "x": [
          32,
          2,
          16,
          4,
          2,
          2,
          16,
          32,
          2,
          16,
          16,
          2,
          2,
          2,
          16,
          2,
          2,
          2,
          2,
          32,
          32,
          2,
          32,
          32,
          2,
          4,
          2,
          2,
          2,
          32,
          32,
          16,
          2,
          2,
          2,
          8,
          8,
          4,
          32,
          2,
          2,
          8,
          2,
          2,
          2,
          2,
          4,
          32,
          2,
          8
         ],
         "xaxis": "x7",
         "y": [
          53.8745002746582,
          56.3623046875,
          66.96858215332031,
          53.96190643310547,
          87.54707336425781,
          53.66898727416992,
          966.4979858398438,
          55.357505798339844,
          53.506797790527344,
          54.60464096069336,
          144.81268310546875,
          79.5726318359375,
          55.16278076171875,
          85.3478012084961,
          56.01045227050781,
          53.037086486816406,
          52.9732666015625,
          52.198368072509766,
          50.866783142089844,
          52.162715911865234,
          58.79143142700195,
          54.68820571899414,
          54.7037353515625,
          54.24106216430664,
          52.36500549316406,
          53.41546630859375,
          54.81644058227539,
          51.244049072265625,
          67.7056884765625,
          64.23854064941406,
          54.93380355834961,
          64.95043182373047,
          53.2070198059082,
          52.3698844909668,
          55.15299606323242,
          56.462074279785156,
          54.45306396484375,
          53.40592956542969,
          66.14729309082031,
          51.581092834472656,
          52.0120964050293,
          54.45484924316406,
          51.988094329833984,
          55.302616119384766,
          51.386505126953125,
          57.61300277709961,
          63.31104278564453,
          51.2218132019043,
          52.53421401977539,
          51.7860107421875
         ],
         "yaxis": "y7"
        },
        {
         "marker": {
          "color": [
           0,
           1,
           2,
           3,
           4,
           5,
           6,
           7,
           8,
           9,
           10,
           11,
           12,
           13,
           14,
           15,
           16,
           17,
           18,
           19,
           20,
           21,
           22,
           23,
           24,
           25,
           26,
           27,
           28,
           29,
           30,
           31,
           32,
           33,
           34,
           35,
           36,
           37,
           38,
           39,
           40,
           41,
           42,
           43,
           44,
           45,
           46,
           47,
           48,
           49
          ],
          "colorbar": {
           "title": {
            "text": "Trial"
           },
           "x": 1,
           "xpad": 40
          },
          "colorscale": [
           [
            0,
            "rgb(247,251,255)"
           ],
           [
            0.125,
            "rgb(222,235,247)"
           ],
           [
            0.25,
            "rgb(198,219,239)"
           ],
           [
            0.375,
            "rgb(158,202,225)"
           ],
           [
            0.5,
            "rgb(107,174,214)"
           ],
           [
            0.625,
            "rgb(66,146,198)"
           ],
           [
            0.75,
            "rgb(33,113,181)"
           ],
           [
            0.875,
            "rgb(8,81,156)"
           ],
           [
            1,
            "rgb(8,48,107)"
           ]
          ],
          "line": {
           "color": "Grey",
           "width": 0.5
          },
          "showscale": false
         },
         "mode": "markers",
         "name": "Feasible Trial",
         "showlegend": false,
         "type": "scatter",
         "x": [
          3,
          2,
          1,
          3,
          4,
          3,
          6,
          6,
          5,
          4,
          4,
          3,
          5,
          4,
          4,
          3,
          3,
          4,
          2,
          2,
          1,
          3,
          3,
          1,
          5,
          2,
          2,
          1,
          1,
          1,
          4,
          1,
          1,
          4,
          1,
          1,
          4,
          5,
          1,
          1,
          1,
          1,
          2,
          1,
          1,
          2,
          2,
          1,
          1,
          1
         ],
         "xaxis": "x8",
         "y": [
          53.8745002746582,
          56.3623046875,
          66.96858215332031,
          53.96190643310547,
          87.54707336425781,
          53.66898727416992,
          966.4979858398438,
          55.357505798339844,
          53.506797790527344,
          54.60464096069336,
          144.81268310546875,
          79.5726318359375,
          55.16278076171875,
          85.3478012084961,
          56.01045227050781,
          53.037086486816406,
          52.9732666015625,
          52.198368072509766,
          50.866783142089844,
          52.162715911865234,
          58.79143142700195,
          54.68820571899414,
          54.7037353515625,
          54.24106216430664,
          52.36500549316406,
          53.41546630859375,
          54.81644058227539,
          51.244049072265625,
          67.7056884765625,
          64.23854064941406,
          54.93380355834961,
          64.95043182373047,
          53.2070198059082,
          52.3698844909668,
          55.15299606323242,
          56.462074279785156,
          54.45306396484375,
          53.40592956542969,
          66.14729309082031,
          51.581092834472656,
          52.0120964050293,
          54.45484924316406,
          51.988094329833984,
          55.302616119384766,
          51.386505126953125,
          57.61300277709961,
          63.31104278564453,
          51.2218132019043,
          52.53421401977539,
          51.7860107421875
         ],
         "yaxis": "y8"
        },
        {
         "marker": {
          "color": [
           0,
           1,
           2,
           3,
           4,
           5,
           6,
           7,
           8,
           9,
           10,
           11,
           12,
           13,
           14,
           15,
           16,
           17,
           18,
           19,
           20,
           21,
           22,
           23,
           24,
           25,
           26,
           27,
           28,
           29,
           30,
           31,
           32,
           33,
           34,
           35,
           36,
           37,
           38,
           39,
           40,
           41,
           42,
           43,
           44,
           45,
           46,
           47,
           48,
           49
          ],
          "colorbar": {
           "title": {
            "text": "Trial"
           },
           "x": 1,
           "xpad": 40
          },
          "colorscale": [
           [
            0,
            "rgb(247,251,255)"
           ],
           [
            0.125,
            "rgb(222,235,247)"
           ],
           [
            0.25,
            "rgb(198,219,239)"
           ],
           [
            0.375,
            "rgb(158,202,225)"
           ],
           [
            0.5,
            "rgb(107,174,214)"
           ],
           [
            0.625,
            "rgb(66,146,198)"
           ],
           [
            0.75,
            "rgb(33,113,181)"
           ],
           [
            0.875,
            "rgb(8,81,156)"
           ],
           [
            1,
            "rgb(8,48,107)"
           ]
          ],
          "line": {
           "color": "Grey",
           "width": 0.5
          },
          "showscale": false
         },
         "mode": "markers",
         "name": "Feasible Trial",
         "showlegend": false,
         "type": "scatter",
         "x": [
          false,
          true,
          true,
          false,
          true,
          true,
          true,
          false,
          false,
          true,
          false,
          true,
          false,
          false,
          true,
          false,
          false,
          false,
          true,
          true,
          true,
          true,
          true,
          false,
          false,
          true,
          false,
          true,
          true,
          true,
          true,
          true,
          true,
          true,
          true,
          true,
          false,
          false,
          true,
          true,
          true,
          true,
          true,
          true,
          true,
          true,
          true,
          true,
          true,
          true
         ],
         "xaxis": "x9",
         "y": [
          53.8745002746582,
          56.3623046875,
          66.96858215332031,
          53.96190643310547,
          87.54707336425781,
          53.66898727416992,
          966.4979858398438,
          55.357505798339844,
          53.506797790527344,
          54.60464096069336,
          144.81268310546875,
          79.5726318359375,
          55.16278076171875,
          85.3478012084961,
          56.01045227050781,
          53.037086486816406,
          52.9732666015625,
          52.198368072509766,
          50.866783142089844,
          52.162715911865234,
          58.79143142700195,
          54.68820571899414,
          54.7037353515625,
          54.24106216430664,
          52.36500549316406,
          53.41546630859375,
          54.81644058227539,
          51.244049072265625,
          67.7056884765625,
          64.23854064941406,
          54.93380355834961,
          64.95043182373047,
          53.2070198059082,
          52.3698844909668,
          55.15299606323242,
          56.462074279785156,
          54.45306396484375,
          53.40592956542969,
          66.14729309082031,
          51.581092834472656,
          52.0120964050293,
          54.45484924316406,
          51.988094329833984,
          55.302616119384766,
          51.386505126953125,
          57.61300277709961,
          63.31104278564453,
          51.2218132019043,
          52.53421401977539,
          51.7860107421875
         ],
         "yaxis": "y9"
        },
        {
         "marker": {
          "color": [
           0,
           1,
           2,
           3,
           4,
           5,
           6,
           7,
           8,
           9,
           10,
           11,
           12,
           13,
           14,
           15,
           16,
           17,
           18,
           19,
           20,
           21,
           22,
           23,
           24,
           25,
           26,
           27,
           28,
           29,
           30,
           31,
           32,
           33,
           34,
           35,
           36,
           37,
           38,
           39,
           40,
           41,
           42,
           43,
           44,
           45,
           46,
           47,
           48,
           49
          ],
          "colorbar": {
           "title": {
            "text": "Trial"
           },
           "x": 1,
           "xpad": 40
          },
          "colorscale": [
           [
            0,
            "rgb(247,251,255)"
           ],
           [
            0.125,
            "rgb(222,235,247)"
           ],
           [
            0.25,
            "rgb(198,219,239)"
           ],
           [
            0.375,
            "rgb(158,202,225)"
           ],
           [
            0.5,
            "rgb(107,174,214)"
           ],
           [
            0.625,
            "rgb(66,146,198)"
           ],
           [
            0.75,
            "rgb(33,113,181)"
           ],
           [
            0.875,
            "rgb(8,81,156)"
           ],
           [
            1,
            "rgb(8,48,107)"
           ]
          ],
          "line": {
           "color": "Grey",
           "width": 0.5
          },
          "showscale": false
         },
         "mode": "markers",
         "name": "Feasible Trial",
         "showlegend": false,
         "type": "scatter",
         "x": [
          288,
          240,
          288,
          288,
          144,
          240,
          192,
          192,
          144,
          144,
          144,
          240,
          336,
          144,
          240,
          240,
          240,
          240,
          240,
          288,
          288,
          240,
          288,
          288,
          336,
          240,
          240,
          336,
          336,
          144,
          288,
          336,
          336,
          144,
          336,
          192,
          288,
          240,
          288,
          240,
          240,
          240,
          240,
          240,
          192,
          288,
          192,
          192,
          192,
          288
         ],
         "xaxis": "x10",
         "y": [
          53.8745002746582,
          56.3623046875,
          66.96858215332031,
          53.96190643310547,
          87.54707336425781,
          53.66898727416992,
          966.4979858398438,
          55.357505798339844,
          53.506797790527344,
          54.60464096069336,
          144.81268310546875,
          79.5726318359375,
          55.16278076171875,
          85.3478012084961,
          56.01045227050781,
          53.037086486816406,
          52.9732666015625,
          52.198368072509766,
          50.866783142089844,
          52.162715911865234,
          58.79143142700195,
          54.68820571899414,
          54.7037353515625,
          54.24106216430664,
          52.36500549316406,
          53.41546630859375,
          54.81644058227539,
          51.244049072265625,
          67.7056884765625,
          64.23854064941406,
          54.93380355834961,
          64.95043182373047,
          53.2070198059082,
          52.3698844909668,
          55.15299606323242,
          56.462074279785156,
          54.45306396484375,
          53.40592956542969,
          66.14729309082031,
          51.581092834472656,
          52.0120964050293,
          54.45484924316406,
          51.988094329833984,
          55.302616119384766,
          51.386505126953125,
          57.61300277709961,
          63.31104278564453,
          51.2218132019043,
          52.53421401977539,
          51.7860107421875
         ],
         "yaxis": "y10"
        }
       ],
       "layout": {
        "template": {
         "data": {
          "bar": [
           {
            "error_x": {
             "color": "#2a3f5f"
            },
            "error_y": {
             "color": "#2a3f5f"
            },
            "marker": {
             "line": {
              "color": "#E5ECF6",
              "width": 0.5
             },
             "pattern": {
              "fillmode": "overlay",
              "size": 10,
              "solidity": 0.2
             }
            },
            "type": "bar"
           }
          ],
          "barpolar": [
           {
            "marker": {
             "line": {
              "color": "#E5ECF6",
              "width": 0.5
             },
             "pattern": {
              "fillmode": "overlay",
              "size": 10,
              "solidity": 0.2
             }
            },
            "type": "barpolar"
           }
          ],
          "carpet": [
           {
            "aaxis": {
             "endlinecolor": "#2a3f5f",
             "gridcolor": "white",
             "linecolor": "white",
             "minorgridcolor": "white",
             "startlinecolor": "#2a3f5f"
            },
            "baxis": {
             "endlinecolor": "#2a3f5f",
             "gridcolor": "white",
             "linecolor": "white",
             "minorgridcolor": "white",
             "startlinecolor": "#2a3f5f"
            },
            "type": "carpet"
           }
          ],
          "choropleth": [
           {
            "colorbar": {
             "outlinewidth": 0,
             "ticks": ""
            },
            "type": "choropleth"
           }
          ],
          "contour": [
           {
            "colorbar": {
             "outlinewidth": 0,
             "ticks": ""
            },
            "colorscale": [
             [
              0,
              "#0d0887"
             ],
             [
              0.1111111111111111,
              "#46039f"
             ],
             [
              0.2222222222222222,
              "#7201a8"
             ],
             [
              0.3333333333333333,
              "#9c179e"
             ],
             [
              0.4444444444444444,
              "#bd3786"
             ],
             [
              0.5555555555555556,
              "#d8576b"
             ],
             [
              0.6666666666666666,
              "#ed7953"
             ],
             [
              0.7777777777777778,
              "#fb9f3a"
             ],
             [
              0.8888888888888888,
              "#fdca26"
             ],
             [
              1,
              "#f0f921"
             ]
            ],
            "type": "contour"
           }
          ],
          "contourcarpet": [
           {
            "colorbar": {
             "outlinewidth": 0,
             "ticks": ""
            },
            "type": "contourcarpet"
           }
          ],
          "heatmap": [
           {
            "colorbar": {
             "outlinewidth": 0,
             "ticks": ""
            },
            "colorscale": [
             [
              0,
              "#0d0887"
             ],
             [
              0.1111111111111111,
              "#46039f"
             ],
             [
              0.2222222222222222,
              "#7201a8"
             ],
             [
              0.3333333333333333,
              "#9c179e"
             ],
             [
              0.4444444444444444,
              "#bd3786"
             ],
             [
              0.5555555555555556,
              "#d8576b"
             ],
             [
              0.6666666666666666,
              "#ed7953"
             ],
             [
              0.7777777777777778,
              "#fb9f3a"
             ],
             [
              0.8888888888888888,
              "#fdca26"
             ],
             [
              1,
              "#f0f921"
             ]
            ],
            "type": "heatmap"
           }
          ],
          "heatmapgl": [
           {
            "colorbar": {
             "outlinewidth": 0,
             "ticks": ""
            },
            "colorscale": [
             [
              0,
              "#0d0887"
             ],
             [
              0.1111111111111111,
              "#46039f"
             ],
             [
              0.2222222222222222,
              "#7201a8"
             ],
             [
              0.3333333333333333,
              "#9c179e"
             ],
             [
              0.4444444444444444,
              "#bd3786"
             ],
             [
              0.5555555555555556,
              "#d8576b"
             ],
             [
              0.6666666666666666,
              "#ed7953"
             ],
             [
              0.7777777777777778,
              "#fb9f3a"
             ],
             [
              0.8888888888888888,
              "#fdca26"
             ],
             [
              1,
              "#f0f921"
             ]
            ],
            "type": "heatmapgl"
           }
          ],
          "histogram": [
           {
            "marker": {
             "pattern": {
              "fillmode": "overlay",
              "size": 10,
              "solidity": 0.2
             }
            },
            "type": "histogram"
           }
          ],
          "histogram2d": [
           {
            "colorbar": {
             "outlinewidth": 0,
             "ticks": ""
            },
            "colorscale": [
             [
              0,
              "#0d0887"
             ],
             [
              0.1111111111111111,
              "#46039f"
             ],
             [
              0.2222222222222222,
              "#7201a8"
             ],
             [
              0.3333333333333333,
              "#9c179e"
             ],
             [
              0.4444444444444444,
              "#bd3786"
             ],
             [
              0.5555555555555556,
              "#d8576b"
             ],
             [
              0.6666666666666666,
              "#ed7953"
             ],
             [
              0.7777777777777778,
              "#fb9f3a"
             ],
             [
              0.8888888888888888,
              "#fdca26"
             ],
             [
              1,
              "#f0f921"
             ]
            ],
            "type": "histogram2d"
           }
          ],
          "histogram2dcontour": [
           {
            "colorbar": {
             "outlinewidth": 0,
             "ticks": ""
            },
            "colorscale": [
             [
              0,
              "#0d0887"
             ],
             [
              0.1111111111111111,
              "#46039f"
             ],
             [
              0.2222222222222222,
              "#7201a8"
             ],
             [
              0.3333333333333333,
              "#9c179e"
             ],
             [
              0.4444444444444444,
              "#bd3786"
             ],
             [
              0.5555555555555556,
              "#d8576b"
             ],
             [
              0.6666666666666666,
              "#ed7953"
             ],
             [
              0.7777777777777778,
              "#fb9f3a"
             ],
             [
              0.8888888888888888,
              "#fdca26"
             ],
             [
              1,
              "#f0f921"
             ]
            ],
            "type": "histogram2dcontour"
           }
          ],
          "mesh3d": [
           {
            "colorbar": {
             "outlinewidth": 0,
             "ticks": ""
            },
            "type": "mesh3d"
           }
          ],
          "parcoords": [
           {
            "line": {
             "colorbar": {
              "outlinewidth": 0,
              "ticks": ""
             }
            },
            "type": "parcoords"
           }
          ],
          "pie": [
           {
            "automargin": true,
            "type": "pie"
           }
          ],
          "scatter": [
           {
            "fillpattern": {
             "fillmode": "overlay",
             "size": 10,
             "solidity": 0.2
            },
            "type": "scatter"
           }
          ],
          "scatter3d": [
           {
            "line": {
             "colorbar": {
              "outlinewidth": 0,
              "ticks": ""
             }
            },
            "marker": {
             "colorbar": {
              "outlinewidth": 0,
              "ticks": ""
             }
            },
            "type": "scatter3d"
           }
          ],
          "scattercarpet": [
           {
            "marker": {
             "colorbar": {
              "outlinewidth": 0,
              "ticks": ""
             }
            },
            "type": "scattercarpet"
           }
          ],
          "scattergeo": [
           {
            "marker": {
             "colorbar": {
              "outlinewidth": 0,
              "ticks": ""
             }
            },
            "type": "scattergeo"
           }
          ],
          "scattergl": [
           {
            "marker": {
             "colorbar": {
              "outlinewidth": 0,
              "ticks": ""
             }
            },
            "type": "scattergl"
           }
          ],
          "scattermapbox": [
           {
            "marker": {
             "colorbar": {
              "outlinewidth": 0,
              "ticks": ""
             }
            },
            "type": "scattermapbox"
           }
          ],
          "scatterpolar": [
           {
            "marker": {
             "colorbar": {
              "outlinewidth": 0,
              "ticks": ""
             }
            },
            "type": "scatterpolar"
           }
          ],
          "scatterpolargl": [
           {
            "marker": {
             "colorbar": {
              "outlinewidth": 0,
              "ticks": ""
             }
            },
            "type": "scatterpolargl"
           }
          ],
          "scatterternary": [
           {
            "marker": {
             "colorbar": {
              "outlinewidth": 0,
              "ticks": ""
             }
            },
            "type": "scatterternary"
           }
          ],
          "surface": [
           {
            "colorbar": {
             "outlinewidth": 0,
             "ticks": ""
            },
            "colorscale": [
             [
              0,
              "#0d0887"
             ],
             [
              0.1111111111111111,
              "#46039f"
             ],
             [
              0.2222222222222222,
              "#7201a8"
             ],
             [
              0.3333333333333333,
              "#9c179e"
             ],
             [
              0.4444444444444444,
              "#bd3786"
             ],
             [
              0.5555555555555556,
              "#d8576b"
             ],
             [
              0.6666666666666666,
              "#ed7953"
             ],
             [
              0.7777777777777778,
              "#fb9f3a"
             ],
             [
              0.8888888888888888,
              "#fdca26"
             ],
             [
              1,
              "#f0f921"
             ]
            ],
            "type": "surface"
           }
          ],
          "table": [
           {
            "cells": {
             "fill": {
              "color": "#EBF0F8"
             },
             "line": {
              "color": "white"
             }
            },
            "header": {
             "fill": {
              "color": "#C8D4E3"
             },
             "line": {
              "color": "white"
             }
            },
            "type": "table"
           }
          ]
         },
         "layout": {
          "annotationdefaults": {
           "arrowcolor": "#2a3f5f",
           "arrowhead": 0,
           "arrowwidth": 1
          },
          "autotypenumbers": "strict",
          "coloraxis": {
           "colorbar": {
            "outlinewidth": 0,
            "ticks": ""
           }
          },
          "colorscale": {
           "diverging": [
            [
             0,
             "#8e0152"
            ],
            [
             0.1,
             "#c51b7d"
            ],
            [
             0.2,
             "#de77ae"
            ],
            [
             0.3,
             "#f1b6da"
            ],
            [
             0.4,
             "#fde0ef"
            ],
            [
             0.5,
             "#f7f7f7"
            ],
            [
             0.6,
             "#e6f5d0"
            ],
            [
             0.7,
             "#b8e186"
            ],
            [
             0.8,
             "#7fbc41"
            ],
            [
             0.9,
             "#4d9221"
            ],
            [
             1,
             "#276419"
            ]
           ],
           "sequential": [
            [
             0,
             "#0d0887"
            ],
            [
             0.1111111111111111,
             "#46039f"
            ],
            [
             0.2222222222222222,
             "#7201a8"
            ],
            [
             0.3333333333333333,
             "#9c179e"
            ],
            [
             0.4444444444444444,
             "#bd3786"
            ],
            [
             0.5555555555555556,
             "#d8576b"
            ],
            [
             0.6666666666666666,
             "#ed7953"
            ],
            [
             0.7777777777777778,
             "#fb9f3a"
            ],
            [
             0.8888888888888888,
             "#fdca26"
            ],
            [
             1,
             "#f0f921"
            ]
           ],
           "sequentialminus": [
            [
             0,
             "#0d0887"
            ],
            [
             0.1111111111111111,
             "#46039f"
            ],
            [
             0.2222222222222222,
             "#7201a8"
            ],
            [
             0.3333333333333333,
             "#9c179e"
            ],
            [
             0.4444444444444444,
             "#bd3786"
            ],
            [
             0.5555555555555556,
             "#d8576b"
            ],
            [
             0.6666666666666666,
             "#ed7953"
            ],
            [
             0.7777777777777778,
             "#fb9f3a"
            ],
            [
             0.8888888888888888,
             "#fdca26"
            ],
            [
             1,
             "#f0f921"
            ]
           ]
          },
          "colorway": [
           "#636efa",
           "#EF553B",
           "#00cc96",
           "#ab63fa",
           "#FFA15A",
           "#19d3f3",
           "#FF6692",
           "#B6E880",
           "#FF97FF",
           "#FECB52"
          ],
          "font": {
           "color": "#2a3f5f"
          },
          "geo": {
           "bgcolor": "white",
           "lakecolor": "white",
           "landcolor": "#E5ECF6",
           "showlakes": true,
           "showland": true,
           "subunitcolor": "white"
          },
          "hoverlabel": {
           "align": "left"
          },
          "hovermode": "closest",
          "mapbox": {
           "style": "light"
          },
          "paper_bgcolor": "white",
          "plot_bgcolor": "#E5ECF6",
          "polar": {
           "angularaxis": {
            "gridcolor": "white",
            "linecolor": "white",
            "ticks": ""
           },
           "bgcolor": "#E5ECF6",
           "radialaxis": {
            "gridcolor": "white",
            "linecolor": "white",
            "ticks": ""
           }
          },
          "scene": {
           "xaxis": {
            "backgroundcolor": "#E5ECF6",
            "gridcolor": "white",
            "gridwidth": 2,
            "linecolor": "white",
            "showbackground": true,
            "ticks": "",
            "zerolinecolor": "white"
           },
           "yaxis": {
            "backgroundcolor": "#E5ECF6",
            "gridcolor": "white",
            "gridwidth": 2,
            "linecolor": "white",
            "showbackground": true,
            "ticks": "",
            "zerolinecolor": "white"
           },
           "zaxis": {
            "backgroundcolor": "#E5ECF6",
            "gridcolor": "white",
            "gridwidth": 2,
            "linecolor": "white",
            "showbackground": true,
            "ticks": "",
            "zerolinecolor": "white"
           }
          },
          "shapedefaults": {
           "line": {
            "color": "#2a3f5f"
           }
          },
          "ternary": {
           "aaxis": {
            "gridcolor": "white",
            "linecolor": "white",
            "ticks": ""
           },
           "baxis": {
            "gridcolor": "white",
            "linecolor": "white",
            "ticks": ""
           },
           "bgcolor": "#E5ECF6",
           "caxis": {
            "gridcolor": "white",
            "linecolor": "white",
            "ticks": ""
           }
          },
          "title": {
           "x": 0.05
          },
          "xaxis": {
           "automargin": true,
           "gridcolor": "white",
           "linecolor": "white",
           "ticks": "",
           "title": {
            "standoff": 15
           },
           "zerolinecolor": "white",
           "zerolinewidth": 2
          },
          "yaxis": {
           "automargin": true,
           "gridcolor": "white",
           "linecolor": "white",
           "ticks": "",
           "title": {
            "standoff": 15
           },
           "zerolinecolor": "white",
           "zerolinewidth": 2
          }
         }
        },
        "title": {
         "text": "Slice Plot"
        },
        "width": 3000,
        "xaxis": {
         "anchor": "y",
         "domain": [
          0,
          0.082
         ],
         "title": {
          "text": "arch.attn_dropout"
         }
        },
        "xaxis10": {
         "anchor": "y10",
         "categoryarray": [
          144,
          192,
          240,
          288,
          336
         ],
         "categoryorder": "array",
         "domain": [
          0.9179999999999999,
          0.9999999999999999
         ],
         "title": {
          "text": "lookback"
         },
         "type": "category"
        },
        "xaxis2": {
         "anchor": "y2",
         "domain": [
          0.10200000000000001,
          0.184
         ],
         "title": {
          "text": "arch.d_ff"
         }
        },
        "xaxis3": {
         "anchor": "y3",
         "domain": [
          0.20400000000000001,
          0.28600000000000003
         ],
         "title": {
          "text": "arch.d_model"
         }
        },
        "xaxis4": {
         "anchor": "y4",
         "categoryarray": [
          true,
          false
         ],
         "categoryorder": "array",
         "domain": [
          0.306,
          0.388
         ],
         "title": {
          "text": "arch.decomposition"
         },
         "type": "category"
        },
        "xaxis5": {
         "anchor": "y5",
         "domain": [
          0.40800000000000003,
          0.49000000000000005
         ],
         "title": {
          "text": "arch.dropout"
         }
        },
        "xaxis6": {
         "anchor": "y6",
         "categoryarray": [
          true,
          false
         ],
         "categoryorder": "array",
         "domain": [
          0.51,
          0.592
         ],
         "title": {
          "text": "arch.individual"
         },
         "type": "category"
        },
        "xaxis7": {
         "anchor": "y7",
         "categoryarray": [
          2,
          4,
          8,
          16,
          32
         ],
         "categoryorder": "array",
         "domain": [
          0.6120000000000001,
          0.6940000000000001
         ],
         "title": {
          "text": "arch.n_heads"
         },
         "type": "category"
        },
        "xaxis8": {
         "anchor": "y8",
         "domain": [
          0.7140000000000001,
          0.796
         ],
         "title": {
          "text": "arch.n_layers"
         }
        },
        "xaxis9": {
         "anchor": "y9",
         "categoryarray": [
          true,
          false
         ],
         "categoryorder": "array",
         "domain": [
          0.8160000000000001,
          0.898
         ],
         "title": {
          "text": "init_weights"
         },
         "type": "category"
        },
        "yaxis": {
         "anchor": "x",
         "domain": [
          0,
          1
         ],
         "title": {
          "text": "Objective Value"
         }
        },
        "yaxis10": {
         "anchor": "x10",
         "domain": [
          0,
          1
         ],
         "matches": "y",
         "showticklabels": false
        },
        "yaxis2": {
         "anchor": "x2",
         "domain": [
          0,
          1
         ],
         "matches": "y",
         "showticklabels": false
        },
        "yaxis3": {
         "anchor": "x3",
         "domain": [
          0,
          1
         ],
         "matches": "y",
         "showticklabels": false
        },
        "yaxis4": {
         "anchor": "x4",
         "domain": [
          0,
          1
         ],
         "matches": "y",
         "showticklabels": false
        },
        "yaxis5": {
         "anchor": "x5",
         "domain": [
          0,
          1
         ],
         "matches": "y",
         "showticklabels": false
        },
        "yaxis6": {
         "anchor": "x6",
         "domain": [
          0,
          1
         ],
         "matches": "y",
         "showticklabels": false
        },
        "yaxis7": {
         "anchor": "x7",
         "domain": [
          0,
          1
         ],
         "matches": "y",
         "showticklabels": false
        },
        "yaxis8": {
         "anchor": "x8",
         "domain": [
          0,
          1
         ],
         "matches": "y",
         "showticklabels": false
        },
        "yaxis9": {
         "anchor": "x9",
         "domain": [
          0,
          1
         ],
         "matches": "y",
         "showticklabels": false
        }
       }
      },
      "text/html": [
       "<div>                            <div id=\"23ce1b18-160e-48e6-a39c-ff8c8adb9310\" class=\"plotly-graph-div\" style=\"height:525px; width:3000px;\"></div>            <script type=\"text/javascript\">                require([\"plotly\"], function(Plotly) {                    window.PLOTLYENV=window.PLOTLYENV || {};                                    if (document.getElementById(\"23ce1b18-160e-48e6-a39c-ff8c8adb9310\")) {                    Plotly.newPlot(                        \"23ce1b18-160e-48e6-a39c-ff8c8adb9310\",                        [{\"marker\":{\"color\":[0,1,2,3,4,5,6,7,8,9,10,11,12,13,14,15,16,17,18,19,20,21,22,23,24,25,26,27,28,29,30,31,32,33,34,35,36,37,38,39,40,41,42,43,44,45,46,47,48,49],\"colorbar\":{\"title\":{\"text\":\"Trial\"},\"x\":1.0,\"xpad\":40},\"colorscale\":[[0.0,\"rgb(247,251,255)\"],[0.125,\"rgb(222,235,247)\"],[0.25,\"rgb(198,219,239)\"],[0.375,\"rgb(158,202,225)\"],[0.5,\"rgb(107,174,214)\"],[0.625,\"rgb(66,146,198)\"],[0.75,\"rgb(33,113,181)\"],[0.875,\"rgb(8,81,156)\"],[1.0,\"rgb(8,48,107)\"]],\"line\":{\"color\":\"Grey\",\"width\":0.5},\"showscale\":true},\"mode\":\"markers\",\"name\":\"Feasible Trial\",\"showlegend\":false,\"x\":[0.30000000000000004,0.30000000000000004,0.30000000000000004,0.0,0.4,0.5,0.1,0.5,0.0,0.5,0.1,0.5,0.0,0.1,0.30000000000000004,0.5,0.5,0.5,0.4,0.4,0.2,0.4,0.4,0.5,0.4,0.4,0.30000000000000004,0.4,0.5,0.4,0.30000000000000004,0.2,0.4,0.5,0.30000000000000004,0.5,0.5,0.5,0.5,0.4,0.30000000000000004,0.2,0.4,0.4,0.2,0.1,0.2,0.1,0.0,0.1],\"y\":[53.8745002746582,56.3623046875,66.96858215332031,53.96190643310547,87.54707336425781,53.66898727416992,966.4979858398438,55.357505798339844,53.506797790527344,54.60464096069336,144.81268310546875,79.5726318359375,55.16278076171875,85.3478012084961,56.01045227050781,53.037086486816406,52.9732666015625,52.198368072509766,50.866783142089844,52.162715911865234,58.79143142700195,54.68820571899414,54.7037353515625,54.24106216430664,52.36500549316406,53.41546630859375,54.81644058227539,51.244049072265625,67.7056884765625,64.23854064941406,54.93380355834961,64.95043182373047,53.2070198059082,52.3698844909668,55.15299606323242,56.462074279785156,54.45306396484375,53.40592956542969,66.14729309082031,51.581092834472656,52.0120964050293,54.45484924316406,51.988094329833984,55.302616119384766,51.386505126953125,57.61300277709961,63.31104278564453,51.2218132019043,52.53421401977539,51.7860107421875],\"type\":\"scatter\",\"xaxis\":\"x\",\"yaxis\":\"y\"},{\"marker\":{\"color\":[0,1,2,3,4,5,6,7,8,9,10,11,12,13,14,15,16,17,18,19,20,21,22,23,24,25,26,27,28,29,30,31,32,33,34,35,36,37,38,39,40,41,42,43,44,45,46,47,48,49],\"colorbar\":{\"title\":{\"text\":\"Trial\"},\"x\":1.0,\"xpad\":40},\"colorscale\":[[0.0,\"rgb(247,251,255)\"],[0.125,\"rgb(222,235,247)\"],[0.25,\"rgb(198,219,239)\"],[0.375,\"rgb(158,202,225)\"],[0.5,\"rgb(107,174,214)\"],[0.625,\"rgb(66,146,198)\"],[0.75,\"rgb(33,113,181)\"],[0.875,\"rgb(8,81,156)\"],[1.0,\"rgb(8,48,107)\"]],\"line\":{\"color\":\"Grey\",\"width\":0.5},\"showscale\":false},\"mode\":\"markers\",\"name\":\"Feasible Trial\",\"showlegend\":false,\"x\":[512,256,64,128,416,384,352,192,384,512,320,448,352,480,256,160,128,128,32,128,192,64,32,128,192,96,64,96,192,160,256,96,32,64,64,64,224,192,224,32,64,224,32,32,128,160,64,64,96,160],\"y\":[53.8745002746582,56.3623046875,66.96858215332031,53.96190643310547,87.54707336425781,53.66898727416992,966.4979858398438,55.357505798339844,53.506797790527344,54.60464096069336,144.81268310546875,79.5726318359375,55.16278076171875,85.3478012084961,56.01045227050781,53.037086486816406,52.9732666015625,52.198368072509766,50.866783142089844,52.162715911865234,58.79143142700195,54.68820571899414,54.7037353515625,54.24106216430664,52.36500549316406,53.41546630859375,54.81644058227539,51.244049072265625,67.7056884765625,64.23854064941406,54.93380355834961,64.95043182373047,53.2070198059082,52.3698844909668,55.15299606323242,56.462074279785156,54.45306396484375,53.40592956542969,66.14729309082031,51.581092834472656,52.0120964050293,54.45484924316406,51.988094329833984,55.302616119384766,51.386505126953125,57.61300277709961,63.31104278564453,51.2218132019043,52.53421401977539,51.7860107421875],\"type\":\"scatter\",\"xaxis\":\"x2\",\"yaxis\":\"y2\"},{\"marker\":{\"color\":[0,1,2,3,4,5,6,7,8,9,10,11,12,13,14,15,16,17,18,19,20,21,22,23,24,25,26,27,28,29,30,31,32,33,34,35,36,37,38,39,40,41,42,43,44,45,46,47,48,49],\"colorbar\":{\"title\":{\"text\":\"Trial\"},\"x\":1.0,\"xpad\":40},\"colorscale\":[[0.0,\"rgb(247,251,255)\"],[0.125,\"rgb(222,235,247)\"],[0.25,\"rgb(198,219,239)\"],[0.375,\"rgb(158,202,225)\"],[0.5,\"rgb(107,174,214)\"],[0.625,\"rgb(66,146,198)\"],[0.75,\"rgb(33,113,181)\"],[0.875,\"rgb(8,81,156)\"],[1.0,\"rgb(8,48,107)\"]],\"line\":{\"color\":\"Grey\",\"width\":0.5},\"showscale\":false},\"mode\":\"markers\",\"name\":\"Feasible Trial\",\"showlegend\":false,\"x\":[288,512,256,192,160,448,416,416,64,96,192,480,64,32,384,448,448,512,512,512,448,512,384,512,480,480,480,352,448,352,512,320,192,416,384,480,512,384,512,512,384,480,480,448,320,288,320,192,192,224],\"y\":[53.8745002746582,56.3623046875,66.96858215332031,53.96190643310547,87.54707336425781,53.66898727416992,966.4979858398438,55.357505798339844,53.506797790527344,54.60464096069336,144.81268310546875,79.5726318359375,55.16278076171875,85.3478012084961,56.01045227050781,53.037086486816406,52.9732666015625,52.198368072509766,50.866783142089844,52.162715911865234,58.79143142700195,54.68820571899414,54.7037353515625,54.24106216430664,52.36500549316406,53.41546630859375,54.81644058227539,51.244049072265625,67.7056884765625,64.23854064941406,54.93380355834961,64.95043182373047,53.2070198059082,52.3698844909668,55.15299606323242,56.462074279785156,54.45306396484375,53.40592956542969,66.14729309082031,51.581092834472656,52.0120964050293,54.45484924316406,51.988094329833984,55.302616119384766,51.386505126953125,57.61300277709961,63.31104278564453,51.2218132019043,52.53421401977539,51.7860107421875],\"type\":\"scatter\",\"xaxis\":\"x3\",\"yaxis\":\"y3\"},{\"marker\":{\"color\":[0,1,2,3,4,5,6,7,8,9,10,11,12,13,14,15,16,17,18,19,20,21,22,23,24,25,26,27,28,29,30,31,32,33,34,35,36,37,38,39,40,41,42,43,44,45,46,47,48,49],\"colorbar\":{\"title\":{\"text\":\"Trial\"},\"x\":1.0,\"xpad\":40},\"colorscale\":[[0.0,\"rgb(247,251,255)\"],[0.125,\"rgb(222,235,247)\"],[0.25,\"rgb(198,219,239)\"],[0.375,\"rgb(158,202,225)\"],[0.5,\"rgb(107,174,214)\"],[0.625,\"rgb(66,146,198)\"],[0.75,\"rgb(33,113,181)\"],[0.875,\"rgb(8,81,156)\"],[1.0,\"rgb(8,48,107)\"]],\"line\":{\"color\":\"Grey\",\"width\":0.5},\"showscale\":false},\"mode\":\"markers\",\"name\":\"Feasible Trial\",\"showlegend\":false,\"x\":[false,true,false,true,false,false,true,true,false,true,false,false,false,true,false,false,true,false,false,false,false,false,false,true,false,true,false,false,false,false,true,false,false,false,true,false,false,false,false,false,false,false,false,false,false,false,false,true,true,true],\"y\":[53.8745002746582,56.3623046875,66.96858215332031,53.96190643310547,87.54707336425781,53.66898727416992,966.4979858398438,55.357505798339844,53.506797790527344,54.60464096069336,144.81268310546875,79.5726318359375,55.16278076171875,85.3478012084961,56.01045227050781,53.037086486816406,52.9732666015625,52.198368072509766,50.866783142089844,52.162715911865234,58.79143142700195,54.68820571899414,54.7037353515625,54.24106216430664,52.36500549316406,53.41546630859375,54.81644058227539,51.244049072265625,67.7056884765625,64.23854064941406,54.93380355834961,64.95043182373047,53.2070198059082,52.3698844909668,55.15299606323242,56.462074279785156,54.45306396484375,53.40592956542969,66.14729309082031,51.581092834472656,52.0120964050293,54.45484924316406,51.988094329833984,55.302616119384766,51.386505126953125,57.61300277709961,63.31104278564453,51.2218132019043,52.53421401977539,51.7860107421875],\"type\":\"scatter\",\"xaxis\":\"x4\",\"yaxis\":\"y4\"},{\"marker\":{\"color\":[0,1,2,3,4,5,6,7,8,9,10,11,12,13,14,15,16,17,18,19,20,21,22,23,24,25,26,27,28,29,30,31,32,33,34,35,36,37,38,39,40,41,42,43,44,45,46,47,48,49],\"colorbar\":{\"title\":{\"text\":\"Trial\"},\"x\":1.0,\"xpad\":40},\"colorscale\":[[0.0,\"rgb(247,251,255)\"],[0.125,\"rgb(222,235,247)\"],[0.25,\"rgb(198,219,239)\"],[0.375,\"rgb(158,202,225)\"],[0.5,\"rgb(107,174,214)\"],[0.625,\"rgb(66,146,198)\"],[0.75,\"rgb(33,113,181)\"],[0.875,\"rgb(8,81,156)\"],[1.0,\"rgb(8,48,107)\"]],\"line\":{\"color\":\"Grey\",\"width\":0.5},\"showscale\":false},\"mode\":\"markers\",\"name\":\"Feasible Trial\",\"showlegend\":false,\"x\":[0.30000000000000004,0.2,0.2,0.30000000000000004,0.0,0.30000000000000004,0.0,0.1,0.5,0.2,0.5,0.2,0.5,0.5,0.4,0.2,0.2,0.30000000000000004,0.5,0.5,0.5,0.5,0.5,0.5,0.5,0.5,0.5,0.5,0.5,0.4,0.5,0.5,0.5,0.4,0.4,0.5,0.30000000000000004,0.4,0.4,0.4,0.5,0.4,0.4,0.2,0.5,0.5,0.5,0.5,0.5,0.5],\"y\":[53.8745002746582,56.3623046875,66.96858215332031,53.96190643310547,87.54707336425781,53.66898727416992,966.4979858398438,55.357505798339844,53.506797790527344,54.60464096069336,144.81268310546875,79.5726318359375,55.16278076171875,85.3478012084961,56.01045227050781,53.037086486816406,52.9732666015625,52.198368072509766,50.866783142089844,52.162715911865234,58.79143142700195,54.68820571899414,54.7037353515625,54.24106216430664,52.36500549316406,53.41546630859375,54.81644058227539,51.244049072265625,67.7056884765625,64.23854064941406,54.93380355834961,64.95043182373047,53.2070198059082,52.3698844909668,55.15299606323242,56.462074279785156,54.45306396484375,53.40592956542969,66.14729309082031,51.581092834472656,52.0120964050293,54.45484924316406,51.988094329833984,55.302616119384766,51.386505126953125,57.61300277709961,63.31104278564453,51.2218132019043,52.53421401977539,51.7860107421875],\"type\":\"scatter\",\"xaxis\":\"x5\",\"yaxis\":\"y5\"},{\"marker\":{\"color\":[0,1,2,3,4,5,6,7,8,9,10,11,12,13,14,15,16,17,18,19,20,21,22,23,24,25,26,27,28,29,30,31,32,33,34,35,36,37,38,39,40,41,42,43,44,45,46,47,48,49],\"colorbar\":{\"title\":{\"text\":\"Trial\"},\"x\":1.0,\"xpad\":40},\"colorscale\":[[0.0,\"rgb(247,251,255)\"],[0.125,\"rgb(222,235,247)\"],[0.25,\"rgb(198,219,239)\"],[0.375,\"rgb(158,202,225)\"],[0.5,\"rgb(107,174,214)\"],[0.625,\"rgb(66,146,198)\"],[0.75,\"rgb(33,113,181)\"],[0.875,\"rgb(8,81,156)\"],[1.0,\"rgb(8,48,107)\"]],\"line\":{\"color\":\"Grey\",\"width\":0.5},\"showscale\":false},\"mode\":\"markers\",\"name\":\"Feasible Trial\",\"showlegend\":false,\"x\":[true,false,true,true,true,true,true,false,true,false,true,true,false,true,true,true,true,true,true,true,false,false,true,true,true,true,true,true,true,true,true,true,true,true,false,true,false,true,true,true,true,true,true,true,true,true,true,true,false,true],\"y\":[53.8745002746582,56.3623046875,66.96858215332031,53.96190643310547,87.54707336425781,53.66898727416992,966.4979858398438,55.357505798339844,53.506797790527344,54.60464096069336,144.81268310546875,79.5726318359375,55.16278076171875,85.3478012084961,56.01045227050781,53.037086486816406,52.9732666015625,52.198368072509766,50.866783142089844,52.162715911865234,58.79143142700195,54.68820571899414,54.7037353515625,54.24106216430664,52.36500549316406,53.41546630859375,54.81644058227539,51.244049072265625,67.7056884765625,64.23854064941406,54.93380355834961,64.95043182373047,53.2070198059082,52.3698844909668,55.15299606323242,56.462074279785156,54.45306396484375,53.40592956542969,66.14729309082031,51.581092834472656,52.0120964050293,54.45484924316406,51.988094329833984,55.302616119384766,51.386505126953125,57.61300277709961,63.31104278564453,51.2218132019043,52.53421401977539,51.7860107421875],\"type\":\"scatter\",\"xaxis\":\"x6\",\"yaxis\":\"y6\"},{\"marker\":{\"color\":[0,1,2,3,4,5,6,7,8,9,10,11,12,13,14,15,16,17,18,19,20,21,22,23,24,25,26,27,28,29,30,31,32,33,34,35,36,37,38,39,40,41,42,43,44,45,46,47,48,49],\"colorbar\":{\"title\":{\"text\":\"Trial\"},\"x\":1.0,\"xpad\":40},\"colorscale\":[[0.0,\"rgb(247,251,255)\"],[0.125,\"rgb(222,235,247)\"],[0.25,\"rgb(198,219,239)\"],[0.375,\"rgb(158,202,225)\"],[0.5,\"rgb(107,174,214)\"],[0.625,\"rgb(66,146,198)\"],[0.75,\"rgb(33,113,181)\"],[0.875,\"rgb(8,81,156)\"],[1.0,\"rgb(8,48,107)\"]],\"line\":{\"color\":\"Grey\",\"width\":0.5},\"showscale\":false},\"mode\":\"markers\",\"name\":\"Feasible Trial\",\"showlegend\":false,\"x\":[32,2,16,4,2,2,16,32,2,16,16,2,2,2,16,2,2,2,2,32,32,2,32,32,2,4,2,2,2,32,32,16,2,2,2,8,8,4,32,2,2,8,2,2,2,2,4,32,2,8],\"y\":[53.8745002746582,56.3623046875,66.96858215332031,53.96190643310547,87.54707336425781,53.66898727416992,966.4979858398438,55.357505798339844,53.506797790527344,54.60464096069336,144.81268310546875,79.5726318359375,55.16278076171875,85.3478012084961,56.01045227050781,53.037086486816406,52.9732666015625,52.198368072509766,50.866783142089844,52.162715911865234,58.79143142700195,54.68820571899414,54.7037353515625,54.24106216430664,52.36500549316406,53.41546630859375,54.81644058227539,51.244049072265625,67.7056884765625,64.23854064941406,54.93380355834961,64.95043182373047,53.2070198059082,52.3698844909668,55.15299606323242,56.462074279785156,54.45306396484375,53.40592956542969,66.14729309082031,51.581092834472656,52.0120964050293,54.45484924316406,51.988094329833984,55.302616119384766,51.386505126953125,57.61300277709961,63.31104278564453,51.2218132019043,52.53421401977539,51.7860107421875],\"type\":\"scatter\",\"xaxis\":\"x7\",\"yaxis\":\"y7\"},{\"marker\":{\"color\":[0,1,2,3,4,5,6,7,8,9,10,11,12,13,14,15,16,17,18,19,20,21,22,23,24,25,26,27,28,29,30,31,32,33,34,35,36,37,38,39,40,41,42,43,44,45,46,47,48,49],\"colorbar\":{\"title\":{\"text\":\"Trial\"},\"x\":1.0,\"xpad\":40},\"colorscale\":[[0.0,\"rgb(247,251,255)\"],[0.125,\"rgb(222,235,247)\"],[0.25,\"rgb(198,219,239)\"],[0.375,\"rgb(158,202,225)\"],[0.5,\"rgb(107,174,214)\"],[0.625,\"rgb(66,146,198)\"],[0.75,\"rgb(33,113,181)\"],[0.875,\"rgb(8,81,156)\"],[1.0,\"rgb(8,48,107)\"]],\"line\":{\"color\":\"Grey\",\"width\":0.5},\"showscale\":false},\"mode\":\"markers\",\"name\":\"Feasible Trial\",\"showlegend\":false,\"x\":[3,2,1,3,4,3,6,6,5,4,4,3,5,4,4,3,3,4,2,2,1,3,3,1,5,2,2,1,1,1,4,1,1,4,1,1,4,5,1,1,1,1,2,1,1,2,2,1,1,1],\"y\":[53.8745002746582,56.3623046875,66.96858215332031,53.96190643310547,87.54707336425781,53.66898727416992,966.4979858398438,55.357505798339844,53.506797790527344,54.60464096069336,144.81268310546875,79.5726318359375,55.16278076171875,85.3478012084961,56.01045227050781,53.037086486816406,52.9732666015625,52.198368072509766,50.866783142089844,52.162715911865234,58.79143142700195,54.68820571899414,54.7037353515625,54.24106216430664,52.36500549316406,53.41546630859375,54.81644058227539,51.244049072265625,67.7056884765625,64.23854064941406,54.93380355834961,64.95043182373047,53.2070198059082,52.3698844909668,55.15299606323242,56.462074279785156,54.45306396484375,53.40592956542969,66.14729309082031,51.581092834472656,52.0120964050293,54.45484924316406,51.988094329833984,55.302616119384766,51.386505126953125,57.61300277709961,63.31104278564453,51.2218132019043,52.53421401977539,51.7860107421875],\"type\":\"scatter\",\"xaxis\":\"x8\",\"yaxis\":\"y8\"},{\"marker\":{\"color\":[0,1,2,3,4,5,6,7,8,9,10,11,12,13,14,15,16,17,18,19,20,21,22,23,24,25,26,27,28,29,30,31,32,33,34,35,36,37,38,39,40,41,42,43,44,45,46,47,48,49],\"colorbar\":{\"title\":{\"text\":\"Trial\"},\"x\":1.0,\"xpad\":40},\"colorscale\":[[0.0,\"rgb(247,251,255)\"],[0.125,\"rgb(222,235,247)\"],[0.25,\"rgb(198,219,239)\"],[0.375,\"rgb(158,202,225)\"],[0.5,\"rgb(107,174,214)\"],[0.625,\"rgb(66,146,198)\"],[0.75,\"rgb(33,113,181)\"],[0.875,\"rgb(8,81,156)\"],[1.0,\"rgb(8,48,107)\"]],\"line\":{\"color\":\"Grey\",\"width\":0.5},\"showscale\":false},\"mode\":\"markers\",\"name\":\"Feasible Trial\",\"showlegend\":false,\"x\":[false,true,true,false,true,true,true,false,false,true,false,true,false,false,true,false,false,false,true,true,true,true,true,false,false,true,false,true,true,true,true,true,true,true,true,true,false,false,true,true,true,true,true,true,true,true,true,true,true,true],\"y\":[53.8745002746582,56.3623046875,66.96858215332031,53.96190643310547,87.54707336425781,53.66898727416992,966.4979858398438,55.357505798339844,53.506797790527344,54.60464096069336,144.81268310546875,79.5726318359375,55.16278076171875,85.3478012084961,56.01045227050781,53.037086486816406,52.9732666015625,52.198368072509766,50.866783142089844,52.162715911865234,58.79143142700195,54.68820571899414,54.7037353515625,54.24106216430664,52.36500549316406,53.41546630859375,54.81644058227539,51.244049072265625,67.7056884765625,64.23854064941406,54.93380355834961,64.95043182373047,53.2070198059082,52.3698844909668,55.15299606323242,56.462074279785156,54.45306396484375,53.40592956542969,66.14729309082031,51.581092834472656,52.0120964050293,54.45484924316406,51.988094329833984,55.302616119384766,51.386505126953125,57.61300277709961,63.31104278564453,51.2218132019043,52.53421401977539,51.7860107421875],\"type\":\"scatter\",\"xaxis\":\"x9\",\"yaxis\":\"y9\"},{\"marker\":{\"color\":[0,1,2,3,4,5,6,7,8,9,10,11,12,13,14,15,16,17,18,19,20,21,22,23,24,25,26,27,28,29,30,31,32,33,34,35,36,37,38,39,40,41,42,43,44,45,46,47,48,49],\"colorbar\":{\"title\":{\"text\":\"Trial\"},\"x\":1.0,\"xpad\":40},\"colorscale\":[[0.0,\"rgb(247,251,255)\"],[0.125,\"rgb(222,235,247)\"],[0.25,\"rgb(198,219,239)\"],[0.375,\"rgb(158,202,225)\"],[0.5,\"rgb(107,174,214)\"],[0.625,\"rgb(66,146,198)\"],[0.75,\"rgb(33,113,181)\"],[0.875,\"rgb(8,81,156)\"],[1.0,\"rgb(8,48,107)\"]],\"line\":{\"color\":\"Grey\",\"width\":0.5},\"showscale\":false},\"mode\":\"markers\",\"name\":\"Feasible Trial\",\"showlegend\":false,\"x\":[288,240,288,288,144,240,192,192,144,144,144,240,336,144,240,240,240,240,240,288,288,240,288,288,336,240,240,336,336,144,288,336,336,144,336,192,288,240,288,240,240,240,240,240,192,288,192,192,192,288],\"y\":[53.8745002746582,56.3623046875,66.96858215332031,53.96190643310547,87.54707336425781,53.66898727416992,966.4979858398438,55.357505798339844,53.506797790527344,54.60464096069336,144.81268310546875,79.5726318359375,55.16278076171875,85.3478012084961,56.01045227050781,53.037086486816406,52.9732666015625,52.198368072509766,50.866783142089844,52.162715911865234,58.79143142700195,54.68820571899414,54.7037353515625,54.24106216430664,52.36500549316406,53.41546630859375,54.81644058227539,51.244049072265625,67.7056884765625,64.23854064941406,54.93380355834961,64.95043182373047,53.2070198059082,52.3698844909668,55.15299606323242,56.462074279785156,54.45306396484375,53.40592956542969,66.14729309082031,51.581092834472656,52.0120964050293,54.45484924316406,51.988094329833984,55.302616119384766,51.386505126953125,57.61300277709961,63.31104278564453,51.2218132019043,52.53421401977539,51.7860107421875],\"type\":\"scatter\",\"xaxis\":\"x10\",\"yaxis\":\"y10\"}],                        {\"template\":{\"data\":{\"histogram2dcontour\":[{\"type\":\"histogram2dcontour\",\"colorbar\":{\"outlinewidth\":0,\"ticks\":\"\"},\"colorscale\":[[0.0,\"#0d0887\"],[0.1111111111111111,\"#46039f\"],[0.2222222222222222,\"#7201a8\"],[0.3333333333333333,\"#9c179e\"],[0.4444444444444444,\"#bd3786\"],[0.5555555555555556,\"#d8576b\"],[0.6666666666666666,\"#ed7953\"],[0.7777777777777778,\"#fb9f3a\"],[0.8888888888888888,\"#fdca26\"],[1.0,\"#f0f921\"]]}],\"choropleth\":[{\"type\":\"choropleth\",\"colorbar\":{\"outlinewidth\":0,\"ticks\":\"\"}}],\"histogram2d\":[{\"type\":\"histogram2d\",\"colorbar\":{\"outlinewidth\":0,\"ticks\":\"\"},\"colorscale\":[[0.0,\"#0d0887\"],[0.1111111111111111,\"#46039f\"],[0.2222222222222222,\"#7201a8\"],[0.3333333333333333,\"#9c179e\"],[0.4444444444444444,\"#bd3786\"],[0.5555555555555556,\"#d8576b\"],[0.6666666666666666,\"#ed7953\"],[0.7777777777777778,\"#fb9f3a\"],[0.8888888888888888,\"#fdca26\"],[1.0,\"#f0f921\"]]}],\"heatmap\":[{\"type\":\"heatmap\",\"colorbar\":{\"outlinewidth\":0,\"ticks\":\"\"},\"colorscale\":[[0.0,\"#0d0887\"],[0.1111111111111111,\"#46039f\"],[0.2222222222222222,\"#7201a8\"],[0.3333333333333333,\"#9c179e\"],[0.4444444444444444,\"#bd3786\"],[0.5555555555555556,\"#d8576b\"],[0.6666666666666666,\"#ed7953\"],[0.7777777777777778,\"#fb9f3a\"],[0.8888888888888888,\"#fdca26\"],[1.0,\"#f0f921\"]]}],\"heatmapgl\":[{\"type\":\"heatmapgl\",\"colorbar\":{\"outlinewidth\":0,\"ticks\":\"\"},\"colorscale\":[[0.0,\"#0d0887\"],[0.1111111111111111,\"#46039f\"],[0.2222222222222222,\"#7201a8\"],[0.3333333333333333,\"#9c179e\"],[0.4444444444444444,\"#bd3786\"],[0.5555555555555556,\"#d8576b\"],[0.6666666666666666,\"#ed7953\"],[0.7777777777777778,\"#fb9f3a\"],[0.8888888888888888,\"#fdca26\"],[1.0,\"#f0f921\"]]}],\"contourcarpet\":[{\"type\":\"contourcarpet\",\"colorbar\":{\"outlinewidth\":0,\"ticks\":\"\"}}],\"contour\":[{\"type\":\"contour\",\"colorbar\":{\"outlinewidth\":0,\"ticks\":\"\"},\"colorscale\":[[0.0,\"#0d0887\"],[0.1111111111111111,\"#46039f\"],[0.2222222222222222,\"#7201a8\"],[0.3333333333333333,\"#9c179e\"],[0.4444444444444444,\"#bd3786\"],[0.5555555555555556,\"#d8576b\"],[0.6666666666666666,\"#ed7953\"],[0.7777777777777778,\"#fb9f3a\"],[0.8888888888888888,\"#fdca26\"],[1.0,\"#f0f921\"]]}],\"surface\":[{\"type\":\"surface\",\"colorbar\":{\"outlinewidth\":0,\"ticks\":\"\"},\"colorscale\":[[0.0,\"#0d0887\"],[0.1111111111111111,\"#46039f\"],[0.2222222222222222,\"#7201a8\"],[0.3333333333333333,\"#9c179e\"],[0.4444444444444444,\"#bd3786\"],[0.5555555555555556,\"#d8576b\"],[0.6666666666666666,\"#ed7953\"],[0.7777777777777778,\"#fb9f3a\"],[0.8888888888888888,\"#fdca26\"],[1.0,\"#f0f921\"]]}],\"mesh3d\":[{\"type\":\"mesh3d\",\"colorbar\":{\"outlinewidth\":0,\"ticks\":\"\"}}],\"scatter\":[{\"fillpattern\":{\"fillmode\":\"overlay\",\"size\":10,\"solidity\":0.2},\"type\":\"scatter\"}],\"parcoords\":[{\"type\":\"parcoords\",\"line\":{\"colorbar\":{\"outlinewidth\":0,\"ticks\":\"\"}}}],\"scatterpolargl\":[{\"type\":\"scatterpolargl\",\"marker\":{\"colorbar\":{\"outlinewidth\":0,\"ticks\":\"\"}}}],\"bar\":[{\"error_x\":{\"color\":\"#2a3f5f\"},\"error_y\":{\"color\":\"#2a3f5f\"},\"marker\":{\"line\":{\"color\":\"#E5ECF6\",\"width\":0.5},\"pattern\":{\"fillmode\":\"overlay\",\"size\":10,\"solidity\":0.2}},\"type\":\"bar\"}],\"scattergeo\":[{\"type\":\"scattergeo\",\"marker\":{\"colorbar\":{\"outlinewidth\":0,\"ticks\":\"\"}}}],\"scatterpolar\":[{\"type\":\"scatterpolar\",\"marker\":{\"colorbar\":{\"outlinewidth\":0,\"ticks\":\"\"}}}],\"histogram\":[{\"marker\":{\"pattern\":{\"fillmode\":\"overlay\",\"size\":10,\"solidity\":0.2}},\"type\":\"histogram\"}],\"scattergl\":[{\"type\":\"scattergl\",\"marker\":{\"colorbar\":{\"outlinewidth\":0,\"ticks\":\"\"}}}],\"scatter3d\":[{\"type\":\"scatter3d\",\"line\":{\"colorbar\":{\"outlinewidth\":0,\"ticks\":\"\"}},\"marker\":{\"colorbar\":{\"outlinewidth\":0,\"ticks\":\"\"}}}],\"scattermapbox\":[{\"type\":\"scattermapbox\",\"marker\":{\"colorbar\":{\"outlinewidth\":0,\"ticks\":\"\"}}}],\"scatterternary\":[{\"type\":\"scatterternary\",\"marker\":{\"colorbar\":{\"outlinewidth\":0,\"ticks\":\"\"}}}],\"scattercarpet\":[{\"type\":\"scattercarpet\",\"marker\":{\"colorbar\":{\"outlinewidth\":0,\"ticks\":\"\"}}}],\"carpet\":[{\"aaxis\":{\"endlinecolor\":\"#2a3f5f\",\"gridcolor\":\"white\",\"linecolor\":\"white\",\"minorgridcolor\":\"white\",\"startlinecolor\":\"#2a3f5f\"},\"baxis\":{\"endlinecolor\":\"#2a3f5f\",\"gridcolor\":\"white\",\"linecolor\":\"white\",\"minorgridcolor\":\"white\",\"startlinecolor\":\"#2a3f5f\"},\"type\":\"carpet\"}],\"table\":[{\"cells\":{\"fill\":{\"color\":\"#EBF0F8\"},\"line\":{\"color\":\"white\"}},\"header\":{\"fill\":{\"color\":\"#C8D4E3\"},\"line\":{\"color\":\"white\"}},\"type\":\"table\"}],\"barpolar\":[{\"marker\":{\"line\":{\"color\":\"#E5ECF6\",\"width\":0.5},\"pattern\":{\"fillmode\":\"overlay\",\"size\":10,\"solidity\":0.2}},\"type\":\"barpolar\"}],\"pie\":[{\"automargin\":true,\"type\":\"pie\"}]},\"layout\":{\"autotypenumbers\":\"strict\",\"colorway\":[\"#636efa\",\"#EF553B\",\"#00cc96\",\"#ab63fa\",\"#FFA15A\",\"#19d3f3\",\"#FF6692\",\"#B6E880\",\"#FF97FF\",\"#FECB52\"],\"font\":{\"color\":\"#2a3f5f\"},\"hovermode\":\"closest\",\"hoverlabel\":{\"align\":\"left\"},\"paper_bgcolor\":\"white\",\"plot_bgcolor\":\"#E5ECF6\",\"polar\":{\"bgcolor\":\"#E5ECF6\",\"angularaxis\":{\"gridcolor\":\"white\",\"linecolor\":\"white\",\"ticks\":\"\"},\"radialaxis\":{\"gridcolor\":\"white\",\"linecolor\":\"white\",\"ticks\":\"\"}},\"ternary\":{\"bgcolor\":\"#E5ECF6\",\"aaxis\":{\"gridcolor\":\"white\",\"linecolor\":\"white\",\"ticks\":\"\"},\"baxis\":{\"gridcolor\":\"white\",\"linecolor\":\"white\",\"ticks\":\"\"},\"caxis\":{\"gridcolor\":\"white\",\"linecolor\":\"white\",\"ticks\":\"\"}},\"coloraxis\":{\"colorbar\":{\"outlinewidth\":0,\"ticks\":\"\"}},\"colorscale\":{\"sequential\":[[0.0,\"#0d0887\"],[0.1111111111111111,\"#46039f\"],[0.2222222222222222,\"#7201a8\"],[0.3333333333333333,\"#9c179e\"],[0.4444444444444444,\"#bd3786\"],[0.5555555555555556,\"#d8576b\"],[0.6666666666666666,\"#ed7953\"],[0.7777777777777778,\"#fb9f3a\"],[0.8888888888888888,\"#fdca26\"],[1.0,\"#f0f921\"]],\"sequentialminus\":[[0.0,\"#0d0887\"],[0.1111111111111111,\"#46039f\"],[0.2222222222222222,\"#7201a8\"],[0.3333333333333333,\"#9c179e\"],[0.4444444444444444,\"#bd3786\"],[0.5555555555555556,\"#d8576b\"],[0.6666666666666666,\"#ed7953\"],[0.7777777777777778,\"#fb9f3a\"],[0.8888888888888888,\"#fdca26\"],[1.0,\"#f0f921\"]],\"diverging\":[[0,\"#8e0152\"],[0.1,\"#c51b7d\"],[0.2,\"#de77ae\"],[0.3,\"#f1b6da\"],[0.4,\"#fde0ef\"],[0.5,\"#f7f7f7\"],[0.6,\"#e6f5d0\"],[0.7,\"#b8e186\"],[0.8,\"#7fbc41\"],[0.9,\"#4d9221\"],[1,\"#276419\"]]},\"xaxis\":{\"gridcolor\":\"white\",\"linecolor\":\"white\",\"ticks\":\"\",\"title\":{\"standoff\":15},\"zerolinecolor\":\"white\",\"automargin\":true,\"zerolinewidth\":2},\"yaxis\":{\"gridcolor\":\"white\",\"linecolor\":\"white\",\"ticks\":\"\",\"title\":{\"standoff\":15},\"zerolinecolor\":\"white\",\"automargin\":true,\"zerolinewidth\":2},\"scene\":{\"xaxis\":{\"backgroundcolor\":\"#E5ECF6\",\"gridcolor\":\"white\",\"linecolor\":\"white\",\"showbackground\":true,\"ticks\":\"\",\"zerolinecolor\":\"white\",\"gridwidth\":2},\"yaxis\":{\"backgroundcolor\":\"#E5ECF6\",\"gridcolor\":\"white\",\"linecolor\":\"white\",\"showbackground\":true,\"ticks\":\"\",\"zerolinecolor\":\"white\",\"gridwidth\":2},\"zaxis\":{\"backgroundcolor\":\"#E5ECF6\",\"gridcolor\":\"white\",\"linecolor\":\"white\",\"showbackground\":true,\"ticks\":\"\",\"zerolinecolor\":\"white\",\"gridwidth\":2}},\"shapedefaults\":{\"line\":{\"color\":\"#2a3f5f\"}},\"annotationdefaults\":{\"arrowcolor\":\"#2a3f5f\",\"arrowhead\":0,\"arrowwidth\":1},\"geo\":{\"bgcolor\":\"white\",\"landcolor\":\"#E5ECF6\",\"subunitcolor\":\"white\",\"showland\":true,\"showlakes\":true,\"lakecolor\":\"white\"},\"title\":{\"x\":0.05},\"mapbox\":{\"style\":\"light\"}}},\"xaxis\":{\"anchor\":\"y\",\"domain\":[0.0,0.082],\"title\":{\"text\":\"arch.attn_dropout\"}},\"yaxis\":{\"anchor\":\"x\",\"domain\":[0.0,1.0],\"title\":{\"text\":\"Objective Value\"}},\"xaxis2\":{\"anchor\":\"y2\",\"domain\":[0.10200000000000001,0.184],\"title\":{\"text\":\"arch.d_ff\"}},\"yaxis2\":{\"anchor\":\"x2\",\"domain\":[0.0,1.0],\"matches\":\"y\",\"showticklabels\":false},\"xaxis3\":{\"anchor\":\"y3\",\"domain\":[0.20400000000000001,0.28600000000000003],\"title\":{\"text\":\"arch.d_model\"}},\"yaxis3\":{\"anchor\":\"x3\",\"domain\":[0.0,1.0],\"matches\":\"y\",\"showticklabels\":false},\"xaxis4\":{\"anchor\":\"y4\",\"domain\":[0.306,0.388],\"title\":{\"text\":\"arch.decomposition\"},\"type\":\"category\",\"categoryorder\":\"array\",\"categoryarray\":[true,false]},\"yaxis4\":{\"anchor\":\"x4\",\"domain\":[0.0,1.0],\"matches\":\"y\",\"showticklabels\":false},\"xaxis5\":{\"anchor\":\"y5\",\"domain\":[0.40800000000000003,0.49000000000000005],\"title\":{\"text\":\"arch.dropout\"}},\"yaxis5\":{\"anchor\":\"x5\",\"domain\":[0.0,1.0],\"matches\":\"y\",\"showticklabels\":false},\"xaxis6\":{\"anchor\":\"y6\",\"domain\":[0.51,0.592],\"title\":{\"text\":\"arch.individual\"},\"type\":\"category\",\"categoryorder\":\"array\",\"categoryarray\":[true,false]},\"yaxis6\":{\"anchor\":\"x6\",\"domain\":[0.0,1.0],\"matches\":\"y\",\"showticklabels\":false},\"xaxis7\":{\"anchor\":\"y7\",\"domain\":[0.6120000000000001,0.6940000000000001],\"title\":{\"text\":\"arch.n_heads\"},\"type\":\"category\",\"categoryorder\":\"array\",\"categoryarray\":[2,4,8,16,32]},\"yaxis7\":{\"anchor\":\"x7\",\"domain\":[0.0,1.0],\"matches\":\"y\",\"showticklabels\":false},\"xaxis8\":{\"anchor\":\"y8\",\"domain\":[0.7140000000000001,0.796],\"title\":{\"text\":\"arch.n_layers\"}},\"yaxis8\":{\"anchor\":\"x8\",\"domain\":[0.0,1.0],\"matches\":\"y\",\"showticklabels\":false},\"xaxis9\":{\"anchor\":\"y9\",\"domain\":[0.8160000000000001,0.898],\"title\":{\"text\":\"init_weights\"},\"type\":\"category\",\"categoryorder\":\"array\",\"categoryarray\":[true,false]},\"yaxis9\":{\"anchor\":\"x9\",\"domain\":[0.0,1.0],\"matches\":\"y\",\"showticklabels\":false},\"xaxis10\":{\"anchor\":\"y10\",\"domain\":[0.9179999999999999,0.9999999999999999],\"title\":{\"text\":\"lookback\"},\"type\":\"category\",\"categoryorder\":\"array\",\"categoryarray\":[144,192,240,288,336]},\"yaxis10\":{\"anchor\":\"x10\",\"domain\":[0.0,1.0],\"matches\":\"y\",\"showticklabels\":false},\"title\":{\"text\":\"Slice Plot\"},\"width\":3000},                        {\"responsive\": true}                    ).then(function(){\n",
       "                            \n",
       "var gd = document.getElementById('23ce1b18-160e-48e6-a39c-ff8c8adb9310');\n",
       "var x = new MutationObserver(function (mutations, observer) {{\n",
       "        var display = window.getComputedStyle(gd).display;\n",
       "        if (!display || display === 'none') {{\n",
       "            console.log([gd, 'removed!']);\n",
       "            Plotly.purge(gd);\n",
       "            observer.disconnect();\n",
       "        }}\n",
       "}});\n",
       "\n",
       "// Listen for the removal of the full notebook cells\n",
       "var notebookContainer = gd.closest('#notebook-container');\n",
       "if (notebookContainer) {{\n",
       "    x.observe(notebookContainer, {childList: true});\n",
       "}}\n",
       "\n",
       "// Listen for the clearing of the current output cell\n",
       "var outputEl = gd.closest('.output');\n",
       "if (outputEl) {{\n",
       "    x.observe(outputEl, {childList: true});\n",
       "}}\n",
       "\n",
       "                        })                };                });            </script>        </div>"
      ]
     },
     "metadata": {},
     "output_type": "display_data"
    },
    {
     "data": {
      "application/vnd.plotly.v1+json": {
       "config": {
        "plotlyServerURL": "https://plot.ly"
       },
       "data": [
        {
         "dimensions": [
          {
           "label": "Objective Value",
           "range": [
            50.866783142089844,
            966.4979858398438
           ],
           "values": [
            87.54707336425781,
            53.506797790527344,
            85.3478012084961,
            52.3698844909668,
            51.386505126953125,
            52.53421401977539,
            56.3623046875,
            53.66898727416992,
            79.5726318359375,
            53.037086486816406,
            52.9732666015625,
            52.198368072509766,
            50.866783142089844,
            54.68820571899414,
            54.81644058227539,
            51.581092834472656,
            52.0120964050293,
            51.988094329833984,
            55.302616119384766,
            57.61300277709961,
            55.16278076171875,
            52.36500549316406,
            51.244049072265625,
            67.7056884765625,
            53.2070198059082,
            55.15299606323242,
            63.31104278564453,
            53.41546630859375,
            53.40592956542969,
            53.96190643310547,
            56.462074279785156,
            54.45484924316406,
            54.45306396484375,
            51.7860107421875,
            54.60464096069336,
            144.81268310546875,
            966.4979858398438,
            56.01045227050781,
            66.96858215332031,
            64.95043182373047,
            64.23854064941406,
            55.357505798339844,
            51.2218132019043,
            53.8745002746582,
            52.162715911865234,
            58.79143142700195,
            54.7037353515625,
            54.24106216430664,
            54.93380355834961,
            66.14729309082031
           ]
          },
          {
           "label": "arch.attn_dropout",
           "range": [
            0,
            0.5
           ],
           "values": [
            0.4,
            0,
            0.1,
            0.5,
            0.2,
            0,
            0.30000000000000004,
            0.5,
            0.5,
            0.5,
            0.5,
            0.5,
            0.4,
            0.4,
            0.30000000000000004,
            0.4,
            0.30000000000000004,
            0.4,
            0.4,
            0.1,
            0,
            0.4,
            0.4,
            0.5,
            0.4,
            0.30000000000000004,
            0.2,
            0.4,
            0.5,
            0,
            0.5,
            0.2,
            0.5,
            0.1,
            0.5,
            0.1,
            0.1,
            0.30000000000000004,
            0.30000000000000004,
            0.2,
            0.4,
            0.5,
            0.1,
            0.30000000000000004,
            0.4,
            0.2,
            0.4,
            0.5,
            0.30000000000000004,
            0.5
           ]
          },
          {
           "label": "arch.d_ff",
           "range": [
            32,
            512
           ],
           "values": [
            416,
            384,
            480,
            64,
            128,
            96,
            256,
            384,
            448,
            160,
            128,
            128,
            32,
            64,
            64,
            32,
            64,
            32,
            32,
            160,
            352,
            192,
            96,
            192,
            32,
            64,
            64,
            96,
            192,
            128,
            64,
            224,
            224,
            160,
            512,
            320,
            352,
            256,
            64,
            96,
            160,
            192,
            64,
            512,
            128,
            192,
            32,
            128,
            256,
            224
           ]
          },
          {
           "label": "arch.d_model",
           "range": [
            32,
            512
           ],
           "values": [
            160,
            64,
            32,
            416,
            320,
            192,
            512,
            448,
            480,
            448,
            448,
            512,
            512,
            512,
            480,
            512,
            384,
            480,
            448,
            288,
            64,
            480,
            352,
            448,
            192,
            384,
            320,
            480,
            384,
            192,
            480,
            480,
            512,
            224,
            96,
            192,
            416,
            384,
            256,
            320,
            352,
            416,
            192,
            288,
            512,
            448,
            384,
            512,
            512,
            512
           ]
          },
          {
           "label": "arch.decomposition",
           "range": [
            0,
            1
           ],
           "ticktext": [
            "False",
            "True"
           ],
           "tickvals": [
            0,
            1
           ],
           "values": [
            0,
            0,
            1,
            0,
            0,
            1,
            1,
            0,
            0,
            0,
            1,
            0,
            0,
            0,
            0,
            0,
            0,
            0,
            0,
            0,
            0,
            0,
            0,
            0,
            0,
            1,
            0,
            1,
            0,
            1,
            0,
            0,
            0,
            1,
            1,
            0,
            1,
            0,
            0,
            0,
            0,
            1,
            1,
            0,
            0,
            0,
            0,
            1,
            1,
            0
           ]
          },
          {
           "label": "arch.dropout",
           "range": [
            0,
            0.5
           ],
           "values": [
            0,
            0.5,
            0.5,
            0.4,
            0.5,
            0.5,
            0.2,
            0.30000000000000004,
            0.2,
            0.2,
            0.2,
            0.30000000000000004,
            0.5,
            0.5,
            0.5,
            0.4,
            0.5,
            0.4,
            0.2,
            0.5,
            0.5,
            0.5,
            0.5,
            0.5,
            0.5,
            0.4,
            0.5,
            0.5,
            0.4,
            0.30000000000000004,
            0.5,
            0.4,
            0.30000000000000004,
            0.5,
            0.2,
            0.5,
            0,
            0.4,
            0.2,
            0.5,
            0.4,
            0.1,
            0.5,
            0.30000000000000004,
            0.5,
            0.5,
            0.5,
            0.5,
            0.5,
            0.4
           ]
          },
          {
           "label": "arch.individual",
           "range": [
            0,
            1
           ],
           "ticktext": [
            "True",
            "False"
           ],
           "tickvals": [
            0,
            1
           ],
           "values": [
            0,
            0,
            0,
            0,
            0,
            1,
            1,
            0,
            0,
            0,
            0,
            0,
            0,
            1,
            0,
            0,
            0,
            0,
            0,
            0,
            1,
            0,
            0,
            0,
            0,
            1,
            0,
            0,
            0,
            0,
            0,
            0,
            1,
            0,
            1,
            0,
            0,
            0,
            0,
            0,
            0,
            1,
            0,
            0,
            0,
            1,
            0,
            0,
            0,
            0
           ]
          },
          {
           "label": "arch.n_heads",
           "range": [
            0,
            4
           ],
           "ticktext": [
            "2",
            "4",
            "8",
            "16",
            "32"
           ],
           "tickvals": [
            0,
            1,
            2,
            3,
            4
           ],
           "values": [
            0,
            0,
            0,
            0,
            0,
            0,
            0,
            0,
            0,
            0,
            0,
            0,
            0,
            0,
            0,
            0,
            0,
            0,
            0,
            0,
            0,
            0,
            0,
            0,
            0,
            0,
            1,
            1,
            1,
            1,
            2,
            2,
            2,
            2,
            3,
            3,
            3,
            3,
            3,
            3,
            4,
            4,
            4,
            4,
            4,
            4,
            4,
            4,
            4,
            4
           ]
          },
          {
           "label": "arch.n_layers",
           "range": [
            1,
            6
           ],
           "values": [
            4,
            5,
            4,
            4,
            1,
            1,
            2,
            3,
            3,
            3,
            3,
            4,
            2,
            3,
            2,
            1,
            1,
            2,
            1,
            2,
            5,
            5,
            1,
            1,
            1,
            1,
            2,
            2,
            5,
            3,
            1,
            1,
            4,
            1,
            4,
            4,
            6,
            4,
            1,
            1,
            1,
            6,
            1,
            3,
            2,
            1,
            3,
            1,
            4,
            1
           ]
          },
          {
           "label": "init_weights",
           "range": [
            0,
            1
           ],
           "ticktext": [
            "False",
            "True"
           ],
           "tickvals": [
            0,
            1
           ],
           "values": [
            1,
            0,
            0,
            1,
            1,
            1,
            1,
            1,
            1,
            0,
            0,
            0,
            1,
            1,
            0,
            1,
            1,
            1,
            1,
            1,
            0,
            0,
            1,
            1,
            1,
            1,
            1,
            1,
            0,
            0,
            1,
            1,
            0,
            1,
            1,
            0,
            1,
            1,
            1,
            1,
            1,
            0,
            1,
            0,
            1,
            1,
            1,
            0,
            1,
            1
           ]
          },
          {
           "label": "lookback",
           "range": [
            0,
            4
           ],
           "ticktext": [
            "144",
            "192",
            "240",
            "288",
            "336"
           ],
           "tickvals": [
            0,
            1,
            2,
            3,
            4
           ],
           "values": [
            0,
            0,
            0,
            0,
            1,
            1,
            2,
            2,
            2,
            2,
            2,
            2,
            2,
            2,
            2,
            2,
            2,
            2,
            2,
            3,
            4,
            4,
            4,
            4,
            4,
            4,
            1,
            2,
            2,
            3,
            1,
            2,
            3,
            3,
            0,
            0,
            1,
            2,
            3,
            4,
            0,
            1,
            1,
            3,
            3,
            3,
            3,
            3,
            3,
            3
           ]
          }
         ],
         "labelangle": 30,
         "labelside": "bottom",
         "line": {
          "color": [
           87.54707336425781,
           53.506797790527344,
           85.3478012084961,
           52.3698844909668,
           51.386505126953125,
           52.53421401977539,
           56.3623046875,
           53.66898727416992,
           79.5726318359375,
           53.037086486816406,
           52.9732666015625,
           52.198368072509766,
           50.866783142089844,
           54.68820571899414,
           54.81644058227539,
           51.581092834472656,
           52.0120964050293,
           51.988094329833984,
           55.302616119384766,
           57.61300277709961,
           55.16278076171875,
           52.36500549316406,
           51.244049072265625,
           67.7056884765625,
           53.2070198059082,
           55.15299606323242,
           63.31104278564453,
           53.41546630859375,
           53.40592956542969,
           53.96190643310547,
           56.462074279785156,
           54.45484924316406,
           54.45306396484375,
           51.7860107421875,
           54.60464096069336,
           144.81268310546875,
           966.4979858398438,
           56.01045227050781,
           66.96858215332031,
           64.95043182373047,
           64.23854064941406,
           55.357505798339844,
           51.2218132019043,
           53.8745002746582,
           52.162715911865234,
           58.79143142700195,
           54.7037353515625,
           54.24106216430664,
           54.93380355834961,
           66.14729309082031
          ],
          "colorbar": {
           "title": {
            "text": "Objective Value"
           }
          },
          "colorscale": [
           [
            0,
            "rgb(247,251,255)"
           ],
           [
            0.125,
            "rgb(222,235,247)"
           ],
           [
            0.25,
            "rgb(198,219,239)"
           ],
           [
            0.375,
            "rgb(158,202,225)"
           ],
           [
            0.5,
            "rgb(107,174,214)"
           ],
           [
            0.625,
            "rgb(66,146,198)"
           ],
           [
            0.75,
            "rgb(33,113,181)"
           ],
           [
            0.875,
            "rgb(8,81,156)"
           ],
           [
            1,
            "rgb(8,48,107)"
           ]
          ],
          "reversescale": true,
          "showscale": true
         },
         "type": "parcoords"
        }
       ],
       "layout": {
        "template": {
         "data": {
          "bar": [
           {
            "error_x": {
             "color": "#2a3f5f"
            },
            "error_y": {
             "color": "#2a3f5f"
            },
            "marker": {
             "line": {
              "color": "#E5ECF6",
              "width": 0.5
             },
             "pattern": {
              "fillmode": "overlay",
              "size": 10,
              "solidity": 0.2
             }
            },
            "type": "bar"
           }
          ],
          "barpolar": [
           {
            "marker": {
             "line": {
              "color": "#E5ECF6",
              "width": 0.5
             },
             "pattern": {
              "fillmode": "overlay",
              "size": 10,
              "solidity": 0.2
             }
            },
            "type": "barpolar"
           }
          ],
          "carpet": [
           {
            "aaxis": {
             "endlinecolor": "#2a3f5f",
             "gridcolor": "white",
             "linecolor": "white",
             "minorgridcolor": "white",
             "startlinecolor": "#2a3f5f"
            },
            "baxis": {
             "endlinecolor": "#2a3f5f",
             "gridcolor": "white",
             "linecolor": "white",
             "minorgridcolor": "white",
             "startlinecolor": "#2a3f5f"
            },
            "type": "carpet"
           }
          ],
          "choropleth": [
           {
            "colorbar": {
             "outlinewidth": 0,
             "ticks": ""
            },
            "type": "choropleth"
           }
          ],
          "contour": [
           {
            "colorbar": {
             "outlinewidth": 0,
             "ticks": ""
            },
            "colorscale": [
             [
              0,
              "#0d0887"
             ],
             [
              0.1111111111111111,
              "#46039f"
             ],
             [
              0.2222222222222222,
              "#7201a8"
             ],
             [
              0.3333333333333333,
              "#9c179e"
             ],
             [
              0.4444444444444444,
              "#bd3786"
             ],
             [
              0.5555555555555556,
              "#d8576b"
             ],
             [
              0.6666666666666666,
              "#ed7953"
             ],
             [
              0.7777777777777778,
              "#fb9f3a"
             ],
             [
              0.8888888888888888,
              "#fdca26"
             ],
             [
              1,
              "#f0f921"
             ]
            ],
            "type": "contour"
           }
          ],
          "contourcarpet": [
           {
            "colorbar": {
             "outlinewidth": 0,
             "ticks": ""
            },
            "type": "contourcarpet"
           }
          ],
          "heatmap": [
           {
            "colorbar": {
             "outlinewidth": 0,
             "ticks": ""
            },
            "colorscale": [
             [
              0,
              "#0d0887"
             ],
             [
              0.1111111111111111,
              "#46039f"
             ],
             [
              0.2222222222222222,
              "#7201a8"
             ],
             [
              0.3333333333333333,
              "#9c179e"
             ],
             [
              0.4444444444444444,
              "#bd3786"
             ],
             [
              0.5555555555555556,
              "#d8576b"
             ],
             [
              0.6666666666666666,
              "#ed7953"
             ],
             [
              0.7777777777777778,
              "#fb9f3a"
             ],
             [
              0.8888888888888888,
              "#fdca26"
             ],
             [
              1,
              "#f0f921"
             ]
            ],
            "type": "heatmap"
           }
          ],
          "heatmapgl": [
           {
            "colorbar": {
             "outlinewidth": 0,
             "ticks": ""
            },
            "colorscale": [
             [
              0,
              "#0d0887"
             ],
             [
              0.1111111111111111,
              "#46039f"
             ],
             [
              0.2222222222222222,
              "#7201a8"
             ],
             [
              0.3333333333333333,
              "#9c179e"
             ],
             [
              0.4444444444444444,
              "#bd3786"
             ],
             [
              0.5555555555555556,
              "#d8576b"
             ],
             [
              0.6666666666666666,
              "#ed7953"
             ],
             [
              0.7777777777777778,
              "#fb9f3a"
             ],
             [
              0.8888888888888888,
              "#fdca26"
             ],
             [
              1,
              "#f0f921"
             ]
            ],
            "type": "heatmapgl"
           }
          ],
          "histogram": [
           {
            "marker": {
             "pattern": {
              "fillmode": "overlay",
              "size": 10,
              "solidity": 0.2
             }
            },
            "type": "histogram"
           }
          ],
          "histogram2d": [
           {
            "colorbar": {
             "outlinewidth": 0,
             "ticks": ""
            },
            "colorscale": [
             [
              0,
              "#0d0887"
             ],
             [
              0.1111111111111111,
              "#46039f"
             ],
             [
              0.2222222222222222,
              "#7201a8"
             ],
             [
              0.3333333333333333,
              "#9c179e"
             ],
             [
              0.4444444444444444,
              "#bd3786"
             ],
             [
              0.5555555555555556,
              "#d8576b"
             ],
             [
              0.6666666666666666,
              "#ed7953"
             ],
             [
              0.7777777777777778,
              "#fb9f3a"
             ],
             [
              0.8888888888888888,
              "#fdca26"
             ],
             [
              1,
              "#f0f921"
             ]
            ],
            "type": "histogram2d"
           }
          ],
          "histogram2dcontour": [
           {
            "colorbar": {
             "outlinewidth": 0,
             "ticks": ""
            },
            "colorscale": [
             [
              0,
              "#0d0887"
             ],
             [
              0.1111111111111111,
              "#46039f"
             ],
             [
              0.2222222222222222,
              "#7201a8"
             ],
             [
              0.3333333333333333,
              "#9c179e"
             ],
             [
              0.4444444444444444,
              "#bd3786"
             ],
             [
              0.5555555555555556,
              "#d8576b"
             ],
             [
              0.6666666666666666,
              "#ed7953"
             ],
             [
              0.7777777777777778,
              "#fb9f3a"
             ],
             [
              0.8888888888888888,
              "#fdca26"
             ],
             [
              1,
              "#f0f921"
             ]
            ],
            "type": "histogram2dcontour"
           }
          ],
          "mesh3d": [
           {
            "colorbar": {
             "outlinewidth": 0,
             "ticks": ""
            },
            "type": "mesh3d"
           }
          ],
          "parcoords": [
           {
            "line": {
             "colorbar": {
              "outlinewidth": 0,
              "ticks": ""
             }
            },
            "type": "parcoords"
           }
          ],
          "pie": [
           {
            "automargin": true,
            "type": "pie"
           }
          ],
          "scatter": [
           {
            "fillpattern": {
             "fillmode": "overlay",
             "size": 10,
             "solidity": 0.2
            },
            "type": "scatter"
           }
          ],
          "scatter3d": [
           {
            "line": {
             "colorbar": {
              "outlinewidth": 0,
              "ticks": ""
             }
            },
            "marker": {
             "colorbar": {
              "outlinewidth": 0,
              "ticks": ""
             }
            },
            "type": "scatter3d"
           }
          ],
          "scattercarpet": [
           {
            "marker": {
             "colorbar": {
              "outlinewidth": 0,
              "ticks": ""
             }
            },
            "type": "scattercarpet"
           }
          ],
          "scattergeo": [
           {
            "marker": {
             "colorbar": {
              "outlinewidth": 0,
              "ticks": ""
             }
            },
            "type": "scattergeo"
           }
          ],
          "scattergl": [
           {
            "marker": {
             "colorbar": {
              "outlinewidth": 0,
              "ticks": ""
             }
            },
            "type": "scattergl"
           }
          ],
          "scattermapbox": [
           {
            "marker": {
             "colorbar": {
              "outlinewidth": 0,
              "ticks": ""
             }
            },
            "type": "scattermapbox"
           }
          ],
          "scatterpolar": [
           {
            "marker": {
             "colorbar": {
              "outlinewidth": 0,
              "ticks": ""
             }
            },
            "type": "scatterpolar"
           }
          ],
          "scatterpolargl": [
           {
            "marker": {
             "colorbar": {
              "outlinewidth": 0,
              "ticks": ""
             }
            },
            "type": "scatterpolargl"
           }
          ],
          "scatterternary": [
           {
            "marker": {
             "colorbar": {
              "outlinewidth": 0,
              "ticks": ""
             }
            },
            "type": "scatterternary"
           }
          ],
          "surface": [
           {
            "colorbar": {
             "outlinewidth": 0,
             "ticks": ""
            },
            "colorscale": [
             [
              0,
              "#0d0887"
             ],
             [
              0.1111111111111111,
              "#46039f"
             ],
             [
              0.2222222222222222,
              "#7201a8"
             ],
             [
              0.3333333333333333,
              "#9c179e"
             ],
             [
              0.4444444444444444,
              "#bd3786"
             ],
             [
              0.5555555555555556,
              "#d8576b"
             ],
             [
              0.6666666666666666,
              "#ed7953"
             ],
             [
              0.7777777777777778,
              "#fb9f3a"
             ],
             [
              0.8888888888888888,
              "#fdca26"
             ],
             [
              1,
              "#f0f921"
             ]
            ],
            "type": "surface"
           }
          ],
          "table": [
           {
            "cells": {
             "fill": {
              "color": "#EBF0F8"
             },
             "line": {
              "color": "white"
             }
            },
            "header": {
             "fill": {
              "color": "#C8D4E3"
             },
             "line": {
              "color": "white"
             }
            },
            "type": "table"
           }
          ]
         },
         "layout": {
          "annotationdefaults": {
           "arrowcolor": "#2a3f5f",
           "arrowhead": 0,
           "arrowwidth": 1
          },
          "autotypenumbers": "strict",
          "coloraxis": {
           "colorbar": {
            "outlinewidth": 0,
            "ticks": ""
           }
          },
          "colorscale": {
           "diverging": [
            [
             0,
             "#8e0152"
            ],
            [
             0.1,
             "#c51b7d"
            ],
            [
             0.2,
             "#de77ae"
            ],
            [
             0.3,
             "#f1b6da"
            ],
            [
             0.4,
             "#fde0ef"
            ],
            [
             0.5,
             "#f7f7f7"
            ],
            [
             0.6,
             "#e6f5d0"
            ],
            [
             0.7,
             "#b8e186"
            ],
            [
             0.8,
             "#7fbc41"
            ],
            [
             0.9,
             "#4d9221"
            ],
            [
             1,
             "#276419"
            ]
           ],
           "sequential": [
            [
             0,
             "#0d0887"
            ],
            [
             0.1111111111111111,
             "#46039f"
            ],
            [
             0.2222222222222222,
             "#7201a8"
            ],
            [
             0.3333333333333333,
             "#9c179e"
            ],
            [
             0.4444444444444444,
             "#bd3786"
            ],
            [
             0.5555555555555556,
             "#d8576b"
            ],
            [
             0.6666666666666666,
             "#ed7953"
            ],
            [
             0.7777777777777778,
             "#fb9f3a"
            ],
            [
             0.8888888888888888,
             "#fdca26"
            ],
            [
             1,
             "#f0f921"
            ]
           ],
           "sequentialminus": [
            [
             0,
             "#0d0887"
            ],
            [
             0.1111111111111111,
             "#46039f"
            ],
            [
             0.2222222222222222,
             "#7201a8"
            ],
            [
             0.3333333333333333,
             "#9c179e"
            ],
            [
             0.4444444444444444,
             "#bd3786"
            ],
            [
             0.5555555555555556,
             "#d8576b"
            ],
            [
             0.6666666666666666,
             "#ed7953"
            ],
            [
             0.7777777777777778,
             "#fb9f3a"
            ],
            [
             0.8888888888888888,
             "#fdca26"
            ],
            [
             1,
             "#f0f921"
            ]
           ]
          },
          "colorway": [
           "#636efa",
           "#EF553B",
           "#00cc96",
           "#ab63fa",
           "#FFA15A",
           "#19d3f3",
           "#FF6692",
           "#B6E880",
           "#FF97FF",
           "#FECB52"
          ],
          "font": {
           "color": "#2a3f5f"
          },
          "geo": {
           "bgcolor": "white",
           "lakecolor": "white",
           "landcolor": "#E5ECF6",
           "showlakes": true,
           "showland": true,
           "subunitcolor": "white"
          },
          "hoverlabel": {
           "align": "left"
          },
          "hovermode": "closest",
          "mapbox": {
           "style": "light"
          },
          "paper_bgcolor": "white",
          "plot_bgcolor": "#E5ECF6",
          "polar": {
           "angularaxis": {
            "gridcolor": "white",
            "linecolor": "white",
            "ticks": ""
           },
           "bgcolor": "#E5ECF6",
           "radialaxis": {
            "gridcolor": "white",
            "linecolor": "white",
            "ticks": ""
           }
          },
          "scene": {
           "xaxis": {
            "backgroundcolor": "#E5ECF6",
            "gridcolor": "white",
            "gridwidth": 2,
            "linecolor": "white",
            "showbackground": true,
            "ticks": "",
            "zerolinecolor": "white"
           },
           "yaxis": {
            "backgroundcolor": "#E5ECF6",
            "gridcolor": "white",
            "gridwidth": 2,
            "linecolor": "white",
            "showbackground": true,
            "ticks": "",
            "zerolinecolor": "white"
           },
           "zaxis": {
            "backgroundcolor": "#E5ECF6",
            "gridcolor": "white",
            "gridwidth": 2,
            "linecolor": "white",
            "showbackground": true,
            "ticks": "",
            "zerolinecolor": "white"
           }
          },
          "shapedefaults": {
           "line": {
            "color": "#2a3f5f"
           }
          },
          "ternary": {
           "aaxis": {
            "gridcolor": "white",
            "linecolor": "white",
            "ticks": ""
           },
           "baxis": {
            "gridcolor": "white",
            "linecolor": "white",
            "ticks": ""
           },
           "bgcolor": "#E5ECF6",
           "caxis": {
            "gridcolor": "white",
            "linecolor": "white",
            "ticks": ""
           }
          },
          "title": {
           "x": 0.05
          },
          "xaxis": {
           "automargin": true,
           "gridcolor": "white",
           "linecolor": "white",
           "ticks": "",
           "title": {
            "standoff": 15
           },
           "zerolinecolor": "white",
           "zerolinewidth": 2
          },
          "yaxis": {
           "automargin": true,
           "gridcolor": "white",
           "linecolor": "white",
           "ticks": "",
           "title": {
            "standoff": 15
           },
           "zerolinecolor": "white",
           "zerolinewidth": 2
          }
         }
        },
        "title": {
         "text": "Parallel Coordinate Plot"
        }
       }
      },
      "text/html": [
       "<div>                            <div id=\"7f9953f5-ce90-41e7-8e10-5a5d2385a809\" class=\"plotly-graph-div\" style=\"height:525px; width:100%;\"></div>            <script type=\"text/javascript\">                require([\"plotly\"], function(Plotly) {                    window.PLOTLYENV=window.PLOTLYENV || {};                                    if (document.getElementById(\"7f9953f5-ce90-41e7-8e10-5a5d2385a809\")) {                    Plotly.newPlot(                        \"7f9953f5-ce90-41e7-8e10-5a5d2385a809\",                        [{\"dimensions\":[{\"label\":\"Objective Value\",\"range\":[50.866783142089844,966.4979858398438],\"values\":[87.54707336425781,53.506797790527344,85.3478012084961,52.3698844909668,51.386505126953125,52.53421401977539,56.3623046875,53.66898727416992,79.5726318359375,53.037086486816406,52.9732666015625,52.198368072509766,50.866783142089844,54.68820571899414,54.81644058227539,51.581092834472656,52.0120964050293,51.988094329833984,55.302616119384766,57.61300277709961,55.16278076171875,52.36500549316406,51.244049072265625,67.7056884765625,53.2070198059082,55.15299606323242,63.31104278564453,53.41546630859375,53.40592956542969,53.96190643310547,56.462074279785156,54.45484924316406,54.45306396484375,51.7860107421875,54.60464096069336,144.81268310546875,966.4979858398438,56.01045227050781,66.96858215332031,64.95043182373047,64.23854064941406,55.357505798339844,51.2218132019043,53.8745002746582,52.162715911865234,58.79143142700195,54.7037353515625,54.24106216430664,54.93380355834961,66.14729309082031]},{\"label\":\"arch.attn_dropout\",\"range\":[0.0,0.5],\"values\":[0.4,0.0,0.1,0.5,0.2,0.0,0.30000000000000004,0.5,0.5,0.5,0.5,0.5,0.4,0.4,0.30000000000000004,0.4,0.30000000000000004,0.4,0.4,0.1,0.0,0.4,0.4,0.5,0.4,0.30000000000000004,0.2,0.4,0.5,0.0,0.5,0.2,0.5,0.1,0.5,0.1,0.1,0.30000000000000004,0.30000000000000004,0.2,0.4,0.5,0.1,0.30000000000000004,0.4,0.2,0.4,0.5,0.30000000000000004,0.5]},{\"label\":\"arch.d_ff\",\"range\":[32,512],\"values\":[416,384,480,64,128,96,256,384,448,160,128,128,32,64,64,32,64,32,32,160,352,192,96,192,32,64,64,96,192,128,64,224,224,160,512,320,352,256,64,96,160,192,64,512,128,192,32,128,256,224]},{\"label\":\"arch.d_model\",\"range\":[32,512],\"values\":[160,64,32,416,320,192,512,448,480,448,448,512,512,512,480,512,384,480,448,288,64,480,352,448,192,384,320,480,384,192,480,480,512,224,96,192,416,384,256,320,352,416,192,288,512,448,384,512,512,512]},{\"label\":\"arch.decomposition\",\"range\":[0,1],\"ticktext\":[\"False\",\"True\"],\"tickvals\":[0,1],\"values\":[0,0,1,0,0,1,1,0,0,0,1,0,0,0,0,0,0,0,0,0,0,0,0,0,0,1,0,1,0,1,0,0,0,1,1,0,1,0,0,0,0,1,1,0,0,0,0,1,1,0]},{\"label\":\"arch.dropout\",\"range\":[0.0,0.5],\"values\":[0.0,0.5,0.5,0.4,0.5,0.5,0.2,0.30000000000000004,0.2,0.2,0.2,0.30000000000000004,0.5,0.5,0.5,0.4,0.5,0.4,0.2,0.5,0.5,0.5,0.5,0.5,0.5,0.4,0.5,0.5,0.4,0.30000000000000004,0.5,0.4,0.30000000000000004,0.5,0.2,0.5,0.0,0.4,0.2,0.5,0.4,0.1,0.5,0.30000000000000004,0.5,0.5,0.5,0.5,0.5,0.4]},{\"label\":\"arch.individual\",\"range\":[0,1],\"ticktext\":[\"True\",\"False\"],\"tickvals\":[0,1],\"values\":[0,0,0,0,0,1,1,0,0,0,0,0,0,1,0,0,0,0,0,0,1,0,0,0,0,1,0,0,0,0,0,0,1,0,1,0,0,0,0,0,0,1,0,0,0,1,0,0,0,0]},{\"label\":\"arch.n_heads\",\"range\":[0,4],\"ticktext\":[\"2\",\"4\",\"8\",\"16\",\"32\"],\"tickvals\":[0,1,2,3,4],\"values\":[0,0,0,0,0,0,0,0,0,0,0,0,0,0,0,0,0,0,0,0,0,0,0,0,0,0,1,1,1,1,2,2,2,2,3,3,3,3,3,3,4,4,4,4,4,4,4,4,4,4]},{\"label\":\"arch.n_layers\",\"range\":[1,6],\"values\":[4,5,4,4,1,1,2,3,3,3,3,4,2,3,2,1,1,2,1,2,5,5,1,1,1,1,2,2,5,3,1,1,4,1,4,4,6,4,1,1,1,6,1,3,2,1,3,1,4,1]},{\"label\":\"init_weights\",\"range\":[0,1],\"ticktext\":[\"False\",\"True\"],\"tickvals\":[0,1],\"values\":[1,0,0,1,1,1,1,1,1,0,0,0,1,1,0,1,1,1,1,1,0,0,1,1,1,1,1,1,0,0,1,1,0,1,1,0,1,1,1,1,1,0,1,0,1,1,1,0,1,1]},{\"label\":\"lookback\",\"range\":[0,4],\"ticktext\":[\"144\",\"192\",\"240\",\"288\",\"336\"],\"tickvals\":[0,1,2,3,4],\"values\":[0,0,0,0,1,1,2,2,2,2,2,2,2,2,2,2,2,2,2,3,4,4,4,4,4,4,1,2,2,3,1,2,3,3,0,0,1,2,3,4,0,1,1,3,3,3,3,3,3,3]}],\"labelangle\":30,\"labelside\":\"bottom\",\"line\":{\"color\":[87.54707336425781,53.506797790527344,85.3478012084961,52.3698844909668,51.386505126953125,52.53421401977539,56.3623046875,53.66898727416992,79.5726318359375,53.037086486816406,52.9732666015625,52.198368072509766,50.866783142089844,54.68820571899414,54.81644058227539,51.581092834472656,52.0120964050293,51.988094329833984,55.302616119384766,57.61300277709961,55.16278076171875,52.36500549316406,51.244049072265625,67.7056884765625,53.2070198059082,55.15299606323242,63.31104278564453,53.41546630859375,53.40592956542969,53.96190643310547,56.462074279785156,54.45484924316406,54.45306396484375,51.7860107421875,54.60464096069336,144.81268310546875,966.4979858398438,56.01045227050781,66.96858215332031,64.95043182373047,64.23854064941406,55.357505798339844,51.2218132019043,53.8745002746582,52.162715911865234,58.79143142700195,54.7037353515625,54.24106216430664,54.93380355834961,66.14729309082031],\"colorbar\":{\"title\":{\"text\":\"Objective Value\"}},\"colorscale\":[[0.0,\"rgb(247,251,255)\"],[0.125,\"rgb(222,235,247)\"],[0.25,\"rgb(198,219,239)\"],[0.375,\"rgb(158,202,225)\"],[0.5,\"rgb(107,174,214)\"],[0.625,\"rgb(66,146,198)\"],[0.75,\"rgb(33,113,181)\"],[0.875,\"rgb(8,81,156)\"],[1.0,\"rgb(8,48,107)\"]],\"reversescale\":true,\"showscale\":true},\"type\":\"parcoords\"}],                        {\"title\":{\"text\":\"Parallel Coordinate Plot\"},\"template\":{\"data\":{\"histogram2dcontour\":[{\"type\":\"histogram2dcontour\",\"colorbar\":{\"outlinewidth\":0,\"ticks\":\"\"},\"colorscale\":[[0.0,\"#0d0887\"],[0.1111111111111111,\"#46039f\"],[0.2222222222222222,\"#7201a8\"],[0.3333333333333333,\"#9c179e\"],[0.4444444444444444,\"#bd3786\"],[0.5555555555555556,\"#d8576b\"],[0.6666666666666666,\"#ed7953\"],[0.7777777777777778,\"#fb9f3a\"],[0.8888888888888888,\"#fdca26\"],[1.0,\"#f0f921\"]]}],\"choropleth\":[{\"type\":\"choropleth\",\"colorbar\":{\"outlinewidth\":0,\"ticks\":\"\"}}],\"histogram2d\":[{\"type\":\"histogram2d\",\"colorbar\":{\"outlinewidth\":0,\"ticks\":\"\"},\"colorscale\":[[0.0,\"#0d0887\"],[0.1111111111111111,\"#46039f\"],[0.2222222222222222,\"#7201a8\"],[0.3333333333333333,\"#9c179e\"],[0.4444444444444444,\"#bd3786\"],[0.5555555555555556,\"#d8576b\"],[0.6666666666666666,\"#ed7953\"],[0.7777777777777778,\"#fb9f3a\"],[0.8888888888888888,\"#fdca26\"],[1.0,\"#f0f921\"]]}],\"heatmap\":[{\"type\":\"heatmap\",\"colorbar\":{\"outlinewidth\":0,\"ticks\":\"\"},\"colorscale\":[[0.0,\"#0d0887\"],[0.1111111111111111,\"#46039f\"],[0.2222222222222222,\"#7201a8\"],[0.3333333333333333,\"#9c179e\"],[0.4444444444444444,\"#bd3786\"],[0.5555555555555556,\"#d8576b\"],[0.6666666666666666,\"#ed7953\"],[0.7777777777777778,\"#fb9f3a\"],[0.8888888888888888,\"#fdca26\"],[1.0,\"#f0f921\"]]}],\"heatmapgl\":[{\"type\":\"heatmapgl\",\"colorbar\":{\"outlinewidth\":0,\"ticks\":\"\"},\"colorscale\":[[0.0,\"#0d0887\"],[0.1111111111111111,\"#46039f\"],[0.2222222222222222,\"#7201a8\"],[0.3333333333333333,\"#9c179e\"],[0.4444444444444444,\"#bd3786\"],[0.5555555555555556,\"#d8576b\"],[0.6666666666666666,\"#ed7953\"],[0.7777777777777778,\"#fb9f3a\"],[0.8888888888888888,\"#fdca26\"],[1.0,\"#f0f921\"]]}],\"contourcarpet\":[{\"type\":\"contourcarpet\",\"colorbar\":{\"outlinewidth\":0,\"ticks\":\"\"}}],\"contour\":[{\"type\":\"contour\",\"colorbar\":{\"outlinewidth\":0,\"ticks\":\"\"},\"colorscale\":[[0.0,\"#0d0887\"],[0.1111111111111111,\"#46039f\"],[0.2222222222222222,\"#7201a8\"],[0.3333333333333333,\"#9c179e\"],[0.4444444444444444,\"#bd3786\"],[0.5555555555555556,\"#d8576b\"],[0.6666666666666666,\"#ed7953\"],[0.7777777777777778,\"#fb9f3a\"],[0.8888888888888888,\"#fdca26\"],[1.0,\"#f0f921\"]]}],\"surface\":[{\"type\":\"surface\",\"colorbar\":{\"outlinewidth\":0,\"ticks\":\"\"},\"colorscale\":[[0.0,\"#0d0887\"],[0.1111111111111111,\"#46039f\"],[0.2222222222222222,\"#7201a8\"],[0.3333333333333333,\"#9c179e\"],[0.4444444444444444,\"#bd3786\"],[0.5555555555555556,\"#d8576b\"],[0.6666666666666666,\"#ed7953\"],[0.7777777777777778,\"#fb9f3a\"],[0.8888888888888888,\"#fdca26\"],[1.0,\"#f0f921\"]]}],\"mesh3d\":[{\"type\":\"mesh3d\",\"colorbar\":{\"outlinewidth\":0,\"ticks\":\"\"}}],\"scatter\":[{\"fillpattern\":{\"fillmode\":\"overlay\",\"size\":10,\"solidity\":0.2},\"type\":\"scatter\"}],\"parcoords\":[{\"type\":\"parcoords\",\"line\":{\"colorbar\":{\"outlinewidth\":0,\"ticks\":\"\"}}}],\"scatterpolargl\":[{\"type\":\"scatterpolargl\",\"marker\":{\"colorbar\":{\"outlinewidth\":0,\"ticks\":\"\"}}}],\"bar\":[{\"error_x\":{\"color\":\"#2a3f5f\"},\"error_y\":{\"color\":\"#2a3f5f\"},\"marker\":{\"line\":{\"color\":\"#E5ECF6\",\"width\":0.5},\"pattern\":{\"fillmode\":\"overlay\",\"size\":10,\"solidity\":0.2}},\"type\":\"bar\"}],\"scattergeo\":[{\"type\":\"scattergeo\",\"marker\":{\"colorbar\":{\"outlinewidth\":0,\"ticks\":\"\"}}}],\"scatterpolar\":[{\"type\":\"scatterpolar\",\"marker\":{\"colorbar\":{\"outlinewidth\":0,\"ticks\":\"\"}}}],\"histogram\":[{\"marker\":{\"pattern\":{\"fillmode\":\"overlay\",\"size\":10,\"solidity\":0.2}},\"type\":\"histogram\"}],\"scattergl\":[{\"type\":\"scattergl\",\"marker\":{\"colorbar\":{\"outlinewidth\":0,\"ticks\":\"\"}}}],\"scatter3d\":[{\"type\":\"scatter3d\",\"line\":{\"colorbar\":{\"outlinewidth\":0,\"ticks\":\"\"}},\"marker\":{\"colorbar\":{\"outlinewidth\":0,\"ticks\":\"\"}}}],\"scattermapbox\":[{\"type\":\"scattermapbox\",\"marker\":{\"colorbar\":{\"outlinewidth\":0,\"ticks\":\"\"}}}],\"scatterternary\":[{\"type\":\"scatterternary\",\"marker\":{\"colorbar\":{\"outlinewidth\":0,\"ticks\":\"\"}}}],\"scattercarpet\":[{\"type\":\"scattercarpet\",\"marker\":{\"colorbar\":{\"outlinewidth\":0,\"ticks\":\"\"}}}],\"carpet\":[{\"aaxis\":{\"endlinecolor\":\"#2a3f5f\",\"gridcolor\":\"white\",\"linecolor\":\"white\",\"minorgridcolor\":\"white\",\"startlinecolor\":\"#2a3f5f\"},\"baxis\":{\"endlinecolor\":\"#2a3f5f\",\"gridcolor\":\"white\",\"linecolor\":\"white\",\"minorgridcolor\":\"white\",\"startlinecolor\":\"#2a3f5f\"},\"type\":\"carpet\"}],\"table\":[{\"cells\":{\"fill\":{\"color\":\"#EBF0F8\"},\"line\":{\"color\":\"white\"}},\"header\":{\"fill\":{\"color\":\"#C8D4E3\"},\"line\":{\"color\":\"white\"}},\"type\":\"table\"}],\"barpolar\":[{\"marker\":{\"line\":{\"color\":\"#E5ECF6\",\"width\":0.5},\"pattern\":{\"fillmode\":\"overlay\",\"size\":10,\"solidity\":0.2}},\"type\":\"barpolar\"}],\"pie\":[{\"automargin\":true,\"type\":\"pie\"}]},\"layout\":{\"autotypenumbers\":\"strict\",\"colorway\":[\"#636efa\",\"#EF553B\",\"#00cc96\",\"#ab63fa\",\"#FFA15A\",\"#19d3f3\",\"#FF6692\",\"#B6E880\",\"#FF97FF\",\"#FECB52\"],\"font\":{\"color\":\"#2a3f5f\"},\"hovermode\":\"closest\",\"hoverlabel\":{\"align\":\"left\"},\"paper_bgcolor\":\"white\",\"plot_bgcolor\":\"#E5ECF6\",\"polar\":{\"bgcolor\":\"#E5ECF6\",\"angularaxis\":{\"gridcolor\":\"white\",\"linecolor\":\"white\",\"ticks\":\"\"},\"radialaxis\":{\"gridcolor\":\"white\",\"linecolor\":\"white\",\"ticks\":\"\"}},\"ternary\":{\"bgcolor\":\"#E5ECF6\",\"aaxis\":{\"gridcolor\":\"white\",\"linecolor\":\"white\",\"ticks\":\"\"},\"baxis\":{\"gridcolor\":\"white\",\"linecolor\":\"white\",\"ticks\":\"\"},\"caxis\":{\"gridcolor\":\"white\",\"linecolor\":\"white\",\"ticks\":\"\"}},\"coloraxis\":{\"colorbar\":{\"outlinewidth\":0,\"ticks\":\"\"}},\"colorscale\":{\"sequential\":[[0.0,\"#0d0887\"],[0.1111111111111111,\"#46039f\"],[0.2222222222222222,\"#7201a8\"],[0.3333333333333333,\"#9c179e\"],[0.4444444444444444,\"#bd3786\"],[0.5555555555555556,\"#d8576b\"],[0.6666666666666666,\"#ed7953\"],[0.7777777777777778,\"#fb9f3a\"],[0.8888888888888888,\"#fdca26\"],[1.0,\"#f0f921\"]],\"sequentialminus\":[[0.0,\"#0d0887\"],[0.1111111111111111,\"#46039f\"],[0.2222222222222222,\"#7201a8\"],[0.3333333333333333,\"#9c179e\"],[0.4444444444444444,\"#bd3786\"],[0.5555555555555556,\"#d8576b\"],[0.6666666666666666,\"#ed7953\"],[0.7777777777777778,\"#fb9f3a\"],[0.8888888888888888,\"#fdca26\"],[1.0,\"#f0f921\"]],\"diverging\":[[0,\"#8e0152\"],[0.1,\"#c51b7d\"],[0.2,\"#de77ae\"],[0.3,\"#f1b6da\"],[0.4,\"#fde0ef\"],[0.5,\"#f7f7f7\"],[0.6,\"#e6f5d0\"],[0.7,\"#b8e186\"],[0.8,\"#7fbc41\"],[0.9,\"#4d9221\"],[1,\"#276419\"]]},\"xaxis\":{\"gridcolor\":\"white\",\"linecolor\":\"white\",\"ticks\":\"\",\"title\":{\"standoff\":15},\"zerolinecolor\":\"white\",\"automargin\":true,\"zerolinewidth\":2},\"yaxis\":{\"gridcolor\":\"white\",\"linecolor\":\"white\",\"ticks\":\"\",\"title\":{\"standoff\":15},\"zerolinecolor\":\"white\",\"automargin\":true,\"zerolinewidth\":2},\"scene\":{\"xaxis\":{\"backgroundcolor\":\"#E5ECF6\",\"gridcolor\":\"white\",\"linecolor\":\"white\",\"showbackground\":true,\"ticks\":\"\",\"zerolinecolor\":\"white\",\"gridwidth\":2},\"yaxis\":{\"backgroundcolor\":\"#E5ECF6\",\"gridcolor\":\"white\",\"linecolor\":\"white\",\"showbackground\":true,\"ticks\":\"\",\"zerolinecolor\":\"white\",\"gridwidth\":2},\"zaxis\":{\"backgroundcolor\":\"#E5ECF6\",\"gridcolor\":\"white\",\"linecolor\":\"white\",\"showbackground\":true,\"ticks\":\"\",\"zerolinecolor\":\"white\",\"gridwidth\":2}},\"shapedefaults\":{\"line\":{\"color\":\"#2a3f5f\"}},\"annotationdefaults\":{\"arrowcolor\":\"#2a3f5f\",\"arrowhead\":0,\"arrowwidth\":1},\"geo\":{\"bgcolor\":\"white\",\"landcolor\":\"#E5ECF6\",\"subunitcolor\":\"white\",\"showland\":true,\"showlakes\":true,\"lakecolor\":\"white\"},\"title\":{\"x\":0.05},\"mapbox\":{\"style\":\"light\"}}}},                        {\"responsive\": true}                    ).then(function(){\n",
       "                            \n",
       "var gd = document.getElementById('7f9953f5-ce90-41e7-8e10-5a5d2385a809');\n",
       "var x = new MutationObserver(function (mutations, observer) {{\n",
       "        var display = window.getComputedStyle(gd).display;\n",
       "        if (!display || display === 'none') {{\n",
       "            console.log([gd, 'removed!']);\n",
       "            Plotly.purge(gd);\n",
       "            observer.disconnect();\n",
       "        }}\n",
       "}});\n",
       "\n",
       "// Listen for the removal of the full notebook cells\n",
       "var notebookContainer = gd.closest('#notebook-container');\n",
       "if (notebookContainer) {{\n",
       "    x.observe(notebookContainer, {childList: true});\n",
       "}}\n",
       "\n",
       "// Listen for the clearing of the current output cell\n",
       "var outputEl = gd.closest('.output');\n",
       "if (outputEl) {{\n",
       "    x.observe(outputEl, {childList: true});\n",
       "}}\n",
       "\n",
       "                        })                };                });            </script>        </div>"
      ]
     },
     "metadata": {},
     "output_type": "display_data"
    },
    {
     "name": "stdout",
     "output_type": "stream",
     "text": [
      "\n",
      "Study statistics    : \n",
      "  Study name        : general_study_extended\n",
      "  # finished trials : 50\n",
      "  # pruned trials   : 0\n",
      "  # complete trials : 50\n",
      "\n",
      "Best trial          :\n",
      "  value             : 50.866783142089844\n",
      "  best_params = {'arch.attn_dropout': 0.4, 'arch.d_model': 512, 'arch.d_ff': 32, 'arch.decomposition': False, 'arch.dropout': 0.5, 'arch.individual': True, 'arch.n_layers': 2, 'arch.n_heads': 2, 'init_weights': True, 'lookback': 240}\n",
      "\n"
     ]
    }
   ],
   "source": [
    "# Skip the cells that are unnecesary as diagram plots or data update\n",
    "train_nb = filter_nb(config.train_nb, 'skip')\n",
    "\n",
    "obj = create_objective(train_nb, config.search_space, \n",
    "                       extra_params=config.extra_params, use_wandb=True)\n",
    "study = run_optuna_study(obj, study_type='bayesian', direction='minimize', path='./tmp',\n",
    "                 study_name=config.study_name, n_trials=config.n_trials)"
   ]
  },
  {
   "cell_type": "code",
   "execution_count": null,
   "metadata": {},
   "outputs": [],
   "source": [
    "# os.environ['WANDB_NOTEBOOK_NAME'] = '/workspaces/sw-driver-forecaster/dev_nbs/optuna_study_geodstap.ipynb'\n",
    "\n",
    "run = wandb.init(config=config, mode=config['wandb_mode'], job_type='optuna-study') if config['use_wandb'] else None"
   ]
  },
  {
   "cell_type": "code",
   "execution_count": null,
   "metadata": {},
   "outputs": [],
   "source": [
    "if run is not None:\n",
    "    run.log(dict(study.best_params, **{'best_value': study.best_value, \n",
    "                                       'best_trial_number': study.best_trial.number}))\n",
    "    run.log_artifact(f'./tmp/{config.study_name}.pkl', type='optuna_study')\n",
    "    run.log({\n",
    "        'contour': optuna.visualization.plot_contour(study),\n",
    "        'edf': optuna.visualization.plot_edf(study),\n",
    "        'intermediate_values': optuna.visualization.plot_intermediate_values(study),\n",
    "        'optimization_history': optuna.visualization.plot_optimization_history(study),\n",
    "        'parallel_coordinate' : optuna.visualization.plot_parallel_coordinate(study),\n",
    "        'param_importances': optuna.visualization.plot_param_importances(study),\n",
    "        'slice': optuna.visualization.plot_slice(study)\n",
    "    })"
   ]
  },
  {
   "cell_type": "code",
   "execution_count": null,
   "metadata": {},
   "outputs": [
    {
     "data": {
      "text/html": [
       "<style>\n",
       "    table.wandb td:nth-child(1) { padding: 0 10px; text-align: left ; width: auto;} td:nth-child(2) {text-align: left ; width: 100%}\n",
       "    .wandb-row { display: flex; flex-direction: row; flex-wrap: wrap; justify-content: flex-start; width: 100% }\n",
       "    .wandb-col { display: flex; flex-direction: column; flex-basis: 100%; flex: 1; padding: 10px; }\n",
       "    </style>\n",
       "<div class=\"wandb-row\"><div class=\"wandb-col\"><h3>Run history:</h3><br/><table class=\"wandb\"><tr><td>arch.attn_dropout</td><td>▁</td></tr><tr><td>arch.d_ff</td><td>▁</td></tr><tr><td>arch.d_model</td><td>▁</td></tr><tr><td>arch.decomposition</td><td>▁</td></tr><tr><td>arch.dropout</td><td>▁</td></tr><tr><td>arch.individual</td><td>▁</td></tr><tr><td>arch.n_heads</td><td>▁</td></tr><tr><td>arch.n_layers</td><td>▁</td></tr><tr><td>best_trial_number</td><td>▁</td></tr><tr><td>best_value</td><td>▁</td></tr><tr><td>init_weights</td><td>▁</td></tr><tr><td>lookback</td><td>▁</td></tr></table><br/></div><div class=\"wandb-col\"><h3>Run summary:</h3><br/><table class=\"wandb\"><tr><td>arch.attn_dropout</td><td>0.4</td></tr><tr><td>arch.d_ff</td><td>32</td></tr><tr><td>arch.d_model</td><td>512</td></tr><tr><td>arch.decomposition</td><td>False</td></tr><tr><td>arch.dropout</td><td>0.5</td></tr><tr><td>arch.individual</td><td>True</td></tr><tr><td>arch.n_heads</td><td>2</td></tr><tr><td>arch.n_layers</td><td>2</td></tr><tr><td>best_trial_number</td><td>18</td></tr><tr><td>best_value</td><td>50.86678</td></tr><tr><td>init_weights</td><td>True</td></tr><tr><td>lookback</td><td>240</td></tr></table><br/></div></div>"
      ],
      "text/plain": [
       "<IPython.core.display.HTML object>"
      ]
     },
     "metadata": {},
     "output_type": "display_data"
    },
    {
     "data": {
      "text/html": [
       "You can sync this run to the cloud by running:<br/><code>wandb sync /workspaces/sw-driver-forecaster/dev_nbs/wandb/offline-run-20240813_122814-quhmhgtq<code>"
      ],
      "text/plain": [
       "<IPython.core.display.HTML object>"
      ]
     },
     "metadata": {},
     "output_type": "display_data"
    },
    {
     "data": {
      "text/html": [
       "Find logs at: <code>./wandb/offline-run-20240813_122814-quhmhgtq/logs</code>"
      ],
      "text/plain": [
       "<IPython.core.display.HTML object>"
      ]
     },
     "metadata": {},
     "output_type": "display_data"
    },
    {
     "data": {
      "text/html": [
       "The new W&B backend becomes opt-out in version 0.18.0; try it out with `wandb.require(\"core\")`! See https://wandb.me/wandb-core for more information."
      ],
      "text/plain": [
       "<IPython.core.display.HTML object>"
      ]
     },
     "metadata": {},
     "output_type": "display_data"
    }
   ],
   "source": [
    "if run is not None:\n",
    "    run.finish()"
   ]
  }
 ],
 "metadata": {
  "kernelspec": {
   "display_name": "Python 3 (ipykernel)",
   "language": "python",
   "name": "python3"
  },
  "language_info": {
   "codemirror_mode": {
    "name": "ipython",
    "version": 3
   },
   "file_extension": ".py",
   "mimetype": "text/x-python",
   "name": "python",
   "nbconvert_exporter": "python",
   "pygments_lexer": "ipython3",
   "version": "3.10.12"
  },
  "vscode": {
   "interpreter": {
    "hash": "949777d72b0d2535278d3dc13498b2535136f6dfe0678499012e853ee9abcab1"
   }
  }
 },
 "nbformat": 4,
 "nbformat_minor": 4
}
