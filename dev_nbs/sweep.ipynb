{
 "cells": [
  {
   "attachments": {},
   "cell_type": "markdown",
   "metadata": {},
   "source": [
    "# Local sweep\n",
    "\n",
    "> Running sweeps locally (WIP)"
   ]
  },
  {
   "cell_type": "code",
   "execution_count": 16,
   "metadata": {},
   "outputs": [],
   "source": [
    "import wandb\n",
    "# wandb API\n",
    "api = wandb.Api()\n",
    "from tsai.wandb import *\n",
    "from tsai.utils import yaml2dict\n",
    "from fastcore.all  import AttrDict"
   ]
  },
  {
   "cell_type": "code",
   "execution_count": 23,
   "metadata": {
    "tags": [
     "parameters"
    ]
   },
   "outputs": [],
   "source": [
    "config = AttrDict(\n",
    "    yaml_path = '../sweeps/lookback_analysis.yaml',\n",
    "    prueba = 64\n",
    ")"
   ]
  },
  {
   "cell_type": "code",
   "execution_count": 19,
   "metadata": {},
   "outputs": [
    {
     "data": {
      "text/plain": [
       "{'method': 'grid',\n",
       " 'metric': {'goal': 'minimize', 'name': 'valid_loss'},\n",
       " 'name': 'lookback_sweep',\n",
       " 'parameters': {'lookback': {'distribution': 'categorical',\n",
       "   'values': [6, 12, 18, 24, 30, 36, 42, 48, 54, 60]}}}"
      ]
     },
     "execution_count": 19,
     "metadata": {},
     "output_type": "execute_result"
    }
   ],
   "source": [
    "sweep_config = yaml2dict(config.yaml_path, attrdict=False)\n",
    "sweep_config"
   ]
  },
  {
   "cell_type": "code",
   "execution_count": 8,
   "metadata": {},
   "outputs": [
    {
     "name": "stdout",
     "output_type": "stream",
     "text": [
      "Create sweep with ID: rqx4ib92\n",
      "Sweep URL: https://wandb.ai/vrodriguezf90/swdf/sweeps/rqx4ib92\n"
     ]
    },
    {
     "data": {
      "text/plain": [
       "'rqx4ib92'"
      ]
     },
     "execution_count": 8,
     "metadata": {},
     "output_type": "execute_result"
    }
   ],
   "source": [
    "# sweep_id = wandb.sweep(sweep_config)\n",
    "# sweep_id"
   ]
  },
  {
   "cell_type": "code",
   "execution_count": 20,
   "metadata": {},
   "outputs": [],
   "source": [
    "sweep_configuration = {\n",
    "    \"name\": \"my-awesome-sweep\",\n",
    "    \"metric\": {\"name\": \"accuracy\", \"goal\": \"maximize\"},\n",
    "    \"method\": \"grid\",\n",
    "    \"parameters\": {\"a\": {\"values\": [1, 2, 3, 4]}},\n",
    "}"
   ]
  },
  {
   "cell_type": "code",
   "execution_count": 18,
   "metadata": {},
   "outputs": [],
   "source": [
    "# sweep = wandb.controller(sweep_configuration)"
   ]
  },
  {
   "cell_type": "code",
   "execution_count": 27,
   "metadata": {},
   "outputs": [
    {
     "name": "stdout",
     "output_type": "stream",
     "text": [
      "Stored 'config' (AttrDict)\n"
     ]
    }
   ],
   "source": [
    "%store config"
   ]
  }
 ],
 "metadata": {
  "kernelspec": {
   "display_name": "Python 3 (ipykernel)",
   "language": "python",
   "name": "python3"
  },
  "language_info": {
   "codemirror_mode": {
    "name": "ipython",
    "version": 3
   },
   "file_extension": ".py",
   "mimetype": "text/x-python",
   "name": "python",
   "nbconvert_exporter": "python",
   "pygments_lexer": "ipython3",
   "version": "3.9.2"
  },
  "orig_nbformat": 4
 },
 "nbformat": 4,
 "nbformat_minor": 2
}
