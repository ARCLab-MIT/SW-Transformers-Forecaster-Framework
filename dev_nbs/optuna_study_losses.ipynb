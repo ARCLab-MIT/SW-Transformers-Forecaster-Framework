{
 "cells": [
  {
   "cell_type": "markdown",
   "metadata": {},
   "source": [
    "# Optuna study\n",
    "\n",
    "> Combine it with papermill and wandb for seamless hyperparameter tuning"
   ]
  },
  {
   "cell_type": "code",
   "execution_count": 12,
   "metadata": {},
   "outputs": [],
   "source": [
    "import sys\n",
    "sys.path.append('..')\n",
    "import os\n",
    "import optuna\n",
    "from tsai.optuna import *\n",
    "from tsai.basics import load_object\n",
    "import papermill as pm\n",
    "from fastcore.basics import *\n",
    "from optuna.distributions import *\n",
    "from optuna.samplers import TPESampler\n",
    "import wandb\n",
    "from swdf.metrics import ValidationMetricsHandler\n",
    "from swdf.losses import LossFactory"
   ]
  },
  {
   "cell_type": "code",
   "execution_count": 13,
   "metadata": {},
   "outputs": [
    {
     "data": {
      "text/html": [
       "\n",
       "        <table>\n",
       "            <thead>\n",
       "                <tr>\n",
       "                    <th style='text-align: left;'>Metric Name</th>\n",
       "                    <th style='text-align: left;'>Description</th>\n",
       "                </tr>\n",
       "            </thead>\n",
       "            <tbody>\n",
       "                <tr><td style='text-align: left;'><strong>Precision</strong></td><td style='text-align: left;'><p>Calculate the precision metric, which measures the ratio of correctly predicted positive observations to the total predicted positives.</p>          <h3>Parameters:</h3>         <ul>             <li>y_true (torch.Tensor): Actual values tensor of shape (batch_size, variables, horizon)</li>             <li>y_pred (torch.Tensor): Predicted values tensor of the same shape as y_true</li>         </ul>          <h3>Returns:</h3>         <p>torch.Tensor: Precision score<p></td></tr><tr><td style='text-align: left;'><strong>Recall</strong></td><td style='text-align: left;'><p>Calculate the recall metric, which measures the ratio of correctly predicted positive observations to all observations in the actual class.</p>          <h3>Parameters:</h3>         <ul>             <li>y_true (torch.Tensor): Actual values tensor of shape (batch_size, variables, horizon)</li>             <li>y_pred (torch.Tensor): Predicted values tensor of the same shape as y_true</li>         </ul>          <h3>Returns:</h3>         <p>torch.Tensor: Recall score<p></td></tr><tr><td style='text-align: left;'><strong>F1_Score</strong></td><td style='text-align: left;'><p>Calculate the F1 score, which is the harmonic mean of precision and recall. It is used as a measure of a model’s accuracy on a dataset.</p>          <h3>Parameters:</h3>         <ul>             <li>y_true (torch.Tensor): Actual values tensor of shape (batch_size, variables, horizon)</li>             <li>y_pred (torch.Tensor): Predicted values tensor of the same shape as y_true</li>         </ul>          <h3>Returns:</h3>         <p>torch.Tensor: F1 score<p></td></tr><tr><td style='text-align: left;'><strong>Accuracy_Score</strong></td><td style='text-align: left;'><p>Calculate the accuracy score, which is the ratio of correctly predicted observations to the total observations.</p>          <h3>Parameters:</h3>         <ul>             <li>y_true (torch.Tensor): Actual values tensor of shape (batch_size, variables, horizon)</li>             <li>y_pred (torch.Tensor): Predicted values tensor of the same shape as y_true</li>         </ul>          <h3>Returns:</h3>         <p>torch.Tensor: Accuracy score<p></td></tr><tr><td style='text-align: left;'><strong>Specificity</strong></td><td style='text-align: left;'><p>Calculate the specificity metric, which measures the proportion of true negatives that are correctly identified.</p>          <h3>Parameters:</h3>         <ul>             <li>y_true (torch.Tensor): Actual values tensor of shape (batch_size, variables, horizon)</li>             <li>y_pred (torch.Tensor): Predicted values tensor of the same shape as y_true</li>         </ul>          <h3>Returns:</h3>         <p>torch.Tensor: Specificity score<p></td></tr><tr><td style='text-align: left;'><strong>Negative_Predictive_Value</strong></td><td style='text-align: left;'><p>Calculate the Negative Predictive Value (NPV), which measures the proportion of true negatives among all negative predictions.</p>          <h3>Parameters:</h3>         <ul>             <li>y_true (torch.Tensor): Actual values tensor of shape (batch_size, variables, horizon)</li>             <li>y_pred (torch.Tensor): Predicted values tensor of the same shape as y_true</li>         </ul>          <h3>Returns:</h3>         <p>torch.Tensor: Negative Predictive Value score<p></td></tr><tr><td style='text-align: left;'><strong>Detected_Outliers_Difference</strong></td><td style='text-align: left;'><p>Calculate the change in detected outliers (Δ Detected Outliers), representing the number of true outliers not predicted as outliers.</p>          <h3>Parameters:</h3>         <ul>             <li>y_true (torch.Tensor): Actual values tensor of shape (batch_size, variables, horizon)</li>             <li>y_pred (torch.Tensor): Predicted values tensor of the same shape as y_true</li>         </ul>          <h3>Returns:</h3>         <p>torch.Tensor: Count of undetected outliers<p></td></tr><tr><td style='text-align: left;'><strong>AURPC</strong></td><td style='text-align: left;'><p>Calculate the Area Under the Precision-Recall Curve (AUPRC), a          metric used to evaluate the effectiveness of a model in identifying rare, important events (outliers)</p>                  <h3>Parameters:</h3>         <ul>             <li>y_true (torch.Tensor): Actual values tensor of shape (batch_size, variables, horizon)</li>             <li>y_pred (torch.Tensor): Predicted values tensor of the same shape as y_true</li>                  <h3>Returns:</h3>         <p>torch.Tensor: AUPRC score<p></td></tr><tr><td style='text-align: left;'><strong>Skewness_Difference</strong></td><td style='text-align: left;'><p>Calculate the absolute difference in skewness between the actual and predicted values, which measures the asymmetry of the data distribution.</p>          <h3>Parameters:</h3>         <ul>             <li>y_true (torch.Tensor): Actual values tensor of shape (batch_size, variables, horizon)</li>             <li>y_pred (torch.Tensor): Predicted values tensor of the same shape as y_true</li>         </ul>          <h3>Returns:</h3>         <p>torch.Tensor: Absolute difference in skewness between y_true and y_pred<p></td></tr><tr><td style='text-align: left;'><strong>Kurtosis_Difference</strong></td><td style='text-align: left;'><p>Calculate the absolute difference in kurtosis between the actual and predicted values, which measures the tailedness of the data distribution.</p>          <h3>Parameters:</h3>         <ul>             <li>y_true (torch.Tensor): Actual values tensor of shape (batch_size, variables, horizon)</li>             <li>y_pred (torch.Tensor): Predicted values tensor of the same shape as y_true</li>         </ul>          <h3>Returns:</h3>         <p>torch.Tensor: Absolute difference in kurtosis between y_true and y_pred<p></td></tr><tr><td style='text-align: left;'><strong>R_Correlation</strong></td><td style='text-align: left;'><p>Calculate the Pearson Correlation Coefficient (R Correlation) between true and predicted values.</p>                  <h3>Parameters:</h3>         <ul>             <li>y_true (torch.Tensor): Actual values tensor of shape (batch_size, variables, horizon)</li>             <li>y_pred (torch.Tensor): Predicted values tensor of the same shape as y_true</li>         </ul>                  <h3>Returns:</h3>         <p>torch.Tensor: R Correlation coefficient<p></td></tr><tr><td style='text-align: left;'><strong>R2_Score</strong></td><td style='text-align: left;'><p>Calculate the R^2 score, which measures the proportion of the variance in the dependent variable that is predictable from the independent variable(s).</p>                  <h3>Parameters:</h3>         <ul>             <li>y_true (torch.Tensor): Actual values tensor of shape (batch_size, variables, horizon)</li>             <li>y_pred (torch.Tensor): Predicted values tensor of the same shape as y_true</li>         </ul>                  <h3>Returns:</h3>         <p>torch.Tensor: R^2 score<p></td></tr><tr><td style='text-align: left;'><strong>sMAPE</strong></td><td style='text-align: left;'>Calculate the Symmetric Mean Absolute Percentage Error (sMAPE).                  Parameters:         y_true (torch.Tensor): Actual values tensor of shape (batch_size, variables, horizon)         y_pred (torch.Tensor): Predicted values tensor of the same shape as y_true                  Returns:         torch.Tensor: sMAPE value</td></tr><tr><td style='text-align: left;'><strong>MSA</strong></td><td style='text-align: left;'>Calculate the Mean Scaled Absolute Error (MSA).                  Parameters:         y_true (torch.Tensor): Actual values tensor of shape (batch_size, variables, horizon)         y_pred (torch.Tensor): Predicted values tensor of the same shape as y_true                  Returns:         torch.Tensor: MSA value</td></tr><tr><td style='text-align: left;'><strong>SSPB</strong></td><td style='text-align: left;'><p>Calculate the Symmetric Signed Percentage Bias (SSPB), which measures the percentage bias with consideration for the direction of the bias.</p>                  <h3>Parameters:</h3>         <ul>             <li>y_true (torch.Tensor): Actual values tensor of shape (batch_size, variables, horizon)</li>             <li>y_pred (torch.Tensor): Predicted values tensor of the same shape as y_true</li>         </ul>                  <h3>Returns:</h3>         <p>torch.Tensor: SSPB value<p></td></tr>\n",
       "            </tbody>\n",
       "        </table>\n",
       "        "
      ],
      "text/plain": [
       "<IPython.core.display.HTML object>"
      ]
     },
     "metadata": {},
     "output_type": "display_data"
    }
   ],
   "source": [
    "val_metrics = ValidationMetricsHandler \n",
    "val_metrics.list()"
   ]
  },
  {
   "cell_type": "code",
   "execution_count": 14,
   "metadata": {},
   "outputs": [],
   "source": [
    "losses = list(LossFactory.losses.keys())\n",
    "primary_losses = losses[:-2] # Primary losses are the ones that do not need another loss to function."
   ]
  },
  {
   "cell_type": "code",
   "execution_count": 15,
   "metadata": {},
   "outputs": [
    {
     "data": {
      "text/markdown": [
       "```json\n",
       "{ 'extra_params': { 'bs': 64,\n",
       "                    'is_optuna_study': True,\n",
       "                    'main_metric': 'R2_Score',\n",
       "                    'metrics': [ 'R2_Score',\n",
       "                                 'Kurtosis_Difference',\n",
       "                                 'Skewness_Difference',\n",
       "                                 'MSA',\n",
       "                                 'SSPB'],\n",
       "                    'n_epoch': 100},\n",
       "  'loss_config': { 'alpha': FloatDistribution(high=0.9, log=False, low=0.1, step=0.05),\n",
       "                   'delta': FloatDistribution(high=10.0, log=False, low=0.2, step=0.2),\n",
       "                   'primary_loss': CategoricalDistribution(choices=('MSE', 'MAE', 'MSLE', 'RMSLE', 'Hubber', 'Quantile', 'wMSE', 'wMAE', 'wMSLE', 'wRMSLE', 'wHubber', 'wQuantile')),\n",
       "                   'quantile': FloatDistribution(high=0.9, log=False, low=0.1, step=0.05)},\n",
       "  'n_trials': 100,\n",
       "  'search_space': { 'arch.attn_dropout': DiscreteUniformDistribution(high=0.5, low=0.0, q=0.1),\n",
       "                    'arch.d_ff': IntUniformDistribution(high=512, low=32, step=32),\n",
       "                    'arch.d_model': IntUniformDistribution(high=512, low=32, step=32),\n",
       "                    'arch.decomposition': CategoricalDistribution(choices=(True, False)),\n",
       "                    'arch.dropout': DiscreteUniformDistribution(high=0.5, low=0.0, q=0.1),\n",
       "                    'arch.individual': CategoricalDistribution(choices=(True, False)),\n",
       "                    'arch.n_heads': CategoricalDistribution(choices=(2, 4, 8, 16, 32)),\n",
       "                    'arch.n_layers': IntUniformDistribution(high=6, low=1, step=1),\n",
       "                    'init_weights': CategoricalDistribution(choices=(True, False)),\n",
       "                    'lookback': CategoricalDistribution(choices=(18, 24, 36, 128, 192)),\n",
       "                    'loss_func': CategoricalDistribution(choices=('MSE', 'MAE', 'MSLE', 'RMSLE', 'Hubber', 'Quantile', 'wMSE', 'wMAE', 'wMSLE', 'wRMSLE', 'wHubber', 'wQuantile', 'Classification', 'Trended'))},\n",
       "  'study_name': 'general_study_extended',\n",
       "  'study_type': 'bayesian',\n",
       "  'train_nb': '/workspaces/sw-driver-forecaster/dev_nbs/solfsmy_train.ipynb',\n",
       "  'use_wandb': True,\n",
       "  'wandb_mode': 'offline'}\n",
       "```"
      ],
      "text/plain": [
       "{'study_name': 'general_study_extended',\n",
       " 'study_type': 'bayesian',\n",
       " 'n_trials': 100,\n",
       " 'train_nb': '/workspaces/sw-driver-forecaster/dev_nbs/solfsmy_train.ipynb',\n",
       " 'search_space': {'arch.attn_dropout': DiscreteUniformDistribution(high=0.5, low=0.0, q=0.1),\n",
       "  'arch.d_model': IntUniformDistribution(high=512, low=32, step=32),\n",
       "  'arch.d_ff': IntUniformDistribution(high=512, low=32, step=32),\n",
       "  'arch.decomposition': CategoricalDistribution(choices=(True, False)),\n",
       "  'arch.dropout': DiscreteUniformDistribution(high=0.5, low=0.0, q=0.1),\n",
       "  'arch.individual': CategoricalDistribution(choices=(True, False)),\n",
       "  'arch.n_layers': IntUniformDistribution(high=6, low=1, step=1),\n",
       "  'arch.n_heads': CategoricalDistribution(choices=(2, 4, 8, 16, 32)),\n",
       "  'init_weights': CategoricalDistribution(choices=(True, False)),\n",
       "  'lookback': CategoricalDistribution(choices=(18, 24, 36, 128, 192)),\n",
       "  'loss_func': CategoricalDistribution(choices=('MSE', 'MAE', 'MSLE', 'RMSLE', 'Hubber', 'Quantile', 'wMSE', 'wMAE', 'wMSLE', 'wRMSLE', 'wHubber', 'wQuantile', 'Classification', 'Trended'))},\n",
       " 'loss_config': {'delta': FloatDistribution(high=10.0, log=False, low=0.2, step=0.2),\n",
       "  'quantile': FloatDistribution(high=0.9, log=False, low=0.1, step=0.05),\n",
       "  'alpha': FloatDistribution(high=0.9, log=False, low=0.1, step=0.05),\n",
       "  'primary_loss': CategoricalDistribution(choices=('MSE', 'MAE', 'MSLE', 'RMSLE', 'Hubber', 'Quantile', 'wMSE', 'wMAE', 'wMSLE', 'wRMSLE', 'wHubber', 'wQuantile'))},\n",
       " 'extra_params': {'n_epoch': 100,\n",
       "  'bs': 64,\n",
       "  'is_optuna_study': True,\n",
       "  'metrics': ['R2_Score',\n",
       "   'Kurtosis_Difference',\n",
       "   'Skewness_Difference',\n",
       "   'MSA',\n",
       "   'SSPB'],\n",
       "  'main_metric': 'R2_Score'},\n",
       " 'use_wandb': True,\n",
       " 'wandb_mode': 'offline'}"
      ]
     },
     "execution_count": 15,
     "metadata": {},
     "output_type": "execute_result"
    }
   ],
   "source": [
    "metrics = [\n",
    "    'R2_Score',\n",
    "    'Kurtosis_Difference',\n",
    "    'Skewness_Difference',\n",
    "    'MSA',\n",
    "    'SSPB'\n",
    "]\n",
    "\n",
    "val_metrics = val_metrics(metrics)\n",
    "\n",
    "\n",
    "config = AttrDict(\n",
    "    study_name = 'general_study_extended', # name of the Optuna study\n",
    "    study_type = 'bayesian', # 'bayesian' or 'gridsearch' or 'random'\n",
    "    n_trials = 100, # number of trials\n",
    "    train_nb = f'{os.getcwd()}/solfsmy_train.ipynb', # path to the notebook to be executed\n",
    "    search_space = {\n",
    "        \"arch.attn_dropout\": DiscreteUniformDistribution(0.0, 0.5, 0.1),\n",
    "        \"arch.d_model\": IntUniformDistribution(32, 512, 32),\n",
    "        \"arch.d_ff\": IntUniformDistribution(32, 512, 32),\n",
    "        \"arch.decomposition\": CategoricalDistribution([True, False]),\n",
    "        \"arch.dropout\": DiscreteUniformDistribution(0.0, 0.5, 0.1), \n",
    "        \"arch.individual\": CategoricalDistribution([True, False]),\n",
    "        \"arch.n_layers\": IntUniformDistribution(1, 6, 1),\n",
    "        \"arch.n_heads\": CategoricalDistribution([2, 4, 8, 16, 32]),\n",
    "        \"init_weights\": CategoricalDistribution([True, False]), # true = kaiming\n",
    "        \"lookback\": CategoricalDistribution([18, 24, 36, 128, 192]),\n",
    "        \"loss_func\": CategoricalDistribution(losses),\n",
    "    },\n",
    "    loss_config = {\n",
    "        \"delta\": FloatDistribution(0.2, 10., step=0.2),\n",
    "        \"quantile\": FloatDistribution(0.1, 0.9, step=0.05),\n",
    "        \"alpha\": FloatDistribution(0.1, 0.9, step=0.05),\n",
    "        \"primary_loss\": CategoricalDistribution(primary_losses),\n",
    "    },\n",
    "    # Add extra parameters that are fixed, but not part of the search space\n",
    "    extra_params = {\n",
    "        \"n_epoch\": 100,\n",
    "        \"bs\": 64,\n",
    "        \"is_optuna_study\": True,\n",
    "        \"metrics\": metrics,\n",
    "        \"main_metric\": 'R2_Score',\n",
    "    },\n",
    "    use_wandb = True,\n",
    "    wandb_mode = 'offline'\n",
    ")\n",
    "\n",
    "%store -d best_valid_metrics                                            \n",
    "\n",
    "config"
   ]
  },
  {
   "cell_type": "code",
   "execution_count": 16,
   "metadata": {},
   "outputs": [],
   "source": [
    "def create_objective(train_nb, search_space, extra_params=None, use_wandb=False):\n",
    "    \"\"\"\n",
    "        Create objective function to be minimized by Optuna.\n",
    "        Inputs:\n",
    "            trial: Optuna trial object\n",
    "            train_nb: path to the training notebook\n",
    "            search_vars: keys of the search space to be used\n",
    "            wandb_group: name of the wandb group to be used\n",
    "        Output:\n",
    "            valid_loss: validation loss\n",
    "    \"\"\"\n",
    "    def objective(trial:optuna.Trial):\n",
    "        # Define the parameters to be passed to the training notebook through papermill\n",
    "        pm_parameters = {}\n",
    "        for k,v in search_space.items():\n",
    "            pm_parameters['config.' + k] = trial._suggest(k, v)\n",
    "            if k == 'loss_func':\n",
    "                if v in ['Hubber', 'wHubber']:\n",
    "                    pm_parameters['config.loss_config'] = {\n",
    "                        'delta': trial._suggest('delta', config.loss_config['delta'])\n",
    "                    }\n",
    "\n",
    "                elif v in ['Quantile', 'wQuantile']:\n",
    "                    pm_parameters['config.loss_config'] = {\n",
    "                        'quantile': trial._suggest('quantile', config.loss_config['quantile'])\n",
    "                    }\n",
    "            \n",
    "                elif v == 'classification':\n",
    "                    pm_parameters['config.loss_config'] = {\n",
    "                        'alpha': trial._suggest('alpha', config.loss_config['alpha']),\n",
    "                        'primary_loss': trial._suggest('primary_loss', config.loss_config['primary_loss'])\n",
    "                    }\n",
    "\n",
    "                elif v == 'Trended':\n",
    "                    pm_parameters['config.loss_config'] = {\n",
    "                        'primary_loss': trial._suggest('primary_loss', config.loss_config['primary_loss'])\n",
    "                    }\n",
    "                else:\n",
    "                    pm_parameters['config.loss_config'] = {}\n",
    "\n",
    "        # Add the extra parameters to the dictionary. The key of every parameter \n",
    "        # must be 'config.<param_name>'\n",
    "        if extra_params is not None:\n",
    "            for k,v in extra_params.items():\n",
    "                pm_parameters['config.' + k] = v\n",
    "                \n",
    "        # If using wandb, enable that in the training runs, all of them gathered\n",
    "        # into a group (NOTE: The train nb must have and use these config arguments)\n",
    "        if use_wandb:\n",
    "            pm_parameters['config.use_wandb'] = True\n",
    "            pm_parameters['config.wandb_group'] = config.study_name + '_runs'\n",
    "\n",
    "        # Call the training notebook using papermill (don't print the output)\n",
    "        stdout_file = open('tmp/pm_stdout.txt', 'w')\n",
    "        stderr_file = open('tmp/pm_stderr.txt', 'w')\n",
    "\n",
    "        pm.execute_notebook(\n",
    "            train_nb,\n",
    "            './tmp/pm_output.ipynb',\n",
    "            parameters = pm_parameters,\n",
    "            stdout_file = stdout_file,\n",
    "            stderr_file = stderr_file\n",
    "        )\n",
    "\n",
    "        # Close the output files\n",
    "        stdout_file.close()\n",
    "        stderr_file.close()\n",
    "\n",
    "        # Get the output value of interest from the source notebook\n",
    "\n",
    "        %store -r valid_metrics\n",
    "        objective_values = val_metrics.get_objective_values(valid_metrics)\n",
    "        \n",
    "        return *objective_values,\n",
    "\n",
    "    return objective"
   ]
  },
  {
   "cell_type": "code",
   "execution_count": 17,
   "metadata": {},
   "outputs": [],
   "source": [
    "\n",
    "from pathlib import Path\n",
    "from fastcore.script import *\n",
    "import joblib\n",
    "from importlib import import_module\n",
    "import warnings\n",
    "warnings.filterwarnings(\"ignore\")\n",
    "\n",
    "def run_optuna_study(objective, resume=None, study_type=None, multivariate=True, search_space=None, evaluate=None, seed=None, sampler=None, pruner=None, \n",
    "                     study_name=None, direction='maximize', n_trials=None, timeout=None, gc_after_trial=False, show_progress_bar=True, \n",
    "                     save_study=True, path='optuna', show_plots=True):\n",
    "    r\"\"\"Creates and runs an optuna study.\n",
    "\n",
    "    Args: \n",
    "        objective:          A callable that implements objective function.\n",
    "        resume:             Path to a previously saved study.\n",
    "        study_type:         Type of study selected (bayesian, gridsearch, randomsearch). Based on this a sampler will be build if sampler is None. \n",
    "                            If a sampler is passed, this has no effect.\n",
    "        multivariate:       If this is True, the multivariate TPE is used when suggesting parameters. The multivariate TPE is reported to outperform \n",
    "                            the independent TPE.\n",
    "        search_space:       Search space required when running a gridsearch (if you don't pass a sampler).\n",
    "        evaluate:           Allows you to pass a specific set of hyperparameters that will be evaluated.\n",
    "        seed:               Fixed seed used by samplers.\n",
    "        sampler:            A sampler object that implements background algorithm for value suggestion. If None is specified, TPESampler is used during \n",
    "                            single-objective optimization and NSGAIISampler during multi-objective optimization. See also samplers.\n",
    "        pruner:             A pruner object that decides early stopping of unpromising trials. If None is specified, MedianPruner is used as the default. \n",
    "                            See also pruners.\n",
    "        study_name:         Study’s name. If this argument is set to None, a unique name is generated automatically.\n",
    "        direction:          A sequence of directions during multi-objective optimization.\n",
    "        n_trials:           The number of trials. If this argument is set to None, there is no limitation on the number of trials. If timeout is also set to \n",
    "                            None, the study continues to create trials until it receives a termination signal such as Ctrl+C or SIGTERM.\n",
    "        timeout:            Stop study after the given number of second(s). If this argument is set to None, the study is executed without time limitation. \n",
    "                            If n_trials is also set to None, the study continues to create trials until it receives a termination signal such as \n",
    "                            Ctrl+C or SIGTERM.\n",
    "        gc_after_trial:     Flag to execute garbage collection at the end of each trial. By default, garbage collection is enabled, just in case. \n",
    "                            You can turn it off with this argument if memory is safely managed in your objective function.\n",
    "        show_progress_bar:  Flag to show progress bars or not. To disable progress bar, set this False.\n",
    "        save_study:         Save your study when finished/ interrupted.\n",
    "        path:               Folder where the study will be saved.\n",
    "        show_plots:         Flag to control whether plots are shown at the end of the study.\n",
    "    \"\"\"\n",
    "    \n",
    "    try: import optuna\n",
    "    except ImportError: raise ImportError('You need to install optuna to use run_optuna_study')\n",
    "\n",
    "    # Sampler\n",
    "    if sampler is None:\n",
    "        if study_type is None or \"bayes\" in study_type.lower(): \n",
    "            sampler = optuna.samplers.TPESampler(seed=seed, multivariate=multivariate)\n",
    "        elif \"grid\" in study_type.lower():\n",
    "            assert search_space, f\"you need to pass a search_space dict to run a gridsearch\"\n",
    "            sampler = optuna.samplers.GridSampler(search_space)\n",
    "        elif \"random\" in study_type.lower(): \n",
    "            sampler = optuna.samplers.RandomSampler(seed=seed)\n",
    "    assert sampler, \"you need to either select a study type (bayesian, gridsampler, randomsampler) or pass a sampler\"\n",
    "\n",
    "    # Study\n",
    "    if resume: \n",
    "        try:\n",
    "            study = joblib.load(resume)\n",
    "        except: \n",
    "            print(f\"joblib.load({resume}) couldn't recover any saved study. Check the path.\")\n",
    "            return\n",
    "        print(\"Best trial until now:\")\n",
    "        print(\" Value: \", study.best_trial.value)\n",
    "        print(\" Params: \")\n",
    "        for key, value in study.best_trial.params.items():\n",
    "            print(f\"    {key}: {value}\")\n",
    "    else: \n",
    "        study = optuna.create_study(sampler=sampler, pruner=pruner, study_name=study_name, directions=direction)\n",
    "    if evaluate: study.enqueue_trial(evaluate)\n",
    "    try:\n",
    "        study.optimize(objective, n_trials=n_trials, timeout=timeout, gc_after_trial=gc_after_trial, show_progress_bar=show_progress_bar)\n",
    "    except KeyboardInterrupt:\n",
    "        pass\n",
    "\n",
    "    # Save\n",
    "    if save_study:\n",
    "        full_path = Path(path)/f'{study.study_name}.pkl'\n",
    "        full_path.parent.mkdir(parents=True, exist_ok=True)\n",
    "        joblib.dump(study, full_path)\n",
    "        print(f'\\nOptuna study saved to {full_path}')\n",
    "        print(f\"To reload the study run: study = joblib.load('{full_path}')\")\n",
    "\n",
    "    # Plots\n",
    "    if show_plots and len(study.trials) > 1:\n",
    "        try: display(optuna.visualization.plot_optimization_history(study))\n",
    "        except: pass\n",
    "        try: display(optuna.visualization.plot_param_importances(study))\n",
    "        except: pass\n",
    "        try: display(optuna.visualization.plot_slice(study))\n",
    "        except: pass\n",
    "        try: display(optuna.visualization.plot_parallel_coordinate(study))\n",
    "        except: pass\n",
    "\n",
    "    # Study stats\n",
    "    try:\n",
    "        pruned_trials = [t for t in study.trials if t.state == optuna.trial.TrialState.PRUNED]\n",
    "        complete_trials = [t for t in study.trials if t.state == optuna.trial.TrialState.COMPLETE]\n",
    "        print(f\"\\nStudy statistics    : \")\n",
    "        print(f\"  Study name        : {study.study_name}\")\n",
    "        print(f\"  # finished trials : {len(study.trials)}\")\n",
    "        print(f\"  # pruned trials   : {len(pruned_trials)}\")\n",
    "        print(f\"  # complete trials : {len(complete_trials)}\")\n",
    "        \n",
    "        print(f\"\\nBest trial          :\")\n",
    "        trial = study.best_trial\n",
    "        print(f\"  value             : {trial.value}\")\n",
    "        print(f\"  best_params = {trial.params}\\n\")\n",
    "    except:\n",
    "        print('\\nNo finished trials yet.')\n",
    "    return study\n"
   ]
  },
  {
   "cell_type": "code",
   "execution_count": 18,
   "metadata": {},
   "outputs": [],
   "source": [
    "import nbformat\n",
    "\n",
    "def filter_nb (path:str, skip_tags:list):\n",
    "    # Load the notebook\n",
    "    nb = nbformat.read(path, as_version=4)\n",
    "\n",
    "    # Filter out cells with specific tags\n",
    "    filtered_cells = [cell for cell in nb.cells if not set(skip_tags) & set(cell.metadata.get('tags', []))]\n",
    "    nb.cells = filtered_cells\n",
    "    \n",
    "    return nb"
   ]
  },
  {
   "cell_type": "code",
   "execution_count": 19,
   "metadata": {},
   "outputs": [
    {
     "name": "stderr",
     "output_type": "stream",
     "text": [
      "[I 2024-08-22 11:31:54,867] A new study created in memory with name: general_study_extended\n",
      "  0%|          | 0/100 [00:00<?, ?it/s]Passed unknown parameter: config.arch.attn_dropout\n",
      "Passed unknown parameter: config.arch.d_model\n",
      "Passed unknown parameter: config.arch.d_ff\n",
      "Passed unknown parameter: config.arch.decomposition\n",
      "Passed unknown parameter: config.arch.dropout\n",
      "Passed unknown parameter: config.arch.individual\n",
      "Passed unknown parameter: config.arch.n_layers\n",
      "Passed unknown parameter: config.arch.n_heads\n",
      "Passed unknown parameter: config.init_weights\n",
      "Passed unknown parameter: config.lookback\n",
      "Passed unknown parameter: config.loss_func\n",
      "Passed unknown parameter: config.loss_config\n",
      "Passed unknown parameter: config.n_epoch\n",
      "Passed unknown parameter: config.bs\n",
      "Passed unknown parameter: config.is_optuna_study\n",
      "Passed unknown parameter: config.metrics\n",
      "Passed unknown parameter: config.main_metric\n",
      "Passed unknown parameter: config.use_wandb\n",
      "Passed unknown parameter: config.wandb_group\n"
     ]
    },
    {
     "name": "stderr",
     "output_type": "stream",
     "text": [
      "Executing: 100%|██████████| 33/33 [01:11<00:00,  2.18s/cell]\n",
      "  1%|          | 1/100 [01:11<1:58:37, 71.89s/it]Passed unknown parameter: config.arch.attn_dropout\n",
      "Passed unknown parameter: config.arch.d_model\n",
      "Passed unknown parameter: config.arch.d_ff\n",
      "Passed unknown parameter: config.arch.decomposition\n",
      "Passed unknown parameter: config.arch.dropout\n",
      "Passed unknown parameter: config.arch.individual\n",
      "Passed unknown parameter: config.arch.n_layers\n",
      "Passed unknown parameter: config.arch.n_heads\n",
      "Passed unknown parameter: config.init_weights\n",
      "Passed unknown parameter: config.lookback\n",
      "Passed unknown parameter: config.loss_func\n",
      "Passed unknown parameter: config.loss_config\n",
      "Passed unknown parameter: config.n_epoch\n",
      "Passed unknown parameter: config.bs\n",
      "Passed unknown parameter: config.is_optuna_study\n",
      "Passed unknown parameter: config.metrics\n",
      "Passed unknown parameter: config.main_metric\n",
      "Passed unknown parameter: config.use_wandb\n",
      "Passed unknown parameter: config.wandb_group\n"
     ]
    },
    {
     "name": "stdout",
     "output_type": "stream",
     "text": [
      "[I 2024-08-22 11:33:06,762] Trial 0 finished with values: [0.45653942227363586, 0.3931412100791931, -10.686614990234375, 3.6878726482391357, -1.1963400840759277] and parameters: {'arch.attn_dropout': 0.1, 'arch.d_model': 160, 'arch.d_ff': 32, 'arch.decomposition': True, 'arch.dropout': 0.4, 'arch.individual': True, 'arch.n_layers': 5, 'arch.n_heads': 8, 'init_weights': False, 'lookback': 24, 'loss_func': 'wMSE'}. \n"
     ]
    },
    {
     "name": "stderr",
     "output_type": "stream",
     "text": [
      "Executing: 100%|██████████| 33/33 [00:43<00:00,  1.32s/cell]\n",
      "  2%|▏         | 2/100 [01:55<1:30:22, 55.33s/it]Passed unknown parameter: config.arch.attn_dropout\n",
      "Passed unknown parameter: config.arch.d_model\n",
      "Passed unknown parameter: config.arch.d_ff\n",
      "Passed unknown parameter: config.arch.decomposition\n",
      "Passed unknown parameter: config.arch.dropout\n",
      "Passed unknown parameter: config.arch.individual\n",
      "Passed unknown parameter: config.arch.n_layers\n",
      "Passed unknown parameter: config.arch.n_heads\n",
      "Passed unknown parameter: config.init_weights\n",
      "Passed unknown parameter: config.lookback\n",
      "Passed unknown parameter: config.loss_func\n",
      "Passed unknown parameter: config.loss_config\n",
      "Passed unknown parameter: config.n_epoch\n",
      "Passed unknown parameter: config.bs\n",
      "Passed unknown parameter: config.is_optuna_study\n",
      "Passed unknown parameter: config.metrics\n",
      "Passed unknown parameter: config.main_metric\n",
      "Passed unknown parameter: config.use_wandb\n",
      "Passed unknown parameter: config.wandb_group\n"
     ]
    },
    {
     "name": "stdout",
     "output_type": "stream",
     "text": [
      "[I 2024-08-22 11:33:50,508] Trial 1 finished with values: [0.4522152543067932, 0.3960704803466797, -7.5692362785339355, 4.543078899383545, -1.0914456844329834] and parameters: {'arch.attn_dropout': 0.0, 'arch.d_model': 192, 'arch.d_ff': 256, 'arch.decomposition': True, 'arch.dropout': 0.30000000000000004, 'arch.individual': False, 'arch.n_layers': 1, 'arch.n_heads': 8, 'init_weights': True, 'lookback': 128, 'loss_func': 'Classification'}. \n"
     ]
    },
    {
     "name": "stderr",
     "output_type": "stream",
     "text": [
      "Executing: 100%|██████████| 33/33 [02:39<00:00,  4.82s/cell]\n",
      "  3%|▎         | 3/100 [04:34<2:46:02, 102.71s/it]Passed unknown parameter: config.arch.attn_dropout\n",
      "Passed unknown parameter: config.arch.d_model\n",
      "Passed unknown parameter: config.arch.d_ff\n",
      "Passed unknown parameter: config.arch.decomposition\n",
      "Passed unknown parameter: config.arch.dropout\n",
      "Passed unknown parameter: config.arch.individual\n",
      "Passed unknown parameter: config.arch.n_layers\n",
      "Passed unknown parameter: config.arch.n_heads\n",
      "Passed unknown parameter: config.init_weights\n",
      "Passed unknown parameter: config.lookback\n",
      "Passed unknown parameter: config.loss_func\n",
      "Passed unknown parameter: config.loss_config\n",
      "Passed unknown parameter: config.n_epoch\n",
      "Passed unknown parameter: config.bs\n",
      "Passed unknown parameter: config.is_optuna_study\n",
      "Passed unknown parameter: config.metrics\n",
      "Passed unknown parameter: config.main_metric\n",
      "Passed unknown parameter: config.use_wandb\n",
      "Passed unknown parameter: config.wandb_group\n"
     ]
    },
    {
     "name": "stdout",
     "output_type": "stream",
     "text": [
      "[I 2024-08-22 11:36:29,589] Trial 2 finished with values: [0.6935381889343262, 0.6182623505592346, -9.11545181274414, 17.212011337280273, -10.78773021697998] and parameters: {'arch.attn_dropout': 0.30000000000000004, 'arch.d_model': 480, 'arch.d_ff': 352, 'arch.decomposition': True, 'arch.dropout': 0.2, 'arch.individual': True, 'arch.n_layers': 4, 'arch.n_heads': 8, 'init_weights': False, 'lookback': 192, 'loss_func': 'wRMSLE'}. \n"
     ]
    },
    {
     "name": "stderr",
     "output_type": "stream",
     "text": [
      "Executing: 100%|██████████| 33/33 [02:43<00:00,  4.97s/cell]\n",
      "  4%|▍         | 4/100 [07:18<3:23:01, 126.89s/it]Passed unknown parameter: config.arch.attn_dropout\n",
      "Passed unknown parameter: config.arch.d_model\n",
      "Passed unknown parameter: config.arch.d_ff\n",
      "Passed unknown parameter: config.arch.decomposition\n",
      "Passed unknown parameter: config.arch.dropout\n",
      "Passed unknown parameter: config.arch.individual\n",
      "Passed unknown parameter: config.arch.n_layers\n",
      "Passed unknown parameter: config.arch.n_heads\n",
      "Passed unknown parameter: config.init_weights\n",
      "Passed unknown parameter: config.lookback\n",
      "Passed unknown parameter: config.loss_func\n",
      "Passed unknown parameter: config.loss_config\n",
      "Passed unknown parameter: config.n_epoch\n",
      "Passed unknown parameter: config.bs\n",
      "Passed unknown parameter: config.is_optuna_study\n",
      "Passed unknown parameter: config.metrics\n",
      "Passed unknown parameter: config.main_metric\n",
      "Passed unknown parameter: config.use_wandb\n",
      "Passed unknown parameter: config.wandb_group\n"
     ]
    },
    {
     "name": "stdout",
     "output_type": "stream",
     "text": [
      "[I 2024-08-22 11:39:13,557] Trial 3 finished with values: [0.45344799757003784, 0.4130299389362335, -180.14598083496094, 19.091955184936523, -14.919029235839844] and parameters: {'arch.attn_dropout': 0.1, 'arch.d_model': 480, 'arch.d_ff': 320, 'arch.decomposition': True, 'arch.dropout': 0.5, 'arch.individual': True, 'arch.n_layers': 5, 'arch.n_heads': 4, 'init_weights': True, 'lookback': 128, 'loss_func': 'Trended'}. \n"
     ]
    },
    {
     "name": "stderr",
     "output_type": "stream",
     "text": [
      "Executing: 100%|██████████| 33/33 [01:20<00:00,  2.45s/cell]\n",
      "  5%|▌         | 5/100 [08:39<2:54:39, 110.31s/it]Passed unknown parameter: config.arch.attn_dropout\n",
      "Passed unknown parameter: config.arch.d_model\n",
      "Passed unknown parameter: config.arch.d_ff\n",
      "Passed unknown parameter: config.arch.decomposition\n",
      "Passed unknown parameter: config.arch.dropout\n",
      "Passed unknown parameter: config.arch.individual\n",
      "Passed unknown parameter: config.arch.n_layers\n",
      "Passed unknown parameter: config.arch.n_heads\n",
      "Passed unknown parameter: config.init_weights\n",
      "Passed unknown parameter: config.lookback\n",
      "Passed unknown parameter: config.loss_func\n",
      "Passed unknown parameter: config.loss_config\n",
      "Passed unknown parameter: config.n_epoch\n",
      "Passed unknown parameter: config.bs\n",
      "Passed unknown parameter: config.is_optuna_study\n",
      "Passed unknown parameter: config.metrics\n",
      "Passed unknown parameter: config.main_metric\n",
      "Passed unknown parameter: config.use_wandb\n",
      "Passed unknown parameter: config.wandb_group\n"
     ]
    },
    {
     "name": "stdout",
     "output_type": "stream",
     "text": [
      "[I 2024-08-22 11:40:34,457] Trial 4 finished with values: [0.4826135039329529, 0.45306095480918884, -25.19000244140625, 8.520224571228027, 6.0158233642578125] and parameters: {'arch.attn_dropout': 0.1, 'arch.d_model': 320, 'arch.d_ff': 320, 'arch.decomposition': True, 'arch.dropout': 0.5, 'arch.individual': False, 'arch.n_layers': 3, 'arch.n_heads': 16, 'init_weights': True, 'lookback': 128, 'loss_func': 'Hubber'}. \n"
     ]
    },
    {
     "name": "stderr",
     "output_type": "stream",
     "text": [
      "Executing: 100%|██████████| 33/33 [00:39<00:00,  1.21s/cell]\n",
      "  6%|▌         | 6/100 [09:19<2:15:21, 86.40s/it] Passed unknown parameter: config.arch.attn_dropout\n",
      "Passed unknown parameter: config.arch.d_model\n",
      "Passed unknown parameter: config.arch.d_ff\n",
      "Passed unknown parameter: config.arch.decomposition\n",
      "Passed unknown parameter: config.arch.dropout\n",
      "Passed unknown parameter: config.arch.individual\n",
      "Passed unknown parameter: config.arch.n_layers\n",
      "Passed unknown parameter: config.arch.n_heads\n",
      "Passed unknown parameter: config.init_weights\n",
      "Passed unknown parameter: config.lookback\n",
      "Passed unknown parameter: config.loss_func\n",
      "Passed unknown parameter: config.loss_config\n",
      "Passed unknown parameter: config.n_epoch\n",
      "Passed unknown parameter: config.bs\n",
      "Passed unknown parameter: config.is_optuna_study\n",
      "Passed unknown parameter: config.metrics\n",
      "Passed unknown parameter: config.main_metric\n",
      "Passed unknown parameter: config.use_wandb\n",
      "Passed unknown parameter: config.wandb_group\n"
     ]
    },
    {
     "name": "stdout",
     "output_type": "stream",
     "text": [
      "[I 2024-08-22 11:41:14,445] Trial 5 finished with values: [0.45732203125953674, 0.3790329098701477, -12.744688987731934, 4.434597015380859, 0.22882740199565887] and parameters: {'arch.attn_dropout': 0.2, 'arch.d_model': 352, 'arch.d_ff': 128, 'arch.decomposition': False, 'arch.dropout': 0.30000000000000004, 'arch.individual': False, 'arch.n_layers': 1, 'arch.n_heads': 2, 'init_weights': False, 'lookback': 36, 'loss_func': 'MAE'}. \n"
     ]
    },
    {
     "name": "stderr",
     "output_type": "stream",
     "text": [
      "Executing: 100%|██████████| 33/33 [00:55<00:00,  1.68s/cell]\n",
      "  7%|▋         | 7/100 [10:15<1:58:18, 76.33s/it]Passed unknown parameter: config.arch.attn_dropout\n",
      "Passed unknown parameter: config.arch.d_model\n",
      "Passed unknown parameter: config.arch.d_ff\n",
      "Passed unknown parameter: config.arch.decomposition\n",
      "Passed unknown parameter: config.arch.dropout\n",
      "Passed unknown parameter: config.arch.individual\n",
      "Passed unknown parameter: config.arch.n_layers\n",
      "Passed unknown parameter: config.arch.n_heads\n",
      "Passed unknown parameter: config.init_weights\n",
      "Passed unknown parameter: config.lookback\n",
      "Passed unknown parameter: config.loss_func\n",
      "Passed unknown parameter: config.loss_config\n",
      "Passed unknown parameter: config.n_epoch\n",
      "Passed unknown parameter: config.bs\n",
      "Passed unknown parameter: config.is_optuna_study\n",
      "Passed unknown parameter: config.metrics\n",
      "Passed unknown parameter: config.main_metric\n",
      "Passed unknown parameter: config.use_wandb\n",
      "Passed unknown parameter: config.wandb_group\n"
     ]
    },
    {
     "name": "stdout",
     "output_type": "stream",
     "text": [
      "[I 2024-08-22 11:42:10,051] Trial 6 finished with values: [0.4256598651409149, 0.4684842526912689, -14.349384307861328, 11.947208404541016, -2.522282600402832] and parameters: {'arch.attn_dropout': 0.4, 'arch.d_model': 256, 'arch.d_ff': 480, 'arch.decomposition': False, 'arch.dropout': 0.1, 'arch.individual': False, 'arch.n_layers': 5, 'arch.n_heads': 2, 'init_weights': True, 'lookback': 128, 'loss_func': 'wMSLE'}. \n"
     ]
    },
    {
     "name": "stderr",
     "output_type": "stream",
     "text": [
      "Executing: 100%|██████████| 33/33 [01:07<00:00,  2.04s/cell]\n",
      "  8%|▊         | 8/100 [11:22<1:52:37, 73.45s/it]Passed unknown parameter: config.arch.attn_dropout\n",
      "Passed unknown parameter: config.arch.d_model\n",
      "Passed unknown parameter: config.arch.d_ff\n",
      "Passed unknown parameter: config.arch.decomposition\n",
      "Passed unknown parameter: config.arch.dropout\n",
      "Passed unknown parameter: config.arch.individual\n",
      "Passed unknown parameter: config.arch.n_layers\n",
      "Passed unknown parameter: config.arch.n_heads\n",
      "Passed unknown parameter: config.init_weights\n",
      "Passed unknown parameter: config.lookback\n",
      "Passed unknown parameter: config.loss_func\n",
      "Passed unknown parameter: config.loss_config\n",
      "Passed unknown parameter: config.n_epoch\n",
      "Passed unknown parameter: config.bs\n",
      "Passed unknown parameter: config.is_optuna_study\n",
      "Passed unknown parameter: config.metrics\n",
      "Passed unknown parameter: config.main_metric\n",
      "Passed unknown parameter: config.use_wandb\n",
      "Passed unknown parameter: config.wandb_group\n"
     ]
    },
    {
     "name": "stdout",
     "output_type": "stream",
     "text": [
      "[I 2024-08-22 11:43:17,329] Trial 7 finished with values: [0.4479241371154785, 0.35289645195007324, -15.497659683227539, 3.74776291847229, -0.7151350975036621] and parameters: {'arch.attn_dropout': 0.5, 'arch.d_model': 192, 'arch.d_ff': 480, 'arch.decomposition': True, 'arch.dropout': 0.5, 'arch.individual': False, 'arch.n_layers': 4, 'arch.n_heads': 32, 'init_weights': False, 'lookback': 18, 'loss_func': 'wMSLE'}. \n"
     ]
    },
    {
     "name": "stderr",
     "output_type": "stream",
     "text": [
      "Executing: 100%|██████████| 33/33 [01:12<00:00,  2.19s/cell]\n",
      "  9%|▉         | 9/100 [12:34<1:50:54, 73.12s/it]Passed unknown parameter: config.arch.attn_dropout\n",
      "Passed unknown parameter: config.arch.d_model\n",
      "Passed unknown parameter: config.arch.d_ff\n",
      "Passed unknown parameter: config.arch.decomposition\n",
      "Passed unknown parameter: config.arch.dropout\n",
      "Passed unknown parameter: config.arch.individual\n",
      "Passed unknown parameter: config.arch.n_layers\n",
      "Passed unknown parameter: config.arch.n_heads\n",
      "Passed unknown parameter: config.init_weights\n",
      "Passed unknown parameter: config.lookback\n",
      "Passed unknown parameter: config.loss_func\n",
      "Passed unknown parameter: config.loss_config\n",
      "Passed unknown parameter: config.n_epoch\n",
      "Passed unknown parameter: config.bs\n",
      "Passed unknown parameter: config.is_optuna_study\n",
      "Passed unknown parameter: config.metrics\n",
      "Passed unknown parameter: config.main_metric\n",
      "Passed unknown parameter: config.use_wandb\n",
      "Passed unknown parameter: config.wandb_group\n"
     ]
    },
    {
     "name": "stdout",
     "output_type": "stream",
     "text": [
      "[I 2024-08-22 11:44:29,728] Trial 8 finished with values: [0.5055057406425476, 0.4587448537349701, -655.8271484375, 7.874573707580566, -2.6584815979003906] and parameters: {'arch.attn_dropout': 0.30000000000000004, 'arch.d_model': 32, 'arch.d_ff': 96, 'arch.decomposition': True, 'arch.dropout': 0.2, 'arch.individual': False, 'arch.n_layers': 6, 'arch.n_heads': 2, 'init_weights': True, 'lookback': 24, 'loss_func': 'wQuantile'}. \n"
     ]
    },
    {
     "name": "stderr",
     "output_type": "stream",
     "text": [
      "Executing: 100%|██████████| 33/33 [00:40<00:00,  1.22s/cell]\n",
      " 10%|█         | 10/100 [13:15<1:34:29, 63.00s/it]Passed unknown parameter: config.arch.attn_dropout\n",
      "Passed unknown parameter: config.arch.d_model\n",
      "Passed unknown parameter: config.arch.d_ff\n",
      "Passed unknown parameter: config.arch.decomposition\n",
      "Passed unknown parameter: config.arch.dropout\n",
      "Passed unknown parameter: config.arch.individual\n",
      "Passed unknown parameter: config.arch.n_layers\n",
      "Passed unknown parameter: config.arch.n_heads\n",
      "Passed unknown parameter: config.init_weights\n",
      "Passed unknown parameter: config.lookback\n",
      "Passed unknown parameter: config.loss_func\n",
      "Passed unknown parameter: config.loss_config\n",
      "Passed unknown parameter: config.n_epoch\n",
      "Passed unknown parameter: config.bs\n",
      "Passed unknown parameter: config.is_optuna_study\n",
      "Passed unknown parameter: config.metrics\n",
      "Passed unknown parameter: config.main_metric\n",
      "Passed unknown parameter: config.use_wandb\n",
      "Passed unknown parameter: config.wandb_group\n"
     ]
    },
    {
     "name": "stdout",
     "output_type": "stream",
     "text": [
      "[I 2024-08-22 11:45:10,058] Trial 9 finished with values: [0.4696817994117737, 0.38429516553878784, -12.733773231506348, 4.114505290985107, -1.654693603515625] and parameters: {'arch.attn_dropout': 0.2, 'arch.d_model': 448, 'arch.d_ff': 320, 'arch.decomposition': False, 'arch.dropout': 0.2, 'arch.individual': False, 'arch.n_layers': 1, 'arch.n_heads': 16, 'init_weights': False, 'lookback': 18, 'loss_func': 'wMSE'}. \n"
     ]
    },
    {
     "name": "stderr",
     "output_type": "stream",
     "text": [
      "Executing: 100%|██████████| 33/33 [01:21<00:00,  2.47s/cell]\n",
      " 11%|█         | 11/100 [14:36<1:41:52, 68.68s/it]Passed unknown parameter: config.arch.attn_dropout\n",
      "Passed unknown parameter: config.arch.d_model\n",
      "Passed unknown parameter: config.arch.d_ff\n",
      "Passed unknown parameter: config.arch.decomposition\n",
      "Passed unknown parameter: config.arch.dropout\n",
      "Passed unknown parameter: config.arch.individual\n",
      "Passed unknown parameter: config.arch.n_layers\n",
      "Passed unknown parameter: config.arch.n_heads\n",
      "Passed unknown parameter: config.init_weights\n",
      "Passed unknown parameter: config.lookback\n",
      "Passed unknown parameter: config.loss_func\n",
      "Passed unknown parameter: config.loss_config\n",
      "Passed unknown parameter: config.n_epoch\n",
      "Passed unknown parameter: config.bs\n",
      "Passed unknown parameter: config.is_optuna_study\n",
      "Passed unknown parameter: config.metrics\n",
      "Passed unknown parameter: config.main_metric\n",
      "Passed unknown parameter: config.use_wandb\n",
      "Passed unknown parameter: config.wandb_group\n"
     ]
    },
    {
     "name": "stdout",
     "output_type": "stream",
     "text": [
      "[I 2024-08-22 11:46:31,622] Trial 10 finished with values: [0.42742812633514404, 0.3779065012931824, -11.787026405334473, 3.8743557929992676, -0.5790791511535645] and parameters: {'arch.attn_dropout': 0.5, 'arch.d_model': 288, 'arch.d_ff': 384, 'arch.decomposition': False, 'arch.dropout': 0.0, 'arch.individual': False, 'arch.n_layers': 3, 'arch.n_heads': 2, 'init_weights': True, 'lookback': 24, 'loss_func': 'Trended'}. \n"
     ]
    },
    {
     "name": "stderr",
     "output_type": "stream",
     "text": [
      "Executing: 100%|██████████| 33/33 [01:23<00:00,  2.54s/cell]\n",
      " 12%|█▏        | 12/100 [16:00<1:47:31, 73.31s/it]Passed unknown parameter: config.arch.attn_dropout\n",
      "Passed unknown parameter: config.arch.d_model\n",
      "Passed unknown parameter: config.arch.d_ff\n",
      "Passed unknown parameter: config.arch.decomposition\n",
      "Passed unknown parameter: config.arch.dropout\n",
      "Passed unknown parameter: config.arch.individual\n",
      "Passed unknown parameter: config.arch.n_layers\n",
      "Passed unknown parameter: config.arch.n_heads\n",
      "Passed unknown parameter: config.init_weights\n",
      "Passed unknown parameter: config.lookback\n",
      "Passed unknown parameter: config.loss_func\n",
      "Passed unknown parameter: config.loss_config\n",
      "Passed unknown parameter: config.n_epoch\n",
      "Passed unknown parameter: config.bs\n",
      "Passed unknown parameter: config.is_optuna_study\n",
      "Passed unknown parameter: config.metrics\n",
      "Passed unknown parameter: config.main_metric\n",
      "Passed unknown parameter: config.use_wandb\n",
      "Passed unknown parameter: config.wandb_group\n"
     ]
    },
    {
     "name": "stdout",
     "output_type": "stream",
     "text": [
      "[I 2024-08-22 11:47:55,517] Trial 11 finished with values: [0.480317622423172, 0.3780001997947693, -110.46371459960938, 10.55756950378418, -8.433377265930176] and parameters: {'arch.attn_dropout': 0.1, 'arch.d_model': 480, 'arch.d_ff': 384, 'arch.decomposition': True, 'arch.dropout': 0.5, 'arch.individual': True, 'arch.n_layers': 6, 'arch.n_heads': 4, 'init_weights': True, 'lookback': 18, 'loss_func': 'wQuantile'}. \n"
     ]
    },
    {
     "name": "stderr",
     "output_type": "stream",
     "text": [
      "Executing: 100%|██████████| 33/33 [01:14<00:00,  2.27s/cell]\n",
      " 13%|█▎        | 13/100 [17:15<1:47:01, 73.81s/it]Passed unknown parameter: config.arch.attn_dropout\n",
      "Passed unknown parameter: config.arch.d_model\n",
      "Passed unknown parameter: config.arch.d_ff\n",
      "Passed unknown parameter: config.arch.decomposition\n",
      "Passed unknown parameter: config.arch.dropout\n",
      "Passed unknown parameter: config.arch.individual\n",
      "Passed unknown parameter: config.arch.n_layers\n",
      "Passed unknown parameter: config.arch.n_heads\n",
      "Passed unknown parameter: config.init_weights\n",
      "Passed unknown parameter: config.lookback\n",
      "Passed unknown parameter: config.loss_func\n",
      "Passed unknown parameter: config.loss_config\n",
      "Passed unknown parameter: config.n_epoch\n",
      "Passed unknown parameter: config.bs\n",
      "Passed unknown parameter: config.is_optuna_study\n",
      "Passed unknown parameter: config.metrics\n",
      "Passed unknown parameter: config.main_metric\n",
      "Passed unknown parameter: config.use_wandb\n",
      "Passed unknown parameter: config.wandb_group\n"
     ]
    },
    {
     "name": "stdout",
     "output_type": "stream",
     "text": [
      "[I 2024-08-22 11:49:10,483] Trial 12 finished with values: [0.44903668761253357, 0.3814302384853363, -12.298831939697266, 4.246477127075195, -1.4304921627044678] and parameters: {'arch.attn_dropout': 0.1, 'arch.d_model': 256, 'arch.d_ff': 416, 'arch.decomposition': True, 'arch.dropout': 0.4, 'arch.individual': True, 'arch.n_layers': 5, 'arch.n_heads': 32, 'init_weights': True, 'lookback': 18, 'loss_func': 'wQuantile'}. \n"
     ]
    },
    {
     "name": "stderr",
     "output_type": "stream",
     "text": [
      "Executing: 100%|██████████| 33/33 [01:30<00:00,  2.75s/cell]\n",
      " 14%|█▍        | 14/100 [18:46<1:53:11, 78.97s/it]Passed unknown parameter: config.arch.attn_dropout\n",
      "Passed unknown parameter: config.arch.d_model\n",
      "Passed unknown parameter: config.arch.d_ff\n",
      "Passed unknown parameter: config.arch.decomposition\n",
      "Passed unknown parameter: config.arch.dropout\n",
      "Passed unknown parameter: config.arch.individual\n",
      "Passed unknown parameter: config.arch.n_layers\n",
      "Passed unknown parameter: config.arch.n_heads\n",
      "Passed unknown parameter: config.init_weights\n",
      "Passed unknown parameter: config.lookback\n",
      "Passed unknown parameter: config.loss_func\n",
      "Passed unknown parameter: config.loss_config\n",
      "Passed unknown parameter: config.n_epoch\n",
      "Passed unknown parameter: config.bs\n",
      "Passed unknown parameter: config.is_optuna_study\n",
      "Passed unknown parameter: config.metrics\n",
      "Passed unknown parameter: config.main_metric\n",
      "Passed unknown parameter: config.use_wandb\n",
      "Passed unknown parameter: config.wandb_group\n"
     ]
    },
    {
     "name": "stdout",
     "output_type": "stream",
     "text": [
      "[I 2024-08-22 11:50:41,364] Trial 13 finished with values: [0.5211409330368042, 0.7007567286491394, -1180.4967041015625, 14.550460815429688, -7.673367023468018] and parameters: {'arch.attn_dropout': 0.30000000000000004, 'arch.d_model': 352, 'arch.d_ff': 320, 'arch.decomposition': False, 'arch.dropout': 0.2, 'arch.individual': False, 'arch.n_layers': 6, 'arch.n_heads': 32, 'init_weights': True, 'lookback': 128, 'loss_func': 'MSLE'}. \n"
     ]
    },
    {
     "name": "stderr",
     "output_type": "stream",
     "text": [
      "Executing: 100%|██████████| 33/33 [00:59<00:00,  1.81s/cell]\n",
      " 15%|█▌        | 15/100 [19:46<1:43:44, 73.23s/it]Passed unknown parameter: config.arch.attn_dropout\n",
      "Passed unknown parameter: config.arch.d_model\n",
      "Passed unknown parameter: config.arch.d_ff\n",
      "Passed unknown parameter: config.arch.decomposition\n",
      "Passed unknown parameter: config.arch.dropout\n",
      "Passed unknown parameter: config.arch.individual\n",
      "Passed unknown parameter: config.arch.n_layers\n",
      "Passed unknown parameter: config.arch.n_heads\n",
      "Passed unknown parameter: config.init_weights\n",
      "Passed unknown parameter: config.lookback\n",
      "Passed unknown parameter: config.loss_func\n",
      "Passed unknown parameter: config.loss_config\n",
      "Passed unknown parameter: config.n_epoch\n",
      "Passed unknown parameter: config.bs\n",
      "Passed unknown parameter: config.is_optuna_study\n",
      "Passed unknown parameter: config.metrics\n",
      "Passed unknown parameter: config.main_metric\n",
      "Passed unknown parameter: config.use_wandb\n",
      "Passed unknown parameter: config.wandb_group\n"
     ]
    },
    {
     "name": "stdout",
     "output_type": "stream",
     "text": [
      "[W 2024-08-22 11:51:41,299] Trial 14 failed with parameters: {'arch.attn_dropout': 0.0, 'arch.d_model': 352, 'arch.d_ff': 384, 'arch.decomposition': False, 'arch.dropout': 0.2, 'arch.individual': True, 'arch.n_layers': 6, 'arch.n_heads': 4, 'init_weights': True, 'lookback': 24, 'loss_func': 'Quantile'} because of the following error: The value nan is not acceptable.\n",
      "[W 2024-08-22 11:51:41,310] Trial 14 failed with value (tensor(0.4274), tensor(0.3561), tensor(-8.7713), tensor(nan), tensor(nan)).\n"
     ]
    },
    {
     "name": "stderr",
     "output_type": "stream",
     "text": [
      "Executing: 100%|██████████| 33/33 [00:56<00:00,  1.70s/cell]\n",
      " 16%|█▌        | 16/100 [20:42<1:35:19, 68.09s/it]Passed unknown parameter: config.arch.attn_dropout\n",
      "Passed unknown parameter: config.arch.d_model\n",
      "Passed unknown parameter: config.arch.d_ff\n",
      "Passed unknown parameter: config.arch.decomposition\n",
      "Passed unknown parameter: config.arch.dropout\n",
      "Passed unknown parameter: config.arch.individual\n",
      "Passed unknown parameter: config.arch.n_layers\n",
      "Passed unknown parameter: config.arch.n_heads\n",
      "Passed unknown parameter: config.init_weights\n",
      "Passed unknown parameter: config.lookback\n",
      "Passed unknown parameter: config.loss_func\n",
      "Passed unknown parameter: config.loss_config\n",
      "Passed unknown parameter: config.n_epoch\n",
      "Passed unknown parameter: config.bs\n",
      "Passed unknown parameter: config.is_optuna_study\n",
      "Passed unknown parameter: config.metrics\n",
      "Passed unknown parameter: config.main_metric\n",
      "Passed unknown parameter: config.use_wandb\n",
      "Passed unknown parameter: config.wandb_group\n"
     ]
    },
    {
     "name": "stdout",
     "output_type": "stream",
     "text": [
      "[I 2024-08-22 11:52:37,450] Trial 15 finished with values: [0.44716668128967285, 0.39370372891426086, -8.093738555908203, 3.5752346515655518, -0.31034156680107117] and parameters: {'arch.attn_dropout': 0.4, 'arch.d_model': 192, 'arch.d_ff': 448, 'arch.decomposition': False, 'arch.dropout': 0.1, 'arch.individual': False, 'arch.n_layers': 6, 'arch.n_heads': 2, 'init_weights': False, 'lookback': 128, 'loss_func': 'Quantile'}. \n"
     ]
    },
    {
     "name": "stderr",
     "output_type": "stream",
     "text": [
      "Executing: 100%|██████████| 33/33 [01:14<00:00,  2.25s/cell]\n",
      " 17%|█▋        | 17/100 [21:56<1:36:47, 69.97s/it]Passed unknown parameter: config.arch.attn_dropout\n",
      "Passed unknown parameter: config.arch.d_model\n",
      "Passed unknown parameter: config.arch.d_ff\n",
      "Passed unknown parameter: config.arch.decomposition\n",
      "Passed unknown parameter: config.arch.dropout\n",
      "Passed unknown parameter: config.arch.individual\n",
      "Passed unknown parameter: config.arch.n_layers\n",
      "Passed unknown parameter: config.arch.n_heads\n",
      "Passed unknown parameter: config.init_weights\n",
      "Passed unknown parameter: config.lookback\n",
      "Passed unknown parameter: config.loss_func\n",
      "Passed unknown parameter: config.loss_config\n",
      "Passed unknown parameter: config.n_epoch\n",
      "Passed unknown parameter: config.bs\n",
      "Passed unknown parameter: config.is_optuna_study\n",
      "Passed unknown parameter: config.metrics\n",
      "Passed unknown parameter: config.main_metric\n",
      "Passed unknown parameter: config.use_wandb\n",
      "Passed unknown parameter: config.wandb_group\n"
     ]
    },
    {
     "name": "stdout",
     "output_type": "stream",
     "text": [
      "[I 2024-08-22 11:53:51,783] Trial 16 finished with values: [0.48001036047935486, 0.3523041605949402, -66.92967987060547, 10.475460052490234, -8.341597557067871] and parameters: {'arch.attn_dropout': 0.4, 'arch.d_model': 448, 'arch.d_ff': 320, 'arch.decomposition': True, 'arch.dropout': 0.5, 'arch.individual': False, 'arch.n_layers': 5, 'arch.n_heads': 4, 'init_weights': True, 'lookback': 18, 'loss_func': 'wQuantile'}. \n"
     ]
    },
    {
     "name": "stderr",
     "output_type": "stream",
     "text": [
      "Executing: 100%|██████████| 33/33 [00:55<00:00,  1.69s/cell]\n",
      " 18%|█▊        | 18/100 [22:52<1:29:49, 65.72s/it]Passed unknown parameter: config.arch.attn_dropout\n",
      "Passed unknown parameter: config.arch.d_model\n",
      "Passed unknown parameter: config.arch.d_ff\n",
      "Passed unknown parameter: config.arch.decomposition\n",
      "Passed unknown parameter: config.arch.dropout\n",
      "Passed unknown parameter: config.arch.individual\n",
      "Passed unknown parameter: config.arch.n_layers\n",
      "Passed unknown parameter: config.arch.n_heads\n",
      "Passed unknown parameter: config.init_weights\n",
      "Passed unknown parameter: config.lookback\n",
      "Passed unknown parameter: config.loss_func\n",
      "Passed unknown parameter: config.loss_config\n",
      "Passed unknown parameter: config.n_epoch\n",
      "Passed unknown parameter: config.bs\n",
      "Passed unknown parameter: config.is_optuna_study\n",
      "Passed unknown parameter: config.metrics\n",
      "Passed unknown parameter: config.main_metric\n",
      "Passed unknown parameter: config.use_wandb\n",
      "Passed unknown parameter: config.wandb_group\n"
     ]
    },
    {
     "name": "stdout",
     "output_type": "stream",
     "text": [
      "[I 2024-08-22 11:54:47,624] Trial 17 finished with values: [0.44523733854293823, 0.3594816327095032, -842.4675903320312, 8.891852378845215, -3.5901105403900146] and parameters: {'arch.attn_dropout': 0.5, 'arch.d_model': 480, 'arch.d_ff': 352, 'arch.decomposition': False, 'arch.dropout': 0.4, 'arch.individual': False, 'arch.n_layers': 5, 'arch.n_heads': 4, 'init_weights': True, 'lookback': 18, 'loss_func': 'wQuantile'}. \n"
     ]
    },
    {
     "name": "stderr",
     "output_type": "stream",
     "text": [
      "Executing: 100%|██████████| 33/33 [01:58<00:00,  3.60s/cell]\n",
      " 19%|█▉        | 19/100 [24:51<1:50:13, 81.65s/it]Passed unknown parameter: config.arch.attn_dropout\n",
      "Passed unknown parameter: config.arch.d_model\n",
      "Passed unknown parameter: config.arch.d_ff\n",
      "Passed unknown parameter: config.arch.decomposition\n",
      "Passed unknown parameter: config.arch.dropout\n",
      "Passed unknown parameter: config.arch.individual\n",
      "Passed unknown parameter: config.arch.n_layers\n",
      "Passed unknown parameter: config.arch.n_heads\n",
      "Passed unknown parameter: config.init_weights\n",
      "Passed unknown parameter: config.lookback\n",
      "Passed unknown parameter: config.loss_func\n",
      "Passed unknown parameter: config.loss_config\n",
      "Passed unknown parameter: config.n_epoch\n",
      "Passed unknown parameter: config.bs\n",
      "Passed unknown parameter: config.is_optuna_study\n",
      "Passed unknown parameter: config.metrics\n",
      "Passed unknown parameter: config.main_metric\n",
      "Passed unknown parameter: config.use_wandb\n",
      "Passed unknown parameter: config.wandb_group\n"
     ]
    },
    {
     "name": "stdout",
     "output_type": "stream",
     "text": [
      "[I 2024-08-22 11:56:46,381] Trial 18 finished with values: [0.472072958946228, 0.41647571325302124, -18.569238662719727, 5.880136489868164, -0.453330934047699] and parameters: {'arch.attn_dropout': 0.0, 'arch.d_model': 480, 'arch.d_ff': 256, 'arch.decomposition': True, 'arch.dropout': 0.30000000000000004, 'arch.individual': True, 'arch.n_layers': 4, 'arch.n_heads': 2, 'init_weights': True, 'lookback': 128, 'loss_func': 'MAE'}. \n"
     ]
    },
    {
     "name": "stderr",
     "output_type": "stream",
     "text": [
      "Executing: 100%|██████████| 33/33 [02:03<00:00,  3.74s/cell]\n",
      " 20%|██        | 20/100 [26:54<2:05:34, 94.18s/it]Passed unknown parameter: config.arch.attn_dropout\n",
      "Passed unknown parameter: config.arch.d_model\n",
      "Passed unknown parameter: config.arch.d_ff\n",
      "Passed unknown parameter: config.arch.decomposition\n",
      "Passed unknown parameter: config.arch.dropout\n",
      "Passed unknown parameter: config.arch.individual\n",
      "Passed unknown parameter: config.arch.n_layers\n",
      "Passed unknown parameter: config.arch.n_heads\n",
      "Passed unknown parameter: config.init_weights\n",
      "Passed unknown parameter: config.lookback\n",
      "Passed unknown parameter: config.loss_func\n",
      "Passed unknown parameter: config.loss_config\n",
      "Passed unknown parameter: config.n_epoch\n",
      "Passed unknown parameter: config.bs\n",
      "Passed unknown parameter: config.is_optuna_study\n",
      "Passed unknown parameter: config.metrics\n",
      "Passed unknown parameter: config.main_metric\n",
      "Passed unknown parameter: config.use_wandb\n",
      "Passed unknown parameter: config.wandb_group\n"
     ]
    },
    {
     "name": "stdout",
     "output_type": "stream",
     "text": [
      "[I 2024-08-22 11:58:49,749] Trial 19 finished with values: [0.6496199369430542, 0.6442751884460449, -1464.4334716796875, 17.62272834777832, -12.361175537109375] and parameters: {'arch.attn_dropout': 0.30000000000000004, 'arch.d_model': 416, 'arch.d_ff': 96, 'arch.decomposition': True, 'arch.dropout': 0.5, 'arch.individual': True, 'arch.n_layers': 5, 'arch.n_heads': 8, 'init_weights': True, 'lookback': 128, 'loss_func': 'MSE'}. \n"
     ]
    },
    {
     "name": "stderr",
     "output_type": "stream",
     "text": [
      "Executing: 100%|██████████| 33/33 [02:05<00:00,  3.82s/cell]\n",
      " 21%|██        | 21/100 [29:00<2:16:33, 103.71s/it]Passed unknown parameter: config.arch.attn_dropout\n",
      "Passed unknown parameter: config.arch.d_model\n",
      "Passed unknown parameter: config.arch.d_ff\n",
      "Passed unknown parameter: config.arch.decomposition\n",
      "Passed unknown parameter: config.arch.dropout\n",
      "Passed unknown parameter: config.arch.individual\n",
      "Passed unknown parameter: config.arch.n_layers\n",
      "Passed unknown parameter: config.arch.n_heads\n",
      "Passed unknown parameter: config.init_weights\n",
      "Passed unknown parameter: config.lookback\n",
      "Passed unknown parameter: config.loss_func\n",
      "Passed unknown parameter: config.loss_config\n",
      "Passed unknown parameter: config.n_epoch\n",
      "Passed unknown parameter: config.bs\n",
      "Passed unknown parameter: config.is_optuna_study\n",
      "Passed unknown parameter: config.metrics\n",
      "Passed unknown parameter: config.main_metric\n",
      "Passed unknown parameter: config.use_wandb\n",
      "Passed unknown parameter: config.wandb_group\n"
     ]
    },
    {
     "name": "stdout",
     "output_type": "stream",
     "text": [
      "[I 2024-08-22 12:00:55,701] Trial 20 finished with values: [0.4805466830730438, 0.4201931953430176, -182.20262145996094, 19.39031219482422, -15.565524101257324] and parameters: {'arch.attn_dropout': 0.2, 'arch.d_model': 384, 'arch.d_ff': 256, 'arch.decomposition': True, 'arch.dropout': 0.5, 'arch.individual': True, 'arch.n_layers': 4, 'arch.n_heads': 4, 'init_weights': True, 'lookback': 192, 'loss_func': 'Trended'}. \n"
     ]
    },
    {
     "name": "stderr",
     "output_type": "stream",
     "text": [
      "Executing: 100%|██████████| 33/33 [02:46<00:00,  5.04s/cell]\n",
      " 22%|██▏       | 22/100 [31:47<2:39:19, 122.56s/it]Passed unknown parameter: config.arch.attn_dropout\n",
      "Passed unknown parameter: config.arch.d_model\n",
      "Passed unknown parameter: config.arch.d_ff\n",
      "Passed unknown parameter: config.arch.decomposition\n",
      "Passed unknown parameter: config.arch.dropout\n",
      "Passed unknown parameter: config.arch.individual\n",
      "Passed unknown parameter: config.arch.n_layers\n",
      "Passed unknown parameter: config.arch.n_heads\n",
      "Passed unknown parameter: config.init_weights\n",
      "Passed unknown parameter: config.lookback\n",
      "Passed unknown parameter: config.loss_func\n",
      "Passed unknown parameter: config.loss_config\n",
      "Passed unknown parameter: config.n_epoch\n",
      "Passed unknown parameter: config.bs\n",
      "Passed unknown parameter: config.is_optuna_study\n",
      "Passed unknown parameter: config.metrics\n",
      "Passed unknown parameter: config.main_metric\n",
      "Passed unknown parameter: config.use_wandb\n",
      "Passed unknown parameter: config.wandb_group\n"
     ]
    },
    {
     "name": "stdout",
     "output_type": "stream",
     "text": [
      "[I 2024-08-22 12:03:42,224] Trial 21 finished with values: [0.516308069229126, 0.4086828827857971, -2715.618896484375, 15.325355529785156, -8.238350868225098] and parameters: {'arch.attn_dropout': 0.4, 'arch.d_model': 448, 'arch.d_ff': 416, 'arch.decomposition': True, 'arch.dropout': 0.5, 'arch.individual': True, 'arch.n_layers': 6, 'arch.n_heads': 4, 'init_weights': False, 'lookback': 128, 'loss_func': 'Classification'}. \n"
     ]
    },
    {
     "name": "stderr",
     "output_type": "stream",
     "text": [
      "Executing: 100%|██████████| 33/33 [02:38<00:00,  4.81s/cell]\n",
      " 23%|██▎       | 23/100 [34:26<2:51:17, 133.47s/it]Passed unknown parameter: config.arch.attn_dropout\n",
      "Passed unknown parameter: config.arch.d_model\n",
      "Passed unknown parameter: config.arch.d_ff\n",
      "Passed unknown parameter: config.arch.decomposition\n",
      "Passed unknown parameter: config.arch.dropout\n",
      "Passed unknown parameter: config.arch.individual\n",
      "Passed unknown parameter: config.arch.n_layers\n",
      "Passed unknown parameter: config.arch.n_heads\n",
      "Passed unknown parameter: config.init_weights\n",
      "Passed unknown parameter: config.lookback\n",
      "Passed unknown parameter: config.loss_func\n",
      "Passed unknown parameter: config.loss_config\n",
      "Passed unknown parameter: config.n_epoch\n",
      "Passed unknown parameter: config.bs\n",
      "Passed unknown parameter: config.is_optuna_study\n",
      "Passed unknown parameter: config.metrics\n",
      "Passed unknown parameter: config.main_metric\n",
      "Passed unknown parameter: config.use_wandb\n",
      "Passed unknown parameter: config.wandb_group\n"
     ]
    },
    {
     "name": "stdout",
     "output_type": "stream",
     "text": [
      "[I 2024-08-22 12:06:21,138] Trial 22 finished with values: [0.5925856828689575, 0.5431708097457886, -70.3481674194336, 18.680641174316406, -14.993273735046387] and parameters: {'arch.attn_dropout': 0.0, 'arch.d_model': 416, 'arch.d_ff': 160, 'arch.decomposition': True, 'arch.dropout': 0.4, 'arch.individual': True, 'arch.n_layers': 6, 'arch.n_heads': 4, 'init_weights': True, 'lookback': 128, 'loss_func': 'Trended'}. \n"
     ]
    },
    {
     "name": "stderr",
     "output_type": "stream",
     "text": [
      "Executing: 100%|██████████| 33/33 [01:52<00:00,  3.42s/cell]\n",
      " 24%|██▍       | 24/100 [36:19<2:41:15, 127.31s/it]Passed unknown parameter: config.arch.attn_dropout\n",
      "Passed unknown parameter: config.arch.d_model\n",
      "Passed unknown parameter: config.arch.d_ff\n",
      "Passed unknown parameter: config.arch.decomposition\n",
      "Passed unknown parameter: config.arch.dropout\n",
      "Passed unknown parameter: config.arch.individual\n",
      "Passed unknown parameter: config.arch.n_layers\n",
      "Passed unknown parameter: config.arch.n_heads\n",
      "Passed unknown parameter: config.init_weights\n",
      "Passed unknown parameter: config.lookback\n",
      "Passed unknown parameter: config.loss_func\n",
      "Passed unknown parameter: config.loss_config\n",
      "Passed unknown parameter: config.n_epoch\n",
      "Passed unknown parameter: config.bs\n",
      "Passed unknown parameter: config.is_optuna_study\n",
      "Passed unknown parameter: config.metrics\n",
      "Passed unknown parameter: config.main_metric\n",
      "Passed unknown parameter: config.use_wandb\n",
      "Passed unknown parameter: config.wandb_group\n"
     ]
    },
    {
     "name": "stdout",
     "output_type": "stream",
     "text": [
      "[I 2024-08-22 12:08:14,069] Trial 23 finished with values: [0.45427364110946655, 0.3681774437427521, -15.261600494384766, 4.4370832443237305, -0.9589771628379822] and parameters: {'arch.attn_dropout': 0.2, 'arch.d_model': 384, 'arch.d_ff': 384, 'arch.decomposition': True, 'arch.dropout': 0.30000000000000004, 'arch.individual': False, 'arch.n_layers': 6, 'arch.n_heads': 4, 'init_weights': False, 'lookback': 24, 'loss_func': 'Trended'}. \n"
     ]
    },
    {
     "name": "stderr",
     "output_type": "stream",
     "text": [
      "Executing: 100%|██████████| 33/33 [02:00<00:00,  3.66s/cell]\n",
      " 25%|██▌       | 25/100 [38:19<2:36:40, 125.34s/it]Passed unknown parameter: config.arch.attn_dropout\n",
      "Passed unknown parameter: config.arch.d_model\n",
      "Passed unknown parameter: config.arch.d_ff\n",
      "Passed unknown parameter: config.arch.decomposition\n",
      "Passed unknown parameter: config.arch.dropout\n",
      "Passed unknown parameter: config.arch.individual\n",
      "Passed unknown parameter: config.arch.n_layers\n",
      "Passed unknown parameter: config.arch.n_heads\n",
      "Passed unknown parameter: config.init_weights\n",
      "Passed unknown parameter: config.lookback\n",
      "Passed unknown parameter: config.loss_func\n",
      "Passed unknown parameter: config.loss_config\n",
      "Passed unknown parameter: config.n_epoch\n",
      "Passed unknown parameter: config.bs\n",
      "Passed unknown parameter: config.is_optuna_study\n",
      "Passed unknown parameter: config.metrics\n",
      "Passed unknown parameter: config.main_metric\n",
      "Passed unknown parameter: config.use_wandb\n",
      "Passed unknown parameter: config.wandb_group\n"
     ]
    },
    {
     "name": "stdout",
     "output_type": "stream",
     "text": [
      "[I 2024-08-22 12:10:14,833] Trial 24 finished with values: [0.5266416668891907, 0.4451695382595062, -34.599143981933594, 9.41845417022705, -5.122889518737793] and parameters: {'arch.attn_dropout': 0.0, 'arch.d_model': 416, 'arch.d_ff': 256, 'arch.decomposition': True, 'arch.dropout': 0.5, 'arch.individual': True, 'arch.n_layers': 3, 'arch.n_heads': 8, 'init_weights': True, 'lookback': 192, 'loss_func': 'Trended'}. \n"
     ]
    },
    {
     "name": "stderr",
     "output_type": "stream",
     "text": [
      "Executing: 100%|██████████| 33/33 [03:05<00:00,  5.63s/cell]\n",
      " 26%|██▌       | 26/100 [41:25<2:56:55, 143.45s/it]Passed unknown parameter: config.arch.attn_dropout\n",
      "Passed unknown parameter: config.arch.d_model\n",
      "Passed unknown parameter: config.arch.d_ff\n",
      "Passed unknown parameter: config.arch.decomposition\n",
      "Passed unknown parameter: config.arch.dropout\n",
      "Passed unknown parameter: config.arch.individual\n",
      "Passed unknown parameter: config.arch.n_layers\n",
      "Passed unknown parameter: config.arch.n_heads\n",
      "Passed unknown parameter: config.init_weights\n",
      "Passed unknown parameter: config.lookback\n",
      "Passed unknown parameter: config.loss_func\n",
      "Passed unknown parameter: config.loss_config\n",
      "Passed unknown parameter: config.n_epoch\n",
      "Passed unknown parameter: config.bs\n",
      "Passed unknown parameter: config.is_optuna_study\n",
      "Passed unknown parameter: config.metrics\n",
      "Passed unknown parameter: config.main_metric\n",
      "Passed unknown parameter: config.use_wandb\n",
      "Passed unknown parameter: config.wandb_group\n"
     ]
    },
    {
     "name": "stdout",
     "output_type": "stream",
     "text": [
      "[I 2024-08-22 12:13:20,536] Trial 25 finished with values: [0.6925990581512451, 0.6174454092979431, -102.00227355957031, 19.14580726623535, -15.495345115661621] and parameters: {'arch.attn_dropout': 0.0, 'arch.d_model': 480, 'arch.d_ff': 512, 'arch.decomposition': True, 'arch.dropout': 0.5, 'arch.individual': True, 'arch.n_layers': 5, 'arch.n_heads': 16, 'init_weights': True, 'lookback': 128, 'loss_func': 'Trended'}. \n"
     ]
    },
    {
     "name": "stderr",
     "output_type": "stream",
     "text": [
      "Executing: 100%|██████████| 33/33 [01:46<00:00,  3.21s/cell]\n",
      " 27%|██▋       | 27/100 [43:11<2:40:54, 132.25s/it]Passed unknown parameter: config.arch.attn_dropout\n",
      "Passed unknown parameter: config.arch.d_model\n",
      "Passed unknown parameter: config.arch.d_ff\n",
      "Passed unknown parameter: config.arch.decomposition\n",
      "Passed unknown parameter: config.arch.dropout\n",
      "Passed unknown parameter: config.arch.individual\n",
      "Passed unknown parameter: config.arch.n_layers\n",
      "Passed unknown parameter: config.arch.n_heads\n",
      "Passed unknown parameter: config.init_weights\n",
      "Passed unknown parameter: config.lookback\n",
      "Passed unknown parameter: config.loss_func\n",
      "Passed unknown parameter: config.loss_config\n",
      "Passed unknown parameter: config.n_epoch\n",
      "Passed unknown parameter: config.bs\n",
      "Passed unknown parameter: config.is_optuna_study\n",
      "Passed unknown parameter: config.metrics\n",
      "Passed unknown parameter: config.main_metric\n",
      "Passed unknown parameter: config.use_wandb\n",
      "Passed unknown parameter: config.wandb_group\n"
     ]
    },
    {
     "name": "stdout",
     "output_type": "stream",
     "text": [
      "[I 2024-08-22 12:15:06,635] Trial 26 finished with values: [0.4934738576412201, 0.4125656187534332, -174.36700439453125, 7.3165998458862305, -1.1180684566497803] and parameters: {'arch.attn_dropout': 0.2, 'arch.d_model': 480, 'arch.d_ff': 320, 'arch.decomposition': True, 'arch.dropout': 0.5, 'arch.individual': True, 'arch.n_layers': 4, 'arch.n_heads': 4, 'init_weights': True, 'lookback': 24, 'loss_func': 'Trended'}. \n"
     ]
    },
    {
     "name": "stderr",
     "output_type": "stream",
     "text": [
      "Executing: 100%|██████████| 33/33 [01:08<00:00,  2.07s/cell]\n",
      " 28%|██▊       | 28/100 [44:20<2:15:39, 113.05s/it]Passed unknown parameter: config.arch.attn_dropout\n",
      "Passed unknown parameter: config.arch.d_model\n",
      "Passed unknown parameter: config.arch.d_ff\n",
      "Passed unknown parameter: config.arch.decomposition\n",
      "Passed unknown parameter: config.arch.dropout\n",
      "Passed unknown parameter: config.arch.individual\n",
      "Passed unknown parameter: config.arch.n_layers\n",
      "Passed unknown parameter: config.arch.n_heads\n",
      "Passed unknown parameter: config.init_weights\n",
      "Passed unknown parameter: config.lookback\n",
      "Passed unknown parameter: config.loss_func\n",
      "Passed unknown parameter: config.loss_config\n",
      "Passed unknown parameter: config.n_epoch\n",
      "Passed unknown parameter: config.bs\n",
      "Passed unknown parameter: config.is_optuna_study\n",
      "Passed unknown parameter: config.metrics\n",
      "Passed unknown parameter: config.main_metric\n",
      "Passed unknown parameter: config.use_wandb\n",
      "Passed unknown parameter: config.wandb_group\n"
     ]
    },
    {
     "name": "stdout",
     "output_type": "stream",
     "text": [
      "[I 2024-08-22 12:16:14,904] Trial 27 finished with values: [0.4562269151210785, 0.37655705213546753, -22.99732780456543, 4.2401204109191895, 0.7304558157920837] and parameters: {'arch.attn_dropout': 0.4, 'arch.d_model': 448, 'arch.d_ff': 352, 'arch.decomposition': True, 'arch.dropout': 0.5, 'arch.individual': False, 'arch.n_layers': 4, 'arch.n_heads': 2, 'init_weights': True, 'lookback': 18, 'loss_func': 'Quantile'}. \n"
     ]
    },
    {
     "name": "stderr",
     "output_type": "stream",
     "text": [
      "Executing: 100%|██████████| 33/33 [01:00<00:00,  1.83s/cell]\n",
      " 29%|██▉       | 29/100 [45:20<1:55:07, 97.29s/it] Passed unknown parameter: config.arch.attn_dropout\n",
      "Passed unknown parameter: config.arch.d_model\n",
      "Passed unknown parameter: config.arch.d_ff\n",
      "Passed unknown parameter: config.arch.decomposition\n",
      "Passed unknown parameter: config.arch.dropout\n",
      "Passed unknown parameter: config.arch.individual\n",
      "Passed unknown parameter: config.arch.n_layers\n",
      "Passed unknown parameter: config.arch.n_heads\n",
      "Passed unknown parameter: config.init_weights\n",
      "Passed unknown parameter: config.lookback\n",
      "Passed unknown parameter: config.loss_func\n",
      "Passed unknown parameter: config.loss_config\n",
      "Passed unknown parameter: config.n_epoch\n",
      "Passed unknown parameter: config.bs\n",
      "Passed unknown parameter: config.is_optuna_study\n",
      "Passed unknown parameter: config.metrics\n",
      "Passed unknown parameter: config.main_metric\n",
      "Passed unknown parameter: config.use_wandb\n",
      "Passed unknown parameter: config.wandb_group\n"
     ]
    },
    {
     "name": "stdout",
     "output_type": "stream",
     "text": [
      "[I 2024-08-22 12:17:15,415] Trial 28 finished with values: [0.6031395196914673, 0.5247300863265991, -29.93353843688965, 10.344769477844238, -1.3806965351104736] and parameters: {'arch.attn_dropout': 0.2, 'arch.d_model': 416, 'arch.d_ff': 128, 'arch.decomposition': False, 'arch.dropout': 0.5, 'arch.individual': True, 'arch.n_layers': 3, 'arch.n_heads': 4, 'init_weights': True, 'lookback': 192, 'loss_func': 'wRMSLE'}. \n"
     ]
    },
    {
     "name": "stderr",
     "output_type": "stream",
     "text": [
      "Executing: 100%|██████████| 33/33 [02:16<00:00,  4.14s/cell]\n",
      " 30%|███       | 30/100 [47:37<2:07:16, 109.10s/it]Passed unknown parameter: config.arch.attn_dropout\n",
      "Passed unknown parameter: config.arch.d_model\n",
      "Passed unknown parameter: config.arch.d_ff\n",
      "Passed unknown parameter: config.arch.decomposition\n",
      "Passed unknown parameter: config.arch.dropout\n",
      "Passed unknown parameter: config.arch.individual\n",
      "Passed unknown parameter: config.arch.n_layers\n",
      "Passed unknown parameter: config.arch.n_heads\n",
      "Passed unknown parameter: config.init_weights\n",
      "Passed unknown parameter: config.lookback\n",
      "Passed unknown parameter: config.loss_func\n",
      "Passed unknown parameter: config.loss_config\n",
      "Passed unknown parameter: config.n_epoch\n",
      "Passed unknown parameter: config.bs\n",
      "Passed unknown parameter: config.is_optuna_study\n",
      "Passed unknown parameter: config.metrics\n",
      "Passed unknown parameter: config.main_metric\n",
      "Passed unknown parameter: config.use_wandb\n",
      "Passed unknown parameter: config.wandb_group\n"
     ]
    },
    {
     "name": "stdout",
     "output_type": "stream",
     "text": [
      "[I 2024-08-22 12:19:32,069] Trial 29 finished with values: [0.6153258681297302, 0.516649067401886, -229.9740753173828, 12.878540992736816, 5.264833927154541] and parameters: {'arch.attn_dropout': 0.2, 'arch.d_model': 416, 'arch.d_ff': 384, 'arch.decomposition': True, 'arch.dropout': 0.4, 'arch.individual': True, 'arch.n_layers': 5, 'arch.n_heads': 4, 'init_weights': True, 'lookback': 128, 'loss_func': 'Hubber'}. \n"
     ]
    },
    {
     "name": "stderr",
     "output_type": "stream",
     "text": [
      "Executing: 100%|██████████| 33/33 [01:09<00:00,  2.10s/cell]\n",
      " 31%|███       | 31/100 [48:46<1:51:46, 97.19s/it] Passed unknown parameter: config.arch.attn_dropout\n",
      "Passed unknown parameter: config.arch.d_model\n",
      "Passed unknown parameter: config.arch.d_ff\n",
      "Passed unknown parameter: config.arch.decomposition\n",
      "Passed unknown parameter: config.arch.dropout\n",
      "Passed unknown parameter: config.arch.individual\n",
      "Passed unknown parameter: config.arch.n_layers\n",
      "Passed unknown parameter: config.arch.n_heads\n",
      "Passed unknown parameter: config.init_weights\n",
      "Passed unknown parameter: config.lookback\n",
      "Passed unknown parameter: config.loss_func\n",
      "Passed unknown parameter: config.loss_config\n",
      "Passed unknown parameter: config.n_epoch\n",
      "Passed unknown parameter: config.bs\n",
      "Passed unknown parameter: config.is_optuna_study\n",
      "Passed unknown parameter: config.metrics\n",
      "Passed unknown parameter: config.main_metric\n",
      "Passed unknown parameter: config.use_wandb\n",
      "Passed unknown parameter: config.wandb_group\n"
     ]
    },
    {
     "name": "stdout",
     "output_type": "stream",
     "text": [
      "[I 2024-08-22 12:20:41,471] Trial 30 finished with values: [0.47592461109161377, 0.41422778367996216, -10.645234107971191, 4.500454425811768, -1.3377435207366943] and parameters: {'arch.attn_dropout': 0.1, 'arch.d_model': 480, 'arch.d_ff': 320, 'arch.decomposition': False, 'arch.dropout': 0.5, 'arch.individual': True, 'arch.n_layers': 3, 'arch.n_heads': 32, 'init_weights': False, 'lookback': 128, 'loss_func': 'wMAE'}. \n"
     ]
    },
    {
     "name": "stderr",
     "output_type": "stream",
     "text": [
      "Executing: 100%|██████████| 33/33 [02:37<00:00,  4.78s/cell]\n",
      " 32%|███▏      | 32/100 [51:24<2:10:44, 115.36s/it]Passed unknown parameter: config.arch.attn_dropout\n",
      "Passed unknown parameter: config.arch.d_model\n",
      "Passed unknown parameter: config.arch.d_ff\n",
      "Passed unknown parameter: config.arch.decomposition\n",
      "Passed unknown parameter: config.arch.dropout\n",
      "Passed unknown parameter: config.arch.individual\n",
      "Passed unknown parameter: config.arch.n_layers\n",
      "Passed unknown parameter: config.arch.n_heads\n",
      "Passed unknown parameter: config.init_weights\n",
      "Passed unknown parameter: config.lookback\n",
      "Passed unknown parameter: config.loss_func\n",
      "Passed unknown parameter: config.loss_config\n",
      "Passed unknown parameter: config.n_epoch\n",
      "Passed unknown parameter: config.bs\n",
      "Passed unknown parameter: config.is_optuna_study\n",
      "Passed unknown parameter: config.metrics\n",
      "Passed unknown parameter: config.main_metric\n",
      "Passed unknown parameter: config.use_wandb\n",
      "Passed unknown parameter: config.wandb_group\n"
     ]
    },
    {
     "name": "stdout",
     "output_type": "stream",
     "text": [
      "[I 2024-08-22 12:23:19,236] Trial 31 finished with values: [0.3919731080532074, 0.5813353657722473, -835.3955688476562, 19.805622100830078, -16.281421661376953] and parameters: {'arch.attn_dropout': 0.5, 'arch.d_model': 416, 'arch.d_ff': 320, 'arch.decomposition': True, 'arch.dropout': 0.4, 'arch.individual': False, 'arch.n_layers': 6, 'arch.n_heads': 8, 'init_weights': True, 'lookback': 128, 'loss_func': 'wQuantile'}. \n"
     ]
    },
    {
     "name": "stderr",
     "output_type": "stream",
     "text": [
      "Executing: 100%|██████████| 33/33 [03:02<00:00,  5.53s/cell]\n",
      " 33%|███▎      | 33/100 [54:27<2:31:22, 135.56s/it]Passed unknown parameter: config.arch.attn_dropout\n",
      "Passed unknown parameter: config.arch.d_model\n",
      "Passed unknown parameter: config.arch.d_ff\n",
      "Passed unknown parameter: config.arch.decomposition\n",
      "Passed unknown parameter: config.arch.dropout\n",
      "Passed unknown parameter: config.arch.individual\n",
      "Passed unknown parameter: config.arch.n_layers\n",
      "Passed unknown parameter: config.arch.n_heads\n",
      "Passed unknown parameter: config.init_weights\n",
      "Passed unknown parameter: config.lookback\n",
      "Passed unknown parameter: config.loss_func\n",
      "Passed unknown parameter: config.loss_config\n",
      "Passed unknown parameter: config.n_epoch\n",
      "Passed unknown parameter: config.bs\n",
      "Passed unknown parameter: config.is_optuna_study\n",
      "Passed unknown parameter: config.metrics\n",
      "Passed unknown parameter: config.main_metric\n",
      "Passed unknown parameter: config.use_wandb\n",
      "Passed unknown parameter: config.wandb_group\n"
     ]
    },
    {
     "name": "stdout",
     "output_type": "stream",
     "text": [
      "[I 2024-08-22 12:26:21,914] Trial 32 finished with values: [0.6044456958770752, 0.559444010257721, -1526.559814453125, 16.89320182800293, -10.709553718566895] and parameters: {'arch.attn_dropout': 0.1, 'arch.d_model': 512, 'arch.d_ff': 352, 'arch.decomposition': True, 'arch.dropout': 0.5, 'arch.individual': True, 'arch.n_layers': 6, 'arch.n_heads': 4, 'init_weights': True, 'lookback': 128, 'loss_func': 'MAE'}. \n"
     ]
    },
    {
     "name": "stderr",
     "output_type": "stream",
     "text": [
      "Executing: 100%|██████████| 33/33 [01:44<00:00,  3.17s/cell]\n",
      " 34%|███▍      | 34/100 [56:11<2:18:53, 126.26s/it]Passed unknown parameter: config.arch.attn_dropout\n",
      "Passed unknown parameter: config.arch.d_model\n",
      "Passed unknown parameter: config.arch.d_ff\n",
      "Passed unknown parameter: config.arch.decomposition\n",
      "Passed unknown parameter: config.arch.dropout\n",
      "Passed unknown parameter: config.arch.individual\n",
      "Passed unknown parameter: config.arch.n_layers\n",
      "Passed unknown parameter: config.arch.n_heads\n",
      "Passed unknown parameter: config.init_weights\n",
      "Passed unknown parameter: config.lookback\n",
      "Passed unknown parameter: config.loss_func\n",
      "Passed unknown parameter: config.loss_config\n",
      "Passed unknown parameter: config.n_epoch\n",
      "Passed unknown parameter: config.bs\n",
      "Passed unknown parameter: config.is_optuna_study\n",
      "Passed unknown parameter: config.metrics\n",
      "Passed unknown parameter: config.main_metric\n",
      "Passed unknown parameter: config.use_wandb\n",
      "Passed unknown parameter: config.wandb_group\n"
     ]
    },
    {
     "name": "stdout",
     "output_type": "stream",
     "text": [
      "[I 2024-08-22 12:28:06,496] Trial 33 finished with values: [0.5959395170211792, 0.44767844676971436, -882.6351318359375, 15.074443817138672, -8.722606658935547] and parameters: {'arch.attn_dropout': 0.30000000000000004, 'arch.d_model': 512, 'arch.d_ff': 288, 'arch.decomposition': False, 'arch.dropout': 0.5, 'arch.individual': True, 'arch.n_layers': 6, 'arch.n_heads': 16, 'init_weights': True, 'lookback': 128, 'loss_func': 'MSLE'}. \n"
     ]
    },
    {
     "name": "stderr",
     "output_type": "stream",
     "text": [
      "Executing: 100%|██████████| 33/33 [02:40<00:00,  4.86s/cell]\n",
      " 35%|███▌      | 35/100 [58:52<2:27:53, 136.51s/it]Passed unknown parameter: config.arch.attn_dropout\n",
      "Passed unknown parameter: config.arch.d_model\n",
      "Passed unknown parameter: config.arch.d_ff\n",
      "Passed unknown parameter: config.arch.decomposition\n",
      "Passed unknown parameter: config.arch.dropout\n",
      "Passed unknown parameter: config.arch.individual\n",
      "Passed unknown parameter: config.arch.n_layers\n",
      "Passed unknown parameter: config.arch.n_heads\n",
      "Passed unknown parameter: config.init_weights\n",
      "Passed unknown parameter: config.lookback\n",
      "Passed unknown parameter: config.loss_func\n",
      "Passed unknown parameter: config.loss_config\n",
      "Passed unknown parameter: config.n_epoch\n",
      "Passed unknown parameter: config.bs\n",
      "Passed unknown parameter: config.is_optuna_study\n",
      "Passed unknown parameter: config.metrics\n",
      "Passed unknown parameter: config.main_metric\n",
      "Passed unknown parameter: config.use_wandb\n",
      "Passed unknown parameter: config.wandb_group\n"
     ]
    },
    {
     "name": "stdout",
     "output_type": "stream",
     "text": [
      "[I 2024-08-22 12:30:46,923] Trial 34 finished with values: [0.6014627814292908, 0.4184243083000183, -489.48480224609375, 15.741900444030762, -11.599705696105957] and parameters: {'arch.attn_dropout': 0.1, 'arch.d_model': 384, 'arch.d_ff': 192, 'arch.decomposition': True, 'arch.dropout': 0.5, 'arch.individual': False, 'arch.n_layers': 4, 'arch.n_heads': 32, 'init_weights': True, 'lookback': 192, 'loss_func': 'wMSLE'}. \n"
     ]
    },
    {
     "name": "stderr",
     "output_type": "stream",
     "text": [
      "Executing: 100%|██████████| 33/33 [01:40<00:00,  3.04s/cell]\n",
      " 36%|███▌      | 36/100 [1:00:32<2:14:04, 125.69s/it]Passed unknown parameter: config.arch.attn_dropout\n",
      "Passed unknown parameter: config.arch.d_model\n",
      "Passed unknown parameter: config.arch.d_ff\n",
      "Passed unknown parameter: config.arch.decomposition\n",
      "Passed unknown parameter: config.arch.dropout\n",
      "Passed unknown parameter: config.arch.individual\n",
      "Passed unknown parameter: config.arch.n_layers\n",
      "Passed unknown parameter: config.arch.n_heads\n",
      "Passed unknown parameter: config.init_weights\n",
      "Passed unknown parameter: config.lookback\n",
      "Passed unknown parameter: config.loss_func\n",
      "Passed unknown parameter: config.loss_config\n",
      "Passed unknown parameter: config.n_epoch\n",
      "Passed unknown parameter: config.bs\n",
      "Passed unknown parameter: config.is_optuna_study\n",
      "Passed unknown parameter: config.metrics\n",
      "Passed unknown parameter: config.main_metric\n",
      "Passed unknown parameter: config.use_wandb\n",
      "Passed unknown parameter: config.wandb_group\n"
     ]
    },
    {
     "name": "stdout",
     "output_type": "stream",
     "text": [
      "[I 2024-08-22 12:32:27,375] Trial 35 finished with values: [0.39559751749038696, 0.4488769769668579, -488.1016540527344, 18.15386962890625, -13.225584030151367] and parameters: {'arch.attn_dropout': 0.5, 'arch.d_model': 288, 'arch.d_ff': 320, 'arch.decomposition': True, 'arch.dropout': 0.5, 'arch.individual': False, 'arch.n_layers': 5, 'arch.n_heads': 8, 'init_weights': True, 'lookback': 128, 'loss_func': 'MAE'}. \n"
     ]
    },
    {
     "name": "stderr",
     "output_type": "stream",
     "text": [
      "Executing: 100%|██████████| 33/33 [01:20<00:00,  2.43s/cell]\n",
      " 37%|███▋      | 37/100 [1:01:52<1:57:40, 112.07s/it]Passed unknown parameter: config.arch.attn_dropout\n",
      "Passed unknown parameter: config.arch.d_model\n",
      "Passed unknown parameter: config.arch.d_ff\n",
      "Passed unknown parameter: config.arch.decomposition\n",
      "Passed unknown parameter: config.arch.dropout\n",
      "Passed unknown parameter: config.arch.individual\n",
      "Passed unknown parameter: config.arch.n_layers\n",
      "Passed unknown parameter: config.arch.n_heads\n",
      "Passed unknown parameter: config.init_weights\n",
      "Passed unknown parameter: config.lookback\n",
      "Passed unknown parameter: config.loss_func\n",
      "Passed unknown parameter: config.loss_config\n",
      "Passed unknown parameter: config.n_epoch\n",
      "Passed unknown parameter: config.bs\n",
      "Passed unknown parameter: config.is_optuna_study\n",
      "Passed unknown parameter: config.metrics\n",
      "Passed unknown parameter: config.main_metric\n",
      "Passed unknown parameter: config.use_wandb\n",
      "Passed unknown parameter: config.wandb_group\n"
     ]
    },
    {
     "name": "stdout",
     "output_type": "stream",
     "text": [
      "[I 2024-08-22 12:33:47,651] Trial 36 finished with values: [0.6294781565666199, 0.5504026412963867, -2146.189453125, 7.525339126586914, -0.02086464874446392] and parameters: {'arch.attn_dropout': 0.5, 'arch.d_model': 352, 'arch.d_ff': 288, 'arch.decomposition': True, 'arch.dropout': 0.30000000000000004, 'arch.individual': False, 'arch.n_layers': 6, 'arch.n_heads': 8, 'init_weights': True, 'lookback': 24, 'loss_func': 'MAE'}. \n"
     ]
    },
    {
     "name": "stderr",
     "output_type": "stream",
     "text": [
      "Executing: 100%|██████████| 33/33 [01:34<00:00,  2.86s/cell]\n",
      " 38%|███▊      | 38/100 [1:03:27<1:50:23, 106.83s/it]Passed unknown parameter: config.arch.attn_dropout\n",
      "Passed unknown parameter: config.arch.d_model\n",
      "Passed unknown parameter: config.arch.d_ff\n",
      "Passed unknown parameter: config.arch.decomposition\n",
      "Passed unknown parameter: config.arch.dropout\n",
      "Passed unknown parameter: config.arch.individual\n",
      "Passed unknown parameter: config.arch.n_layers\n",
      "Passed unknown parameter: config.arch.n_heads\n",
      "Passed unknown parameter: config.init_weights\n",
      "Passed unknown parameter: config.lookback\n",
      "Passed unknown parameter: config.loss_func\n",
      "Passed unknown parameter: config.loss_config\n",
      "Passed unknown parameter: config.n_epoch\n",
      "Passed unknown parameter: config.bs\n",
      "Passed unknown parameter: config.is_optuna_study\n",
      "Passed unknown parameter: config.metrics\n",
      "Passed unknown parameter: config.main_metric\n",
      "Passed unknown parameter: config.use_wandb\n",
      "Passed unknown parameter: config.wandb_group\n"
     ]
    },
    {
     "name": "stdout",
     "output_type": "stream",
     "text": [
      "[I 2024-08-22 12:35:22,251] Trial 37 finished with values: [0.3896293044090271, 0.382962703704834, -1118.103515625, 17.88263511657715, -12.752345085144043] and parameters: {'arch.attn_dropout': 0.4, 'arch.d_model': 192, 'arch.d_ff': 224, 'arch.decomposition': True, 'arch.dropout': 0.5, 'arch.individual': False, 'arch.n_layers': 6, 'arch.n_heads': 16, 'init_weights': True, 'lookback': 128, 'loss_func': 'MAE'}. \n"
     ]
    },
    {
     "name": "stderr",
     "output_type": "stream",
     "text": [
      "Executing: 100%|██████████| 33/33 [02:37<00:00,  4.76s/cell]\n",
      " 39%|███▉      | 39/100 [1:06:04<2:03:58, 121.95s/it]Passed unknown parameter: config.arch.attn_dropout\n",
      "Passed unknown parameter: config.arch.d_model\n",
      "Passed unknown parameter: config.arch.d_ff\n",
      "Passed unknown parameter: config.arch.decomposition\n",
      "Passed unknown parameter: config.arch.dropout\n",
      "Passed unknown parameter: config.arch.individual\n",
      "Passed unknown parameter: config.arch.n_layers\n",
      "Passed unknown parameter: config.arch.n_heads\n",
      "Passed unknown parameter: config.init_weights\n",
      "Passed unknown parameter: config.lookback\n",
      "Passed unknown parameter: config.loss_func\n",
      "Passed unknown parameter: config.loss_config\n",
      "Passed unknown parameter: config.n_epoch\n",
      "Passed unknown parameter: config.bs\n",
      "Passed unknown parameter: config.is_optuna_study\n",
      "Passed unknown parameter: config.metrics\n",
      "Passed unknown parameter: config.main_metric\n",
      "Passed unknown parameter: config.use_wandb\n",
      "Passed unknown parameter: config.wandb_group\n"
     ]
    },
    {
     "name": "stdout",
     "output_type": "stream",
     "text": [
      "[I 2024-08-22 12:37:59,476] Trial 38 finished with values: [0.5056514739990234, 0.47690120339393616, -137.88824462890625, 16.08544921875, -10.129293441772461] and parameters: {'arch.attn_dropout': 0.1, 'arch.d_model': 512, 'arch.d_ff': 352, 'arch.decomposition': True, 'arch.dropout': 0.5, 'arch.individual': False, 'arch.n_layers': 5, 'arch.n_heads': 8, 'init_weights': True, 'lookback': 128, 'loss_func': 'wHubber'}. \n"
     ]
    },
    {
     "name": "stderr",
     "output_type": "stream",
     "text": [
      "Executing: 100%|██████████| 33/33 [01:25<00:00,  2.60s/cell]\n",
      " 40%|████      | 40/100 [1:07:30<1:51:07, 111.13s/it]Passed unknown parameter: config.arch.attn_dropout\n",
      "Passed unknown parameter: config.arch.d_model\n",
      "Passed unknown parameter: config.arch.d_ff\n",
      "Passed unknown parameter: config.arch.decomposition\n",
      "Passed unknown parameter: config.arch.dropout\n",
      "Passed unknown parameter: config.arch.individual\n",
      "Passed unknown parameter: config.arch.n_layers\n",
      "Passed unknown parameter: config.arch.n_heads\n",
      "Passed unknown parameter: config.init_weights\n",
      "Passed unknown parameter: config.lookback\n",
      "Passed unknown parameter: config.loss_func\n",
      "Passed unknown parameter: config.loss_config\n",
      "Passed unknown parameter: config.n_epoch\n",
      "Passed unknown parameter: config.bs\n",
      "Passed unknown parameter: config.is_optuna_study\n",
      "Passed unknown parameter: config.metrics\n",
      "Passed unknown parameter: config.main_metric\n",
      "Passed unknown parameter: config.use_wandb\n",
      "Passed unknown parameter: config.wandb_group\n"
     ]
    },
    {
     "name": "stdout",
     "output_type": "stream",
     "text": [
      "[I 2024-08-22 12:39:25,375] Trial 39 finished with values: [0.46210139989852905, 0.41254326701164246, -18.07803726196289, 5.8246073722839355, -0.4232419431209564] and parameters: {'arch.attn_dropout': 0.30000000000000004, 'arch.d_model': 352, 'arch.d_ff': 256, 'arch.decomposition': True, 'arch.dropout': 0.5, 'arch.individual': True, 'arch.n_layers': 3, 'arch.n_heads': 2, 'init_weights': False, 'lookback': 192, 'loss_func': 'MSE'}. \n"
     ]
    },
    {
     "name": "stderr",
     "output_type": "stream",
     "text": [
      "Executing: 100%|██████████| 33/33 [00:48<00:00,  1.46s/cell]\n",
      " 41%|████      | 41/100 [1:08:18<1:30:40, 92.22s/it] Passed unknown parameter: config.arch.attn_dropout\n",
      "Passed unknown parameter: config.arch.d_model\n",
      "Passed unknown parameter: config.arch.d_ff\n",
      "Passed unknown parameter: config.arch.decomposition\n",
      "Passed unknown parameter: config.arch.dropout\n",
      "Passed unknown parameter: config.arch.individual\n",
      "Passed unknown parameter: config.arch.n_layers\n",
      "Passed unknown parameter: config.arch.n_heads\n",
      "Passed unknown parameter: config.init_weights\n",
      "Passed unknown parameter: config.lookback\n",
      "Passed unknown parameter: config.loss_func\n",
      "Passed unknown parameter: config.loss_config\n",
      "Passed unknown parameter: config.n_epoch\n",
      "Passed unknown parameter: config.bs\n",
      "Passed unknown parameter: config.is_optuna_study\n",
      "Passed unknown parameter: config.metrics\n",
      "Passed unknown parameter: config.main_metric\n",
      "Passed unknown parameter: config.use_wandb\n",
      "Passed unknown parameter: config.wandb_group\n"
     ]
    },
    {
     "name": "stdout",
     "output_type": "stream",
     "text": [
      "[I 2024-08-22 12:40:13,458] Trial 40 finished with values: [0.43072429299354553, 0.40072551369667053, -1508.5758056640625, 12.621111869812012, 7.201104640960693] and parameters: {'arch.attn_dropout': 0.4, 'arch.d_model': 288, 'arch.d_ff': 448, 'arch.decomposition': False, 'arch.dropout': 0.5, 'arch.individual': False, 'arch.n_layers': 3, 'arch.n_heads': 8, 'init_weights': True, 'lookback': 128, 'loss_func': 'Hubber'}. \n"
     ]
    },
    {
     "name": "stderr",
     "output_type": "stream",
     "text": [
      "Executing: 100%|██████████| 33/33 [01:55<00:00,  3.50s/cell]\n",
      " 42%|████▏     | 42/100 [1:10:14<1:35:55, 99.23s/it]Passed unknown parameter: config.arch.attn_dropout\n",
      "Passed unknown parameter: config.arch.d_model\n",
      "Passed unknown parameter: config.arch.d_ff\n",
      "Passed unknown parameter: config.arch.decomposition\n",
      "Passed unknown parameter: config.arch.dropout\n",
      "Passed unknown parameter: config.arch.individual\n",
      "Passed unknown parameter: config.arch.n_layers\n",
      "Passed unknown parameter: config.arch.n_heads\n",
      "Passed unknown parameter: config.init_weights\n",
      "Passed unknown parameter: config.lookback\n",
      "Passed unknown parameter: config.loss_func\n",
      "Passed unknown parameter: config.loss_config\n",
      "Passed unknown parameter: config.n_epoch\n",
      "Passed unknown parameter: config.bs\n",
      "Passed unknown parameter: config.is_optuna_study\n",
      "Passed unknown parameter: config.metrics\n",
      "Passed unknown parameter: config.main_metric\n",
      "Passed unknown parameter: config.use_wandb\n",
      "Passed unknown parameter: config.wandb_group\n"
     ]
    },
    {
     "name": "stdout",
     "output_type": "stream",
     "text": [
      "[I 2024-08-22 12:42:09,047] Trial 41 finished with values: [0.40066152811050415, 0.4720309376716614, -448.5089416503906, 19.499114990234375, -16.238191604614258] and parameters: {'arch.attn_dropout': 0.0, 'arch.d_model': 384, 'arch.d_ff': 320, 'arch.decomposition': True, 'arch.dropout': 0.5, 'arch.individual': False, 'arch.n_layers': 5, 'arch.n_heads': 4, 'init_weights': True, 'lookback': 128, 'loss_func': 'wRMSLE'}. \n"
     ]
    },
    {
     "name": "stderr",
     "output_type": "stream",
     "text": [
      "Executing: 100%|██████████| 33/33 [01:32<00:00,  2.81s/cell]\n",
      " 43%|████▎     | 43/100 [1:11:46<1:32:25, 97.29s/it]Passed unknown parameter: config.arch.attn_dropout\n",
      "Passed unknown parameter: config.arch.d_model\n",
      "Passed unknown parameter: config.arch.d_ff\n",
      "Passed unknown parameter: config.arch.decomposition\n",
      "Passed unknown parameter: config.arch.dropout\n",
      "Passed unknown parameter: config.arch.individual\n",
      "Passed unknown parameter: config.arch.n_layers\n",
      "Passed unknown parameter: config.arch.n_heads\n",
      "Passed unknown parameter: config.init_weights\n",
      "Passed unknown parameter: config.lookback\n",
      "Passed unknown parameter: config.loss_func\n",
      "Passed unknown parameter: config.loss_config\n",
      "Passed unknown parameter: config.n_epoch\n",
      "Passed unknown parameter: config.bs\n",
      "Passed unknown parameter: config.is_optuna_study\n",
      "Passed unknown parameter: config.metrics\n",
      "Passed unknown parameter: config.main_metric\n",
      "Passed unknown parameter: config.use_wandb\n",
      "Passed unknown parameter: config.wandb_group\n"
     ]
    },
    {
     "name": "stdout",
     "output_type": "stream",
     "text": [
      "[I 2024-08-22 12:43:41,805] Trial 42 finished with values: [0.5340616106987, 0.4143761098384857, -634.0718994140625, 14.597742080688477, -7.861734867095947] and parameters: {'arch.attn_dropout': 0.2, 'arch.d_model': 480, 'arch.d_ff': 320, 'arch.decomposition': False, 'arch.dropout': 0.5, 'arch.individual': True, 'arch.n_layers': 4, 'arch.n_heads': 4, 'init_weights': True, 'lookback': 128, 'loss_func': 'Trended'}. \n"
     ]
    },
    {
     "name": "stderr",
     "output_type": "stream",
     "text": [
      "Executing: 100%|██████████| 33/33 [03:18<00:00,  6.02s/cell]\n",
      " 44%|████▍     | 44/100 [1:15:05<1:59:11, 127.70s/it]Passed unknown parameter: config.arch.attn_dropout\n",
      "Passed unknown parameter: config.arch.d_model\n",
      "Passed unknown parameter: config.arch.d_ff\n",
      "Passed unknown parameter: config.arch.decomposition\n",
      "Passed unknown parameter: config.arch.dropout\n",
      "Passed unknown parameter: config.arch.individual\n",
      "Passed unknown parameter: config.arch.n_layers\n",
      "Passed unknown parameter: config.arch.n_heads\n",
      "Passed unknown parameter: config.init_weights\n",
      "Passed unknown parameter: config.lookback\n",
      "Passed unknown parameter: config.loss_func\n",
      "Passed unknown parameter: config.loss_config\n",
      "Passed unknown parameter: config.n_epoch\n",
      "Passed unknown parameter: config.bs\n",
      "Passed unknown parameter: config.is_optuna_study\n",
      "Passed unknown parameter: config.metrics\n",
      "Passed unknown parameter: config.main_metric\n",
      "Passed unknown parameter: config.use_wandb\n",
      "Passed unknown parameter: config.wandb_group\n"
     ]
    },
    {
     "name": "stdout",
     "output_type": "stream",
     "text": [
      "[I 2024-08-22 12:47:00,458] Trial 43 finished with values: [0.6172909736633301, 0.5192814469337463, -26.75860595703125, 19.23124122619629, -15.365250587463379] and parameters: {'arch.attn_dropout': 0.2, 'arch.d_model': 512, 'arch.d_ff': 352, 'arch.decomposition': True, 'arch.dropout': 0.4, 'arch.individual': True, 'arch.n_layers': 5, 'arch.n_heads': 32, 'init_weights': True, 'lookback': 128, 'loss_func': 'Trended'}. \n"
     ]
    },
    {
     "name": "stderr",
     "output_type": "stream",
     "text": [
      "Executing: 100%|██████████| 33/33 [01:52<00:00,  3.42s/cell]\n",
      " 45%|████▌     | 45/100 [1:16:58<1:53:00, 123.28s/it]Passed unknown parameter: config.arch.attn_dropout\n",
      "Passed unknown parameter: config.arch.d_model\n",
      "Passed unknown parameter: config.arch.d_ff\n",
      "Passed unknown parameter: config.arch.decomposition\n",
      "Passed unknown parameter: config.arch.dropout\n",
      "Passed unknown parameter: config.arch.individual\n",
      "Passed unknown parameter: config.arch.n_layers\n",
      "Passed unknown parameter: config.arch.n_heads\n",
      "Passed unknown parameter: config.init_weights\n",
      "Passed unknown parameter: config.lookback\n",
      "Passed unknown parameter: config.loss_func\n",
      "Passed unknown parameter: config.loss_config\n",
      "Passed unknown parameter: config.n_epoch\n",
      "Passed unknown parameter: config.bs\n",
      "Passed unknown parameter: config.is_optuna_study\n",
      "Passed unknown parameter: config.metrics\n",
      "Passed unknown parameter: config.main_metric\n",
      "Passed unknown parameter: config.use_wandb\n",
      "Passed unknown parameter: config.wandb_group\n"
     ]
    },
    {
     "name": "stdout",
     "output_type": "stream",
     "text": [
      "[I 2024-08-22 12:48:53,415] Trial 44 finished with values: [0.5344762206077576, 0.45370805263519287, -27.73447608947754, 11.453643798828125, -9.359342575073242] and parameters: {'arch.attn_dropout': 0.1, 'arch.d_model': 448, 'arch.d_ff': 320, 'arch.decomposition': True, 'arch.dropout': 0.30000000000000004, 'arch.individual': False, 'arch.n_layers': 4, 'arch.n_heads': 4, 'init_weights': True, 'lookback': 128, 'loss_func': 'wMSE'}. \n"
     ]
    },
    {
     "name": "stderr",
     "output_type": "stream",
     "text": [
      "Executing: 100%|██████████| 33/33 [03:14<00:00,  5.90s/cell]\n",
      " 46%|████▌     | 46/100 [1:20:13<2:10:16, 144.75s/it]Passed unknown parameter: config.arch.attn_dropout\n",
      "Passed unknown parameter: config.arch.d_model\n",
      "Passed unknown parameter: config.arch.d_ff\n",
      "Passed unknown parameter: config.arch.decomposition\n",
      "Passed unknown parameter: config.arch.dropout\n",
      "Passed unknown parameter: config.arch.individual\n",
      "Passed unknown parameter: config.arch.n_layers\n",
      "Passed unknown parameter: config.arch.n_heads\n",
      "Passed unknown parameter: config.init_weights\n",
      "Passed unknown parameter: config.lookback\n",
      "Passed unknown parameter: config.loss_func\n",
      "Passed unknown parameter: config.loss_config\n",
      "Passed unknown parameter: config.n_epoch\n",
      "Passed unknown parameter: config.bs\n",
      "Passed unknown parameter: config.is_optuna_study\n",
      "Passed unknown parameter: config.metrics\n",
      "Passed unknown parameter: config.main_metric\n",
      "Passed unknown parameter: config.use_wandb\n",
      "Passed unknown parameter: config.wandb_group\n"
     ]
    },
    {
     "name": "stdout",
     "output_type": "stream",
     "text": [
      "[I 2024-08-22 12:52:08,266] Trial 45 finished with values: [0.46776819229125977, 0.40424370765686035, -10.37512493133545, 4.568363189697266, -0.46445366740226746] and parameters: {'arch.attn_dropout': 0.0, 'arch.d_model': 448, 'arch.d_ff': 320, 'arch.decomposition': True, 'arch.dropout': 0.4, 'arch.individual': False, 'arch.n_layers': 6, 'arch.n_heads': 32, 'init_weights': False, 'lookback': 128, 'loss_func': 'wRMSLE'}. \n"
     ]
    },
    {
     "name": "stderr",
     "output_type": "stream",
     "text": [
      "Executing: 100%|██████████| 33/33 [01:48<00:00,  3.30s/cell]\n",
      " 47%|████▋     | 47/100 [1:22:02<1:58:21, 133.99s/it]Passed unknown parameter: config.arch.attn_dropout\n",
      "Passed unknown parameter: config.arch.d_model\n",
      "Passed unknown parameter: config.arch.d_ff\n",
      "Passed unknown parameter: config.arch.decomposition\n",
      "Passed unknown parameter: config.arch.dropout\n",
      "Passed unknown parameter: config.arch.individual\n",
      "Passed unknown parameter: config.arch.n_layers\n",
      "Passed unknown parameter: config.arch.n_heads\n",
      "Passed unknown parameter: config.init_weights\n",
      "Passed unknown parameter: config.lookback\n",
      "Passed unknown parameter: config.loss_func\n",
      "Passed unknown parameter: config.loss_config\n",
      "Passed unknown parameter: config.n_epoch\n",
      "Passed unknown parameter: config.bs\n",
      "Passed unknown parameter: config.is_optuna_study\n",
      "Passed unknown parameter: config.metrics\n",
      "Passed unknown parameter: config.main_metric\n",
      "Passed unknown parameter: config.use_wandb\n",
      "Passed unknown parameter: config.wandb_group\n"
     ]
    },
    {
     "name": "stdout",
     "output_type": "stream",
     "text": [
      "[I 2024-08-22 12:53:57,163] Trial 46 finished with values: [0.4325817823410034, 0.35461491346359253, -12.749608993530273, 3.9805948734283447, -0.2634070813655853] and parameters: {'arch.attn_dropout': 0.2, 'arch.d_model': 384, 'arch.d_ff': 448, 'arch.decomposition': True, 'arch.dropout': 0.5, 'arch.individual': True, 'arch.n_layers': 5, 'arch.n_heads': 4, 'init_weights': False, 'lookback': 18, 'loss_func': 'Trended'}. \n"
     ]
    },
    {
     "name": "stderr",
     "output_type": "stream",
     "text": [
      "Executing: 100%|██████████| 33/33 [03:12<00:00,  5.84s/cell]\n",
      " 48%|████▊     | 48/100 [1:25:14<2:11:22, 151.60s/it]Passed unknown parameter: config.arch.attn_dropout\n",
      "Passed unknown parameter: config.arch.d_model\n",
      "Passed unknown parameter: config.arch.d_ff\n",
      "Passed unknown parameter: config.arch.decomposition\n",
      "Passed unknown parameter: config.arch.dropout\n",
      "Passed unknown parameter: config.arch.individual\n",
      "Passed unknown parameter: config.arch.n_layers\n",
      "Passed unknown parameter: config.arch.n_heads\n",
      "Passed unknown parameter: config.init_weights\n",
      "Passed unknown parameter: config.lookback\n",
      "Passed unknown parameter: config.loss_func\n",
      "Passed unknown parameter: config.loss_config\n",
      "Passed unknown parameter: config.n_epoch\n",
      "Passed unknown parameter: config.bs\n",
      "Passed unknown parameter: config.is_optuna_study\n",
      "Passed unknown parameter: config.metrics\n",
      "Passed unknown parameter: config.main_metric\n",
      "Passed unknown parameter: config.use_wandb\n",
      "Passed unknown parameter: config.wandb_group\n"
     ]
    },
    {
     "name": "stdout",
     "output_type": "stream",
     "text": [
      "[I 2024-08-22 12:57:09,830] Trial 47 finished with values: [0.5566680431365967, 0.4556352198123932, -167.26211547851562, 18.996246337890625, -15.066999435424805] and parameters: {'arch.attn_dropout': 0.2, 'arch.d_model': 480, 'arch.d_ff': 320, 'arch.decomposition': True, 'arch.dropout': 0.5, 'arch.individual': True, 'arch.n_layers': 5, 'arch.n_heads': 32, 'init_weights': True, 'lookback': 128, 'loss_func': 'Trended'}. \n"
     ]
    },
    {
     "name": "stderr",
     "output_type": "stream",
     "text": [
      "Executing: 100%|██████████| 33/33 [01:13<00:00,  2.22s/cell]\n",
      " 49%|████▉     | 49/100 [1:26:28<1:48:56, 128.16s/it]Passed unknown parameter: config.arch.attn_dropout\n",
      "Passed unknown parameter: config.arch.d_model\n",
      "Passed unknown parameter: config.arch.d_ff\n",
      "Passed unknown parameter: config.arch.decomposition\n",
      "Passed unknown parameter: config.arch.dropout\n",
      "Passed unknown parameter: config.arch.individual\n",
      "Passed unknown parameter: config.arch.n_layers\n",
      "Passed unknown parameter: config.arch.n_heads\n",
      "Passed unknown parameter: config.init_weights\n",
      "Passed unknown parameter: config.lookback\n",
      "Passed unknown parameter: config.loss_func\n",
      "Passed unknown parameter: config.loss_config\n",
      "Passed unknown parameter: config.n_epoch\n",
      "Passed unknown parameter: config.bs\n",
      "Passed unknown parameter: config.is_optuna_study\n",
      "Passed unknown parameter: config.metrics\n",
      "Passed unknown parameter: config.main_metric\n",
      "Passed unknown parameter: config.use_wandb\n",
      "Passed unknown parameter: config.wandb_group\n"
     ]
    },
    {
     "name": "stdout",
     "output_type": "stream",
     "text": [
      "[I 2024-08-22 12:58:23,311] Trial 48 finished with values: [0.4274961054325104, 0.36683639883995056, -82.24849700927734, 8.74691104888916, -5.516526699066162] and parameters: {'arch.attn_dropout': 0.0, 'arch.d_model': 480, 'arch.d_ff': 320, 'arch.decomposition': True, 'arch.dropout': 0.5, 'arch.individual': False, 'arch.n_layers': 4, 'arch.n_heads': 4, 'init_weights': True, 'lookback': 24, 'loss_func': 'wMSLE'}. \n"
     ]
    },
    {
     "name": "stderr",
     "output_type": "stream",
     "text": [
      "Executing: 100%|██████████| 33/33 [01:49<00:00,  3.32s/cell]\n",
      " 50%|█████     | 50/100 [1:28:18<1:42:10, 122.62s/it]Passed unknown parameter: config.arch.attn_dropout\n",
      "Passed unknown parameter: config.arch.d_model\n",
      "Passed unknown parameter: config.arch.d_ff\n",
      "Passed unknown parameter: config.arch.decomposition\n",
      "Passed unknown parameter: config.arch.dropout\n",
      "Passed unknown parameter: config.arch.individual\n",
      "Passed unknown parameter: config.arch.n_layers\n",
      "Passed unknown parameter: config.arch.n_heads\n",
      "Passed unknown parameter: config.init_weights\n",
      "Passed unknown parameter: config.lookback\n",
      "Passed unknown parameter: config.loss_func\n",
      "Passed unknown parameter: config.loss_config\n",
      "Passed unknown parameter: config.n_epoch\n",
      "Passed unknown parameter: config.bs\n",
      "Passed unknown parameter: config.is_optuna_study\n",
      "Passed unknown parameter: config.metrics\n",
      "Passed unknown parameter: config.main_metric\n",
      "Passed unknown parameter: config.use_wandb\n",
      "Passed unknown parameter: config.wandb_group\n"
     ]
    },
    {
     "name": "stdout",
     "output_type": "stream",
     "text": [
      "[I 2024-08-22 13:00:12,997] Trial 49 finished with values: [0.49560144543647766, 0.44903430342674255, -129.46640014648438, 10.977785110473633, -7.521368503570557] and parameters: {'arch.attn_dropout': 0.0, 'arch.d_model': 416, 'arch.d_ff': 320, 'arch.decomposition': True, 'arch.dropout': 0.5, 'arch.individual': True, 'arch.n_layers': 4, 'arch.n_heads': 4, 'init_weights': True, 'lookback': 128, 'loss_func': 'MSE'}. \n"
     ]
    },
    {
     "name": "stderr",
     "output_type": "stream",
     "text": [
      "Executing: 100%|██████████| 33/33 [01:15<00:00,  2.29s/cell]\n",
      " 51%|█████     | 51/100 [1:29:33<1:28:38, 108.53s/it]Passed unknown parameter: config.arch.attn_dropout\n",
      "Passed unknown parameter: config.arch.d_model\n",
      "Passed unknown parameter: config.arch.d_ff\n",
      "Passed unknown parameter: config.arch.decomposition\n",
      "Passed unknown parameter: config.arch.dropout\n",
      "Passed unknown parameter: config.arch.individual\n",
      "Passed unknown parameter: config.arch.n_layers\n",
      "Passed unknown parameter: config.arch.n_heads\n",
      "Passed unknown parameter: config.init_weights\n",
      "Passed unknown parameter: config.lookback\n",
      "Passed unknown parameter: config.loss_func\n",
      "Passed unknown parameter: config.loss_config\n",
      "Passed unknown parameter: config.n_epoch\n",
      "Passed unknown parameter: config.bs\n",
      "Passed unknown parameter: config.is_optuna_study\n",
      "Passed unknown parameter: config.metrics\n",
      "Passed unknown parameter: config.main_metric\n",
      "Passed unknown parameter: config.use_wandb\n",
      "Passed unknown parameter: config.wandb_group\n"
     ]
    },
    {
     "name": "stdout",
     "output_type": "stream",
     "text": [
      "[I 2024-08-22 13:01:28,663] Trial 50 finished with values: [0.43324729800224304, 0.363416850566864, -132.48333740234375, 14.402896881103516, -13.076850891113281] and parameters: {'arch.attn_dropout': 0.0, 'arch.d_model': 320, 'arch.d_ff': 352, 'arch.decomposition': True, 'arch.dropout': 0.5, 'arch.individual': True, 'arch.n_layers': 5, 'arch.n_heads': 8, 'init_weights': True, 'lookback': 36, 'loss_func': 'wMAE'}. \n"
     ]
    },
    {
     "name": "stderr",
     "output_type": "stream",
     "text": [
      "Executing: 100%|██████████| 33/33 [01:16<00:00,  2.32s/cell]\n",
      " 52%|█████▏    | 52/100 [1:30:50<1:19:10, 98.97s/it] Passed unknown parameter: config.arch.attn_dropout\n",
      "Passed unknown parameter: config.arch.d_model\n",
      "Passed unknown parameter: config.arch.d_ff\n",
      "Passed unknown parameter: config.arch.decomposition\n",
      "Passed unknown parameter: config.arch.dropout\n",
      "Passed unknown parameter: config.arch.individual\n",
      "Passed unknown parameter: config.arch.n_layers\n",
      "Passed unknown parameter: config.arch.n_heads\n",
      "Passed unknown parameter: config.init_weights\n",
      "Passed unknown parameter: config.lookback\n",
      "Passed unknown parameter: config.loss_func\n",
      "Passed unknown parameter: config.loss_config\n",
      "Passed unknown parameter: config.n_epoch\n",
      "Passed unknown parameter: config.bs\n",
      "Passed unknown parameter: config.is_optuna_study\n",
      "Passed unknown parameter: config.metrics\n",
      "Passed unknown parameter: config.main_metric\n",
      "Passed unknown parameter: config.use_wandb\n",
      "Passed unknown parameter: config.wandb_group\n"
     ]
    },
    {
     "name": "stdout",
     "output_type": "stream",
     "text": [
      "[I 2024-08-22 13:02:45,315] Trial 51 finished with values: [0.5491847991943359, 0.4529132544994354, -119.02112579345703, 10.052285194396973, -5.712987422943115] and parameters: {'arch.attn_dropout': 0.1, 'arch.d_model': 320, 'arch.d_ff': 384, 'arch.decomposition': True, 'arch.dropout': 0.4, 'arch.individual': True, 'arch.n_layers': 5, 'arch.n_heads': 8, 'init_weights': True, 'lookback': 36, 'loss_func': 'RMSLE'}. \n"
     ]
    },
    {
     "name": "stderr",
     "output_type": "stream",
     "text": [
      "Executing: 100%|██████████| 33/33 [01:11<00:00,  2.17s/cell]\n",
      " 53%|█████▎    | 53/100 [1:32:02<1:11:07, 90.79s/it]Passed unknown parameter: config.arch.attn_dropout\n",
      "Passed unknown parameter: config.arch.d_model\n",
      "Passed unknown parameter: config.arch.d_ff\n",
      "Passed unknown parameter: config.arch.decomposition\n",
      "Passed unknown parameter: config.arch.dropout\n",
      "Passed unknown parameter: config.arch.individual\n",
      "Passed unknown parameter: config.arch.n_layers\n",
      "Passed unknown parameter: config.arch.n_heads\n",
      "Passed unknown parameter: config.init_weights\n",
      "Passed unknown parameter: config.lookback\n",
      "Passed unknown parameter: config.loss_func\n",
      "Passed unknown parameter: config.loss_config\n",
      "Passed unknown parameter: config.n_epoch\n",
      "Passed unknown parameter: config.bs\n",
      "Passed unknown parameter: config.is_optuna_study\n",
      "Passed unknown parameter: config.metrics\n",
      "Passed unknown parameter: config.main_metric\n",
      "Passed unknown parameter: config.use_wandb\n",
      "Passed unknown parameter: config.wandb_group\n"
     ]
    },
    {
     "name": "stdout",
     "output_type": "stream",
     "text": [
      "[I 2024-08-22 13:03:57,024] Trial 52 finished with values: [0.39409229159355164, 0.35813698172569275, -147.38314819335938, 12.846301078796387, -10.698673248291016] and parameters: {'arch.attn_dropout': 0.1, 'arch.d_model': 224, 'arch.d_ff': 416, 'arch.decomposition': True, 'arch.dropout': 0.5, 'arch.individual': False, 'arch.n_layers': 5, 'arch.n_heads': 8, 'init_weights': True, 'lookback': 36, 'loss_func': 'wMAE'}. \n"
     ]
    },
    {
     "name": "stderr",
     "output_type": "stream",
     "text": [
      "Executing: 100%|██████████| 33/33 [01:01<00:00,  1.87s/cell]\n",
      " 54%|█████▍    | 54/100 [1:33:03<1:02:53, 82.04s/it]Passed unknown parameter: config.arch.attn_dropout\n",
      "Passed unknown parameter: config.arch.d_model\n",
      "Passed unknown parameter: config.arch.d_ff\n",
      "Passed unknown parameter: config.arch.decomposition\n",
      "Passed unknown parameter: config.arch.dropout\n",
      "Passed unknown parameter: config.arch.individual\n",
      "Passed unknown parameter: config.arch.n_layers\n",
      "Passed unknown parameter: config.arch.n_heads\n",
      "Passed unknown parameter: config.init_weights\n",
      "Passed unknown parameter: config.lookback\n",
      "Passed unknown parameter: config.loss_func\n",
      "Passed unknown parameter: config.loss_config\n",
      "Passed unknown parameter: config.n_epoch\n",
      "Passed unknown parameter: config.bs\n",
      "Passed unknown parameter: config.is_optuna_study\n",
      "Passed unknown parameter: config.metrics\n",
      "Passed unknown parameter: config.main_metric\n",
      "Passed unknown parameter: config.use_wandb\n",
      "Passed unknown parameter: config.wandb_group\n"
     ]
    },
    {
     "name": "stdout",
     "output_type": "stream",
     "text": [
      "[I 2024-08-22 13:04:58,653] Trial 53 finished with values: [0.462819904088974, 0.4073929786682129, -18.148696899414062, 4.6492767333984375, -1.5401042699813843] and parameters: {'arch.attn_dropout': 0.0, 'arch.d_model': 192, 'arch.d_ff': 416, 'arch.decomposition': True, 'arch.dropout': 0.4, 'arch.individual': True, 'arch.n_layers': 3, 'arch.n_heads': 8, 'init_weights': True, 'lookback': 36, 'loss_func': 'wMAE'}. \n"
     ]
    },
    {
     "name": "stderr",
     "output_type": "stream",
     "text": [
      "Executing: 100%|██████████| 33/33 [01:04<00:00,  1.94s/cell]\n",
      " 55%|█████▌    | 55/100 [1:34:07<57:29, 76.65s/it]  Passed unknown parameter: config.arch.attn_dropout\n",
      "Passed unknown parameter: config.arch.d_model\n",
      "Passed unknown parameter: config.arch.d_ff\n",
      "Passed unknown parameter: config.arch.decomposition\n",
      "Passed unknown parameter: config.arch.dropout\n",
      "Passed unknown parameter: config.arch.individual\n",
      "Passed unknown parameter: config.arch.n_layers\n",
      "Passed unknown parameter: config.arch.n_heads\n",
      "Passed unknown parameter: config.init_weights\n",
      "Passed unknown parameter: config.lookback\n",
      "Passed unknown parameter: config.loss_func\n",
      "Passed unknown parameter: config.loss_config\n",
      "Passed unknown parameter: config.n_epoch\n",
      "Passed unknown parameter: config.bs\n",
      "Passed unknown parameter: config.is_optuna_study\n",
      "Passed unknown parameter: config.metrics\n",
      "Passed unknown parameter: config.main_metric\n",
      "Passed unknown parameter: config.use_wandb\n",
      "Passed unknown parameter: config.wandb_group\n"
     ]
    },
    {
     "name": "stdout",
     "output_type": "stream",
     "text": [
      "[I 2024-08-22 13:06:02,734] Trial 54 finished with values: [0.4637305736541748, 0.37872081995010376, -17.371604919433594, 5.148443222045898, -2.1964070796966553] and parameters: {'arch.attn_dropout': 0.2, 'arch.d_model': 192, 'arch.d_ff': 512, 'arch.decomposition': True, 'arch.dropout': 0.4, 'arch.individual': False, 'arch.n_layers': 4, 'arch.n_heads': 4, 'init_weights': True, 'lookback': 36, 'loss_func': 'wMAE'}. \n"
     ]
    },
    {
     "name": "stderr",
     "output_type": "stream",
     "text": [
      "Executing: 100%|██████████| 33/33 [01:21<00:00,  2.48s/cell]\n",
      " 56%|█████▌    | 56/100 [1:35:29<57:20, 78.19s/it]Passed unknown parameter: config.arch.attn_dropout\n",
      "Passed unknown parameter: config.arch.d_model\n",
      "Passed unknown parameter: config.arch.d_ff\n",
      "Passed unknown parameter: config.arch.decomposition\n",
      "Passed unknown parameter: config.arch.dropout\n",
      "Passed unknown parameter: config.arch.individual\n",
      "Passed unknown parameter: config.arch.n_layers\n",
      "Passed unknown parameter: config.arch.n_heads\n",
      "Passed unknown parameter: config.init_weights\n",
      "Passed unknown parameter: config.lookback\n",
      "Passed unknown parameter: config.loss_func\n",
      "Passed unknown parameter: config.loss_config\n",
      "Passed unknown parameter: config.n_epoch\n",
      "Passed unknown parameter: config.bs\n",
      "Passed unknown parameter: config.is_optuna_study\n",
      "Passed unknown parameter: config.metrics\n",
      "Passed unknown parameter: config.main_metric\n",
      "Passed unknown parameter: config.use_wandb\n",
      "Passed unknown parameter: config.wandb_group\n"
     ]
    },
    {
     "name": "stdout",
     "output_type": "stream",
     "text": [
      "[I 2024-08-22 13:07:24,512] Trial 55 finished with values: [0.5841912627220154, 0.49431630969047546, -746.47412109375, 20.31085205078125, -17.08104133605957] and parameters: {'arch.attn_dropout': 0.0, 'arch.d_model': 256, 'arch.d_ff': 288, 'arch.decomposition': True, 'arch.dropout': 0.5, 'arch.individual': False, 'arch.n_layers': 5, 'arch.n_heads': 4, 'init_weights': True, 'lookback': 128, 'loss_func': 'wQuantile'}. \n"
     ]
    },
    {
     "name": "stderr",
     "output_type": "stream",
     "text": [
      "Executing: 100%|██████████| 33/33 [02:05<00:00,  3.79s/cell]\n",
      " 57%|█████▋    | 57/100 [1:37:34<1:06:08, 92.29s/it]Passed unknown parameter: config.arch.attn_dropout\n",
      "Passed unknown parameter: config.arch.d_model\n",
      "Passed unknown parameter: config.arch.d_ff\n",
      "Passed unknown parameter: config.arch.decomposition\n",
      "Passed unknown parameter: config.arch.dropout\n",
      "Passed unknown parameter: config.arch.individual\n",
      "Passed unknown parameter: config.arch.n_layers\n",
      "Passed unknown parameter: config.arch.n_heads\n",
      "Passed unknown parameter: config.init_weights\n",
      "Passed unknown parameter: config.lookback\n",
      "Passed unknown parameter: config.loss_func\n",
      "Passed unknown parameter: config.loss_config\n",
      "Passed unknown parameter: config.n_epoch\n",
      "Passed unknown parameter: config.bs\n",
      "Passed unknown parameter: config.is_optuna_study\n",
      "Passed unknown parameter: config.metrics\n",
      "Passed unknown parameter: config.main_metric\n",
      "Passed unknown parameter: config.use_wandb\n",
      "Passed unknown parameter: config.wandb_group\n"
     ]
    },
    {
     "name": "stdout",
     "output_type": "stream",
     "text": [
      "[I 2024-08-22 13:09:29,690] Trial 56 finished with values: [0.5130648612976074, 0.43056920170783997, -44.797203063964844, 13.011502265930176, -7.131560325622559] and parameters: {'arch.attn_dropout': 0.0, 'arch.d_model': 416, 'arch.d_ff': 256, 'arch.decomposition': True, 'arch.dropout': 0.5, 'arch.individual': True, 'arch.n_layers': 4, 'arch.n_heads': 4, 'init_weights': False, 'lookback': 128, 'loss_func': 'Trended'}. \n"
     ]
    },
    {
     "name": "stderr",
     "output_type": "stream",
     "text": [
      "Executing: 100%|██████████| 33/33 [01:17<00:00,  2.36s/cell]\n",
      " 58%|█████▊    | 58/100 [1:38:52<1:01:33, 87.94s/it]Passed unknown parameter: config.arch.attn_dropout\n",
      "Passed unknown parameter: config.arch.d_model\n",
      "Passed unknown parameter: config.arch.d_ff\n",
      "Passed unknown parameter: config.arch.decomposition\n",
      "Passed unknown parameter: config.arch.dropout\n",
      "Passed unknown parameter: config.arch.individual\n",
      "Passed unknown parameter: config.arch.n_layers\n",
      "Passed unknown parameter: config.arch.n_heads\n",
      "Passed unknown parameter: config.init_weights\n",
      "Passed unknown parameter: config.lookback\n",
      "Passed unknown parameter: config.loss_func\n",
      "Passed unknown parameter: config.loss_config\n",
      "Passed unknown parameter: config.n_epoch\n",
      "Passed unknown parameter: config.bs\n",
      "Passed unknown parameter: config.is_optuna_study\n",
      "Passed unknown parameter: config.metrics\n",
      "Passed unknown parameter: config.main_metric\n",
      "Passed unknown parameter: config.use_wandb\n",
      "Passed unknown parameter: config.wandb_group\n"
     ]
    },
    {
     "name": "stdout",
     "output_type": "stream",
     "text": [
      "[I 2024-08-22 13:10:47,479] Trial 57 finished with values: [0.4743751287460327, 0.35166630148887634, -54.97564697265625, 8.776032447814941, -0.6601955890655518] and parameters: {'arch.attn_dropout': 0.1, 'arch.d_model': 160, 'arch.d_ff': 224, 'arch.decomposition': True, 'arch.dropout': 0.5, 'arch.individual': True, 'arch.n_layers': 6, 'arch.n_heads': 8, 'init_weights': True, 'lookback': 18, 'loss_func': 'Quantile'}. \n"
     ]
    },
    {
     "name": "stderr",
     "output_type": "stream",
     "text": [
      "Executing: 100%|██████████| 33/33 [00:51<00:00,  1.56s/cell]\n",
      " 59%|█████▉    | 59/100 [1:39:44<52:36, 76.99s/it]  Passed unknown parameter: config.arch.attn_dropout\n",
      "Passed unknown parameter: config.arch.d_model\n",
      "Passed unknown parameter: config.arch.d_ff\n",
      "Passed unknown parameter: config.arch.decomposition\n",
      "Passed unknown parameter: config.arch.dropout\n",
      "Passed unknown parameter: config.arch.individual\n",
      "Passed unknown parameter: config.arch.n_layers\n",
      "Passed unknown parameter: config.arch.n_heads\n",
      "Passed unknown parameter: config.init_weights\n",
      "Passed unknown parameter: config.lookback\n",
      "Passed unknown parameter: config.loss_func\n",
      "Passed unknown parameter: config.loss_config\n",
      "Passed unknown parameter: config.n_epoch\n",
      "Passed unknown parameter: config.bs\n",
      "Passed unknown parameter: config.is_optuna_study\n",
      "Passed unknown parameter: config.metrics\n",
      "Passed unknown parameter: config.main_metric\n",
      "Passed unknown parameter: config.use_wandb\n",
      "Passed unknown parameter: config.wandb_group\n"
     ]
    },
    {
     "name": "stdout",
     "output_type": "stream",
     "text": [
      "[I 2024-08-22 13:11:38,922] Trial 58 finished with values: [0.5235581994056702, 0.4439719319343567, -195.21298217773438, 7.821521282196045, -1.2144032716751099] and parameters: {'arch.attn_dropout': 0.0, 'arch.d_model': 224, 'arch.d_ff': 256, 'arch.decomposition': False, 'arch.dropout': 0.5, 'arch.individual': True, 'arch.n_layers': 4, 'arch.n_heads': 2, 'init_weights': True, 'lookback': 24, 'loss_func': 'wMSLE'}. \n"
     ]
    },
    {
     "name": "stderr",
     "output_type": "stream",
     "text": [
      "Executing: 100%|██████████| 33/33 [01:13<00:00,  2.24s/cell]\n",
      " 60%|██████    | 60/100 [1:40:58<50:43, 76.09s/it]Passed unknown parameter: config.arch.attn_dropout\n",
      "Passed unknown parameter: config.arch.d_model\n",
      "Passed unknown parameter: config.arch.d_ff\n",
      "Passed unknown parameter: config.arch.decomposition\n",
      "Passed unknown parameter: config.arch.dropout\n",
      "Passed unknown parameter: config.arch.individual\n",
      "Passed unknown parameter: config.arch.n_layers\n",
      "Passed unknown parameter: config.arch.n_heads\n",
      "Passed unknown parameter: config.init_weights\n",
      "Passed unknown parameter: config.lookback\n",
      "Passed unknown parameter: config.loss_func\n",
      "Passed unknown parameter: config.loss_config\n",
      "Passed unknown parameter: config.n_epoch\n",
      "Passed unknown parameter: config.bs\n",
      "Passed unknown parameter: config.is_optuna_study\n",
      "Passed unknown parameter: config.metrics\n",
      "Passed unknown parameter: config.main_metric\n",
      "Passed unknown parameter: config.use_wandb\n",
      "Passed unknown parameter: config.wandb_group\n"
     ]
    },
    {
     "name": "stdout",
     "output_type": "stream",
     "text": [
      "[I 2024-08-22 13:12:52,920] Trial 59 finished with values: [0.45954179763793945, 0.39407068490982056, -14.4641752243042, 4.219995498657227, -0.526266872882843] and parameters: {'arch.attn_dropout': 0.0, 'arch.d_model': 288, 'arch.d_ff': 384, 'arch.decomposition': True, 'arch.dropout': 0.5, 'arch.individual': True, 'arch.n_layers': 5, 'arch.n_heads': 4, 'init_weights': False, 'lookback': 36, 'loss_func': 'wMAE'}. \n"
     ]
    },
    {
     "name": "stderr",
     "output_type": "stream",
     "text": [
      "Executing: 100%|██████████| 33/33 [01:18<00:00,  2.37s/cell]\n",
      " 61%|██████    | 61/100 [1:42:16<49:53, 76.75s/it]Passed unknown parameter: config.arch.attn_dropout\n",
      "Passed unknown parameter: config.arch.d_model\n",
      "Passed unknown parameter: config.arch.d_ff\n",
      "Passed unknown parameter: config.arch.decomposition\n",
      "Passed unknown parameter: config.arch.dropout\n",
      "Passed unknown parameter: config.arch.individual\n",
      "Passed unknown parameter: config.arch.n_layers\n",
      "Passed unknown parameter: config.arch.n_heads\n",
      "Passed unknown parameter: config.init_weights\n",
      "Passed unknown parameter: config.lookback\n",
      "Passed unknown parameter: config.loss_func\n",
      "Passed unknown parameter: config.loss_config\n",
      "Passed unknown parameter: config.n_epoch\n",
      "Passed unknown parameter: config.bs\n",
      "Passed unknown parameter: config.is_optuna_study\n",
      "Passed unknown parameter: config.metrics\n",
      "Passed unknown parameter: config.main_metric\n",
      "Passed unknown parameter: config.use_wandb\n",
      "Passed unknown parameter: config.wandb_group\n"
     ]
    },
    {
     "name": "stdout",
     "output_type": "stream",
     "text": [
      "[I 2024-08-22 13:14:11,216] Trial 60 finished with values: [0.4690709412097931, 0.40901979804039, -171.45895385742188, 12.862622261047363, -10.88825511932373] and parameters: {'arch.attn_dropout': 0.0, 'arch.d_model': 384, 'arch.d_ff': 352, 'arch.decomposition': True, 'arch.dropout': 0.5, 'arch.individual': True, 'arch.n_layers': 5, 'arch.n_heads': 8, 'init_weights': True, 'lookback': 36, 'loss_func': 'wMAE'}. \n"
     ]
    },
    {
     "name": "stderr",
     "output_type": "stream",
     "text": [
      "Executing: 100%|██████████| 33/33 [01:32<00:00,  2.81s/cell]\n",
      " 62%|██████▏   | 62/100 [1:43:49<51:41, 81.61s/it]Passed unknown parameter: config.arch.attn_dropout\n",
      "Passed unknown parameter: config.arch.d_model\n",
      "Passed unknown parameter: config.arch.d_ff\n",
      "Passed unknown parameter: config.arch.decomposition\n",
      "Passed unknown parameter: config.arch.dropout\n",
      "Passed unknown parameter: config.arch.individual\n",
      "Passed unknown parameter: config.arch.n_layers\n",
      "Passed unknown parameter: config.arch.n_heads\n",
      "Passed unknown parameter: config.init_weights\n",
      "Passed unknown parameter: config.lookback\n",
      "Passed unknown parameter: config.loss_func\n",
      "Passed unknown parameter: config.loss_config\n",
      "Passed unknown parameter: config.n_epoch\n",
      "Passed unknown parameter: config.bs\n",
      "Passed unknown parameter: config.is_optuna_study\n",
      "Passed unknown parameter: config.metrics\n",
      "Passed unknown parameter: config.main_metric\n",
      "Passed unknown parameter: config.use_wandb\n",
      "Passed unknown parameter: config.wandb_group\n"
     ]
    },
    {
     "name": "stdout",
     "output_type": "stream",
     "text": [
      "[I 2024-08-22 13:15:44,164] Trial 61 finished with values: [0.5354790091514587, 0.4909686744213104, -338.2915344238281, 11.345466613769531, -7.994438171386719] and parameters: {'arch.attn_dropout': 0.30000000000000004, 'arch.d_model': 512, 'arch.d_ff': 256, 'arch.decomposition': True, 'arch.dropout': 0.5, 'arch.individual': False, 'arch.n_layers': 6, 'arch.n_heads': 4, 'init_weights': True, 'lookback': 36, 'loss_func': 'wMAE'}. \n"
     ]
    },
    {
     "name": "stderr",
     "output_type": "stream",
     "text": [
      "Executing: 100%|██████████| 33/33 [01:20<00:00,  2.44s/cell]\n",
      " 63%|██████▎   | 63/100 [1:45:09<50:06, 81.26s/it]Passed unknown parameter: config.arch.attn_dropout\n",
      "Passed unknown parameter: config.arch.d_model\n",
      "Passed unknown parameter: config.arch.d_ff\n",
      "Passed unknown parameter: config.arch.decomposition\n",
      "Passed unknown parameter: config.arch.dropout\n",
      "Passed unknown parameter: config.arch.individual\n",
      "Passed unknown parameter: config.arch.n_layers\n",
      "Passed unknown parameter: config.arch.n_heads\n",
      "Passed unknown parameter: config.init_weights\n",
      "Passed unknown parameter: config.lookback\n",
      "Passed unknown parameter: config.loss_func\n",
      "Passed unknown parameter: config.loss_config\n",
      "Passed unknown parameter: config.n_epoch\n",
      "Passed unknown parameter: config.bs\n",
      "Passed unknown parameter: config.is_optuna_study\n",
      "Passed unknown parameter: config.metrics\n",
      "Passed unknown parameter: config.main_metric\n",
      "Passed unknown parameter: config.use_wandb\n",
      "Passed unknown parameter: config.wandb_group\n"
     ]
    },
    {
     "name": "stdout",
     "output_type": "stream",
     "text": [
      "[I 2024-08-22 13:17:04,600] Trial 62 finished with values: [0.41748788952827454, 0.3740368187427521, -665.3936157226562, 16.748531341552734, -11.999846458435059] and parameters: {'arch.attn_dropout': 0.1, 'arch.d_model': 224, 'arch.d_ff': 320, 'arch.decomposition': True, 'arch.dropout': 0.4, 'arch.individual': False, 'arch.n_layers': 5, 'arch.n_heads': 4, 'init_weights': True, 'lookback': 128, 'loss_func': 'wRMSLE'}. \n"
     ]
    },
    {
     "name": "stderr",
     "output_type": "stream",
     "text": [
      "Executing: 100%|██████████| 33/33 [01:24<00:00,  2.55s/cell]\n",
      " 64%|██████▍   | 64/100 [1:46:33<49:17, 82.15s/it]Passed unknown parameter: config.arch.attn_dropout\n",
      "Passed unknown parameter: config.arch.d_model\n",
      "Passed unknown parameter: config.arch.d_ff\n",
      "Passed unknown parameter: config.arch.decomposition\n",
      "Passed unknown parameter: config.arch.dropout\n",
      "Passed unknown parameter: config.arch.individual\n",
      "Passed unknown parameter: config.arch.n_layers\n",
      "Passed unknown parameter: config.arch.n_heads\n",
      "Passed unknown parameter: config.init_weights\n",
      "Passed unknown parameter: config.lookback\n",
      "Passed unknown parameter: config.loss_func\n",
      "Passed unknown parameter: config.loss_config\n",
      "Passed unknown parameter: config.n_epoch\n",
      "Passed unknown parameter: config.bs\n",
      "Passed unknown parameter: config.is_optuna_study\n",
      "Passed unknown parameter: config.metrics\n",
      "Passed unknown parameter: config.main_metric\n",
      "Passed unknown parameter: config.use_wandb\n",
      "Passed unknown parameter: config.wandb_group\n"
     ]
    },
    {
     "name": "stdout",
     "output_type": "stream",
     "text": [
      "[I 2024-08-22 13:18:28,839] Trial 63 finished with values: [0.4499097764492035, 0.3826504647731781, -10.096352577209473, 4.615355968475342, -1.3414095640182495] and parameters: {'arch.attn_dropout': 0.1, 'arch.d_model': 416, 'arch.d_ff': 384, 'arch.decomposition': True, 'arch.dropout': 0.30000000000000004, 'arch.individual': False, 'arch.n_layers': 5, 'arch.n_heads': 16, 'init_weights': True, 'lookback': 36, 'loss_func': 'wRMSLE'}. \n"
     ]
    },
    {
     "name": "stderr",
     "output_type": "stream",
     "text": [
      "Executing: 100%|██████████| 33/33 [01:18<00:00,  2.38s/cell]\n",
      " 65%|██████▌   | 65/100 [1:47:52<47:17, 81.07s/it]Passed unknown parameter: config.arch.attn_dropout\n",
      "Passed unknown parameter: config.arch.d_model\n",
      "Passed unknown parameter: config.arch.d_ff\n",
      "Passed unknown parameter: config.arch.decomposition\n",
      "Passed unknown parameter: config.arch.dropout\n",
      "Passed unknown parameter: config.arch.individual\n",
      "Passed unknown parameter: config.arch.n_layers\n",
      "Passed unknown parameter: config.arch.n_heads\n",
      "Passed unknown parameter: config.init_weights\n",
      "Passed unknown parameter: config.lookback\n",
      "Passed unknown parameter: config.loss_func\n",
      "Passed unknown parameter: config.loss_config\n",
      "Passed unknown parameter: config.n_epoch\n",
      "Passed unknown parameter: config.bs\n",
      "Passed unknown parameter: config.is_optuna_study\n",
      "Passed unknown parameter: config.metrics\n",
      "Passed unknown parameter: config.main_metric\n",
      "Passed unknown parameter: config.use_wandb\n",
      "Passed unknown parameter: config.wandb_group\n"
     ]
    },
    {
     "name": "stdout",
     "output_type": "stream",
     "text": [
      "[I 2024-08-22 13:19:47,393] Trial 64 finished with values: [0.4406149387359619, 0.36670982837677, -10.15860366821289, 3.8230528831481934, -0.1060861200094223] and parameters: {'arch.attn_dropout': 0.0, 'arch.d_model': 288, 'arch.d_ff': 320, 'arch.decomposition': True, 'arch.dropout': 0.30000000000000004, 'arch.individual': True, 'arch.n_layers': 6, 'arch.n_heads': 8, 'init_weights': False, 'lookback': 36, 'loss_func': 'MSLE'}. \n"
     ]
    },
    {
     "name": "stderr",
     "output_type": "stream",
     "text": [
      "Executing: 100%|██████████| 33/33 [01:12<00:00,  2.20s/cell]\n",
      " 66%|██████▌   | 66/100 [1:49:05<44:32, 78.59s/it]Passed unknown parameter: config.arch.attn_dropout\n",
      "Passed unknown parameter: config.arch.d_model\n",
      "Passed unknown parameter: config.arch.d_ff\n",
      "Passed unknown parameter: config.arch.decomposition\n",
      "Passed unknown parameter: config.arch.dropout\n",
      "Passed unknown parameter: config.arch.individual\n",
      "Passed unknown parameter: config.arch.n_layers\n",
      "Passed unknown parameter: config.arch.n_heads\n",
      "Passed unknown parameter: config.init_weights\n",
      "Passed unknown parameter: config.lookback\n",
      "Passed unknown parameter: config.loss_func\n",
      "Passed unknown parameter: config.loss_config\n",
      "Passed unknown parameter: config.n_epoch\n",
      "Passed unknown parameter: config.bs\n",
      "Passed unknown parameter: config.is_optuna_study\n",
      "Passed unknown parameter: config.metrics\n",
      "Passed unknown parameter: config.main_metric\n",
      "Passed unknown parameter: config.use_wandb\n",
      "Passed unknown parameter: config.wandb_group\n"
     ]
    },
    {
     "name": "stdout",
     "output_type": "stream",
     "text": [
      "[I 2024-08-22 13:21:00,183] Trial 65 finished with values: [0.5276225209236145, 0.43712809681892395, -479.3587646484375, 10.980570793151855, -7.474009990692139] and parameters: {'arch.attn_dropout': 0.1, 'arch.d_model': 192, 'arch.d_ff': 384, 'arch.decomposition': True, 'arch.dropout': 0.5, 'arch.individual': False, 'arch.n_layers': 5, 'arch.n_heads': 8, 'init_weights': True, 'lookback': 36, 'loss_func': 'wRMSLE'}. \n"
     ]
    },
    {
     "name": "stderr",
     "output_type": "stream",
     "text": [
      "Executing: 100%|██████████| 33/33 [01:29<00:00,  2.71s/cell]\n",
      " 67%|██████▋   | 67/100 [1:50:34<45:01, 81.88s/it]Passed unknown parameter: config.arch.attn_dropout\n",
      "Passed unknown parameter: config.arch.d_model\n",
      "Passed unknown parameter: config.arch.d_ff\n",
      "Passed unknown parameter: config.arch.decomposition\n",
      "Passed unknown parameter: config.arch.dropout\n",
      "Passed unknown parameter: config.arch.individual\n",
      "Passed unknown parameter: config.arch.n_layers\n",
      "Passed unknown parameter: config.arch.n_heads\n",
      "Passed unknown parameter: config.init_weights\n",
      "Passed unknown parameter: config.lookback\n",
      "Passed unknown parameter: config.loss_func\n",
      "Passed unknown parameter: config.loss_config\n",
      "Passed unknown parameter: config.n_epoch\n",
      "Passed unknown parameter: config.bs\n",
      "Passed unknown parameter: config.is_optuna_study\n",
      "Passed unknown parameter: config.metrics\n",
      "Passed unknown parameter: config.main_metric\n",
      "Passed unknown parameter: config.use_wandb\n",
      "Passed unknown parameter: config.wandb_group\n"
     ]
    },
    {
     "name": "stdout",
     "output_type": "stream",
     "text": [
      "[I 2024-08-22 13:22:29,732] Trial 66 finished with values: [0.6118180155754089, 0.47644320130348206, -1078.1142578125, 11.300829887390137, -7.971041679382324] and parameters: {'arch.attn_dropout': 0.0, 'arch.d_model': 448, 'arch.d_ff': 224, 'arch.decomposition': True, 'arch.dropout': 0.5, 'arch.individual': False, 'arch.n_layers': 6, 'arch.n_heads': 4, 'init_weights': True, 'lookback': 36, 'loss_func': 'wRMSLE'}. \n"
     ]
    },
    {
     "name": "stderr",
     "output_type": "stream",
     "text": [
      "Executing: 100%|██████████| 33/33 [03:33<00:00,  6.47s/cell]\n",
      " 68%|██████▊   | 68/100 [1:54:08<1:04:44, 121.39s/it]Passed unknown parameter: config.arch.attn_dropout\n",
      "Passed unknown parameter: config.arch.d_model\n",
      "Passed unknown parameter: config.arch.d_ff\n",
      "Passed unknown parameter: config.arch.decomposition\n",
      "Passed unknown parameter: config.arch.dropout\n",
      "Passed unknown parameter: config.arch.individual\n",
      "Passed unknown parameter: config.arch.n_layers\n",
      "Passed unknown parameter: config.arch.n_heads\n",
      "Passed unknown parameter: config.init_weights\n",
      "Passed unknown parameter: config.lookback\n",
      "Passed unknown parameter: config.loss_func\n",
      "Passed unknown parameter: config.loss_config\n",
      "Passed unknown parameter: config.n_epoch\n",
      "Passed unknown parameter: config.bs\n",
      "Passed unknown parameter: config.is_optuna_study\n",
      "Passed unknown parameter: config.metrics\n",
      "Passed unknown parameter: config.main_metric\n",
      "Passed unknown parameter: config.use_wandb\n",
      "Passed unknown parameter: config.wandb_group\n"
     ]
    },
    {
     "name": "stdout",
     "output_type": "stream",
     "text": [
      "[I 2024-08-22 13:26:03,324] Trial 67 finished with values: [0.3938932418823242, 0.5961155891418457, -53.08070373535156, 16.556482315063477, -11.897544860839844] and parameters: {'arch.attn_dropout': 0.0, 'arch.d_model': 448, 'arch.d_ff': 480, 'arch.decomposition': True, 'arch.dropout': 0.5, 'arch.individual': False, 'arch.n_layers': 6, 'arch.n_heads': 4, 'init_weights': True, 'lookback': 192, 'loss_func': 'wRMSLE'}. \n"
     ]
    },
    {
     "name": "stderr",
     "output_type": "stream",
     "text": [
      "Executing: 100%|██████████| 33/33 [01:06<00:00,  2.01s/cell]\n",
      " 69%|██████▉   | 69/100 [1:55:14<54:10, 104.86s/it]  Passed unknown parameter: config.arch.attn_dropout\n",
      "Passed unknown parameter: config.arch.d_model\n",
      "Passed unknown parameter: config.arch.d_ff\n",
      "Passed unknown parameter: config.arch.decomposition\n",
      "Passed unknown parameter: config.arch.dropout\n",
      "Passed unknown parameter: config.arch.individual\n",
      "Passed unknown parameter: config.arch.n_layers\n",
      "Passed unknown parameter: config.arch.n_heads\n",
      "Passed unknown parameter: config.init_weights\n",
      "Passed unknown parameter: config.lookback\n",
      "Passed unknown parameter: config.loss_func\n",
      "Passed unknown parameter: config.loss_config\n",
      "Passed unknown parameter: config.n_epoch\n",
      "Passed unknown parameter: config.bs\n",
      "Passed unknown parameter: config.is_optuna_study\n",
      "Passed unknown parameter: config.metrics\n",
      "Passed unknown parameter: config.main_metric\n",
      "Passed unknown parameter: config.use_wandb\n",
      "Passed unknown parameter: config.wandb_group\n"
     ]
    },
    {
     "name": "stdout",
     "output_type": "stream",
     "text": [
      "[I 2024-08-22 13:27:09,613] Trial 68 finished with values: [0.44088006019592285, 0.3578656017780304, -85.56564331054688, 9.394980430603027, -7.125807762145996] and parameters: {'arch.attn_dropout': 0.2, 'arch.d_model': 320, 'arch.d_ff': 288, 'arch.decomposition': True, 'arch.dropout': 0.5, 'arch.individual': False, 'arch.n_layers': 4, 'arch.n_heads': 8, 'init_weights': True, 'lookback': 24, 'loss_func': 'wMAE'}. \n"
     ]
    },
    {
     "name": "stderr",
     "output_type": "stream",
     "text": [
      "Executing: 100%|██████████| 33/33 [01:29<00:00,  2.70s/cell]\n",
      " 70%|███████   | 70/100 [1:56:43<50:04, 100.15s/it]Passed unknown parameter: config.arch.attn_dropout\n",
      "Passed unknown parameter: config.arch.d_model\n",
      "Passed unknown parameter: config.arch.d_ff\n",
      "Passed unknown parameter: config.arch.decomposition\n",
      "Passed unknown parameter: config.arch.dropout\n",
      "Passed unknown parameter: config.arch.individual\n",
      "Passed unknown parameter: config.arch.n_layers\n",
      "Passed unknown parameter: config.arch.n_heads\n",
      "Passed unknown parameter: config.init_weights\n",
      "Passed unknown parameter: config.lookback\n",
      "Passed unknown parameter: config.loss_func\n",
      "Passed unknown parameter: config.loss_config\n",
      "Passed unknown parameter: config.n_epoch\n",
      "Passed unknown parameter: config.bs\n",
      "Passed unknown parameter: config.is_optuna_study\n",
      "Passed unknown parameter: config.metrics\n",
      "Passed unknown parameter: config.main_metric\n",
      "Passed unknown parameter: config.use_wandb\n",
      "Passed unknown parameter: config.wandb_group\n"
     ]
    },
    {
     "name": "stdout",
     "output_type": "stream",
     "text": [
      "[I 2024-08-22 13:28:38,759] Trial 69 finished with values: [0.5976349711418152, 0.45543402433395386, -258.0284118652344, 12.44239330291748, 4.8560919761657715] and parameters: {'arch.attn_dropout': 0.0, 'arch.d_model': 512, 'arch.d_ff': 416, 'arch.decomposition': False, 'arch.dropout': 0.5, 'arch.individual': False, 'arch.n_layers': 5, 'arch.n_heads': 4, 'init_weights': True, 'lookback': 128, 'loss_func': 'Hubber'}. \n"
     ]
    },
    {
     "name": "stderr",
     "output_type": "stream",
     "text": [
      "Executing: 100%|██████████| 33/33 [01:22<00:00,  2.50s/cell]\n",
      " 71%|███████   | 71/100 [1:58:06<45:50, 94.84s/it] Passed unknown parameter: config.arch.attn_dropout\n",
      "Passed unknown parameter: config.arch.d_model\n",
      "Passed unknown parameter: config.arch.d_ff\n",
      "Passed unknown parameter: config.arch.decomposition\n",
      "Passed unknown parameter: config.arch.dropout\n",
      "Passed unknown parameter: config.arch.individual\n",
      "Passed unknown parameter: config.arch.n_layers\n",
      "Passed unknown parameter: config.arch.n_heads\n",
      "Passed unknown parameter: config.init_weights\n",
      "Passed unknown parameter: config.lookback\n",
      "Passed unknown parameter: config.loss_func\n",
      "Passed unknown parameter: config.loss_config\n",
      "Passed unknown parameter: config.n_epoch\n",
      "Passed unknown parameter: config.bs\n",
      "Passed unknown parameter: config.is_optuna_study\n",
      "Passed unknown parameter: config.metrics\n",
      "Passed unknown parameter: config.main_metric\n",
      "Passed unknown parameter: config.use_wandb\n",
      "Passed unknown parameter: config.wandb_group\n"
     ]
    },
    {
     "name": "stdout",
     "output_type": "stream",
     "text": [
      "[I 2024-08-22 13:30:01,229] Trial 70 finished with values: [0.4591325521469116, 0.38370630145072937, -52.185508728027344, 7.140462398529053, -3.5768444538116455] and parameters: {'arch.attn_dropout': 0.1, 'arch.d_model': 448, 'arch.d_ff': 384, 'arch.decomposition': True, 'arch.dropout': 0.5, 'arch.individual': True, 'arch.n_layers': 5, 'arch.n_heads': 4, 'init_weights': True, 'lookback': 36, 'loss_func': 'Quantile'}. \n"
     ]
    },
    {
     "name": "stderr",
     "output_type": "stream",
     "text": [
      "Executing: 100%|██████████| 33/33 [02:56<00:00,  5.34s/cell]\n",
      " 72%|███████▏  | 72/100 [2:01:02<55:39, 119.27s/it]Passed unknown parameter: config.arch.attn_dropout\n",
      "Passed unknown parameter: config.arch.d_model\n",
      "Passed unknown parameter: config.arch.d_ff\n",
      "Passed unknown parameter: config.arch.decomposition\n",
      "Passed unknown parameter: config.arch.dropout\n",
      "Passed unknown parameter: config.arch.individual\n",
      "Passed unknown parameter: config.arch.n_layers\n",
      "Passed unknown parameter: config.arch.n_heads\n",
      "Passed unknown parameter: config.init_weights\n",
      "Passed unknown parameter: config.lookback\n",
      "Passed unknown parameter: config.loss_func\n",
      "Passed unknown parameter: config.loss_config\n",
      "Passed unknown parameter: config.n_epoch\n",
      "Passed unknown parameter: config.bs\n",
      "Passed unknown parameter: config.is_optuna_study\n",
      "Passed unknown parameter: config.metrics\n",
      "Passed unknown parameter: config.main_metric\n",
      "Passed unknown parameter: config.use_wandb\n",
      "Passed unknown parameter: config.wandb_group\n"
     ]
    },
    {
     "name": "stdout",
     "output_type": "stream",
     "text": [
      "[I 2024-08-22 13:32:57,511] Trial 71 finished with values: [0.5391764640808105, 0.4560285210609436, -19.618362426757812, 8.576942443847656, -3.4691903591156006] and parameters: {'arch.attn_dropout': 0.0, 'arch.d_model': 512, 'arch.d_ff': 448, 'arch.decomposition': True, 'arch.dropout': 0.30000000000000004, 'arch.individual': True, 'arch.n_layers': 5, 'arch.n_heads': 4, 'init_weights': True, 'lookback': 128, 'loss_func': 'Trended'}. \n"
     ]
    },
    {
     "name": "stderr",
     "output_type": "stream",
     "text": [
      "Executing: 100%|██████████| 33/33 [02:33<00:00,  4.65s/cell]\n",
      " 73%|███████▎  | 73/100 [2:03:36<58:16, 129.51s/it]Passed unknown parameter: config.arch.attn_dropout\n",
      "Passed unknown parameter: config.arch.d_model\n",
      "Passed unknown parameter: config.arch.d_ff\n",
      "Passed unknown parameter: config.arch.decomposition\n",
      "Passed unknown parameter: config.arch.dropout\n",
      "Passed unknown parameter: config.arch.individual\n",
      "Passed unknown parameter: config.arch.n_layers\n",
      "Passed unknown parameter: config.arch.n_heads\n",
      "Passed unknown parameter: config.init_weights\n",
      "Passed unknown parameter: config.lookback\n",
      "Passed unknown parameter: config.loss_func\n",
      "Passed unknown parameter: config.loss_config\n",
      "Passed unknown parameter: config.n_epoch\n",
      "Passed unknown parameter: config.bs\n",
      "Passed unknown parameter: config.is_optuna_study\n",
      "Passed unknown parameter: config.metrics\n",
      "Passed unknown parameter: config.main_metric\n",
      "Passed unknown parameter: config.use_wandb\n",
      "Passed unknown parameter: config.wandb_group\n"
     ]
    },
    {
     "name": "stdout",
     "output_type": "stream",
     "text": [
      "[I 2024-08-22 13:35:30,895] Trial 72 finished with values: [0.604138970375061, 0.5006455183029175, -377.93768310546875, 17.781883239746094, -13.090516090393066] and parameters: {'arch.attn_dropout': 0.1, 'arch.d_model': 384, 'arch.d_ff': 384, 'arch.decomposition': True, 'arch.dropout': 0.5, 'arch.individual': True, 'arch.n_layers': 6, 'arch.n_heads': 4, 'init_weights': True, 'lookback': 128, 'loss_func': 'Trended'}. \n"
     ]
    },
    {
     "name": "stderr",
     "output_type": "stream",
     "text": [
      "Executing: 100%|██████████| 33/33 [01:08<00:00,  2.08s/cell]\n",
      " 74%|███████▍  | 74/100 [2:04:44<48:12, 111.24s/it]Passed unknown parameter: config.arch.attn_dropout\n",
      "Passed unknown parameter: config.arch.d_model\n",
      "Passed unknown parameter: config.arch.d_ff\n",
      "Passed unknown parameter: config.arch.decomposition\n",
      "Passed unknown parameter: config.arch.dropout\n",
      "Passed unknown parameter: config.arch.individual\n",
      "Passed unknown parameter: config.arch.n_layers\n",
      "Passed unknown parameter: config.arch.n_heads\n",
      "Passed unknown parameter: config.init_weights\n",
      "Passed unknown parameter: config.lookback\n",
      "Passed unknown parameter: config.loss_func\n",
      "Passed unknown parameter: config.loss_config\n",
      "Passed unknown parameter: config.n_epoch\n",
      "Passed unknown parameter: config.bs\n",
      "Passed unknown parameter: config.is_optuna_study\n",
      "Passed unknown parameter: config.metrics\n",
      "Passed unknown parameter: config.main_metric\n",
      "Passed unknown parameter: config.use_wandb\n",
      "Passed unknown parameter: config.wandb_group\n"
     ]
    },
    {
     "name": "stdout",
     "output_type": "stream",
     "text": [
      "[I 2024-08-22 13:36:39,525] Trial 73 finished with values: [0.5164865255355835, 0.4514491558074951, -77.30313110351562, 10.732799530029297, -6.5049357414245605] and parameters: {'arch.attn_dropout': 0.0, 'arch.d_model': 416, 'arch.d_ff': 416, 'arch.decomposition': False, 'arch.dropout': 0.4, 'arch.individual': True, 'arch.n_layers': 4, 'arch.n_heads': 2, 'init_weights': True, 'lookback': 128, 'loss_func': 'wQuantile'}. \n"
     ]
    },
    {
     "name": "stderr",
     "output_type": "stream",
     "text": [
      "Executing: 100%|██████████| 33/33 [03:05<00:00,  5.62s/cell]\n",
      " 75%|███████▌  | 75/100 [2:07:50<55:37, 133.52s/it]Passed unknown parameter: config.arch.attn_dropout\n",
      "Passed unknown parameter: config.arch.d_model\n",
      "Passed unknown parameter: config.arch.d_ff\n",
      "Passed unknown parameter: config.arch.decomposition\n",
      "Passed unknown parameter: config.arch.dropout\n",
      "Passed unknown parameter: config.arch.individual\n",
      "Passed unknown parameter: config.arch.n_layers\n",
      "Passed unknown parameter: config.arch.n_heads\n",
      "Passed unknown parameter: config.init_weights\n",
      "Passed unknown parameter: config.lookback\n",
      "Passed unknown parameter: config.loss_func\n",
      "Passed unknown parameter: config.loss_config\n",
      "Passed unknown parameter: config.n_epoch\n",
      "Passed unknown parameter: config.bs\n",
      "Passed unknown parameter: config.is_optuna_study\n",
      "Passed unknown parameter: config.metrics\n",
      "Passed unknown parameter: config.main_metric\n",
      "Passed unknown parameter: config.use_wandb\n",
      "Passed unknown parameter: config.wandb_group\n"
     ]
    },
    {
     "name": "stdout",
     "output_type": "stream",
     "text": [
      "[I 2024-08-22 13:39:45,018] Trial 74 finished with values: [0.5914220809936523, 0.6577059030532837, -543.6788940429688, 15.957986831665039, -10.387269973754883] and parameters: {'arch.attn_dropout': 0.1, 'arch.d_model': 480, 'arch.d_ff': 512, 'arch.decomposition': True, 'arch.dropout': 0.5, 'arch.individual': False, 'arch.n_layers': 6, 'arch.n_heads': 4, 'init_weights': True, 'lookback': 128, 'loss_func': 'wRMSLE'}. \n"
     ]
    },
    {
     "name": "stderr",
     "output_type": "stream",
     "text": [
      "Executing: 100%|██████████| 33/33 [02:46<00:00,  5.04s/cell]\n",
      " 76%|███████▌  | 76/100 [2:10:36<57:22, 143.42s/it]Passed unknown parameter: config.arch.attn_dropout\n",
      "Passed unknown parameter: config.arch.d_model\n",
      "Passed unknown parameter: config.arch.d_ff\n",
      "Passed unknown parameter: config.arch.decomposition\n",
      "Passed unknown parameter: config.arch.dropout\n",
      "Passed unknown parameter: config.arch.individual\n",
      "Passed unknown parameter: config.arch.n_layers\n",
      "Passed unknown parameter: config.arch.n_heads\n",
      "Passed unknown parameter: config.init_weights\n",
      "Passed unknown parameter: config.lookback\n",
      "Passed unknown parameter: config.loss_func\n",
      "Passed unknown parameter: config.loss_config\n",
      "Passed unknown parameter: config.n_epoch\n",
      "Passed unknown parameter: config.bs\n",
      "Passed unknown parameter: config.is_optuna_study\n",
      "Passed unknown parameter: config.metrics\n",
      "Passed unknown parameter: config.main_metric\n",
      "Passed unknown parameter: config.use_wandb\n",
      "Passed unknown parameter: config.wandb_group\n"
     ]
    },
    {
     "name": "stdout",
     "output_type": "stream",
     "text": [
      "[I 2024-08-22 13:42:31,557] Trial 75 finished with values: [0.5707966089248657, 0.474059134721756, -179.42652893066406, 12.98381519317627, -1.2523730993270874] and parameters: {'arch.attn_dropout': 0.0, 'arch.d_model': 384, 'arch.d_ff': 384, 'arch.decomposition': True, 'arch.dropout': 0.30000000000000004, 'arch.individual': False, 'arch.n_layers': 6, 'arch.n_heads': 4, 'init_weights': True, 'lookback': 192, 'loss_func': 'wHubber'}. \n"
     ]
    },
    {
     "name": "stderr",
     "output_type": "stream",
     "text": [
      "Executing: 100%|██████████| 33/33 [01:54<00:00,  3.48s/cell]\n",
      " 77%|███████▋  | 77/100 [2:12:31<51:41, 134.84s/it]Passed unknown parameter: config.arch.attn_dropout\n",
      "Passed unknown parameter: config.arch.d_model\n",
      "Passed unknown parameter: config.arch.d_ff\n",
      "Passed unknown parameter: config.arch.decomposition\n",
      "Passed unknown parameter: config.arch.dropout\n",
      "Passed unknown parameter: config.arch.individual\n",
      "Passed unknown parameter: config.arch.n_layers\n",
      "Passed unknown parameter: config.arch.n_heads\n",
      "Passed unknown parameter: config.init_weights\n",
      "Passed unknown parameter: config.lookback\n",
      "Passed unknown parameter: config.loss_func\n",
      "Passed unknown parameter: config.loss_config\n",
      "Passed unknown parameter: config.n_epoch\n",
      "Passed unknown parameter: config.bs\n",
      "Passed unknown parameter: config.is_optuna_study\n",
      "Passed unknown parameter: config.metrics\n",
      "Passed unknown parameter: config.main_metric\n",
      "Passed unknown parameter: config.use_wandb\n",
      "Passed unknown parameter: config.wandb_group\n"
     ]
    },
    {
     "name": "stdout",
     "output_type": "stream",
     "text": [
      "[I 2024-08-22 13:44:26,352] Trial 76 finished with values: [0.5089339017868042, 0.3772392272949219, -327.7545471191406, 18.161418914794922, -13.286142349243164] and parameters: {'arch.attn_dropout': 0.2, 'arch.d_model': 448, 'arch.d_ff': 320, 'arch.decomposition': True, 'arch.dropout': 0.5, 'arch.individual': True, 'arch.n_layers': 4, 'arch.n_heads': 2, 'init_weights': True, 'lookback': 128, 'loss_func': 'wMAE'}. \n"
     ]
    },
    {
     "name": "stderr",
     "output_type": "stream",
     "text": [
      "Executing: 100%|██████████| 33/33 [01:46<00:00,  3.23s/cell]\n",
      " 78%|███████▊  | 78/100 [2:14:18<46:20, 126.38s/it]Passed unknown parameter: config.arch.attn_dropout\n",
      "Passed unknown parameter: config.arch.d_model\n",
      "Passed unknown parameter: config.arch.d_ff\n",
      "Passed unknown parameter: config.arch.decomposition\n",
      "Passed unknown parameter: config.arch.dropout\n",
      "Passed unknown parameter: config.arch.individual\n",
      "Passed unknown parameter: config.arch.n_layers\n",
      "Passed unknown parameter: config.arch.n_heads\n",
      "Passed unknown parameter: config.init_weights\n",
      "Passed unknown parameter: config.lookback\n",
      "Passed unknown parameter: config.loss_func\n",
      "Passed unknown parameter: config.loss_config\n",
      "Passed unknown parameter: config.n_epoch\n",
      "Passed unknown parameter: config.bs\n",
      "Passed unknown parameter: config.is_optuna_study\n",
      "Passed unknown parameter: config.metrics\n",
      "Passed unknown parameter: config.main_metric\n",
      "Passed unknown parameter: config.use_wandb\n",
      "Passed unknown parameter: config.wandb_group\n"
     ]
    },
    {
     "name": "stdout",
     "output_type": "stream",
     "text": [
      "[I 2024-08-22 13:46:13,005] Trial 77 finished with values: [0.5513193011283875, 0.3783745765686035, -3568.959716796875, 20.394676208496094, -16.84477424621582] and parameters: {'arch.attn_dropout': 0.0, 'arch.d_model': 288, 'arch.d_ff': 288, 'arch.decomposition': True, 'arch.dropout': 0.5, 'arch.individual': False, 'arch.n_layers': 5, 'arch.n_heads': 16, 'init_weights': True, 'lookback': 128, 'loss_func': 'Classification'}. \n"
     ]
    },
    {
     "name": "stderr",
     "output_type": "stream",
     "text": [
      "Executing: 100%|██████████| 33/33 [01:16<00:00,  2.31s/cell]\n",
      " 79%|███████▉  | 79/100 [2:15:34<38:58, 111.37s/it]Passed unknown parameter: config.arch.attn_dropout\n",
      "Passed unknown parameter: config.arch.d_model\n",
      "Passed unknown parameter: config.arch.d_ff\n",
      "Passed unknown parameter: config.arch.decomposition\n",
      "Passed unknown parameter: config.arch.dropout\n",
      "Passed unknown parameter: config.arch.individual\n",
      "Passed unknown parameter: config.arch.n_layers\n",
      "Passed unknown parameter: config.arch.n_heads\n",
      "Passed unknown parameter: config.init_weights\n",
      "Passed unknown parameter: config.lookback\n",
      "Passed unknown parameter: config.loss_func\n",
      "Passed unknown parameter: config.loss_config\n",
      "Passed unknown parameter: config.n_epoch\n",
      "Passed unknown parameter: config.bs\n",
      "Passed unknown parameter: config.is_optuna_study\n",
      "Passed unknown parameter: config.metrics\n",
      "Passed unknown parameter: config.main_metric\n",
      "Passed unknown parameter: config.use_wandb\n",
      "Passed unknown parameter: config.wandb_group\n"
     ]
    },
    {
     "name": "stdout",
     "output_type": "stream",
     "text": [
      "[I 2024-08-22 13:47:29,351] Trial 78 finished with values: [0.4525442123413086, 0.3756445050239563, -7.1232099533081055, 3.5523087978363037, 0.22425618767738342] and parameters: {'arch.attn_dropout': 0.30000000000000004, 'arch.d_model': 96, 'arch.d_ff': 288, 'arch.decomposition': True, 'arch.dropout': 0.4, 'arch.individual': False, 'arch.n_layers': 6, 'arch.n_heads': 16, 'init_weights': False, 'lookback': 128, 'loss_func': 'MAE'}. \n"
     ]
    },
    {
     "name": "stderr",
     "output_type": "stream",
     "text": [
      "Executing: 100%|██████████| 33/33 [02:02<00:00,  3.70s/cell]\n",
      " 80%|████████  | 80/100 [2:17:36<38:13, 114.65s/it]Passed unknown parameter: config.arch.attn_dropout\n",
      "Passed unknown parameter: config.arch.d_model\n",
      "Passed unknown parameter: config.arch.d_ff\n",
      "Passed unknown parameter: config.arch.decomposition\n",
      "Passed unknown parameter: config.arch.dropout\n",
      "Passed unknown parameter: config.arch.individual\n",
      "Passed unknown parameter: config.arch.n_layers\n",
      "Passed unknown parameter: config.arch.n_heads\n",
      "Passed unknown parameter: config.init_weights\n",
      "Passed unknown parameter: config.lookback\n",
      "Passed unknown parameter: config.loss_func\n",
      "Passed unknown parameter: config.loss_config\n",
      "Passed unknown parameter: config.n_epoch\n",
      "Passed unknown parameter: config.bs\n",
      "Passed unknown parameter: config.is_optuna_study\n",
      "Passed unknown parameter: config.metrics\n",
      "Passed unknown parameter: config.main_metric\n",
      "Passed unknown parameter: config.use_wandb\n",
      "Passed unknown parameter: config.wandb_group\n"
     ]
    },
    {
     "name": "stdout",
     "output_type": "stream",
     "text": [
      "[I 2024-08-22 13:49:31,663] Trial 79 finished with values: [0.5321642756462097, 0.46723225712776184, -355.1434631347656, 18.715591430664062, -14.157511711120605] and parameters: {'arch.attn_dropout': 0.2, 'arch.d_model': 288, 'arch.d_ff': 160, 'arch.decomposition': True, 'arch.dropout': 0.5, 'arch.individual': True, 'arch.n_layers': 5, 'arch.n_heads': 4, 'init_weights': True, 'lookback': 192, 'loss_func': 'Trended'}. \n"
     ]
    },
    {
     "name": "stderr",
     "output_type": "stream",
     "text": [
      "Executing: 100%|██████████| 33/33 [00:59<00:00,  1.82s/cell]\n",
      " 81%|████████  | 81/100 [2:18:36<31:07, 98.26s/it] Passed unknown parameter: config.arch.attn_dropout\n",
      "Passed unknown parameter: config.arch.d_model\n",
      "Passed unknown parameter: config.arch.d_ff\n",
      "Passed unknown parameter: config.arch.decomposition\n",
      "Passed unknown parameter: config.arch.dropout\n",
      "Passed unknown parameter: config.arch.individual\n",
      "Passed unknown parameter: config.arch.n_layers\n",
      "Passed unknown parameter: config.arch.n_heads\n",
      "Passed unknown parameter: config.init_weights\n",
      "Passed unknown parameter: config.lookback\n",
      "Passed unknown parameter: config.loss_func\n",
      "Passed unknown parameter: config.loss_config\n",
      "Passed unknown parameter: config.n_epoch\n",
      "Passed unknown parameter: config.bs\n",
      "Passed unknown parameter: config.is_optuna_study\n",
      "Passed unknown parameter: config.metrics\n",
      "Passed unknown parameter: config.main_metric\n",
      "Passed unknown parameter: config.use_wandb\n",
      "Passed unknown parameter: config.wandb_group\n"
     ]
    },
    {
     "name": "stdout",
     "output_type": "stream",
     "text": [
      "[I 2024-08-22 13:50:31,686] Trial 80 finished with values: [0.42571887373924255, 0.31999069452285767, -1676.8248291015625, 9.602580070495605, -4.7486443519592285] and parameters: {'arch.attn_dropout': 0.2, 'arch.d_model': 384, 'arch.d_ff': 320, 'arch.decomposition': False, 'arch.dropout': 0.4, 'arch.individual': False, 'arch.n_layers': 6, 'arch.n_heads': 8, 'init_weights': True, 'lookback': 36, 'loss_func': 'wMAE'}. \n"
     ]
    },
    {
     "name": "stderr",
     "output_type": "stream",
     "text": [
      "Executing: 100%|██████████| 33/33 [01:20<00:00,  2.44s/cell]\n",
      " 82%|████████▏ | 82/100 [2:19:57<27:52, 92.94s/it]Passed unknown parameter: config.arch.attn_dropout\n",
      "Passed unknown parameter: config.arch.d_model\n",
      "Passed unknown parameter: config.arch.d_ff\n",
      "Passed unknown parameter: config.arch.decomposition\n",
      "Passed unknown parameter: config.arch.dropout\n",
      "Passed unknown parameter: config.arch.individual\n",
      "Passed unknown parameter: config.arch.n_layers\n",
      "Passed unknown parameter: config.arch.n_heads\n",
      "Passed unknown parameter: config.init_weights\n",
      "Passed unknown parameter: config.lookback\n",
      "Passed unknown parameter: config.loss_func\n",
      "Passed unknown parameter: config.loss_config\n",
      "Passed unknown parameter: config.n_epoch\n",
      "Passed unknown parameter: config.bs\n",
      "Passed unknown parameter: config.is_optuna_study\n",
      "Passed unknown parameter: config.metrics\n",
      "Passed unknown parameter: config.main_metric\n",
      "Passed unknown parameter: config.use_wandb\n",
      "Passed unknown parameter: config.wandb_group\n"
     ]
    },
    {
     "name": "stdout",
     "output_type": "stream",
     "text": [
      "[I 2024-08-22 13:51:52,213] Trial 81 finished with values: [0.44397860765457153, 0.3771071135997772, -1048.280029296875, 22.757890701293945, -20.526248931884766] and parameters: {'arch.attn_dropout': 0.1, 'arch.d_model': 192, 'arch.d_ff': 448, 'arch.decomposition': True, 'arch.dropout': 0.5, 'arch.individual': False, 'arch.n_layers': 5, 'arch.n_heads': 8, 'init_weights': True, 'lookback': 128, 'loss_func': 'wMAE'}. \n"
     ]
    },
    {
     "name": "stderr",
     "output_type": "stream",
     "text": [
      "Executing: 100%|██████████| 33/33 [00:59<00:00,  1.82s/cell]\n",
      " 83%|████████▎ | 83/100 [2:20:57<23:32, 83.07s/it]Passed unknown parameter: config.arch.attn_dropout\n",
      "Passed unknown parameter: config.arch.d_model\n",
      "Passed unknown parameter: config.arch.d_ff\n",
      "Passed unknown parameter: config.arch.decomposition\n",
      "Passed unknown parameter: config.arch.dropout\n",
      "Passed unknown parameter: config.arch.individual\n",
      "Passed unknown parameter: config.arch.n_layers\n",
      "Passed unknown parameter: config.arch.n_heads\n",
      "Passed unknown parameter: config.init_weights\n",
      "Passed unknown parameter: config.lookback\n",
      "Passed unknown parameter: config.loss_func\n",
      "Passed unknown parameter: config.loss_config\n",
      "Passed unknown parameter: config.n_epoch\n",
      "Passed unknown parameter: config.bs\n",
      "Passed unknown parameter: config.is_optuna_study\n",
      "Passed unknown parameter: config.metrics\n",
      "Passed unknown parameter: config.main_metric\n",
      "Passed unknown parameter: config.use_wandb\n",
      "Passed unknown parameter: config.wandb_group\n"
     ]
    },
    {
     "name": "stdout",
     "output_type": "stream",
     "text": [
      "[I 2024-08-22 13:52:52,262] Trial 82 finished with values: [0.5034211874008179, 0.40107423067092896, -164.08837890625, 12.353038787841797, -9.867409706115723] and parameters: {'arch.attn_dropout': 0.30000000000000004, 'arch.d_model': 128, 'arch.d_ff': 384, 'arch.decomposition': True, 'arch.dropout': 0.4, 'arch.individual': False, 'arch.n_layers': 4, 'arch.n_heads': 8, 'init_weights': True, 'lookback': 128, 'loss_func': 'wMAE'}. \n"
     ]
    },
    {
     "name": "stderr",
     "output_type": "stream",
     "text": [
      "Executing: 100%|██████████| 33/33 [01:11<00:00,  2.17s/cell]\n",
      " 84%|████████▍ | 84/100 [2:22:09<21:14, 79.67s/it]Passed unknown parameter: config.arch.attn_dropout\n",
      "Passed unknown parameter: config.arch.d_model\n",
      "Passed unknown parameter: config.arch.d_ff\n",
      "Passed unknown parameter: config.arch.decomposition\n",
      "Passed unknown parameter: config.arch.dropout\n",
      "Passed unknown parameter: config.arch.individual\n",
      "Passed unknown parameter: config.arch.n_layers\n",
      "Passed unknown parameter: config.arch.n_heads\n",
      "Passed unknown parameter: config.init_weights\n",
      "Passed unknown parameter: config.lookback\n",
      "Passed unknown parameter: config.loss_func\n",
      "Passed unknown parameter: config.loss_config\n",
      "Passed unknown parameter: config.n_epoch\n",
      "Passed unknown parameter: config.bs\n",
      "Passed unknown parameter: config.is_optuna_study\n",
      "Passed unknown parameter: config.metrics\n",
      "Passed unknown parameter: config.main_metric\n",
      "Passed unknown parameter: config.use_wandb\n",
      "Passed unknown parameter: config.wandb_group\n"
     ]
    },
    {
     "name": "stdout",
     "output_type": "stream",
     "text": [
      "[I 2024-08-22 13:54:03,991] Trial 83 finished with values: [0.5147911906242371, 0.44524067640304565, -160.13021850585938, 14.692464828491211, -11.399197578430176] and parameters: {'arch.attn_dropout': 0.30000000000000004, 'arch.d_model': 320, 'arch.d_ff': 224, 'arch.decomposition': True, 'arch.dropout': 0.5, 'arch.individual': True, 'arch.n_layers': 3, 'arch.n_heads': 2, 'init_weights': True, 'lookback': 128, 'loss_func': 'wQuantile'}. \n"
     ]
    },
    {
     "name": "stderr",
     "output_type": "stream",
     "text": [
      "Executing: 100%|██████████| 33/33 [01:06<00:00,  2.02s/cell]\n",
      " 85%|████████▌ | 85/100 [2:23:15<18:56, 75.78s/it]Passed unknown parameter: config.arch.attn_dropout\n",
      "Passed unknown parameter: config.arch.d_model\n",
      "Passed unknown parameter: config.arch.d_ff\n",
      "Passed unknown parameter: config.arch.decomposition\n",
      "Passed unknown parameter: config.arch.dropout\n",
      "Passed unknown parameter: config.arch.individual\n",
      "Passed unknown parameter: config.arch.n_layers\n",
      "Passed unknown parameter: config.arch.n_heads\n",
      "Passed unknown parameter: config.init_weights\n",
      "Passed unknown parameter: config.lookback\n",
      "Passed unknown parameter: config.loss_func\n",
      "Passed unknown parameter: config.loss_config\n",
      "Passed unknown parameter: config.n_epoch\n",
      "Passed unknown parameter: config.bs\n",
      "Passed unknown parameter: config.is_optuna_study\n",
      "Passed unknown parameter: config.metrics\n",
      "Passed unknown parameter: config.main_metric\n",
      "Passed unknown parameter: config.use_wandb\n",
      "Passed unknown parameter: config.wandb_group\n"
     ]
    },
    {
     "name": "stdout",
     "output_type": "stream",
     "text": [
      "[I 2024-08-22 13:55:10,708] Trial 84 finished with values: [0.44386008381843567, 0.39303553104400635, -9.895883560180664, 4.062808990478516, -0.5107330083847046] and parameters: {'arch.attn_dropout': 0.1, 'arch.d_model': 192, 'arch.d_ff': 448, 'arch.decomposition': True, 'arch.dropout': 0.5, 'arch.individual': False, 'arch.n_layers': 4, 'arch.n_heads': 2, 'init_weights': False, 'lookback': 128, 'loss_func': 'wMAE'}. \n"
     ]
    },
    {
     "name": "stderr",
     "output_type": "stream",
     "text": [
      "Executing: 100%|██████████| 33/33 [01:11<00:00,  2.18s/cell]\n",
      " 86%|████████▌ | 86/100 [2:24:27<17:25, 74.67s/it]Passed unknown parameter: config.arch.attn_dropout\n",
      "Passed unknown parameter: config.arch.d_model\n",
      "Passed unknown parameter: config.arch.d_ff\n",
      "Passed unknown parameter: config.arch.decomposition\n",
      "Passed unknown parameter: config.arch.dropout\n",
      "Passed unknown parameter: config.arch.individual\n",
      "Passed unknown parameter: config.arch.n_layers\n",
      "Passed unknown parameter: config.arch.n_heads\n",
      "Passed unknown parameter: config.init_weights\n",
      "Passed unknown parameter: config.lookback\n",
      "Passed unknown parameter: config.loss_func\n",
      "Passed unknown parameter: config.loss_config\n",
      "Passed unknown parameter: config.n_epoch\n",
      "Passed unknown parameter: config.bs\n",
      "Passed unknown parameter: config.is_optuna_study\n",
      "Passed unknown parameter: config.metrics\n",
      "Passed unknown parameter: config.main_metric\n",
      "Passed unknown parameter: config.use_wandb\n",
      "Passed unknown parameter: config.wandb_group\n"
     ]
    },
    {
     "name": "stdout",
     "output_type": "stream",
     "text": [
      "[I 2024-08-22 13:56:22,789] Trial 85 finished with values: [0.5670951008796692, 0.42974764108657837, -1267.72705078125, 19.958810806274414, -16.679574966430664] and parameters: {'arch.attn_dropout': 0.0, 'arch.d_model': 96, 'arch.d_ff': 416, 'arch.decomposition': True, 'arch.dropout': 0.5, 'arch.individual': False, 'arch.n_layers': 6, 'arch.n_heads': 8, 'init_weights': True, 'lookback': 128, 'loss_func': 'wMAE'}. \n"
     ]
    },
    {
     "name": "stderr",
     "output_type": "stream",
     "text": [
      "Executing: 100%|██████████| 33/33 [01:09<00:00,  2.10s/cell]\n",
      " 87%|████████▋ | 87/100 [2:25:37<15:50, 73.10s/it]Passed unknown parameter: config.arch.attn_dropout\n",
      "Passed unknown parameter: config.arch.d_model\n",
      "Passed unknown parameter: config.arch.d_ff\n",
      "Passed unknown parameter: config.arch.decomposition\n",
      "Passed unknown parameter: config.arch.dropout\n",
      "Passed unknown parameter: config.arch.individual\n",
      "Passed unknown parameter: config.arch.n_layers\n",
      "Passed unknown parameter: config.arch.n_heads\n",
      "Passed unknown parameter: config.init_weights\n",
      "Passed unknown parameter: config.lookback\n",
      "Passed unknown parameter: config.loss_func\n",
      "Passed unknown parameter: config.loss_config\n",
      "Passed unknown parameter: config.n_epoch\n",
      "Passed unknown parameter: config.bs\n",
      "Passed unknown parameter: config.is_optuna_study\n",
      "Passed unknown parameter: config.metrics\n",
      "Passed unknown parameter: config.main_metric\n",
      "Passed unknown parameter: config.use_wandb\n",
      "Passed unknown parameter: config.wandb_group\n"
     ]
    },
    {
     "name": "stdout",
     "output_type": "stream",
     "text": [
      "[I 2024-08-22 13:57:32,202] Trial 86 finished with values: [0.46615105867385864, 0.41047877073287964, -789.591796875, 12.581154823303223, -8.903562545776367] and parameters: {'arch.attn_dropout': 0.1, 'arch.d_model': 192, 'arch.d_ff': 448, 'arch.decomposition': True, 'arch.dropout': 0.5, 'arch.individual': False, 'arch.n_layers': 4, 'arch.n_heads': 8, 'init_weights': True, 'lookback': 128, 'loss_func': 'Classification'}. \n"
     ]
    },
    {
     "name": "stderr",
     "output_type": "stream",
     "text": [
      "Executing: 100%|██████████| 33/33 [02:43<00:00,  4.95s/cell]\n",
      " 88%|████████▊ | 88/100 [2:28:20<20:02, 100.17s/it]Passed unknown parameter: config.arch.attn_dropout\n",
      "Passed unknown parameter: config.arch.d_model\n",
      "Passed unknown parameter: config.arch.d_ff\n",
      "Passed unknown parameter: config.arch.decomposition\n",
      "Passed unknown parameter: config.arch.dropout\n",
      "Passed unknown parameter: config.arch.individual\n",
      "Passed unknown parameter: config.arch.n_layers\n",
      "Passed unknown parameter: config.arch.n_heads\n",
      "Passed unknown parameter: config.init_weights\n",
      "Passed unknown parameter: config.lookback\n",
      "Passed unknown parameter: config.loss_func\n",
      "Passed unknown parameter: config.loss_config\n",
      "Passed unknown parameter: config.n_epoch\n",
      "Passed unknown parameter: config.bs\n",
      "Passed unknown parameter: config.is_optuna_study\n",
      "Passed unknown parameter: config.metrics\n",
      "Passed unknown parameter: config.main_metric\n",
      "Passed unknown parameter: config.use_wandb\n",
      "Passed unknown parameter: config.wandb_group\n"
     ]
    },
    {
     "name": "stdout",
     "output_type": "stream",
     "text": [
      "[I 2024-08-22 14:00:15,557] Trial 87 finished with values: [0.40782231092453003, 0.4071655869483948, -449.3013916015625, 17.193513870239258, -11.419404029846191] and parameters: {'arch.attn_dropout': 0.2, 'arch.d_model': 448, 'arch.d_ff': 384, 'arch.decomposition': True, 'arch.dropout': 0.5, 'arch.individual': True, 'arch.n_layers': 6, 'arch.n_heads': 2, 'init_weights': True, 'lookback': 128, 'loss_func': 'wMAE'}. \n"
     ]
    },
    {
     "name": "stderr",
     "output_type": "stream",
     "text": [
      "Executing: 100%|██████████| 33/33 [01:38<00:00,  2.97s/cell]\n",
      " 89%|████████▉ | 89/100 [2:29:58<18:15, 99.59s/it] Passed unknown parameter: config.arch.attn_dropout\n",
      "Passed unknown parameter: config.arch.d_model\n",
      "Passed unknown parameter: config.arch.d_ff\n",
      "Passed unknown parameter: config.arch.decomposition\n",
      "Passed unknown parameter: config.arch.dropout\n",
      "Passed unknown parameter: config.arch.individual\n",
      "Passed unknown parameter: config.arch.n_layers\n",
      "Passed unknown parameter: config.arch.n_heads\n",
      "Passed unknown parameter: config.init_weights\n",
      "Passed unknown parameter: config.lookback\n",
      "Passed unknown parameter: config.loss_func\n",
      "Passed unknown parameter: config.loss_config\n",
      "Passed unknown parameter: config.n_epoch\n",
      "Passed unknown parameter: config.bs\n",
      "Passed unknown parameter: config.is_optuna_study\n",
      "Passed unknown parameter: config.metrics\n",
      "Passed unknown parameter: config.main_metric\n",
      "Passed unknown parameter: config.use_wandb\n",
      "Passed unknown parameter: config.wandb_group\n"
     ]
    },
    {
     "name": "stdout",
     "output_type": "stream",
     "text": [
      "[I 2024-08-22 14:01:53,790] Trial 88 finished with values: [0.5325583219528198, 0.5415058732032776, -1154.4176025390625, 16.52996063232422, -11.089704513549805] and parameters: {'arch.attn_dropout': 0.1, 'arch.d_model': 160, 'arch.d_ff': 512, 'arch.decomposition': True, 'arch.dropout': 0.5, 'arch.individual': False, 'arch.n_layers': 6, 'arch.n_heads': 2, 'init_weights': True, 'lookback': 128, 'loss_func': 'Trended'}. \n"
     ]
    },
    {
     "name": "stderr",
     "output_type": "stream",
     "text": [
      "Executing: 100%|██████████| 33/33 [01:10<00:00,  2.12s/cell]\n",
      " 90%|█████████ | 90/100 [2:31:09<15:07, 90.75s/it]Passed unknown parameter: config.arch.attn_dropout\n",
      "Passed unknown parameter: config.arch.d_model\n",
      "Passed unknown parameter: config.arch.d_ff\n",
      "Passed unknown parameter: config.arch.decomposition\n",
      "Passed unknown parameter: config.arch.dropout\n",
      "Passed unknown parameter: config.arch.individual\n",
      "Passed unknown parameter: config.arch.n_layers\n",
      "Passed unknown parameter: config.arch.n_heads\n",
      "Passed unknown parameter: config.init_weights\n",
      "Passed unknown parameter: config.lookback\n",
      "Passed unknown parameter: config.loss_func\n",
      "Passed unknown parameter: config.loss_config\n",
      "Passed unknown parameter: config.n_epoch\n",
      "Passed unknown parameter: config.bs\n",
      "Passed unknown parameter: config.is_optuna_study\n",
      "Passed unknown parameter: config.metrics\n",
      "Passed unknown parameter: config.main_metric\n",
      "Passed unknown parameter: config.use_wandb\n",
      "Passed unknown parameter: config.wandb_group\n"
     ]
    },
    {
     "name": "stdout",
     "output_type": "stream",
     "text": [
      "[I 2024-08-22 14:03:03,908] Trial 89 finished with values: [0.43124809861183167, 0.3787655234336853, -11.192922592163086, 4.751530647277832, 3.3885281085968018] and parameters: {'arch.attn_dropout': 0.2, 'arch.d_model': 224, 'arch.d_ff': 384, 'arch.decomposition': True, 'arch.dropout': 0.30000000000000004, 'arch.individual': False, 'arch.n_layers': 5, 'arch.n_heads': 8, 'init_weights': True, 'lookback': 18, 'loss_func': 'Hubber'}. \n"
     ]
    },
    {
     "name": "stderr",
     "output_type": "stream",
     "text": [
      "Executing: 100%|██████████| 33/33 [02:19<00:00,  4.24s/cell]\n",
      " 91%|█████████ | 91/100 [2:33:28<15:49, 105.51s/it]Passed unknown parameter: config.arch.attn_dropout\n",
      "Passed unknown parameter: config.arch.d_model\n",
      "Passed unknown parameter: config.arch.d_ff\n",
      "Passed unknown parameter: config.arch.decomposition\n",
      "Passed unknown parameter: config.arch.dropout\n",
      "Passed unknown parameter: config.arch.individual\n",
      "Passed unknown parameter: config.arch.n_layers\n",
      "Passed unknown parameter: config.arch.n_heads\n",
      "Passed unknown parameter: config.init_weights\n",
      "Passed unknown parameter: config.lookback\n",
      "Passed unknown parameter: config.loss_func\n",
      "Passed unknown parameter: config.loss_config\n",
      "Passed unknown parameter: config.n_epoch\n",
      "Passed unknown parameter: config.bs\n",
      "Passed unknown parameter: config.is_optuna_study\n",
      "Passed unknown parameter: config.metrics\n",
      "Passed unknown parameter: config.main_metric\n",
      "Passed unknown parameter: config.use_wandb\n",
      "Passed unknown parameter: config.wandb_group\n"
     ]
    },
    {
     "name": "stdout",
     "output_type": "stream",
     "text": [
      "[I 2024-08-22 14:05:23,868] Trial 90 finished with values: [0.6534073352813721, 0.5467898845672607, -132.10302734375, 22.66588020324707, -18.264606475830078] and parameters: {'arch.attn_dropout': 0.1, 'arch.d_model': 480, 'arch.d_ff': 256, 'arch.decomposition': True, 'arch.dropout': 0.5, 'arch.individual': True, 'arch.n_layers': 5, 'arch.n_heads': 8, 'init_weights': True, 'lookback': 128, 'loss_func': 'wMSLE'}. \n"
     ]
    },
    {
     "name": "stderr",
     "output_type": "stream",
     "text": [
      "Executing: 100%|██████████| 33/33 [02:54<00:00,  5.30s/cell]\n",
      " 92%|█████████▏| 92/100 [2:36:24<16:51, 126.39s/it]Passed unknown parameter: config.arch.attn_dropout\n",
      "Passed unknown parameter: config.arch.d_model\n",
      "Passed unknown parameter: config.arch.d_ff\n",
      "Passed unknown parameter: config.arch.decomposition\n",
      "Passed unknown parameter: config.arch.dropout\n",
      "Passed unknown parameter: config.arch.individual\n",
      "Passed unknown parameter: config.arch.n_layers\n",
      "Passed unknown parameter: config.arch.n_heads\n",
      "Passed unknown parameter: config.init_weights\n",
      "Passed unknown parameter: config.lookback\n",
      "Passed unknown parameter: config.loss_func\n",
      "Passed unknown parameter: config.loss_config\n",
      "Passed unknown parameter: config.n_epoch\n",
      "Passed unknown parameter: config.bs\n",
      "Passed unknown parameter: config.is_optuna_study\n",
      "Passed unknown parameter: config.metrics\n",
      "Passed unknown parameter: config.main_metric\n",
      "Passed unknown parameter: config.use_wandb\n",
      "Passed unknown parameter: config.wandb_group\n"
     ]
    },
    {
     "name": "stdout",
     "output_type": "stream",
     "text": [
      "[I 2024-08-22 14:08:18,984] Trial 91 finished with values: [0.4901367425918579, 0.46137723326683044, -367.41033935546875, 21.858434677124023, -18.889026641845703] and parameters: {'arch.attn_dropout': 0.1, 'arch.d_model': 512, 'arch.d_ff': 256, 'arch.decomposition': True, 'arch.dropout': 0.5, 'arch.individual': True, 'arch.n_layers': 6, 'arch.n_heads': 8, 'init_weights': True, 'lookback': 128, 'loss_func': 'wMSE'}. \n"
     ]
    },
    {
     "name": "stderr",
     "output_type": "stream",
     "text": [
      "Executing: 100%|██████████| 33/33 [02:33<00:00,  4.64s/cell]\n",
      " 93%|█████████▎| 93/100 [2:38:57<15:41, 134.48s/it]Passed unknown parameter: config.arch.attn_dropout\n",
      "Passed unknown parameter: config.arch.d_model\n",
      "Passed unknown parameter: config.arch.d_ff\n",
      "Passed unknown parameter: config.arch.decomposition\n",
      "Passed unknown parameter: config.arch.dropout\n",
      "Passed unknown parameter: config.arch.individual\n",
      "Passed unknown parameter: config.arch.n_layers\n",
      "Passed unknown parameter: config.arch.n_heads\n",
      "Passed unknown parameter: config.init_weights\n",
      "Passed unknown parameter: config.lookback\n",
      "Passed unknown parameter: config.loss_func\n",
      "Passed unknown parameter: config.loss_config\n",
      "Passed unknown parameter: config.n_epoch\n",
      "Passed unknown parameter: config.bs\n",
      "Passed unknown parameter: config.is_optuna_study\n",
      "Passed unknown parameter: config.metrics\n",
      "Passed unknown parameter: config.main_metric\n",
      "Passed unknown parameter: config.use_wandb\n",
      "Passed unknown parameter: config.wandb_group\n"
     ]
    },
    {
     "name": "stdout",
     "output_type": "stream",
     "text": [
      "[I 2024-08-22 14:10:52,334] Trial 92 finished with values: [0.5305734276771545, 0.3961643576622009, -398.31787109375, 23.002290725708008, -20.210166931152344] and parameters: {'arch.attn_dropout': 0.2, 'arch.d_model': 448, 'arch.d_ff': 160, 'arch.decomposition': True, 'arch.dropout': 0.4, 'arch.individual': True, 'arch.n_layers': 6, 'arch.n_heads': 8, 'init_weights': True, 'lookback': 128, 'loss_func': 'wMSE'}. \n"
     ]
    },
    {
     "name": "stderr",
     "output_type": "stream",
     "text": [
      "Executing: 100%|██████████| 33/33 [02:54<00:00,  5.28s/cell]\n",
      " 94%|█████████▍| 94/100 [2:41:51<14:38, 146.46s/it]Passed unknown parameter: config.arch.attn_dropout\n",
      "Passed unknown parameter: config.arch.d_model\n",
      "Passed unknown parameter: config.arch.d_ff\n",
      "Passed unknown parameter: config.arch.decomposition\n",
      "Passed unknown parameter: config.arch.dropout\n",
      "Passed unknown parameter: config.arch.individual\n",
      "Passed unknown parameter: config.arch.n_layers\n",
      "Passed unknown parameter: config.arch.n_heads\n",
      "Passed unknown parameter: config.init_weights\n",
      "Passed unknown parameter: config.lookback\n",
      "Passed unknown parameter: config.loss_func\n",
      "Passed unknown parameter: config.loss_config\n",
      "Passed unknown parameter: config.n_epoch\n",
      "Passed unknown parameter: config.bs\n",
      "Passed unknown parameter: config.is_optuna_study\n",
      "Passed unknown parameter: config.metrics\n",
      "Passed unknown parameter: config.main_metric\n",
      "Passed unknown parameter: config.use_wandb\n",
      "Passed unknown parameter: config.wandb_group\n"
     ]
    },
    {
     "name": "stdout",
     "output_type": "stream",
     "text": [
      "[I 2024-08-22 14:13:46,742] Trial 93 finished with values: [0.5010771155357361, 0.3939172923564911, -261.3238830566406, 20.245243072509766, -16.150331497192383] and parameters: {'arch.attn_dropout': 0.2, 'arch.d_model': 512, 'arch.d_ff': 224, 'arch.decomposition': True, 'arch.dropout': 0.30000000000000004, 'arch.individual': True, 'arch.n_layers': 6, 'arch.n_heads': 8, 'init_weights': True, 'lookback': 128, 'loss_func': 'wMSE'}. \n"
     ]
    },
    {
     "name": "stderr",
     "output_type": "stream",
     "text": [
      "Executing: 100%|██████████| 33/33 [01:23<00:00,  2.53s/cell]\n",
      " 95%|█████████▌| 95/100 [2:43:15<10:38, 127.63s/it]Passed unknown parameter: config.arch.attn_dropout\n",
      "Passed unknown parameter: config.arch.d_model\n",
      "Passed unknown parameter: config.arch.d_ff\n",
      "Passed unknown parameter: config.arch.decomposition\n",
      "Passed unknown parameter: config.arch.dropout\n",
      "Passed unknown parameter: config.arch.individual\n",
      "Passed unknown parameter: config.arch.n_layers\n",
      "Passed unknown parameter: config.arch.n_heads\n",
      "Passed unknown parameter: config.init_weights\n",
      "Passed unknown parameter: config.lookback\n",
      "Passed unknown parameter: config.loss_func\n",
      "Passed unknown parameter: config.loss_config\n",
      "Passed unknown parameter: config.n_epoch\n",
      "Passed unknown parameter: config.bs\n",
      "Passed unknown parameter: config.is_optuna_study\n",
      "Passed unknown parameter: config.metrics\n",
      "Passed unknown parameter: config.main_metric\n",
      "Passed unknown parameter: config.use_wandb\n",
      "Passed unknown parameter: config.wandb_group\n"
     ]
    },
    {
     "name": "stdout",
     "output_type": "stream",
     "text": [
      "[I 2024-08-22 14:15:10,432] Trial 94 finished with values: [0.5531154870986938, 0.43309643864631653, -97.16798400878906, 9.502152442932129, -5.626302242279053] and parameters: {'arch.attn_dropout': 0.2, 'arch.d_model': 448, 'arch.d_ff': 160, 'arch.decomposition': True, 'arch.dropout': 0.5, 'arch.individual': True, 'arch.n_layers': 6, 'arch.n_heads': 8, 'init_weights': True, 'lookback': 18, 'loss_func': 'wRMSLE'}. \n"
     ]
    },
    {
     "name": "stderr",
     "output_type": "stream",
     "text": [
      "Executing: 100%|██████████| 33/33 [02:32<00:00,  4.62s/cell]\n",
      " 96%|█████████▌| 96/100 [2:45:48<09:00, 135.13s/it]Passed unknown parameter: config.arch.attn_dropout\n",
      "Passed unknown parameter: config.arch.d_model\n",
      "Passed unknown parameter: config.arch.d_ff\n",
      "Passed unknown parameter: config.arch.decomposition\n",
      "Passed unknown parameter: config.arch.dropout\n",
      "Passed unknown parameter: config.arch.individual\n",
      "Passed unknown parameter: config.arch.n_layers\n",
      "Passed unknown parameter: config.arch.n_heads\n",
      "Passed unknown parameter: config.init_weights\n",
      "Passed unknown parameter: config.lookback\n",
      "Passed unknown parameter: config.loss_func\n",
      "Passed unknown parameter: config.loss_config\n",
      "Passed unknown parameter: config.n_epoch\n",
      "Passed unknown parameter: config.bs\n",
      "Passed unknown parameter: config.is_optuna_study\n",
      "Passed unknown parameter: config.metrics\n",
      "Passed unknown parameter: config.main_metric\n",
      "Passed unknown parameter: config.use_wandb\n",
      "Passed unknown parameter: config.wandb_group\n"
     ]
    },
    {
     "name": "stdout",
     "output_type": "stream",
     "text": [
      "[I 2024-08-22 14:17:43,076] Trial 95 finished with values: [0.7235432863235474, 0.7103028297424316, -62.525447845458984, 16.89923858642578, -12.191926956176758] and parameters: {'arch.attn_dropout': 0.30000000000000004, 'arch.d_model': 512, 'arch.d_ff': 32, 'arch.decomposition': True, 'arch.dropout': 0.30000000000000004, 'arch.individual': False, 'arch.n_layers': 6, 'arch.n_heads': 8, 'init_weights': True, 'lookback': 128, 'loss_func': 'wMSLE'}. \n"
     ]
    },
    {
     "name": "stderr",
     "output_type": "stream",
     "text": [
      "Executing: 100%|██████████| 33/33 [01:40<00:00,  3.06s/cell]\n",
      " 97%|█████████▋| 97/100 [2:47:29<06:14, 124.90s/it]Passed unknown parameter: config.arch.attn_dropout\n",
      "Passed unknown parameter: config.arch.d_model\n",
      "Passed unknown parameter: config.arch.d_ff\n",
      "Passed unknown parameter: config.arch.decomposition\n",
      "Passed unknown parameter: config.arch.dropout\n",
      "Passed unknown parameter: config.arch.individual\n",
      "Passed unknown parameter: config.arch.n_layers\n",
      "Passed unknown parameter: config.arch.n_heads\n",
      "Passed unknown parameter: config.init_weights\n",
      "Passed unknown parameter: config.lookback\n",
      "Passed unknown parameter: config.loss_func\n",
      "Passed unknown parameter: config.loss_config\n",
      "Passed unknown parameter: config.n_epoch\n",
      "Passed unknown parameter: config.bs\n",
      "Passed unknown parameter: config.is_optuna_study\n",
      "Passed unknown parameter: config.metrics\n",
      "Passed unknown parameter: config.main_metric\n",
      "Passed unknown parameter: config.use_wandb\n",
      "Passed unknown parameter: config.wandb_group\n"
     ]
    },
    {
     "name": "stdout",
     "output_type": "stream",
     "text": [
      "[I 2024-08-22 14:19:24,103] Trial 96 finished with values: [0.5199996829032898, 0.42264872789382935, -44.84714126586914, 13.274502754211426, -9.93796157836914] and parameters: {'arch.attn_dropout': 0.2, 'arch.d_model': 288, 'arch.d_ff': 128, 'arch.decomposition': True, 'arch.dropout': 0.30000000000000004, 'arch.individual': True, 'arch.n_layers': 6, 'arch.n_heads': 4, 'init_weights': False, 'lookback': 128, 'loss_func': 'wMSE'}. \n"
     ]
    },
    {
     "name": "stderr",
     "output_type": "stream",
     "text": [
      "Executing: 100%|██████████| 33/33 [01:45<00:00,  3.21s/cell]\n",
      " 98%|█████████▊| 98/100 [2:49:15<03:58, 119.28s/it]Passed unknown parameter: config.arch.attn_dropout\n",
      "Passed unknown parameter: config.arch.d_model\n",
      "Passed unknown parameter: config.arch.d_ff\n",
      "Passed unknown parameter: config.arch.decomposition\n",
      "Passed unknown parameter: config.arch.dropout\n",
      "Passed unknown parameter: config.arch.individual\n",
      "Passed unknown parameter: config.arch.n_layers\n",
      "Passed unknown parameter: config.arch.n_heads\n",
      "Passed unknown parameter: config.init_weights\n",
      "Passed unknown parameter: config.lookback\n",
      "Passed unknown parameter: config.loss_func\n",
      "Passed unknown parameter: config.loss_config\n",
      "Passed unknown parameter: config.n_epoch\n",
      "Passed unknown parameter: config.bs\n",
      "Passed unknown parameter: config.is_optuna_study\n",
      "Passed unknown parameter: config.metrics\n",
      "Passed unknown parameter: config.main_metric\n",
      "Passed unknown parameter: config.use_wandb\n",
      "Passed unknown parameter: config.wandb_group\n"
     ]
    },
    {
     "name": "stdout",
     "output_type": "stream",
     "text": [
      "[I 2024-08-22 14:21:10,269] Trial 97 finished with values: [0.513285219669342, 0.4361855089664459, -170.5685577392578, 15.288870811462402, -8.565673828125] and parameters: {'arch.attn_dropout': 0.1, 'arch.d_model': 288, 'arch.d_ff': 96, 'arch.decomposition': True, 'arch.dropout': 0.4, 'arch.individual': True, 'arch.n_layers': 6, 'arch.n_heads': 8, 'init_weights': True, 'lookback': 128, 'loss_func': 'RMSLE'}. \n"
     ]
    },
    {
     "name": "stderr",
     "output_type": "stream",
     "text": [
      "Executing: 100%|██████████| 33/33 [02:18<00:00,  4.20s/cell]\n",
      " 99%|█████████▉| 99/100 [2:51:34<02:05, 125.17s/it]"
     ]
    },
    {
     "name": "stdout",
     "output_type": "stream",
     "text": [
      "[I 2024-08-22 14:23:29,197] Trial 98 finished with values: [0.5159504413604736, 0.4283578097820282, -36.787837982177734, 7.7421770095825195, -3.6638457775115967] and parameters: {'arch.attn_dropout': 0.30000000000000004, 'arch.d_model': 448, 'arch.d_ff': 256, 'arch.decomposition': True, 'arch.dropout': 0.4, 'arch.individual': True, 'arch.n_layers': 5, 'arch.n_heads': 8, 'init_weights': False, 'lookback': 128, 'loss_func': 'wQuantile'}. \n"
     ]
    },
    {
     "name": "stderr",
     "output_type": "stream",
     "text": [
      "Passed unknown parameter: config.arch.attn_dropout\n",
      "Passed unknown parameter: config.arch.d_model\n",
      "Passed unknown parameter: config.arch.d_ff\n",
      "Passed unknown parameter: config.arch.decomposition\n",
      "Passed unknown parameter: config.arch.dropout\n",
      "Passed unknown parameter: config.arch.individual\n",
      "Passed unknown parameter: config.arch.n_layers\n",
      "Passed unknown parameter: config.arch.n_heads\n",
      "Passed unknown parameter: config.init_weights\n",
      "Passed unknown parameter: config.lookback\n",
      "Passed unknown parameter: config.loss_func\n",
      "Passed unknown parameter: config.loss_config\n",
      "Passed unknown parameter: config.n_epoch\n",
      "Passed unknown parameter: config.bs\n",
      "Passed unknown parameter: config.is_optuna_study\n",
      "Passed unknown parameter: config.metrics\n",
      "Passed unknown parameter: config.main_metric\n",
      "Passed unknown parameter: config.use_wandb\n",
      "Passed unknown parameter: config.wandb_group\n",
      "Executing: 100%|██████████| 33/33 [01:29<00:00,  2.70s/cell]\n",
      "100%|██████████| 100/100 [2:53:03<00:00, 103.84s/it]\n"
     ]
    },
    {
     "name": "stdout",
     "output_type": "stream",
     "text": [
      "[I 2024-08-22 14:24:58,519] Trial 99 finished with values: [0.4602906405925751, 0.3709999918937683, -447.4930419921875, 9.788040161132812, -5.007354259490967] and parameters: {'arch.attn_dropout': 0.2, 'arch.d_model': 480, 'arch.d_ff': 64, 'arch.decomposition': True, 'arch.dropout': 0.4, 'arch.individual': True, 'arch.n_layers': 6, 'arch.n_heads': 8, 'init_weights': True, 'lookback': 36, 'loss_func': 'MSLE'}. \n",
      "\n",
      "Optuna study saved to tmp/general_study_extended.pkl\n",
      "To reload the study run: study = joblib.load('tmp/general_study_extended.pkl')\n"
     ]
    },
    {
     "data": {
      "application/vnd.plotly.v1+json": {
       "config": {
        "plotlyServerURL": "https://plot.ly"
       },
       "data": [
        {
         "cliponaxis": false,
         "hovertemplate": [
          "arch.decomposition (CategoricalDistribution): 0.004307372055927591<extra></extra>",
          "init_weights (CategoricalDistribution): 0.013675970076049091<extra></extra>",
          "arch.n_layers (IntUniformDistribution): 0.014330159142638091<extra></extra>",
          "arch.dropout (DiscreteUniformDistribution): 0.01613874214543264<extra></extra>",
          "arch.n_heads (CategoricalDistribution): 0.034505033703633496<extra></extra>",
          "lookback (CategoricalDistribution): 0.057226425605061824<extra></extra>",
          "arch.individual (CategoricalDistribution): 0.0788097577227416<extra></extra>",
          "arch.attn_dropout (DiscreteUniformDistribution): 0.08826027903179758<extra></extra>",
          "loss_func (CategoricalDistribution): 0.1436610948852547<extra></extra>",
          "arch.d_ff (IntUniformDistribution): 0.2127872409399423<extra></extra>",
          "arch.d_model (IntUniformDistribution): 0.33629792469152114<extra></extra>"
         ],
         "name": "Objective Value 0",
         "orientation": "h",
         "text": [
          "<0.01",
          "0.01",
          "0.01",
          "0.02",
          "0.03",
          "0.06",
          "0.08",
          "0.09",
          "0.14",
          "0.21",
          "0.34"
         ],
         "textposition": "outside",
         "type": "bar",
         "x": [
          0.004307372055927591,
          0.013675970076049091,
          0.014330159142638091,
          0.01613874214543264,
          0.034505033703633496,
          0.057226425605061824,
          0.0788097577227416,
          0.08826027903179758,
          0.1436610948852547,
          0.2127872409399423,
          0.33629792469152114
         ],
         "y": [
          "arch.decomposition",
          "init_weights",
          "arch.n_layers",
          "arch.dropout",
          "arch.n_heads",
          "lookback",
          "arch.individual",
          "arch.attn_dropout",
          "loss_func",
          "arch.d_ff",
          "arch.d_model"
         ]
        },
        {
         "cliponaxis": false,
         "hovertemplate": [
          "arch.decomposition (CategoricalDistribution): 0.0018194529088735895<extra></extra>",
          "init_weights (CategoricalDistribution): 0.010981960643462657<extra></extra>",
          "arch.individual (CategoricalDistribution): 0.017042010711332573<extra></extra>",
          "arch.n_layers (IntUniformDistribution): 0.01947862838414165<extra></extra>",
          "arch.n_heads (CategoricalDistribution): 0.02780089082336653<extra></extra>",
          "arch.attn_dropout (DiscreteUniformDistribution): 0.04067472401804976<extra></extra>",
          "arch.dropout (DiscreteUniformDistribution): 0.08524467745233857<extra></extra>",
          "arch.d_ff (IntUniformDistribution): 0.1584998248084806<extra></extra>",
          "arch.d_model (IntUniformDistribution): 0.16941591604623976<extra></extra>",
          "lookback (CategoricalDistribution): 0.18240571727629595<extra></extra>",
          "loss_func (CategoricalDistribution): 0.2866361969274184<extra></extra>"
         ],
         "name": "Objective Value 1",
         "orientation": "h",
         "text": [
          "<0.01",
          "0.01",
          "0.02",
          "0.02",
          "0.03",
          "0.04",
          "0.09",
          "0.16",
          "0.17",
          "0.18",
          "0.29"
         ],
         "textposition": "outside",
         "type": "bar",
         "x": [
          0.0018194529088735895,
          0.010981960643462657,
          0.017042010711332573,
          0.01947862838414165,
          0.02780089082336653,
          0.04067472401804976,
          0.08524467745233857,
          0.1584998248084806,
          0.16941591604623976,
          0.18240571727629595,
          0.2866361969274184
         ],
         "y": [
          "arch.decomposition",
          "init_weights",
          "arch.individual",
          "arch.n_layers",
          "arch.n_heads",
          "arch.attn_dropout",
          "arch.dropout",
          "arch.d_ff",
          "arch.d_model",
          "lookback",
          "loss_func"
         ]
        },
        {
         "cliponaxis": false,
         "hovertemplate": [
          "arch.decomposition (CategoricalDistribution): 0.007300678342408633<extra></extra>",
          "lookback (CategoricalDistribution): 0.01614512205422764<extra></extra>",
          "arch.dropout (DiscreteUniformDistribution): 0.017059093425981716<extra></extra>",
          "arch.individual (CategoricalDistribution): 0.022886496586266552<extra></extra>",
          "init_weights (CategoricalDistribution): 0.029499835299538767<extra></extra>",
          "arch.attn_dropout (DiscreteUniformDistribution): 0.04975467582921941<extra></extra>",
          "arch.d_ff (IntUniformDistribution): 0.07231367899865791<extra></extra>",
          "arch.d_model (IntUniformDistribution): 0.07298485446003626<extra></extra>",
          "arch.n_heads (CategoricalDistribution): 0.09462152519691566<extra></extra>",
          "arch.n_layers (IntUniformDistribution): 0.1464714633502037<extra></extra>",
          "loss_func (CategoricalDistribution): 0.4709625764565436<extra></extra>"
         ],
         "name": "Objective Value 2",
         "orientation": "h",
         "text": [
          "<0.01",
          "0.02",
          "0.02",
          "0.02",
          "0.03",
          "0.05",
          "0.07",
          "0.07",
          "0.09",
          "0.15",
          "0.47"
         ],
         "textposition": "outside",
         "type": "bar",
         "x": [
          0.007300678342408633,
          0.01614512205422764,
          0.017059093425981716,
          0.022886496586266552,
          0.029499835299538767,
          0.04975467582921941,
          0.07231367899865791,
          0.07298485446003626,
          0.09462152519691566,
          0.1464714633502037,
          0.4709625764565436
         ],
         "y": [
          "arch.decomposition",
          "lookback",
          "arch.dropout",
          "arch.individual",
          "init_weights",
          "arch.attn_dropout",
          "arch.d_ff",
          "arch.d_model",
          "arch.n_heads",
          "arch.n_layers",
          "loss_func"
         ]
        },
        {
         "cliponaxis": false,
         "hovertemplate": [
          "arch.decomposition (CategoricalDistribution): 0.004009043505052729<extra></extra>",
          "arch.individual (CategoricalDistribution): 0.009015725887699015<extra></extra>",
          "arch.d_ff (IntUniformDistribution): 0.027948296952387448<extra></extra>",
          "arch.attn_dropout (DiscreteUniformDistribution): 0.03004900705026946<extra></extra>",
          "arch.dropout (DiscreteUniformDistribution): 0.030718819573705144<extra></extra>",
          "arch.d_model (IntUniformDistribution): 0.038623320049313<extra></extra>",
          "arch.n_heads (CategoricalDistribution): 0.06364219095079761<extra></extra>",
          "loss_func (CategoricalDistribution): 0.0871093667560538<extra></extra>",
          "arch.n_layers (IntUniformDistribution): 0.10053704187448972<extra></extra>",
          "init_weights (CategoricalDistribution): 0.10865618270194669<extra></extra>",
          "lookback (CategoricalDistribution): 0.4996910046982853<extra></extra>"
         ],
         "name": "Objective Value 3",
         "orientation": "h",
         "text": [
          "<0.01",
          "<0.01",
          "0.03",
          "0.03",
          "0.03",
          "0.04",
          "0.06",
          "0.09",
          "0.10",
          "0.11",
          "0.50"
         ],
         "textposition": "outside",
         "type": "bar",
         "x": [
          0.004009043505052729,
          0.009015725887699015,
          0.027948296952387448,
          0.03004900705026946,
          0.030718819573705144,
          0.038623320049313,
          0.06364219095079761,
          0.0871093667560538,
          0.10053704187448972,
          0.10865618270194669,
          0.4996910046982853
         ],
         "y": [
          "arch.decomposition",
          "arch.individual",
          "arch.d_ff",
          "arch.attn_dropout",
          "arch.dropout",
          "arch.d_model",
          "arch.n_heads",
          "loss_func",
          "arch.n_layers",
          "init_weights",
          "lookback"
         ]
        },
        {
         "cliponaxis": false,
         "hovertemplate": [
          "arch.attn_dropout (DiscreteUniformDistribution): 0.004066445845470849<extra></extra>",
          "arch.d_ff (IntUniformDistribution): 0.00831751509059545<extra></extra>",
          "arch.individual (CategoricalDistribution): 0.010243114839147248<extra></extra>",
          "arch.n_heads (CategoricalDistribution): 0.013347449398793483<extra></extra>",
          "arch.dropout (DiscreteUniformDistribution): 0.0157108568902164<extra></extra>",
          "arch.d_model (IntUniformDistribution): 0.01741672327689065<extra></extra>",
          "arch.decomposition (CategoricalDistribution): 0.027252073466491816<extra></extra>",
          "arch.n_layers (IntUniformDistribution): 0.04631545213119999<extra></extra>",
          "init_weights (CategoricalDistribution): 0.04725444707435516<extra></extra>",
          "lookback (CategoricalDistribution): 0.06071168216000291<extra></extra>",
          "loss_func (CategoricalDistribution): 0.7493642398268361<extra></extra>"
         ],
         "name": "Objective Value 4",
         "orientation": "h",
         "text": [
          "<0.01",
          "<0.01",
          "0.01",
          "0.01",
          "0.02",
          "0.02",
          "0.03",
          "0.05",
          "0.05",
          "0.06",
          "0.75"
         ],
         "textposition": "outside",
         "type": "bar",
         "x": [
          0.004066445845470849,
          0.00831751509059545,
          0.010243114839147248,
          0.013347449398793483,
          0.0157108568902164,
          0.01741672327689065,
          0.027252073466491816,
          0.04631545213119999,
          0.04725444707435516,
          0.06071168216000291,
          0.7493642398268361
         ],
         "y": [
          "arch.attn_dropout",
          "arch.d_ff",
          "arch.individual",
          "arch.n_heads",
          "arch.dropout",
          "arch.d_model",
          "arch.decomposition",
          "arch.n_layers",
          "init_weights",
          "lookback",
          "loss_func"
         ]
        }
       ],
       "layout": {
        "template": {
         "data": {
          "bar": [
           {
            "error_x": {
             "color": "#2a3f5f"
            },
            "error_y": {
             "color": "#2a3f5f"
            },
            "marker": {
             "line": {
              "color": "#E5ECF6",
              "width": 0.5
             },
             "pattern": {
              "fillmode": "overlay",
              "size": 10,
              "solidity": 0.2
             }
            },
            "type": "bar"
           }
          ],
          "barpolar": [
           {
            "marker": {
             "line": {
              "color": "#E5ECF6",
              "width": 0.5
             },
             "pattern": {
              "fillmode": "overlay",
              "size": 10,
              "solidity": 0.2
             }
            },
            "type": "barpolar"
           }
          ],
          "carpet": [
           {
            "aaxis": {
             "endlinecolor": "#2a3f5f",
             "gridcolor": "white",
             "linecolor": "white",
             "minorgridcolor": "white",
             "startlinecolor": "#2a3f5f"
            },
            "baxis": {
             "endlinecolor": "#2a3f5f",
             "gridcolor": "white",
             "linecolor": "white",
             "minorgridcolor": "white",
             "startlinecolor": "#2a3f5f"
            },
            "type": "carpet"
           }
          ],
          "choropleth": [
           {
            "colorbar": {
             "outlinewidth": 0,
             "ticks": ""
            },
            "type": "choropleth"
           }
          ],
          "contour": [
           {
            "colorbar": {
             "outlinewidth": 0,
             "ticks": ""
            },
            "colorscale": [
             [
              0,
              "#0d0887"
             ],
             [
              0.1111111111111111,
              "#46039f"
             ],
             [
              0.2222222222222222,
              "#7201a8"
             ],
             [
              0.3333333333333333,
              "#9c179e"
             ],
             [
              0.4444444444444444,
              "#bd3786"
             ],
             [
              0.5555555555555556,
              "#d8576b"
             ],
             [
              0.6666666666666666,
              "#ed7953"
             ],
             [
              0.7777777777777778,
              "#fb9f3a"
             ],
             [
              0.8888888888888888,
              "#fdca26"
             ],
             [
              1,
              "#f0f921"
             ]
            ],
            "type": "contour"
           }
          ],
          "contourcarpet": [
           {
            "colorbar": {
             "outlinewidth": 0,
             "ticks": ""
            },
            "type": "contourcarpet"
           }
          ],
          "heatmap": [
           {
            "colorbar": {
             "outlinewidth": 0,
             "ticks": ""
            },
            "colorscale": [
             [
              0,
              "#0d0887"
             ],
             [
              0.1111111111111111,
              "#46039f"
             ],
             [
              0.2222222222222222,
              "#7201a8"
             ],
             [
              0.3333333333333333,
              "#9c179e"
             ],
             [
              0.4444444444444444,
              "#bd3786"
             ],
             [
              0.5555555555555556,
              "#d8576b"
             ],
             [
              0.6666666666666666,
              "#ed7953"
             ],
             [
              0.7777777777777778,
              "#fb9f3a"
             ],
             [
              0.8888888888888888,
              "#fdca26"
             ],
             [
              1,
              "#f0f921"
             ]
            ],
            "type": "heatmap"
           }
          ],
          "heatmapgl": [
           {
            "colorbar": {
             "outlinewidth": 0,
             "ticks": ""
            },
            "colorscale": [
             [
              0,
              "#0d0887"
             ],
             [
              0.1111111111111111,
              "#46039f"
             ],
             [
              0.2222222222222222,
              "#7201a8"
             ],
             [
              0.3333333333333333,
              "#9c179e"
             ],
             [
              0.4444444444444444,
              "#bd3786"
             ],
             [
              0.5555555555555556,
              "#d8576b"
             ],
             [
              0.6666666666666666,
              "#ed7953"
             ],
             [
              0.7777777777777778,
              "#fb9f3a"
             ],
             [
              0.8888888888888888,
              "#fdca26"
             ],
             [
              1,
              "#f0f921"
             ]
            ],
            "type": "heatmapgl"
           }
          ],
          "histogram": [
           {
            "marker": {
             "pattern": {
              "fillmode": "overlay",
              "size": 10,
              "solidity": 0.2
             }
            },
            "type": "histogram"
           }
          ],
          "histogram2d": [
           {
            "colorbar": {
             "outlinewidth": 0,
             "ticks": ""
            },
            "colorscale": [
             [
              0,
              "#0d0887"
             ],
             [
              0.1111111111111111,
              "#46039f"
             ],
             [
              0.2222222222222222,
              "#7201a8"
             ],
             [
              0.3333333333333333,
              "#9c179e"
             ],
             [
              0.4444444444444444,
              "#bd3786"
             ],
             [
              0.5555555555555556,
              "#d8576b"
             ],
             [
              0.6666666666666666,
              "#ed7953"
             ],
             [
              0.7777777777777778,
              "#fb9f3a"
             ],
             [
              0.8888888888888888,
              "#fdca26"
             ],
             [
              1,
              "#f0f921"
             ]
            ],
            "type": "histogram2d"
           }
          ],
          "histogram2dcontour": [
           {
            "colorbar": {
             "outlinewidth": 0,
             "ticks": ""
            },
            "colorscale": [
             [
              0,
              "#0d0887"
             ],
             [
              0.1111111111111111,
              "#46039f"
             ],
             [
              0.2222222222222222,
              "#7201a8"
             ],
             [
              0.3333333333333333,
              "#9c179e"
             ],
             [
              0.4444444444444444,
              "#bd3786"
             ],
             [
              0.5555555555555556,
              "#d8576b"
             ],
             [
              0.6666666666666666,
              "#ed7953"
             ],
             [
              0.7777777777777778,
              "#fb9f3a"
             ],
             [
              0.8888888888888888,
              "#fdca26"
             ],
             [
              1,
              "#f0f921"
             ]
            ],
            "type": "histogram2dcontour"
           }
          ],
          "mesh3d": [
           {
            "colorbar": {
             "outlinewidth": 0,
             "ticks": ""
            },
            "type": "mesh3d"
           }
          ],
          "parcoords": [
           {
            "line": {
             "colorbar": {
              "outlinewidth": 0,
              "ticks": ""
             }
            },
            "type": "parcoords"
           }
          ],
          "pie": [
           {
            "automargin": true,
            "type": "pie"
           }
          ],
          "scatter": [
           {
            "fillpattern": {
             "fillmode": "overlay",
             "size": 10,
             "solidity": 0.2
            },
            "type": "scatter"
           }
          ],
          "scatter3d": [
           {
            "line": {
             "colorbar": {
              "outlinewidth": 0,
              "ticks": ""
             }
            },
            "marker": {
             "colorbar": {
              "outlinewidth": 0,
              "ticks": ""
             }
            },
            "type": "scatter3d"
           }
          ],
          "scattercarpet": [
           {
            "marker": {
             "colorbar": {
              "outlinewidth": 0,
              "ticks": ""
             }
            },
            "type": "scattercarpet"
           }
          ],
          "scattergeo": [
           {
            "marker": {
             "colorbar": {
              "outlinewidth": 0,
              "ticks": ""
             }
            },
            "type": "scattergeo"
           }
          ],
          "scattergl": [
           {
            "marker": {
             "colorbar": {
              "outlinewidth": 0,
              "ticks": ""
             }
            },
            "type": "scattergl"
           }
          ],
          "scattermapbox": [
           {
            "marker": {
             "colorbar": {
              "outlinewidth": 0,
              "ticks": ""
             }
            },
            "type": "scattermapbox"
           }
          ],
          "scatterpolar": [
           {
            "marker": {
             "colorbar": {
              "outlinewidth": 0,
              "ticks": ""
             }
            },
            "type": "scatterpolar"
           }
          ],
          "scatterpolargl": [
           {
            "marker": {
             "colorbar": {
              "outlinewidth": 0,
              "ticks": ""
             }
            },
            "type": "scatterpolargl"
           }
          ],
          "scatterternary": [
           {
            "marker": {
             "colorbar": {
              "outlinewidth": 0,
              "ticks": ""
             }
            },
            "type": "scatterternary"
           }
          ],
          "surface": [
           {
            "colorbar": {
             "outlinewidth": 0,
             "ticks": ""
            },
            "colorscale": [
             [
              0,
              "#0d0887"
             ],
             [
              0.1111111111111111,
              "#46039f"
             ],
             [
              0.2222222222222222,
              "#7201a8"
             ],
             [
              0.3333333333333333,
              "#9c179e"
             ],
             [
              0.4444444444444444,
              "#bd3786"
             ],
             [
              0.5555555555555556,
              "#d8576b"
             ],
             [
              0.6666666666666666,
              "#ed7953"
             ],
             [
              0.7777777777777778,
              "#fb9f3a"
             ],
             [
              0.8888888888888888,
              "#fdca26"
             ],
             [
              1,
              "#f0f921"
             ]
            ],
            "type": "surface"
           }
          ],
          "table": [
           {
            "cells": {
             "fill": {
              "color": "#EBF0F8"
             },
             "line": {
              "color": "white"
             }
            },
            "header": {
             "fill": {
              "color": "#C8D4E3"
             },
             "line": {
              "color": "white"
             }
            },
            "type": "table"
           }
          ]
         },
         "layout": {
          "annotationdefaults": {
           "arrowcolor": "#2a3f5f",
           "arrowhead": 0,
           "arrowwidth": 1
          },
          "autotypenumbers": "strict",
          "coloraxis": {
           "colorbar": {
            "outlinewidth": 0,
            "ticks": ""
           }
          },
          "colorscale": {
           "diverging": [
            [
             0,
             "#8e0152"
            ],
            [
             0.1,
             "#c51b7d"
            ],
            [
             0.2,
             "#de77ae"
            ],
            [
             0.3,
             "#f1b6da"
            ],
            [
             0.4,
             "#fde0ef"
            ],
            [
             0.5,
             "#f7f7f7"
            ],
            [
             0.6,
             "#e6f5d0"
            ],
            [
             0.7,
             "#b8e186"
            ],
            [
             0.8,
             "#7fbc41"
            ],
            [
             0.9,
             "#4d9221"
            ],
            [
             1,
             "#276419"
            ]
           ],
           "sequential": [
            [
             0,
             "#0d0887"
            ],
            [
             0.1111111111111111,
             "#46039f"
            ],
            [
             0.2222222222222222,
             "#7201a8"
            ],
            [
             0.3333333333333333,
             "#9c179e"
            ],
            [
             0.4444444444444444,
             "#bd3786"
            ],
            [
             0.5555555555555556,
             "#d8576b"
            ],
            [
             0.6666666666666666,
             "#ed7953"
            ],
            [
             0.7777777777777778,
             "#fb9f3a"
            ],
            [
             0.8888888888888888,
             "#fdca26"
            ],
            [
             1,
             "#f0f921"
            ]
           ],
           "sequentialminus": [
            [
             0,
             "#0d0887"
            ],
            [
             0.1111111111111111,
             "#46039f"
            ],
            [
             0.2222222222222222,
             "#7201a8"
            ],
            [
             0.3333333333333333,
             "#9c179e"
            ],
            [
             0.4444444444444444,
             "#bd3786"
            ],
            [
             0.5555555555555556,
             "#d8576b"
            ],
            [
             0.6666666666666666,
             "#ed7953"
            ],
            [
             0.7777777777777778,
             "#fb9f3a"
            ],
            [
             0.8888888888888888,
             "#fdca26"
            ],
            [
             1,
             "#f0f921"
            ]
           ]
          },
          "colorway": [
           "#636efa",
           "#EF553B",
           "#00cc96",
           "#ab63fa",
           "#FFA15A",
           "#19d3f3",
           "#FF6692",
           "#B6E880",
           "#FF97FF",
           "#FECB52"
          ],
          "font": {
           "color": "#2a3f5f"
          },
          "geo": {
           "bgcolor": "white",
           "lakecolor": "white",
           "landcolor": "#E5ECF6",
           "showlakes": true,
           "showland": true,
           "subunitcolor": "white"
          },
          "hoverlabel": {
           "align": "left"
          },
          "hovermode": "closest",
          "mapbox": {
           "style": "light"
          },
          "paper_bgcolor": "white",
          "plot_bgcolor": "#E5ECF6",
          "polar": {
           "angularaxis": {
            "gridcolor": "white",
            "linecolor": "white",
            "ticks": ""
           },
           "bgcolor": "#E5ECF6",
           "radialaxis": {
            "gridcolor": "white",
            "linecolor": "white",
            "ticks": ""
           }
          },
          "scene": {
           "xaxis": {
            "backgroundcolor": "#E5ECF6",
            "gridcolor": "white",
            "gridwidth": 2,
            "linecolor": "white",
            "showbackground": true,
            "ticks": "",
            "zerolinecolor": "white"
           },
           "yaxis": {
            "backgroundcolor": "#E5ECF6",
            "gridcolor": "white",
            "gridwidth": 2,
            "linecolor": "white",
            "showbackground": true,
            "ticks": "",
            "zerolinecolor": "white"
           },
           "zaxis": {
            "backgroundcolor": "#E5ECF6",
            "gridcolor": "white",
            "gridwidth": 2,
            "linecolor": "white",
            "showbackground": true,
            "ticks": "",
            "zerolinecolor": "white"
           }
          },
          "shapedefaults": {
           "line": {
            "color": "#2a3f5f"
           }
          },
          "ternary": {
           "aaxis": {
            "gridcolor": "white",
            "linecolor": "white",
            "ticks": ""
           },
           "baxis": {
            "gridcolor": "white",
            "linecolor": "white",
            "ticks": ""
           },
           "bgcolor": "#E5ECF6",
           "caxis": {
            "gridcolor": "white",
            "linecolor": "white",
            "ticks": ""
           }
          },
          "title": {
           "x": 0.05
          },
          "xaxis": {
           "automargin": true,
           "gridcolor": "white",
           "linecolor": "white",
           "ticks": "",
           "title": {
            "standoff": 15
           },
           "zerolinecolor": "white",
           "zerolinewidth": 2
          },
          "yaxis": {
           "automargin": true,
           "gridcolor": "white",
           "linecolor": "white",
           "ticks": "",
           "title": {
            "standoff": 15
           },
           "zerolinecolor": "white",
           "zerolinewidth": 2
          }
         }
        },
        "title": {
         "text": "Hyperparameter Importances"
        },
        "xaxis": {
         "title": {
          "text": "Hyperparameter Importance"
         }
        },
        "yaxis": {
         "title": {
          "text": "Hyperparameter"
         }
        }
       }
      },
      "text/html": [
       "<div>                            <div id=\"de97095f-23e0-4347-a342-03496569fc73\" class=\"plotly-graph-div\" style=\"height:525px; width:100%;\"></div>            <script type=\"text/javascript\">                require([\"plotly\"], function(Plotly) {                    window.PLOTLYENV=window.PLOTLYENV || {};                                    if (document.getElementById(\"de97095f-23e0-4347-a342-03496569fc73\")) {                    Plotly.newPlot(                        \"de97095f-23e0-4347-a342-03496569fc73\",                        [{\"cliponaxis\":false,\"hovertemplate\":[\"arch.decomposition (CategoricalDistribution): 0.004307372055927591\\u003cextra\\u003e\\u003c\\u002fextra\\u003e\",\"init_weights (CategoricalDistribution): 0.013675970076049091\\u003cextra\\u003e\\u003c\\u002fextra\\u003e\",\"arch.n_layers (IntUniformDistribution): 0.014330159142638091\\u003cextra\\u003e\\u003c\\u002fextra\\u003e\",\"arch.dropout (DiscreteUniformDistribution): 0.01613874214543264\\u003cextra\\u003e\\u003c\\u002fextra\\u003e\",\"arch.n_heads (CategoricalDistribution): 0.034505033703633496\\u003cextra\\u003e\\u003c\\u002fextra\\u003e\",\"lookback (CategoricalDistribution): 0.057226425605061824\\u003cextra\\u003e\\u003c\\u002fextra\\u003e\",\"arch.individual (CategoricalDistribution): 0.0788097577227416\\u003cextra\\u003e\\u003c\\u002fextra\\u003e\",\"arch.attn_dropout (DiscreteUniformDistribution): 0.08826027903179758\\u003cextra\\u003e\\u003c\\u002fextra\\u003e\",\"loss_func (CategoricalDistribution): 0.1436610948852547\\u003cextra\\u003e\\u003c\\u002fextra\\u003e\",\"arch.d_ff (IntUniformDistribution): 0.2127872409399423\\u003cextra\\u003e\\u003c\\u002fextra\\u003e\",\"arch.d_model (IntUniformDistribution): 0.33629792469152114\\u003cextra\\u003e\\u003c\\u002fextra\\u003e\"],\"name\":\"Objective Value 0\",\"orientation\":\"h\",\"text\":[\"\\u003c0.01\",\"0.01\",\"0.01\",\"0.02\",\"0.03\",\"0.06\",\"0.08\",\"0.09\",\"0.14\",\"0.21\",\"0.34\"],\"textposition\":\"outside\",\"x\":[0.004307372055927591,0.013675970076049091,0.014330159142638091,0.01613874214543264,0.034505033703633496,0.057226425605061824,0.0788097577227416,0.08826027903179758,0.1436610948852547,0.2127872409399423,0.33629792469152114],\"y\":[\"arch.decomposition\",\"init_weights\",\"arch.n_layers\",\"arch.dropout\",\"arch.n_heads\",\"lookback\",\"arch.individual\",\"arch.attn_dropout\",\"loss_func\",\"arch.d_ff\",\"arch.d_model\"],\"type\":\"bar\"},{\"cliponaxis\":false,\"hovertemplate\":[\"arch.decomposition (CategoricalDistribution): 0.0018194529088735895\\u003cextra\\u003e\\u003c\\u002fextra\\u003e\",\"init_weights (CategoricalDistribution): 0.010981960643462657\\u003cextra\\u003e\\u003c\\u002fextra\\u003e\",\"arch.individual (CategoricalDistribution): 0.017042010711332573\\u003cextra\\u003e\\u003c\\u002fextra\\u003e\",\"arch.n_layers (IntUniformDistribution): 0.01947862838414165\\u003cextra\\u003e\\u003c\\u002fextra\\u003e\",\"arch.n_heads (CategoricalDistribution): 0.02780089082336653\\u003cextra\\u003e\\u003c\\u002fextra\\u003e\",\"arch.attn_dropout (DiscreteUniformDistribution): 0.04067472401804976\\u003cextra\\u003e\\u003c\\u002fextra\\u003e\",\"arch.dropout (DiscreteUniformDistribution): 0.08524467745233857\\u003cextra\\u003e\\u003c\\u002fextra\\u003e\",\"arch.d_ff (IntUniformDistribution): 0.1584998248084806\\u003cextra\\u003e\\u003c\\u002fextra\\u003e\",\"arch.d_model (IntUniformDistribution): 0.16941591604623976\\u003cextra\\u003e\\u003c\\u002fextra\\u003e\",\"lookback (CategoricalDistribution): 0.18240571727629595\\u003cextra\\u003e\\u003c\\u002fextra\\u003e\",\"loss_func (CategoricalDistribution): 0.2866361969274184\\u003cextra\\u003e\\u003c\\u002fextra\\u003e\"],\"name\":\"Objective Value 1\",\"orientation\":\"h\",\"text\":[\"\\u003c0.01\",\"0.01\",\"0.02\",\"0.02\",\"0.03\",\"0.04\",\"0.09\",\"0.16\",\"0.17\",\"0.18\",\"0.29\"],\"textposition\":\"outside\",\"x\":[0.0018194529088735895,0.010981960643462657,0.017042010711332573,0.01947862838414165,0.02780089082336653,0.04067472401804976,0.08524467745233857,0.1584998248084806,0.16941591604623976,0.18240571727629595,0.2866361969274184],\"y\":[\"arch.decomposition\",\"init_weights\",\"arch.individual\",\"arch.n_layers\",\"arch.n_heads\",\"arch.attn_dropout\",\"arch.dropout\",\"arch.d_ff\",\"arch.d_model\",\"lookback\",\"loss_func\"],\"type\":\"bar\"},{\"cliponaxis\":false,\"hovertemplate\":[\"arch.decomposition (CategoricalDistribution): 0.007300678342408633\\u003cextra\\u003e\\u003c\\u002fextra\\u003e\",\"lookback (CategoricalDistribution): 0.01614512205422764\\u003cextra\\u003e\\u003c\\u002fextra\\u003e\",\"arch.dropout (DiscreteUniformDistribution): 0.017059093425981716\\u003cextra\\u003e\\u003c\\u002fextra\\u003e\",\"arch.individual (CategoricalDistribution): 0.022886496586266552\\u003cextra\\u003e\\u003c\\u002fextra\\u003e\",\"init_weights (CategoricalDistribution): 0.029499835299538767\\u003cextra\\u003e\\u003c\\u002fextra\\u003e\",\"arch.attn_dropout (DiscreteUniformDistribution): 0.04975467582921941\\u003cextra\\u003e\\u003c\\u002fextra\\u003e\",\"arch.d_ff (IntUniformDistribution): 0.07231367899865791\\u003cextra\\u003e\\u003c\\u002fextra\\u003e\",\"arch.d_model (IntUniformDistribution): 0.07298485446003626\\u003cextra\\u003e\\u003c\\u002fextra\\u003e\",\"arch.n_heads (CategoricalDistribution): 0.09462152519691566\\u003cextra\\u003e\\u003c\\u002fextra\\u003e\",\"arch.n_layers (IntUniformDistribution): 0.1464714633502037\\u003cextra\\u003e\\u003c\\u002fextra\\u003e\",\"loss_func (CategoricalDistribution): 0.4709625764565436\\u003cextra\\u003e\\u003c\\u002fextra\\u003e\"],\"name\":\"Objective Value 2\",\"orientation\":\"h\",\"text\":[\"\\u003c0.01\",\"0.02\",\"0.02\",\"0.02\",\"0.03\",\"0.05\",\"0.07\",\"0.07\",\"0.09\",\"0.15\",\"0.47\"],\"textposition\":\"outside\",\"x\":[0.007300678342408633,0.01614512205422764,0.017059093425981716,0.022886496586266552,0.029499835299538767,0.04975467582921941,0.07231367899865791,0.07298485446003626,0.09462152519691566,0.1464714633502037,0.4709625764565436],\"y\":[\"arch.decomposition\",\"lookback\",\"arch.dropout\",\"arch.individual\",\"init_weights\",\"arch.attn_dropout\",\"arch.d_ff\",\"arch.d_model\",\"arch.n_heads\",\"arch.n_layers\",\"loss_func\"],\"type\":\"bar\"},{\"cliponaxis\":false,\"hovertemplate\":[\"arch.decomposition (CategoricalDistribution): 0.004009043505052729\\u003cextra\\u003e\\u003c\\u002fextra\\u003e\",\"arch.individual (CategoricalDistribution): 0.009015725887699015\\u003cextra\\u003e\\u003c\\u002fextra\\u003e\",\"arch.d_ff (IntUniformDistribution): 0.027948296952387448\\u003cextra\\u003e\\u003c\\u002fextra\\u003e\",\"arch.attn_dropout (DiscreteUniformDistribution): 0.03004900705026946\\u003cextra\\u003e\\u003c\\u002fextra\\u003e\",\"arch.dropout (DiscreteUniformDistribution): 0.030718819573705144\\u003cextra\\u003e\\u003c\\u002fextra\\u003e\",\"arch.d_model (IntUniformDistribution): 0.038623320049313\\u003cextra\\u003e\\u003c\\u002fextra\\u003e\",\"arch.n_heads (CategoricalDistribution): 0.06364219095079761\\u003cextra\\u003e\\u003c\\u002fextra\\u003e\",\"loss_func (CategoricalDistribution): 0.0871093667560538\\u003cextra\\u003e\\u003c\\u002fextra\\u003e\",\"arch.n_layers (IntUniformDistribution): 0.10053704187448972\\u003cextra\\u003e\\u003c\\u002fextra\\u003e\",\"init_weights (CategoricalDistribution): 0.10865618270194669\\u003cextra\\u003e\\u003c\\u002fextra\\u003e\",\"lookback (CategoricalDistribution): 0.4996910046982853\\u003cextra\\u003e\\u003c\\u002fextra\\u003e\"],\"name\":\"Objective Value 3\",\"orientation\":\"h\",\"text\":[\"\\u003c0.01\",\"\\u003c0.01\",\"0.03\",\"0.03\",\"0.03\",\"0.04\",\"0.06\",\"0.09\",\"0.10\",\"0.11\",\"0.50\"],\"textposition\":\"outside\",\"x\":[0.004009043505052729,0.009015725887699015,0.027948296952387448,0.03004900705026946,0.030718819573705144,0.038623320049313,0.06364219095079761,0.0871093667560538,0.10053704187448972,0.10865618270194669,0.4996910046982853],\"y\":[\"arch.decomposition\",\"arch.individual\",\"arch.d_ff\",\"arch.attn_dropout\",\"arch.dropout\",\"arch.d_model\",\"arch.n_heads\",\"loss_func\",\"arch.n_layers\",\"init_weights\",\"lookback\"],\"type\":\"bar\"},{\"cliponaxis\":false,\"hovertemplate\":[\"arch.attn_dropout (DiscreteUniformDistribution): 0.004066445845470849\\u003cextra\\u003e\\u003c\\u002fextra\\u003e\",\"arch.d_ff (IntUniformDistribution): 0.00831751509059545\\u003cextra\\u003e\\u003c\\u002fextra\\u003e\",\"arch.individual (CategoricalDistribution): 0.010243114839147248\\u003cextra\\u003e\\u003c\\u002fextra\\u003e\",\"arch.n_heads (CategoricalDistribution): 0.013347449398793483\\u003cextra\\u003e\\u003c\\u002fextra\\u003e\",\"arch.dropout (DiscreteUniformDistribution): 0.0157108568902164\\u003cextra\\u003e\\u003c\\u002fextra\\u003e\",\"arch.d_model (IntUniformDistribution): 0.01741672327689065\\u003cextra\\u003e\\u003c\\u002fextra\\u003e\",\"arch.decomposition (CategoricalDistribution): 0.027252073466491816\\u003cextra\\u003e\\u003c\\u002fextra\\u003e\",\"arch.n_layers (IntUniformDistribution): 0.04631545213119999\\u003cextra\\u003e\\u003c\\u002fextra\\u003e\",\"init_weights (CategoricalDistribution): 0.04725444707435516\\u003cextra\\u003e\\u003c\\u002fextra\\u003e\",\"lookback (CategoricalDistribution): 0.06071168216000291\\u003cextra\\u003e\\u003c\\u002fextra\\u003e\",\"loss_func (CategoricalDistribution): 0.7493642398268361\\u003cextra\\u003e\\u003c\\u002fextra\\u003e\"],\"name\":\"Objective Value 4\",\"orientation\":\"h\",\"text\":[\"\\u003c0.01\",\"\\u003c0.01\",\"0.01\",\"0.01\",\"0.02\",\"0.02\",\"0.03\",\"0.05\",\"0.05\",\"0.06\",\"0.75\"],\"textposition\":\"outside\",\"x\":[0.004066445845470849,0.00831751509059545,0.010243114839147248,0.013347449398793483,0.0157108568902164,0.01741672327689065,0.027252073466491816,0.04631545213119999,0.04725444707435516,0.06071168216000291,0.7493642398268361],\"y\":[\"arch.attn_dropout\",\"arch.d_ff\",\"arch.individual\",\"arch.n_heads\",\"arch.dropout\",\"arch.d_model\",\"arch.decomposition\",\"arch.n_layers\",\"init_weights\",\"lookback\",\"loss_func\"],\"type\":\"bar\"}],                        {\"title\":{\"text\":\"Hyperparameter Importances\"},\"xaxis\":{\"title\":{\"text\":\"Hyperparameter Importance\"}},\"yaxis\":{\"title\":{\"text\":\"Hyperparameter\"}},\"template\":{\"data\":{\"histogram2dcontour\":[{\"type\":\"histogram2dcontour\",\"colorbar\":{\"outlinewidth\":0,\"ticks\":\"\"},\"colorscale\":[[0.0,\"#0d0887\"],[0.1111111111111111,\"#46039f\"],[0.2222222222222222,\"#7201a8\"],[0.3333333333333333,\"#9c179e\"],[0.4444444444444444,\"#bd3786\"],[0.5555555555555556,\"#d8576b\"],[0.6666666666666666,\"#ed7953\"],[0.7777777777777778,\"#fb9f3a\"],[0.8888888888888888,\"#fdca26\"],[1.0,\"#f0f921\"]]}],\"choropleth\":[{\"type\":\"choropleth\",\"colorbar\":{\"outlinewidth\":0,\"ticks\":\"\"}}],\"histogram2d\":[{\"type\":\"histogram2d\",\"colorbar\":{\"outlinewidth\":0,\"ticks\":\"\"},\"colorscale\":[[0.0,\"#0d0887\"],[0.1111111111111111,\"#46039f\"],[0.2222222222222222,\"#7201a8\"],[0.3333333333333333,\"#9c179e\"],[0.4444444444444444,\"#bd3786\"],[0.5555555555555556,\"#d8576b\"],[0.6666666666666666,\"#ed7953\"],[0.7777777777777778,\"#fb9f3a\"],[0.8888888888888888,\"#fdca26\"],[1.0,\"#f0f921\"]]}],\"heatmap\":[{\"type\":\"heatmap\",\"colorbar\":{\"outlinewidth\":0,\"ticks\":\"\"},\"colorscale\":[[0.0,\"#0d0887\"],[0.1111111111111111,\"#46039f\"],[0.2222222222222222,\"#7201a8\"],[0.3333333333333333,\"#9c179e\"],[0.4444444444444444,\"#bd3786\"],[0.5555555555555556,\"#d8576b\"],[0.6666666666666666,\"#ed7953\"],[0.7777777777777778,\"#fb9f3a\"],[0.8888888888888888,\"#fdca26\"],[1.0,\"#f0f921\"]]}],\"heatmapgl\":[{\"type\":\"heatmapgl\",\"colorbar\":{\"outlinewidth\":0,\"ticks\":\"\"},\"colorscale\":[[0.0,\"#0d0887\"],[0.1111111111111111,\"#46039f\"],[0.2222222222222222,\"#7201a8\"],[0.3333333333333333,\"#9c179e\"],[0.4444444444444444,\"#bd3786\"],[0.5555555555555556,\"#d8576b\"],[0.6666666666666666,\"#ed7953\"],[0.7777777777777778,\"#fb9f3a\"],[0.8888888888888888,\"#fdca26\"],[1.0,\"#f0f921\"]]}],\"contourcarpet\":[{\"type\":\"contourcarpet\",\"colorbar\":{\"outlinewidth\":0,\"ticks\":\"\"}}],\"contour\":[{\"type\":\"contour\",\"colorbar\":{\"outlinewidth\":0,\"ticks\":\"\"},\"colorscale\":[[0.0,\"#0d0887\"],[0.1111111111111111,\"#46039f\"],[0.2222222222222222,\"#7201a8\"],[0.3333333333333333,\"#9c179e\"],[0.4444444444444444,\"#bd3786\"],[0.5555555555555556,\"#d8576b\"],[0.6666666666666666,\"#ed7953\"],[0.7777777777777778,\"#fb9f3a\"],[0.8888888888888888,\"#fdca26\"],[1.0,\"#f0f921\"]]}],\"surface\":[{\"type\":\"surface\",\"colorbar\":{\"outlinewidth\":0,\"ticks\":\"\"},\"colorscale\":[[0.0,\"#0d0887\"],[0.1111111111111111,\"#46039f\"],[0.2222222222222222,\"#7201a8\"],[0.3333333333333333,\"#9c179e\"],[0.4444444444444444,\"#bd3786\"],[0.5555555555555556,\"#d8576b\"],[0.6666666666666666,\"#ed7953\"],[0.7777777777777778,\"#fb9f3a\"],[0.8888888888888888,\"#fdca26\"],[1.0,\"#f0f921\"]]}],\"mesh3d\":[{\"type\":\"mesh3d\",\"colorbar\":{\"outlinewidth\":0,\"ticks\":\"\"}}],\"scatter\":[{\"fillpattern\":{\"fillmode\":\"overlay\",\"size\":10,\"solidity\":0.2},\"type\":\"scatter\"}],\"parcoords\":[{\"type\":\"parcoords\",\"line\":{\"colorbar\":{\"outlinewidth\":0,\"ticks\":\"\"}}}],\"scatterpolargl\":[{\"type\":\"scatterpolargl\",\"marker\":{\"colorbar\":{\"outlinewidth\":0,\"ticks\":\"\"}}}],\"bar\":[{\"error_x\":{\"color\":\"#2a3f5f\"},\"error_y\":{\"color\":\"#2a3f5f\"},\"marker\":{\"line\":{\"color\":\"#E5ECF6\",\"width\":0.5},\"pattern\":{\"fillmode\":\"overlay\",\"size\":10,\"solidity\":0.2}},\"type\":\"bar\"}],\"scattergeo\":[{\"type\":\"scattergeo\",\"marker\":{\"colorbar\":{\"outlinewidth\":0,\"ticks\":\"\"}}}],\"scatterpolar\":[{\"type\":\"scatterpolar\",\"marker\":{\"colorbar\":{\"outlinewidth\":0,\"ticks\":\"\"}}}],\"histogram\":[{\"marker\":{\"pattern\":{\"fillmode\":\"overlay\",\"size\":10,\"solidity\":0.2}},\"type\":\"histogram\"}],\"scattergl\":[{\"type\":\"scattergl\",\"marker\":{\"colorbar\":{\"outlinewidth\":0,\"ticks\":\"\"}}}],\"scatter3d\":[{\"type\":\"scatter3d\",\"line\":{\"colorbar\":{\"outlinewidth\":0,\"ticks\":\"\"}},\"marker\":{\"colorbar\":{\"outlinewidth\":0,\"ticks\":\"\"}}}],\"scattermapbox\":[{\"type\":\"scattermapbox\",\"marker\":{\"colorbar\":{\"outlinewidth\":0,\"ticks\":\"\"}}}],\"scatterternary\":[{\"type\":\"scatterternary\",\"marker\":{\"colorbar\":{\"outlinewidth\":0,\"ticks\":\"\"}}}],\"scattercarpet\":[{\"type\":\"scattercarpet\",\"marker\":{\"colorbar\":{\"outlinewidth\":0,\"ticks\":\"\"}}}],\"carpet\":[{\"aaxis\":{\"endlinecolor\":\"#2a3f5f\",\"gridcolor\":\"white\",\"linecolor\":\"white\",\"minorgridcolor\":\"white\",\"startlinecolor\":\"#2a3f5f\"},\"baxis\":{\"endlinecolor\":\"#2a3f5f\",\"gridcolor\":\"white\",\"linecolor\":\"white\",\"minorgridcolor\":\"white\",\"startlinecolor\":\"#2a3f5f\"},\"type\":\"carpet\"}],\"table\":[{\"cells\":{\"fill\":{\"color\":\"#EBF0F8\"},\"line\":{\"color\":\"white\"}},\"header\":{\"fill\":{\"color\":\"#C8D4E3\"},\"line\":{\"color\":\"white\"}},\"type\":\"table\"}],\"barpolar\":[{\"marker\":{\"line\":{\"color\":\"#E5ECF6\",\"width\":0.5},\"pattern\":{\"fillmode\":\"overlay\",\"size\":10,\"solidity\":0.2}},\"type\":\"barpolar\"}],\"pie\":[{\"automargin\":true,\"type\":\"pie\"}]},\"layout\":{\"autotypenumbers\":\"strict\",\"colorway\":[\"#636efa\",\"#EF553B\",\"#00cc96\",\"#ab63fa\",\"#FFA15A\",\"#19d3f3\",\"#FF6692\",\"#B6E880\",\"#FF97FF\",\"#FECB52\"],\"font\":{\"color\":\"#2a3f5f\"},\"hovermode\":\"closest\",\"hoverlabel\":{\"align\":\"left\"},\"paper_bgcolor\":\"white\",\"plot_bgcolor\":\"#E5ECF6\",\"polar\":{\"bgcolor\":\"#E5ECF6\",\"angularaxis\":{\"gridcolor\":\"white\",\"linecolor\":\"white\",\"ticks\":\"\"},\"radialaxis\":{\"gridcolor\":\"white\",\"linecolor\":\"white\",\"ticks\":\"\"}},\"ternary\":{\"bgcolor\":\"#E5ECF6\",\"aaxis\":{\"gridcolor\":\"white\",\"linecolor\":\"white\",\"ticks\":\"\"},\"baxis\":{\"gridcolor\":\"white\",\"linecolor\":\"white\",\"ticks\":\"\"},\"caxis\":{\"gridcolor\":\"white\",\"linecolor\":\"white\",\"ticks\":\"\"}},\"coloraxis\":{\"colorbar\":{\"outlinewidth\":0,\"ticks\":\"\"}},\"colorscale\":{\"sequential\":[[0.0,\"#0d0887\"],[0.1111111111111111,\"#46039f\"],[0.2222222222222222,\"#7201a8\"],[0.3333333333333333,\"#9c179e\"],[0.4444444444444444,\"#bd3786\"],[0.5555555555555556,\"#d8576b\"],[0.6666666666666666,\"#ed7953\"],[0.7777777777777778,\"#fb9f3a\"],[0.8888888888888888,\"#fdca26\"],[1.0,\"#f0f921\"]],\"sequentialminus\":[[0.0,\"#0d0887\"],[0.1111111111111111,\"#46039f\"],[0.2222222222222222,\"#7201a8\"],[0.3333333333333333,\"#9c179e\"],[0.4444444444444444,\"#bd3786\"],[0.5555555555555556,\"#d8576b\"],[0.6666666666666666,\"#ed7953\"],[0.7777777777777778,\"#fb9f3a\"],[0.8888888888888888,\"#fdca26\"],[1.0,\"#f0f921\"]],\"diverging\":[[0,\"#8e0152\"],[0.1,\"#c51b7d\"],[0.2,\"#de77ae\"],[0.3,\"#f1b6da\"],[0.4,\"#fde0ef\"],[0.5,\"#f7f7f7\"],[0.6,\"#e6f5d0\"],[0.7,\"#b8e186\"],[0.8,\"#7fbc41\"],[0.9,\"#4d9221\"],[1,\"#276419\"]]},\"xaxis\":{\"gridcolor\":\"white\",\"linecolor\":\"white\",\"ticks\":\"\",\"title\":{\"standoff\":15},\"zerolinecolor\":\"white\",\"automargin\":true,\"zerolinewidth\":2},\"yaxis\":{\"gridcolor\":\"white\",\"linecolor\":\"white\",\"ticks\":\"\",\"title\":{\"standoff\":15},\"zerolinecolor\":\"white\",\"automargin\":true,\"zerolinewidth\":2},\"scene\":{\"xaxis\":{\"backgroundcolor\":\"#E5ECF6\",\"gridcolor\":\"white\",\"linecolor\":\"white\",\"showbackground\":true,\"ticks\":\"\",\"zerolinecolor\":\"white\",\"gridwidth\":2},\"yaxis\":{\"backgroundcolor\":\"#E5ECF6\",\"gridcolor\":\"white\",\"linecolor\":\"white\",\"showbackground\":true,\"ticks\":\"\",\"zerolinecolor\":\"white\",\"gridwidth\":2},\"zaxis\":{\"backgroundcolor\":\"#E5ECF6\",\"gridcolor\":\"white\",\"linecolor\":\"white\",\"showbackground\":true,\"ticks\":\"\",\"zerolinecolor\":\"white\",\"gridwidth\":2}},\"shapedefaults\":{\"line\":{\"color\":\"#2a3f5f\"}},\"annotationdefaults\":{\"arrowcolor\":\"#2a3f5f\",\"arrowhead\":0,\"arrowwidth\":1},\"geo\":{\"bgcolor\":\"white\",\"landcolor\":\"#E5ECF6\",\"subunitcolor\":\"white\",\"showland\":true,\"showlakes\":true,\"lakecolor\":\"white\"},\"title\":{\"x\":0.05},\"mapbox\":{\"style\":\"light\"}}}},                        {\"responsive\": true}                    ).then(function(){\n",
       "                            \n",
       "var gd = document.getElementById('de97095f-23e0-4347-a342-03496569fc73');\n",
       "var x = new MutationObserver(function (mutations, observer) {{\n",
       "        var display = window.getComputedStyle(gd).display;\n",
       "        if (!display || display === 'none') {{\n",
       "            console.log([gd, 'removed!']);\n",
       "            Plotly.purge(gd);\n",
       "            observer.disconnect();\n",
       "        }}\n",
       "}});\n",
       "\n",
       "// Listen for the removal of the full notebook cells\n",
       "var notebookContainer = gd.closest('#notebook-container');\n",
       "if (notebookContainer) {{\n",
       "    x.observe(notebookContainer, {childList: true});\n",
       "}}\n",
       "\n",
       "// Listen for the clearing of the current output cell\n",
       "var outputEl = gd.closest('.output');\n",
       "if (outputEl) {{\n",
       "    x.observe(outputEl, {childList: true});\n",
       "}}\n",
       "\n",
       "                        })                };                });            </script>        </div>"
      ]
     },
     "metadata": {},
     "output_type": "display_data"
    },
    {
     "name": "stdout",
     "output_type": "stream",
     "text": [
      "\n",
      "Study statistics    : \n",
      "  Study name        : general_study_extended\n",
      "  # finished trials : 100\n",
      "  # pruned trials   : 0\n",
      "  # complete trials : 99\n",
      "\n",
      "Best trial          :\n",
      "\n",
      "No finished trials yet.\n"
     ]
    }
   ],
   "source": [
    "# Skip the cells that are unnecesary as diagram plots or data update\n",
    "train_nb = filter_nb(config.train_nb, ['skip'])\n",
    "\n",
    "obj = create_objective(config.train_nb, config.search_space, \n",
    "                       extra_params=config.extra_params, use_wandb=True)\n",
    "study = run_optuna_study(obj, study_type='bayesian', direction=val_metrics.get_study_directions(), path='./tmp',\n",
    "                 study_name=config.study_name, n_trials=config.n_trials)"
   ]
  },
  {
   "cell_type": "code",
   "execution_count": 20,
   "metadata": {},
   "outputs": [
    {
     "data": {
      "text/html": [
       "Tracking run with wandb version 0.17.4"
      ],
      "text/plain": [
       "<IPython.core.display.HTML object>"
      ]
     },
     "metadata": {},
     "output_type": "display_data"
    },
    {
     "data": {
      "text/html": [
       "W&B syncing is set to <code>`offline`<code> in this directory.  <br/>Run <code>`wandb online`<code> or set <code>WANDB_MODE=online<code> to enable cloud syncing."
      ],
      "text/plain": [
       "<IPython.core.display.HTML object>"
      ]
     },
     "metadata": {},
     "output_type": "display_data"
    }
   ],
   "source": [
    "run = wandb.init(config=config, mode=config.wandb_mode, \n",
    "                 job_type='optuna-study') if config.use_wandb else None"
   ]
  },
  {
   "cell_type": "code",
   "execution_count": 21,
   "metadata": {},
   "outputs": [],
   "source": [
    "if run is not None:\n",
    "    # Log best trials and their corresponding values\n",
    "    best_trials_info = {}\n",
    "    for i, trial in enumerate(study.best_trials):\n",
    "        best_trials_info[f'best_params_{i}'] = trial.params\n",
    "        best_trials_info[f'best_value_{i}'] = trial.values\n",
    "        best_trials_info[f'best_trial_number_{i}'] = trial.number\n",
    "    \n",
    "    run.log(best_trials_info)\n",
    "    run.log_artifact(f'./tmp/{config.study_name}.pkl', type='optuna_study')\n",
    "    \n",
    "    # Log visualizations\n",
    "    for i in range(len(study.directions)):  # Assuming each objective has a direction\n",
    "            run.log({\n",
    "                f'contour_obj_{i}': optuna.visualization.plot_contour(study, target=lambda t: t.values[i], target_name=f'Objective {i}'),\n",
    "                f'edf_obj_{i}': optuna.visualization.plot_edf(study, target=lambda t: t.values[i], target_name=f'Objective {i}'),\n",
    "                f'optimization_history_obj_{i}': optuna.visualization.plot_optimization_history(study, target=lambda t: t.values[i], target_name=f'Objective {i}'),\n",
    "                f'parallel_coordinate_obj_{i}': optuna.visualization.plot_parallel_coordinate(study, target=lambda t: t.values[i], target_name=f'Objective {i}'),\n",
    "                f'param_importances_obj_{i}': optuna.visualization.plot_param_importances(study, target=lambda t: t.values[i], target_name=f'Objective {i}'),\n",
    "                f'slice_obj_{i}': optuna.visualization.plot_slice(study, target=lambda t: t.values[i], target_name=f'Objective {i}')\n",
    "            })\n"
   ]
  },
  {
   "cell_type": "code",
   "execution_count": 22,
   "metadata": {},
   "outputs": [
    {
     "data": {
      "text/html": [
       "<style>\n",
       "    table.wandb td:nth-child(1) { padding: 0 10px; text-align: left ; width: auto;} td:nth-child(2) {text-align: left ; width: 100%}\n",
       "    .wandb-row { display: flex; flex-direction: row; flex-wrap: wrap; justify-content: flex-start; width: 100% }\n",
       "    .wandb-col { display: flex; flex-direction: column; flex-basis: 100%; flex: 1; padding: 10px; }\n",
       "    </style>\n",
       "<div class=\"wandb-row\"><div class=\"wandb-col\"><h3>Run history:</h3><br/><table class=\"wandb\"><tr><td>best_trial_number_0</td><td>▁</td></tr><tr><td>best_trial_number_1</td><td>▁</td></tr><tr><td>best_trial_number_10</td><td>▁</td></tr><tr><td>best_trial_number_11</td><td>▁</td></tr><tr><td>best_trial_number_12</td><td>▁</td></tr><tr><td>best_trial_number_13</td><td>▁</td></tr><tr><td>best_trial_number_14</td><td>▁</td></tr><tr><td>best_trial_number_15</td><td>▁</td></tr><tr><td>best_trial_number_16</td><td>▁</td></tr><tr><td>best_trial_number_17</td><td>▁</td></tr><tr><td>best_trial_number_18</td><td>▁</td></tr><tr><td>best_trial_number_19</td><td>▁</td></tr><tr><td>best_trial_number_2</td><td>▁</td></tr><tr><td>best_trial_number_20</td><td>▁</td></tr><tr><td>best_trial_number_21</td><td>▁</td></tr><tr><td>best_trial_number_22</td><td>▁</td></tr><tr><td>best_trial_number_23</td><td>▁</td></tr><tr><td>best_trial_number_24</td><td>▁</td></tr><tr><td>best_trial_number_25</td><td>▁</td></tr><tr><td>best_trial_number_26</td><td>▁</td></tr><tr><td>best_trial_number_27</td><td>▁</td></tr><tr><td>best_trial_number_28</td><td>▁</td></tr><tr><td>best_trial_number_29</td><td>▁</td></tr><tr><td>best_trial_number_3</td><td>▁</td></tr><tr><td>best_trial_number_30</td><td>▁</td></tr><tr><td>best_trial_number_31</td><td>▁</td></tr><tr><td>best_trial_number_32</td><td>▁</td></tr><tr><td>best_trial_number_33</td><td>▁</td></tr><tr><td>best_trial_number_34</td><td>▁</td></tr><tr><td>best_trial_number_35</td><td>▁</td></tr><tr><td>best_trial_number_36</td><td>▁</td></tr><tr><td>best_trial_number_37</td><td>▁</td></tr><tr><td>best_trial_number_38</td><td>▁</td></tr><tr><td>best_trial_number_39</td><td>▁</td></tr><tr><td>best_trial_number_4</td><td>▁</td></tr><tr><td>best_trial_number_40</td><td>▁</td></tr><tr><td>best_trial_number_41</td><td>▁</td></tr><tr><td>best_trial_number_42</td><td>▁</td></tr><tr><td>best_trial_number_43</td><td>▁</td></tr><tr><td>best_trial_number_44</td><td>▁</td></tr><tr><td>best_trial_number_45</td><td>▁</td></tr><tr><td>best_trial_number_46</td><td>▁</td></tr><tr><td>best_trial_number_47</td><td>▁</td></tr><tr><td>best_trial_number_48</td><td>▁</td></tr><tr><td>best_trial_number_49</td><td>▁</td></tr><tr><td>best_trial_number_5</td><td>▁</td></tr><tr><td>best_trial_number_50</td><td>▁</td></tr><tr><td>best_trial_number_51</td><td>▁</td></tr><tr><td>best_trial_number_52</td><td>▁</td></tr><tr><td>best_trial_number_53</td><td>▁</td></tr><tr><td>best_trial_number_54</td><td>▁</td></tr><tr><td>best_trial_number_55</td><td>▁</td></tr><tr><td>best_trial_number_56</td><td>▁</td></tr><tr><td>best_trial_number_57</td><td>▁</td></tr><tr><td>best_trial_number_58</td><td>▁</td></tr><tr><td>best_trial_number_6</td><td>▁</td></tr><tr><td>best_trial_number_7</td><td>▁</td></tr><tr><td>best_trial_number_8</td><td>▁</td></tr><tr><td>best_trial_number_9</td><td>▁</td></tr></table><br/></div><div class=\"wandb-col\"><h3>Run summary:</h3><br/><table class=\"wandb\"><tr><td>best_trial_number_0</td><td>1</td></tr><tr><td>best_trial_number_1</td><td>2</td></tr><tr><td>best_trial_number_10</td><td>12</td></tr><tr><td>best_trial_number_11</td><td>15</td></tr><tr><td>best_trial_number_12</td><td>16</td></tr><tr><td>best_trial_number_13</td><td>18</td></tr><tr><td>best_trial_number_14</td><td>20</td></tr><tr><td>best_trial_number_15</td><td>22</td></tr><tr><td>best_trial_number_16</td><td>23</td></tr><tr><td>best_trial_number_17</td><td>24</td></tr><tr><td>best_trial_number_18</td><td>25</td></tr><tr><td>best_trial_number_19</td><td>31</td></tr><tr><td>best_trial_number_2</td><td>3</td></tr><tr><td>best_trial_number_20</td><td>35</td></tr><tr><td>best_trial_number_21</td><td>37</td></tr><tr><td>best_trial_number_22</td><td>38</td></tr><tr><td>best_trial_number_23</td><td>39</td></tr><tr><td>best_trial_number_24</td><td>41</td></tr><tr><td>best_trial_number_25</td><td>43</td></tr><tr><td>best_trial_number_26</td><td>44</td></tr><tr><td>best_trial_number_27</td><td>46</td></tr><tr><td>best_trial_number_28</td><td>47</td></tr><tr><td>best_trial_number_29</td><td>48</td></tr><tr><td>best_trial_number_3</td><td>4</td></tr><tr><td>best_trial_number_30</td><td>49</td></tr><tr><td>best_trial_number_31</td><td>50</td></tr><tr><td>best_trial_number_32</td><td>52</td></tr><tr><td>best_trial_number_33</td><td>53</td></tr><tr><td>best_trial_number_34</td><td>54</td></tr><tr><td>best_trial_number_35</td><td>56</td></tr><tr><td>best_trial_number_36</td><td>57</td></tr><tr><td>best_trial_number_37</td><td>62</td></tr><tr><td>best_trial_number_38</td><td>63</td></tr><tr><td>best_trial_number_39</td><td>64</td></tr><tr><td>best_trial_number_4</td><td>5</td></tr><tr><td>best_trial_number_40</td><td>67</td></tr><tr><td>best_trial_number_41</td><td>68</td></tr><tr><td>best_trial_number_42</td><td>70</td></tr><tr><td>best_trial_number_43</td><td>71</td></tr><tr><td>best_trial_number_44</td><td>76</td></tr><tr><td>best_trial_number_45</td><td>78</td></tr><tr><td>best_trial_number_46</td><td>80</td></tr><tr><td>best_trial_number_47</td><td>81</td></tr><tr><td>best_trial_number_48</td><td>83</td></tr><tr><td>best_trial_number_49</td><td>84</td></tr><tr><td>best_trial_number_5</td><td>6</td></tr><tr><td>best_trial_number_50</td><td>87</td></tr><tr><td>best_trial_number_51</td><td>89</td></tr><tr><td>best_trial_number_52</td><td>90</td></tr><tr><td>best_trial_number_53</td><td>91</td></tr><tr><td>best_trial_number_54</td><td>92</td></tr><tr><td>best_trial_number_55</td><td>93</td></tr><tr><td>best_trial_number_56</td><td>96</td></tr><tr><td>best_trial_number_57</td><td>97</td></tr><tr><td>best_trial_number_58</td><td>98</td></tr><tr><td>best_trial_number_6</td><td>7</td></tr><tr><td>best_trial_number_7</td><td>9</td></tr><tr><td>best_trial_number_8</td><td>10</td></tr><tr><td>best_trial_number_9</td><td>11</td></tr></table><br/></div></div>"
      ],
      "text/plain": [
       "<IPython.core.display.HTML object>"
      ]
     },
     "metadata": {},
     "output_type": "display_data"
    },
    {
     "data": {
      "text/html": [
       "You can sync this run to the cloud by running:<br/><code>wandb sync /workspaces/sw-driver-forecaster/dev_nbs/wandb/offline-run-20240822_142518-35lthea7<code>"
      ],
      "text/plain": [
       "<IPython.core.display.HTML object>"
      ]
     },
     "metadata": {},
     "output_type": "display_data"
    },
    {
     "data": {
      "text/html": [
       "Find logs at: <code>./wandb/offline-run-20240822_142518-35lthea7/logs</code>"
      ],
      "text/plain": [
       "<IPython.core.display.HTML object>"
      ]
     },
     "metadata": {},
     "output_type": "display_data"
    },
    {
     "data": {
      "text/html": [
       "The new W&B backend becomes opt-out in version 0.18.0; try it out with `wandb.require(\"core\")`! See https://wandb.me/wandb-core for more information."
      ],
      "text/plain": [
       "<IPython.core.display.HTML object>"
      ]
     },
     "metadata": {},
     "output_type": "display_data"
    }
   ],
   "source": [
    "if run is not None:\n",
    "    run.finish()"
   ]
  }
 ],
 "metadata": {
  "kernelspec": {
   "display_name": "Python 3 (ipykernel)",
   "language": "python",
   "name": "python3"
  },
  "language_info": {
   "codemirror_mode": {
    "name": "ipython",
    "version": 3
   },
   "file_extension": ".py",
   "mimetype": "text/x-python",
   "name": "python",
   "nbconvert_exporter": "python",
   "pygments_lexer": "ipython3",
   "version": "3.10.12"
  },
  "vscode": {
   "interpreter": {
    "hash": "949777d72b0d2535278d3dc13498b2535136f6dfe0678499012e853ee9abcab1"
   }
  }
 },
 "nbformat": 4,
 "nbformat_minor": 4
}
