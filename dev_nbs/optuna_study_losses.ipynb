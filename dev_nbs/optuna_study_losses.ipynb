{
 "cells": [
  {
   "cell_type": "markdown",
   "metadata": {},
   "source": [
    "# Optuna study\n",
    "\n",
    "> Combine it with papermill and wandb for seamless hyperparameter tuning"
   ]
  },
  {
   "cell_type": "code",
   "execution_count": 9,
   "metadata": {},
   "outputs": [],
   "source": [
    "import sys\n",
    "sys.path.append('..')\n",
    "import os\n",
    "import optuna\n",
    "from tsai.optuna import *\n",
    "from tsai.basics import load_object\n",
    "import papermill as pm\n",
    "from fastcore.basics import *\n",
    "from optuna.distributions import *\n",
    "from optuna.samplers import TPESampler\n",
    "import wandb\n",
    "from swdf.metrics import ValidationMetricsHandler\n",
    "from swdf.losses import LossFactory"
   ]
  },
  {
   "cell_type": "code",
   "execution_count": 10,
   "metadata": {},
   "outputs": [
    {
     "data": {
      "text/html": [
       "\n",
       "        <table>\n",
       "            <thead>\n",
       "                <tr>\n",
       "                    <th style='text-align: left;'>Metric Name</th>\n",
       "                    <th style='text-align: left;'>Description</th>\n",
       "                </tr>\n",
       "            </thead>\n",
       "            <tbody>\n",
       "                <tr><td style='text-align: left;'><strong>Precision</strong></td><td style='text-align: left;'><p>Calculate the precision metric, which measures the ratio of correctly predicted positive observations to the total predicted positives.</p>          <h3>Parameters:</h3>         <ul>             <li>y_true (torch.Tensor): Actual values tensor of shape (batch_size, variables, horizon)</li>             <li>y_pred (torch.Tensor): Predicted values tensor of the same shape as y_true</li>         </ul>          <h3>Returns:</h3>         <p>torch.Tensor: Precision score<p></td></tr><tr><td style='text-align: left;'><strong>Recall</strong></td><td style='text-align: left;'><p>Calculate the recall metric, which measures the ratio of correctly predicted positive observations to all observations in the actual class.</p>          <h3>Parameters:</h3>         <ul>             <li>y_true (torch.Tensor): Actual values tensor of shape (batch_size, variables, horizon)</li>             <li>y_pred (torch.Tensor): Predicted values tensor of the same shape as y_true</li>         </ul>          <h3>Returns:</h3>         <p>torch.Tensor: Recall score<p></td></tr><tr><td style='text-align: left;'><strong>F1_Score</strong></td><td style='text-align: left;'><p>Calculate the F1 score, which is the harmonic mean of precision and recall. It is used as a measure of a model’s accuracy on a dataset.</p>          <h3>Parameters:</h3>         <ul>             <li>y_true (torch.Tensor): Actual values tensor of shape (batch_size, variables, horizon)</li>             <li>y_pred (torch.Tensor): Predicted values tensor of the same shape as y_true</li>         </ul>          <h3>Returns:</h3>         <p>torch.Tensor: F1 score<p></td></tr><tr><td style='text-align: left;'><strong>Accuracy_Score</strong></td><td style='text-align: left;'><p>Calculate the accuracy score, which is the ratio of correctly predicted observations to the total observations.</p>          <h3>Parameters:</h3>         <ul>             <li>y_true (torch.Tensor): Actual values tensor of shape (batch_size, variables, horizon)</li>             <li>y_pred (torch.Tensor): Predicted values tensor of the same shape as y_true</li>         </ul>          <h3>Returns:</h3>         <p>torch.Tensor: Accuracy score<p></td></tr><tr><td style='text-align: left;'><strong>Specificity</strong></td><td style='text-align: left;'><p>Calculate the specificity metric, which measures the proportion of true negatives that are correctly identified.</p>          <h3>Parameters:</h3>         <ul>             <li>y_true (torch.Tensor): Actual values tensor of shape (batch_size, variables, horizon)</li>             <li>y_pred (torch.Tensor): Predicted values tensor of the same shape as y_true</li>         </ul>          <h3>Returns:</h3>         <p>torch.Tensor: Specificity score<p></td></tr><tr><td style='text-align: left;'><strong>Negative_Predictive_Value</strong></td><td style='text-align: left;'><p>Calculate the Negative Predictive Value (NPV), which measures the proportion of true negatives among all negative predictions.</p>          <h3>Parameters:</h3>         <ul>             <li>y_true (torch.Tensor): Actual values tensor of shape (batch_size, variables, horizon)</li>             <li>y_pred (torch.Tensor): Predicted values tensor of the same shape as y_true</li>         </ul>          <h3>Returns:</h3>         <p>torch.Tensor: Negative Predictive Value score<p></td></tr><tr><td style='text-align: left;'><strong>Detected_Outliers_Difference</strong></td><td style='text-align: left;'><p>Calculate the change in detected outliers (Δ Detected Outliers), representing the number of true outliers not predicted as outliers.</p>          <h3>Parameters:</h3>         <ul>             <li>y_true (torch.Tensor): Actual values tensor of shape (batch_size, variables, horizon)</li>             <li>y_pred (torch.Tensor): Predicted values tensor of the same shape as y_true</li>         </ul>          <h3>Returns:</h3>         <p>torch.Tensor: Count of undetected outliers<p></td></tr><tr><td style='text-align: left;'><strong>AURPC</strong></td><td style='text-align: left;'><p>Calculate the Area Under the Precision-Recall Curve (AUPRC), a          metric used to evaluate the effectiveness of a model in identifying rare, important events (outliers)</p>                  <h3>Parameters:</h3>         <ul>             <li>y_true (torch.Tensor): Actual values tensor of shape (batch_size, variables, horizon)</li>             <li>y_pred (torch.Tensor): Predicted values tensor of the same shape as y_true</li>                  <h3>Returns:</h3>         <p>torch.Tensor: AUPRC score<p></td></tr><tr><td style='text-align: left;'><strong>Skewness_Difference</strong></td><td style='text-align: left;'><p>Calculate the absolute difference in skewness between the actual and predicted values, which measures the asymmetry of the data distribution.</p>          <h3>Parameters:</h3>         <ul>             <li>y_true (torch.Tensor): Actual values tensor of shape (batch_size, variables, horizon)</li>             <li>y_pred (torch.Tensor): Predicted values tensor of the same shape as y_true</li>         </ul>          <h3>Returns:</h3>         <p>torch.Tensor: Absolute difference in skewness between y_true and y_pred<p></td></tr><tr><td style='text-align: left;'><strong>Kurtosis_Difference</strong></td><td style='text-align: left;'><p>Calculate the absolute difference in kurtosis between the actual and predicted values, which measures the tailedness of the data distribution.</p>          <h3>Parameters:</h3>         <ul>             <li>y_true (torch.Tensor): Actual values tensor of shape (batch_size, variables, horizon)</li>             <li>y_pred (torch.Tensor): Predicted values tensor of the same shape as y_true</li>         </ul>          <h3>Returns:</h3>         <p>torch.Tensor: Absolute difference in kurtosis between y_true and y_pred<p></td></tr><tr><td style='text-align: left;'><strong>R_Correlation</strong></td><td style='text-align: left;'><p>Calculate the Pearson Correlation Coefficient (R Correlation) between true and predicted values.</p>                  <h3>Parameters:</h3>         <ul>             <li>y_true (torch.Tensor): Actual values tensor of shape (batch_size, variables, horizon)</li>             <li>y_pred (torch.Tensor): Predicted values tensor of the same shape as y_true</li>         </ul>                  <h3>Returns:</h3>         <p>torch.Tensor: R Correlation coefficient<p></td></tr><tr><td style='text-align: left;'><strong>R2_Score</strong></td><td style='text-align: left;'><p>Calculate the R^2 score, which measures the proportion of the variance in the dependent variable that is predictable from the independent variable(s).</p>                  <h3>Parameters:</h3>         <ul>             <li>y_true (torch.Tensor): Actual values tensor of shape (batch_size, variables, horizon)</li>             <li>y_pred (torch.Tensor): Predicted values tensor of the same shape as y_true</li>         </ul>                  <h3>Returns:</h3>         <p>torch.Tensor: R^2 score<p></td></tr><tr><td style='text-align: left;'><strong>sMAPE</strong></td><td style='text-align: left;'>Calculate the Symmetric Mean Absolute Percentage Error (sMAPE).                  Parameters:         y_true (torch.Tensor): Actual values tensor of shape (batch_size, variables, horizon)         y_pred (torch.Tensor): Predicted values tensor of the same shape as y_true                  Returns:         torch.Tensor: sMAPE value</td></tr><tr><td style='text-align: left;'><strong>MSA</strong></td><td style='text-align: left;'>Calculate the Mean Scaled Absolute Error (MSA).                  Parameters:         y_true (torch.Tensor): Actual values tensor of shape (batch_size, variables, horizon)         y_pred (torch.Tensor): Predicted values tensor of the same shape as y_true                  Returns:         torch.Tensor: MSA value</td></tr><tr><td style='text-align: left;'><strong>SSPB</strong></td><td style='text-align: left;'><p>Calculate the Symmetric Signed Percentage Bias (SSPB), which measures the percentage bias with consideration for the direction of the bias.</p>                  <h3>Parameters:</h3>         <ul>             <li>y_true (torch.Tensor): Actual values tensor of shape (batch_size, variables, horizon)</li>             <li>y_pred (torch.Tensor): Predicted values tensor of the same shape as y_true</li>         </ul>                  <h3>Returns:</h3>         <p>torch.Tensor: SSPB value<p></td></tr>\n",
       "            </tbody>\n",
       "        </table>\n",
       "        "
      ],
      "text/plain": [
       "<IPython.core.display.HTML object>"
      ]
     },
     "metadata": {},
     "output_type": "display_data"
    }
   ],
   "source": [
    "val_metrics = ValidationMetricsHandler \n",
    "val_metrics.list()"
   ]
  },
  {
   "cell_type": "code",
   "execution_count": 11,
   "metadata": {},
   "outputs": [
    {
     "data": {
      "text/plain": [
       "['MSE',\n",
       " 'MAE',\n",
       " 'MSLE',\n",
       " 'RMSLE',\n",
       " 'Hubber',\n",
       " 'Quantile',\n",
       " 'wMSE',\n",
       " 'wMAE',\n",
       " 'wMSLE',\n",
       " 'wRMSLE',\n",
       " 'wHubber',\n",
       " 'wQuantile',\n",
       " 'Classification',\n",
       " 'Trended']"
      ]
     },
     "execution_count": 11,
     "metadata": {},
     "output_type": "execute_result"
    }
   ],
   "source": [
    "losses = list(LossFactory.losses.keys())\n",
    "primary_losses = losses[:-2] # Primary losses are the ones that do not need another loss to function.\n",
    "\n",
    "losses"
   ]
  },
  {
   "cell_type": "code",
   "execution_count": 12,
   "metadata": {},
   "outputs": [
    {
     "data": {
      "text/markdown": [
       "```json\n",
       "{ 'extra_params': { 'bs': 32,\n",
       "                    'is_optuna_study': True,\n",
       "                    'main_metric': 'R2_Score',\n",
       "                    'metrics': [ 'sMAPE',\n",
       "                                 'MSA',\n",
       "                                 'F1_Score',\n",
       "                                 'R2_Score',\n",
       "                                 'R_Correlation',\n",
       "                                 'SSPB'],\n",
       "                    'n_epoch': 50},\n",
       "  'loss_config': { 'alpha': FloatDistribution(high=0.9, log=False, low=0.1, step=0.05),\n",
       "                   'delta': FloatDistribution(high=10.0, log=False, low=0.2, step=0.2),\n",
       "                   'primary_loss': CategoricalDistribution(choices=('MSE', 'MAE', 'MSLE', 'RMSLE', 'Hubber', 'Quantile', 'wMSE', 'wMAE', 'wMSLE', 'wRMSLE', 'wHubber', 'wQuantile')),\n",
       "                   'quantile': FloatDistribution(high=0.9, log=False, low=0.1, step=0.05)},\n",
       "  'n_trials': 100,\n",
       "  'search_space': { 'arch.attn_dropout': DiscreteUniformDistribution(high=0.5, low=0.0, q=0.1),\n",
       "                    'arch.d_ff': IntUniformDistribution(high=512, low=32, step=32),\n",
       "                    'arch.d_model': IntUniformDistribution(high=512, low=32, step=32),\n",
       "                    'arch.decomposition': CategoricalDistribution(choices=(True, False)),\n",
       "                    'arch.dropout': DiscreteUniformDistribution(high=0.5, low=0.0, q=0.1),\n",
       "                    'arch.individual': CategoricalDistribution(choices=(True, False)),\n",
       "                    'arch.n_heads': CategoricalDistribution(choices=(2, 4, 8, 16, 32)),\n",
       "                    'arch.n_layers': IntUniformDistribution(high=6, low=1, step=1),\n",
       "                    'init_weights': CategoricalDistribution(choices=(True, False)),\n",
       "                    'lookback': CategoricalDistribution(choices=(18, 24, 36, 128, 192)),\n",
       "                    'loss_func': CategoricalDistribution(choices=('MSE', 'MAE', 'MSLE', 'RMSLE', 'Hubber', 'Quantile', 'wMSE', 'wMAE', 'wMSLE', 'wRMSLE', 'wHubber', 'wQuantile', 'Classification', 'Trended'))},\n",
       "  'study_name': 'general_study_extended',\n",
       "  'study_type': 'bayesian',\n",
       "  'train_nb': '/workspaces/sw-driver-forecaster/dev_nbs/solfsmy_train.ipynb',\n",
       "  'use_wandb': True,\n",
       "  'wandb_mode': 'offline'}\n",
       "```"
      ],
      "text/plain": [
       "{'study_name': 'general_study_extended',\n",
       " 'study_type': 'bayesian',\n",
       " 'n_trials': 100,\n",
       " 'train_nb': '/workspaces/sw-driver-forecaster/dev_nbs/solfsmy_train.ipynb',\n",
       " 'search_space': {'arch.attn_dropout': DiscreteUniformDistribution(high=0.5, low=0.0, q=0.1),\n",
       "  'arch.d_model': IntUniformDistribution(high=512, low=32, step=32),\n",
       "  'arch.d_ff': IntUniformDistribution(high=512, low=32, step=32),\n",
       "  'arch.decomposition': CategoricalDistribution(choices=(True, False)),\n",
       "  'arch.dropout': DiscreteUniformDistribution(high=0.5, low=0.0, q=0.1),\n",
       "  'arch.individual': CategoricalDistribution(choices=(True, False)),\n",
       "  'arch.n_layers': IntUniformDistribution(high=6, low=1, step=1),\n",
       "  'arch.n_heads': CategoricalDistribution(choices=(2, 4, 8, 16, 32)),\n",
       "  'init_weights': CategoricalDistribution(choices=(True, False)),\n",
       "  'lookback': CategoricalDistribution(choices=(18, 24, 36, 128, 192)),\n",
       "  'loss_func': CategoricalDistribution(choices=('MSE', 'MAE', 'MSLE', 'RMSLE', 'Hubber', 'Quantile', 'wMSE', 'wMAE', 'wMSLE', 'wRMSLE', 'wHubber', 'wQuantile', 'Classification', 'Trended'))},\n",
       " 'loss_config': {'delta': FloatDistribution(high=10.0, log=False, low=0.2, step=0.2),\n",
       "  'quantile': FloatDistribution(high=0.9, log=False, low=0.1, step=0.05),\n",
       "  'alpha': FloatDistribution(high=0.9, log=False, low=0.1, step=0.05),\n",
       "  'primary_loss': CategoricalDistribution(choices=('MSE', 'MAE', 'MSLE', 'RMSLE', 'Hubber', 'Quantile', 'wMSE', 'wMAE', 'wMSLE', 'wRMSLE', 'wHubber', 'wQuantile'))},\n",
       " 'extra_params': {'n_epoch': 50,\n",
       "  'bs': 32,\n",
       "  'is_optuna_study': True,\n",
       "  'metrics': ['sMAPE', 'MSA', 'F1_Score', 'R2_Score', 'R_Correlation', 'SSPB'],\n",
       "  'main_metric': 'R2_Score'},\n",
       " 'use_wandb': True,\n",
       " 'wandb_mode': 'offline'}"
      ]
     },
     "execution_count": 12,
     "metadata": {},
     "output_type": "execute_result"
    }
   ],
   "source": [
    "metrics = [\n",
    "    'sMAPE',\n",
    "    'MSA',\n",
    "    'F1_Score',\n",
    "    'R2_Score',\n",
    "    'R_Correlation', \n",
    "    'SSPB'\n",
    "]\n",
    "\n",
    "val_metrics = val_metrics(metrics)\n",
    "\n",
    "\n",
    "config = AttrDict(\n",
    "    study_name = 'general_study_extended', # name of the Optuna study\n",
    "    study_type = 'bayesian', # 'bayesian' or 'gridsearch' or 'random'\n",
    "    n_trials = 100, # number of trials\n",
    "    train_nb = f'{os.getcwd()}/solfsmy_train.ipynb', # path to the notebook to be executed\n",
    "    search_space = {\n",
    "        \"arch.attn_dropout\": DiscreteUniformDistribution(0.0, 0.5, 0.1),\n",
    "        \"arch.d_model\": IntUniformDistribution(32, 512, 32),\n",
    "        \"arch.d_ff\": IntUniformDistribution(32, 512, 32),\n",
    "        \"arch.decomposition\": CategoricalDistribution([True, False]),\n",
    "        \"arch.dropout\": DiscreteUniformDistribution(0.0, 0.5, 0.1), \n",
    "        \"arch.individual\": CategoricalDistribution([True, False]),\n",
    "        \"arch.n_layers\": IntUniformDistribution(1, 6, 1),\n",
    "        \"arch.n_heads\": CategoricalDistribution([2, 4, 8, 16, 32]),\n",
    "        \"init_weights\": CategoricalDistribution([True, False]), # true = kaiming\n",
    "        \"lookback\": CategoricalDistribution([18, 24, 36, 128, 192]),\n",
    "        \"loss_func\": CategoricalDistribution(losses),\n",
    "    },\n",
    "    loss_config = {\n",
    "        \"delta\": FloatDistribution(0.2, 10., step=0.2),\n",
    "        \"quantile\": FloatDistribution(0.1, 0.9, step=0.05),\n",
    "        \"alpha\": FloatDistribution(0.1, 0.9, step=0.05),\n",
    "        \"primary_loss\": CategoricalDistribution(primary_losses),\n",
    "    },\n",
    "    # Add extra parameters that are fixed, but not part of the search space\n",
    "    extra_params = {\n",
    "        \"n_epoch\": 50,\n",
    "        \"bs\": 32,\n",
    "        \"is_optuna_study\": True,\n",
    "        \"metrics\": metrics,\n",
    "        \"main_metric\": 'R2_Score',\n",
    "    },\n",
    "    use_wandb = True,\n",
    "    wandb_mode = 'offline'\n",
    ")\n",
    "\n",
    "%store -d best_valid_metrics                                            \n",
    "\n",
    "config"
   ]
  },
  {
   "cell_type": "code",
   "execution_count": 13,
   "metadata": {},
   "outputs": [],
   "source": [
    "def create_objective(train_nb, search_space, extra_params=None, use_wandb=False):\n",
    "    \"\"\"\n",
    "        Create objective function to be minimized by Optuna.\n",
    "        Inputs:\n",
    "            trial: Optuna trial object\n",
    "            train_nb: path to the training notebook\n",
    "            search_vars: keys of the search space to be used\n",
    "            wandb_group: name of the wandb group to be used\n",
    "        Output:\n",
    "            valid_loss: validation loss\n",
    "    \"\"\"\n",
    "    def objective(trial:optuna.Trial):\n",
    "        # Define the parameters to be passed to the training notebook through papermill\n",
    "        pm_parameters = {}\n",
    "        for k,v in search_space.items():\n",
    "            pm_parameters['config.' + k] = trial._suggest(k, v)\n",
    "            if k == 'loss_func':\n",
    "                if v in ['Hubber', 'wHubber']:\n",
    "                    pm_parameters['config.loss_config'] = {\n",
    "                        'delta': trial._suggest('delta', config.loss_config['delta'])\n",
    "                    }\n",
    "\n",
    "                elif v in ['Quantile', 'wQuantile']:\n",
    "                    pm_parameters['config.loss_config'] = {\n",
    "                        'quantile': trial._suggest('quantile', config.loss_config['quantile'])\n",
    "                    }\n",
    "            \n",
    "                elif v == 'classification':\n",
    "                    pm_parameters['config.loss_config'] = {\n",
    "                        'alpha': trial._suggest('alpha', config.loss_config['alpha']),\n",
    "                        'primary_loss': trial._suggest('primary_loss', config.loss_config['primary_loss'])\n",
    "                    }\n",
    "\n",
    "                elif v == 'Trended':\n",
    "                    pm_parameters['config.loss_config'] = {\n",
    "                        'primary_loss': trial._suggest('primary_loss', config.loss_config['primary_loss'])\n",
    "                    }\n",
    "                else:\n",
    "                    pm_parameters['config.loss_config'] = {}\n",
    "\n",
    "        # Add the extra parameters to the dictionary. The key of every parameter \n",
    "        # must be 'config.<param_name>'\n",
    "        if extra_params is not None:\n",
    "            for k,v in extra_params.items():\n",
    "                pm_parameters['config.' + k] = v\n",
    "                \n",
    "        # If using wandb, enable that in the training runs, all of them gathered\n",
    "        # into a group (NOTE: The train nb must have and use these config arguments)\n",
    "        if use_wandb:\n",
    "            pm_parameters['config.use_wandb'] = True\n",
    "            pm_parameters['config.wandb_group'] = config.study_name + '_runs'\n",
    "\n",
    "        # Call the training notebook using papermill (don't print the output)\n",
    "        stdout_file = open('tmp/pm_stdout.txt', 'w')\n",
    "        stderr_file = open('tmp/pm_stderr.txt', 'w')\n",
    "\n",
    "        pm.execute_notebook(\n",
    "            train_nb,\n",
    "            './tmp/pm_output.ipynb',\n",
    "            parameters = pm_parameters,\n",
    "            stdout_file = stdout_file,\n",
    "            stderr_file = stderr_file\n",
    "        )\n",
    "\n",
    "        # Close the output files\n",
    "        stdout_file.close()\n",
    "        stderr_file.close()\n",
    "\n",
    "        # Get the output value of interest from the source notebook\n",
    "\n",
    "        %store -r valid_metrics\n",
    "        objective_values = val_metrics.get_objective_values(valid_metrics)\n",
    "        \n",
    "        return *objective_values,\n",
    "\n",
    "    return objective"
   ]
  },
  {
   "cell_type": "code",
   "execution_count": 14,
   "metadata": {},
   "outputs": [],
   "source": [
    "\n",
    "from pathlib import Path\n",
    "from fastcore.script import *\n",
    "import joblib\n",
    "from importlib import import_module\n",
    "import warnings\n",
    "warnings.filterwarnings(\"ignore\")\n",
    "\n",
    "def run_optuna_study(objective, resume=None, study_type=None, multivariate=True, search_space=None, evaluate=None, seed=None, sampler=None, pruner=None, \n",
    "                     study_name=None, direction='maximize', n_trials=None, timeout=None, gc_after_trial=False, show_progress_bar=True, \n",
    "                     save_study=True, path='optuna', show_plots=True):\n",
    "    r\"\"\"Creates and runs an optuna study.\n",
    "\n",
    "    Args: \n",
    "        objective:          A callable that implements objective function.\n",
    "        resume:             Path to a previously saved study.\n",
    "        study_type:         Type of study selected (bayesian, gridsearch, randomsearch). Based on this a sampler will be build if sampler is None. \n",
    "                            If a sampler is passed, this has no effect.\n",
    "        multivariate:       If this is True, the multivariate TPE is used when suggesting parameters. The multivariate TPE is reported to outperform \n",
    "                            the independent TPE.\n",
    "        search_space:       Search space required when running a gridsearch (if you don't pass a sampler).\n",
    "        evaluate:           Allows you to pass a specific set of hyperparameters that will be evaluated.\n",
    "        seed:               Fixed seed used by samplers.\n",
    "        sampler:            A sampler object that implements background algorithm for value suggestion. If None is specified, TPESampler is used during \n",
    "                            single-objective optimization and NSGAIISampler during multi-objective optimization. See also samplers.\n",
    "        pruner:             A pruner object that decides early stopping of unpromising trials. If None is specified, MedianPruner is used as the default. \n",
    "                            See also pruners.\n",
    "        study_name:         Study’s name. If this argument is set to None, a unique name is generated automatically.\n",
    "        direction:          A sequence of directions during multi-objective optimization.\n",
    "        n_trials:           The number of trials. If this argument is set to None, there is no limitation on the number of trials. If timeout is also set to \n",
    "                            None, the study continues to create trials until it receives a termination signal such as Ctrl+C or SIGTERM.\n",
    "        timeout:            Stop study after the given number of second(s). If this argument is set to None, the study is executed without time limitation. \n",
    "                            If n_trials is also set to None, the study continues to create trials until it receives a termination signal such as \n",
    "                            Ctrl+C or SIGTERM.\n",
    "        gc_after_trial:     Flag to execute garbage collection at the end of each trial. By default, garbage collection is enabled, just in case. \n",
    "                            You can turn it off with this argument if memory is safely managed in your objective function.\n",
    "        show_progress_bar:  Flag to show progress bars or not. To disable progress bar, set this False.\n",
    "        save_study:         Save your study when finished/ interrupted.\n",
    "        path:               Folder where the study will be saved.\n",
    "        show_plots:         Flag to control whether plots are shown at the end of the study.\n",
    "    \"\"\"\n",
    "    \n",
    "    try: import optuna\n",
    "    except ImportError: raise ImportError('You need to install optuna to use run_optuna_study')\n",
    "\n",
    "    # Sampler\n",
    "    if sampler is None:\n",
    "        if study_type is None or \"bayes\" in study_type.lower(): \n",
    "            sampler = optuna.samplers.TPESampler(seed=seed, multivariate=multivariate)\n",
    "        elif \"grid\" in study_type.lower():\n",
    "            assert search_space, f\"you need to pass a search_space dict to run a gridsearch\"\n",
    "            sampler = optuna.samplers.GridSampler(search_space)\n",
    "        elif \"random\" in study_type.lower(): \n",
    "            sampler = optuna.samplers.RandomSampler(seed=seed)\n",
    "    assert sampler, \"you need to either select a study type (bayesian, gridsampler, randomsampler) or pass a sampler\"\n",
    "\n",
    "    # Study\n",
    "    if resume: \n",
    "        try:\n",
    "            study = joblib.load(resume)\n",
    "        except: \n",
    "            print(f\"joblib.load({resume}) couldn't recover any saved study. Check the path.\")\n",
    "            return\n",
    "        print(\"Best trial until now:\")\n",
    "        print(\" Value: \", study.best_trial.value)\n",
    "        print(\" Params: \")\n",
    "        for key, value in study.best_trial.params.items():\n",
    "            print(f\"    {key}: {value}\")\n",
    "    else: \n",
    "        study = optuna.create_study(sampler=sampler, pruner=pruner, study_name=study_name, directions=direction)\n",
    "    if evaluate: study.enqueue_trial(evaluate)\n",
    "    try:\n",
    "        study.optimize(objective, n_trials=n_trials, timeout=timeout, gc_after_trial=gc_after_trial, show_progress_bar=show_progress_bar)\n",
    "    except KeyboardInterrupt:\n",
    "        pass\n",
    "\n",
    "    # Save\n",
    "    if save_study:\n",
    "        full_path = Path(path)/f'{study.study_name}.pkl'\n",
    "        full_path.parent.mkdir(parents=True, exist_ok=True)\n",
    "        joblib.dump(study, full_path)\n",
    "        print(f'\\nOptuna study saved to {full_path}')\n",
    "        print(f\"To reload the study run: study = joblib.load('{full_path}')\")\n",
    "\n",
    "    # Plots\n",
    "    if show_plots and len(study.trials) > 1:\n",
    "        try: display(optuna.visualization.plot_optimization_history(study))\n",
    "        except: pass\n",
    "        try: display(optuna.visualization.plot_param_importances(study))\n",
    "        except: pass\n",
    "        try: display(optuna.visualization.plot_slice(study))\n",
    "        except: pass\n",
    "        try: display(optuna.visualization.plot_parallel_coordinate(study))\n",
    "        except: pass\n",
    "\n",
    "    # Study stats\n",
    "    try:\n",
    "        pruned_trials = [t for t in study.trials if t.state == optuna.trial.TrialState.PRUNED]\n",
    "        complete_trials = [t for t in study.trials if t.state == optuna.trial.TrialState.COMPLETE]\n",
    "        print(f\"\\nStudy statistics    : \")\n",
    "        print(f\"  Study name        : {study.study_name}\")\n",
    "        print(f\"  # finished trials : {len(study.trials)}\")\n",
    "        print(f\"  # pruned trials   : {len(pruned_trials)}\")\n",
    "        print(f\"  # complete trials : {len(complete_trials)}\")\n",
    "        \n",
    "        print(f\"\\nBest trial          :\")\n",
    "        trial = study.best_trial\n",
    "        print(f\"  value             : {trial.value}\")\n",
    "        print(f\"  best_params = {trial.params}\\n\")\n",
    "    except:\n",
    "        print('\\nNo finished trials yet.')\n",
    "    return study\n"
   ]
  },
  {
   "cell_type": "code",
   "execution_count": 15,
   "metadata": {},
   "outputs": [],
   "source": [
    "import nbformat\n",
    "\n",
    "def filter_nb (path:str, skip_tags:list):\n",
    "    # Load the notebook\n",
    "    nb = nbformat.read(path, as_version=4)\n",
    "\n",
    "    # Filter out cells with specific tags\n",
    "    filtered_cells = [cell for cell in nb.cells if not set(skip_tags) & set(cell.metadata.get('tags', []))]\n",
    "    nb.cells = filtered_cells\n",
    "    \n",
    "    return nb"
   ]
  },
  {
   "cell_type": "code",
   "execution_count": 16,
   "metadata": {},
   "outputs": [
    {
     "name": "stderr",
     "output_type": "stream",
     "text": [
      "[I 2024-08-22 07:39:27,414] A new study created in memory with name: general_study_extended\n",
      "  0%|          | 0/100 [00:00<?, ?it/s]Passed unknown parameter: config.arch.attn_dropout\n",
      "Passed unknown parameter: config.arch.d_model\n",
      "Passed unknown parameter: config.arch.d_ff\n",
      "Passed unknown parameter: config.arch.decomposition\n",
      "Passed unknown parameter: config.arch.dropout\n",
      "Passed unknown parameter: config.arch.individual\n",
      "Passed unknown parameter: config.arch.n_layers\n",
      "Passed unknown parameter: config.arch.n_heads\n",
      "Passed unknown parameter: config.init_weights\n",
      "Passed unknown parameter: config.lookback\n",
      "Passed unknown parameter: config.loss_func\n",
      "Passed unknown parameter: config.loss_config\n",
      "Passed unknown parameter: config.n_epoch\n",
      "Passed unknown parameter: config.bs\n",
      "Passed unknown parameter: config.is_optuna_study\n",
      "Passed unknown parameter: config.metrics\n",
      "Passed unknown parameter: config.main_metric\n",
      "Passed unknown parameter: config.use_wandb\n",
      "Passed unknown parameter: config.wandb_group\n"
     ]
    },
    {
     "name": "stderr",
     "output_type": "stream",
     "text": [
      "Executing: 100%|██████████| 33/33 [00:57<00:00,  1.73s/cell]\n",
      "  1%|          | 1/100 [00:57<1:34:13, 57.11s/it]Passed unknown parameter: config.arch.attn_dropout\n",
      "Passed unknown parameter: config.arch.d_model\n",
      "Passed unknown parameter: config.arch.d_ff\n",
      "Passed unknown parameter: config.arch.decomposition\n",
      "Passed unknown parameter: config.arch.dropout\n",
      "Passed unknown parameter: config.arch.individual\n",
      "Passed unknown parameter: config.arch.n_layers\n",
      "Passed unknown parameter: config.arch.n_heads\n",
      "Passed unknown parameter: config.init_weights\n",
      "Passed unknown parameter: config.lookback\n",
      "Passed unknown parameter: config.loss_func\n",
      "Passed unknown parameter: config.loss_config\n",
      "Passed unknown parameter: config.n_epoch\n",
      "Passed unknown parameter: config.bs\n",
      "Passed unknown parameter: config.is_optuna_study\n",
      "Passed unknown parameter: config.metrics\n",
      "Passed unknown parameter: config.main_metric\n",
      "Passed unknown parameter: config.use_wandb\n",
      "Passed unknown parameter: config.wandb_group\n"
     ]
    },
    {
     "name": "stdout",
     "output_type": "stream",
     "text": [
      "[I 2024-08-22 07:40:24,522] Trial 0 finished with values: [0.10861663520336151, 0.6811829805374146, -12.46772289276123, 7.729507923126221, 6.668859958648682, -1.9865262508392334] and parameters: {'arch.attn_dropout': 0.0, 'arch.d_model': 480, 'arch.d_ff': 512, 'arch.decomposition': False, 'arch.dropout': 0.30000000000000004, 'arch.individual': False, 'arch.n_layers': 4, 'arch.n_heads': 16, 'init_weights': True, 'lookback': 192, 'loss_func': 'wMAE'}. \n"
     ]
    },
    {
     "name": "stderr",
     "output_type": "stream",
     "text": [
      "Executing: 100%|██████████| 33/33 [00:28<00:00,  1.15cell/s]\n",
      "  2%|▏         | 2/100 [01:25<1:06:03, 40.44s/it]Passed unknown parameter: config.arch.attn_dropout\n",
      "Passed unknown parameter: config.arch.d_model\n",
      "Passed unknown parameter: config.arch.d_ff\n",
      "Passed unknown parameter: config.arch.decomposition\n",
      "Passed unknown parameter: config.arch.dropout\n",
      "Passed unknown parameter: config.arch.individual\n",
      "Passed unknown parameter: config.arch.n_layers\n",
      "Passed unknown parameter: config.arch.n_heads\n",
      "Passed unknown parameter: config.init_weights\n",
      "Passed unknown parameter: config.lookback\n",
      "Passed unknown parameter: config.loss_func\n",
      "Passed unknown parameter: config.loss_config\n",
      "Passed unknown parameter: config.n_epoch\n",
      "Passed unknown parameter: config.bs\n",
      "Passed unknown parameter: config.is_optuna_study\n",
      "Passed unknown parameter: config.metrics\n",
      "Passed unknown parameter: config.main_metric\n",
      "Passed unknown parameter: config.use_wandb\n",
      "Passed unknown parameter: config.wandb_group\n"
     ]
    },
    {
     "name": "stdout",
     "output_type": "stream",
     "text": [
      "[I 2024-08-22 07:40:53,293] Trial 1 finished with values: [0.0925351157784462, 0.4034210741519928, -12.1337308883667, 13.125832557678223, 10.96359920501709, -3.5404763221740723] and parameters: {'arch.attn_dropout': 0.30000000000000004, 'arch.d_model': 512, 'arch.d_ff': 160, 'arch.decomposition': False, 'arch.dropout': 0.1, 'arch.individual': True, 'arch.n_layers': 1, 'arch.n_heads': 4, 'init_weights': False, 'lookback': 192, 'loss_func': 'wMSE'}. \n"
     ]
    },
    {
     "name": "stderr",
     "output_type": "stream",
     "text": [
      "Executing: 100%|██████████| 33/33 [01:11<00:00,  2.18s/cell]\n",
      "  3%|▎         | 3/100 [02:37<1:28:40, 54.85s/it]Passed unknown parameter: config.arch.attn_dropout\n",
      "Passed unknown parameter: config.arch.d_model\n",
      "Passed unknown parameter: config.arch.d_ff\n",
      "Passed unknown parameter: config.arch.decomposition\n",
      "Passed unknown parameter: config.arch.dropout\n",
      "Passed unknown parameter: config.arch.individual\n",
      "Passed unknown parameter: config.arch.n_layers\n",
      "Passed unknown parameter: config.arch.n_heads\n",
      "Passed unknown parameter: config.init_weights\n",
      "Passed unknown parameter: config.lookback\n",
      "Passed unknown parameter: config.loss_func\n",
      "Passed unknown parameter: config.loss_config\n",
      "Passed unknown parameter: config.n_epoch\n",
      "Passed unknown parameter: config.bs\n",
      "Passed unknown parameter: config.is_optuna_study\n",
      "Passed unknown parameter: config.metrics\n",
      "Passed unknown parameter: config.main_metric\n",
      "Passed unknown parameter: config.use_wandb\n",
      "Passed unknown parameter: config.wandb_group\n"
     ]
    },
    {
     "name": "stdout",
     "output_type": "stream",
     "text": [
      "[I 2024-08-22 07:42:05,302] Trial 2 finished with values: [0.023874599486589432, 0.23084686696529388, -24.422487258911133, 16.78286361694336, 17.180561065673828, -8.634060859680176] and parameters: {'arch.attn_dropout': 0.5, 'arch.d_model': 480, 'arch.d_ff': 448, 'arch.decomposition': False, 'arch.dropout': 0.30000000000000004, 'arch.individual': True, 'arch.n_layers': 6, 'arch.n_heads': 8, 'init_weights': False, 'lookback': 192, 'loss_func': 'wRMSLE'}. \n"
     ]
    },
    {
     "name": "stderr",
     "output_type": "stream",
     "text": [
      "Executing: 100%|██████████| 33/33 [00:45<00:00,  1.38s/cell]\n",
      "  4%|▍         | 4/100 [03:23<1:21:57, 51.23s/it]Passed unknown parameter: config.arch.attn_dropout\n",
      "Passed unknown parameter: config.arch.d_model\n",
      "Passed unknown parameter: config.arch.d_ff\n",
      "Passed unknown parameter: config.arch.decomposition\n",
      "Passed unknown parameter: config.arch.dropout\n",
      "Passed unknown parameter: config.arch.individual\n",
      "Passed unknown parameter: config.arch.n_layers\n",
      "Passed unknown parameter: config.arch.n_heads\n",
      "Passed unknown parameter: config.init_weights\n",
      "Passed unknown parameter: config.lookback\n",
      "Passed unknown parameter: config.loss_func\n",
      "Passed unknown parameter: config.loss_config\n",
      "Passed unknown parameter: config.n_epoch\n",
      "Passed unknown parameter: config.bs\n",
      "Passed unknown parameter: config.is_optuna_study\n",
      "Passed unknown parameter: config.metrics\n",
      "Passed unknown parameter: config.main_metric\n",
      "Passed unknown parameter: config.use_wandb\n",
      "Passed unknown parameter: config.wandb_group\n"
     ]
    },
    {
     "name": "stdout",
     "output_type": "stream",
     "text": [
      "[I 2024-08-22 07:42:50,967] Trial 3 finished with values: [0.13371707499027252, 0.7798731327056885, -9.994365692138672, 5.196700096130371, 3.7433364391326904, -0.00572963198646903] and parameters: {'arch.attn_dropout': 0.4, 'arch.d_model': 192, 'arch.d_ff': 384, 'arch.decomposition': False, 'arch.dropout': 0.1, 'arch.individual': False, 'arch.n_layers': 6, 'arch.n_heads': 16, 'init_weights': False, 'lookback': 128, 'loss_func': 'MAE'}. \n"
     ]
    },
    {
     "name": "stderr",
     "output_type": "stream",
     "text": [
      "Executing: 100%|██████████| 33/33 [00:31<00:00,  1.06cell/s]\n",
      "  5%|▌         | 5/100 [03:54<1:09:36, 43.96s/it]Passed unknown parameter: config.arch.attn_dropout\n",
      "Passed unknown parameter: config.arch.d_model\n",
      "Passed unknown parameter: config.arch.d_ff\n",
      "Passed unknown parameter: config.arch.decomposition\n",
      "Passed unknown parameter: config.arch.dropout\n",
      "Passed unknown parameter: config.arch.individual\n",
      "Passed unknown parameter: config.arch.n_layers\n",
      "Passed unknown parameter: config.arch.n_heads\n",
      "Passed unknown parameter: config.init_weights\n",
      "Passed unknown parameter: config.lookback\n",
      "Passed unknown parameter: config.loss_func\n",
      "Passed unknown parameter: config.loss_config\n",
      "Passed unknown parameter: config.n_epoch\n",
      "Passed unknown parameter: config.bs\n",
      "Passed unknown parameter: config.is_optuna_study\n",
      "Passed unknown parameter: config.metrics\n",
      "Passed unknown parameter: config.main_metric\n",
      "Passed unknown parameter: config.use_wandb\n",
      "Passed unknown parameter: config.wandb_group\n"
     ]
    },
    {
     "name": "stdout",
     "output_type": "stream",
     "text": [
      "[I 2024-08-22 07:43:22,041] Trial 4 finished with values: [0.11893563717603683, 0.7824028134346008, -6.8351359367370605, 5.522095203399658, 4.06136417388916, -0.8563015460968018] and parameters: {'arch.attn_dropout': 0.1, 'arch.d_model': 352, 'arch.d_ff': 352, 'arch.decomposition': False, 'arch.dropout': 0.5, 'arch.individual': True, 'arch.n_layers': 1, 'arch.n_heads': 32, 'init_weights': False, 'lookback': 128, 'loss_func': 'Quantile'}. \n"
     ]
    },
    {
     "name": "stderr",
     "output_type": "stream",
     "text": [
      "Executing: 100%|██████████| 33/33 [00:35<00:00,  1.08s/cell]\n",
      "  6%|▌         | 6/100 [04:30<1:04:32, 41.20s/it]Passed unknown parameter: config.arch.attn_dropout\n",
      "Passed unknown parameter: config.arch.d_model\n",
      "Passed unknown parameter: config.arch.d_ff\n",
      "Passed unknown parameter: config.arch.decomposition\n",
      "Passed unknown parameter: config.arch.dropout\n",
      "Passed unknown parameter: config.arch.individual\n",
      "Passed unknown parameter: config.arch.n_layers\n",
      "Passed unknown parameter: config.arch.n_heads\n",
      "Passed unknown parameter: config.init_weights\n",
      "Passed unknown parameter: config.lookback\n",
      "Passed unknown parameter: config.loss_func\n",
      "Passed unknown parameter: config.loss_config\n",
      "Passed unknown parameter: config.n_epoch\n",
      "Passed unknown parameter: config.bs\n",
      "Passed unknown parameter: config.is_optuna_study\n",
      "Passed unknown parameter: config.metrics\n",
      "Passed unknown parameter: config.main_metric\n",
      "Passed unknown parameter: config.use_wandb\n",
      "Passed unknown parameter: config.wandb_group\n"
     ]
    },
    {
     "name": "stdout",
     "output_type": "stream",
     "text": [
      "[I 2024-08-22 07:43:57,879] Trial 5 finished with values: [0.11770337074995041, 0.8109673857688904, -10.798612594604492, 5.099459171295166, 3.61799693107605, -0.5139083862304688] and parameters: {'arch.attn_dropout': 0.2, 'arch.d_model': 96, 'arch.d_ff': 224, 'arch.decomposition': False, 'arch.dropout': 0.1, 'arch.individual': False, 'arch.n_layers': 2, 'arch.n_heads': 32, 'init_weights': False, 'lookback': 24, 'loss_func': 'MSLE'}. \n"
     ]
    },
    {
     "name": "stderr",
     "output_type": "stream",
     "text": [
      "Executing: 100%|██████████| 33/33 [00:54<00:00,  1.66s/cell]\n",
      "  7%|▋         | 7/100 [05:25<1:10:45, 45.65s/it]Passed unknown parameter: config.arch.attn_dropout\n",
      "Passed unknown parameter: config.arch.d_model\n",
      "Passed unknown parameter: config.arch.d_ff\n",
      "Passed unknown parameter: config.arch.decomposition\n",
      "Passed unknown parameter: config.arch.dropout\n",
      "Passed unknown parameter: config.arch.individual\n",
      "Passed unknown parameter: config.arch.n_layers\n",
      "Passed unknown parameter: config.arch.n_heads\n",
      "Passed unknown parameter: config.init_weights\n",
      "Passed unknown parameter: config.lookback\n",
      "Passed unknown parameter: config.loss_func\n",
      "Passed unknown parameter: config.loss_config\n",
      "Passed unknown parameter: config.n_epoch\n",
      "Passed unknown parameter: config.bs\n",
      "Passed unknown parameter: config.is_optuna_study\n",
      "Passed unknown parameter: config.metrics\n",
      "Passed unknown parameter: config.main_metric\n",
      "Passed unknown parameter: config.use_wandb\n",
      "Passed unknown parameter: config.wandb_group\n"
     ]
    },
    {
     "name": "stdout",
     "output_type": "stream",
     "text": [
      "[I 2024-08-22 07:44:52,691] Trial 6 finished with values: [0.10454969853162766, 0.7749145030975342, -12.888138771057129, 5.28154993057251, 3.602132558822632, -0.12923020124435425] and parameters: {'arch.attn_dropout': 0.1, 'arch.d_model': 96, 'arch.d_ff': 256, 'arch.decomposition': True, 'arch.dropout': 0.30000000000000004, 'arch.individual': False, 'arch.n_layers': 6, 'arch.n_heads': 2, 'init_weights': False, 'lookback': 18, 'loss_func': 'MSE'}. \n"
     ]
    },
    {
     "name": "stderr",
     "output_type": "stream",
     "text": [
      "Executing: 100%|██████████| 33/33 [00:43<00:00,  1.30s/cell]\n",
      "  8%|▊         | 8/100 [06:08<1:08:43, 44.82s/it]Passed unknown parameter: config.arch.attn_dropout\n",
      "Passed unknown parameter: config.arch.d_model\n",
      "Passed unknown parameter: config.arch.d_ff\n",
      "Passed unknown parameter: config.arch.decomposition\n",
      "Passed unknown parameter: config.arch.dropout\n",
      "Passed unknown parameter: config.arch.individual\n",
      "Passed unknown parameter: config.arch.n_layers\n",
      "Passed unknown parameter: config.arch.n_heads\n",
      "Passed unknown parameter: config.init_weights\n",
      "Passed unknown parameter: config.lookback\n",
      "Passed unknown parameter: config.loss_func\n",
      "Passed unknown parameter: config.loss_config\n",
      "Passed unknown parameter: config.n_epoch\n",
      "Passed unknown parameter: config.bs\n",
      "Passed unknown parameter: config.is_optuna_study\n",
      "Passed unknown parameter: config.metrics\n",
      "Passed unknown parameter: config.main_metric\n",
      "Passed unknown parameter: config.use_wandb\n",
      "Passed unknown parameter: config.wandb_group\n"
     ]
    },
    {
     "name": "stdout",
     "output_type": "stream",
     "text": [
      "[I 2024-08-22 07:45:35,731] Trial 7 finished with values: [0.1340097039937973, 0.6797226071357727, -31.97209930419922, 7.216358661651611, 6.154483795166016, -1.0459928512573242] and parameters: {'arch.attn_dropout': 0.4, 'arch.d_model': 288, 'arch.d_ff': 352, 'arch.decomposition': False, 'arch.dropout': 0.2, 'arch.individual': False, 'arch.n_layers': 5, 'arch.n_heads': 4, 'init_weights': True, 'lookback': 24, 'loss_func': 'MSLE'}. \n"
     ]
    },
    {
     "name": "stderr",
     "output_type": "stream",
     "text": [
      "Executing: 100%|██████████| 33/33 [00:38<00:00,  1.15s/cell]\n",
      "  9%|▉         | 9/100 [06:46<1:04:46, 42.71s/it]Passed unknown parameter: config.arch.attn_dropout\n",
      "Passed unknown parameter: config.arch.d_model\n",
      "Passed unknown parameter: config.arch.d_ff\n",
      "Passed unknown parameter: config.arch.decomposition\n",
      "Passed unknown parameter: config.arch.dropout\n",
      "Passed unknown parameter: config.arch.individual\n",
      "Passed unknown parameter: config.arch.n_layers\n",
      "Passed unknown parameter: config.arch.n_heads\n",
      "Passed unknown parameter: config.init_weights\n",
      "Passed unknown parameter: config.lookback\n",
      "Passed unknown parameter: config.loss_func\n",
      "Passed unknown parameter: config.loss_config\n",
      "Passed unknown parameter: config.n_epoch\n",
      "Passed unknown parameter: config.bs\n",
      "Passed unknown parameter: config.is_optuna_study\n",
      "Passed unknown parameter: config.metrics\n",
      "Passed unknown parameter: config.main_metric\n",
      "Passed unknown parameter: config.use_wandb\n",
      "Passed unknown parameter: config.wandb_group\n"
     ]
    },
    {
     "name": "stdout",
     "output_type": "stream",
     "text": [
      "[I 2024-08-22 07:46:13,801] Trial 8 finished with values: [0.08804468810558319, 0.39960455894470215, -1106.7047119140625, 9.724261283874512, 8.382217407226562, 5.052473545074463] and parameters: {'arch.attn_dropout': 0.30000000000000004, 'arch.d_model': 352, 'arch.d_ff': 32, 'arch.decomposition': False, 'arch.dropout': 0.2, 'arch.individual': False, 'arch.n_layers': 6, 'arch.n_heads': 32, 'init_weights': True, 'lookback': 18, 'loss_func': 'wHubber'}. \n"
     ]
    },
    {
     "name": "stderr",
     "output_type": "stream",
     "text": [
      "Executing: 100%|██████████| 33/33 [00:42<00:00,  1.28s/cell]\n",
      " 10%|█         | 10/100 [07:28<1:03:49, 42.55s/it]Passed unknown parameter: config.arch.attn_dropout\n",
      "Passed unknown parameter: config.arch.d_model\n",
      "Passed unknown parameter: config.arch.d_ff\n",
      "Passed unknown parameter: config.arch.decomposition\n",
      "Passed unknown parameter: config.arch.dropout\n",
      "Passed unknown parameter: config.arch.individual\n",
      "Passed unknown parameter: config.arch.n_layers\n",
      "Passed unknown parameter: config.arch.n_heads\n",
      "Passed unknown parameter: config.init_weights\n",
      "Passed unknown parameter: config.lookback\n",
      "Passed unknown parameter: config.loss_func\n",
      "Passed unknown parameter: config.loss_config\n",
      "Passed unknown parameter: config.n_epoch\n",
      "Passed unknown parameter: config.bs\n",
      "Passed unknown parameter: config.is_optuna_study\n",
      "Passed unknown parameter: config.metrics\n",
      "Passed unknown parameter: config.main_metric\n",
      "Passed unknown parameter: config.use_wandb\n",
      "Passed unknown parameter: config.wandb_group\n"
     ]
    },
    {
     "name": "stdout",
     "output_type": "stream",
     "text": [
      "[I 2024-08-22 07:46:55,983] Trial 9 finished with values: [0.12103277444839478, 0.7511491179466248, -15.030625343322754, 6.335709095001221, 4.731925010681152, -0.0015716410707682371] and parameters: {'arch.attn_dropout': 0.0, 'arch.d_model': 224, 'arch.d_ff': 224, 'arch.decomposition': False, 'arch.dropout': 0.4, 'arch.individual': False, 'arch.n_layers': 5, 'arch.n_heads': 16, 'init_weights': False, 'lookback': 36, 'loss_func': 'RMSLE'}. \n"
     ]
    },
    {
     "name": "stderr",
     "output_type": "stream",
     "text": [
      "Executing: 100%|██████████| 33/33 [00:34<00:00,  1.03s/cell]\n",
      " 11%|█         | 11/100 [08:02<59:15, 39.95s/it]  Passed unknown parameter: config.arch.attn_dropout\n",
      "Passed unknown parameter: config.arch.d_model\n",
      "Passed unknown parameter: config.arch.d_ff\n",
      "Passed unknown parameter: config.arch.decomposition\n",
      "Passed unknown parameter: config.arch.dropout\n",
      "Passed unknown parameter: config.arch.individual\n",
      "Passed unknown parameter: config.arch.n_layers\n",
      "Passed unknown parameter: config.arch.n_heads\n",
      "Passed unknown parameter: config.init_weights\n",
      "Passed unknown parameter: config.lookback\n",
      "Passed unknown parameter: config.loss_func\n",
      "Passed unknown parameter: config.loss_config\n",
      "Passed unknown parameter: config.n_epoch\n",
      "Passed unknown parameter: config.bs\n",
      "Passed unknown parameter: config.is_optuna_study\n",
      "Passed unknown parameter: config.metrics\n",
      "Passed unknown parameter: config.main_metric\n",
      "Passed unknown parameter: config.use_wandb\n",
      "Passed unknown parameter: config.wandb_group\n"
     ]
    },
    {
     "name": "stdout",
     "output_type": "stream",
     "text": [
      "[I 2024-08-22 07:47:30,053] Trial 10 finished with values: [0.09101457893848419, 0.5444737076759338, -11.833047866821289, 12.636225700378418, 11.270418167114258, 9.04925537109375] and parameters: {'arch.attn_dropout': 0.1, 'arch.d_model': 480, 'arch.d_ff': 448, 'arch.decomposition': False, 'arch.dropout': 0.1, 'arch.individual': False, 'arch.n_layers': 2, 'arch.n_heads': 4, 'init_weights': True, 'lookback': 192, 'loss_func': 'wHubber'}. \n"
     ]
    },
    {
     "name": "stderr",
     "output_type": "stream",
     "text": [
      "Executing: 100%|██████████| 33/33 [00:28<00:00,  1.16cell/s]\n",
      " 12%|█▏        | 12/100 [08:31<53:27, 36.44s/it]Passed unknown parameter: config.arch.attn_dropout\n",
      "Passed unknown parameter: config.arch.d_model\n",
      "Passed unknown parameter: config.arch.d_ff\n",
      "Passed unknown parameter: config.arch.decomposition\n",
      "Passed unknown parameter: config.arch.dropout\n",
      "Passed unknown parameter: config.arch.individual\n",
      "Passed unknown parameter: config.arch.n_layers\n",
      "Passed unknown parameter: config.arch.n_heads\n",
      "Passed unknown parameter: config.init_weights\n",
      "Passed unknown parameter: config.lookback\n",
      "Passed unknown parameter: config.loss_func\n",
      "Passed unknown parameter: config.loss_config\n",
      "Passed unknown parameter: config.n_epoch\n",
      "Passed unknown parameter: config.bs\n",
      "Passed unknown parameter: config.is_optuna_study\n",
      "Passed unknown parameter: config.metrics\n",
      "Passed unknown parameter: config.main_metric\n",
      "Passed unknown parameter: config.use_wandb\n",
      "Passed unknown parameter: config.wandb_group\n"
     ]
    },
    {
     "name": "stdout",
     "output_type": "stream",
     "text": [
      "[I 2024-08-22 07:47:58,472] Trial 11 finished with values: [0.1053648591041565, 0.5066255331039429, -8.591882705688477, 10.973154067993164, 9.0855073928833, -2.8043744564056396] and parameters: {'arch.attn_dropout': 0.1, 'arch.d_model': 448, 'arch.d_ff': 160, 'arch.decomposition': False, 'arch.dropout': 0.2, 'arch.individual': True, 'arch.n_layers': 1, 'arch.n_heads': 4, 'init_weights': False, 'lookback': 192, 'loss_func': 'wMSE'}. \n"
     ]
    },
    {
     "name": "stderr",
     "output_type": "stream",
     "text": [
      "Executing: 100%|██████████| 33/33 [00:33<00:00,  1.01s/cell]\n",
      " 13%|█▎        | 13/100 [09:04<51:29, 35.51s/it]Passed unknown parameter: config.arch.attn_dropout\n",
      "Passed unknown parameter: config.arch.d_model\n",
      "Passed unknown parameter: config.arch.d_ff\n",
      "Passed unknown parameter: config.arch.decomposition\n",
      "Passed unknown parameter: config.arch.dropout\n",
      "Passed unknown parameter: config.arch.individual\n",
      "Passed unknown parameter: config.arch.n_layers\n",
      "Passed unknown parameter: config.arch.n_heads\n",
      "Passed unknown parameter: config.init_weights\n",
      "Passed unknown parameter: config.lookback\n",
      "Passed unknown parameter: config.loss_func\n",
      "Passed unknown parameter: config.loss_config\n",
      "Passed unknown parameter: config.n_epoch\n",
      "Passed unknown parameter: config.bs\n",
      "Passed unknown parameter: config.is_optuna_study\n",
      "Passed unknown parameter: config.metrics\n",
      "Passed unknown parameter: config.main_metric\n",
      "Passed unknown parameter: config.use_wandb\n",
      "Passed unknown parameter: config.wandb_group\n"
     ]
    },
    {
     "name": "stdout",
     "output_type": "stream",
     "text": [
      "[I 2024-08-22 07:48:31,834] Trial 12 finished with values: [0.11897184699773788, 0.6499654650688171, -4.477975845336914, 7.537782192230225, 5.876059055328369, -1.3375836610794067] and parameters: {'arch.attn_dropout': 0.0, 'arch.d_model': 288, 'arch.d_ff': 64, 'arch.decomposition': True, 'arch.dropout': 0.30000000000000004, 'arch.individual': True, 'arch.n_layers': 1, 'arch.n_heads': 4, 'init_weights': False, 'lookback': 192, 'loss_func': 'wMAE'}. \n"
     ]
    },
    {
     "name": "stderr",
     "output_type": "stream",
     "text": [
      "Executing: 100%|██████████| 33/33 [00:38<00:00,  1.17s/cell]\n",
      " 14%|█▍        | 14/100 [09:43<52:19, 36.51s/it]Passed unknown parameter: config.arch.attn_dropout\n",
      "Passed unknown parameter: config.arch.d_model\n",
      "Passed unknown parameter: config.arch.d_ff\n",
      "Passed unknown parameter: config.arch.decomposition\n",
      "Passed unknown parameter: config.arch.dropout\n",
      "Passed unknown parameter: config.arch.individual\n",
      "Passed unknown parameter: config.arch.n_layers\n",
      "Passed unknown parameter: config.arch.n_heads\n",
      "Passed unknown parameter: config.init_weights\n",
      "Passed unknown parameter: config.lookback\n",
      "Passed unknown parameter: config.loss_func\n",
      "Passed unknown parameter: config.loss_config\n",
      "Passed unknown parameter: config.n_epoch\n",
      "Passed unknown parameter: config.bs\n",
      "Passed unknown parameter: config.is_optuna_study\n",
      "Passed unknown parameter: config.metrics\n",
      "Passed unknown parameter: config.main_metric\n",
      "Passed unknown parameter: config.use_wandb\n",
      "Passed unknown parameter: config.wandb_group\n"
     ]
    },
    {
     "name": "stdout",
     "output_type": "stream",
     "text": [
      "[I 2024-08-22 07:49:10,652] Trial 13 finished with values: [0.11730597913265228, 0.6791241765022278, -21.980619430541992, 7.730870723724365, 6.257084846496582, -1.1751935482025146] and parameters: {'arch.attn_dropout': 0.1, 'arch.d_model': 416, 'arch.d_ff': 160, 'arch.decomposition': False, 'arch.dropout': 0.1, 'arch.individual': True, 'arch.n_layers': 2, 'arch.n_heads': 2, 'init_weights': True, 'lookback': 36, 'loss_func': 'Classification'}. \n"
     ]
    },
    {
     "name": "stderr",
     "output_type": "stream",
     "text": [
      "Executing: 100%|██████████| 33/33 [00:47<00:00,  1.45s/cell]\n",
      " 15%|█▌        | 15/100 [10:31<56:33, 39.93s/it]Passed unknown parameter: config.arch.attn_dropout\n",
      "Passed unknown parameter: config.arch.d_model\n",
      "Passed unknown parameter: config.arch.d_ff\n",
      "Passed unknown parameter: config.arch.decomposition\n",
      "Passed unknown parameter: config.arch.dropout\n",
      "Passed unknown parameter: config.arch.individual\n",
      "Passed unknown parameter: config.arch.n_layers\n",
      "Passed unknown parameter: config.arch.n_heads\n",
      "Passed unknown parameter: config.init_weights\n",
      "Passed unknown parameter: config.lookback\n",
      "Passed unknown parameter: config.loss_func\n",
      "Passed unknown parameter: config.loss_config\n",
      "Passed unknown parameter: config.n_epoch\n",
      "Passed unknown parameter: config.bs\n",
      "Passed unknown parameter: config.is_optuna_study\n",
      "Passed unknown parameter: config.metrics\n",
      "Passed unknown parameter: config.main_metric\n",
      "Passed unknown parameter: config.use_wandb\n",
      "Passed unknown parameter: config.wandb_group\n"
     ]
    },
    {
     "name": "stdout",
     "output_type": "stream",
     "text": [
      "[I 2024-08-22 07:49:58,505] Trial 14 finished with values: [0.13281776010990143, 0.48553913831710815, -30.29279136657715, 9.59538459777832, 8.696029663085938, -3.148409843444824] and parameters: {'arch.attn_dropout': 0.0, 'arch.d_model': 480, 'arch.d_ff': 192, 'arch.decomposition': False, 'arch.dropout': 0.30000000000000004, 'arch.individual': True, 'arch.n_layers': 4, 'arch.n_heads': 4, 'init_weights': False, 'lookback': 192, 'loss_func': 'MSE'}. \n"
     ]
    },
    {
     "name": "stderr",
     "output_type": "stream",
     "text": [
      "Executing: 100%|██████████| 33/33 [00:41<00:00,  1.27s/cell]\n",
      " 16%|█▌        | 16/100 [11:12<56:42, 40.51s/it]Passed unknown parameter: config.arch.attn_dropout\n",
      "Passed unknown parameter: config.arch.d_model\n",
      "Passed unknown parameter: config.arch.d_ff\n",
      "Passed unknown parameter: config.arch.decomposition\n",
      "Passed unknown parameter: config.arch.dropout\n",
      "Passed unknown parameter: config.arch.individual\n",
      "Passed unknown parameter: config.arch.n_layers\n",
      "Passed unknown parameter: config.arch.n_heads\n",
      "Passed unknown parameter: config.init_weights\n",
      "Passed unknown parameter: config.lookback\n",
      "Passed unknown parameter: config.loss_func\n",
      "Passed unknown parameter: config.loss_config\n",
      "Passed unknown parameter: config.n_epoch\n",
      "Passed unknown parameter: config.bs\n",
      "Passed unknown parameter: config.is_optuna_study\n",
      "Passed unknown parameter: config.metrics\n",
      "Passed unknown parameter: config.main_metric\n",
      "Passed unknown parameter: config.use_wandb\n",
      "Passed unknown parameter: config.wandb_group\n"
     ]
    },
    {
     "name": "stdout",
     "output_type": "stream",
     "text": [
      "[I 2024-08-22 07:50:40,353] Trial 15 finished with values: [0.13036511838436127, 0.7738867402076721, -15.96639347076416, 5.320745468139648, 3.633639097213745, -0.21236485242843628] and parameters: {'arch.attn_dropout': 0.1, 'arch.d_model': 192, 'arch.d_ff': 128, 'arch.decomposition': True, 'arch.dropout': 0.4, 'arch.individual': True, 'arch.n_layers': 3, 'arch.n_heads': 8, 'init_weights': False, 'lookback': 18, 'loss_func': 'wMAE'}. \n"
     ]
    },
    {
     "name": "stderr",
     "output_type": "stream",
     "text": [
      "Executing: 100%|██████████| 33/33 [00:41<00:00,  1.26s/cell]\n",
      " 17%|█▋        | 17/100 [11:54<56:30, 40.84s/it]Passed unknown parameter: config.arch.attn_dropout\n",
      "Passed unknown parameter: config.arch.d_model\n",
      "Passed unknown parameter: config.arch.d_ff\n",
      "Passed unknown parameter: config.arch.decomposition\n",
      "Passed unknown parameter: config.arch.dropout\n",
      "Passed unknown parameter: config.arch.individual\n",
      "Passed unknown parameter: config.arch.n_layers\n",
      "Passed unknown parameter: config.arch.n_heads\n",
      "Passed unknown parameter: config.init_weights\n",
      "Passed unknown parameter: config.lookback\n",
      "Passed unknown parameter: config.loss_func\n",
      "Passed unknown parameter: config.loss_config\n",
      "Passed unknown parameter: config.n_epoch\n",
      "Passed unknown parameter: config.bs\n",
      "Passed unknown parameter: config.is_optuna_study\n",
      "Passed unknown parameter: config.metrics\n",
      "Passed unknown parameter: config.main_metric\n",
      "Passed unknown parameter: config.use_wandb\n",
      "Passed unknown parameter: config.wandb_group\n"
     ]
    },
    {
     "name": "stdout",
     "output_type": "stream",
     "text": [
      "[W 2024-08-22 07:51:21,984] Trial 16 failed with parameters: {'arch.attn_dropout': 0.1, 'arch.d_model': 384, 'arch.d_ff': 192, 'arch.decomposition': True, 'arch.dropout': 0.30000000000000004, 'arch.individual': True, 'arch.n_layers': 1, 'arch.n_heads': 4, 'init_weights': False, 'lookback': 24, 'loss_func': 'Classification'} because of the following error: The value nan is not acceptable.\n",
      "[W 2024-08-22 07:51:21,986] Trial 16 failed with value (tensor(0.1280), tensor(0.8184), tensor(-8.8932), tensor(5.0723), tensor(nan), tensor(nan)).\n"
     ]
    },
    {
     "name": "stderr",
     "output_type": "stream",
     "text": [
      "Executing: 100%|██████████| 33/33 [00:35<00:00,  1.07s/cell]\n",
      " 18%|█▊        | 18/100 [12:29<53:30, 39.15s/it]Passed unknown parameter: config.arch.attn_dropout\n",
      "Passed unknown parameter: config.arch.d_model\n",
      "Passed unknown parameter: config.arch.d_ff\n",
      "Passed unknown parameter: config.arch.decomposition\n",
      "Passed unknown parameter: config.arch.dropout\n",
      "Passed unknown parameter: config.arch.individual\n",
      "Passed unknown parameter: config.arch.n_layers\n",
      "Passed unknown parameter: config.arch.n_heads\n",
      "Passed unknown parameter: config.init_weights\n",
      "Passed unknown parameter: config.lookback\n",
      "Passed unknown parameter: config.loss_func\n",
      "Passed unknown parameter: config.loss_config\n",
      "Passed unknown parameter: config.n_epoch\n",
      "Passed unknown parameter: config.bs\n",
      "Passed unknown parameter: config.is_optuna_study\n",
      "Passed unknown parameter: config.metrics\n",
      "Passed unknown parameter: config.main_metric\n",
      "Passed unknown parameter: config.use_wandb\n",
      "Passed unknown parameter: config.wandb_group\n"
     ]
    },
    {
     "name": "stdout",
     "output_type": "stream",
     "text": [
      "[I 2024-08-22 07:51:57,185] Trial 17 finished with values: [0.08469898998737335, 0.6467124223709106, -5.623019695281982, 8.448209762573242, 6.8564133644104, -1.5751240253448486] and parameters: {'arch.attn_dropout': 0.0, 'arch.d_model': 384, 'arch.d_ff': 128, 'arch.decomposition': True, 'arch.dropout': 0.4, 'arch.individual': True, 'arch.n_layers': 1, 'arch.n_heads': 4, 'init_weights': False, 'lookback': 192, 'loss_func': 'wMAE'}. \n"
     ]
    },
    {
     "name": "stderr",
     "output_type": "stream",
     "text": [
      "Executing: 100%|██████████| 33/33 [00:38<00:00,  1.15s/cell]\n",
      " 19%|█▉        | 19/100 [13:07<52:25, 38.83s/it]Passed unknown parameter: config.arch.attn_dropout\n",
      "Passed unknown parameter: config.arch.d_model\n",
      "Passed unknown parameter: config.arch.d_ff\n",
      "Passed unknown parameter: config.arch.decomposition\n",
      "Passed unknown parameter: config.arch.dropout\n",
      "Passed unknown parameter: config.arch.individual\n",
      "Passed unknown parameter: config.arch.n_layers\n",
      "Passed unknown parameter: config.arch.n_heads\n",
      "Passed unknown parameter: config.init_weights\n",
      "Passed unknown parameter: config.lookback\n",
      "Passed unknown parameter: config.loss_func\n",
      "Passed unknown parameter: config.loss_config\n",
      "Passed unknown parameter: config.n_epoch\n",
      "Passed unknown parameter: config.bs\n",
      "Passed unknown parameter: config.is_optuna_study\n",
      "Passed unknown parameter: config.metrics\n",
      "Passed unknown parameter: config.main_metric\n",
      "Passed unknown parameter: config.use_wandb\n",
      "Passed unknown parameter: config.wandb_group\n"
     ]
    },
    {
     "name": "stdout",
     "output_type": "stream",
     "text": [
      "[I 2024-08-22 07:52:35,283] Trial 18 finished with values: [0.10480289161205292, 0.7045588493347168, -4.557251453399658, 6.97104549407959, 5.348753452301025, -0.746457576751709] and parameters: {'arch.attn_dropout': 0.1, 'arch.d_model': 128, 'arch.d_ff': 160, 'arch.decomposition': True, 'arch.dropout': 0.1, 'arch.individual': True, 'arch.n_layers': 2, 'arch.n_heads': 16, 'init_weights': False, 'lookback': 192, 'loss_func': 'wMAE'}. \n"
     ]
    },
    {
     "name": "stderr",
     "output_type": "stream",
     "text": [
      "Executing: 100%|██████████| 33/33 [00:30<00:00,  1.09cell/s]\n",
      " 20%|██        | 20/100 [13:38<48:21, 36.26s/it]Passed unknown parameter: config.arch.attn_dropout\n",
      "Passed unknown parameter: config.arch.d_model\n",
      "Passed unknown parameter: config.arch.d_ff\n",
      "Passed unknown parameter: config.arch.decomposition\n",
      "Passed unknown parameter: config.arch.dropout\n",
      "Passed unknown parameter: config.arch.individual\n",
      "Passed unknown parameter: config.arch.n_layers\n",
      "Passed unknown parameter: config.arch.n_heads\n",
      "Passed unknown parameter: config.init_weights\n",
      "Passed unknown parameter: config.lookback\n",
      "Passed unknown parameter: config.loss_func\n",
      "Passed unknown parameter: config.loss_config\n",
      "Passed unknown parameter: config.n_epoch\n",
      "Passed unknown parameter: config.bs\n",
      "Passed unknown parameter: config.is_optuna_study\n",
      "Passed unknown parameter: config.metrics\n",
      "Passed unknown parameter: config.main_metric\n",
      "Passed unknown parameter: config.use_wandb\n",
      "Passed unknown parameter: config.wandb_group\n"
     ]
    },
    {
     "name": "stdout",
     "output_type": "stream",
     "text": [
      "[I 2024-08-22 07:53:05,556] Trial 19 finished with values: [0.09907282888889313, 0.6735785603523254, -5.8425445556640625, 7.469542026519775, 5.564601421356201, -2.0755767822265625] and parameters: {'arch.attn_dropout': 0.0, 'arch.d_model': 96, 'arch.d_ff': 128, 'arch.decomposition': False, 'arch.dropout': 0.1, 'arch.individual': True, 'arch.n_layers': 1, 'arch.n_heads': 4, 'init_weights': False, 'lookback': 128, 'loss_func': 'wMSE'}. \n"
     ]
    },
    {
     "name": "stderr",
     "output_type": "stream",
     "text": [
      "Executing: 100%|██████████| 33/33 [00:52<00:00,  1.60s/cell]\n",
      " 21%|██        | 21/100 [14:31<54:20, 41.28s/it]Passed unknown parameter: config.arch.attn_dropout\n",
      "Passed unknown parameter: config.arch.d_model\n",
      "Passed unknown parameter: config.arch.d_ff\n",
      "Passed unknown parameter: config.arch.decomposition\n",
      "Passed unknown parameter: config.arch.dropout\n",
      "Passed unknown parameter: config.arch.individual\n",
      "Passed unknown parameter: config.arch.n_layers\n",
      "Passed unknown parameter: config.arch.n_heads\n",
      "Passed unknown parameter: config.init_weights\n",
      "Passed unknown parameter: config.lookback\n",
      "Passed unknown parameter: config.loss_func\n",
      "Passed unknown parameter: config.loss_config\n",
      "Passed unknown parameter: config.n_epoch\n",
      "Passed unknown parameter: config.bs\n",
      "Passed unknown parameter: config.is_optuna_study\n",
      "Passed unknown parameter: config.metrics\n",
      "Passed unknown parameter: config.main_metric\n",
      "Passed unknown parameter: config.use_wandb\n",
      "Passed unknown parameter: config.wandb_group\n"
     ]
    },
    {
     "name": "stdout",
     "output_type": "stream",
     "text": [
      "[I 2024-08-22 07:53:58,526] Trial 20 finished with values: [0.11668214946985245, 0.8187822699546814, -10.258941650390625, 4.988408088684082, 3.462482452392578, -0.1890694797039032] and parameters: {'arch.attn_dropout': 0.0, 'arch.d_model': 224, 'arch.d_ff': 32, 'arch.decomposition': True, 'arch.dropout': 0.1, 'arch.individual': True, 'arch.n_layers': 3, 'arch.n_heads': 4, 'init_weights': False, 'lookback': 24, 'loss_func': 'Quantile'}. \n"
     ]
    },
    {
     "name": "stderr",
     "output_type": "stream",
     "text": [
      "Executing: 100%|██████████| 33/33 [00:43<00:00,  1.31s/cell]\n",
      " 22%|██▏       | 22/100 [15:14<54:29, 41.91s/it]Passed unknown parameter: config.arch.attn_dropout\n",
      "Passed unknown parameter: config.arch.d_model\n",
      "Passed unknown parameter: config.arch.d_ff\n",
      "Passed unknown parameter: config.arch.decomposition\n",
      "Passed unknown parameter: config.arch.dropout\n",
      "Passed unknown parameter: config.arch.individual\n",
      "Passed unknown parameter: config.arch.n_layers\n",
      "Passed unknown parameter: config.arch.n_heads\n",
      "Passed unknown parameter: config.init_weights\n",
      "Passed unknown parameter: config.lookback\n",
      "Passed unknown parameter: config.loss_func\n",
      "Passed unknown parameter: config.loss_config\n",
      "Passed unknown parameter: config.n_epoch\n",
      "Passed unknown parameter: config.bs\n",
      "Passed unknown parameter: config.is_optuna_study\n",
      "Passed unknown parameter: config.metrics\n",
      "Passed unknown parameter: config.main_metric\n",
      "Passed unknown parameter: config.use_wandb\n",
      "Passed unknown parameter: config.wandb_group\n"
     ]
    },
    {
     "name": "stdout",
     "output_type": "stream",
     "text": [
      "[I 2024-08-22 07:54:41,926] Trial 21 finished with values: [0.1355677992105484, 0.5302726626396179, -6.750826358795166, 9.703533172607422, 7.901847839355469, -2.5561137199401855] and parameters: {'arch.attn_dropout': 0.0, 'arch.d_model': 512, 'arch.d_ff': 128, 'arch.decomposition': True, 'arch.dropout': 0.0, 'arch.individual': True, 'arch.n_layers': 1, 'arch.n_heads': 4, 'init_weights': False, 'lookback': 192, 'loss_func': 'Trended'}. \n"
     ]
    },
    {
     "name": "stderr",
     "output_type": "stream",
     "text": [
      "Executing: 100%|██████████| 33/33 [00:35<00:00,  1.06s/cell]\n",
      " 23%|██▎       | 23/100 [15:49<51:09, 39.87s/it]Passed unknown parameter: config.arch.attn_dropout\n",
      "Passed unknown parameter: config.arch.d_model\n",
      "Passed unknown parameter: config.arch.d_ff\n",
      "Passed unknown parameter: config.arch.decomposition\n",
      "Passed unknown parameter: config.arch.dropout\n",
      "Passed unknown parameter: config.arch.individual\n",
      "Passed unknown parameter: config.arch.n_layers\n",
      "Passed unknown parameter: config.arch.n_heads\n",
      "Passed unknown parameter: config.init_weights\n",
      "Passed unknown parameter: config.lookback\n",
      "Passed unknown parameter: config.loss_func\n",
      "Passed unknown parameter: config.loss_config\n",
      "Passed unknown parameter: config.n_epoch\n",
      "Passed unknown parameter: config.bs\n",
      "Passed unknown parameter: config.is_optuna_study\n",
      "Passed unknown parameter: config.metrics\n",
      "Passed unknown parameter: config.main_metric\n",
      "Passed unknown parameter: config.use_wandb\n",
      "Passed unknown parameter: config.wandb_group\n"
     ]
    },
    {
     "name": "stdout",
     "output_type": "stream",
     "text": [
      "[I 2024-08-22 07:55:17,010] Trial 22 finished with values: [0.14386047422885895, 0.7416589856147766, -6.351031303405762, 6.368781089782715, 5.043593406677246, -1.3715273141860962] and parameters: {'arch.attn_dropout': 0.0, 'arch.d_model': 480, 'arch.d_ff': 96, 'arch.decomposition': True, 'arch.dropout': 0.1, 'arch.individual': False, 'arch.n_layers': 1, 'arch.n_heads': 8, 'init_weights': False, 'lookback': 192, 'loss_func': 'Classification'}. \n"
     ]
    },
    {
     "name": "stderr",
     "output_type": "stream",
     "text": [
      "Executing: 100%|██████████| 33/33 [00:42<00:00,  1.29s/cell]\n",
      " 24%|██▍       | 24/100 [16:32<51:34, 40.72s/it]Passed unknown parameter: config.arch.attn_dropout\n",
      "Passed unknown parameter: config.arch.d_model\n",
      "Passed unknown parameter: config.arch.d_ff\n",
      "Passed unknown parameter: config.arch.decomposition\n",
      "Passed unknown parameter: config.arch.dropout\n",
      "Passed unknown parameter: config.arch.individual\n",
      "Passed unknown parameter: config.arch.n_layers\n",
      "Passed unknown parameter: config.arch.n_heads\n",
      "Passed unknown parameter: config.init_weights\n",
      "Passed unknown parameter: config.lookback\n",
      "Passed unknown parameter: config.loss_func\n",
      "Passed unknown parameter: config.loss_config\n",
      "Passed unknown parameter: config.n_epoch\n",
      "Passed unknown parameter: config.bs\n",
      "Passed unknown parameter: config.is_optuna_study\n",
      "Passed unknown parameter: config.metrics\n",
      "Passed unknown parameter: config.main_metric\n",
      "Passed unknown parameter: config.use_wandb\n",
      "Passed unknown parameter: config.wandb_group\n"
     ]
    },
    {
     "name": "stdout",
     "output_type": "stream",
     "text": [
      "[I 2024-08-22 07:55:59,728] Trial 23 finished with values: [0.09107030928134918, 0.5202895998954773, -16.696218490600586, 9.799554824829102, 8.4202299118042, -4.859725475311279] and parameters: {'arch.attn_dropout': 0.0, 'arch.d_model': 512, 'arch.d_ff': 224, 'arch.decomposition': True, 'arch.dropout': 0.0, 'arch.individual': False, 'arch.n_layers': 1, 'arch.n_heads': 4, 'init_weights': False, 'lookback': 192, 'loss_func': 'Trended'}. \n"
     ]
    },
    {
     "name": "stderr",
     "output_type": "stream",
     "text": [
      "Executing: 100%|██████████| 33/33 [00:39<00:00,  1.20s/cell]\n",
      " 25%|██▌       | 25/100 [17:11<50:26, 40.36s/it]Passed unknown parameter: config.arch.attn_dropout\n",
      "Passed unknown parameter: config.arch.d_model\n",
      "Passed unknown parameter: config.arch.d_ff\n",
      "Passed unknown parameter: config.arch.decomposition\n",
      "Passed unknown parameter: config.arch.dropout\n",
      "Passed unknown parameter: config.arch.individual\n",
      "Passed unknown parameter: config.arch.n_layers\n",
      "Passed unknown parameter: config.arch.n_heads\n",
      "Passed unknown parameter: config.init_weights\n",
      "Passed unknown parameter: config.lookback\n",
      "Passed unknown parameter: config.loss_func\n",
      "Passed unknown parameter: config.loss_config\n",
      "Passed unknown parameter: config.n_epoch\n",
      "Passed unknown parameter: config.bs\n",
      "Passed unknown parameter: config.is_optuna_study\n",
      "Passed unknown parameter: config.metrics\n",
      "Passed unknown parameter: config.main_metric\n",
      "Passed unknown parameter: config.use_wandb\n",
      "Passed unknown parameter: config.wandb_group\n"
     ]
    },
    {
     "name": "stdout",
     "output_type": "stream",
     "text": [
      "[W 2024-08-22 07:56:39,239] Trial 24 failed with parameters: {'arch.attn_dropout': 0.0, 'arch.d_model': 480, 'arch.d_ff': 160, 'arch.decomposition': True, 'arch.dropout': 0.0, 'arch.individual': True, 'arch.n_layers': 1, 'arch.n_heads': 16, 'init_weights': False, 'lookback': 128, 'loss_func': 'wRMSLE'} because of the following error: The value nan is not acceptable.\n",
      "[W 2024-08-22 07:56:39,242] Trial 24 failed with value (tensor(0.1308), tensor(0.1926), tensor(-0.6844), tensor(21.5357), tensor(nan), tensor(nan)).\n"
     ]
    },
    {
     "name": "stderr",
     "output_type": "stream",
     "text": [
      "Executing: 100%|██████████| 33/33 [00:35<00:00,  1.07s/cell]\n",
      " 26%|██▌       | 26/100 [17:47<47:54, 38.84s/it]Passed unknown parameter: config.arch.attn_dropout\n",
      "Passed unknown parameter: config.arch.d_model\n",
      "Passed unknown parameter: config.arch.d_ff\n",
      "Passed unknown parameter: config.arch.decomposition\n",
      "Passed unknown parameter: config.arch.dropout\n",
      "Passed unknown parameter: config.arch.individual\n",
      "Passed unknown parameter: config.arch.n_layers\n",
      "Passed unknown parameter: config.arch.n_heads\n",
      "Passed unknown parameter: config.init_weights\n",
      "Passed unknown parameter: config.lookback\n",
      "Passed unknown parameter: config.loss_func\n",
      "Passed unknown parameter: config.loss_config\n",
      "Passed unknown parameter: config.n_epoch\n",
      "Passed unknown parameter: config.bs\n",
      "Passed unknown parameter: config.is_optuna_study\n",
      "Passed unknown parameter: config.metrics\n",
      "Passed unknown parameter: config.main_metric\n",
      "Passed unknown parameter: config.use_wandb\n",
      "Passed unknown parameter: config.wandb_group\n"
     ]
    },
    {
     "name": "stdout",
     "output_type": "stream",
     "text": [
      "[I 2024-08-22 07:57:14,548] Trial 25 finished with values: [0.13140349090099335, 0.563728392124176, -7.2440571784973145, 9.21905517578125, 7.596278190612793, -2.561858892440796] and parameters: {'arch.attn_dropout': 0.0, 'arch.d_model': 480, 'arch.d_ff': 64, 'arch.decomposition': True, 'arch.dropout': 0.1, 'arch.individual': True, 'arch.n_layers': 1, 'arch.n_heads': 2, 'init_weights': True, 'lookback': 192, 'loss_func': 'MSE'}. \n"
     ]
    },
    {
     "name": "stderr",
     "output_type": "stream",
     "text": [
      "Executing: 100%|██████████| 33/33 [00:25<00:00,  1.29cell/s]\n",
      " 27%|██▋       | 27/100 [18:12<42:28, 34.90s/it]Passed unknown parameter: config.arch.attn_dropout\n",
      "Passed unknown parameter: config.arch.d_model\n",
      "Passed unknown parameter: config.arch.d_ff\n",
      "Passed unknown parameter: config.arch.decomposition\n",
      "Passed unknown parameter: config.arch.dropout\n",
      "Passed unknown parameter: config.arch.individual\n",
      "Passed unknown parameter: config.arch.n_layers\n",
      "Passed unknown parameter: config.arch.n_heads\n",
      "Passed unknown parameter: config.init_weights\n",
      "Passed unknown parameter: config.lookback\n",
      "Passed unknown parameter: config.loss_func\n",
      "Passed unknown parameter: config.loss_config\n",
      "Passed unknown parameter: config.n_epoch\n",
      "Passed unknown parameter: config.bs\n",
      "Passed unknown parameter: config.is_optuna_study\n",
      "Passed unknown parameter: config.metrics\n",
      "Passed unknown parameter: config.main_metric\n",
      "Passed unknown parameter: config.use_wandb\n",
      "Passed unknown parameter: config.wandb_group\n"
     ]
    },
    {
     "name": "stdout",
     "output_type": "stream",
     "text": [
      "[I 2024-08-22 07:57:40,263] Trial 26 finished with values: [0.12501932680606842, 0.7629300951957703, -12.407801628112793, 5.489354610443115, 3.804715871810913, -0.02007639780640602] and parameters: {'arch.attn_dropout': 0.0, 'arch.d_model': 512, 'arch.d_ff': 32, 'arch.decomposition': False, 'arch.dropout': 0.1, 'arch.individual': False, 'arch.n_layers': 1, 'arch.n_heads': 8, 'init_weights': False, 'lookback': 18, 'loss_func': 'Classification'}. \n"
     ]
    },
    {
     "name": "stderr",
     "output_type": "stream",
     "text": [
      "Executing: 100%|██████████| 33/33 [00:35<00:00,  1.08s/cell]\n",
      " 28%|██▊       | 28/100 [18:48<42:09, 35.14s/it]Passed unknown parameter: config.arch.attn_dropout\n",
      "Passed unknown parameter: config.arch.d_model\n",
      "Passed unknown parameter: config.arch.d_ff\n",
      "Passed unknown parameter: config.arch.decomposition\n",
      "Passed unknown parameter: config.arch.dropout\n",
      "Passed unknown parameter: config.arch.individual\n",
      "Passed unknown parameter: config.arch.n_layers\n",
      "Passed unknown parameter: config.arch.n_heads\n",
      "Passed unknown parameter: config.init_weights\n",
      "Passed unknown parameter: config.lookback\n",
      "Passed unknown parameter: config.loss_func\n",
      "Passed unknown parameter: config.loss_config\n",
      "Passed unknown parameter: config.n_epoch\n",
      "Passed unknown parameter: config.bs\n",
      "Passed unknown parameter: config.is_optuna_study\n",
      "Passed unknown parameter: config.metrics\n",
      "Passed unknown parameter: config.main_metric\n",
      "Passed unknown parameter: config.use_wandb\n",
      "Passed unknown parameter: config.wandb_group\n"
     ]
    },
    {
     "name": "stdout",
     "output_type": "stream",
     "text": [
      "[I 2024-08-22 07:58:15,946] Trial 27 finished with values: [0.10242703557014465, 0.6325292587280273, -5.703700542449951, 8.533849716186523, 6.601198673248291, -0.8556058406829834] and parameters: {'arch.attn_dropout': 0.0, 'arch.d_model': 384, 'arch.d_ff': 32, 'arch.decomposition': True, 'arch.dropout': 0.1, 'arch.individual': True, 'arch.n_layers': 1, 'arch.n_heads': 8, 'init_weights': True, 'lookback': 192, 'loss_func': 'MSE'}. \n"
     ]
    },
    {
     "name": "stderr",
     "output_type": "stream",
     "text": [
      "Executing: 100%|██████████| 33/33 [00:35<00:00,  1.09s/cell]\n",
      " 29%|██▉       | 29/100 [19:24<41:50, 35.36s/it]Passed unknown parameter: config.arch.attn_dropout\n",
      "Passed unknown parameter: config.arch.d_model\n",
      "Passed unknown parameter: config.arch.d_ff\n",
      "Passed unknown parameter: config.arch.decomposition\n",
      "Passed unknown parameter: config.arch.dropout\n",
      "Passed unknown parameter: config.arch.individual\n",
      "Passed unknown parameter: config.arch.n_layers\n",
      "Passed unknown parameter: config.arch.n_heads\n",
      "Passed unknown parameter: config.init_weights\n",
      "Passed unknown parameter: config.lookback\n",
      "Passed unknown parameter: config.loss_func\n",
      "Passed unknown parameter: config.loss_config\n",
      "Passed unknown parameter: config.n_epoch\n",
      "Passed unknown parameter: config.bs\n",
      "Passed unknown parameter: config.is_optuna_study\n",
      "Passed unknown parameter: config.metrics\n",
      "Passed unknown parameter: config.main_metric\n",
      "Passed unknown parameter: config.use_wandb\n",
      "Passed unknown parameter: config.wandb_group\n"
     ]
    },
    {
     "name": "stdout",
     "output_type": "stream",
     "text": [
      "[I 2024-08-22 07:58:51,839] Trial 28 finished with values: [0.12332665920257568, 0.5807011127471924, -7.768327236175537, 9.458261489868164, 7.797909259796143, -3.0207393169403076] and parameters: {'arch.attn_dropout': 0.0, 'arch.d_model': 512, 'arch.d_ff': 96, 'arch.decomposition': True, 'arch.dropout': 0.4, 'arch.individual': True, 'arch.n_layers': 1, 'arch.n_heads': 2, 'init_weights': True, 'lookback': 192, 'loss_func': 'Quantile'}. \n"
     ]
    },
    {
     "name": "stderr",
     "output_type": "stream",
     "text": [
      "Executing: 100%|██████████| 33/33 [00:36<00:00,  1.10s/cell]\n",
      " 30%|███       | 30/100 [20:00<41:33, 35.63s/it]Passed unknown parameter: config.arch.attn_dropout\n",
      "Passed unknown parameter: config.arch.d_model\n",
      "Passed unknown parameter: config.arch.d_ff\n",
      "Passed unknown parameter: config.arch.decomposition\n",
      "Passed unknown parameter: config.arch.dropout\n",
      "Passed unknown parameter: config.arch.individual\n",
      "Passed unknown parameter: config.arch.n_layers\n",
      "Passed unknown parameter: config.arch.n_heads\n",
      "Passed unknown parameter: config.init_weights\n",
      "Passed unknown parameter: config.lookback\n",
      "Passed unknown parameter: config.loss_func\n",
      "Passed unknown parameter: config.loss_config\n",
      "Passed unknown parameter: config.n_epoch\n",
      "Passed unknown parameter: config.bs\n",
      "Passed unknown parameter: config.is_optuna_study\n",
      "Passed unknown parameter: config.metrics\n",
      "Passed unknown parameter: config.main_metric\n",
      "Passed unknown parameter: config.use_wandb\n",
      "Passed unknown parameter: config.wandb_group\n"
     ]
    },
    {
     "name": "stdout",
     "output_type": "stream",
     "text": [
      "[I 2024-08-22 07:59:28,078] Trial 29 finished with values: [0.09741143137216568, 0.5881402492523193, -10.82840347290039, 9.493972778320312, 8.165141105651855, -4.59581995010376] and parameters: {'arch.attn_dropout': 0.1, 'arch.d_model': 512, 'arch.d_ff': 96, 'arch.decomposition': True, 'arch.dropout': 0.5, 'arch.individual': True, 'arch.n_layers': 1, 'arch.n_heads': 2, 'init_weights': True, 'lookback': 192, 'loss_func': 'Quantile'}. \n"
     ]
    },
    {
     "name": "stderr",
     "output_type": "stream",
     "text": [
      "Executing: 100%|██████████| 33/33 [01:00<00:00,  1.84s/cell]\n",
      " 31%|███       | 31/100 [21:01<49:38, 43.17s/it]Passed unknown parameter: config.arch.attn_dropout\n",
      "Passed unknown parameter: config.arch.d_model\n",
      "Passed unknown parameter: config.arch.d_ff\n",
      "Passed unknown parameter: config.arch.decomposition\n",
      "Passed unknown parameter: config.arch.dropout\n",
      "Passed unknown parameter: config.arch.individual\n",
      "Passed unknown parameter: config.arch.n_layers\n",
      "Passed unknown parameter: config.arch.n_heads\n",
      "Passed unknown parameter: config.init_weights\n",
      "Passed unknown parameter: config.lookback\n",
      "Passed unknown parameter: config.loss_func\n",
      "Passed unknown parameter: config.loss_config\n",
      "Passed unknown parameter: config.n_epoch\n",
      "Passed unknown parameter: config.bs\n",
      "Passed unknown parameter: config.is_optuna_study\n",
      "Passed unknown parameter: config.metrics\n",
      "Passed unknown parameter: config.main_metric\n",
      "Passed unknown parameter: config.use_wandb\n",
      "Passed unknown parameter: config.wandb_group\n"
     ]
    },
    {
     "name": "stdout",
     "output_type": "stream",
     "text": [
      "[I 2024-08-22 08:00:28,840] Trial 30 finished with values: [0.10176770389080048, 0.6175768971443176, -10.304159164428711, 8.653282165527344, 7.213543891906738, -2.206531524658203] and parameters: {'arch.attn_dropout': 0.0, 'arch.d_model': 512, 'arch.d_ff': 96, 'arch.decomposition': True, 'arch.dropout': 0.4, 'arch.individual': True, 'arch.n_layers': 2, 'arch.n_heads': 32, 'init_weights': True, 'lookback': 192, 'loss_func': 'Quantile'}. \n"
     ]
    },
    {
     "name": "stderr",
     "output_type": "stream",
     "text": [
      "Executing: 100%|██████████| 33/33 [00:41<00:00,  1.27s/cell]\n",
      " 32%|███▏      | 32/100 [21:43<48:28, 42.77s/it]Passed unknown parameter: config.arch.attn_dropout\n",
      "Passed unknown parameter: config.arch.d_model\n",
      "Passed unknown parameter: config.arch.d_ff\n",
      "Passed unknown parameter: config.arch.decomposition\n",
      "Passed unknown parameter: config.arch.dropout\n",
      "Passed unknown parameter: config.arch.individual\n",
      "Passed unknown parameter: config.arch.n_layers\n",
      "Passed unknown parameter: config.arch.n_heads\n",
      "Passed unknown parameter: config.init_weights\n",
      "Passed unknown parameter: config.lookback\n",
      "Passed unknown parameter: config.loss_func\n",
      "Passed unknown parameter: config.loss_config\n",
      "Passed unknown parameter: config.n_epoch\n",
      "Passed unknown parameter: config.bs\n",
      "Passed unknown parameter: config.is_optuna_study\n",
      "Passed unknown parameter: config.metrics\n",
      "Passed unknown parameter: config.main_metric\n",
      "Passed unknown parameter: config.use_wandb\n",
      "Passed unknown parameter: config.wandb_group\n"
     ]
    },
    {
     "name": "stdout",
     "output_type": "stream",
     "text": [
      "[I 2024-08-22 08:01:10,673] Trial 31 finished with values: [0.1114518865942955, 0.7895082831382751, -14.10177993774414, 5.518984317779541, 4.13999080657959, -1.01759934425354] and parameters: {'arch.attn_dropout': 0.0, 'arch.d_model': 416, 'arch.d_ff': 64, 'arch.decomposition': True, 'arch.dropout': 0.5, 'arch.individual': True, 'arch.n_layers': 1, 'arch.n_heads': 2, 'init_weights': True, 'lookback': 24, 'loss_func': 'wQuantile'}. \n"
     ]
    },
    {
     "name": "stderr",
     "output_type": "stream",
     "text": [
      "Executing: 100%|██████████| 33/33 [00:36<00:00,  1.11s/cell]\n",
      " 33%|███▎      | 33/100 [22:20<45:44, 40.97s/it]Passed unknown parameter: config.arch.attn_dropout\n",
      "Passed unknown parameter: config.arch.d_model\n",
      "Passed unknown parameter: config.arch.d_ff\n",
      "Passed unknown parameter: config.arch.decomposition\n",
      "Passed unknown parameter: config.arch.dropout\n",
      "Passed unknown parameter: config.arch.individual\n",
      "Passed unknown parameter: config.arch.n_layers\n",
      "Passed unknown parameter: config.arch.n_heads\n",
      "Passed unknown parameter: config.init_weights\n",
      "Passed unknown parameter: config.lookback\n",
      "Passed unknown parameter: config.loss_func\n",
      "Passed unknown parameter: config.loss_config\n",
      "Passed unknown parameter: config.n_epoch\n",
      "Passed unknown parameter: config.bs\n",
      "Passed unknown parameter: config.is_optuna_study\n",
      "Passed unknown parameter: config.metrics\n",
      "Passed unknown parameter: config.main_metric\n",
      "Passed unknown parameter: config.use_wandb\n",
      "Passed unknown parameter: config.wandb_group\n"
     ]
    },
    {
     "name": "stdout",
     "output_type": "stream",
     "text": [
      "[I 2024-08-22 08:01:47,448] Trial 32 finished with values: [0.11451809108257294, 0.7827619910240173, -12.636228561401367, 5.1894211769104, 3.554641008377075, 0.22904902696609497] and parameters: {'arch.attn_dropout': 0.1, 'arch.d_model': 448, 'arch.d_ff': 32, 'arch.decomposition': True, 'arch.dropout': 0.5, 'arch.individual': True, 'arch.n_layers': 2, 'arch.n_heads': 2, 'init_weights': False, 'lookback': 18, 'loss_func': 'Quantile'}. \n"
     ]
    },
    {
     "name": "stderr",
     "output_type": "stream",
     "text": [
      "Executing: 100%|██████████| 33/33 [00:55<00:00,  1.69s/cell]\n",
      " 34%|███▍      | 34/100 [23:15<49:58, 45.43s/it]Passed unknown parameter: config.arch.attn_dropout\n",
      "Passed unknown parameter: config.arch.d_model\n",
      "Passed unknown parameter: config.arch.d_ff\n",
      "Passed unknown parameter: config.arch.decomposition\n",
      "Passed unknown parameter: config.arch.dropout\n",
      "Passed unknown parameter: config.arch.individual\n",
      "Passed unknown parameter: config.arch.n_layers\n",
      "Passed unknown parameter: config.arch.n_heads\n",
      "Passed unknown parameter: config.init_weights\n",
      "Passed unknown parameter: config.lookback\n",
      "Passed unknown parameter: config.loss_func\n",
      "Passed unknown parameter: config.loss_config\n",
      "Passed unknown parameter: config.n_epoch\n",
      "Passed unknown parameter: config.bs\n",
      "Passed unknown parameter: config.is_optuna_study\n",
      "Passed unknown parameter: config.metrics\n",
      "Passed unknown parameter: config.main_metric\n",
      "Passed unknown parameter: config.use_wandb\n",
      "Passed unknown parameter: config.wandb_group\n"
     ]
    },
    {
     "name": "stdout",
     "output_type": "stream",
     "text": [
      "[I 2024-08-22 08:02:43,290] Trial 33 finished with values: [0.11446020752191544, 0.7905058860778809, -8.577880859375, 6.046549320220947, 4.810080528259277, -1.7707276344299316] and parameters: {'arch.attn_dropout': 0.0, 'arch.d_model': 448, 'arch.d_ff': 192, 'arch.decomposition': True, 'arch.dropout': 0.30000000000000004, 'arch.individual': False, 'arch.n_layers': 2, 'arch.n_heads': 32, 'init_weights': False, 'lookback': 192, 'loss_func': 'Classification'}. \n"
     ]
    },
    {
     "name": "stderr",
     "output_type": "stream",
     "text": [
      "Executing: 100%|██████████| 33/33 [00:28<00:00,  1.16cell/s]\n",
      " 35%|███▌      | 35/100 [23:44<43:45, 40.39s/it]Passed unknown parameter: config.arch.attn_dropout\n",
      "Passed unknown parameter: config.arch.d_model\n",
      "Passed unknown parameter: config.arch.d_ff\n",
      "Passed unknown parameter: config.arch.decomposition\n",
      "Passed unknown parameter: config.arch.dropout\n",
      "Passed unknown parameter: config.arch.individual\n",
      "Passed unknown parameter: config.arch.n_layers\n",
      "Passed unknown parameter: config.arch.n_heads\n",
      "Passed unknown parameter: config.init_weights\n",
      "Passed unknown parameter: config.lookback\n",
      "Passed unknown parameter: config.loss_func\n",
      "Passed unknown parameter: config.loss_config\n",
      "Passed unknown parameter: config.n_epoch\n",
      "Passed unknown parameter: config.bs\n",
      "Passed unknown parameter: config.is_optuna_study\n",
      "Passed unknown parameter: config.metrics\n",
      "Passed unknown parameter: config.main_metric\n",
      "Passed unknown parameter: config.use_wandb\n",
      "Passed unknown parameter: config.wandb_group\n"
     ]
    },
    {
     "name": "stdout",
     "output_type": "stream",
     "text": [
      "[I 2024-08-22 08:03:11,900] Trial 34 finished with values: [0.09636195003986359, 0.5758963823318481, -10.758906364440918, 8.333673477172852, 7.236177921295166, -0.5630510449409485] and parameters: {'arch.attn_dropout': 0.1, 'arch.d_model': 480, 'arch.d_ff': 128, 'arch.decomposition': False, 'arch.dropout': 0.5, 'arch.individual': True, 'arch.n_layers': 1, 'arch.n_heads': 2, 'init_weights': True, 'lookback': 192, 'loss_func': 'MSE'}. \n"
     ]
    },
    {
     "name": "stderr",
     "output_type": "stream",
     "text": [
      "Executing: 100%|██████████| 33/33 [00:34<00:00,  1.06s/cell]\n",
      " 36%|███▌      | 36/100 [24:19<41:19, 38.75s/it]Passed unknown parameter: config.arch.attn_dropout\n",
      "Passed unknown parameter: config.arch.d_model\n",
      "Passed unknown parameter: config.arch.d_ff\n",
      "Passed unknown parameter: config.arch.decomposition\n",
      "Passed unknown parameter: config.arch.dropout\n",
      "Passed unknown parameter: config.arch.individual\n",
      "Passed unknown parameter: config.arch.n_layers\n",
      "Passed unknown parameter: config.arch.n_heads\n",
      "Passed unknown parameter: config.init_weights\n",
      "Passed unknown parameter: config.lookback\n",
      "Passed unknown parameter: config.loss_func\n",
      "Passed unknown parameter: config.loss_config\n",
      "Passed unknown parameter: config.n_epoch\n",
      "Passed unknown parameter: config.bs\n",
      "Passed unknown parameter: config.is_optuna_study\n",
      "Passed unknown parameter: config.metrics\n",
      "Passed unknown parameter: config.main_metric\n",
      "Passed unknown parameter: config.use_wandb\n",
      "Passed unknown parameter: config.wandb_group\n"
     ]
    },
    {
     "name": "stdout",
     "output_type": "stream",
     "text": [
      "[I 2024-08-22 08:03:46,822] Trial 35 finished with values: [0.11426777392625809, 0.7977280616760254, -7.856339931488037, 5.584765434265137, 4.3387532234191895, -0.9557379484176636] and parameters: {'arch.attn_dropout': 0.2, 'arch.d_model': 448, 'arch.d_ff': 96, 'arch.decomposition': True, 'arch.dropout': 0.2, 'arch.individual': False, 'arch.n_layers': 1, 'arch.n_heads': 8, 'init_weights': False, 'lookback': 192, 'loss_func': 'Quantile'}. \n"
     ]
    },
    {
     "name": "stderr",
     "output_type": "stream",
     "text": [
      "Executing: 100%|██████████| 33/33 [00:36<00:00,  1.09s/cell]\n",
      " 37%|███▋      | 37/100 [24:55<39:50, 37.95s/it]Passed unknown parameter: config.arch.attn_dropout\n",
      "Passed unknown parameter: config.arch.d_model\n",
      "Passed unknown parameter: config.arch.d_ff\n",
      "Passed unknown parameter: config.arch.decomposition\n",
      "Passed unknown parameter: config.arch.dropout\n",
      "Passed unknown parameter: config.arch.individual\n",
      "Passed unknown parameter: config.arch.n_layers\n",
      "Passed unknown parameter: config.arch.n_heads\n",
      "Passed unknown parameter: config.init_weights\n",
      "Passed unknown parameter: config.lookback\n",
      "Passed unknown parameter: config.loss_func\n",
      "Passed unknown parameter: config.loss_config\n",
      "Passed unknown parameter: config.n_epoch\n",
      "Passed unknown parameter: config.bs\n",
      "Passed unknown parameter: config.is_optuna_study\n",
      "Passed unknown parameter: config.metrics\n",
      "Passed unknown parameter: config.main_metric\n",
      "Passed unknown parameter: config.use_wandb\n",
      "Passed unknown parameter: config.wandb_group\n"
     ]
    },
    {
     "name": "stdout",
     "output_type": "stream",
     "text": [
      "[I 2024-08-22 08:04:22,908] Trial 36 finished with values: [0.12580491602420807, 0.6137973666191101, -6.589062690734863, 8.877677917480469, 7.301178932189941, -2.286930561065674] and parameters: {'arch.attn_dropout': 0.0, 'arch.d_model': 448, 'arch.d_ff': 352, 'arch.decomposition': True, 'arch.dropout': 0.30000000000000004, 'arch.individual': True, 'arch.n_layers': 1, 'arch.n_heads': 2, 'init_weights': True, 'lookback': 192, 'loss_func': 'Quantile'}. \n"
     ]
    },
    {
     "name": "stderr",
     "output_type": "stream",
     "text": [
      "Executing: 100%|██████████| 33/33 [00:36<00:00,  1.10s/cell]\n",
      " 38%|███▊      | 38/100 [25:31<38:41, 37.44s/it]Passed unknown parameter: config.arch.attn_dropout\n",
      "Passed unknown parameter: config.arch.d_model\n",
      "Passed unknown parameter: config.arch.d_ff\n",
      "Passed unknown parameter: config.arch.decomposition\n",
      "Passed unknown parameter: config.arch.dropout\n",
      "Passed unknown parameter: config.arch.individual\n",
      "Passed unknown parameter: config.arch.n_layers\n",
      "Passed unknown parameter: config.arch.n_heads\n",
      "Passed unknown parameter: config.init_weights\n",
      "Passed unknown parameter: config.lookback\n",
      "Passed unknown parameter: config.loss_func\n",
      "Passed unknown parameter: config.loss_config\n",
      "Passed unknown parameter: config.n_epoch\n",
      "Passed unknown parameter: config.bs\n",
      "Passed unknown parameter: config.is_optuna_study\n",
      "Passed unknown parameter: config.metrics\n",
      "Passed unknown parameter: config.main_metric\n",
      "Passed unknown parameter: config.use_wandb\n",
      "Passed unknown parameter: config.wandb_group\n"
     ]
    },
    {
     "name": "stdout",
     "output_type": "stream",
     "text": [
      "[I 2024-08-22 08:04:59,178] Trial 37 finished with values: [0.10310213267803192, 0.6424150466918945, -5.656093120574951, 8.025251388549805, 6.3598761558532715, -2.4369704723358154] and parameters: {'arch.attn_dropout': 0.0, 'arch.d_model': 384, 'arch.d_ff': 384, 'arch.decomposition': True, 'arch.dropout': 0.1, 'arch.individual': True, 'arch.n_layers': 1, 'arch.n_heads': 2, 'init_weights': True, 'lookback': 192, 'loss_func': 'Quantile'}. \n"
     ]
    },
    {
     "name": "stderr",
     "output_type": "stream",
     "text": [
      "Executing: 100%|██████████| 33/33 [00:56<00:00,  1.70s/cell]\n",
      " 39%|███▉      | 39/100 [26:27<43:45, 43.04s/it]Passed unknown parameter: config.arch.attn_dropout\n",
      "Passed unknown parameter: config.arch.d_model\n",
      "Passed unknown parameter: config.arch.d_ff\n",
      "Passed unknown parameter: config.arch.decomposition\n",
      "Passed unknown parameter: config.arch.dropout\n",
      "Passed unknown parameter: config.arch.individual\n",
      "Passed unknown parameter: config.arch.n_layers\n",
      "Passed unknown parameter: config.arch.n_heads\n",
      "Passed unknown parameter: config.init_weights\n",
      "Passed unknown parameter: config.lookback\n",
      "Passed unknown parameter: config.loss_func\n",
      "Passed unknown parameter: config.loss_config\n",
      "Passed unknown parameter: config.n_epoch\n",
      "Passed unknown parameter: config.bs\n",
      "Passed unknown parameter: config.is_optuna_study\n",
      "Passed unknown parameter: config.metrics\n",
      "Passed unknown parameter: config.main_metric\n",
      "Passed unknown parameter: config.use_wandb\n",
      "Passed unknown parameter: config.wandb_group\n"
     ]
    },
    {
     "name": "stdout",
     "output_type": "stream",
     "text": [
      "[I 2024-08-22 08:05:55,288] Trial 38 finished with values: [0.10464994609355927, 0.29103201627731323, -1.433903455734253, 14.571897506713867, 11.637394905090332, -8.963631629943848] and parameters: {'arch.attn_dropout': 0.1, 'arch.d_model': 512, 'arch.d_ff': 448, 'arch.decomposition': True, 'arch.dropout': 0.5, 'arch.individual': True, 'arch.n_layers': 2, 'arch.n_heads': 2, 'init_weights': True, 'lookback': 192, 'loss_func': 'wRMSLE'}. \n"
     ]
    },
    {
     "name": "stderr",
     "output_type": "stream",
     "text": [
      "Executing: 100%|██████████| 33/33 [01:05<00:00,  1.98s/cell]\n",
      " 40%|████      | 40/100 [27:33<49:43, 49.73s/it]Passed unknown parameter: config.arch.attn_dropout\n",
      "Passed unknown parameter: config.arch.d_model\n",
      "Passed unknown parameter: config.arch.d_ff\n",
      "Passed unknown parameter: config.arch.decomposition\n",
      "Passed unknown parameter: config.arch.dropout\n",
      "Passed unknown parameter: config.arch.individual\n",
      "Passed unknown parameter: config.arch.n_layers\n",
      "Passed unknown parameter: config.arch.n_heads\n",
      "Passed unknown parameter: config.init_weights\n",
      "Passed unknown parameter: config.lookback\n",
      "Passed unknown parameter: config.loss_func\n",
      "Passed unknown parameter: config.loss_config\n",
      "Passed unknown parameter: config.n_epoch\n",
      "Passed unknown parameter: config.bs\n",
      "Passed unknown parameter: config.is_optuna_study\n",
      "Passed unknown parameter: config.metrics\n",
      "Passed unknown parameter: config.main_metric\n",
      "Passed unknown parameter: config.use_wandb\n",
      "Passed unknown parameter: config.wandb_group\n"
     ]
    },
    {
     "name": "stdout",
     "output_type": "stream",
     "text": [
      "[I 2024-08-22 08:07:00,619] Trial 39 finished with values: [0.0665137991309166, 0.30622437596321106, -16.980178833007812, 15.231639862060547, 13.737531661987305, -11.234020233154297] and parameters: {'arch.attn_dropout': 0.0, 'arch.d_model': 480, 'arch.d_ff': 384, 'arch.decomposition': True, 'arch.dropout': 0.5, 'arch.individual': True, 'arch.n_layers': 3, 'arch.n_heads': 2, 'init_weights': True, 'lookback': 128, 'loss_func': 'wRMSLE'}. \n"
     ]
    },
    {
     "name": "stderr",
     "output_type": "stream",
     "text": [
      "Executing: 100%|██████████| 33/33 [00:38<00:00,  1.17s/cell]\n",
      " 41%|████      | 41/100 [28:11<45:38, 46.42s/it]Passed unknown parameter: config.arch.attn_dropout\n",
      "Passed unknown parameter: config.arch.d_model\n",
      "Passed unknown parameter: config.arch.d_ff\n",
      "Passed unknown parameter: config.arch.decomposition\n",
      "Passed unknown parameter: config.arch.dropout\n",
      "Passed unknown parameter: config.arch.individual\n",
      "Passed unknown parameter: config.arch.n_layers\n",
      "Passed unknown parameter: config.arch.n_heads\n",
      "Passed unknown parameter: config.init_weights\n",
      "Passed unknown parameter: config.lookback\n",
      "Passed unknown parameter: config.loss_func\n",
      "Passed unknown parameter: config.loss_config\n",
      "Passed unknown parameter: config.n_epoch\n",
      "Passed unknown parameter: config.bs\n",
      "Passed unknown parameter: config.is_optuna_study\n",
      "Passed unknown parameter: config.metrics\n",
      "Passed unknown parameter: config.main_metric\n",
      "Passed unknown parameter: config.use_wandb\n",
      "Passed unknown parameter: config.wandb_group\n"
     ]
    },
    {
     "name": "stdout",
     "output_type": "stream",
     "text": [
      "[I 2024-08-22 08:07:39,300] Trial 40 finished with values: [0.11073804646730423, 0.426573246717453, -2.761821985244751, 12.922237396240234, 10.297611236572266, -6.132183074951172] and parameters: {'arch.attn_dropout': 0.1, 'arch.d_model': 512, 'arch.d_ff': 512, 'arch.decomposition': True, 'arch.dropout': 0.4, 'arch.individual': True, 'arch.n_layers': 1, 'arch.n_heads': 2, 'init_weights': True, 'lookback': 192, 'loss_func': 'wMSLE'}. \n"
     ]
    },
    {
     "name": "stderr",
     "output_type": "stream",
     "text": [
      "Executing: 100%|██████████| 33/33 [00:28<00:00,  1.15cell/s]\n",
      " 42%|████▏     | 42/100 [28:40<39:45, 41.13s/it]Passed unknown parameter: config.arch.attn_dropout\n",
      "Passed unknown parameter: config.arch.d_model\n",
      "Passed unknown parameter: config.arch.d_ff\n",
      "Passed unknown parameter: config.arch.decomposition\n",
      "Passed unknown parameter: config.arch.dropout\n",
      "Passed unknown parameter: config.arch.individual\n",
      "Passed unknown parameter: config.arch.n_layers\n",
      "Passed unknown parameter: config.arch.n_heads\n",
      "Passed unknown parameter: config.init_weights\n",
      "Passed unknown parameter: config.lookback\n",
      "Passed unknown parameter: config.loss_func\n",
      "Passed unknown parameter: config.loss_config\n",
      "Passed unknown parameter: config.n_epoch\n",
      "Passed unknown parameter: config.bs\n",
      "Passed unknown parameter: config.is_optuna_study\n",
      "Passed unknown parameter: config.metrics\n",
      "Passed unknown parameter: config.main_metric\n",
      "Passed unknown parameter: config.use_wandb\n",
      "Passed unknown parameter: config.wandb_group\n"
     ]
    },
    {
     "name": "stdout",
     "output_type": "stream",
     "text": [
      "[I 2024-08-22 08:08:08,103] Trial 41 finished with values: [0.10224585235118866, 0.7573249340057373, -16.196035385131836, 5.600056171417236, 3.9524240493774414, -0.8569483160972595] and parameters: {'arch.attn_dropout': 0.0, 'arch.d_model': 512, 'arch.d_ff': 416, 'arch.decomposition': False, 'arch.dropout': 0.30000000000000004, 'arch.individual': True, 'arch.n_layers': 2, 'arch.n_heads': 4, 'init_weights': True, 'lookback': 18, 'loss_func': 'Quantile'}. \n"
     ]
    },
    {
     "name": "stderr",
     "output_type": "stream",
     "text": [
      "Executing: 100%|██████████| 33/33 [00:37<00:00,  1.13s/cell]\n",
      " 43%|████▎     | 43/100 [29:17<37:57, 39.96s/it]Passed unknown parameter: config.arch.attn_dropout\n",
      "Passed unknown parameter: config.arch.d_model\n",
      "Passed unknown parameter: config.arch.d_ff\n",
      "Passed unknown parameter: config.arch.decomposition\n",
      "Passed unknown parameter: config.arch.dropout\n",
      "Passed unknown parameter: config.arch.individual\n",
      "Passed unknown parameter: config.arch.n_layers\n",
      "Passed unknown parameter: config.arch.n_heads\n",
      "Passed unknown parameter: config.init_weights\n",
      "Passed unknown parameter: config.lookback\n",
      "Passed unknown parameter: config.loss_func\n",
      "Passed unknown parameter: config.loss_config\n",
      "Passed unknown parameter: config.n_epoch\n",
      "Passed unknown parameter: config.bs\n",
      "Passed unknown parameter: config.is_optuna_study\n",
      "Passed unknown parameter: config.metrics\n",
      "Passed unknown parameter: config.main_metric\n",
      "Passed unknown parameter: config.use_wandb\n",
      "Passed unknown parameter: config.wandb_group\n"
     ]
    },
    {
     "name": "stdout",
     "output_type": "stream",
     "text": [
      "[I 2024-08-22 08:08:45,333] Trial 42 finished with values: [0.12119290977716446, 0.42207571864128113, -9.309225082397461, 13.030366897583008, 11.146722793579102, -5.347114562988281] and parameters: {'arch.attn_dropout': 0.0, 'arch.d_model': 480, 'arch.d_ff': 448, 'arch.decomposition': True, 'arch.dropout': 0.2, 'arch.individual': True, 'arch.n_layers': 1, 'arch.n_heads': 2, 'init_weights': False, 'lookback': 192, 'loss_func': 'wMSE'}. \n"
     ]
    },
    {
     "name": "stderr",
     "output_type": "stream",
     "text": [
      "Executing: 100%|██████████| 33/33 [00:37<00:00,  1.14s/cell]\n",
      " 44%|████▍     | 44/100 [29:55<36:37, 39.24s/it]Passed unknown parameter: config.arch.attn_dropout\n",
      "Passed unknown parameter: config.arch.d_model\n",
      "Passed unknown parameter: config.arch.d_ff\n",
      "Passed unknown parameter: config.arch.decomposition\n",
      "Passed unknown parameter: config.arch.dropout\n",
      "Passed unknown parameter: config.arch.individual\n",
      "Passed unknown parameter: config.arch.n_layers\n",
      "Passed unknown parameter: config.arch.n_heads\n",
      "Passed unknown parameter: config.init_weights\n",
      "Passed unknown parameter: config.lookback\n",
      "Passed unknown parameter: config.loss_func\n",
      "Passed unknown parameter: config.loss_config\n",
      "Passed unknown parameter: config.n_epoch\n",
      "Passed unknown parameter: config.bs\n",
      "Passed unknown parameter: config.is_optuna_study\n",
      "Passed unknown parameter: config.metrics\n",
      "Passed unknown parameter: config.main_metric\n",
      "Passed unknown parameter: config.use_wandb\n",
      "Passed unknown parameter: config.wandb_group\n"
     ]
    },
    {
     "name": "stdout",
     "output_type": "stream",
     "text": [
      "[I 2024-08-22 08:09:22,892] Trial 43 finished with values: [0.16252557933330536, 0.6664878129959106, -3.601962089538574, 6.7322211265563965, 4.668729782104492, -1.6843112707138062] and parameters: {'arch.attn_dropout': 0.2, 'arch.d_model': 480, 'arch.d_ff': 448, 'arch.decomposition': True, 'arch.dropout': 0.4, 'arch.individual': True, 'arch.n_layers': 2, 'arch.n_heads': 32, 'init_weights': True, 'lookback': 18, 'loss_func': 'wMSLE'}. \n"
     ]
    },
    {
     "name": "stderr",
     "output_type": "stream",
     "text": [
      "Executing: 100%|██████████| 33/33 [00:32<00:00,  1.01cell/s]\n",
      " 45%|████▌     | 45/100 [30:28<34:09, 37.26s/it]Passed unknown parameter: config.arch.attn_dropout\n",
      "Passed unknown parameter: config.arch.d_model\n",
      "Passed unknown parameter: config.arch.d_ff\n",
      "Passed unknown parameter: config.arch.decomposition\n",
      "Passed unknown parameter: config.arch.dropout\n",
      "Passed unknown parameter: config.arch.individual\n",
      "Passed unknown parameter: config.arch.n_layers\n",
      "Passed unknown parameter: config.arch.n_heads\n",
      "Passed unknown parameter: config.init_weights\n",
      "Passed unknown parameter: config.lookback\n",
      "Passed unknown parameter: config.loss_func\n",
      "Passed unknown parameter: config.loss_config\n",
      "Passed unknown parameter: config.n_epoch\n",
      "Passed unknown parameter: config.bs\n",
      "Passed unknown parameter: config.is_optuna_study\n",
      "Passed unknown parameter: config.metrics\n",
      "Passed unknown parameter: config.main_metric\n",
      "Passed unknown parameter: config.use_wandb\n",
      "Passed unknown parameter: config.wandb_group\n"
     ]
    },
    {
     "name": "stdout",
     "output_type": "stream",
     "text": [
      "[I 2024-08-22 08:09:55,526] Trial 44 finished with values: [0.0953540951013565, 0.7362088561058044, -12.852890968322754, 6.000389099121094, 4.226032257080078, -1.264025330543518] and parameters: {'arch.attn_dropout': 0.30000000000000004, 'arch.d_model': 448, 'arch.d_ff': 224, 'arch.decomposition': True, 'arch.dropout': 0.4, 'arch.individual': True, 'arch.n_layers': 1, 'arch.n_heads': 32, 'init_weights': True, 'lookback': 18, 'loss_func': 'wMSLE'}. \n"
     ]
    },
    {
     "name": "stderr",
     "output_type": "stream",
     "text": [
      "Executing: 100%|██████████| 33/33 [00:40<00:00,  1.22s/cell]\n",
      " 46%|████▌     | 46/100 [31:08<34:24, 38.23s/it]Passed unknown parameter: config.arch.attn_dropout\n",
      "Passed unknown parameter: config.arch.d_model\n",
      "Passed unknown parameter: config.arch.d_ff\n",
      "Passed unknown parameter: config.arch.decomposition\n",
      "Passed unknown parameter: config.arch.dropout\n",
      "Passed unknown parameter: config.arch.individual\n",
      "Passed unknown parameter: config.arch.n_layers\n",
      "Passed unknown parameter: config.arch.n_heads\n",
      "Passed unknown parameter: config.init_weights\n",
      "Passed unknown parameter: config.lookback\n",
      "Passed unknown parameter: config.loss_func\n",
      "Passed unknown parameter: config.loss_config\n",
      "Passed unknown parameter: config.n_epoch\n",
      "Passed unknown parameter: config.bs\n",
      "Passed unknown parameter: config.is_optuna_study\n",
      "Passed unknown parameter: config.metrics\n",
      "Passed unknown parameter: config.main_metric\n",
      "Passed unknown parameter: config.use_wandb\n",
      "Passed unknown parameter: config.wandb_group\n"
     ]
    },
    {
     "name": "stdout",
     "output_type": "stream",
     "text": [
      "[I 2024-08-22 08:10:36,011] Trial 45 finished with values: [0.11291864514350891, 0.7948287129402161, -10.740116119384766, 5.478008270263672, 3.8785667419433594, -0.5733741521835327] and parameters: {'arch.attn_dropout': 0.0, 'arch.d_model': 448, 'arch.d_ff': 352, 'arch.decomposition': True, 'arch.dropout': 0.4, 'arch.individual': True, 'arch.n_layers': 1, 'arch.n_heads': 16, 'init_weights': True, 'lookback': 36, 'loss_func': 'Quantile'}. \n"
     ]
    },
    {
     "name": "stderr",
     "output_type": "stream",
     "text": [
      "Executing: 100%|██████████| 33/33 [00:38<00:00,  1.16s/cell]\n",
      " 47%|████▋     | 47/100 [31:46<33:47, 38.25s/it]Passed unknown parameter: config.arch.attn_dropout\n",
      "Passed unknown parameter: config.arch.d_model\n",
      "Passed unknown parameter: config.arch.d_ff\n",
      "Passed unknown parameter: config.arch.decomposition\n",
      "Passed unknown parameter: config.arch.dropout\n",
      "Passed unknown parameter: config.arch.individual\n",
      "Passed unknown parameter: config.arch.n_layers\n",
      "Passed unknown parameter: config.arch.n_heads\n",
      "Passed unknown parameter: config.init_weights\n",
      "Passed unknown parameter: config.lookback\n",
      "Passed unknown parameter: config.loss_func\n",
      "Passed unknown parameter: config.loss_config\n",
      "Passed unknown parameter: config.n_epoch\n",
      "Passed unknown parameter: config.bs\n",
      "Passed unknown parameter: config.is_optuna_study\n",
      "Passed unknown parameter: config.metrics\n",
      "Passed unknown parameter: config.main_metric\n",
      "Passed unknown parameter: config.use_wandb\n",
      "Passed unknown parameter: config.wandb_group\n"
     ]
    },
    {
     "name": "stdout",
     "output_type": "stream",
     "text": [
      "[W 2024-08-22 08:11:14,325] Trial 46 failed with parameters: {'arch.attn_dropout': 0.1, 'arch.d_model': 512, 'arch.d_ff': 416, 'arch.decomposition': True, 'arch.dropout': 0.30000000000000004, 'arch.individual': True, 'arch.n_layers': 1, 'arch.n_heads': 4, 'init_weights': True, 'lookback': 192, 'loss_func': 'wMSLE'} because of the following error: The value nan is not acceptable.\n",
      "[W 2024-08-22 08:11:14,329] Trial 46 failed with value (tensor(0.0794), tensor(0.1271), tensor(-1.3845), tensor(23.9131), tensor(nan), tensor(nan)).\n"
     ]
    },
    {
     "name": "stderr",
     "output_type": "stream",
     "text": [
      "Executing: 100%|██████████| 33/33 [00:45<00:00,  1.38s/cell]\n",
      " 48%|████▊     | 48/100 [32:32<35:04, 40.47s/it]Passed unknown parameter: config.arch.attn_dropout\n",
      "Passed unknown parameter: config.arch.d_model\n",
      "Passed unknown parameter: config.arch.d_ff\n",
      "Passed unknown parameter: config.arch.decomposition\n",
      "Passed unknown parameter: config.arch.dropout\n",
      "Passed unknown parameter: config.arch.individual\n",
      "Passed unknown parameter: config.arch.n_layers\n",
      "Passed unknown parameter: config.arch.n_heads\n",
      "Passed unknown parameter: config.init_weights\n",
      "Passed unknown parameter: config.lookback\n",
      "Passed unknown parameter: config.loss_func\n",
      "Passed unknown parameter: config.loss_config\n",
      "Passed unknown parameter: config.n_epoch\n",
      "Passed unknown parameter: config.bs\n",
      "Passed unknown parameter: config.is_optuna_study\n",
      "Passed unknown parameter: config.metrics\n",
      "Passed unknown parameter: config.main_metric\n",
      "Passed unknown parameter: config.use_wandb\n",
      "Passed unknown parameter: config.wandb_group\n"
     ]
    },
    {
     "name": "stdout",
     "output_type": "stream",
     "text": [
      "[I 2024-08-22 08:11:59,980] Trial 47 finished with values: [0.11512602865695953, 0.670362651348114, -9.510882377624512, 7.815399169921875, 6.439095973968506, -1.873404622077942] and parameters: {'arch.attn_dropout': 0.0, 'arch.d_model': 320, 'arch.d_ff': 384, 'arch.decomposition': True, 'arch.dropout': 0.4, 'arch.individual': True, 'arch.n_layers': 2, 'arch.n_heads': 8, 'init_weights': True, 'lookback': 192, 'loss_func': 'MAE'}. \n"
     ]
    },
    {
     "name": "stderr",
     "output_type": "stream",
     "text": [
      "Executing: 100%|██████████| 33/33 [00:31<00:00,  1.06cell/s]\n",
      " 49%|████▉     | 49/100 [33:03<32:01, 37.67s/it]Passed unknown parameter: config.arch.attn_dropout\n",
      "Passed unknown parameter: config.arch.d_model\n",
      "Passed unknown parameter: config.arch.d_ff\n",
      "Passed unknown parameter: config.arch.decomposition\n",
      "Passed unknown parameter: config.arch.dropout\n",
      "Passed unknown parameter: config.arch.individual\n",
      "Passed unknown parameter: config.arch.n_layers\n",
      "Passed unknown parameter: config.arch.n_heads\n",
      "Passed unknown parameter: config.init_weights\n",
      "Passed unknown parameter: config.lookback\n",
      "Passed unknown parameter: config.loss_func\n",
      "Passed unknown parameter: config.loss_config\n",
      "Passed unknown parameter: config.n_epoch\n",
      "Passed unknown parameter: config.bs\n",
      "Passed unknown parameter: config.is_optuna_study\n",
      "Passed unknown parameter: config.metrics\n",
      "Passed unknown parameter: config.main_metric\n",
      "Passed unknown parameter: config.use_wandb\n",
      "Passed unknown parameter: config.wandb_group\n"
     ]
    },
    {
     "name": "stdout",
     "output_type": "stream",
     "text": [
      "[I 2024-08-22 08:12:31,100] Trial 48 finished with values: [0.11877892911434174, 0.7503784894943237, -14.644082069396973, 5.883270740509033, 4.180958271026611, -1.7493125200271606] and parameters: {'arch.attn_dropout': 0.2, 'arch.d_model': 416, 'arch.d_ff': 512, 'arch.decomposition': True, 'arch.dropout': 0.5, 'arch.individual': False, 'arch.n_layers': 1, 'arch.n_heads': 16, 'init_weights': True, 'lookback': 18, 'loss_func': 'wMSLE'}. \n"
     ]
    },
    {
     "name": "stderr",
     "output_type": "stream",
     "text": [
      "Executing: 100%|██████████| 33/33 [00:38<00:00,  1.18s/cell]\n",
      " 50%|█████     | 50/100 [33:42<31:43, 38.07s/it]Passed unknown parameter: config.arch.attn_dropout\n",
      "Passed unknown parameter: config.arch.d_model\n",
      "Passed unknown parameter: config.arch.d_ff\n",
      "Passed unknown parameter: config.arch.decomposition\n",
      "Passed unknown parameter: config.arch.dropout\n",
      "Passed unknown parameter: config.arch.individual\n",
      "Passed unknown parameter: config.arch.n_layers\n",
      "Passed unknown parameter: config.arch.n_heads\n",
      "Passed unknown parameter: config.init_weights\n",
      "Passed unknown parameter: config.lookback\n",
      "Passed unknown parameter: config.loss_func\n",
      "Passed unknown parameter: config.loss_config\n",
      "Passed unknown parameter: config.n_epoch\n",
      "Passed unknown parameter: config.bs\n",
      "Passed unknown parameter: config.is_optuna_study\n",
      "Passed unknown parameter: config.metrics\n",
      "Passed unknown parameter: config.main_metric\n",
      "Passed unknown parameter: config.use_wandb\n",
      "Passed unknown parameter: config.wandb_group\n"
     ]
    },
    {
     "name": "stdout",
     "output_type": "stream",
     "text": [
      "[I 2024-08-22 08:13:10,119] Trial 49 finished with values: [0.11266110837459564, 0.7498100996017456, -9.38712215423584, 6.571783542633057, 4.87186336517334, -2.2333388328552246] and parameters: {'arch.attn_dropout': 0.2, 'arch.d_model': 480, 'arch.d_ff': 416, 'arch.decomposition': True, 'arch.dropout': 0.4, 'arch.individual': True, 'arch.n_layers': 1, 'arch.n_heads': 32, 'init_weights': True, 'lookback': 36, 'loss_func': 'wMSLE'}. \n"
     ]
    },
    {
     "name": "stderr",
     "output_type": "stream",
     "text": [
      "Executing: 100%|██████████| 33/33 [00:31<00:00,  1.04cell/s]\n",
      " 51%|█████     | 51/100 [34:14<29:34, 36.21s/it]Passed unknown parameter: config.arch.attn_dropout\n",
      "Passed unknown parameter: config.arch.d_model\n",
      "Passed unknown parameter: config.arch.d_ff\n",
      "Passed unknown parameter: config.arch.decomposition\n",
      "Passed unknown parameter: config.arch.dropout\n",
      "Passed unknown parameter: config.arch.individual\n",
      "Passed unknown parameter: config.arch.n_layers\n",
      "Passed unknown parameter: config.arch.n_heads\n",
      "Passed unknown parameter: config.init_weights\n",
      "Passed unknown parameter: config.lookback\n",
      "Passed unknown parameter: config.loss_func\n",
      "Passed unknown parameter: config.loss_config\n",
      "Passed unknown parameter: config.n_epoch\n",
      "Passed unknown parameter: config.bs\n",
      "Passed unknown parameter: config.is_optuna_study\n",
      "Passed unknown parameter: config.metrics\n",
      "Passed unknown parameter: config.main_metric\n",
      "Passed unknown parameter: config.use_wandb\n",
      "Passed unknown parameter: config.wandb_group\n"
     ]
    },
    {
     "name": "stdout",
     "output_type": "stream",
     "text": [
      "[I 2024-08-22 08:13:41,982] Trial 50 finished with values: [0.11939623951911926, 0.7621119022369385, -9.089804649353027, 6.115755558013916, 4.060930252075195, 2.6859145164489746] and parameters: {'arch.attn_dropout': 0.2, 'arch.d_model': 416, 'arch.d_ff': 512, 'arch.decomposition': True, 'arch.dropout': 0.30000000000000004, 'arch.individual': True, 'arch.n_layers': 1, 'arch.n_heads': 32, 'init_weights': False, 'lookback': 18, 'loss_func': 'Hubber'}. \n"
     ]
    },
    {
     "name": "stderr",
     "output_type": "stream",
     "text": [
      "Executing: 100%|██████████| 33/33 [00:42<00:00,  1.29s/cell]\n",
      " 52%|█████▏    | 52/100 [34:57<30:30, 38.13s/it]Passed unknown parameter: config.arch.attn_dropout\n",
      "Passed unknown parameter: config.arch.d_model\n",
      "Passed unknown parameter: config.arch.d_ff\n",
      "Passed unknown parameter: config.arch.decomposition\n",
      "Passed unknown parameter: config.arch.dropout\n",
      "Passed unknown parameter: config.arch.individual\n",
      "Passed unknown parameter: config.arch.n_layers\n",
      "Passed unknown parameter: config.arch.n_heads\n",
      "Passed unknown parameter: config.init_weights\n",
      "Passed unknown parameter: config.lookback\n",
      "Passed unknown parameter: config.loss_func\n",
      "Passed unknown parameter: config.loss_config\n",
      "Passed unknown parameter: config.n_epoch\n",
      "Passed unknown parameter: config.bs\n",
      "Passed unknown parameter: config.is_optuna_study\n",
      "Passed unknown parameter: config.metrics\n",
      "Passed unknown parameter: config.main_metric\n",
      "Passed unknown parameter: config.use_wandb\n",
      "Passed unknown parameter: config.wandb_group\n"
     ]
    },
    {
     "name": "stdout",
     "output_type": "stream",
     "text": [
      "[I 2024-08-22 08:14:24,597] Trial 51 finished with values: [0.1203223317861557, 0.7142364978790283, -15.751060485839844, 6.498799800872803, 4.801697731018066, -2.065929889678955] and parameters: {'arch.attn_dropout': 0.1, 'arch.d_model': 384, 'arch.d_ff': 448, 'arch.decomposition': True, 'arch.dropout': 0.4, 'arch.individual': True, 'arch.n_layers': 3, 'arch.n_heads': 4, 'init_weights': True, 'lookback': 18, 'loss_func': 'wMSLE'}. \n"
     ]
    },
    {
     "name": "stderr",
     "output_type": "stream",
     "text": [
      "Executing: 100%|██████████| 33/33 [00:39<00:00,  1.20s/cell]\n",
      " 53%|█████▎    | 53/100 [35:36<30:14, 38.61s/it]Passed unknown parameter: config.arch.attn_dropout\n",
      "Passed unknown parameter: config.arch.d_model\n",
      "Passed unknown parameter: config.arch.d_ff\n",
      "Passed unknown parameter: config.arch.decomposition\n",
      "Passed unknown parameter: config.arch.dropout\n",
      "Passed unknown parameter: config.arch.individual\n",
      "Passed unknown parameter: config.arch.n_layers\n",
      "Passed unknown parameter: config.arch.n_heads\n",
      "Passed unknown parameter: config.init_weights\n",
      "Passed unknown parameter: config.lookback\n",
      "Passed unknown parameter: config.loss_func\n",
      "Passed unknown parameter: config.loss_config\n",
      "Passed unknown parameter: config.n_epoch\n",
      "Passed unknown parameter: config.bs\n",
      "Passed unknown parameter: config.is_optuna_study\n",
      "Passed unknown parameter: config.metrics\n",
      "Passed unknown parameter: config.main_metric\n",
      "Passed unknown parameter: config.use_wandb\n",
      "Passed unknown parameter: config.wandb_group\n"
     ]
    },
    {
     "name": "stdout",
     "output_type": "stream",
     "text": [
      "[W 2024-08-22 08:15:04,338] Trial 52 failed with parameters: {'arch.attn_dropout': 0.1, 'arch.d_model': 480, 'arch.d_ff': 512, 'arch.decomposition': True, 'arch.dropout': 0.4, 'arch.individual': True, 'arch.n_layers': 1, 'arch.n_heads': 16, 'init_weights': True, 'lookback': 192, 'loss_func': 'Hubber'} because of the following error: The value nan is not acceptable.\n",
      "[W 2024-08-22 08:15:04,341] Trial 52 failed with value (tensor(0.0981), tensor(0.6466), tensor(-9.4593), tensor(20.8559), tensor(nan), tensor(nan)).\n"
     ]
    },
    {
     "name": "stderr",
     "output_type": "stream",
     "text": [
      "Executing: 100%|██████████| 33/33 [00:54<00:00,  1.64s/cell]\n",
      " 54%|█████▍    | 54/100 [36:31<33:11, 43.29s/it]Passed unknown parameter: config.arch.attn_dropout\n",
      "Passed unknown parameter: config.arch.d_model\n",
      "Passed unknown parameter: config.arch.d_ff\n",
      "Passed unknown parameter: config.arch.decomposition\n",
      "Passed unknown parameter: config.arch.dropout\n",
      "Passed unknown parameter: config.arch.individual\n",
      "Passed unknown parameter: config.arch.n_layers\n",
      "Passed unknown parameter: config.arch.n_heads\n",
      "Passed unknown parameter: config.init_weights\n",
      "Passed unknown parameter: config.lookback\n",
      "Passed unknown parameter: config.loss_func\n",
      "Passed unknown parameter: config.loss_config\n",
      "Passed unknown parameter: config.n_epoch\n",
      "Passed unknown parameter: config.bs\n",
      "Passed unknown parameter: config.is_optuna_study\n",
      "Passed unknown parameter: config.metrics\n",
      "Passed unknown parameter: config.main_metric\n",
      "Passed unknown parameter: config.use_wandb\n",
      "Passed unknown parameter: config.wandb_group\n"
     ]
    },
    {
     "name": "stdout",
     "output_type": "stream",
     "text": [
      "[I 2024-08-22 08:15:58,537] Trial 53 finished with values: [0.09014812111854553, 0.756236732006073, -15.340933799743652, 5.65695333480835, 4.009134769439697, -1.141350269317627] and parameters: {'arch.attn_dropout': 0.30000000000000004, 'arch.d_model': 512, 'arch.d_ff': 448, 'arch.decomposition': True, 'arch.dropout': 0.30000000000000004, 'arch.individual': False, 'arch.n_layers': 2, 'arch.n_heads': 32, 'init_weights': True, 'lookback': 18, 'loss_func': 'Trended'}. \n"
     ]
    },
    {
     "name": "stderr",
     "output_type": "stream",
     "text": [
      "Executing: 100%|██████████| 33/33 [00:35<00:00,  1.07s/cell]\n",
      " 55%|█████▌    | 55/100 [37:06<30:39, 40.88s/it]Passed unknown parameter: config.arch.attn_dropout\n",
      "Passed unknown parameter: config.arch.d_model\n",
      "Passed unknown parameter: config.arch.d_ff\n",
      "Passed unknown parameter: config.arch.decomposition\n",
      "Passed unknown parameter: config.arch.dropout\n",
      "Passed unknown parameter: config.arch.individual\n",
      "Passed unknown parameter: config.arch.n_layers\n",
      "Passed unknown parameter: config.arch.n_heads\n",
      "Passed unknown parameter: config.init_weights\n",
      "Passed unknown parameter: config.lookback\n",
      "Passed unknown parameter: config.loss_func\n",
      "Passed unknown parameter: config.loss_config\n",
      "Passed unknown parameter: config.n_epoch\n",
      "Passed unknown parameter: config.bs\n",
      "Passed unknown parameter: config.is_optuna_study\n",
      "Passed unknown parameter: config.metrics\n",
      "Passed unknown parameter: config.main_metric\n",
      "Passed unknown parameter: config.use_wandb\n",
      "Passed unknown parameter: config.wandb_group\n"
     ]
    },
    {
     "name": "stdout",
     "output_type": "stream",
     "text": [
      "[I 2024-08-22 08:16:33,810] Trial 54 finished with values: [0.09419620037078857, 0.5776558518409729, -3.446566104888916, 9.656267166137695, 8.062223434448242, -2.8549880981445312] and parameters: {'arch.attn_dropout': 0.0, 'arch.d_model': 448, 'arch.d_ff': 416, 'arch.decomposition': True, 'arch.dropout': 0.30000000000000004, 'arch.individual': False, 'arch.n_layers': 1, 'arch.n_heads': 2, 'init_weights': True, 'lookback': 192, 'loss_func': 'wMSLE'}. \n"
     ]
    },
    {
     "name": "stderr",
     "output_type": "stream",
     "text": [
      "Executing: 100%|██████████| 33/33 [00:37<00:00,  1.14s/cell]\n",
      " 56%|█████▌    | 56/100 [37:44<29:16, 39.93s/it]Passed unknown parameter: config.arch.attn_dropout\n",
      "Passed unknown parameter: config.arch.d_model\n",
      "Passed unknown parameter: config.arch.d_ff\n",
      "Passed unknown parameter: config.arch.decomposition\n",
      "Passed unknown parameter: config.arch.dropout\n",
      "Passed unknown parameter: config.arch.individual\n",
      "Passed unknown parameter: config.arch.n_layers\n",
      "Passed unknown parameter: config.arch.n_heads\n",
      "Passed unknown parameter: config.init_weights\n",
      "Passed unknown parameter: config.lookback\n",
      "Passed unknown parameter: config.loss_func\n",
      "Passed unknown parameter: config.loss_config\n",
      "Passed unknown parameter: config.n_epoch\n",
      "Passed unknown parameter: config.bs\n",
      "Passed unknown parameter: config.is_optuna_study\n",
      "Passed unknown parameter: config.metrics\n",
      "Passed unknown parameter: config.main_metric\n",
      "Passed unknown parameter: config.use_wandb\n",
      "Passed unknown parameter: config.wandb_group\n"
     ]
    },
    {
     "name": "stdout",
     "output_type": "stream",
     "text": [
      "[I 2024-08-22 08:17:11,511] Trial 55 finished with values: [0.12601986527442932, 0.6642252206802368, -4.165624141693115, 7.582842826843262, 5.7908220291137695, -1.7379136085510254] and parameters: {'arch.attn_dropout': 0.1, 'arch.d_model': 416, 'arch.d_ff': 480, 'arch.decomposition': True, 'arch.dropout': 0.30000000000000004, 'arch.individual': True, 'arch.n_layers': 1, 'arch.n_heads': 2, 'init_weights': False, 'lookback': 192, 'loss_func': 'wMSLE'}. \n"
     ]
    },
    {
     "name": "stderr",
     "output_type": "stream",
     "text": [
      "Executing: 100%|██████████| 33/33 [00:43<00:00,  1.31s/cell]\n",
      " 57%|█████▋    | 57/100 [38:27<29:20, 40.93s/it]Passed unknown parameter: config.arch.attn_dropout\n",
      "Passed unknown parameter: config.arch.d_model\n",
      "Passed unknown parameter: config.arch.d_ff\n",
      "Passed unknown parameter: config.arch.decomposition\n",
      "Passed unknown parameter: config.arch.dropout\n",
      "Passed unknown parameter: config.arch.individual\n",
      "Passed unknown parameter: config.arch.n_layers\n",
      "Passed unknown parameter: config.arch.n_heads\n",
      "Passed unknown parameter: config.init_weights\n",
      "Passed unknown parameter: config.lookback\n",
      "Passed unknown parameter: config.loss_func\n",
      "Passed unknown parameter: config.loss_config\n",
      "Passed unknown parameter: config.n_epoch\n",
      "Passed unknown parameter: config.bs\n",
      "Passed unknown parameter: config.is_optuna_study\n",
      "Passed unknown parameter: config.metrics\n",
      "Passed unknown parameter: config.main_metric\n",
      "Passed unknown parameter: config.use_wandb\n",
      "Passed unknown parameter: config.wandb_group\n"
     ]
    },
    {
     "name": "stdout",
     "output_type": "stream",
     "text": [
      "[I 2024-08-22 08:17:54,790] Trial 56 finished with values: [0.10098111629486084, 0.2750900983810425, -3.7695910930633545, 17.602218627929688, 11.285699844360352, -7.612631320953369] and parameters: {'arch.attn_dropout': 0.0, 'arch.d_model': 480, 'arch.d_ff': 480, 'arch.decomposition': True, 'arch.dropout': 0.4, 'arch.individual': True, 'arch.n_layers': 1, 'arch.n_heads': 32, 'init_weights': True, 'lookback': 192, 'loss_func': 'RMSLE'}. \n"
     ]
    },
    {
     "name": "stderr",
     "output_type": "stream",
     "text": [
      "Executing: 100%|██████████| 33/33 [00:29<00:00,  1.14cell/s]\n",
      " 58%|█████▊    | 58/100 [38:56<26:10, 37.39s/it]Passed unknown parameter: config.arch.attn_dropout\n",
      "Passed unknown parameter: config.arch.d_model\n",
      "Passed unknown parameter: config.arch.d_ff\n",
      "Passed unknown parameter: config.arch.decomposition\n",
      "Passed unknown parameter: config.arch.dropout\n",
      "Passed unknown parameter: config.arch.individual\n",
      "Passed unknown parameter: config.arch.n_layers\n",
      "Passed unknown parameter: config.arch.n_heads\n",
      "Passed unknown parameter: config.init_weights\n",
      "Passed unknown parameter: config.lookback\n",
      "Passed unknown parameter: config.loss_func\n",
      "Passed unknown parameter: config.loss_config\n",
      "Passed unknown parameter: config.n_epoch\n",
      "Passed unknown parameter: config.bs\n",
      "Passed unknown parameter: config.is_optuna_study\n",
      "Passed unknown parameter: config.metrics\n",
      "Passed unknown parameter: config.main_metric\n",
      "Passed unknown parameter: config.use_wandb\n",
      "Passed unknown parameter: config.wandb_group\n"
     ]
    },
    {
     "name": "stdout",
     "output_type": "stream",
     "text": [
      "[I 2024-08-22 08:18:23,922] Trial 57 finished with values: [0.09271273761987686, 0.4614275395870209, -3.3275327682495117, 11.197909355163574, 9.498838424682617, -2.1165835857391357] and parameters: {'arch.attn_dropout': 0.0, 'arch.d_model': 512, 'arch.d_ff': 320, 'arch.decomposition': False, 'arch.dropout': 0.30000000000000004, 'arch.individual': True, 'arch.n_layers': 1, 'arch.n_heads': 2, 'init_weights': True, 'lookback': 192, 'loss_func': 'wMAE'}. \n"
     ]
    },
    {
     "name": "stderr",
     "output_type": "stream",
     "text": [
      "Executing: 100%|██████████| 33/33 [00:51<00:00,  1.55s/cell]\n",
      " 59%|█████▉    | 59/100 [39:47<28:24, 41.57s/it]Passed unknown parameter: config.arch.attn_dropout\n",
      "Passed unknown parameter: config.arch.d_model\n",
      "Passed unknown parameter: config.arch.d_ff\n",
      "Passed unknown parameter: config.arch.decomposition\n",
      "Passed unknown parameter: config.arch.dropout\n",
      "Passed unknown parameter: config.arch.individual\n",
      "Passed unknown parameter: config.arch.n_layers\n",
      "Passed unknown parameter: config.arch.n_heads\n",
      "Passed unknown parameter: config.init_weights\n",
      "Passed unknown parameter: config.lookback\n",
      "Passed unknown parameter: config.loss_func\n",
      "Passed unknown parameter: config.loss_config\n",
      "Passed unknown parameter: config.n_epoch\n",
      "Passed unknown parameter: config.bs\n",
      "Passed unknown parameter: config.is_optuna_study\n",
      "Passed unknown parameter: config.metrics\n",
      "Passed unknown parameter: config.main_metric\n",
      "Passed unknown parameter: config.use_wandb\n",
      "Passed unknown parameter: config.wandb_group\n"
     ]
    },
    {
     "name": "stdout",
     "output_type": "stream",
     "text": [
      "[I 2024-08-22 08:19:15,238] Trial 58 finished with values: [0.1305745542049408, 0.5849996209144592, -13.356032371520996, 8.517602920532227, 6.687332630157471, -2.6270804405212402] and parameters: {'arch.attn_dropout': 0.0, 'arch.d_model': 480, 'arch.d_ff': 288, 'arch.decomposition': True, 'arch.dropout': 0.30000000000000004, 'arch.individual': True, 'arch.n_layers': 2, 'arch.n_heads': 2, 'init_weights': False, 'lookback': 192, 'loss_func': 'Quantile'}. \n"
     ]
    },
    {
     "name": "stderr",
     "output_type": "stream",
     "text": [
      "Executing: 100%|██████████| 33/33 [00:41<00:00,  1.26s/cell]\n",
      " 60%|██████    | 60/100 [40:29<27:43, 41.58s/it]Passed unknown parameter: config.arch.attn_dropout\n",
      "Passed unknown parameter: config.arch.d_model\n",
      "Passed unknown parameter: config.arch.d_ff\n",
      "Passed unknown parameter: config.arch.decomposition\n",
      "Passed unknown parameter: config.arch.dropout\n",
      "Passed unknown parameter: config.arch.individual\n",
      "Passed unknown parameter: config.arch.n_layers\n",
      "Passed unknown parameter: config.arch.n_heads\n",
      "Passed unknown parameter: config.init_weights\n",
      "Passed unknown parameter: config.lookback\n",
      "Passed unknown parameter: config.loss_func\n",
      "Passed unknown parameter: config.loss_config\n",
      "Passed unknown parameter: config.n_epoch\n",
      "Passed unknown parameter: config.bs\n",
      "Passed unknown parameter: config.is_optuna_study\n",
      "Passed unknown parameter: config.metrics\n",
      "Passed unknown parameter: config.main_metric\n",
      "Passed unknown parameter: config.use_wandb\n",
      "Passed unknown parameter: config.wandb_group\n"
     ]
    },
    {
     "name": "stdout",
     "output_type": "stream",
     "text": [
      "[I 2024-08-22 08:19:56,845] Trial 59 finished with values: [0.12226608395576477, 0.8043118119239807, -7.532052040100098, 5.256894588470459, 3.8198182582855225, -0.6450265645980835] and parameters: {'arch.attn_dropout': 0.0, 'arch.d_model': 480, 'arch.d_ff': 384, 'arch.decomposition': True, 'arch.dropout': 0.2, 'arch.individual': True, 'arch.n_layers': 1, 'arch.n_heads': 2, 'init_weights': True, 'lookback': 24, 'loss_func': 'RMSLE'}. \n"
     ]
    },
    {
     "name": "stderr",
     "output_type": "stream",
     "text": [
      "Executing: 100%|██████████| 33/33 [00:43<00:00,  1.32s/cell]\n",
      " 61%|██████    | 61/100 [41:13<27:25, 42.19s/it]Passed unknown parameter: config.arch.attn_dropout\n",
      "Passed unknown parameter: config.arch.d_model\n",
      "Passed unknown parameter: config.arch.d_ff\n",
      "Passed unknown parameter: config.arch.decomposition\n",
      "Passed unknown parameter: config.arch.dropout\n",
      "Passed unknown parameter: config.arch.individual\n",
      "Passed unknown parameter: config.arch.n_layers\n",
      "Passed unknown parameter: config.arch.n_heads\n",
      "Passed unknown parameter: config.init_weights\n",
      "Passed unknown parameter: config.lookback\n",
      "Passed unknown parameter: config.loss_func\n",
      "Passed unknown parameter: config.loss_config\n",
      "Passed unknown parameter: config.n_epoch\n",
      "Passed unknown parameter: config.bs\n",
      "Passed unknown parameter: config.is_optuna_study\n",
      "Passed unknown parameter: config.metrics\n",
      "Passed unknown parameter: config.main_metric\n",
      "Passed unknown parameter: config.use_wandb\n",
      "Passed unknown parameter: config.wandb_group\n"
     ]
    },
    {
     "name": "stdout",
     "output_type": "stream",
     "text": [
      "[I 2024-08-22 08:20:40,453] Trial 60 finished with values: [0.12423490732908249, 0.7252230048179626, -13.824228286743164, 8.155694007873535, 6.5359954833984375, 5.377255439758301] and parameters: {'arch.attn_dropout': 0.1, 'arch.d_model': 320, 'arch.d_ff': 480, 'arch.decomposition': True, 'arch.dropout': 0.30000000000000004, 'arch.individual': True, 'arch.n_layers': 2, 'arch.n_heads': 2, 'init_weights': True, 'lookback': 36, 'loss_func': 'Hubber'}. \n"
     ]
    },
    {
     "name": "stderr",
     "output_type": "stream",
     "text": [
      "Executing: 100%|██████████| 33/33 [00:29<00:00,  1.13cell/s]\n",
      " 62%|██████▏   | 62/100 [41:42<24:14, 38.28s/it]Passed unknown parameter: config.arch.attn_dropout\n",
      "Passed unknown parameter: config.arch.d_model\n",
      "Passed unknown parameter: config.arch.d_ff\n",
      "Passed unknown parameter: config.arch.decomposition\n",
      "Passed unknown parameter: config.arch.dropout\n",
      "Passed unknown parameter: config.arch.individual\n",
      "Passed unknown parameter: config.arch.n_layers\n",
      "Passed unknown parameter: config.arch.n_heads\n",
      "Passed unknown parameter: config.init_weights\n",
      "Passed unknown parameter: config.lookback\n",
      "Passed unknown parameter: config.loss_func\n",
      "Passed unknown parameter: config.loss_config\n",
      "Passed unknown parameter: config.n_epoch\n",
      "Passed unknown parameter: config.bs\n",
      "Passed unknown parameter: config.is_optuna_study\n",
      "Passed unknown parameter: config.metrics\n",
      "Passed unknown parameter: config.main_metric\n",
      "Passed unknown parameter: config.use_wandb\n",
      "Passed unknown parameter: config.wandb_group\n"
     ]
    },
    {
     "name": "stdout",
     "output_type": "stream",
     "text": [
      "[I 2024-08-22 08:21:09,628] Trial 61 finished with values: [0.09389626979827881, 0.6361826062202454, -16.292461395263672, 16.955753326416016, 15.778770446777344, 15.001575469970703] and parameters: {'arch.attn_dropout': 0.1, 'arch.d_model': 448, 'arch.d_ff': 512, 'arch.decomposition': False, 'arch.dropout': 0.5, 'arch.individual': True, 'arch.n_layers': 1, 'arch.n_heads': 8, 'init_weights': True, 'lookback': 192, 'loss_func': 'Hubber'}. \n"
     ]
    },
    {
     "name": "stderr",
     "output_type": "stream",
     "text": [
      "Executing: 100%|██████████| 33/33 [00:27<00:00,  1.19cell/s]\n",
      " 63%|██████▎   | 63/100 [42:10<21:41, 35.18s/it]Passed unknown parameter: config.arch.attn_dropout\n",
      "Passed unknown parameter: config.arch.d_model\n",
      "Passed unknown parameter: config.arch.d_ff\n",
      "Passed unknown parameter: config.arch.decomposition\n",
      "Passed unknown parameter: config.arch.dropout\n",
      "Passed unknown parameter: config.arch.individual\n",
      "Passed unknown parameter: config.arch.n_layers\n",
      "Passed unknown parameter: config.arch.n_heads\n",
      "Passed unknown parameter: config.init_weights\n",
      "Passed unknown parameter: config.lookback\n",
      "Passed unknown parameter: config.loss_func\n",
      "Passed unknown parameter: config.loss_config\n",
      "Passed unknown parameter: config.n_epoch\n",
      "Passed unknown parameter: config.bs\n",
      "Passed unknown parameter: config.is_optuna_study\n",
      "Passed unknown parameter: config.metrics\n",
      "Passed unknown parameter: config.main_metric\n",
      "Passed unknown parameter: config.use_wandb\n",
      "Passed unknown parameter: config.wandb_group\n"
     ]
    },
    {
     "name": "stdout",
     "output_type": "stream",
     "text": [
      "[I 2024-08-22 08:21:37,555] Trial 62 finished with values: [0.12035037577152252, 0.703291118144989, -8.412944793701172, 7.509172439575195, 6.062920570373535, 0.18119333684444427] and parameters: {'arch.attn_dropout': 0.0, 'arch.d_model': 256, 'arch.d_ff': 416, 'arch.decomposition': False, 'arch.dropout': 0.4, 'arch.individual': True, 'arch.n_layers': 1, 'arch.n_heads': 2, 'init_weights': True, 'lookback': 192, 'loss_func': 'Quantile'}. \n"
     ]
    },
    {
     "name": "stderr",
     "output_type": "stream",
     "text": [
      "Executing: 100%|██████████| 33/33 [00:54<00:00,  1.65s/cell]\n",
      " 64%|██████▍   | 64/100 [43:04<24:36, 41.02s/it]Passed unknown parameter: config.arch.attn_dropout\n",
      "Passed unknown parameter: config.arch.d_model\n",
      "Passed unknown parameter: config.arch.d_ff\n",
      "Passed unknown parameter: config.arch.decomposition\n",
      "Passed unknown parameter: config.arch.dropout\n",
      "Passed unknown parameter: config.arch.individual\n",
      "Passed unknown parameter: config.arch.n_layers\n",
      "Passed unknown parameter: config.arch.n_heads\n",
      "Passed unknown parameter: config.init_weights\n",
      "Passed unknown parameter: config.lookback\n",
      "Passed unknown parameter: config.loss_func\n",
      "Passed unknown parameter: config.loss_config\n",
      "Passed unknown parameter: config.n_epoch\n",
      "Passed unknown parameter: config.bs\n",
      "Passed unknown parameter: config.is_optuna_study\n",
      "Passed unknown parameter: config.metrics\n",
      "Passed unknown parameter: config.main_metric\n",
      "Passed unknown parameter: config.use_wandb\n",
      "Passed unknown parameter: config.wandb_group\n"
     ]
    },
    {
     "name": "stdout",
     "output_type": "stream",
     "text": [
      "[I 2024-08-22 08:22:32,192] Trial 63 finished with values: [0.10051929205656052, 0.3957408666610718, -11.126481056213379, 13.121479988098145, 11.288810729980469, -7.938910007476807] and parameters: {'arch.attn_dropout': 0.30000000000000004, 'arch.d_model': 480, 'arch.d_ff': 512, 'arch.decomposition': True, 'arch.dropout': 0.30000000000000004, 'arch.individual': True, 'arch.n_layers': 2, 'arch.n_heads': 2, 'init_weights': True, 'lookback': 128, 'loss_func': 'wMSLE'}. \n"
     ]
    },
    {
     "name": "stderr",
     "output_type": "stream",
     "text": [
      "Executing: 100%|██████████| 33/33 [00:38<00:00,  1.16s/cell]\n",
      " 65%|██████▌   | 65/100 [43:43<23:28, 40.24s/it]Passed unknown parameter: config.arch.attn_dropout\n",
      "Passed unknown parameter: config.arch.d_model\n",
      "Passed unknown parameter: config.arch.d_ff\n",
      "Passed unknown parameter: config.arch.decomposition\n",
      "Passed unknown parameter: config.arch.dropout\n",
      "Passed unknown parameter: config.arch.individual\n",
      "Passed unknown parameter: config.arch.n_layers\n",
      "Passed unknown parameter: config.arch.n_heads\n",
      "Passed unknown parameter: config.init_weights\n",
      "Passed unknown parameter: config.lookback\n",
      "Passed unknown parameter: config.loss_func\n",
      "Passed unknown parameter: config.loss_config\n",
      "Passed unknown parameter: config.n_epoch\n",
      "Passed unknown parameter: config.bs\n",
      "Passed unknown parameter: config.is_optuna_study\n",
      "Passed unknown parameter: config.metrics\n",
      "Passed unknown parameter: config.main_metric\n",
      "Passed unknown parameter: config.use_wandb\n",
      "Passed unknown parameter: config.wandb_group\n"
     ]
    },
    {
     "name": "stdout",
     "output_type": "stream",
     "text": [
      "[I 2024-08-22 08:23:10,618] Trial 64 finished with values: [0.09465385973453522, 0.4677494764328003, -2.768718719482422, 11.903063774108887, 9.360331535339355, -3.6430823802948] and parameters: {'arch.attn_dropout': 0.1, 'arch.d_model': 512, 'arch.d_ff': 384, 'arch.decomposition': True, 'arch.dropout': 0.30000000000000004, 'arch.individual': True, 'arch.n_layers': 1, 'arch.n_heads': 8, 'init_weights': True, 'lookback': 192, 'loss_func': 'wMSLE'}. \n"
     ]
    },
    {
     "name": "stderr",
     "output_type": "stream",
     "text": [
      "Executing: 100%|██████████| 33/33 [00:42<00:00,  1.28s/cell]\n",
      " 66%|██████▌   | 66/100 [44:25<23:11, 40.92s/it]Passed unknown parameter: config.arch.attn_dropout\n",
      "Passed unknown parameter: config.arch.d_model\n",
      "Passed unknown parameter: config.arch.d_ff\n",
      "Passed unknown parameter: config.arch.decomposition\n",
      "Passed unknown parameter: config.arch.dropout\n",
      "Passed unknown parameter: config.arch.individual\n",
      "Passed unknown parameter: config.arch.n_layers\n",
      "Passed unknown parameter: config.arch.n_heads\n",
      "Passed unknown parameter: config.init_weights\n",
      "Passed unknown parameter: config.lookback\n",
      "Passed unknown parameter: config.loss_func\n",
      "Passed unknown parameter: config.loss_config\n",
      "Passed unknown parameter: config.n_epoch\n",
      "Passed unknown parameter: config.bs\n",
      "Passed unknown parameter: config.is_optuna_study\n",
      "Passed unknown parameter: config.metrics\n",
      "Passed unknown parameter: config.main_metric\n",
      "Passed unknown parameter: config.use_wandb\n",
      "Passed unknown parameter: config.wandb_group\n"
     ]
    },
    {
     "name": "stdout",
     "output_type": "stream",
     "text": [
      "[I 2024-08-22 08:23:53,124] Trial 65 finished with values: [0.09017571061849594, 0.7604656219482422, -12.104004859924316, 5.456562042236328, 3.8056862354278564, -0.41953250765800476] and parameters: {'arch.attn_dropout': 0.30000000000000004, 'arch.d_model': 448, 'arch.d_ff': 448, 'arch.decomposition': True, 'arch.dropout': 0.5, 'arch.individual': True, 'arch.n_layers': 3, 'arch.n_heads': 32, 'init_weights': True, 'lookback': 18, 'loss_func': 'MSE'}. \n"
     ]
    },
    {
     "name": "stderr",
     "output_type": "stream",
     "text": [
      "Executing: 100%|██████████| 33/33 [00:50<00:00,  1.53s/cell]\n",
      " 67%|██████▋   | 67/100 [45:16<24:05, 43.79s/it]Passed unknown parameter: config.arch.attn_dropout\n",
      "Passed unknown parameter: config.arch.d_model\n",
      "Passed unknown parameter: config.arch.d_ff\n",
      "Passed unknown parameter: config.arch.decomposition\n",
      "Passed unknown parameter: config.arch.dropout\n",
      "Passed unknown parameter: config.arch.individual\n",
      "Passed unknown parameter: config.arch.n_layers\n",
      "Passed unknown parameter: config.arch.n_heads\n",
      "Passed unknown parameter: config.init_weights\n",
      "Passed unknown parameter: config.lookback\n",
      "Passed unknown parameter: config.loss_func\n",
      "Passed unknown parameter: config.loss_config\n",
      "Passed unknown parameter: config.n_epoch\n",
      "Passed unknown parameter: config.bs\n",
      "Passed unknown parameter: config.is_optuna_study\n",
      "Passed unknown parameter: config.metrics\n",
      "Passed unknown parameter: config.main_metric\n",
      "Passed unknown parameter: config.use_wandb\n",
      "Passed unknown parameter: config.wandb_group\n"
     ]
    },
    {
     "name": "stdout",
     "output_type": "stream",
     "text": [
      "[I 2024-08-22 08:24:43,622] Trial 66 finished with values: [0.12238419055938721, 0.5845441222190857, -19.423646926879883, 9.213526725769043, 7.858157634735107, -3.99862003326416] and parameters: {'arch.attn_dropout': 0.0, 'arch.d_model': 480, 'arch.d_ff': 288, 'arch.decomposition': True, 'arch.dropout': 0.4, 'arch.individual': False, 'arch.n_layers': 2, 'arch.n_heads': 2, 'init_weights': True, 'lookback': 192, 'loss_func': 'Quantile'}. \n"
     ]
    },
    {
     "name": "stderr",
     "output_type": "stream",
     "text": [
      "Executing: 100%|██████████| 33/33 [00:44<00:00,  1.35s/cell]\n",
      " 68%|██████▊   | 68/100 [46:00<23:30, 44.09s/it]Passed unknown parameter: config.arch.attn_dropout\n",
      "Passed unknown parameter: config.arch.d_model\n",
      "Passed unknown parameter: config.arch.d_ff\n",
      "Passed unknown parameter: config.arch.decomposition\n",
      "Passed unknown parameter: config.arch.dropout\n",
      "Passed unknown parameter: config.arch.individual\n",
      "Passed unknown parameter: config.arch.n_layers\n",
      "Passed unknown parameter: config.arch.n_heads\n",
      "Passed unknown parameter: config.init_weights\n",
      "Passed unknown parameter: config.lookback\n",
      "Passed unknown parameter: config.loss_func\n",
      "Passed unknown parameter: config.loss_config\n",
      "Passed unknown parameter: config.n_epoch\n",
      "Passed unknown parameter: config.bs\n",
      "Passed unknown parameter: config.is_optuna_study\n",
      "Passed unknown parameter: config.metrics\n",
      "Passed unknown parameter: config.main_metric\n",
      "Passed unknown parameter: config.use_wandb\n",
      "Passed unknown parameter: config.wandb_group\n"
     ]
    },
    {
     "name": "stdout",
     "output_type": "stream",
     "text": [
      "[I 2024-08-22 08:25:28,390] Trial 67 finished with values: [0.07934266328811646, 0.5334007143974304, -5.3466620445251465, 10.0371732711792, 8.128973960876465, -1.241325855255127] and parameters: {'arch.attn_dropout': 0.0, 'arch.d_model': 384, 'arch.d_ff': 352, 'arch.decomposition': True, 'arch.dropout': 0.30000000000000004, 'arch.individual': True, 'arch.n_layers': 1, 'arch.n_heads': 4, 'init_weights': True, 'lookback': 192, 'loss_func': 'Trended'}. \n"
     ]
    },
    {
     "name": "stderr",
     "output_type": "stream",
     "text": [
      "Executing: 100%|██████████| 33/33 [00:36<00:00,  1.11s/cell]\n",
      " 69%|██████▉   | 69/100 [46:37<21:37, 41.87s/it]Passed unknown parameter: config.arch.attn_dropout\n",
      "Passed unknown parameter: config.arch.d_model\n",
      "Passed unknown parameter: config.arch.d_ff\n",
      "Passed unknown parameter: config.arch.decomposition\n",
      "Passed unknown parameter: config.arch.dropout\n",
      "Passed unknown parameter: config.arch.individual\n",
      "Passed unknown parameter: config.arch.n_layers\n",
      "Passed unknown parameter: config.arch.n_heads\n",
      "Passed unknown parameter: config.init_weights\n",
      "Passed unknown parameter: config.lookback\n",
      "Passed unknown parameter: config.loss_func\n",
      "Passed unknown parameter: config.loss_config\n",
      "Passed unknown parameter: config.n_epoch\n",
      "Passed unknown parameter: config.bs\n",
      "Passed unknown parameter: config.is_optuna_study\n",
      "Passed unknown parameter: config.metrics\n",
      "Passed unknown parameter: config.main_metric\n",
      "Passed unknown parameter: config.use_wandb\n",
      "Passed unknown parameter: config.wandb_group\n"
     ]
    },
    {
     "name": "stdout",
     "output_type": "stream",
     "text": [
      "[I 2024-08-22 08:26:05,089] Trial 68 finished with values: [0.12254660576581955, 0.7747892141342163, -12.888399124145508, 5.294074058532715, 3.665580987930298, -0.352067232131958] and parameters: {'arch.attn_dropout': 0.1, 'arch.d_model': 352, 'arch.d_ff': 352, 'arch.decomposition': True, 'arch.dropout': 0.30000000000000004, 'arch.individual': True, 'arch.n_layers': 2, 'arch.n_heads': 2, 'init_weights': True, 'lookback': 18, 'loss_func': 'Quantile'}. \n"
     ]
    },
    {
     "name": "stderr",
     "output_type": "stream",
     "text": [
      "Executing: 100%|██████████| 33/33 [00:37<00:00,  1.15s/cell]\n",
      " 70%|███████   | 70/100 [47:15<20:21, 40.71s/it]Passed unknown parameter: config.arch.attn_dropout\n",
      "Passed unknown parameter: config.arch.d_model\n",
      "Passed unknown parameter: config.arch.d_ff\n",
      "Passed unknown parameter: config.arch.decomposition\n",
      "Passed unknown parameter: config.arch.dropout\n",
      "Passed unknown parameter: config.arch.individual\n",
      "Passed unknown parameter: config.arch.n_layers\n",
      "Passed unknown parameter: config.arch.n_heads\n",
      "Passed unknown parameter: config.init_weights\n",
      "Passed unknown parameter: config.lookback\n",
      "Passed unknown parameter: config.loss_func\n",
      "Passed unknown parameter: config.loss_config\n",
      "Passed unknown parameter: config.n_epoch\n",
      "Passed unknown parameter: config.bs\n",
      "Passed unknown parameter: config.is_optuna_study\n",
      "Passed unknown parameter: config.metrics\n",
      "Passed unknown parameter: config.main_metric\n",
      "Passed unknown parameter: config.use_wandb\n",
      "Passed unknown parameter: config.wandb_group\n"
     ]
    },
    {
     "name": "stdout",
     "output_type": "stream",
     "text": [
      "[I 2024-08-22 08:26:43,083] Trial 69 finished with values: [0.11288687586784363, 0.7929054498672485, -10.487711906433105, 5.397907733917236, 3.723651647567749, -0.28845876455307007] and parameters: {'arch.attn_dropout': 0.0, 'arch.d_model': 320, 'arch.d_ff': 96, 'arch.decomposition': True, 'arch.dropout': 0.1, 'arch.individual': False, 'arch.n_layers': 1, 'arch.n_heads': 8, 'init_weights': False, 'lookback': 36, 'loss_func': 'Classification'}. \n"
     ]
    },
    {
     "name": "stderr",
     "output_type": "stream",
     "text": [
      "Executing: 100%|██████████| 33/33 [01:01<00:00,  1.85s/cell]\n",
      " 71%|███████   | 71/100 [48:16<22:39, 46.87s/it]Passed unknown parameter: config.arch.attn_dropout\n",
      "Passed unknown parameter: config.arch.d_model\n",
      "Passed unknown parameter: config.arch.d_ff\n",
      "Passed unknown parameter: config.arch.decomposition\n",
      "Passed unknown parameter: config.arch.dropout\n",
      "Passed unknown parameter: config.arch.individual\n",
      "Passed unknown parameter: config.arch.n_layers\n",
      "Passed unknown parameter: config.arch.n_heads\n",
      "Passed unknown parameter: config.init_weights\n",
      "Passed unknown parameter: config.lookback\n",
      "Passed unknown parameter: config.loss_func\n",
      "Passed unknown parameter: config.loss_config\n",
      "Passed unknown parameter: config.n_epoch\n",
      "Passed unknown parameter: config.bs\n",
      "Passed unknown parameter: config.is_optuna_study\n",
      "Passed unknown parameter: config.metrics\n",
      "Passed unknown parameter: config.main_metric\n",
      "Passed unknown parameter: config.use_wandb\n",
      "Passed unknown parameter: config.wandb_group\n"
     ]
    },
    {
     "name": "stdout",
     "output_type": "stream",
     "text": [
      "[I 2024-08-22 08:27:44,350] Trial 70 finished with values: [0.07624632865190506, 0.38810285925865173, -52.09933853149414, 10.11828899383545, 8.953036308288574, -2.550929546356201] and parameters: {'arch.attn_dropout': 0.2, 'arch.d_model': 352, 'arch.d_ff': 224, 'arch.decomposition': True, 'arch.dropout': 0.5, 'arch.individual': True, 'arch.n_layers': 3, 'arch.n_heads': 16, 'init_weights': True, 'lookback': 192, 'loss_func': 'MSLE'}. \n"
     ]
    },
    {
     "name": "stderr",
     "output_type": "stream",
     "text": [
      "Executing: 100%|██████████| 33/33 [00:49<00:00,  1.51s/cell]\n",
      " 72%|███████▏  | 72/100 [49:06<22:17, 47.75s/it]Passed unknown parameter: config.arch.attn_dropout\n",
      "Passed unknown parameter: config.arch.d_model\n",
      "Passed unknown parameter: config.arch.d_ff\n",
      "Passed unknown parameter: config.arch.decomposition\n",
      "Passed unknown parameter: config.arch.dropout\n",
      "Passed unknown parameter: config.arch.individual\n",
      "Passed unknown parameter: config.arch.n_layers\n",
      "Passed unknown parameter: config.arch.n_heads\n",
      "Passed unknown parameter: config.init_weights\n",
      "Passed unknown parameter: config.lookback\n",
      "Passed unknown parameter: config.loss_func\n",
      "Passed unknown parameter: config.loss_config\n",
      "Passed unknown parameter: config.n_epoch\n",
      "Passed unknown parameter: config.bs\n",
      "Passed unknown parameter: config.is_optuna_study\n",
      "Passed unknown parameter: config.metrics\n",
      "Passed unknown parameter: config.main_metric\n",
      "Passed unknown parameter: config.use_wandb\n",
      "Passed unknown parameter: config.wandb_group\n"
     ]
    },
    {
     "name": "stdout",
     "output_type": "stream",
     "text": [
      "[I 2024-08-22 08:28:34,143] Trial 71 finished with values: [0.1175273209810257, 0.48104992508888245, -15.63575553894043, 10.098394393920898, 8.264925956726074, -3.175290584564209] and parameters: {'arch.attn_dropout': 0.0, 'arch.d_model': 448, 'arch.d_ff': 320, 'arch.decomposition': True, 'arch.dropout': 0.4, 'arch.individual': True, 'arch.n_layers': 2, 'arch.n_heads': 4, 'init_weights': True, 'lookback': 192, 'loss_func': 'Quantile'}. \n"
     ]
    },
    {
     "name": "stderr",
     "output_type": "stream",
     "text": [
      "Executing: 100%|██████████| 33/33 [00:35<00:00,  1.06s/cell]\n",
      " 73%|███████▎  | 73/100 [49:41<19:47, 43.98s/it]Passed unknown parameter: config.arch.attn_dropout\n",
      "Passed unknown parameter: config.arch.d_model\n",
      "Passed unknown parameter: config.arch.d_ff\n",
      "Passed unknown parameter: config.arch.decomposition\n",
      "Passed unknown parameter: config.arch.dropout\n",
      "Passed unknown parameter: config.arch.individual\n",
      "Passed unknown parameter: config.arch.n_layers\n",
      "Passed unknown parameter: config.arch.n_heads\n",
      "Passed unknown parameter: config.init_weights\n",
      "Passed unknown parameter: config.lookback\n",
      "Passed unknown parameter: config.loss_func\n",
      "Passed unknown parameter: config.loss_config\n",
      "Passed unknown parameter: config.n_epoch\n",
      "Passed unknown parameter: config.bs\n",
      "Passed unknown parameter: config.is_optuna_study\n",
      "Passed unknown parameter: config.metrics\n",
      "Passed unknown parameter: config.main_metric\n",
      "Passed unknown parameter: config.use_wandb\n",
      "Passed unknown parameter: config.wandb_group\n"
     ]
    },
    {
     "name": "stdout",
     "output_type": "stream",
     "text": [
      "[I 2024-08-22 08:29:09,322] Trial 72 finished with values: [0.12479431927204132, 0.6143771409988403, -6.819385528564453, 8.665313720703125, 7.0160722732543945, -3.127591848373413] and parameters: {'arch.attn_dropout': 0.0, 'arch.d_model': 480, 'arch.d_ff': 160, 'arch.decomposition': True, 'arch.dropout': 0.1, 'arch.individual': False, 'arch.n_layers': 1, 'arch.n_heads': 8, 'init_weights': True, 'lookback': 192, 'loss_func': 'Classification'}. \n"
     ]
    },
    {
     "name": "stderr",
     "output_type": "stream",
     "text": [
      "Executing: 100%|██████████| 33/33 [00:37<00:00,  1.13s/cell]\n",
      " 74%|███████▍  | 74/100 [50:19<18:12, 42.03s/it]Passed unknown parameter: config.arch.attn_dropout\n",
      "Passed unknown parameter: config.arch.d_model\n",
      "Passed unknown parameter: config.arch.d_ff\n",
      "Passed unknown parameter: config.arch.decomposition\n",
      "Passed unknown parameter: config.arch.dropout\n",
      "Passed unknown parameter: config.arch.individual\n",
      "Passed unknown parameter: config.arch.n_layers\n",
      "Passed unknown parameter: config.arch.n_heads\n",
      "Passed unknown parameter: config.init_weights\n",
      "Passed unknown parameter: config.lookback\n",
      "Passed unknown parameter: config.loss_func\n",
      "Passed unknown parameter: config.loss_config\n",
      "Passed unknown parameter: config.n_epoch\n",
      "Passed unknown parameter: config.bs\n",
      "Passed unknown parameter: config.is_optuna_study\n",
      "Passed unknown parameter: config.metrics\n",
      "Passed unknown parameter: config.main_metric\n",
      "Passed unknown parameter: config.use_wandb\n",
      "Passed unknown parameter: config.wandb_group\n"
     ]
    },
    {
     "name": "stdout",
     "output_type": "stream",
     "text": [
      "[I 2024-08-22 08:29:46,803] Trial 73 finished with values: [0.09101144224405289, 0.5311395525932312, -6.283128261566162, 10.956932067871094, 8.901060104370117, -5.517678260803223] and parameters: {'arch.attn_dropout': 0.2, 'arch.d_model': 320, 'arch.d_ff': 448, 'arch.decomposition': True, 'arch.dropout': 0.5, 'arch.individual': True, 'arch.n_layers': 1, 'arch.n_heads': 16, 'init_weights': True, 'lookback': 192, 'loss_func': 'wMSLE'}. \n"
     ]
    },
    {
     "name": "stderr",
     "output_type": "stream",
     "text": [
      "Executing: 100%|██████████| 33/33 [00:36<00:00,  1.10s/cell]\n",
      " 75%|███████▌  | 75/100 [50:55<16:49, 40.38s/it]Passed unknown parameter: config.arch.attn_dropout\n",
      "Passed unknown parameter: config.arch.d_model\n",
      "Passed unknown parameter: config.arch.d_ff\n",
      "Passed unknown parameter: config.arch.decomposition\n",
      "Passed unknown parameter: config.arch.dropout\n",
      "Passed unknown parameter: config.arch.individual\n",
      "Passed unknown parameter: config.arch.n_layers\n",
      "Passed unknown parameter: config.arch.n_heads\n",
      "Passed unknown parameter: config.init_weights\n",
      "Passed unknown parameter: config.lookback\n",
      "Passed unknown parameter: config.loss_func\n",
      "Passed unknown parameter: config.loss_config\n",
      "Passed unknown parameter: config.n_epoch\n",
      "Passed unknown parameter: config.bs\n",
      "Passed unknown parameter: config.is_optuna_study\n",
      "Passed unknown parameter: config.metrics\n",
      "Passed unknown parameter: config.main_metric\n",
      "Passed unknown parameter: config.use_wandb\n",
      "Passed unknown parameter: config.wandb_group\n"
     ]
    },
    {
     "name": "stdout",
     "output_type": "stream",
     "text": [
      "[I 2024-08-22 08:30:23,344] Trial 74 finished with values: [0.09722365438938141, 0.618720531463623, -4.509449005126953, 9.818707466125488, 7.83882999420166, -0.504557192325592] and parameters: {'arch.attn_dropout': 0.2, 'arch.d_model': 320, 'arch.d_ff': 480, 'arch.decomposition': True, 'arch.dropout': 0.5, 'arch.individual': True, 'arch.n_layers': 1, 'arch.n_heads': 16, 'init_weights': True, 'lookback': 192, 'loss_func': 'wMAE'}. \n"
     ]
    },
    {
     "name": "stderr",
     "output_type": "stream",
     "text": [
      "Executing: 100%|██████████| 33/33 [00:54<00:00,  1.64s/cell]\n",
      " 76%|███████▌  | 76/100 [51:50<17:48, 44.53s/it]Passed unknown parameter: config.arch.attn_dropout\n",
      "Passed unknown parameter: config.arch.d_model\n",
      "Passed unknown parameter: config.arch.d_ff\n",
      "Passed unknown parameter: config.arch.decomposition\n",
      "Passed unknown parameter: config.arch.dropout\n",
      "Passed unknown parameter: config.arch.individual\n",
      "Passed unknown parameter: config.arch.n_layers\n",
      "Passed unknown parameter: config.arch.n_heads\n",
      "Passed unknown parameter: config.init_weights\n",
      "Passed unknown parameter: config.lookback\n",
      "Passed unknown parameter: config.loss_func\n",
      "Passed unknown parameter: config.loss_config\n",
      "Passed unknown parameter: config.n_epoch\n",
      "Passed unknown parameter: config.bs\n",
      "Passed unknown parameter: config.is_optuna_study\n",
      "Passed unknown parameter: config.metrics\n",
      "Passed unknown parameter: config.main_metric\n",
      "Passed unknown parameter: config.use_wandb\n",
      "Passed unknown parameter: config.wandb_group\n"
     ]
    },
    {
     "name": "stdout",
     "output_type": "stream",
     "text": [
      "[I 2024-08-22 08:31:17,538] Trial 75 finished with values: [0.11389054358005524, 0.7868622541427612, -8.605215072631836, 5.710690021514893, 4.03716516494751, -0.7181375026702881] and parameters: {'arch.attn_dropout': 0.1, 'arch.d_model': 512, 'arch.d_ff': 160, 'arch.decomposition': True, 'arch.dropout': 0.0, 'arch.individual': True, 'arch.n_layers': 1, 'arch.n_heads': 32, 'init_weights': False, 'lookback': 36, 'loss_func': 'Trended'}. \n"
     ]
    },
    {
     "name": "stderr",
     "output_type": "stream",
     "text": [
      "Executing: 100%|██████████| 33/33 [00:57<00:00,  1.75s/cell]\n",
      " 77%|███████▋  | 77/100 [52:48<18:36, 48.53s/it]Passed unknown parameter: config.arch.attn_dropout\n",
      "Passed unknown parameter: config.arch.d_model\n",
      "Passed unknown parameter: config.arch.d_ff\n",
      "Passed unknown parameter: config.arch.decomposition\n",
      "Passed unknown parameter: config.arch.dropout\n",
      "Passed unknown parameter: config.arch.individual\n",
      "Passed unknown parameter: config.arch.n_layers\n",
      "Passed unknown parameter: config.arch.n_heads\n",
      "Passed unknown parameter: config.init_weights\n",
      "Passed unknown parameter: config.lookback\n",
      "Passed unknown parameter: config.loss_func\n",
      "Passed unknown parameter: config.loss_config\n",
      "Passed unknown parameter: config.n_epoch\n",
      "Passed unknown parameter: config.bs\n",
      "Passed unknown parameter: config.is_optuna_study\n",
      "Passed unknown parameter: config.metrics\n",
      "Passed unknown parameter: config.main_metric\n",
      "Passed unknown parameter: config.use_wandb\n",
      "Passed unknown parameter: config.wandb_group\n"
     ]
    },
    {
     "name": "stdout",
     "output_type": "stream",
     "text": [
      "[I 2024-08-22 08:32:15,423] Trial 76 finished with values: [0.1417435109615326, 0.7815004587173462, -8.278165817260742, 5.682048320770264, 4.550050735473633, -0.2715983986854553] and parameters: {'arch.attn_dropout': 0.0, 'arch.d_model': 480, 'arch.d_ff': 128, 'arch.decomposition': True, 'arch.dropout': 0.30000000000000004, 'arch.individual': False, 'arch.n_layers': 2, 'arch.n_heads': 32, 'init_weights': False, 'lookback': 192, 'loss_func': 'Classification'}. \n"
     ]
    },
    {
     "name": "stderr",
     "output_type": "stream",
     "text": [
      "Executing: 100%|██████████| 33/33 [01:11<00:00,  2.17s/cell]\n",
      " 78%|███████▊  | 78/100 [53:59<20:20, 55.47s/it]Passed unknown parameter: config.arch.attn_dropout\n",
      "Passed unknown parameter: config.arch.d_model\n",
      "Passed unknown parameter: config.arch.d_ff\n",
      "Passed unknown parameter: config.arch.decomposition\n",
      "Passed unknown parameter: config.arch.dropout\n",
      "Passed unknown parameter: config.arch.individual\n",
      "Passed unknown parameter: config.arch.n_layers\n",
      "Passed unknown parameter: config.arch.n_heads\n",
      "Passed unknown parameter: config.init_weights\n",
      "Passed unknown parameter: config.lookback\n",
      "Passed unknown parameter: config.loss_func\n",
      "Passed unknown parameter: config.loss_config\n",
      "Passed unknown parameter: config.n_epoch\n",
      "Passed unknown parameter: config.bs\n",
      "Passed unknown parameter: config.is_optuna_study\n",
      "Passed unknown parameter: config.metrics\n",
      "Passed unknown parameter: config.main_metric\n",
      "Passed unknown parameter: config.use_wandb\n",
      "Passed unknown parameter: config.wandb_group\n"
     ]
    },
    {
     "name": "stdout",
     "output_type": "stream",
     "text": [
      "[I 2024-08-22 08:33:27,067] Trial 77 finished with values: [0.09055738896131516, 0.38032814860343933, -3.0264649391174316, 12.167831420898438, 10.167276382446289, -2.116044044494629] and parameters: {'arch.attn_dropout': 0.0, 'arch.d_model': 512, 'arch.d_ff': 128, 'arch.decomposition': True, 'arch.dropout': 0.1, 'arch.individual': True, 'arch.n_layers': 3, 'arch.n_heads': 4, 'init_weights': True, 'lookback': 192, 'loss_func': 'Trended'}. \n"
     ]
    },
    {
     "name": "stderr",
     "output_type": "stream",
     "text": [
      "Executing: 100%|██████████| 33/33 [00:46<00:00,  1.41s/cell]\n",
      " 79%|███████▉  | 79/100 [54:46<18:28, 52.79s/it]Passed unknown parameter: config.arch.attn_dropout\n",
      "Passed unknown parameter: config.arch.d_model\n",
      "Passed unknown parameter: config.arch.d_ff\n",
      "Passed unknown parameter: config.arch.decomposition\n",
      "Passed unknown parameter: config.arch.dropout\n",
      "Passed unknown parameter: config.arch.individual\n",
      "Passed unknown parameter: config.arch.n_layers\n",
      "Passed unknown parameter: config.arch.n_heads\n",
      "Passed unknown parameter: config.init_weights\n",
      "Passed unknown parameter: config.lookback\n",
      "Passed unknown parameter: config.loss_func\n",
      "Passed unknown parameter: config.loss_config\n",
      "Passed unknown parameter: config.n_epoch\n",
      "Passed unknown parameter: config.bs\n",
      "Passed unknown parameter: config.is_optuna_study\n",
      "Passed unknown parameter: config.metrics\n",
      "Passed unknown parameter: config.main_metric\n",
      "Passed unknown parameter: config.use_wandb\n",
      "Passed unknown parameter: config.wandb_group\n"
     ]
    },
    {
     "name": "stdout",
     "output_type": "stream",
     "text": [
      "[I 2024-08-22 08:34:13,596] Trial 78 finished with values: [0.13607598841190338, 0.5525564551353455, -5.1278181076049805, 9.852534294128418, 8.017470359802246, -2.5810439586639404] and parameters: {'arch.attn_dropout': 0.0, 'arch.d_model': 512, 'arch.d_ff': 64, 'arch.decomposition': True, 'arch.dropout': 0.1, 'arch.individual': True, 'arch.n_layers': 1, 'arch.n_heads': 16, 'init_weights': False, 'lookback': 192, 'loss_func': 'Trended'}. \n"
     ]
    },
    {
     "name": "stderr",
     "output_type": "stream",
     "text": [
      "Executing: 100%|██████████| 33/33 [00:36<00:00,  1.11s/cell]\n",
      " 80%|████████  | 80/100 [55:22<15:59, 47.98s/it]Passed unknown parameter: config.arch.attn_dropout\n",
      "Passed unknown parameter: config.arch.d_model\n",
      "Passed unknown parameter: config.arch.d_ff\n",
      "Passed unknown parameter: config.arch.decomposition\n",
      "Passed unknown parameter: config.arch.dropout\n",
      "Passed unknown parameter: config.arch.individual\n",
      "Passed unknown parameter: config.arch.n_layers\n",
      "Passed unknown parameter: config.arch.n_heads\n",
      "Passed unknown parameter: config.init_weights\n",
      "Passed unknown parameter: config.lookback\n",
      "Passed unknown parameter: config.loss_func\n",
      "Passed unknown parameter: config.loss_config\n",
      "Passed unknown parameter: config.n_epoch\n",
      "Passed unknown parameter: config.bs\n",
      "Passed unknown parameter: config.is_optuna_study\n",
      "Passed unknown parameter: config.metrics\n",
      "Passed unknown parameter: config.main_metric\n",
      "Passed unknown parameter: config.use_wandb\n",
      "Passed unknown parameter: config.wandb_group\n"
     ]
    },
    {
     "name": "stdout",
     "output_type": "stream",
     "text": [
      "[I 2024-08-22 08:34:50,355] Trial 79 finished with values: [0.11960112303495407, 0.42945143580436707, -5.774528503417969, 13.088228225708008, 10.983025550842285, -4.9583516120910645] and parameters: {'arch.attn_dropout': 0.0, 'arch.d_model': 480, 'arch.d_ff': 96, 'arch.decomposition': True, 'arch.dropout': 0.1, 'arch.individual': True, 'arch.n_layers': 1, 'arch.n_heads': 16, 'init_weights': False, 'lookback': 192, 'loss_func': 'wMSE'}. \n"
     ]
    },
    {
     "name": "stderr",
     "output_type": "stream",
     "text": [
      "Executing: 100%|██████████| 33/33 [00:33<00:00,  1.00s/cell]\n",
      " 81%|████████  | 81/100 [55:56<13:47, 43.56s/it]Passed unknown parameter: config.arch.attn_dropout\n",
      "Passed unknown parameter: config.arch.d_model\n",
      "Passed unknown parameter: config.arch.d_ff\n",
      "Passed unknown parameter: config.arch.decomposition\n",
      "Passed unknown parameter: config.arch.dropout\n",
      "Passed unknown parameter: config.arch.individual\n",
      "Passed unknown parameter: config.arch.n_layers\n",
      "Passed unknown parameter: config.arch.n_heads\n",
      "Passed unknown parameter: config.init_weights\n",
      "Passed unknown parameter: config.lookback\n",
      "Passed unknown parameter: config.loss_func\n",
      "Passed unknown parameter: config.loss_config\n",
      "Passed unknown parameter: config.n_epoch\n",
      "Passed unknown parameter: config.bs\n",
      "Passed unknown parameter: config.is_optuna_study\n",
      "Passed unknown parameter: config.metrics\n",
      "Passed unknown parameter: config.main_metric\n",
      "Passed unknown parameter: config.use_wandb\n",
      "Passed unknown parameter: config.wandb_group\n"
     ]
    },
    {
     "name": "stdout",
     "output_type": "stream",
     "text": [
      "[I 2024-08-22 08:35:23,610] Trial 80 finished with values: [0.13541141152381897, 0.7042337656021118, -4.935007095336914, 7.280651092529297, 5.976818561553955, -1.9671741724014282] and parameters: {'arch.attn_dropout': 0.0, 'arch.d_model': 384, 'arch.d_ff': 160, 'arch.decomposition': True, 'arch.dropout': 0.1, 'arch.individual': False, 'arch.n_layers': 1, 'arch.n_heads': 8, 'init_weights': True, 'lookback': 192, 'loss_func': 'Classification'}. \n"
     ]
    },
    {
     "name": "stderr",
     "output_type": "stream",
     "text": [
      "Executing: 100%|██████████| 33/33 [00:33<00:00,  1.03s/cell]\n",
      " 82%|████████▏ | 82/100 [56:30<12:12, 40.70s/it]Passed unknown parameter: config.arch.attn_dropout\n",
      "Passed unknown parameter: config.arch.d_model\n",
      "Passed unknown parameter: config.arch.d_ff\n",
      "Passed unknown parameter: config.arch.decomposition\n",
      "Passed unknown parameter: config.arch.dropout\n",
      "Passed unknown parameter: config.arch.individual\n",
      "Passed unknown parameter: config.arch.n_layers\n",
      "Passed unknown parameter: config.arch.n_heads\n",
      "Passed unknown parameter: config.init_weights\n",
      "Passed unknown parameter: config.lookback\n",
      "Passed unknown parameter: config.loss_func\n",
      "Passed unknown parameter: config.loss_config\n",
      "Passed unknown parameter: config.n_epoch\n",
      "Passed unknown parameter: config.bs\n",
      "Passed unknown parameter: config.is_optuna_study\n",
      "Passed unknown parameter: config.metrics\n",
      "Passed unknown parameter: config.main_metric\n",
      "Passed unknown parameter: config.use_wandb\n",
      "Passed unknown parameter: config.wandb_group\n"
     ]
    },
    {
     "name": "stdout",
     "output_type": "stream",
     "text": [
      "[I 2024-08-22 08:35:57,630] Trial 81 finished with values: [0.10747254639863968, 0.6883379817008972, -10.580490112304688, 7.189240455627441, 6.167084693908691, -0.9953180551528931] and parameters: {'arch.attn_dropout': 0.0, 'arch.d_model': 512, 'arch.d_ff': 160, 'arch.decomposition': False, 'arch.dropout': 0.30000000000000004, 'arch.individual': False, 'arch.n_layers': 2, 'arch.n_heads': 8, 'init_weights': True, 'lookback': 192, 'loss_func': 'Classification'}. \n"
     ]
    },
    {
     "name": "stderr",
     "output_type": "stream",
     "text": [
      "Executing: 100%|██████████| 33/33 [00:39<00:00,  1.18s/cell]\n",
      " 83%|████████▎ | 83/100 [57:09<11:24, 40.25s/it]Passed unknown parameter: config.arch.attn_dropout\n",
      "Passed unknown parameter: config.arch.d_model\n",
      "Passed unknown parameter: config.arch.d_ff\n",
      "Passed unknown parameter: config.arch.decomposition\n",
      "Passed unknown parameter: config.arch.dropout\n",
      "Passed unknown parameter: config.arch.individual\n",
      "Passed unknown parameter: config.arch.n_layers\n",
      "Passed unknown parameter: config.arch.n_heads\n",
      "Passed unknown parameter: config.init_weights\n",
      "Passed unknown parameter: config.lookback\n",
      "Passed unknown parameter: config.loss_func\n",
      "Passed unknown parameter: config.loss_config\n",
      "Passed unknown parameter: config.n_epoch\n",
      "Passed unknown parameter: config.bs\n",
      "Passed unknown parameter: config.is_optuna_study\n",
      "Passed unknown parameter: config.metrics\n",
      "Passed unknown parameter: config.main_metric\n",
      "Passed unknown parameter: config.use_wandb\n",
      "Passed unknown parameter: config.wandb_group\n"
     ]
    },
    {
     "name": "stdout",
     "output_type": "stream",
     "text": [
      "[I 2024-08-22 08:36:36,825] Trial 82 finished with values: [0.1188911497592926, 0.8119212985038757, -10.075177192687988, 5.124404430389404, 3.669638156890869, -0.38903379440307617] and parameters: {'arch.attn_dropout': 0.1, 'arch.d_model': 384, 'arch.d_ff': 192, 'arch.decomposition': True, 'arch.dropout': 0.0, 'arch.individual': False, 'arch.n_layers': 1, 'arch.n_heads': 4, 'init_weights': True, 'lookback': 24, 'loss_func': 'Classification'}. \n"
     ]
    },
    {
     "name": "stderr",
     "output_type": "stream",
     "text": [
      "Executing: 100%|██████████| 33/33 [00:32<00:00,  1.00cell/s]\n",
      " 84%|████████▍ | 84/100 [57:42<10:09, 38.11s/it]Passed unknown parameter: config.arch.attn_dropout\n",
      "Passed unknown parameter: config.arch.d_model\n",
      "Passed unknown parameter: config.arch.d_ff\n",
      "Passed unknown parameter: config.arch.decomposition\n",
      "Passed unknown parameter: config.arch.dropout\n",
      "Passed unknown parameter: config.arch.individual\n",
      "Passed unknown parameter: config.arch.n_layers\n",
      "Passed unknown parameter: config.arch.n_heads\n",
      "Passed unknown parameter: config.init_weights\n",
      "Passed unknown parameter: config.lookback\n",
      "Passed unknown parameter: config.loss_func\n",
      "Passed unknown parameter: config.loss_config\n",
      "Passed unknown parameter: config.n_epoch\n",
      "Passed unknown parameter: config.bs\n",
      "Passed unknown parameter: config.is_optuna_study\n",
      "Passed unknown parameter: config.metrics\n",
      "Passed unknown parameter: config.main_metric\n",
      "Passed unknown parameter: config.use_wandb\n",
      "Passed unknown parameter: config.wandb_group\n"
     ]
    },
    {
     "name": "stdout",
     "output_type": "stream",
     "text": [
      "[I 2024-08-22 08:37:09,941] Trial 83 finished with values: [0.10760914534330368, 0.6028582453727722, -5.564977169036865, 12.644950866699219, 10.815132141113281, 8.974863052368164] and parameters: {'arch.attn_dropout': 0.0, 'arch.d_model': 288, 'arch.d_ff': 320, 'arch.decomposition': True, 'arch.dropout': 0.1, 'arch.individual': False, 'arch.n_layers': 1, 'arch.n_heads': 8, 'init_weights': True, 'lookback': 192, 'loss_func': 'wHubber'}. \n"
     ]
    },
    {
     "name": "stderr",
     "output_type": "stream",
     "text": [
      "Executing: 100%|██████████| 33/33 [01:01<00:00,  1.87s/cell]\n",
      " 85%|████████▌ | 85/100 [58:44<11:18, 45.24s/it]Passed unknown parameter: config.arch.attn_dropout\n",
      "Passed unknown parameter: config.arch.d_model\n",
      "Passed unknown parameter: config.arch.d_ff\n",
      "Passed unknown parameter: config.arch.decomposition\n",
      "Passed unknown parameter: config.arch.dropout\n",
      "Passed unknown parameter: config.arch.individual\n",
      "Passed unknown parameter: config.arch.n_layers\n",
      "Passed unknown parameter: config.arch.n_heads\n",
      "Passed unknown parameter: config.init_weights\n",
      "Passed unknown parameter: config.lookback\n",
      "Passed unknown parameter: config.loss_func\n",
      "Passed unknown parameter: config.loss_config\n",
      "Passed unknown parameter: config.n_epoch\n",
      "Passed unknown parameter: config.bs\n",
      "Passed unknown parameter: config.is_optuna_study\n",
      "Passed unknown parameter: config.metrics\n",
      "Passed unknown parameter: config.main_metric\n",
      "Passed unknown parameter: config.use_wandb\n",
      "Passed unknown parameter: config.wandb_group\n"
     ]
    },
    {
     "name": "stdout",
     "output_type": "stream",
     "text": [
      "[I 2024-08-22 08:38:11,837] Trial 84 finished with values: [0.11229191720485687, 0.48068392276763916, -8.681307792663574, 10.540620803833008, 9.055349349975586, -4.081505298614502] and parameters: {'arch.attn_dropout': 0.2, 'arch.d_model': 512, 'arch.d_ff': 32, 'arch.decomposition': True, 'arch.dropout': 0.2, 'arch.individual': True, 'arch.n_layers': 2, 'arch.n_heads': 16, 'init_weights': False, 'lookback': 192, 'loss_func': 'Trended'}. \n"
     ]
    },
    {
     "name": "stderr",
     "output_type": "stream",
     "text": [
      "Executing: 100%|██████████| 33/33 [00:34<00:00,  1.05s/cell]\n",
      " 86%|████████▌ | 86/100 [59:19<09:49, 42.07s/it]Passed unknown parameter: config.arch.attn_dropout\n",
      "Passed unknown parameter: config.arch.d_model\n",
      "Passed unknown parameter: config.arch.d_ff\n",
      "Passed unknown parameter: config.arch.decomposition\n",
      "Passed unknown parameter: config.arch.dropout\n",
      "Passed unknown parameter: config.arch.individual\n",
      "Passed unknown parameter: config.arch.n_layers\n",
      "Passed unknown parameter: config.arch.n_heads\n",
      "Passed unknown parameter: config.init_weights\n",
      "Passed unknown parameter: config.lookback\n",
      "Passed unknown parameter: config.loss_func\n",
      "Passed unknown parameter: config.loss_config\n",
      "Passed unknown parameter: config.n_epoch\n",
      "Passed unknown parameter: config.bs\n",
      "Passed unknown parameter: config.is_optuna_study\n",
      "Passed unknown parameter: config.metrics\n",
      "Passed unknown parameter: config.main_metric\n",
      "Passed unknown parameter: config.use_wandb\n",
      "Passed unknown parameter: config.wandb_group\n"
     ]
    },
    {
     "name": "stdout",
     "output_type": "stream",
     "text": [
      "[W 2024-08-22 08:38:46,509] Trial 85 failed with parameters: {'arch.attn_dropout': 0.0, 'arch.d_model': 416, 'arch.d_ff': 160, 'arch.decomposition': True, 'arch.dropout': 0.0, 'arch.individual': False, 'arch.n_layers': 1, 'arch.n_heads': 8, 'init_weights': True, 'lookback': 192, 'loss_func': 'wHubber'} because of the following error: The value nan is not acceptable.\n",
      "[W 2024-08-22 08:38:46,511] Trial 85 failed with value (tensor(0.1011), tensor(0.5169), tensor(-3.1288), tensor(14.9464), tensor(nan), tensor(nan)).\n"
     ]
    },
    {
     "name": "stderr",
     "output_type": "stream",
     "text": [
      "Executing: 100%|██████████| 33/33 [00:34<00:00,  1.06s/cell]\n",
      " 87%|████████▋ | 87/100 [59:54<08:39, 39.98s/it]Passed unknown parameter: config.arch.attn_dropout\n",
      "Passed unknown parameter: config.arch.d_model\n",
      "Passed unknown parameter: config.arch.d_ff\n",
      "Passed unknown parameter: config.arch.decomposition\n",
      "Passed unknown parameter: config.arch.dropout\n",
      "Passed unknown parameter: config.arch.individual\n",
      "Passed unknown parameter: config.arch.n_layers\n",
      "Passed unknown parameter: config.arch.n_heads\n",
      "Passed unknown parameter: config.init_weights\n",
      "Passed unknown parameter: config.lookback\n",
      "Passed unknown parameter: config.loss_func\n",
      "Passed unknown parameter: config.loss_config\n",
      "Passed unknown parameter: config.n_epoch\n",
      "Passed unknown parameter: config.bs\n",
      "Passed unknown parameter: config.is_optuna_study\n",
      "Passed unknown parameter: config.metrics\n",
      "Passed unknown parameter: config.main_metric\n",
      "Passed unknown parameter: config.use_wandb\n",
      "Passed unknown parameter: config.wandb_group\n"
     ]
    },
    {
     "name": "stdout",
     "output_type": "stream",
     "text": [
      "[I 2024-08-22 08:39:21,606] Trial 86 finished with values: [0.09421203285455704, 0.6362259984016418, -3.9516563415527344, 8.29533576965332, 6.80479097366333, -1.1969072818756104] and parameters: {'arch.attn_dropout': 0.1, 'arch.d_model': 416, 'arch.d_ff': 288, 'arch.decomposition': True, 'arch.dropout': 0.1, 'arch.individual': False, 'arch.n_layers': 1, 'arch.n_heads': 8, 'init_weights': True, 'lookback': 192, 'loss_func': 'wMAE'}. \n"
     ]
    },
    {
     "name": "stderr",
     "output_type": "stream",
     "text": [
      "Executing: 100%|██████████| 33/33 [00:44<00:00,  1.35s/cell]\n",
      " 88%|████████▊ | 88/100 [1:00:39<08:17, 41.45s/it]Passed unknown parameter: config.arch.attn_dropout\n",
      "Passed unknown parameter: config.arch.d_model\n",
      "Passed unknown parameter: config.arch.d_ff\n",
      "Passed unknown parameter: config.arch.decomposition\n",
      "Passed unknown parameter: config.arch.dropout\n",
      "Passed unknown parameter: config.arch.individual\n",
      "Passed unknown parameter: config.arch.n_layers\n",
      "Passed unknown parameter: config.arch.n_heads\n",
      "Passed unknown parameter: config.init_weights\n",
      "Passed unknown parameter: config.lookback\n",
      "Passed unknown parameter: config.loss_func\n",
      "Passed unknown parameter: config.loss_config\n",
      "Passed unknown parameter: config.n_epoch\n",
      "Passed unknown parameter: config.bs\n",
      "Passed unknown parameter: config.is_optuna_study\n",
      "Passed unknown parameter: config.metrics\n",
      "Passed unknown parameter: config.main_metric\n",
      "Passed unknown parameter: config.use_wandb\n",
      "Passed unknown parameter: config.wandb_group\n"
     ]
    },
    {
     "name": "stdout",
     "output_type": "stream",
     "text": [
      "[I 2024-08-22 08:40:06,482] Trial 87 finished with values: [0.11449906975030899, 0.6343833208084106, -7.7868571281433105, 8.196976661682129, 6.827579021453857, -0.5781688690185547] and parameters: {'arch.attn_dropout': 0.0, 'arch.d_model': 416, 'arch.d_ff': 128, 'arch.decomposition': True, 'arch.dropout': 0.1, 'arch.individual': False, 'arch.n_layers': 2, 'arch.n_heads': 8, 'init_weights': True, 'lookback': 192, 'loss_func': 'Classification'}. \n"
     ]
    },
    {
     "name": "stderr",
     "output_type": "stream",
     "text": [
      "Executing: 100%|██████████| 33/33 [00:30<00:00,  1.09cell/s]\n",
      " 89%|████████▉ | 89/100 [1:01:09<06:59, 38.15s/it]Passed unknown parameter: config.arch.attn_dropout\n",
      "Passed unknown parameter: config.arch.d_model\n",
      "Passed unknown parameter: config.arch.d_ff\n",
      "Passed unknown parameter: config.arch.decomposition\n",
      "Passed unknown parameter: config.arch.dropout\n",
      "Passed unknown parameter: config.arch.individual\n",
      "Passed unknown parameter: config.arch.n_layers\n",
      "Passed unknown parameter: config.arch.n_heads\n",
      "Passed unknown parameter: config.init_weights\n",
      "Passed unknown parameter: config.lookback\n",
      "Passed unknown parameter: config.loss_func\n",
      "Passed unknown parameter: config.loss_config\n",
      "Passed unknown parameter: config.n_epoch\n",
      "Passed unknown parameter: config.bs\n",
      "Passed unknown parameter: config.is_optuna_study\n",
      "Passed unknown parameter: config.metrics\n",
      "Passed unknown parameter: config.main_metric\n",
      "Passed unknown parameter: config.use_wandb\n",
      "Passed unknown parameter: config.wandb_group\n"
     ]
    },
    {
     "name": "stdout",
     "output_type": "stream",
     "text": [
      "[I 2024-08-22 08:40:36,939] Trial 88 finished with values: [0.11321742832660675, 0.7769108414649963, -12.93913459777832, 5.241405487060547, 3.5518264770507812, -0.4783967435359955] and parameters: {'arch.attn_dropout': 0.1, 'arch.d_model': 288, 'arch.d_ff': 224, 'arch.decomposition': True, 'arch.dropout': 0.0, 'arch.individual': False, 'arch.n_layers': 1, 'arch.n_heads': 16, 'init_weights': True, 'lookback': 18, 'loss_func': 'RMSLE'}. \n"
     ]
    },
    {
     "name": "stderr",
     "output_type": "stream",
     "text": [
      "Executing: 100%|██████████| 33/33 [00:33<00:00,  1.03s/cell]\n",
      " 90%|█████████ | 90/100 [1:01:43<06:09, 36.92s/it]Passed unknown parameter: config.arch.attn_dropout\n",
      "Passed unknown parameter: config.arch.d_model\n",
      "Passed unknown parameter: config.arch.d_ff\n",
      "Passed unknown parameter: config.arch.decomposition\n",
      "Passed unknown parameter: config.arch.dropout\n",
      "Passed unknown parameter: config.arch.individual\n",
      "Passed unknown parameter: config.arch.n_layers\n",
      "Passed unknown parameter: config.arch.n_heads\n",
      "Passed unknown parameter: config.init_weights\n",
      "Passed unknown parameter: config.lookback\n",
      "Passed unknown parameter: config.loss_func\n",
      "Passed unknown parameter: config.loss_config\n",
      "Passed unknown parameter: config.n_epoch\n",
      "Passed unknown parameter: config.bs\n",
      "Passed unknown parameter: config.is_optuna_study\n",
      "Passed unknown parameter: config.metrics\n",
      "Passed unknown parameter: config.main_metric\n",
      "Passed unknown parameter: config.use_wandb\n",
      "Passed unknown parameter: config.wandb_group\n"
     ]
    },
    {
     "name": "stdout",
     "output_type": "stream",
     "text": [
      "[I 2024-08-22 08:41:10,970] Trial 89 finished with values: [0.1108589842915535, 0.7417821884155273, -5.2176899909973145, 6.673165321350098, 5.405362606048584, -0.6879297494888306] and parameters: {'arch.attn_dropout': 0.1, 'arch.d_model': 160, 'arch.d_ff': 320, 'arch.decomposition': True, 'arch.dropout': 0.2, 'arch.individual': False, 'arch.n_layers': 2, 'arch.n_heads': 8, 'init_weights': True, 'lookback': 192, 'loss_func': 'Classification'}. \n"
     ]
    },
    {
     "name": "stderr",
     "output_type": "stream",
     "text": [
      "Executing: 100%|██████████| 33/33 [00:29<00:00,  1.12cell/s]\n",
      " 91%|█████████ | 91/100 [1:02:13<05:12, 34.75s/it]Passed unknown parameter: config.arch.attn_dropout\n",
      "Passed unknown parameter: config.arch.d_model\n",
      "Passed unknown parameter: config.arch.d_ff\n",
      "Passed unknown parameter: config.arch.decomposition\n",
      "Passed unknown parameter: config.arch.dropout\n",
      "Passed unknown parameter: config.arch.individual\n",
      "Passed unknown parameter: config.arch.n_layers\n",
      "Passed unknown parameter: config.arch.n_heads\n",
      "Passed unknown parameter: config.init_weights\n",
      "Passed unknown parameter: config.lookback\n",
      "Passed unknown parameter: config.loss_func\n",
      "Passed unknown parameter: config.loss_config\n",
      "Passed unknown parameter: config.n_epoch\n",
      "Passed unknown parameter: config.bs\n",
      "Passed unknown parameter: config.is_optuna_study\n",
      "Passed unknown parameter: config.metrics\n",
      "Passed unknown parameter: config.main_metric\n",
      "Passed unknown parameter: config.use_wandb\n",
      "Passed unknown parameter: config.wandb_group\n"
     ]
    },
    {
     "name": "stdout",
     "output_type": "stream",
     "text": [
      "[I 2024-08-22 08:41:40,673] Trial 90 finished with values: [0.09204095602035522, 0.3525969088077545, -12.620390892028809, 10.149357795715332, 8.269341468811035, -3.234504461288452] and parameters: {'arch.attn_dropout': 0.1, 'arch.d_model': 384, 'arch.d_ff': 416, 'arch.decomposition': False, 'arch.dropout': 0.5, 'arch.individual': True, 'arch.n_layers': 2, 'arch.n_heads': 32, 'init_weights': True, 'lookback': 18, 'loss_func': 'wMSLE'}. \n"
     ]
    },
    {
     "name": "stderr",
     "output_type": "stream",
     "text": [
      "Executing: 100%|██████████| 33/33 [00:43<00:00,  1.32s/cell]\n",
      " 92%|█████████▏| 92/100 [1:02:57<04:59, 37.48s/it]Passed unknown parameter: config.arch.attn_dropout\n",
      "Passed unknown parameter: config.arch.d_model\n",
      "Passed unknown parameter: config.arch.d_ff\n",
      "Passed unknown parameter: config.arch.decomposition\n",
      "Passed unknown parameter: config.arch.dropout\n",
      "Passed unknown parameter: config.arch.individual\n",
      "Passed unknown parameter: config.arch.n_layers\n",
      "Passed unknown parameter: config.arch.n_heads\n",
      "Passed unknown parameter: config.init_weights\n",
      "Passed unknown parameter: config.lookback\n",
      "Passed unknown parameter: config.loss_func\n",
      "Passed unknown parameter: config.loss_config\n",
      "Passed unknown parameter: config.n_epoch\n",
      "Passed unknown parameter: config.bs\n",
      "Passed unknown parameter: config.is_optuna_study\n",
      "Passed unknown parameter: config.metrics\n",
      "Passed unknown parameter: config.main_metric\n",
      "Passed unknown parameter: config.use_wandb\n",
      "Passed unknown parameter: config.wandb_group\n"
     ]
    },
    {
     "name": "stdout",
     "output_type": "stream",
     "text": [
      "[I 2024-08-22 08:42:24,521] Trial 91 finished with values: [0.1163204163312912, 0.7726069688796997, -10.839252471923828, 5.386630535125732, 3.6616201400756836, -0.40135377645492554] and parameters: {'arch.attn_dropout': 0.1, 'arch.d_model': 480, 'arch.d_ff': 384, 'arch.decomposition': True, 'arch.dropout': 0.30000000000000004, 'arch.individual': True, 'arch.n_layers': 3, 'arch.n_heads': 32, 'init_weights': False, 'lookback': 18, 'loss_func': 'wMSLE'}. \n"
     ]
    },
    {
     "name": "stderr",
     "output_type": "stream",
     "text": [
      "Executing: 100%|██████████| 33/33 [00:40<00:00,  1.24s/cell]\n",
      " 93%|█████████▎| 93/100 [1:03:38<04:30, 38.59s/it]Passed unknown parameter: config.arch.attn_dropout\n",
      "Passed unknown parameter: config.arch.d_model\n",
      "Passed unknown parameter: config.arch.d_ff\n",
      "Passed unknown parameter: config.arch.decomposition\n",
      "Passed unknown parameter: config.arch.dropout\n",
      "Passed unknown parameter: config.arch.individual\n",
      "Passed unknown parameter: config.arch.n_layers\n",
      "Passed unknown parameter: config.arch.n_heads\n",
      "Passed unknown parameter: config.init_weights\n",
      "Passed unknown parameter: config.lookback\n",
      "Passed unknown parameter: config.loss_func\n",
      "Passed unknown parameter: config.loss_config\n",
      "Passed unknown parameter: config.n_epoch\n",
      "Passed unknown parameter: config.bs\n",
      "Passed unknown parameter: config.is_optuna_study\n",
      "Passed unknown parameter: config.metrics\n",
      "Passed unknown parameter: config.main_metric\n",
      "Passed unknown parameter: config.use_wandb\n",
      "Passed unknown parameter: config.wandb_group\n"
     ]
    },
    {
     "name": "stdout",
     "output_type": "stream",
     "text": [
      "[I 2024-08-22 08:43:05,690] Trial 92 finished with values: [0.12405259162187576, 0.7467614412307739, -9.287693977355957, 6.592294216156006, 4.874481201171875, 2.6038379669189453] and parameters: {'arch.attn_dropout': 0.0, 'arch.d_model': 288, 'arch.d_ff': 256, 'arch.decomposition': True, 'arch.dropout': 0.0, 'arch.individual': False, 'arch.n_layers': 2, 'arch.n_heads': 2, 'init_weights': True, 'lookback': 36, 'loss_func': 'wHubber'}. \n"
     ]
    },
    {
     "name": "stderr",
     "output_type": "stream",
     "text": [
      "Executing: 100%|██████████| 33/33 [00:39<00:00,  1.21s/cell]\n",
      " 94%|█████████▍| 94/100 [1:04:18<03:53, 39.00s/it]Passed unknown parameter: config.arch.attn_dropout\n",
      "Passed unknown parameter: config.arch.d_model\n",
      "Passed unknown parameter: config.arch.d_ff\n",
      "Passed unknown parameter: config.arch.decomposition\n",
      "Passed unknown parameter: config.arch.dropout\n",
      "Passed unknown parameter: config.arch.individual\n",
      "Passed unknown parameter: config.arch.n_layers\n",
      "Passed unknown parameter: config.arch.n_heads\n",
      "Passed unknown parameter: config.init_weights\n",
      "Passed unknown parameter: config.lookback\n",
      "Passed unknown parameter: config.loss_func\n",
      "Passed unknown parameter: config.loss_config\n",
      "Passed unknown parameter: config.n_epoch\n",
      "Passed unknown parameter: config.bs\n",
      "Passed unknown parameter: config.is_optuna_study\n",
      "Passed unknown parameter: config.metrics\n",
      "Passed unknown parameter: config.main_metric\n",
      "Passed unknown parameter: config.use_wandb\n",
      "Passed unknown parameter: config.wandb_group\n"
     ]
    },
    {
     "name": "stdout",
     "output_type": "stream",
     "text": [
      "[I 2024-08-22 08:43:45,639] Trial 93 finished with values: [0.12708643078804016, 0.786723792552948, -8.556029319763184, 5.622878551483154, 3.934819459915161, -0.41534727811813354] and parameters: {'arch.attn_dropout': 0.0, 'arch.d_model': 512, 'arch.d_ff': 96, 'arch.decomposition': True, 'arch.dropout': 0.0, 'arch.individual': True, 'arch.n_layers': 1, 'arch.n_heads': 16, 'init_weights': False, 'lookback': 36, 'loss_func': 'wRMSLE'}. \n"
     ]
    },
    {
     "name": "stderr",
     "output_type": "stream",
     "text": [
      "Executing: 100%|██████████| 33/33 [00:35<00:00,  1.07s/cell]\n",
      " 95%|█████████▌| 95/100 [1:04:53<03:09, 37.96s/it]Passed unknown parameter: config.arch.attn_dropout\n",
      "Passed unknown parameter: config.arch.d_model\n",
      "Passed unknown parameter: config.arch.d_ff\n",
      "Passed unknown parameter: config.arch.decomposition\n",
      "Passed unknown parameter: config.arch.dropout\n",
      "Passed unknown parameter: config.arch.individual\n",
      "Passed unknown parameter: config.arch.n_layers\n",
      "Passed unknown parameter: config.arch.n_heads\n",
      "Passed unknown parameter: config.init_weights\n",
      "Passed unknown parameter: config.lookback\n",
      "Passed unknown parameter: config.loss_func\n",
      "Passed unknown parameter: config.loss_config\n",
      "Passed unknown parameter: config.n_epoch\n",
      "Passed unknown parameter: config.bs\n",
      "Passed unknown parameter: config.is_optuna_study\n",
      "Passed unknown parameter: config.metrics\n",
      "Passed unknown parameter: config.main_metric\n",
      "Passed unknown parameter: config.use_wandb\n",
      "Passed unknown parameter: config.wandb_group\n"
     ]
    },
    {
     "name": "stdout",
     "output_type": "stream",
     "text": [
      "[I 2024-08-22 08:44:21,177] Trial 94 finished with values: [0.12997089326381683, 0.7605972290039062, -17.78260040283203, 6.7508745193481445, 4.985140323638916, 3.7898573875427246] and parameters: {'arch.attn_dropout': 0.0, 'arch.d_model': 256, 'arch.d_ff': 128, 'arch.decomposition': True, 'arch.dropout': 0.2, 'arch.individual': False, 'arch.n_layers': 2, 'arch.n_heads': 8, 'init_weights': True, 'lookback': 18, 'loss_func': 'wHubber'}. \n"
     ]
    },
    {
     "name": "stderr",
     "output_type": "stream",
     "text": [
      "Executing: 100%|██████████| 33/33 [01:09<00:00,  2.09s/cell]\n",
      " 96%|█████████▌| 96/100 [1:06:03<03:09, 47.36s/it]"
     ]
    },
    {
     "name": "stdout",
     "output_type": "stream",
     "text": [
      "[I 2024-08-22 08:45:30,474] Trial 95 finished with values: [0.1251678764820099, 0.7444998025894165, -6.441953659057617, 6.4881672859191895, 5.211873531341553, -0.011415095068514347] and parameters: {'arch.attn_dropout': 0.0, 'arch.d_model': 480, 'arch.d_ff': 160, 'arch.decomposition': True, 'arch.dropout': 0.0, 'arch.individual': False, 'arch.n_layers': 3, 'arch.n_heads': 16, 'init_weights': False, 'lookback': 192, 'loss_func': 'MAE'}. \n"
     ]
    },
    {
     "name": "stderr",
     "output_type": "stream",
     "text": [
      "Passed unknown parameter: config.arch.attn_dropout\n",
      "Passed unknown parameter: config.arch.d_model\n",
      "Passed unknown parameter: config.arch.d_ff\n",
      "Passed unknown parameter: config.arch.decomposition\n",
      "Passed unknown parameter: config.arch.dropout\n",
      "Passed unknown parameter: config.arch.individual\n",
      "Passed unknown parameter: config.arch.n_layers\n",
      "Passed unknown parameter: config.arch.n_heads\n",
      "Passed unknown parameter: config.init_weights\n",
      "Passed unknown parameter: config.lookback\n",
      "Passed unknown parameter: config.loss_func\n",
      "Passed unknown parameter: config.loss_config\n",
      "Passed unknown parameter: config.n_epoch\n",
      "Passed unknown parameter: config.bs\n",
      "Passed unknown parameter: config.is_optuna_study\n",
      "Passed unknown parameter: config.metrics\n",
      "Passed unknown parameter: config.main_metric\n",
      "Passed unknown parameter: config.use_wandb\n",
      "Passed unknown parameter: config.wandb_group\n",
      "Executing: 100%|██████████| 33/33 [00:33<00:00,  1.01s/cell]\n",
      " 97%|█████████▋| 97/100 [1:06:36<02:09, 43.25s/it]"
     ]
    },
    {
     "name": "stdout",
     "output_type": "stream",
     "text": [
      "[I 2024-08-22 08:46:04,127] Trial 96 finished with values: [0.1120603159070015, 0.6926687955856323, -7.055704593658447, 11.656908988952637, 9.822580337524414, 8.602028846740723] and parameters: {'arch.attn_dropout': 0.0, 'arch.d_model': 384, 'arch.d_ff': 64, 'arch.decomposition': True, 'arch.dropout': 0.2, 'arch.individual': False, 'arch.n_layers': 1, 'arch.n_heads': 4, 'init_weights': True, 'lookback': 192, 'loss_func': 'Hubber'}. \n"
     ]
    },
    {
     "name": "stderr",
     "output_type": "stream",
     "text": [
      "Passed unknown parameter: config.arch.attn_dropout\n",
      "Passed unknown parameter: config.arch.d_model\n",
      "Passed unknown parameter: config.arch.d_ff\n",
      "Passed unknown parameter: config.arch.decomposition\n",
      "Passed unknown parameter: config.arch.dropout\n",
      "Passed unknown parameter: config.arch.individual\n",
      "Passed unknown parameter: config.arch.n_layers\n",
      "Passed unknown parameter: config.arch.n_heads\n",
      "Passed unknown parameter: config.init_weights\n",
      "Passed unknown parameter: config.lookback\n",
      "Passed unknown parameter: config.loss_func\n",
      "Passed unknown parameter: config.loss_config\n",
      "Passed unknown parameter: config.n_epoch\n",
      "Passed unknown parameter: config.bs\n",
      "Passed unknown parameter: config.is_optuna_study\n",
      "Passed unknown parameter: config.metrics\n",
      "Passed unknown parameter: config.main_metric\n",
      "Passed unknown parameter: config.use_wandb\n",
      "Passed unknown parameter: config.wandb_group\n",
      "Executing: 100%|██████████| 33/33 [01:06<00:00,  2.02s/cell]\n",
      " 98%|█████████▊| 98/100 [1:07:43<01:40, 50.31s/it]"
     ]
    },
    {
     "name": "stdout",
     "output_type": "stream",
     "text": [
      "[I 2024-08-22 08:47:10,916] Trial 97 finished with values: [0.10255889594554901, 0.5489423871040344, -18.653705596923828, 9.095163345336914, 7.652325630187988, -3.060138463973999] and parameters: {'arch.attn_dropout': 0.0, 'arch.d_model': 512, 'arch.d_ff': 96, 'arch.decomposition': True, 'arch.dropout': 0.2, 'arch.individual': True, 'arch.n_layers': 3, 'arch.n_heads': 8, 'init_weights': False, 'lookback': 192, 'loss_func': 'Classification'}. \n"
     ]
    },
    {
     "name": "stderr",
     "output_type": "stream",
     "text": [
      "Passed unknown parameter: config.arch.attn_dropout\n",
      "Passed unknown parameter: config.arch.d_model\n",
      "Passed unknown parameter: config.arch.d_ff\n",
      "Passed unknown parameter: config.arch.decomposition\n",
      "Passed unknown parameter: config.arch.dropout\n",
      "Passed unknown parameter: config.arch.individual\n",
      "Passed unknown parameter: config.arch.n_layers\n",
      "Passed unknown parameter: config.arch.n_heads\n",
      "Passed unknown parameter: config.init_weights\n",
      "Passed unknown parameter: config.lookback\n",
      "Passed unknown parameter: config.loss_func\n",
      "Passed unknown parameter: config.loss_config\n",
      "Passed unknown parameter: config.n_epoch\n",
      "Passed unknown parameter: config.bs\n",
      "Passed unknown parameter: config.is_optuna_study\n",
      "Passed unknown parameter: config.metrics\n",
      "Passed unknown parameter: config.main_metric\n",
      "Passed unknown parameter: config.use_wandb\n",
      "Passed unknown parameter: config.wandb_group\n",
      "Executing: 100%|██████████| 33/33 [00:34<00:00,  1.03s/cell]\n",
      " 99%|█████████▉| 99/100 [1:08:17<00:45, 45.52s/it]"
     ]
    },
    {
     "name": "stdout",
     "output_type": "stream",
     "text": [
      "[I 2024-08-22 08:47:45,243] Trial 98 finished with values: [0.1061878576874733, 0.6618846654891968, -9.469882011413574, 10.511825561523438, 9.175590515136719, 7.912820339202881] and parameters: {'arch.attn_dropout': 0.0, 'arch.d_model': 448, 'arch.d_ff': 160, 'arch.decomposition': True, 'arch.dropout': 0.1, 'arch.individual': False, 'arch.n_layers': 1, 'arch.n_heads': 2, 'init_weights': False, 'lookback': 192, 'loss_func': 'wHubber'}. \n"
     ]
    },
    {
     "name": "stderr",
     "output_type": "stream",
     "text": [
      "Passed unknown parameter: config.arch.attn_dropout\n",
      "Passed unknown parameter: config.arch.d_model\n",
      "Passed unknown parameter: config.arch.d_ff\n",
      "Passed unknown parameter: config.arch.decomposition\n",
      "Passed unknown parameter: config.arch.dropout\n",
      "Passed unknown parameter: config.arch.individual\n",
      "Passed unknown parameter: config.arch.n_layers\n",
      "Passed unknown parameter: config.arch.n_heads\n",
      "Passed unknown parameter: config.init_weights\n",
      "Passed unknown parameter: config.lookback\n",
      "Passed unknown parameter: config.loss_func\n",
      "Passed unknown parameter: config.loss_config\n",
      "Passed unknown parameter: config.n_epoch\n",
      "Passed unknown parameter: config.bs\n",
      "Passed unknown parameter: config.is_optuna_study\n",
      "Passed unknown parameter: config.metrics\n",
      "Passed unknown parameter: config.main_metric\n",
      "Passed unknown parameter: config.use_wandb\n",
      "Passed unknown parameter: config.wandb_group\n",
      "Executing:  82%|████████▏ | 27/33 [00:10<00:02,  2.55cell/s]\n",
      " 99%|█████████▉| 99/100 [1:08:28<00:41, 41.50s/it]\n"
     ]
    },
    {
     "name": "stdout",
     "output_type": "stream",
     "text": [
      "[W 2024-08-22 08:47:56,084] Trial 99 failed with parameters: {'arch.attn_dropout': 0.0, 'arch.d_model': 448, 'arch.d_ff': 192, 'arch.decomposition': True, 'arch.dropout': 0.1, 'arch.individual': False, 'arch.n_layers': 1, 'arch.n_heads': 8, 'init_weights': False, 'lookback': 192, 'loss_func': 'wMSE'} because of the following error: PapermillExecutionError(26, 21, \"from swdf.losses import LossFactory\\nfrom swdf.metrics import ValidationMetricsHandler\\n\\ndevice = torch.device('cuda:0' if torch.cuda.is_available() else 'cpu')\\nloss = LossFactory(thresholds=thresholds, weights=weights).create(config.loss_func, **config.loss_config).to(device)\\n\\nmetrics_handler = ValidationMetricsHandler(config.metrics)\\nmetrics = metrics_handler.get_metrics()\\n\\nwandb_callback = WandbCallback(log_preds=False)\\ncbs = L(wandb_callback) if config.wandb.enabled else L()\\nlearn = TSForecaster(X, y, splits=splits, batch_size=config.bs,\\n                     pipelines=[preproc_pipe, exp_pipe], \\n                     arch=config.arch_name, \\n                     metrics=metrics,\\n                     loss_func=loss,\\n                     arch_config=dict(config.arch), \\n                     init=config.init_weights,\\n                     cbs= cbs + ShowGraphCallback(), \\n                     partial_n=config.partial_n)\\nlearn.to(device)\\n\\nlr_max = learn.lr_find().valley if config.lr_max is None else config.lr_max\\n\\nlearn.fit_one_cycle(n_epoch=config.n_epoch, lr_max=config.lr_max)\\n\", 'IndexError', 'index 0 is out of bounds for dimension 0 with size 0', ['\\x1b[0;31m---------------------------------------------------------------------------\\x1b[0m', '\\x1b[0;31mIndexError\\x1b[0m                                Traceback (most recent call last)', 'Cell \\x1b[0;32mIn[21], line 23\\x1b[0m\\n\\x1b[1;32m     12\\x1b[0m learn \\x1b[38;5;241m=\\x1b[39m TSForecaster(X, y, splits\\x1b[38;5;241m=\\x1b[39msplits, batch_size\\x1b[38;5;241m=\\x1b[39mconfig\\x1b[38;5;241m.\\x1b[39mbs,\\n\\x1b[1;32m     13\\x1b[0m                      pipelines\\x1b[38;5;241m=\\x1b[39m[preproc_pipe, exp_pipe], \\n\\x1b[1;32m     14\\x1b[0m                      arch\\x1b[38;5;241m=\\x1b[39mconfig\\x1b[38;5;241m.\\x1b[39march_name, \\n\\x1b[0;32m   (...)\\x1b[0m\\n\\x1b[1;32m     19\\x1b[0m                      cbs\\x1b[38;5;241m=\\x1b[39m cbs \\x1b[38;5;241m+\\x1b[39m ShowGraphCallback(), \\n\\x1b[1;32m     20\\x1b[0m                      partial_n\\x1b[38;5;241m=\\x1b[39mconfig\\x1b[38;5;241m.\\x1b[39mpartial_n)\\n\\x1b[1;32m     21\\x1b[0m learn\\x1b[38;5;241m.\\x1b[39mto(device)\\n\\x1b[0;32m---> 23\\x1b[0m lr_max \\x1b[38;5;241m=\\x1b[39m \\x1b[43mlearn\\x1b[49m\\x1b[38;5;241;43m.\\x1b[39;49m\\x1b[43mlr_find\\x1b[49m\\x1b[43m(\\x1b[49m\\x1b[43m)\\x1b[49m\\x1b[38;5;241m.\\x1b[39mvalley \\x1b[38;5;28;01mif\\x1b[39;00m config\\x1b[38;5;241m.\\x1b[39mlr_max \\x1b[38;5;129;01mis\\x1b[39;00m \\x1b[38;5;28;01mNone\\x1b[39;00m \\x1b[38;5;28;01melse\\x1b[39;00m config\\x1b[38;5;241m.\\x1b[39mlr_max\\n\\x1b[1;32m     25\\x1b[0m learn\\x1b[38;5;241m.\\x1b[39mfit_one_cycle(n_epoch\\x1b[38;5;241m=\\x1b[39mconfig\\x1b[38;5;241m.\\x1b[39mn_epoch, lr_max\\x1b[38;5;241m=\\x1b[39mconfig\\x1b[38;5;241m.\\x1b[39mlr_max)\\n', \"File \\x1b[0;32m/usr/local/pip-global/fastai/callback/schedule.py:304\\x1b[0m, in \\x1b[0;36mlr_find\\x1b[0;34m(self, start_lr, end_lr, num_it, stop_div, show_plot, suggest_funcs)\\x1b[0m\\n\\x1b[1;32m    302\\x1b[0m \\x1b[38;5;28;01mfor\\x1b[39;00m func \\x1b[38;5;129;01min\\x1b[39;00m tuplify(suggest_funcs):\\n\\x1b[1;32m    303\\x1b[0m     nms\\x1b[38;5;241m.\\x1b[39mappend(func\\x1b[38;5;241m.\\x1b[39m\\x1b[38;5;18m__name__\\x1b[39m \\x1b[38;5;28;01mif\\x1b[39;00m \\x1b[38;5;129;01mnot\\x1b[39;00m \\x1b[38;5;28misinstance\\x1b[39m(func, partial) \\x1b[38;5;28;01melse\\x1b[39;00m func\\x1b[38;5;241m.\\x1b[39mfunc\\x1b[38;5;241m.\\x1b[39m\\x1b[38;5;18m__name__\\x1b[39m) \\x1b[38;5;66;03m# deal with partials\\x1b[39;00m\\n\\x1b[0;32m--> 304\\x1b[0m     _suggestions\\x1b[38;5;241m.\\x1b[39mappend(\\x1b[43mfunc\\x1b[49m\\x1b[43m(\\x1b[49m\\x1b[43mlrs\\x1b[49m\\x1b[43m,\\x1b[49m\\x1b[43m \\x1b[49m\\x1b[43mlosses\\x1b[49m\\x1b[43m,\\x1b[49m\\x1b[43m \\x1b[49m\\x1b[43mnum_it\\x1b[49m\\x1b[43m)\\x1b[49m)\\n\\x1b[1;32m    306\\x1b[0m SuggestedLRs \\x1b[38;5;241m=\\x1b[39m collections\\x1b[38;5;241m.\\x1b[39mnamedtuple(\\x1b[38;5;124m'\\x1b[39m\\x1b[38;5;124mSuggestedLRs\\x1b[39m\\x1b[38;5;124m'\\x1b[39m, nms)\\n\\x1b[1;32m    307\\x1b[0m lrs, pnts \\x1b[38;5;241m=\\x1b[39m [], []\\n\", 'File \\x1b[0;32m/usr/local/pip-global/fastai/callback/schedule.py:231\\x1b[0m, in \\x1b[0;36mvalley\\x1b[0;34m(lrs, losses, num_it)\\x1b[0m\\n\\x1b[1;32m    228\\x1b[0m sections \\x1b[38;5;241m=\\x1b[39m (max_end \\x1b[38;5;241m-\\x1b[39m max_start) \\x1b[38;5;241m/\\x1b[39m \\x1b[38;5;241m3\\x1b[39m\\n\\x1b[1;32m    229\\x1b[0m idx \\x1b[38;5;241m=\\x1b[39m max_start \\x1b[38;5;241m+\\x1b[39m \\x1b[38;5;28mint\\x1b[39m(sections) \\x1b[38;5;241m+\\x1b[39m \\x1b[38;5;28mint\\x1b[39m(sections\\x1b[38;5;241m/\\x1b[39m\\x1b[38;5;241m2\\x1b[39m)\\n\\x1b[0;32m--> 231\\x1b[0m \\x1b[38;5;28;01mreturn\\x1b[39;00m \\x1b[38;5;28mfloat\\x1b[39m(\\x1b[43mlrs\\x1b[49m\\x1b[43m[\\x1b[49m\\x1b[43midx\\x1b[49m\\x1b[43m]\\x1b[49m), (\\x1b[38;5;28mfloat\\x1b[39m(lrs[idx]), losses[idx])\\n', '\\x1b[0;31mIndexError\\x1b[0m: index 0 is out of bounds for dimension 0 with size 0']).\n",
      "Traceback (most recent call last):\n",
      "  File \"/usr/local/pip-global/optuna/study/_optimize.py\", line 196, in _run_trial\n",
      "    value_or_values = func(trial)\n",
      "  File \"/tmp/ipykernel_5147/4150228082.py\", line 57, in objective\n",
      "    pm.execute_notebook(\n",
      "  File \"/usr/local/pip-global/papermill/execute.py\", line 131, in execute_notebook\n",
      "    raise_for_execution_errors(nb, output_path)\n",
      "  File \"/usr/local/pip-global/papermill/execute.py\", line 251, in raise_for_execution_errors\n",
      "    raise error\n",
      "papermill.exceptions.PapermillExecutionError: \n",
      "---------------------------------------------------------------------------\n",
      "Exception encountered at \"In [21]\":\n",
      "---------------------------------------------------------------------------\n",
      "IndexError                                Traceback (most recent call last)\n",
      "Cell In[21], line 23\n",
      "     12 learn = TSForecaster(X, y, splits=splits, batch_size=config.bs,\n",
      "     13                      pipelines=[preproc_pipe, exp_pipe], \n",
      "     14                      arch=config.arch_name, \n",
      "   (...)\n",
      "     19                      cbs= cbs + ShowGraphCallback(), \n",
      "     20                      partial_n=config.partial_n)\n",
      "     21 learn.to(device)\n",
      "---> 23 lr_max = learn.lr_find().valley if config.lr_max is None else config.lr_max\n",
      "     25 learn.fit_one_cycle(n_epoch=config.n_epoch, lr_max=config.lr_max)\n",
      "\n",
      "File /usr/local/pip-global/fastai/callback/schedule.py:304, in lr_find(self, start_lr, end_lr, num_it, stop_div, show_plot, suggest_funcs)\n",
      "    302 for func in tuplify(suggest_funcs):\n",
      "    303     nms.append(func.__name__ if not isinstance(func, partial) else func.func.__name__) # deal with partials\n",
      "--> 304     _suggestions.append(func(lrs, losses, num_it))\n",
      "    306 SuggestedLRs = collections.namedtuple('SuggestedLRs', nms)\n",
      "    307 lrs, pnts = [], []\n",
      "\n",
      "File /usr/local/pip-global/fastai/callback/schedule.py:231, in valley(lrs, losses, num_it)\n",
      "    228 sections = (max_end - max_start) / 3\n",
      "    229 idx = max_start + int(sections) + int(sections/2)\n",
      "--> 231 return float(lrs[idx]), (float(lrs[idx]), losses[idx])\n",
      "\n",
      "IndexError: index 0 is out of bounds for dimension 0 with size 0\n",
      "\n",
      "[W 2024-08-22 08:47:56,086] Trial 99 failed with value None.\n"
     ]
    },
    {
     "ename": "PapermillExecutionError",
     "evalue": "\n---------------------------------------------------------------------------\nException encountered at \"In [21]\":\n---------------------------------------------------------------------------\nIndexError                                Traceback (most recent call last)\nCell In[21], line 23\n     12 learn = TSForecaster(X, y, splits=splits, batch_size=config.bs,\n     13                      pipelines=[preproc_pipe, exp_pipe], \n     14                      arch=config.arch_name, \n   (...)\n     19                      cbs= cbs + ShowGraphCallback(), \n     20                      partial_n=config.partial_n)\n     21 learn.to(device)\n---> 23 lr_max = learn.lr_find().valley if config.lr_max is None else config.lr_max\n     25 learn.fit_one_cycle(n_epoch=config.n_epoch, lr_max=config.lr_max)\n\nFile /usr/local/pip-global/fastai/callback/schedule.py:304, in lr_find(self, start_lr, end_lr, num_it, stop_div, show_plot, suggest_funcs)\n    302 for func in tuplify(suggest_funcs):\n    303     nms.append(func.__name__ if not isinstance(func, partial) else func.func.__name__) # deal with partials\n--> 304     _suggestions.append(func(lrs, losses, num_it))\n    306 SuggestedLRs = collections.namedtuple('SuggestedLRs', nms)\n    307 lrs, pnts = [], []\n\nFile /usr/local/pip-global/fastai/callback/schedule.py:231, in valley(lrs, losses, num_it)\n    228 sections = (max_end - max_start) / 3\n    229 idx = max_start + int(sections) + int(sections/2)\n--> 231 return float(lrs[idx]), (float(lrs[idx]), losses[idx])\n\nIndexError: index 0 is out of bounds for dimension 0 with size 0\n",
     "output_type": "error",
     "traceback": [
      "\u001b[0;31m---------------------------------------------------------------------------\u001b[0m",
      "\u001b[0;31mPapermillExecutionError\u001b[0m                   Traceback (most recent call last)",
      "Cell \u001b[0;32mIn[16], line 6\u001b[0m\n\u001b[1;32m      2\u001b[0m train_nb \u001b[38;5;241m=\u001b[39m filter_nb(config\u001b[38;5;241m.\u001b[39mtrain_nb, [\u001b[38;5;124m'\u001b[39m\u001b[38;5;124mskip\u001b[39m\u001b[38;5;124m'\u001b[39m])\n\u001b[1;32m      4\u001b[0m obj \u001b[38;5;241m=\u001b[39m create_objective(config\u001b[38;5;241m.\u001b[39mtrain_nb, config\u001b[38;5;241m.\u001b[39msearch_space, \n\u001b[1;32m      5\u001b[0m                        extra_params\u001b[38;5;241m=\u001b[39mconfig\u001b[38;5;241m.\u001b[39mextra_params, use_wandb\u001b[38;5;241m=\u001b[39m\u001b[38;5;28;01mTrue\u001b[39;00m)\n\u001b[0;32m----> 6\u001b[0m study \u001b[38;5;241m=\u001b[39m \u001b[43mrun_optuna_study\u001b[49m\u001b[43m(\u001b[49m\u001b[43mobj\u001b[49m\u001b[43m,\u001b[49m\u001b[43m \u001b[49m\u001b[43mstudy_type\u001b[49m\u001b[38;5;241;43m=\u001b[39;49m\u001b[38;5;124;43m'\u001b[39;49m\u001b[38;5;124;43mbayesian\u001b[39;49m\u001b[38;5;124;43m'\u001b[39;49m\u001b[43m,\u001b[49m\u001b[43m \u001b[49m\u001b[43mdirection\u001b[49m\u001b[38;5;241;43m=\u001b[39;49m\u001b[43mval_metrics\u001b[49m\u001b[38;5;241;43m.\u001b[39;49m\u001b[43mget_study_directions\u001b[49m\u001b[43m(\u001b[49m\u001b[43m)\u001b[49m\u001b[43m,\u001b[49m\u001b[43m \u001b[49m\u001b[43mpath\u001b[49m\u001b[38;5;241;43m=\u001b[39;49m\u001b[38;5;124;43m'\u001b[39;49m\u001b[38;5;124;43m./tmp\u001b[39;49m\u001b[38;5;124;43m'\u001b[39;49m\u001b[43m,\u001b[49m\n\u001b[1;32m      7\u001b[0m \u001b[43m                 \u001b[49m\u001b[43mstudy_name\u001b[49m\u001b[38;5;241;43m=\u001b[39;49m\u001b[43mconfig\u001b[49m\u001b[38;5;241;43m.\u001b[39;49m\u001b[43mstudy_name\u001b[49m\u001b[43m,\u001b[49m\u001b[43m \u001b[49m\u001b[43mn_trials\u001b[49m\u001b[38;5;241;43m=\u001b[39;49m\u001b[43mconfig\u001b[49m\u001b[38;5;241;43m.\u001b[39;49m\u001b[43mn_trials\u001b[49m\u001b[43m)\u001b[49m\n",
      "Cell \u001b[0;32mIn[14], line 72\u001b[0m, in \u001b[0;36mrun_optuna_study\u001b[0;34m(objective, resume, study_type, multivariate, search_space, evaluate, seed, sampler, pruner, study_name, direction, n_trials, timeout, gc_after_trial, show_progress_bar, save_study, path, show_plots)\u001b[0m\n\u001b[1;32m     70\u001b[0m \u001b[38;5;28;01mif\u001b[39;00m evaluate: study\u001b[38;5;241m.\u001b[39menqueue_trial(evaluate)\n\u001b[1;32m     71\u001b[0m \u001b[38;5;28;01mtry\u001b[39;00m:\n\u001b[0;32m---> 72\u001b[0m     \u001b[43mstudy\u001b[49m\u001b[38;5;241;43m.\u001b[39;49m\u001b[43moptimize\u001b[49m\u001b[43m(\u001b[49m\u001b[43mobjective\u001b[49m\u001b[43m,\u001b[49m\u001b[43m \u001b[49m\u001b[43mn_trials\u001b[49m\u001b[38;5;241;43m=\u001b[39;49m\u001b[43mn_trials\u001b[49m\u001b[43m,\u001b[49m\u001b[43m \u001b[49m\u001b[43mtimeout\u001b[49m\u001b[38;5;241;43m=\u001b[39;49m\u001b[43mtimeout\u001b[49m\u001b[43m,\u001b[49m\u001b[43m \u001b[49m\u001b[43mgc_after_trial\u001b[49m\u001b[38;5;241;43m=\u001b[39;49m\u001b[43mgc_after_trial\u001b[49m\u001b[43m,\u001b[49m\u001b[43m \u001b[49m\u001b[43mshow_progress_bar\u001b[49m\u001b[38;5;241;43m=\u001b[39;49m\u001b[43mshow_progress_bar\u001b[49m\u001b[43m)\u001b[49m\n\u001b[1;32m     73\u001b[0m \u001b[38;5;28;01mexcept\u001b[39;00m \u001b[38;5;167;01mKeyboardInterrupt\u001b[39;00m:\n\u001b[1;32m     74\u001b[0m     \u001b[38;5;28;01mpass\u001b[39;00m\n",
      "File \u001b[0;32m/usr/local/pip-global/optuna/study/study.py:451\u001b[0m, in \u001b[0;36mStudy.optimize\u001b[0;34m(self, func, n_trials, timeout, n_jobs, catch, callbacks, gc_after_trial, show_progress_bar)\u001b[0m\n\u001b[1;32m    348\u001b[0m \u001b[38;5;28;01mdef\u001b[39;00m \u001b[38;5;21moptimize\u001b[39m(\n\u001b[1;32m    349\u001b[0m     \u001b[38;5;28mself\u001b[39m,\n\u001b[1;32m    350\u001b[0m     func: ObjectiveFuncType,\n\u001b[0;32m   (...)\u001b[0m\n\u001b[1;32m    357\u001b[0m     show_progress_bar: \u001b[38;5;28mbool\u001b[39m \u001b[38;5;241m=\u001b[39m \u001b[38;5;28;01mFalse\u001b[39;00m,\n\u001b[1;32m    358\u001b[0m ) \u001b[38;5;241m-\u001b[39m\u001b[38;5;241m>\u001b[39m \u001b[38;5;28;01mNone\u001b[39;00m:\n\u001b[1;32m    359\u001b[0m \u001b[38;5;250m    \u001b[39m\u001b[38;5;124;03m\"\"\"Optimize an objective function.\u001b[39;00m\n\u001b[1;32m    360\u001b[0m \n\u001b[1;32m    361\u001b[0m \u001b[38;5;124;03m    Optimization is done by choosing a suitable set of hyperparameter values from a given\u001b[39;00m\n\u001b[0;32m   (...)\u001b[0m\n\u001b[1;32m    449\u001b[0m \u001b[38;5;124;03m            If nested invocation of this method occurs.\u001b[39;00m\n\u001b[1;32m    450\u001b[0m \u001b[38;5;124;03m    \"\"\"\u001b[39;00m\n\u001b[0;32m--> 451\u001b[0m     \u001b[43m_optimize\u001b[49m\u001b[43m(\u001b[49m\n\u001b[1;32m    452\u001b[0m \u001b[43m        \u001b[49m\u001b[43mstudy\u001b[49m\u001b[38;5;241;43m=\u001b[39;49m\u001b[38;5;28;43mself\u001b[39;49m\u001b[43m,\u001b[49m\n\u001b[1;32m    453\u001b[0m \u001b[43m        \u001b[49m\u001b[43mfunc\u001b[49m\u001b[38;5;241;43m=\u001b[39;49m\u001b[43mfunc\u001b[49m\u001b[43m,\u001b[49m\n\u001b[1;32m    454\u001b[0m \u001b[43m        \u001b[49m\u001b[43mn_trials\u001b[49m\u001b[38;5;241;43m=\u001b[39;49m\u001b[43mn_trials\u001b[49m\u001b[43m,\u001b[49m\n\u001b[1;32m    455\u001b[0m \u001b[43m        \u001b[49m\u001b[43mtimeout\u001b[49m\u001b[38;5;241;43m=\u001b[39;49m\u001b[43mtimeout\u001b[49m\u001b[43m,\u001b[49m\n\u001b[1;32m    456\u001b[0m \u001b[43m        \u001b[49m\u001b[43mn_jobs\u001b[49m\u001b[38;5;241;43m=\u001b[39;49m\u001b[43mn_jobs\u001b[49m\u001b[43m,\u001b[49m\n\u001b[1;32m    457\u001b[0m \u001b[43m        \u001b[49m\u001b[43mcatch\u001b[49m\u001b[38;5;241;43m=\u001b[39;49m\u001b[38;5;28;43mtuple\u001b[39;49m\u001b[43m(\u001b[49m\u001b[43mcatch\u001b[49m\u001b[43m)\u001b[49m\u001b[43m \u001b[49m\u001b[38;5;28;43;01mif\u001b[39;49;00m\u001b[43m \u001b[49m\u001b[38;5;28;43misinstance\u001b[39;49m\u001b[43m(\u001b[49m\u001b[43mcatch\u001b[49m\u001b[43m,\u001b[49m\u001b[43m \u001b[49m\u001b[43mIterable\u001b[49m\u001b[43m)\u001b[49m\u001b[43m \u001b[49m\u001b[38;5;28;43;01melse\u001b[39;49;00m\u001b[43m \u001b[49m\u001b[43m(\u001b[49m\u001b[43mcatch\u001b[49m\u001b[43m,\u001b[49m\u001b[43m)\u001b[49m\u001b[43m,\u001b[49m\n\u001b[1;32m    458\u001b[0m \u001b[43m        \u001b[49m\u001b[43mcallbacks\u001b[49m\u001b[38;5;241;43m=\u001b[39;49m\u001b[43mcallbacks\u001b[49m\u001b[43m,\u001b[49m\n\u001b[1;32m    459\u001b[0m \u001b[43m        \u001b[49m\u001b[43mgc_after_trial\u001b[49m\u001b[38;5;241;43m=\u001b[39;49m\u001b[43mgc_after_trial\u001b[49m\u001b[43m,\u001b[49m\n\u001b[1;32m    460\u001b[0m \u001b[43m        \u001b[49m\u001b[43mshow_progress_bar\u001b[49m\u001b[38;5;241;43m=\u001b[39;49m\u001b[43mshow_progress_bar\u001b[49m\u001b[43m,\u001b[49m\n\u001b[1;32m    461\u001b[0m \u001b[43m    \u001b[49m\u001b[43m)\u001b[49m\n",
      "File \u001b[0;32m/usr/local/pip-global/optuna/study/_optimize.py:62\u001b[0m, in \u001b[0;36m_optimize\u001b[0;34m(study, func, n_trials, timeout, n_jobs, catch, callbacks, gc_after_trial, show_progress_bar)\u001b[0m\n\u001b[1;32m     60\u001b[0m \u001b[38;5;28;01mtry\u001b[39;00m:\n\u001b[1;32m     61\u001b[0m     \u001b[38;5;28;01mif\u001b[39;00m n_jobs \u001b[38;5;241m==\u001b[39m \u001b[38;5;241m1\u001b[39m:\n\u001b[0;32m---> 62\u001b[0m         \u001b[43m_optimize_sequential\u001b[49m\u001b[43m(\u001b[49m\n\u001b[1;32m     63\u001b[0m \u001b[43m            \u001b[49m\u001b[43mstudy\u001b[49m\u001b[43m,\u001b[49m\n\u001b[1;32m     64\u001b[0m \u001b[43m            \u001b[49m\u001b[43mfunc\u001b[49m\u001b[43m,\u001b[49m\n\u001b[1;32m     65\u001b[0m \u001b[43m            \u001b[49m\u001b[43mn_trials\u001b[49m\u001b[43m,\u001b[49m\n\u001b[1;32m     66\u001b[0m \u001b[43m            \u001b[49m\u001b[43mtimeout\u001b[49m\u001b[43m,\u001b[49m\n\u001b[1;32m     67\u001b[0m \u001b[43m            \u001b[49m\u001b[43mcatch\u001b[49m\u001b[43m,\u001b[49m\n\u001b[1;32m     68\u001b[0m \u001b[43m            \u001b[49m\u001b[43mcallbacks\u001b[49m\u001b[43m,\u001b[49m\n\u001b[1;32m     69\u001b[0m \u001b[43m            \u001b[49m\u001b[43mgc_after_trial\u001b[49m\u001b[43m,\u001b[49m\n\u001b[1;32m     70\u001b[0m \u001b[43m            \u001b[49m\u001b[43mreseed_sampler_rng\u001b[49m\u001b[38;5;241;43m=\u001b[39;49m\u001b[38;5;28;43;01mFalse\u001b[39;49;00m\u001b[43m,\u001b[49m\n\u001b[1;32m     71\u001b[0m \u001b[43m            \u001b[49m\u001b[43mtime_start\u001b[49m\u001b[38;5;241;43m=\u001b[39;49m\u001b[38;5;28;43;01mNone\u001b[39;49;00m\u001b[43m,\u001b[49m\n\u001b[1;32m     72\u001b[0m \u001b[43m            \u001b[49m\u001b[43mprogress_bar\u001b[49m\u001b[38;5;241;43m=\u001b[39;49m\u001b[43mprogress_bar\u001b[49m\u001b[43m,\u001b[49m\n\u001b[1;32m     73\u001b[0m \u001b[43m        \u001b[49m\u001b[43m)\u001b[49m\n\u001b[1;32m     74\u001b[0m     \u001b[38;5;28;01melse\u001b[39;00m:\n\u001b[1;32m     75\u001b[0m         \u001b[38;5;28;01mif\u001b[39;00m n_jobs \u001b[38;5;241m==\u001b[39m \u001b[38;5;241m-\u001b[39m\u001b[38;5;241m1\u001b[39m:\n",
      "File \u001b[0;32m/usr/local/pip-global/optuna/study/_optimize.py:159\u001b[0m, in \u001b[0;36m_optimize_sequential\u001b[0;34m(study, func, n_trials, timeout, catch, callbacks, gc_after_trial, reseed_sampler_rng, time_start, progress_bar)\u001b[0m\n\u001b[1;32m    156\u001b[0m         \u001b[38;5;28;01mbreak\u001b[39;00m\n\u001b[1;32m    158\u001b[0m \u001b[38;5;28;01mtry\u001b[39;00m:\n\u001b[0;32m--> 159\u001b[0m     frozen_trial \u001b[38;5;241m=\u001b[39m \u001b[43m_run_trial\u001b[49m\u001b[43m(\u001b[49m\u001b[43mstudy\u001b[49m\u001b[43m,\u001b[49m\u001b[43m \u001b[49m\u001b[43mfunc\u001b[49m\u001b[43m,\u001b[49m\u001b[43m \u001b[49m\u001b[43mcatch\u001b[49m\u001b[43m)\u001b[49m\n\u001b[1;32m    160\u001b[0m \u001b[38;5;28;01mfinally\u001b[39;00m:\n\u001b[1;32m    161\u001b[0m     \u001b[38;5;66;03m# The following line mitigates memory problems that can be occurred in some\u001b[39;00m\n\u001b[1;32m    162\u001b[0m     \u001b[38;5;66;03m# environments (e.g., services that use computing containers such as GitHub Actions).\u001b[39;00m\n\u001b[1;32m    163\u001b[0m     \u001b[38;5;66;03m# Please refer to the following PR for further details:\u001b[39;00m\n\u001b[1;32m    164\u001b[0m     \u001b[38;5;66;03m# https://github.com/optuna/optuna/pull/325.\u001b[39;00m\n\u001b[1;32m    165\u001b[0m     \u001b[38;5;28;01mif\u001b[39;00m gc_after_trial:\n",
      "File \u001b[0;32m/usr/local/pip-global/optuna/study/_optimize.py:247\u001b[0m, in \u001b[0;36m_run_trial\u001b[0;34m(study, func, catch)\u001b[0m\n\u001b[1;32m    240\u001b[0m         \u001b[38;5;28;01massert\u001b[39;00m \u001b[38;5;28;01mFalse\u001b[39;00m, \u001b[38;5;124m\"\u001b[39m\u001b[38;5;124mShould not reach.\u001b[39m\u001b[38;5;124m\"\u001b[39m\n\u001b[1;32m    242\u001b[0m \u001b[38;5;28;01mif\u001b[39;00m (\n\u001b[1;32m    243\u001b[0m     frozen_trial\u001b[38;5;241m.\u001b[39mstate \u001b[38;5;241m==\u001b[39m TrialState\u001b[38;5;241m.\u001b[39mFAIL\n\u001b[1;32m    244\u001b[0m     \u001b[38;5;129;01mand\u001b[39;00m func_err \u001b[38;5;129;01mis\u001b[39;00m \u001b[38;5;129;01mnot\u001b[39;00m \u001b[38;5;28;01mNone\u001b[39;00m\n\u001b[1;32m    245\u001b[0m     \u001b[38;5;129;01mand\u001b[39;00m \u001b[38;5;129;01mnot\u001b[39;00m \u001b[38;5;28misinstance\u001b[39m(func_err, catch)\n\u001b[1;32m    246\u001b[0m ):\n\u001b[0;32m--> 247\u001b[0m     \u001b[38;5;28;01mraise\u001b[39;00m func_err\n\u001b[1;32m    248\u001b[0m \u001b[38;5;28;01mreturn\u001b[39;00m frozen_trial\n",
      "File \u001b[0;32m/usr/local/pip-global/optuna/study/_optimize.py:196\u001b[0m, in \u001b[0;36m_run_trial\u001b[0;34m(study, func, catch)\u001b[0m\n\u001b[1;32m    194\u001b[0m \u001b[38;5;28;01mwith\u001b[39;00m get_heartbeat_thread(trial\u001b[38;5;241m.\u001b[39m_trial_id, study\u001b[38;5;241m.\u001b[39m_storage):\n\u001b[1;32m    195\u001b[0m     \u001b[38;5;28;01mtry\u001b[39;00m:\n\u001b[0;32m--> 196\u001b[0m         value_or_values \u001b[38;5;241m=\u001b[39m \u001b[43mfunc\u001b[49m\u001b[43m(\u001b[49m\u001b[43mtrial\u001b[49m\u001b[43m)\u001b[49m\n\u001b[1;32m    197\u001b[0m     \u001b[38;5;28;01mexcept\u001b[39;00m exceptions\u001b[38;5;241m.\u001b[39mTrialPruned \u001b[38;5;28;01mas\u001b[39;00m e:\n\u001b[1;32m    198\u001b[0m         \u001b[38;5;66;03m# TODO(mamu): Handle multi-objective cases.\u001b[39;00m\n\u001b[1;32m    199\u001b[0m         state \u001b[38;5;241m=\u001b[39m TrialState\u001b[38;5;241m.\u001b[39mPRUNED\n",
      "Cell \u001b[0;32mIn[13], line 57\u001b[0m, in \u001b[0;36mcreate_objective.<locals>.objective\u001b[0;34m(trial)\u001b[0m\n\u001b[1;32m     54\u001b[0m stdout_file \u001b[38;5;241m=\u001b[39m \u001b[38;5;28mopen\u001b[39m(\u001b[38;5;124m'\u001b[39m\u001b[38;5;124mtmp/pm_stdout.txt\u001b[39m\u001b[38;5;124m'\u001b[39m, \u001b[38;5;124m'\u001b[39m\u001b[38;5;124mw\u001b[39m\u001b[38;5;124m'\u001b[39m)\n\u001b[1;32m     55\u001b[0m stderr_file \u001b[38;5;241m=\u001b[39m \u001b[38;5;28mopen\u001b[39m(\u001b[38;5;124m'\u001b[39m\u001b[38;5;124mtmp/pm_stderr.txt\u001b[39m\u001b[38;5;124m'\u001b[39m, \u001b[38;5;124m'\u001b[39m\u001b[38;5;124mw\u001b[39m\u001b[38;5;124m'\u001b[39m)\n\u001b[0;32m---> 57\u001b[0m \u001b[43mpm\u001b[49m\u001b[38;5;241;43m.\u001b[39;49m\u001b[43mexecute_notebook\u001b[49m\u001b[43m(\u001b[49m\n\u001b[1;32m     58\u001b[0m \u001b[43m    \u001b[49m\u001b[43mtrain_nb\u001b[49m\u001b[43m,\u001b[49m\n\u001b[1;32m     59\u001b[0m \u001b[43m    \u001b[49m\u001b[38;5;124;43m'\u001b[39;49m\u001b[38;5;124;43m./tmp/pm_output.ipynb\u001b[39;49m\u001b[38;5;124;43m'\u001b[39;49m\u001b[43m,\u001b[49m\n\u001b[1;32m     60\u001b[0m \u001b[43m    \u001b[49m\u001b[43mparameters\u001b[49m\u001b[43m \u001b[49m\u001b[38;5;241;43m=\u001b[39;49m\u001b[43m \u001b[49m\u001b[43mpm_parameters\u001b[49m\u001b[43m,\u001b[49m\n\u001b[1;32m     61\u001b[0m \u001b[43m    \u001b[49m\u001b[43mstdout_file\u001b[49m\u001b[43m \u001b[49m\u001b[38;5;241;43m=\u001b[39;49m\u001b[43m \u001b[49m\u001b[43mstdout_file\u001b[49m\u001b[43m,\u001b[49m\n\u001b[1;32m     62\u001b[0m \u001b[43m    \u001b[49m\u001b[43mstderr_file\u001b[49m\u001b[43m \u001b[49m\u001b[38;5;241;43m=\u001b[39;49m\u001b[43m \u001b[49m\u001b[43mstderr_file\u001b[49m\n\u001b[1;32m     63\u001b[0m \u001b[43m\u001b[49m\u001b[43m)\u001b[49m\n\u001b[1;32m     65\u001b[0m \u001b[38;5;66;03m# Close the output files\u001b[39;00m\n\u001b[1;32m     66\u001b[0m stdout_file\u001b[38;5;241m.\u001b[39mclose()\n",
      "File \u001b[0;32m/usr/local/pip-global/papermill/execute.py:131\u001b[0m, in \u001b[0;36mexecute_notebook\u001b[0;34m(input_path, output_path, parameters, engine_name, request_save_on_cell_execute, prepare_only, kernel_name, language, progress_bar, log_output, stdout_file, stderr_file, start_timeout, report_mode, cwd, **engine_kwargs)\u001b[0m\n\u001b[1;32m    116\u001b[0m         nb \u001b[38;5;241m=\u001b[39m papermill_engines\u001b[38;5;241m.\u001b[39mexecute_notebook_with_engine(\n\u001b[1;32m    117\u001b[0m             engine_name,\n\u001b[1;32m    118\u001b[0m             nb,\n\u001b[0;32m   (...)\u001b[0m\n\u001b[1;32m    127\u001b[0m             \u001b[38;5;241m*\u001b[39m\u001b[38;5;241m*\u001b[39mengine_kwargs,\n\u001b[1;32m    128\u001b[0m         )\n\u001b[1;32m    130\u001b[0m     \u001b[38;5;66;03m# Check for errors first (it saves on error before raising)\u001b[39;00m\n\u001b[0;32m--> 131\u001b[0m     \u001b[43mraise_for_execution_errors\u001b[49m\u001b[43m(\u001b[49m\u001b[43mnb\u001b[49m\u001b[43m,\u001b[49m\u001b[43m \u001b[49m\u001b[43moutput_path\u001b[49m\u001b[43m)\u001b[49m\n\u001b[1;32m    133\u001b[0m \u001b[38;5;66;03m# Write final output in case the engine didn't write it on cell completion.\u001b[39;00m\n\u001b[1;32m    134\u001b[0m write_ipynb(nb, output_path)\n",
      "File \u001b[0;32m/usr/local/pip-global/papermill/execute.py:251\u001b[0m, in \u001b[0;36mraise_for_execution_errors\u001b[0;34m(nb, output_path)\u001b[0m\n\u001b[1;32m    248\u001b[0m nb\u001b[38;5;241m.\u001b[39mcells\u001b[38;5;241m.\u001b[39minsert(\u001b[38;5;241m0\u001b[39m, error_msg_cell)\n\u001b[1;32m    250\u001b[0m write_ipynb(nb, output_path)\n\u001b[0;32m--> 251\u001b[0m \u001b[38;5;28;01mraise\u001b[39;00m error\n",
      "\u001b[0;31mPapermillExecutionError\u001b[0m: \n---------------------------------------------------------------------------\nException encountered at \"In [21]\":\n---------------------------------------------------------------------------\nIndexError                                Traceback (most recent call last)\nCell In[21], line 23\n     12 learn = TSForecaster(X, y, splits=splits, batch_size=config.bs,\n     13                      pipelines=[preproc_pipe, exp_pipe], \n     14                      arch=config.arch_name, \n   (...)\n     19                      cbs= cbs + ShowGraphCallback(), \n     20                      partial_n=config.partial_n)\n     21 learn.to(device)\n---> 23 lr_max = learn.lr_find().valley if config.lr_max is None else config.lr_max\n     25 learn.fit_one_cycle(n_epoch=config.n_epoch, lr_max=config.lr_max)\n\nFile /usr/local/pip-global/fastai/callback/schedule.py:304, in lr_find(self, start_lr, end_lr, num_it, stop_div, show_plot, suggest_funcs)\n    302 for func in tuplify(suggest_funcs):\n    303     nms.append(func.__name__ if not isinstance(func, partial) else func.func.__name__) # deal with partials\n--> 304     _suggestions.append(func(lrs, losses, num_it))\n    306 SuggestedLRs = collections.namedtuple('SuggestedLRs', nms)\n    307 lrs, pnts = [], []\n\nFile /usr/local/pip-global/fastai/callback/schedule.py:231, in valley(lrs, losses, num_it)\n    228 sections = (max_end - max_start) / 3\n    229 idx = max_start + int(sections) + int(sections/2)\n--> 231 return float(lrs[idx]), (float(lrs[idx]), losses[idx])\n\nIndexError: index 0 is out of bounds for dimension 0 with size 0\n"
     ]
    }
   ],
   "source": [
    "# Skip the cells that are unnecesary as diagram plots or data update\n",
    "train_nb = filter_nb(config.train_nb, ['skip'])\n",
    "\n",
    "obj = create_objective(config.train_nb, config.search_space, \n",
    "                       extra_params=config.extra_params, use_wandb=True)\n",
    "study = run_optuna_study(obj, study_type='bayesian', direction=val_metrics.get_study_directions(), path='./tmp',\n",
    "                 study_name=config.study_name, n_trials=config.n_trials)"
   ]
  },
  {
   "cell_type": "code",
   "execution_count": null,
   "metadata": {},
   "outputs": [
    {
     "name": "stderr",
     "output_type": "stream",
     "text": [
      "Failed to detect the name of this notebook, you can set it manually with the WANDB_NOTEBOOK_NAME environment variable to enable code saving.\n"
     ]
    },
    {
     "data": {
      "text/html": [
       "Tracking run with wandb version 0.17.4"
      ],
      "text/plain": [
       "<IPython.core.display.HTML object>"
      ]
     },
     "metadata": {},
     "output_type": "display_data"
    },
    {
     "data": {
      "text/html": [
       "W&B syncing is set to <code>`offline`<code> in this directory.  <br/>Run <code>`wandb online`<code> or set <code>WANDB_MODE=online<code> to enable cloud syncing."
      ],
      "text/plain": [
       "<IPython.core.display.HTML object>"
      ]
     },
     "metadata": {},
     "output_type": "display_data"
    }
   ],
   "source": [
    "run = wandb.init(config=config, mode=config.wandb_mode, \n",
    "                 job_type='optuna-study') if config.use_wandb else None"
   ]
  },
  {
   "cell_type": "code",
   "execution_count": null,
   "metadata": {},
   "outputs": [
    {
     "ename": "NameError",
     "evalue": "name 'study' is not defined",
     "output_type": "error",
     "traceback": [
      "\u001b[0;31m---------------------------------------------------------------------------\u001b[0m",
      "\u001b[0;31mNameError\u001b[0m                                 Traceback (most recent call last)",
      "Cell \u001b[0;32mIn[9], line 4\u001b[0m\n\u001b[1;32m      1\u001b[0m \u001b[38;5;28;01mif\u001b[39;00m run \u001b[38;5;129;01mis\u001b[39;00m \u001b[38;5;129;01mnot\u001b[39;00m \u001b[38;5;28;01mNone\u001b[39;00m:\n\u001b[1;32m      2\u001b[0m     \u001b[38;5;66;03m# Log best trials and their corresponding values\u001b[39;00m\n\u001b[1;32m      3\u001b[0m     best_trials_info \u001b[38;5;241m=\u001b[39m {}\n\u001b[0;32m----> 4\u001b[0m     \u001b[38;5;28;01mfor\u001b[39;00m i, trial \u001b[38;5;129;01min\u001b[39;00m \u001b[38;5;28menumerate\u001b[39m(\u001b[43mstudy\u001b[49m\u001b[38;5;241m.\u001b[39mbest_trials):\n\u001b[1;32m      5\u001b[0m         best_trials_info[\u001b[38;5;124mf\u001b[39m\u001b[38;5;124m'\u001b[39m\u001b[38;5;124mbest_params_\u001b[39m\u001b[38;5;132;01m{\u001b[39;00mi\u001b[38;5;132;01m}\u001b[39;00m\u001b[38;5;124m'\u001b[39m] \u001b[38;5;241m=\u001b[39m trial\u001b[38;5;241m.\u001b[39mparams\n\u001b[1;32m      6\u001b[0m         best_trials_info[\u001b[38;5;124mf\u001b[39m\u001b[38;5;124m'\u001b[39m\u001b[38;5;124mbest_value_\u001b[39m\u001b[38;5;132;01m{\u001b[39;00mi\u001b[38;5;132;01m}\u001b[39;00m\u001b[38;5;124m'\u001b[39m] \u001b[38;5;241m=\u001b[39m trial\u001b[38;5;241m.\u001b[39mvalues\n",
      "\u001b[0;31mNameError\u001b[0m: name 'study' is not defined"
     ]
    }
   ],
   "source": [
    "if run is not None:\n",
    "    # Log best trials and their corresponding values\n",
    "    best_trials_info = {}\n",
    "    for i, trial in enumerate(study.best_trials):\n",
    "        best_trials_info[f'best_params_{i}'] = trial.params\n",
    "        best_trials_info[f'best_value_{i}'] = trial.values\n",
    "        best_trials_info[f'best_trial_number_{i}'] = trial.number\n",
    "    \n",
    "    run.log(best_trials_info)\n",
    "    run.log_artifact(f'./tmp/{config.study_name}.pkl', type='optuna_study')\n",
    "    \n",
    "    # Log visualizations\n",
    "    for i in range(len(study.directions)):  # Assuming each objective has a direction\n",
    "            run.log({\n",
    "                f'contour_obj_{i}': optuna.visualization.plot_contour(study, target=lambda t: t.values[i], target_name=f'Objective {i}'),\n",
    "                f'edf_obj_{i}': optuna.visualization.plot_edf(study, target=lambda t: t.values[i], target_name=f'Objective {i}'),\n",
    "                f'optimization_history_obj_{i}': optuna.visualization.plot_optimization_history(study, target=lambda t: t.values[i], target_name=f'Objective {i}'),\n",
    "                f'parallel_coordinate_obj_{i}': optuna.visualization.plot_parallel_coordinate(study, target=lambda t: t.values[i], target_name=f'Objective {i}'),\n",
    "                f'param_importances_obj_{i}': optuna.visualization.plot_param_importances(study, target=lambda t: t.values[i], target_name=f'Objective {i}'),\n",
    "                f'slice_obj_{i}': optuna.visualization.plot_slice(study, target=lambda t: t.values[i], target_name=f'Objective {i}')\n",
    "            })\n"
   ]
  },
  {
   "cell_type": "code",
   "execution_count": null,
   "metadata": {},
   "outputs": [
    {
     "data": {
      "text/html": [
       "<style>\n",
       "    table.wandb td:nth-child(1) { padding: 0 10px; text-align: left ; width: auto;} td:nth-child(2) {text-align: left ; width: 100%}\n",
       "    .wandb-row { display: flex; flex-direction: row; flex-wrap: wrap; justify-content: flex-start; width: 100% }\n",
       "    .wandb-col { display: flex; flex-direction: column; flex-basis: 100%; flex: 1; padding: 10px; }\n",
       "    </style>\n",
       "<div class=\"wandb-row\"><div class=\"wandb-col\"><h3>Run history:</h3><br/><table class=\"wandb\"><tr><td>best_trial_number_0</td><td>▁</td></tr><tr><td>best_trial_number_1</td><td>▁</td></tr><tr><td>best_trial_number_2</td><td>▁</td></tr></table><br/></div><div class=\"wandb-col\"><h3>Run summary:</h3><br/><table class=\"wandb\"><tr><td>best_trial_number_0</td><td>0</td></tr><tr><td>best_trial_number_1</td><td>1</td></tr><tr><td>best_trial_number_2</td><td>2</td></tr></table><br/></div></div>"
      ],
      "text/plain": [
       "<IPython.core.display.HTML object>"
      ]
     },
     "metadata": {},
     "output_type": "display_data"
    },
    {
     "data": {
      "text/html": [
       "You can sync this run to the cloud by running:<br/><code>wandb sync /workspaces/sw-driver-forecaster/dev_nbs/wandb/offline-run-20240821_205956-lbg2k6c3<code>"
      ],
      "text/plain": [
       "<IPython.core.display.HTML object>"
      ]
     },
     "metadata": {},
     "output_type": "display_data"
    },
    {
     "data": {
      "text/html": [
       "Find logs at: <code>./wandb/offline-run-20240821_205956-lbg2k6c3/logs</code>"
      ],
      "text/plain": [
       "<IPython.core.display.HTML object>"
      ]
     },
     "metadata": {},
     "output_type": "display_data"
    },
    {
     "data": {
      "text/html": [
       "The new W&B backend becomes opt-out in version 0.18.0; try it out with `wandb.require(\"core\")`! See https://wandb.me/wandb-core for more information."
      ],
      "text/plain": [
       "<IPython.core.display.HTML object>"
      ]
     },
     "metadata": {},
     "output_type": "display_data"
    }
   ],
   "source": [
    "if run is not None:\n",
    "    run.finish()"
   ]
  }
 ],
 "metadata": {
  "kernelspec": {
   "display_name": "Python 3 (ipykernel)",
   "language": "python",
   "name": "python3"
  },
  "language_info": {
   "codemirror_mode": {
    "name": "ipython",
    "version": 3
   },
   "file_extension": ".py",
   "mimetype": "text/x-python",
   "name": "python",
   "nbconvert_exporter": "python",
   "pygments_lexer": "ipython3",
   "version": "3.10.12"
  },
  "vscode": {
   "interpreter": {
    "hash": "949777d72b0d2535278d3dc13498b2535136f6dfe0678499012e853ee9abcab1"
   }
  }
 },
 "nbformat": 4,
 "nbformat_minor": 4
}
