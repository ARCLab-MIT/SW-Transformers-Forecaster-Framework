{
 "cells": [
  {
   "cell_type": "code",
   "execution_count": 8,
   "metadata": {},
   "outputs": [],
   "source": [
    "import numpy as np\n",
    "import pandas as pd\n",
    "import matplotlib.pyplot as plt\n",
    "from tsai.utils import yaml2dict\n",
    "from tsai.data.external import download_data, save_object\n",
    "import re\n"
   ]
  },
  {
   "cell_type": "code",
   "execution_count": 9,
   "metadata": {},
   "outputs": [],
   "source": [
    "config = yaml2dict('../dev_nbs/config/solfsmy.yaml', attrdict=True)"
   ]
  },
  {
   "cell_type": "code",
   "execution_count": 10,
   "metadata": {},
   "outputs": [],
   "source": [
    "data = config.data\n",
    "\n",
    "# From here we will extract the data of F10.7 to check its distribution\n",
    "fnameF107_historical = data.dataF107_path if data.dataF107_url is None else download_data(data.dataF107_url,\n",
    "                                                                            fname=data.dataF107_path)"
   ]
  },
  {
   "cell_type": "code",
   "execution_count": 11,
   "metadata": {},
   "outputs": [
    {
     "data": {
      "text/html": [
       "<div>\n",
       "<style scoped>\n",
       "    .dataframe tbody tr th:only-of-type {\n",
       "        vertical-align: middle;\n",
       "    }\n",
       "\n",
       "    .dataframe tbody tr th {\n",
       "        vertical-align: top;\n",
       "    }\n",
       "\n",
       "    .dataframe thead th {\n",
       "        text-align: right;\n",
       "    }\n",
       "</style>\n",
       "<table border=\"1\" class=\"dataframe\">\n",
       "  <thead>\n",
       "    <tr style=\"text-align: right;\">\n",
       "      <th></th>\n",
       "      <th>Datetime</th>\n",
       "      <th>F10</th>\n",
       "    </tr>\n",
       "  </thead>\n",
       "  <tbody>\n",
       "    <tr>\n",
       "      <th>0</th>\n",
       "      <td>1947-02-14 12:00:00</td>\n",
       "      <td>253.90</td>\n",
       "    </tr>\n",
       "    <tr>\n",
       "      <th>1</th>\n",
       "      <td>1947-02-15 12:00:00</td>\n",
       "      <td>241.20</td>\n",
       "    </tr>\n",
       "    <tr>\n",
       "      <th>2</th>\n",
       "      <td>1947-02-16 12:00:00</td>\n",
       "      <td>241.20</td>\n",
       "    </tr>\n",
       "    <tr>\n",
       "      <th>3</th>\n",
       "      <td>1947-02-17 12:00:00</td>\n",
       "      <td>228.50</td>\n",
       "    </tr>\n",
       "    <tr>\n",
       "      <th>4</th>\n",
       "      <td>1947-02-18 12:00:00</td>\n",
       "      <td>203.65</td>\n",
       "    </tr>\n",
       "    <tr>\n",
       "      <th>...</th>\n",
       "      <td>...</td>\n",
       "      <td>...</td>\n",
       "    </tr>\n",
       "    <tr>\n",
       "      <th>26003</th>\n",
       "      <td>2018-04-26 12:00:00</td>\n",
       "      <td>70.30</td>\n",
       "    </tr>\n",
       "    <tr>\n",
       "      <th>26004</th>\n",
       "      <td>2018-04-27 12:00:00</td>\n",
       "      <td>69.60</td>\n",
       "    </tr>\n",
       "    <tr>\n",
       "      <th>26005</th>\n",
       "      <td>2018-04-28 12:00:00</td>\n",
       "      <td>71.10</td>\n",
       "    </tr>\n",
       "    <tr>\n",
       "      <th>26006</th>\n",
       "      <td>2018-04-29 12:00:00</td>\n",
       "      <td>72.20</td>\n",
       "    </tr>\n",
       "    <tr>\n",
       "      <th>26007</th>\n",
       "      <td>2018-04-30 12:00:00</td>\n",
       "      <td>71.30</td>\n",
       "    </tr>\n",
       "  </tbody>\n",
       "</table>\n",
       "<p>26008 rows × 2 columns</p>\n",
       "</div>"
      ],
      "text/plain": [
       "                 Datetime     F10\n",
       "0     1947-02-14 12:00:00  253.90\n",
       "1     1947-02-15 12:00:00  241.20\n",
       "2     1947-02-16 12:00:00  241.20\n",
       "3     1947-02-17 12:00:00  228.50\n",
       "4     1947-02-18 12:00:00  203.65\n",
       "...                   ...     ...\n",
       "26003 2018-04-26 12:00:00   70.30\n",
       "26004 2018-04-27 12:00:00   69.60\n",
       "26005 2018-04-28 12:00:00   71.10\n",
       "26006 2018-04-29 12:00:00   72.20\n",
       "26007 2018-04-30 12:00:00   71.30\n",
       "\n",
       "[26008 rows x 2 columns]"
      ]
     },
     "execution_count": 11,
     "metadata": {},
     "output_type": "execute_result"
    }
   ],
   "source": [
    "def clean_f10_values(value):\n",
    "    try:\n",
    "        # Remove any trailing '+' using regex and convert to float\n",
    "        cleaned_value = re.sub(r'\\+$', '', value)\n",
    "        return float(cleaned_value)\n",
    "    except ValueError:\n",
    "        # If conversion fails, return NaN\n",
    "        return np.nan\n",
    "    \n",
    "def format_datetime(value):\n",
    "    return pd.to_datetime(value) + pd.to_timedelta('12:00:00')\n",
    "\n",
    "\n",
    "\n",
    "# Only two columns in the file: Date and F10.7.\n",
    "df_F10 = pd.read_csv(\n",
    "        fnameF107_historical, delim_whitespace=True, comment='#', header=None, \n",
    "        names=['Datetime', 'F10'], \n",
    "        parse_dates=['Datetime'], \n",
    "        na_values=[\".\", \"+\"], \n",
    "        converters={\n",
    "            'F10': clean_f10_values,\n",
    "            'Datetime': format_datetime}\n",
    "        )  \n",
    "df_F10['F10'] = df_F10['F10'].astype(float)\n",
    "\n",
    "\n",
    "df_F10 = df_F10[(df_F10['Datetime'] >= '1947-02-14 12:00:00')]\n",
    "\n",
    "# Fill the missing values with the average of the previous and next value\n",
    "df_F10['F10'] = ((df_F10['F10'].fillna(method='ffill')) + df_F10['F10'].fillna(method='bfill'))/2\n",
    "df_F10 = df_F10.reset_index(drop=True)\n",
    "df_F10"
   ]
  },
  {
   "cell_type": "code",
   "execution_count": 12,
   "metadata": {},
   "outputs": [
    {
     "data": {
      "text/plain": [
       "<Axes: xlabel='Datetime'>"
      ]
     },
     "execution_count": 12,
     "metadata": {},
     "output_type": "execute_result"
    },
    {
     "data": {
      "image/png": "[encoded data removed]",
      "text/plain": [
       "<Figure size 640x480 with 1 Axes>"
      ]
     },
     "metadata": {},
     "output_type": "display_data"
    }
   ],
   "source": [
    "df_F10.plot(y='F10', x='Datetime')"
   ]
  },
  {
   "cell_type": "code",
   "execution_count": 15,
   "metadata": {},
   "outputs": [
    {
     "name": "stdout",
     "output_type": "stream",
     "text": [
      "preprocessed_data/dataframes directory already exists.\n",
      "DataFrame saved as preprocessed_data/dataframes/F10_historical.pkl\n"
     ]
    }
   ],
   "source": [
    "save_object(df_F10, \"./preprocessed_data/dataframes/F10_historical.pkl\")"
   ]
  }
 ],
 "metadata": {
  "kernelspec": {
   "display_name": "Python 3",
   "language": "python",
   "name": "python3"
  },
  "language_info": {
   "codemirror_mode": {
    "name": "ipython",
    "version": 3
   },
   "file_extension": ".py",
   "mimetype": "text/x-python",
   "name": "python",
   "nbconvert_exporter": "python",
   "pygments_lexer": "ipython3",
   "version": "3.10.12"
  }
 },
 "nbformat": 4,
 "nbformat_minor": 2
}
