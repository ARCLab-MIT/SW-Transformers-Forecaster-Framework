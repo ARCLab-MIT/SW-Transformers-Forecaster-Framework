{
 "cells": [
  {
   "cell_type": "code",
   "execution_count": 1,
   "metadata": {},
   "outputs": [
    {
     "name": "stderr",
     "output_type": "stream",
     "text": [
      "/usr/local/pip-global/torch/cuda/__init__.py:141: UserWarning: CUDA initialization: CUDA unknown error - this may be due to an incorrectly set up environment, e.g. changing env variable CUDA_VISIBLE_DEVICES after program start. Setting the available devices to be zero. (Triggered internally at ../c10/cuda/CUDAFunctions.cpp:108.)\n",
      "  return torch._C._cuda_getDeviceCount() > 0\n"
     ]
    }
   ],
   "source": [
    "import sys\n",
    "sys.path.append('..')\n",
    "from swdf.benchmark import *\n",
    "from tsai.basics import *\n",
    "import sklearn\n",
    "from swdf.utils import *\n",
    "import wandb\n",
    "wandb_api = wandb.Api()"
   ]
  },
  {
   "cell_type": "code",
   "execution_count": 2,
   "metadata": {},
   "outputs": [
    {
     "data": {
      "text/plain": [
       "({'dst_data_path': '../data/DST_IAGA2002.txt',\n",
       "  'learner_artifact': None,\n",
       "  'round_preds': True,\n",
       "  'solfsmy_data_path': '../data/SOLFSMY.TXT'},\n",
       " {'arch_name': 'PatchTST',\n",
       "  'arch_config_file': 'config/patchtst.yaml',\n",
       "  'bs': 1024,\n",
       "  'horizon': 6,\n",
       "  'init_weights': False,\n",
       "  'lookback': 36,\n",
       "  'lr_max': None,\n",
       "  'n_epoch': 5,\n",
       "  'partial_n': 0.1,\n",
       "  'seed': 42,\n",
       "  'test_start_datetime': '2012-10-01 12:00:00',\n",
       "  'test_end_datetime': '2018-12-31 12:00:00',\n",
       "  'wandb': {'enabled': False,\n",
       "   'log_learner': True,\n",
       "   'mode': 'offline',\n",
       "   'group': None,\n",
       "   'project': 'swdf'}})"
      ]
     },
     "execution_count": 2,
     "metadata": {},
     "output_type": "execute_result"
    }
   ],
   "source": [
    "# Config\n",
    "config = yaml2dict('config/solfsmy.yaml')\n",
    "config = config.eval\n",
    "\n",
    "config_base = yaml2dict('config/base.yaml')\n",
    "\n",
    "config, config_base"
   ]
  },
  {
   "cell_type": "code",
   "execution_count": 3,
   "metadata": {},
   "outputs": [
    {
     "name": "stdout",
     "output_type": "stream",
     "text": [
      "Learner loaded:\n",
      "path          = 'tmp'\n",
      "dls_fname     = '['dls_0.pth', 'dls_1.pth', 'dls_2.pth', 'dls_3.pth', 'dls_4.pth', 'dls_5.pth', 'dls_6.pth']'\n",
      "model_fname   = 'model.pth'\n",
      "learner_fname = 'learner.pkl'\n"
     ]
    }
   ],
   "source": [
    "learn = load_learner_all(\"tmp\", model_fname = 'model', \n",
    "                         verbose=True, \n",
    "                         device=default_device())"
   ]
  },
  {
   "cell_type": "code",
   "execution_count": 4,
   "metadata": {},
   "outputs": [
    {
     "data": {
      "text/html": [
       "\n",
       "<style>\n",
       "    /* Turns off some styling */\n",
       "    progress {\n",
       "        /* gets rid of default border in Firefox and Opera. */\n",
       "        border: none;\n",
       "        /* Needs to be in here for Safari polyfill so background images work as expected. */\n",
       "        background-size: auto;\n",
       "    }\n",
       "    progress:not([value]), progress:not([value])::-webkit-progress-bar {\n",
       "        background: repeating-linear-gradient(45deg, #7e7e7e, #7e7e7e 10px, #5c5c5c 10px, #5c5c5c 20px);\n",
       "    }\n",
       "    .progress-bar-interrupted, .progress-bar-interrupted::-webkit-progress-bar {\n",
       "        background: #F44336;\n",
       "    }\n",
       "</style>\n"
      ],
      "text/plain": [
       "<IPython.core.display.HTML object>"
      ]
     },
     "metadata": {},
     "output_type": "display_data"
    },
    {
     "data": {
      "text/html": [],
      "text/plain": [
       "<IPython.core.display.HTML object>"
      ]
     },
     "metadata": {},
     "output_type": "display_data"
    },
    {
     "name": "stdout",
     "output_type": "stream",
     "text": [
      "y_test_preds.shape: (408, 4, 3)\n"
     ]
    }
   ],
   "source": [
    "y_test_preds, y_test = learn.get_preds(ds_idx = 2, with_targs=True)\n",
    "y_test_preds = to_np(y_test_preds)\n",
    "y_test = to_np(y_test)\n",
    "print(f\"y_test_preds.shape: {y_test_preds.shape}\")    "
   ]
  },
  {
   "cell_type": "code",
   "execution_count": null,
   "metadata": {},
   "outputs": [],
   "source": [
    "horizon = y_test.shape[-1]\n",
    "data_columns_fcst = ['F10', 'S10', 'M10', 'Y10']"
   ]
  },
  {
   "cell_type": "code",
   "execution_count": null,
   "metadata": {},
   "outputs": [],
   "source": [
    "y_test_split, y_test_preds_split, y_persistence_split, y_persistence_preds_split = {}, {}, {}, {}\n",
    "for i, var in enumerate(data_columns_fcst):\n",
    "    y_test_split[var] = y_test[:,i,:]\n",
    "    y_test_preds_split[var] = y_test_preds[:,i,:]\n",
    "    y_persistence_split[var] = y_persistence[:,i,:]\n",
    "    y_persistence_preds_split[var] = y_persistence_preds[:,i,:]\n",
    "\n",
    "\n",
    "# Check the shape of each variable\n",
    "for var in data_columns_fcst:\n",
    "    print(f\"{var}: {[y_test_split[var].shape]}, {[y_test_preds_split[var].shape]}, {[y_persistence_split[var].shape]}, {[y_persistence_preds_split[var].shape]}\")"
   ]
  }
 ],
 "metadata": {
  "kernelspec": {
   "display_name": "Python 3",
   "language": "python",
   "name": "python3"
  },
  "language_info": {
   "codemirror_mode": {
    "name": "ipython",
    "version": 3
   },
   "file_extension": ".py",
   "mimetype": "text/x-python",
   "name": "python",
   "nbconvert_exporter": "python",
   "pygments_lexer": "ipython3",
   "version": "3.9.17"
  }
 },
 "nbformat": 4,
 "nbformat_minor": 2
}
