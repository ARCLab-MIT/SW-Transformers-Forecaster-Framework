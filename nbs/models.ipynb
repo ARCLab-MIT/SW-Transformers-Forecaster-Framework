{
 "cells": [
  {
   "cell_type": "code",
   "execution_count": null,
   "metadata": {},
   "outputs": [],
   "source": [
    "#|default_exp models"
   ]
  },
  {
   "cell_type": "code",
   "execution_count": 1,
   "metadata": {},
   "outputs": [],
   "source": [
    "# | export\n",
    "\n",
    "import torch\n",
    "import torch.nn as nn\n",
    "\n",
    "class PersistenceModel(nn.Module):\n",
    "    def __init__(self, c_in, c_out, custom_head=None):\n",
    "        \"\"\"\n",
    "        Initialize the PersistenceModel.\n",
    "\n",
    "        Parameters:\n",
    "        - c_in (int): Number of input channels/features (not used directly).\n",
    "        - c_out (int): The output size, i.e., the horizon of the forecast.\n",
    "        - seq_len (int): Length of the input sequence (not used directly).\n",
    "        - pred_dim (int): Number of predictive dimensions (not used directly).\n",
    "        - kwargs: Additional keyword arguments for future flexibility.\n",
    "        \"\"\"\n",
    "        super(PersistenceModel, self).__init__()\n",
    "        self.c_out = c_out\n",
    "        self.c_in = c_in\n",
    "\n",
    "    def step(self): pass\n",
    "    def zero_grad(self): pass\n",
    "\n",
    "    def forward(self, x):\n",
    "        last_values = x[:,:,-1].unsqueeze(-1)  # Shape (batch_size, 1)\n",
    "        output = last_values.expand(-1, -1, 6)  # Shape (batch_size, c_out)\n",
    "        return output\n",
    "\n",
    "    "
   ]
  },
  {
   "cell_type": "code",
   "execution_count": 2,
   "metadata": {},
   "outputs": [
    {
     "name": "stdout",
     "output_type": "stream",
     "text": [
      "torch.Size([2, 4, 6])\n",
      "tensor([[[0.4111, 0.4111, 0.4111, 0.4111, 0.4111, 0.4111],\n",
      "         [0.9139, 0.9139, 0.9139, 0.9139, 0.9139, 0.9139],\n",
      "         [0.7423, 0.7423, 0.7423, 0.7423, 0.7423, 0.7423],\n",
      "         [0.6584, 0.6584, 0.6584, 0.6584, 0.6584, 0.6584]],\n",
      "\n",
      "        [[0.8372, 0.8372, 0.8372, 0.8372, 0.8372, 0.8372],\n",
      "         [0.2459, 0.2459, 0.2459, 0.2459, 0.2459, 0.2459],\n",
      "         [0.7781, 0.7781, 0.7781, 0.7781, 0.7781, 0.7781],\n",
      "         [0.3944, 0.3944, 0.3944, 0.3944, 0.3944, 0.3944]]]) \n",
      " tensor([[[0.5400, 0.0749, 0.6305, 0.8589, 0.6191, 0.4111],\n",
      "         [0.8351, 0.2516, 0.6318, 0.3392, 0.9685, 0.9139],\n",
      "         [0.1158, 0.9753, 0.6490, 0.5867, 0.7059, 0.7423],\n",
      "         [0.4138, 0.0823, 0.7121, 0.3450, 0.2967, 0.6584]],\n",
      "\n",
      "        [[0.7524, 0.8181, 0.1844, 0.6702, 0.1589, 0.8372],\n",
      "         [0.5773, 0.9710, 0.4841, 0.0901, 0.3357, 0.2459],\n",
      "         [0.7829, 0.2129, 0.7987, 0.6491, 0.8732, 0.7781],\n",
      "         [0.8781, 0.5614, 0.2783, 0.5092, 0.4622, 0.3944]]])\n"
     ]
    }
   ],
   "source": [
    "# Test\n",
    "model = PersistenceModel(1, 6)\n",
    "x = torch.rand(2, 4, 6)\n",
    "output = model(x)\n",
    "print(output.shape)  # torch.Size([10, 1, 6])\n",
    "print(output, \"\\n\" ,x)"
   ]
  }
 ],
 "metadata": {
  "kernelspec": {
   "display_name": "Python 3",
   "language": "python",
   "name": "python3"
  },
  "language_info": {
   "codemirror_mode": {
    "name": "ipython",
    "version": 3
   },
   "file_extension": ".py",
   "mimetype": "text/x-python",
   "name": "python",
   "nbconvert_exporter": "python",
   "pygments_lexer": "ipython3",
   "version": "3.9.17"
  }
 },
 "nbformat": 4,
 "nbformat_minor": 2
}
