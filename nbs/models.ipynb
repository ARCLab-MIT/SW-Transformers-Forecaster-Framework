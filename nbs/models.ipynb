{
 "cells": [
  {
   "cell_type": "code",
   "execution_count": null,
   "metadata": {},
   "outputs": [],
   "source": [
    "#|default_exp models"
   ]
  },
  {
   "cell_type": "code",
   "execution_count": 1,
   "metadata": {},
   "outputs": [],
   "source": [
    "# | export\n",
    "\n",
    "import torch\n",
    "import torch.nn as nn\n",
    "\n",
    "class PersistenceModel(nn.Module):\n",
    "    def __init__(self, horizon):\n",
    "        \"\"\"\n",
    "        Initialize the PersistenceModel.\n",
    "\n",
    "        Parameters:\n",
    "        - c_in (int): Number of input channels/features (not used directly).\n",
    "        - c_out (int): The output size, i.e., the horizon of the forecast.\n",
    "        - seq_len (int): Length of the input sequence (not used directly).\n",
    "        - pred_dim (int): Number of predictive dimensions (not used directly).\n",
    "        - kwargs: Additional keyword arguments for future flexibility.\n",
    "        \"\"\"\n",
    "        super(PersistenceModel, self).__init__()\n",
    "        self.horizon = horizon\n",
    "\n",
    "    def step(self): pass\n",
    "    def zero_grad(self): pass\n",
    "\n",
    "    def forward(self, x):\n",
    "        last_values = x[:,:,-1].unsqueeze(-1)\n",
    "        output = last_values.expand(-1, -1, self.horizon) \n",
    "        return output\n",
    "    "
   ]
  },
  {
   "cell_type": "code",
   "execution_count": 3,
   "metadata": {},
   "outputs": [
    {
     "name": "stdout",
     "output_type": "stream",
     "text": [
      "torch.Size([2, 4, 6])\n",
      "tensor([[[0.7197, 0.7197, 0.7197, 0.7197, 0.7197, 0.7197],\n",
      "         [0.6504, 0.6504, 0.6504, 0.6504, 0.6504, 0.6504],\n",
      "         [0.4552, 0.4552, 0.4552, 0.4552, 0.4552, 0.4552],\n",
      "         [0.0602, 0.0602, 0.0602, 0.0602, 0.0602, 0.0602]],\n",
      "\n",
      "        [[0.7562, 0.7562, 0.7562, 0.7562, 0.7562, 0.7562],\n",
      "         [0.8653, 0.8653, 0.8653, 0.8653, 0.8653, 0.8653],\n",
      "         [0.6855, 0.6855, 0.6855, 0.6855, 0.6855, 0.6855],\n",
      "         [0.3235, 0.3235, 0.3235, 0.3235, 0.3235, 0.3235]]]) \n",
      " tensor([[[0.3362, 0.5141, 0.4492, 0.6180, 0.3601, 0.7197],\n",
      "         [0.0098, 0.4903, 0.8631, 0.8351, 0.2197, 0.6504],\n",
      "         [0.0901, 0.8371, 0.8963, 0.9179, 0.7690, 0.4552],\n",
      "         [0.1844, 0.3814, 0.9163, 0.4824, 0.1221, 0.0602]],\n",
      "\n",
      "        [[0.1830, 0.2040, 0.0249, 0.2651, 0.9778, 0.7562],\n",
      "         [0.5694, 0.1777, 0.0791, 0.9147, 0.0812, 0.8653],\n",
      "         [0.6298, 0.8184, 0.4935, 0.6241, 0.0561, 0.6855],\n",
      "         [0.7608, 0.9856, 0.5084, 0.3116, 0.2454, 0.3235]]])\n"
     ]
    }
   ],
   "source": [
    "# Test\n",
    "model = PersistenceModel(6)\n",
    "x = torch.rand(2, 4, 6)\n",
    "output = model(x)\n",
    "print(output.shape)  # torch.Size([10, 1, 6])\n",
    "print(output, \"\\n\" ,x)"
   ]
  }
 ],
 "metadata": {
  "kernelspec": {
   "display_name": "Python 3",
   "language": "python",
   "name": "python3"
  },
  "language_info": {
   "codemirror_mode": {
    "name": "ipython",
    "version": 3
   },
   "file_extension": ".py",
   "mimetype": "text/x-python",
   "name": "python",
   "nbconvert_exporter": "python",
   "pygments_lexer": "ipython3",
   "version": "3.9.17"
  }
 },
 "nbformat": 4,
 "nbformat_minor": 2
}
