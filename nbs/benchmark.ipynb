{
 "cells": [
  {
   "cell_type": "code",
   "execution_count": 6,
   "metadata": {},
   "outputs": [],
   "source": [
    "#|default_exp benchmark"
   ]
  },
  {
   "attachments": {},
   "cell_type": "markdown",
   "metadata": {},
   "source": [
    "# Benchmark\n",
    "\n",
    "> Functions related to the benchmark paper"
   ]
  },
  {
   "cell_type": "code",
   "execution_count": 7,
   "metadata": {},
   "outputs": [],
   "source": [
    "#| export\n",
    "from tsai.basics import *\n",
    "import matplotlib.dates as mdates"
   ]
  },
  {
   "cell_type": "code",
   "execution_count": 8,
   "metadata": {},
   "outputs": [],
   "source": [
    "#| export\n",
    "\n",
    "def forecast_error(y_true, y_pred, h):\n",
    "    # The forecast error is defined as the difference  between the forecasted value \n",
    "    # and the actual value. It is also dependant on the time, i.e., on the horizon \n",
    "    # of the forecast (h).\n",
    "    # NOTE: This function computes the error for just one variable, not for all of them\n",
    "    # Inputs:\n",
    "    # y_true: actual values (samples x steps)\n",
    "    # y_pred: predicted values (samples x steps)\n",
    "    # h: horizon of the forecast (1..horizon)\n",
    "    return (y_pred[:, h-1] - y_true[:, h-1])\n",
    "\n",
    "def percent_forecast_error(y_true, y_pred, h, epsilon=1e-8):\n",
    "    # forecast error normalized by the actual value\n",
    "    # Inputs:\n",
    "    # y_true: actual values (samples x steps)\n",
    "    # y_pred: predicted values (samples x steps)\n",
    "    # h: horizon of the forecast (1..horizon)\n",
    "    return 100*(forecast_error(y_true, y_pred, h)) / (y_true[:, h-1] + epsilon)"
   ]
  },
  {
   "cell_type": "code",
   "execution_count": 9,
   "metadata": {},
   "outputs": [
    {
     "name": "stdout",
     "output_type": "stream",
     "text": [
      "tensor([ 0.1841,  0.0338, -0.2190,  0.2385,  0.2511, -0.3651, -0.6373,  0.4307,\n",
      "         0.0481, -0.4480])\n",
      "tensor([755.8667,   5.2634, -43.2201,  34.3302,  45.6027, -47.4429, -64.5198,\n",
      "         80.7516,   6.9560, -48.5752])\n"
     ]
    }
   ],
   "source": [
    "#| hide\n",
    "\n",
    "# Test with random data (torch)\n",
    "foo = torch.rand(10, 3)\n",
    "bar = torch.rand(10, 3)\n",
    "print(forecast_error(foo, bar, 1))\n",
    "print(percent_forecast_error(foo, bar, 1))"
   ]
  },
  {
   "cell_type": "code",
   "execution_count": 10,
   "metadata": {},
   "outputs": [],
   "source": [
    "#|eval: false\n",
    "#|hide\n",
    "from nbdev import *\n",
    "nbdev_export()"
   ]
  }
 ],
 "metadata": {
  "kernelspec": {
   "display_name": "Python 3",
   "language": "python",
   "name": "python3"
  },
  "language_info": {
   "codemirror_mode": {
    "name": "ipython",
    "version": 3
   },
   "file_extension": ".py",
   "mimetype": "text/x-python",
   "name": "python",
   "nbconvert_exporter": "python",
   "pygments_lexer": "ipython3",
   "version": "3.9.16"
  },
  "orig_nbformat": 4
 },
 "nbformat": 4,
 "nbformat_minor": 2
}
