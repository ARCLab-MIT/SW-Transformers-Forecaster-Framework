{
 "cells": [
  {
   "cell_type": "code",
   "execution_count": 49,
   "metadata": {},
   "outputs": [],
   "source": [
    "#|default_exp losses\n",
    "#|export\n",
    "import torch\n",
    "import numpy as np\n",
    "import pandas as pd\n",
    "from tsai.basics import *\n"
   ]
  },
  {
   "cell_type": "markdown",
   "metadata": {},
   "source": [
    "# Custom losses"
   ]
  },
  {
   "cell_type": "code",
   "execution_count": 50,
   "metadata": {},
   "outputs": [],
   "source": [
    "#|export\n",
    "class Loss():\n",
    "    def __init__(self, ranges, weights, device):\n",
    "        self.device = device\n",
    "        self.ranges = torch.Tensor(ranges).to(device)\n",
    "        self.weights = torch.Tensor(weights).to(device)\n",
    "    \n",
    "    def weighted_loss_tensor(self, target):\n",
    "        batch, variables, horizon = target.shape # Shape (32, 4, 6)\n",
    "        variable, range, interval = self.ranges.shape # Shape (4, 4, 2)\n",
    "\n",
    "        target_shaped = torch.reshape(target, (batch, variables, 1, horizon)) # Shape (32, 4, 6) -> (32, 4, 1, 6)\n",
    "        ranges_shaped = torch.reshape(self.ranges, (variable, range, 1, interval)) # Shape (4, 4, 2) -> (4, 4, 1, 2)\n",
    "\n",
    "        weights_tensor = (1 + ((ranges_shaped[..., 0] <= target_shaped) * (target_shaped <= ranges_shaped[...,1]))).float().to(self.device)\n",
    "        \n",
    "        return torch.einsum('r,bvrh->bvh', self.weights, weights_tensor)"
   ]
  },
  {
   "cell_type": "code",
   "execution_count": 46,
   "metadata": {},
   "outputs": [],
   "source": [
    "#|export\n",
    "class wMSELoss(nn.Module, Loss):\n",
    "    def __init__(self, ranges, weights, device):\n",
    "        nn.Module.__init__(self)\n",
    "        Loss.__init__(self ,ranges, weights, device)\n",
    "\n",
    "    \n",
    "    def forward(self, y_pred, y_true):\n",
    "        return torch.mean(self.weighted_loss_tensor(y_true) * (y_pred - y_true) ** 2).cpu()"
   ]
  },
  {
   "cell_type": "code",
   "execution_count": 47,
   "metadata": {},
   "outputs": [],
   "source": [
    "#|export\n",
    "class wMAELoss(nn.Module, Loss):\n",
    "    def __init__(self, ranges, weights, device):\n",
    "        nn.Module.__init__(self)\n",
    "        Loss.__init__(self ,ranges, weights, device)\n",
    "\n",
    "    \n",
    "    def forward(self, y_pred, y_true):\n",
    "        return torch.mean(self.weighted_loss_tensor(y_true) * torch.abs(y_pred - y_true)).cpu()"
   ]
  },
  {
   "cell_type": "code",
   "execution_count": 56,
   "metadata": {},
   "outputs": [],
   "source": [
    "#|export\n",
    "\n",
    "class LossMetrics():\n",
    "    def __init__(self, loss:Loss, ranges, weights, device):\n",
    "        self.ranges = ranges\n",
    "        self.weights = weights\n",
    "        self.loss = loss\n",
    "        self.device = device\n",
    "    \n",
    "    def loss_low(self, input, target):\n",
    "        return self.loss(self.ranges, weights=[self.weights[0],0,0,0], device=self.device).forward(input, target)\n",
    "    def loss_moderate(self, input, target):\n",
    "        return self.loss(self.ranges, weights=[0, self.weights[1],0,0], device=self.device).forward(input, target)\n",
    "    def loss_elevated(self, input, target):\n",
    "        return self.loss(self.ranges, weights=[0,0,self.weights[2],0], device=self.device).forward(input, target)\n",
    "    def loss_high(self, input, target):\n",
    "        return self.loss(self.ranges, weights=[0,0,0,self.weights[3]], device=self.device).forward(input, target)\n",
    "\n",
    "    def metrics(self):\n",
    "        return [self.mse_loss_low, self.mse_loss_moderate, self.mse_loss_elevated, self.mse_loss_high]"
   ]
  },
  {
   "cell_type": "code",
   "execution_count": 48,
   "metadata": {},
   "outputs": [
    {
     "name": "stdout",
     "output_type": "stream",
     "text": [
      "tensor(0.6575)\n"
     ]
    }
   ],
   "source": [
    "weights = [0.1, 0.2, 0.3, 0.4]\n",
    "ranges = [[[0, 1], [0, 1], [0, 1], [0, 1]],\n",
    "            [[0, 1], [0, 1], [0, 1], [0, 1]],\n",
    "            [[0, 1], [0, 1], [0, 1], [0, 1]],\n",
    "            [[0, 1], [0, 1], [0, 1], [0, 1]]]\n",
    "\n",
    "loss = wMAELoss(ranges, weights, torch.device('cuda:0'))\n",
    "\n",
    "input = torch.rand(32, 4, 6).to('cuda:0')\n",
    "target = torch.rand(32, 4, 6).to('cuda:0')\n",
    "\n",
    "print(loss.forward(input, target))"
   ]
  }
 ],
 "metadata": {
  "kernelspec": {
   "display_name": "Python 3",
   "language": "python",
   "name": "python3"
  },
  "language_info": {
   "codemirror_mode": {
    "name": "ipython",
    "version": 3
   },
   "file_extension": ".py",
   "mimetype": "text/x-python",
   "name": "python",
   "nbconvert_exporter": "python",
   "pygments_lexer": "ipython3",
   "version": "3.9.17"
  }
 },
 "nbformat": 4,
 "nbformat_minor": 2
}
