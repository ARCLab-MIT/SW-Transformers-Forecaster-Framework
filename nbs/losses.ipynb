{
 "cells": [
  {
   "cell_type": "code",
   "execution_count": 10,
   "metadata": {},
   "outputs": [],
   "source": [
    "#|default_exp losses\n",
    "\n",
    "#|export\n",
    "import torch\n",
    "import numpy as np\n",
    "import pandas as pd\n",
    "from tsai.basics import *\n"
   ]
  },
  {
   "cell_type": "markdown",
   "metadata": {},
   "source": [
    "# Custom losses"
   ]
  },
  {
   "cell_type": "code",
   "execution_count": 11,
   "metadata": {},
   "outputs": [],
   "source": [
    "#|export\n",
    "class Loss(nn.Module):\n",
    "    def __init__(self, ranges, weights, solact_levels):\n",
    "        super().__init__()\n",
    "        self.register_buffer('ranges', torch.Tensor(ranges))\n",
    "        self.register_buffer('weights', torch.Tensor(weights))\n",
    "        self.solact_levels = solact_levels\n",
    "\n",
    "    def weighted_loss_tensor(self, target):        \n",
    "        batch, variables, horizon = target.shape  # Example shape (32, 4, 6)\n",
    "        variable, range, interval = self.ranges.shape  # Example shape (4, 4, 2)\n",
    "\n",
    "        target_shaped = torch.reshape(target, (batch, variables, 1, horizon))  # Example shape (32, 4, 6) -> (32, 4, 1, 6)\n",
    "        ranges_shaped = torch.reshape(self.ranges, (variable, range, 1, interval))  # Example shape (4, 4, 2) -> (4, 4, 1, 2)\n",
    "\n",
    "        weights_tensor = ((ranges_shaped[..., 0] <= target_shaped) & (target_shaped <= ranges_shaped[..., 1])).float()\n",
    "        \n",
    "        return torch.einsum('r,bvrh->bvh', self.weights, weights_tensor)\n",
    "    \n",
    "    def loss_measure(self, y_pred, y_true):\n",
    "        return NotImplementedError\n",
    "    \n",
    "    def forward(self, y_pred, y_true):\n",
    "        error = self.loss_measure(y_pred, y_true)\n",
    "        weights = self.weighted_loss_tensor(y_true)\n",
    "        loss = (error * weights).mean()\n",
    "        \n",
    "        return loss\n",
    "    \n",
    "    # Metrics\n",
    "    def _loss_call(self, input, target, weight_idx):\n",
    "        loss_copy = deepcopy(self)\n",
    "        \n",
    "        for i in range(len(loss_copy.weights)):\n",
    "            if i != weight_idx:\n",
    "                loss_copy.weights[i] = 0\n",
    "\n",
    "        return loss_copy(input, target)\n",
    "\n",
    "    def metrics(self):\n",
    "        metrics = []\n",
    "        for i, name in enumerate(['low', 'moderate', 'elevated', 'high']):\n",
    "            def make_metric(self, input, target, i=i):\n",
    "                return self._loss_call(input, target, i)\n",
    "            \n",
    "            make_metric.__name__ = name\n",
    "            metric_func = types.MethodType(make_metric, self)\n",
    "            metrics.append(metric_func)\n",
    "        \n",
    "        return metrics"
   ]
  },
  {
   "cell_type": "code",
   "execution_count": 12,
   "metadata": {},
   "outputs": [],
   "source": [
    "# Test\n",
    "device = 'cpu'\n",
    "ranges = np.array([[[0, 1], [1, 2], [2, 3], [3, 4]],\n",
    "                   [[0, 1], [1, 2], [2, 3], [3, 4]],\n",
    "                   [[0, 1], [1, 2], [2, 3], [3, 4]],\n",
    "                   [[0, 1], [1, 2], [2, 3], [3, 4]]])\n",
    "\n",
    "weights = np.array([1, 2, 3, 4])\n",
    "\n",
    "target = torch.tensor([[[0.5, 1.5, 2.5, 3.5, 4.5, 5.5],\n",
    "                        [0.5, 1.5, 2.5, 3.5, 4.5, 5.5],\n",
    "                        [0.5, 1.5, 2.5, 3.5, 4.5, 5.5],\n",
    "                        [0.5, 1.5, 2.5, 3.5, 4.5, 5.5]]], device=device, dtype=torch.float32)\n",
    "\n",
    "input = target + 1\n",
    "\n",
    "expected_weights = torch.tensor([[[1, 2, 3, 4, 0, 0],\n",
    "                                 [1, 2, 3, 4, 0, 0],\n",
    "                                 [1, 2, 3, 4, 0, 0],\n",
    "                                 [1, 2, 3, 4, 0, 0]]], device=device, dtype=torch.float32)\n",
    "\n",
    "solact_levels = ['low', 'moderate', 'elevated', 'high']\n",
    "\n",
    "\n",
    "\n",
    "\n",
    "def test_LossWeightsTensor():\n",
    "    loss = Loss(ranges, weights, solact_levels).to(device)\n",
    "    result = loss.weighted_loss_tensor(target)\n",
    "\n",
    "    assert torch.equal(result, expected_weights), f\"Expected {expected_weights}, but got {result}\"\n",
    "    print(f\"Loss Tensor test passed!\")"
   ]
  },
  {
   "cell_type": "code",
   "execution_count": 13,
   "metadata": {},
   "outputs": [],
   "source": [
    "#|export\n",
    "class wMSELoss(Loss):\n",
    "    def __init__(self, ranges, weights, solact_levels):\n",
    "        super().__init__(ranges, weights, solact_levels)\n",
    "\n",
    "    \n",
    "    def loss_measure(self, y_pred, y_true):\n",
    "        return (y_true-y_pred)**2"
   ]
  },
  {
   "cell_type": "code",
   "execution_count": 14,
   "metadata": {},
   "outputs": [],
   "source": [
    "#|export\n",
    "class wMAELoss(Loss):\n",
    "    def __init__(self, ranges, weights, solact_levels):\n",
    "        super().__init__(ranges, weights, solact_levels)\n",
    "\n",
    "    \n",
    "    def loss_measure(self, y_pred, y_true):\n",
    "        return torch.abs(y_true-y_pred)"
   ]
  },
  {
   "cell_type": "code",
   "execution_count": 15,
   "metadata": {},
   "outputs": [],
   "source": [
    "# Test\n",
    "\n",
    "def check_loss_function(loss_class, expected_value):\n",
    "    loss = loss_class(ranges, weights, solact_levels).to(device)\n",
    "    result = loss(input, target)\n",
    "\n",
    "    assert torch.isclose(result, expected_value), f\"Expected {expected_value}, but got {result}\"\n",
    "    print(f\"{type(loss).__name__} test passed!\")\n",
    "\n",
    "def test_wMSELoss():\n",
    "    expected_mse_loss = torch.mean(expected_weights * (input - target) ** 2)\n",
    "    check_loss_function(wMSELoss, expected_mse_loss)\n",
    "\n",
    "def test_wMAELoss():\n",
    "    expected_mae_loss = torch.mean(expected_weights * torch.abs(input - target))\n",
    "    check_loss_function(wMAELoss, expected_mae_loss)"
   ]
  },
  {
   "cell_type": "code",
   "execution_count": 16,
   "metadata": {},
   "outputs": [],
   "source": [
    "# Test\n",
    "def test_LossMetrics():\n",
    "    loss = wMAELoss(ranges, weights, solact_levels).to(device)\n",
    "    metrics = loss.metrics()\n",
    "\n",
    "    loss_value = loss(input, target)\n",
    "    metrics_values = [metric(input, target) for metric in metrics]\n",
    "\n",
    "    assert torch.isclose(loss_value, sum(metrics_values)), f\"Expected {loss_value}, but got {sum(metrics_values)} ({metrics_values})\"\n",
    "    print(\"LossMetrics test passed!\")"
   ]
  },
  {
   "cell_type": "code",
   "execution_count": 17,
   "metadata": {},
   "outputs": [
    {
     "name": "stdout",
     "output_type": "stream",
     "text": [
      "Loss Tensor test passed!\n",
      "wMSELoss test passed!\n",
      "wMAELoss test passed!\n",
      "LossMetrics test passed!\n"
     ]
    }
   ],
   "source": [
    "#| test\n",
    "test_LossWeightsTensor()\n",
    "test_wMSELoss()\n",
    "test_wMAELoss()\n",
    "test_LossMetrics()\n"
   ]
  }
 ],
 "metadata": {
  "kernelspec": {
   "display_name": "Python 3",
   "language": "python",
   "name": "python3"
  },
  "language_info": {
   "codemirror_mode": {
    "name": "ipython",
    "version": 3
   },
   "file_extension": ".py",
   "mimetype": "text/x-python",
   "name": "python",
   "nbconvert_exporter": "python",
   "pygments_lexer": "ipython3",
   "version": "3.9.17"
  }
 },
 "nbformat": 4,
 "nbformat_minor": 2
}
