{
 "cells": [
  {
   "cell_type": "code",
   "execution_count": 75,
   "metadata": {},
   "outputs": [],
   "source": [
    "#|default_exp losses\n",
    "#|export\n",
    "import torch\n",
    "import numpy as np\n",
    "import pandas as pd\n",
    "from tsai.basics import *\n"
   ]
  },
  {
   "cell_type": "markdown",
   "metadata": {},
   "source": [
    "# Custom losses"
   ]
  },
  {
   "cell_type": "code",
   "execution_count": 76,
   "metadata": {},
   "outputs": [],
   "source": [
    "#|export\n",
    "class Loss:\n",
    "    def __init__(self, ranges, weights, device):\n",
    "        self.device = device\n",
    "        self.ranges = torch.Tensor(ranges).to(device)\n",
    "        self.weights = torch.Tensor(weights).to(device)\n",
    "\n",
    "    def set_weights(self, weights):\n",
    "        self.weights = torch.Tensor(weights).to(device)\n",
    "\n",
    "    \n",
    "    def weighted_loss_tensor(self, target):\n",
    "        batch, variables, horizon = target.shape # Shape (32, 4, 6)\n",
    "        variable, range, interval = self.ranges.shape # Shape (4, 4, 2)\n",
    "\n",
    "        target_shaped = torch.reshape(target, (batch, variables, 1, horizon)) # Shape (32, 4, 6) -> (32, 4, 1, 6)\n",
    "        ranges_shaped = torch.reshape(self.ranges, (variable, range, 1, interval)) # Shape (4, 4, 2) -> (4, 4, 1, 2)\n",
    "\n",
    "        weights_tensor = (1 + ((ranges_shaped[..., 0] <= target_shaped) * (target_shaped <= ranges_shaped[...,1]))).float().to(self.device)\n",
    "        \n",
    "        return torch.einsum('r,bvrh->bvh', self.weights, weights_tensor)"
   ]
  },
  {
   "cell_type": "code",
   "execution_count": 77,
   "metadata": {},
   "outputs": [],
   "source": [
    "#|export\n",
    "class wMSELoss(nn.Module, Loss):\n",
    "    def __init__(self, ranges, weights, device):\n",
    "        nn.Module.__init__(self)\n",
    "        Loss.__init__(self ,ranges, weights, device)\n",
    "\n",
    "    \n",
    "    def forward(self, y_pred, y_true):\n",
    "        return torch.mean(self.weighted_loss_tensor(y_true) * (y_pred - y_true) ** 2).cpu()"
   ]
  },
  {
   "cell_type": "code",
   "execution_count": 78,
   "metadata": {},
   "outputs": [],
   "source": [
    "#|export\n",
    "class wMAELoss(nn.Module, Loss):\n",
    "    def __init__(self, ranges, weights, device):\n",
    "        nn.Module.__init__(self)\n",
    "        Loss.__init__(self ,ranges, weights, device)\n",
    "\n",
    "    \n",
    "    def forward(self, y_pred, y_true):\n",
    "        return torch.mean(self.weighted_loss_tensor(y_true) * torch.abs(y_pred - y_true)).cpu()"
   ]
  },
  {
   "cell_type": "code",
   "execution_count": 79,
   "metadata": {},
   "outputs": [],
   "source": [
    "#|export\n",
    "\n",
    "class LossMetrics:\n",
    "    def __init__(self, loss_func:Loss):\n",
    "        self.loss_func = loss_func\n",
    "\n",
    "    def loss_call(self, input, target, weight_idx):\n",
    "        loss_copy = deepcopy(self.loss_func)\n",
    "\n",
    "        weights = torch.zeros(len(loss_copy.weights))\n",
    "        weights[weight_idx] = loss_copy.weights[weight_idx]\n",
    "        loss_copy.set_weights(weights)\n",
    "        \n",
    "        return loss_copy.forward(input, target)\n",
    "\n",
    "    def loss_low(self, input, target):\n",
    "        return self.loss_call(input, target, 0)\n",
    "\n",
    "    def loss_moderate(self, input, target):\n",
    "        return self.loss_call(input, target, 1)\n",
    "\n",
    "    def loss_elevated(self, input, target):\n",
    "        return self.loss_call(input, target, 2)\n",
    "\n",
    "    def loss_high(self, input, target):\n",
    "        return self.loss_call(input, target, 3)\n",
    "\n",
    "    def metrics(self):\n",
    "        return [self.loss_low, self.loss_moderate, self.loss_elevated, self.loss_high]"
   ]
  },
  {
   "cell_type": "code",
   "execution_count": 80,
   "metadata": {},
   "outputs": [
    {
     "name": "stdout",
     "output_type": "stream",
     "text": [
      "tensor(0.6679)\n",
      "tensor(0.0668)\n",
      "tensor(0.1336)\n",
      "tensor(0.2004)\n",
      "tensor(0.2671)\n"
     ]
    }
   ],
   "source": [
    "weights = [0.1, 0.2, 0.3, 0.4]\n",
    "ranges = [[[0, 1], [0, 1], [0, 1], [0, 1]],\n",
    "            [[0, 1], [0, 1], [0, 1], [0, 1]],\n",
    "            [[0, 1], [0, 1], [0, 1], [0, 1]],\n",
    "            [[0, 1], [0, 1], [0, 1], [0, 1]]]\n",
    "\n",
    "loss = wMAELoss(ranges, weights, torch.device('cuda:0'))\n",
    "metrics = LossMetrics(wMAELoss)\n",
    "loss_metrics = LossMetrics(loss)\n",
    "\n",
    "# Get metrics functions\n",
    "metrics = loss_metrics.metrics()\n",
    "\n",
    "input = torch.rand(32, 4, 6).to('cuda:0')\n",
    "target = torch.rand(32, 4, 6).to('cuda:0')\n",
    "\n",
    "print(loss.forward(input, target))\n",
    "for metric in metrics:\n",
    "    print(metric(input, target))"
   ]
  }
 ],
 "metadata": {
  "kernelspec": {
   "display_name": "Python 3",
   "language": "python",
   "name": "python3"
  },
  "language_info": {
   "codemirror_mode": {
    "name": "ipython",
    "version": 3
   },
   "file_extension": ".py",
   "mimetype": "text/x-python",
   "name": "python",
   "nbconvert_exporter": "python",
   "pygments_lexer": "ipython3",
   "version": "3.9.17"
  }
 },
 "nbformat": 4,
 "nbformat_minor": 2
}
